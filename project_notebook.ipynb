{
 "cells": [
  {
   "attachments": {},
   "cell_type": "markdown",
   "metadata": {},
   "source": [
    "## Heart disease patients clasterization\n",
    "Tymoteusz Urban, Karolina Mączka"
   ]
  },
  {
   "attachments": {},
   "cell_type": "markdown",
   "metadata": {},
   "source": [
    "We are going to explore the usefulness of unsupervised clustering algorithms to help doctors understand which treatments might work with their patients. We are going to cluster anonymized data of patients who have been diagnosed with heart disease. Patients with similar characteristics might respond to the same treatments, and doctors could benefit from learning about the treatment outcomes of patients like those they are treating"
   ]
  },
  {
   "cell_type": "code",
   "execution_count": 3,
   "metadata": {},
   "outputs": [],
   "source": [
    "import pandas as pd\n",
    "import numpy as np\n",
    "import seaborn as sns\n",
    "import matplotlib.pyplot as plt\n",
    "from statsmodels.stats.outliers_influence import variance_inflation_factor\n",
    "from sklearn.decomposition import PCA\n",
    "from sklearn.preprocessing import StandardScaler, Normalizer, MinMaxScaler\n",
    "from sklearn.cluster import KMeans\n",
    "from sklearn.metrics import silhouette_score, calinski_harabasz_score, davies_bouldin_score\n",
    "from sklearn.model_selection import train_test_split\n",
    "from scipy.cluster.hierarchy import fcluster, linkage\n",
    "from tabulate import tabulate\n",
    "from scipy.cluster.hierarchy import dendrogram, linkage\n",
    "import plotly.graph_objects as go\n",
    "from sklearn.cluster import AgglomerativeClustering, KMeans\n",
    "from sklearn.metrics import pairwise_distances_argmin_min\n",
    "from sklearn.cluster import SpectralClustering"
   ]
  },
  {
   "cell_type": "code",
   "execution_count": 4,
   "metadata": {},
   "outputs": [],
   "source": [
    "import warnings\n",
    "warnings.filterwarnings(\"ignore\")"
   ]
  },
  {
   "attachments": {},
   "cell_type": "markdown",
   "metadata": {},
   "source": [
    "### Dividing dataset and saving to files"
   ]
  },
  {
   "cell_type": "code",
   "execution_count": 5,
   "metadata": {},
   "outputs": [],
   "source": [
    "df = pd.read_csv('heart_disease_patients.csv')\n",
    "\n",
    "# Split data into train and remaining data\n",
    "X_train, X_remaining = train_test_split(df, test_size=0.3, random_state=42)\n",
    "\n",
    "# Split remaining data into test and validation sets\n",
    "X_test, X_validation = train_test_split(X_remaining, test_size=0.5, random_state=42)\n",
    "\n",
    "train_df = pd.DataFrame(X_train) \n",
    "train_df.to_csv('train.csv', index=False)\n",
    "\n",
    "test_df = pd.DataFrame(X_test)  \n",
    "test_df.to_csv('test.csv', index=False)\n",
    "\n",
    "validation_df = pd.DataFrame(X_validation)\n",
    "validation_df.to_csv('validation.csv', index=False)"
   ]
  },
  {
   "attachments": {},
   "cell_type": "markdown",
   "metadata": {},
   "source": [
    "## Data exploration"
   ]
  },
  {
   "cell_type": "code",
   "execution_count": 6,
   "metadata": {},
   "outputs": [
    {
     "name": "stdout",
     "output_type": "stream",
     "text": [
      "   age  sex  cp  trestbps  chol  fbs  restecg  thalach  exang  oldpeak  slope\n",
      "0   65    1   1       138   282    1        2      174      0      1.4      2\n",
      "1   62    1   4       120   267    0        0       99      1      1.8      2\n",
      "2   57    1   3       150   168    0        0      174      0      1.6      1\n",
      "3   57    1   4       140   192    0        0      148      0      0.4      2\n",
      "4   58    0   4       100   248    0        2      122      0      1.0      2\n"
     ]
    }
   ],
   "source": [
    "df = pd.read_csv('train.csv')\n",
    "df.drop('id', axis=1, inplace=True)\n",
    "raw_data = df.copy()\n",
    "print(df.head())"
   ]
  },
  {
   "attachments": {},
   "cell_type": "markdown",
   "metadata": {},
   "source": [
    "1. age - age in years (male risk > 55, female risk > 65)\n",
    "2. sex - sex (1 = male; 0 = female)\n",
    "3. cp - chest pain type (1 = typical angina; 2 = atypical angina; 3 = non-anginal pain; 4 = asymptomatic)\n",
    "4. trestbps - resting blood pressure (in mm Hg on admission to the hospital, 120 norm, 130< overpressure)\n",
    "5. chol - serum cholestoral in mg/dl\n",
    "6. fbs - fasting blood sugar > 120 mg/dl (1 = true; 0 = false, diabetes)\n",
    "7. restecg - resting electrocardiographic results (0 = normal; 1 = having ST-T; 2 = hypertrophy)\n",
    "8. thalach - maximum heart rate achieved\n",
    "9. exang - exercise induced angina (1 = yes; 0 = no)\n",
    "10. oldpeak - ST depression induced by exercise relative to rest\n",
    "11. slope - the slope of the peak exercise ST segment (1 = upsloping; 2 = flat; 3 = downsloping, flat is good)"
   ]
  },
  {
   "cell_type": "code",
   "execution_count": 31,
   "metadata": {},
   "outputs": [
    {
     "name": "stdout",
     "output_type": "stream",
     "text": [
      "<class 'pandas.core.frame.DataFrame'>\n",
      "RangeIndex: 212 entries, 0 to 211\n",
      "Data columns (total 11 columns):\n",
      " #   Column    Non-Null Count  Dtype  \n",
      "---  ------    --------------  -----  \n",
      " 0   age       212 non-null    int64  \n",
      " 1   sex       212 non-null    int64  \n",
      " 2   cp        212 non-null    int64  \n",
      " 3   trestbps  212 non-null    int64  \n",
      " 4   chol      212 non-null    int64  \n",
      " 5   fbs       212 non-null    int64  \n",
      " 6   restecg   212 non-null    int64  \n",
      " 7   thalach   212 non-null    int64  \n",
      " 8   exang     212 non-null    int64  \n",
      " 9   oldpeak   212 non-null    float64\n",
      " 10  slope     212 non-null    int64  \n",
      "dtypes: float64(1), int64(10)\n",
      "memory usage: 18.3 KB\n"
     ]
    }
   ],
   "source": [
    "df.info()"
   ]
  },
  {
   "cell_type": "code",
   "execution_count": 32,
   "metadata": {},
   "outputs": [
    {
     "data": {
      "text/plain": [
       "age         0\n",
       "sex         0\n",
       "cp          0\n",
       "trestbps    0\n",
       "chol        0\n",
       "fbs         0\n",
       "restecg     0\n",
       "thalach     0\n",
       "exang       0\n",
       "oldpeak     0\n",
       "slope       0\n",
       "dtype: int64"
      ]
     },
     "execution_count": 32,
     "metadata": {},
     "output_type": "execute_result"
    }
   ],
   "source": [
    "df.isnull().sum()"
   ]
  },
  {
   "attachments": {},
   "cell_type": "markdown",
   "metadata": {},
   "source": [
    "There are no null values, all variables are clean and properly prepared."
   ]
  },
  {
   "cell_type": "code",
   "execution_count": 33,
   "metadata": {},
   "outputs": [
    {
     "data": {
      "text/plain": [
       "array([[<AxesSubplot:title={'center':'age'}>,\n",
       "        <AxesSubplot:title={'center':'sex'}>,\n",
       "        <AxesSubplot:title={'center':'cp'}>],\n",
       "       [<AxesSubplot:title={'center':'trestbps'}>,\n",
       "        <AxesSubplot:title={'center':'chol'}>,\n",
       "        <AxesSubplot:title={'center':'fbs'}>],\n",
       "       [<AxesSubplot:title={'center':'restecg'}>,\n",
       "        <AxesSubplot:title={'center':'thalach'}>,\n",
       "        <AxesSubplot:title={'center':'exang'}>],\n",
       "       [<AxesSubplot:title={'center':'oldpeak'}>,\n",
       "        <AxesSubplot:title={'center':'slope'}>, <AxesSubplot:>]],\n",
       "      dtype=object)"
      ]
     },
     "execution_count": 33,
     "metadata": {},
     "output_type": "execute_result"
    },
    {
     "data": {
      "image/png": "[encoded data removed]",
      "text/plain": [
       "<Figure size 1000x1000 with 12 Axes>"
      ]
     },
     "metadata": {},
     "output_type": "display_data"
    }
   ],
   "source": [
    "df.hist(figsize=(10,10))"
   ]
  },
  {
   "attachments": {},
   "cell_type": "markdown",
   "metadata": {},
   "source": [
    "Restecg looks strange as if there were no values 1. Let's check it:"
   ]
  },
  {
   "cell_type": "code",
   "execution_count": 34,
   "metadata": {},
   "outputs": [
    {
     "data": {
      "text/plain": [
       "0    107\n",
       "2    104\n",
       "1      1\n",
       "Name: restecg, dtype: int64"
      ]
     },
     "execution_count": 34,
     "metadata": {},
     "output_type": "execute_result"
    }
   ],
   "source": [
    "df['restecg'].value_counts()"
   ]
  },
  {
   "attachments": {},
   "cell_type": "markdown",
   "metadata": {},
   "source": [
    "There is only one value 1, so we will treat it as an outlier."
   ]
  },
  {
   "cell_type": "code",
   "execution_count": 35,
   "metadata": {},
   "outputs": [
    {
     "data": {
      "text/plain": [
       "<AxesSubplot:>"
      ]
     },
     "execution_count": 35,
     "metadata": {},
     "output_type": "execute_result"
    },
    {
     "data": {
      "image/png": "[encoded data removed]",
      "text/plain": [
       "<Figure size 640x480 with 2 Axes>"
      ]
     },
     "metadata": {},
     "output_type": "display_data"
    }
   ],
   "source": [
    "sns.heatmap(df.corr())"
   ]
  },
  {
   "attachments": {},
   "cell_type": "markdown",
   "metadata": {},
   "source": [
    "There is quite high correlation between oldpeak and slope and also between cp and exang, but is it big enough to delete any of the columns? Also, there is negative correlation between thalach and: age, cp, exang, oldpeak, slope."
   ]
  },
  {
   "cell_type": "code",
   "execution_count": 36,
   "metadata": {},
   "outputs": [
    {
     "name": "stdout",
     "output_type": "stream",
     "text": [
      "oldpeak and slope correlation: 0.5458278072906251\n",
      "cp and exang correlation: 0.39916290470356114\n",
      "thalach and age correlation: -0.4149739322362583\n",
      "thalach and slope correlation: -0.40644733868269406\n"
     ]
    }
   ],
   "source": [
    "print(f\"oldpeak and slope correlation: {df[['oldpeak', 'slope']].corr().iloc[0,1]}\")\n",
    "print(f\"cp and exang correlation: {df[['cp', 'exang']].corr().iloc[0,1]}\")\n",
    "print(f\"thalach and age correlation: {df[['thalach', 'age']].corr().iloc[0,1]}\")\n",
    "print(f\"thalach and slope correlation: {df[['thalach', 'slope']].corr().iloc[0,1]}\")"
   ]
  },
  {
   "cell_type": "code",
   "execution_count": 37,
   "metadata": {},
   "outputs": [
    {
     "data": {
      "image/png": "[encoded data removed]",
      "text/plain": [
       "<Figure size 640x480 with 1 Axes>"
      ]
     },
     "metadata": {},
     "output_type": "display_data"
    }
   ],
   "source": [
    "plt.scatter(df['slope'], df['oldpeak'])\n",
    "plt.xlabel('Slope')\n",
    "plt.ylabel('Oldpeak')\n",
    "plt.show()"
   ]
  },
  {
   "cell_type": "code",
   "execution_count": 38,
   "metadata": {},
   "outputs": [
    {
     "data": {
      "image/png": "[encoded data removed]",
      "text/plain": [
       "<Figure size 640x480 with 1 Axes>"
      ]
     },
     "metadata": {},
     "output_type": "display_data"
    }
   ],
   "source": [
    "plt.scatter(df['thalach'], df['age'])\n",
    "plt.xlabel('Thalach')\n",
    "plt.ylabel('Age')\n",
    "plt.show()"
   ]
  },
  {
   "cell_type": "code",
   "execution_count": 39,
   "metadata": {},
   "outputs": [],
   "source": [
    "# Another approach\n",
    "def calc_vif(X):\n",
    "    vif = pd.DataFrame()\n",
    "    vif[\"variables\"] = X.columns\n",
    "    vif[\"VIF\"] = [variance_inflation_factor(X.values, i) for i in range(X.shape[1])]\n",
    "    return vif"
   ]
  },
  {
   "cell_type": "code",
   "execution_count": 40,
   "metadata": {},
   "outputs": [
    {
     "data": {
      "text/html": [
       "<div>\n",
       "<style scoped>\n",
       "    .dataframe tbody tr th:only-of-type {\n",
       "        vertical-align: middle;\n",
       "    }\n",
       "\n",
       "    .dataframe tbody tr th {\n",
       "        vertical-align: top;\n",
       "    }\n",
       "\n",
       "    .dataframe thead th {\n",
       "        text-align: right;\n",
       "    }\n",
       "</style>\n",
       "<table border=\"1\" class=\"dataframe\">\n",
       "  <thead>\n",
       "    <tr style=\"text-align: right;\">\n",
       "      <th></th>\n",
       "      <th>variables</th>\n",
       "      <th>VIF</th>\n",
       "    </tr>\n",
       "  </thead>\n",
       "  <tbody>\n",
       "    <tr>\n",
       "      <th>0</th>\n",
       "      <td>age</td>\n",
       "      <td>39.346948</td>\n",
       "    </tr>\n",
       "    <tr>\n",
       "      <th>1</th>\n",
       "      <td>sex</td>\n",
       "      <td>3.095046</td>\n",
       "    </tr>\n",
       "    <tr>\n",
       "      <th>2</th>\n",
       "      <td>cp</td>\n",
       "      <td>12.426015</td>\n",
       "    </tr>\n",
       "    <tr>\n",
       "      <th>3</th>\n",
       "      <td>trestbps</td>\n",
       "      <td>58.483209</td>\n",
       "    </tr>\n",
       "    <tr>\n",
       "      <th>4</th>\n",
       "      <td>chol</td>\n",
       "      <td>29.128519</td>\n",
       "    </tr>\n",
       "    <tr>\n",
       "      <th>5</th>\n",
       "      <td>fbs</td>\n",
       "      <td>1.200710</td>\n",
       "    </tr>\n",
       "    <tr>\n",
       "      <th>6</th>\n",
       "      <td>restecg</td>\n",
       "      <td>2.136638</td>\n",
       "    </tr>\n",
       "    <tr>\n",
       "      <th>7</th>\n",
       "      <td>thalach</td>\n",
       "      <td>34.543369</td>\n",
       "    </tr>\n",
       "    <tr>\n",
       "      <th>8</th>\n",
       "      <td>exang</td>\n",
       "      <td>2.081073</td>\n",
       "    </tr>\n",
       "    <tr>\n",
       "      <th>9</th>\n",
       "      <td>oldpeak</td>\n",
       "      <td>2.720192</td>\n",
       "    </tr>\n",
       "    <tr>\n",
       "      <th>10</th>\n",
       "      <td>slope</td>\n",
       "      <td>10.545887</td>\n",
       "    </tr>\n",
       "  </tbody>\n",
       "</table>\n",
       "</div>"
      ],
      "text/plain": [
       "   variables        VIF\n",
       "0        age  39.346948\n",
       "1        sex   3.095046\n",
       "2         cp  12.426015\n",
       "3   trestbps  58.483209\n",
       "4       chol  29.128519\n",
       "5        fbs   1.200710\n",
       "6    restecg   2.136638\n",
       "7    thalach  34.543369\n",
       "8      exang   2.081073\n",
       "9    oldpeak   2.720192\n",
       "10     slope  10.545887"
      ]
     },
     "execution_count": 40,
     "metadata": {},
     "output_type": "execute_result"
    }
   ],
   "source": [
    "calc_vif(df)"
   ]
  },
  {
   "attachments": {},
   "cell_type": "markdown",
   "metadata": {},
   "source": [
    "Should variables should we drop? According to traditional correlation between variables it could be slope, but after calculating VIF it seems that age, trestbps, chol and thalach are highly correlated with the other variables. So from both methods thalach column is a candidate to delete. But after rethinking we came to conclusion with our validation team that none should be deleted as all are essential for medical analysis "
   ]
  },
  {
   "attachments": {},
   "cell_type": "markdown",
   "metadata": {},
   "source": [
    "## Preprocessing"
   ]
  },
  {
   "cell_type": "code",
   "execution_count": 7,
   "metadata": {},
   "outputs": [],
   "source": [
    "# Outliers removal - replace lower_bound and upper_bound, only numeric columns\n",
    "def replace_outliers(data, k=1.5):\n",
    "    \"\"\"\n",
    "    Removes outliers from a pandas DataFrame using the interquartile range (IQR) method.\n",
    "\n",
    "    :param data: dataframe\n",
    "    :param k: A multiplier to adjust the outlier threshold. By default, k is set to 1.5.\n",
    "    :return: dataframe\n",
    "    \"\"\"\n",
    "    data = data.copy()\n",
    "    for col in ['age', 'trestbps', 'chol', 'thalach', 'oldpeak']:\n",
    "        q1, q3 = np.percentile(data[col], [25, 75])\n",
    "        iqr = q3 - q1\n",
    "        lower_bound = q1 - k * iqr\n",
    "        upper_bound = q3 + k * iqr\n",
    "        mask = (data[col] < lower_bound)\n",
    "        data.loc[mask, col] = lower_bound\n",
    "        mask = (data[col] > upper_bound)\n",
    "        data.loc[mask, col] = upper_bound\n",
    "\n",
    "    value = data['restecg'].value_counts().idxmax()\n",
    "    data['restecg'] = data['restecg'].replace(1, value)\n",
    "    data['restecg'] = data['restecg'].replace(2, 1) # make restecg a boolean column: 1 means hypertrophy, 0 is normal\n",
    "\n",
    "    return data"
   ]
  },
  {
   "cell_type": "code",
   "execution_count": 8,
   "metadata": {},
   "outputs": [],
   "source": [
    "#  Encode chest pain type column\n",
    "def encode_columns(data):\n",
    "    \"\"\"\n",
    "        Encodes categorical column cp (chest pain type)\n",
    "\n",
    "    :param data: Dataframe\n",
    "    :return: Encoded dataframe\n",
    "    \"\"\"\n",
    "    data = data.copy()\n",
    "    data = pd.get_dummies(data, columns=['cp'], prefix='cp', dtype=int)\n",
    "    data = data.rename(columns={\"cp_1\": \"cp_typ_ang\", \"cp_2\": \"cp_atyp_ang\", \"cp_3\": \"cp_non_ang\", \"cp_4\": \"cp_asympt\"})\n",
    "    return data"
   ]
  },
  {
   "cell_type": "code",
   "execution_count": 9,
   "metadata": {},
   "outputs": [],
   "source": [
    "# Instead manual deletion of variables we could use PCA for reducing dimensionality\n",
    "def remove_overshadowing(data):\n",
    "    \"\"\"\n",
    "    Performs Principal Component Analysis (PCA) on a given dataset.\n",
    "\n",
    "    :param data: dataframe\n",
    "    :return:\n",
    "            A reduced version of the input DataFrame, containing the first n principal components\n",
    "            where n is the smallest number of components that explain at least 95% of the variance in the data.\n",
    "            The columns of the new DataFrame are named \"PC1\", \"PC2\", etc.\n",
    "\n",
    "    \"\"\"\n",
    "    # Perform PCA\n",
    "    pca = PCA()\n",
    "    X_pca = pca.fit_transform(data)\n",
    "\n",
    "    # Determine the number of principal components to retain\n",
    "    explained_variances = pca.explained_variance_ratio_\n",
    "    cumulative_variances = np.cumsum(explained_variances)\n",
    "    n_components = np.argmax(cumulative_variances > 0.95) + 1\n",
    "\n",
    "    # Retain the first n principal components\n",
    "    X_reduced = X_pca[:, :n_components]\n",
    "\n",
    "    # Convert back to a pandas DataFrame\n",
    "    df_reduced = pd.DataFrame(X_reduced, columns=[\"PC\"+str(i) for i in range(1, n_components+1)])\n",
    "    \n",
    "    return df_reduced"
   ]
  },
  {
   "attachments": {},
   "cell_type": "markdown",
   "metadata": {},
   "source": [
    "We will also need to scale our data - we can try 3 different ways to do it. We will test it later."
   ]
  },
  {
   "cell_type": "code",
   "execution_count": 10,
   "metadata": {},
   "outputs": [],
   "source": [
    "def standarize(X):\n",
    "    scaler = StandardScaler()\n",
    "    X_scaled = scaler.fit_transform(X)\n",
    "    X = pd.DataFrame(X_scaled, columns=X.columns)\n",
    "    return X\n",
    "\n",
    "\n",
    "def normalize(X):\n",
    "    normalizer = Normalizer()\n",
    "    X_normalized = normalizer.fit_transform(X)\n",
    "    X = pd.DataFrame(X_normalized, columns=X.columns)\n",
    "    return X\n",
    "\n",
    "\n",
    "def minmax(X):\n",
    "    minmaxer = MinMaxScaler()\n",
    "    X_scaled = minmaxer.fit_transform(X)\n",
    "    X = pd.DataFrame(X_scaled, columns=X.columns, index=X.index)\n",
    "    return X"
   ]
  },
  {
   "cell_type": "code",
   "execution_count": 11,
   "metadata": {},
   "outputs": [
    {
     "data": {
      "text/html": [
       "<div>\n",
       "<style scoped>\n",
       "    .dataframe tbody tr th:only-of-type {\n",
       "        vertical-align: middle;\n",
       "    }\n",
       "\n",
       "    .dataframe tbody tr th {\n",
       "        vertical-align: top;\n",
       "    }\n",
       "\n",
       "    .dataframe thead th {\n",
       "        text-align: right;\n",
       "    }\n",
       "</style>\n",
       "<table border=\"1\" class=\"dataframe\">\n",
       "  <thead>\n",
       "    <tr style=\"text-align: right;\">\n",
       "      <th></th>\n",
       "      <th>age</th>\n",
       "      <th>sex</th>\n",
       "      <th>cp</th>\n",
       "      <th>trestbps</th>\n",
       "      <th>chol</th>\n",
       "      <th>fbs</th>\n",
       "      <th>restecg</th>\n",
       "      <th>thalach</th>\n",
       "      <th>exang</th>\n",
       "      <th>oldpeak</th>\n",
       "      <th>slope</th>\n",
       "    </tr>\n",
       "  </thead>\n",
       "  <tbody>\n",
       "    <tr>\n",
       "      <th>0</th>\n",
       "      <td>65</td>\n",
       "      <td>1</td>\n",
       "      <td>1</td>\n",
       "      <td>138</td>\n",
       "      <td>282</td>\n",
       "      <td>1</td>\n",
       "      <td>2</td>\n",
       "      <td>174</td>\n",
       "      <td>0</td>\n",
       "      <td>1.4</td>\n",
       "      <td>2</td>\n",
       "    </tr>\n",
       "    <tr>\n",
       "      <th>1</th>\n",
       "      <td>62</td>\n",
       "      <td>1</td>\n",
       "      <td>4</td>\n",
       "      <td>120</td>\n",
       "      <td>267</td>\n",
       "      <td>0</td>\n",
       "      <td>0</td>\n",
       "      <td>99</td>\n",
       "      <td>1</td>\n",
       "      <td>1.8</td>\n",
       "      <td>2</td>\n",
       "    </tr>\n",
       "    <tr>\n",
       "      <th>2</th>\n",
       "      <td>57</td>\n",
       "      <td>1</td>\n",
       "      <td>3</td>\n",
       "      <td>150</td>\n",
       "      <td>168</td>\n",
       "      <td>0</td>\n",
       "      <td>0</td>\n",
       "      <td>174</td>\n",
       "      <td>0</td>\n",
       "      <td>1.6</td>\n",
       "      <td>1</td>\n",
       "    </tr>\n",
       "    <tr>\n",
       "      <th>3</th>\n",
       "      <td>57</td>\n",
       "      <td>1</td>\n",
       "      <td>4</td>\n",
       "      <td>140</td>\n",
       "      <td>192</td>\n",
       "      <td>0</td>\n",
       "      <td>0</td>\n",
       "      <td>148</td>\n",
       "      <td>0</td>\n",
       "      <td>0.4</td>\n",
       "      <td>2</td>\n",
       "    </tr>\n",
       "    <tr>\n",
       "      <th>4</th>\n",
       "      <td>58</td>\n",
       "      <td>0</td>\n",
       "      <td>4</td>\n",
       "      <td>100</td>\n",
       "      <td>248</td>\n",
       "      <td>0</td>\n",
       "      <td>2</td>\n",
       "      <td>122</td>\n",
       "      <td>0</td>\n",
       "      <td>1.0</td>\n",
       "      <td>2</td>\n",
       "    </tr>\n",
       "    <tr>\n",
       "      <th>...</th>\n",
       "      <td>...</td>\n",
       "      <td>...</td>\n",
       "      <td>...</td>\n",
       "      <td>...</td>\n",
       "      <td>...</td>\n",
       "      <td>...</td>\n",
       "      <td>...</td>\n",
       "      <td>...</td>\n",
       "      <td>...</td>\n",
       "      <td>...</td>\n",
       "      <td>...</td>\n",
       "    </tr>\n",
       "    <tr>\n",
       "      <th>207</th>\n",
       "      <td>54</td>\n",
       "      <td>1</td>\n",
       "      <td>2</td>\n",
       "      <td>192</td>\n",
       "      <td>283</td>\n",
       "      <td>0</td>\n",
       "      <td>2</td>\n",
       "      <td>195</td>\n",
       "      <td>0</td>\n",
       "      <td>0.0</td>\n",
       "      <td>1</td>\n",
       "    </tr>\n",
       "    <tr>\n",
       "      <th>208</th>\n",
       "      <td>67</td>\n",
       "      <td>1</td>\n",
       "      <td>4</td>\n",
       "      <td>125</td>\n",
       "      <td>254</td>\n",
       "      <td>1</td>\n",
       "      <td>0</td>\n",
       "      <td>163</td>\n",
       "      <td>0</td>\n",
       "      <td>0.2</td>\n",
       "      <td>2</td>\n",
       "    </tr>\n",
       "    <tr>\n",
       "      <th>209</th>\n",
       "      <td>59</td>\n",
       "      <td>1</td>\n",
       "      <td>4</td>\n",
       "      <td>140</td>\n",
       "      <td>177</td>\n",
       "      <td>0</td>\n",
       "      <td>0</td>\n",
       "      <td>162</td>\n",
       "      <td>1</td>\n",
       "      <td>0.0</td>\n",
       "      <td>1</td>\n",
       "    </tr>\n",
       "    <tr>\n",
       "      <th>210</th>\n",
       "      <td>61</td>\n",
       "      <td>1</td>\n",
       "      <td>4</td>\n",
       "      <td>140</td>\n",
       "      <td>207</td>\n",
       "      <td>0</td>\n",
       "      <td>2</td>\n",
       "      <td>138</td>\n",
       "      <td>1</td>\n",
       "      <td>1.9</td>\n",
       "      <td>1</td>\n",
       "    </tr>\n",
       "    <tr>\n",
       "      <th>211</th>\n",
       "      <td>57</td>\n",
       "      <td>0</td>\n",
       "      <td>4</td>\n",
       "      <td>128</td>\n",
       "      <td>303</td>\n",
       "      <td>0</td>\n",
       "      <td>2</td>\n",
       "      <td>159</td>\n",
       "      <td>0</td>\n",
       "      <td>0.0</td>\n",
       "      <td>1</td>\n",
       "    </tr>\n",
       "  </tbody>\n",
       "</table>\n",
       "<p>212 rows × 11 columns</p>\n",
       "</div>"
      ],
      "text/plain": [
       "     age  sex  cp  trestbps  chol  fbs  restecg  thalach  exang  oldpeak  \\\n",
       "0     65    1   1       138   282    1        2      174      0      1.4   \n",
       "1     62    1   4       120   267    0        0       99      1      1.8   \n",
       "2     57    1   3       150   168    0        0      174      0      1.6   \n",
       "3     57    1   4       140   192    0        0      148      0      0.4   \n",
       "4     58    0   4       100   248    0        2      122      0      1.0   \n",
       "..   ...  ...  ..       ...   ...  ...      ...      ...    ...      ...   \n",
       "207   54    1   2       192   283    0        2      195      0      0.0   \n",
       "208   67    1   4       125   254    1        0      163      0      0.2   \n",
       "209   59    1   4       140   177    0        0      162      1      0.0   \n",
       "210   61    1   4       140   207    0        2      138      1      1.9   \n",
       "211   57    0   4       128   303    0        2      159      0      0.0   \n",
       "\n",
       "     slope  \n",
       "0        2  \n",
       "1        2  \n",
       "2        1  \n",
       "3        2  \n",
       "4        2  \n",
       "..     ...  \n",
       "207      1  \n",
       "208      2  \n",
       "209      1  \n",
       "210      1  \n",
       "211      1  \n",
       "\n",
       "[212 rows x 11 columns]"
      ]
     },
     "execution_count": 11,
     "metadata": {},
     "output_type": "execute_result"
    }
   ],
   "source": [
    "df"
   ]
  },
  {
   "cell_type": "code",
   "execution_count": 12,
   "metadata": {},
   "outputs": [
    {
     "data": {
      "text/html": [
       "<div>\n",
       "<style scoped>\n",
       "    .dataframe tbody tr th:only-of-type {\n",
       "        vertical-align: middle;\n",
       "    }\n",
       "\n",
       "    .dataframe tbody tr th {\n",
       "        vertical-align: top;\n",
       "    }\n",
       "\n",
       "    .dataframe thead th {\n",
       "        text-align: right;\n",
       "    }\n",
       "</style>\n",
       "<table border=\"1\" class=\"dataframe\">\n",
       "  <thead>\n",
       "    <tr style=\"text-align: right;\">\n",
       "      <th></th>\n",
       "      <th>age</th>\n",
       "      <th>sex</th>\n",
       "      <th>trestbps</th>\n",
       "      <th>chol</th>\n",
       "      <th>fbs</th>\n",
       "      <th>restecg</th>\n",
       "      <th>thalach</th>\n",
       "      <th>exang</th>\n",
       "      <th>oldpeak</th>\n",
       "      <th>slope</th>\n",
       "      <th>cp_typ_ang</th>\n",
       "      <th>cp_atyp_ang</th>\n",
       "      <th>cp_non_ang</th>\n",
       "      <th>cp_asympt</th>\n",
       "    </tr>\n",
       "  </thead>\n",
       "  <tbody>\n",
       "    <tr>\n",
       "      <th>0</th>\n",
       "      <td>65.0</td>\n",
       "      <td>1</td>\n",
       "      <td>138.00</td>\n",
       "      <td>282.0</td>\n",
       "      <td>1</td>\n",
       "      <td>1</td>\n",
       "      <td>174.0</td>\n",
       "      <td>0</td>\n",
       "      <td>1.4</td>\n",
       "      <td>2</td>\n",
       "      <td>1</td>\n",
       "      <td>0</td>\n",
       "      <td>0</td>\n",
       "      <td>0</td>\n",
       "    </tr>\n",
       "    <tr>\n",
       "      <th>1</th>\n",
       "      <td>62.0</td>\n",
       "      <td>1</td>\n",
       "      <td>120.00</td>\n",
       "      <td>267.0</td>\n",
       "      <td>0</td>\n",
       "      <td>0</td>\n",
       "      <td>99.0</td>\n",
       "      <td>1</td>\n",
       "      <td>1.8</td>\n",
       "      <td>2</td>\n",
       "      <td>0</td>\n",
       "      <td>0</td>\n",
       "      <td>0</td>\n",
       "      <td>1</td>\n",
       "    </tr>\n",
       "    <tr>\n",
       "      <th>2</th>\n",
       "      <td>57.0</td>\n",
       "      <td>1</td>\n",
       "      <td>150.00</td>\n",
       "      <td>168.0</td>\n",
       "      <td>0</td>\n",
       "      <td>0</td>\n",
       "      <td>174.0</td>\n",
       "      <td>0</td>\n",
       "      <td>1.6</td>\n",
       "      <td>1</td>\n",
       "      <td>0</td>\n",
       "      <td>0</td>\n",
       "      <td>1</td>\n",
       "      <td>0</td>\n",
       "    </tr>\n",
       "    <tr>\n",
       "      <th>3</th>\n",
       "      <td>57.0</td>\n",
       "      <td>1</td>\n",
       "      <td>140.00</td>\n",
       "      <td>192.0</td>\n",
       "      <td>0</td>\n",
       "      <td>0</td>\n",
       "      <td>148.0</td>\n",
       "      <td>0</td>\n",
       "      <td>0.4</td>\n",
       "      <td>2</td>\n",
       "      <td>0</td>\n",
       "      <td>0</td>\n",
       "      <td>0</td>\n",
       "      <td>1</td>\n",
       "    </tr>\n",
       "    <tr>\n",
       "      <th>4</th>\n",
       "      <td>58.0</td>\n",
       "      <td>0</td>\n",
       "      <td>100.00</td>\n",
       "      <td>248.0</td>\n",
       "      <td>0</td>\n",
       "      <td>1</td>\n",
       "      <td>122.0</td>\n",
       "      <td>0</td>\n",
       "      <td>1.0</td>\n",
       "      <td>2</td>\n",
       "      <td>0</td>\n",
       "      <td>0</td>\n",
       "      <td>0</td>\n",
       "      <td>1</td>\n",
       "    </tr>\n",
       "    <tr>\n",
       "      <th>...</th>\n",
       "      <td>...</td>\n",
       "      <td>...</td>\n",
       "      <td>...</td>\n",
       "      <td>...</td>\n",
       "      <td>...</td>\n",
       "      <td>...</td>\n",
       "      <td>...</td>\n",
       "      <td>...</td>\n",
       "      <td>...</td>\n",
       "      <td>...</td>\n",
       "      <td>...</td>\n",
       "      <td>...</td>\n",
       "      <td>...</td>\n",
       "      <td>...</td>\n",
       "    </tr>\n",
       "    <tr>\n",
       "      <th>207</th>\n",
       "      <td>54.0</td>\n",
       "      <td>1</td>\n",
       "      <td>171.25</td>\n",
       "      <td>283.0</td>\n",
       "      <td>0</td>\n",
       "      <td>1</td>\n",
       "      <td>195.0</td>\n",
       "      <td>0</td>\n",
       "      <td>0.0</td>\n",
       "      <td>1</td>\n",
       "      <td>0</td>\n",
       "      <td>1</td>\n",
       "      <td>0</td>\n",
       "      <td>0</td>\n",
       "    </tr>\n",
       "    <tr>\n",
       "      <th>208</th>\n",
       "      <td>67.0</td>\n",
       "      <td>1</td>\n",
       "      <td>125.00</td>\n",
       "      <td>254.0</td>\n",
       "      <td>1</td>\n",
       "      <td>0</td>\n",
       "      <td>163.0</td>\n",
       "      <td>0</td>\n",
       "      <td>0.2</td>\n",
       "      <td>2</td>\n",
       "      <td>0</td>\n",
       "      <td>0</td>\n",
       "      <td>0</td>\n",
       "      <td>1</td>\n",
       "    </tr>\n",
       "    <tr>\n",
       "      <th>209</th>\n",
       "      <td>59.0</td>\n",
       "      <td>1</td>\n",
       "      <td>140.00</td>\n",
       "      <td>177.0</td>\n",
       "      <td>0</td>\n",
       "      <td>0</td>\n",
       "      <td>162.0</td>\n",
       "      <td>1</td>\n",
       "      <td>0.0</td>\n",
       "      <td>1</td>\n",
       "      <td>0</td>\n",
       "      <td>0</td>\n",
       "      <td>0</td>\n",
       "      <td>1</td>\n",
       "    </tr>\n",
       "    <tr>\n",
       "      <th>210</th>\n",
       "      <td>61.0</td>\n",
       "      <td>1</td>\n",
       "      <td>140.00</td>\n",
       "      <td>207.0</td>\n",
       "      <td>0</td>\n",
       "      <td>1</td>\n",
       "      <td>138.0</td>\n",
       "      <td>1</td>\n",
       "      <td>1.9</td>\n",
       "      <td>1</td>\n",
       "      <td>0</td>\n",
       "      <td>0</td>\n",
       "      <td>0</td>\n",
       "      <td>1</td>\n",
       "    </tr>\n",
       "    <tr>\n",
       "      <th>211</th>\n",
       "      <td>57.0</td>\n",
       "      <td>0</td>\n",
       "      <td>128.00</td>\n",
       "      <td>303.0</td>\n",
       "      <td>0</td>\n",
       "      <td>1</td>\n",
       "      <td>159.0</td>\n",
       "      <td>0</td>\n",
       "      <td>0.0</td>\n",
       "      <td>1</td>\n",
       "      <td>0</td>\n",
       "      <td>0</td>\n",
       "      <td>0</td>\n",
       "      <td>1</td>\n",
       "    </tr>\n",
       "  </tbody>\n",
       "</table>\n",
       "<p>212 rows × 14 columns</p>\n",
       "</div>"
      ],
      "text/plain": [
       "      age  sex  trestbps   chol  fbs  restecg  thalach  exang  oldpeak  slope  \\\n",
       "0    65.0    1    138.00  282.0    1        1    174.0      0      1.4      2   \n",
       "1    62.0    1    120.00  267.0    0        0     99.0      1      1.8      2   \n",
       "2    57.0    1    150.00  168.0    0        0    174.0      0      1.6      1   \n",
       "3    57.0    1    140.00  192.0    0        0    148.0      0      0.4      2   \n",
       "4    58.0    0    100.00  248.0    0        1    122.0      0      1.0      2   \n",
       "..    ...  ...       ...    ...  ...      ...      ...    ...      ...    ...   \n",
       "207  54.0    1    171.25  283.0    0        1    195.0      0      0.0      1   \n",
       "208  67.0    1    125.00  254.0    1        0    163.0      0      0.2      2   \n",
       "209  59.0    1    140.00  177.0    0        0    162.0      1      0.0      1   \n",
       "210  61.0    1    140.00  207.0    0        1    138.0      1      1.9      1   \n",
       "211  57.0    0    128.00  303.0    0        1    159.0      0      0.0      1   \n",
       "\n",
       "     cp_typ_ang  cp_atyp_ang  cp_non_ang  cp_asympt  \n",
       "0             1            0           0          0  \n",
       "1             0            0           0          1  \n",
       "2             0            0           1          0  \n",
       "3             0            0           0          1  \n",
       "4             0            0           0          1  \n",
       "..          ...          ...         ...        ...  \n",
       "207           0            1           0          0  \n",
       "208           0            0           0          1  \n",
       "209           0            0           0          1  \n",
       "210           0            0           0          1  \n",
       "211           0            0           0          1  \n",
       "\n",
       "[212 rows x 14 columns]"
      ]
     },
     "execution_count": 12,
     "metadata": {},
     "output_type": "execute_result"
    }
   ],
   "source": [
    "# Let's check our functions\n",
    "df_prep = replace_outliers(raw_data)\n",
    "df_prep = encode_columns(df_prep)\n",
    "df_prep"
   ]
  },
  {
   "cell_type": "code",
   "execution_count": 13,
   "metadata": {},
   "outputs": [
    {
     "data": {
      "text/html": [
       "<div>\n",
       "<style scoped>\n",
       "    .dataframe tbody tr th:only-of-type {\n",
       "        vertical-align: middle;\n",
       "    }\n",
       "\n",
       "    .dataframe tbody tr th {\n",
       "        vertical-align: top;\n",
       "    }\n",
       "\n",
       "    .dataframe thead th {\n",
       "        text-align: right;\n",
       "    }\n",
       "</style>\n",
       "<table border=\"1\" class=\"dataframe\">\n",
       "  <thead>\n",
       "    <tr style=\"text-align: right;\">\n",
       "      <th></th>\n",
       "      <th>age</th>\n",
       "      <th>sex</th>\n",
       "      <th>trestbps</th>\n",
       "      <th>chol</th>\n",
       "      <th>fbs</th>\n",
       "      <th>restecg</th>\n",
       "      <th>thalach</th>\n",
       "      <th>exang</th>\n",
       "      <th>oldpeak</th>\n",
       "      <th>slope</th>\n",
       "      <th>cp_typ_ang</th>\n",
       "      <th>cp_atyp_ang</th>\n",
       "      <th>cp_non_ang</th>\n",
       "      <th>cp_asympt</th>\n",
       "    </tr>\n",
       "  </thead>\n",
       "  <tbody>\n",
       "    <tr>\n",
       "      <th>0</th>\n",
       "      <td>0.720930</td>\n",
       "      <td>1.0</td>\n",
       "      <td>0.569579</td>\n",
       "      <td>0.617169</td>\n",
       "      <td>1.0</td>\n",
       "      <td>1.0</td>\n",
       "      <td>0.793103</td>\n",
       "      <td>0.0</td>\n",
       "      <td>0.350</td>\n",
       "      <td>0.5</td>\n",
       "      <td>1.0</td>\n",
       "      <td>0.0</td>\n",
       "      <td>0.0</td>\n",
       "      <td>0.0</td>\n",
       "    </tr>\n",
       "    <tr>\n",
       "      <th>1</th>\n",
       "      <td>0.651163</td>\n",
       "      <td>1.0</td>\n",
       "      <td>0.336570</td>\n",
       "      <td>0.547564</td>\n",
       "      <td>0.0</td>\n",
       "      <td>0.0</td>\n",
       "      <td>0.054187</td>\n",
       "      <td>1.0</td>\n",
       "      <td>0.450</td>\n",
       "      <td>0.5</td>\n",
       "      <td>0.0</td>\n",
       "      <td>0.0</td>\n",
       "      <td>0.0</td>\n",
       "      <td>1.0</td>\n",
       "    </tr>\n",
       "    <tr>\n",
       "      <th>2</th>\n",
       "      <td>0.534884</td>\n",
       "      <td>1.0</td>\n",
       "      <td>0.724919</td>\n",
       "      <td>0.088167</td>\n",
       "      <td>0.0</td>\n",
       "      <td>0.0</td>\n",
       "      <td>0.793103</td>\n",
       "      <td>0.0</td>\n",
       "      <td>0.400</td>\n",
       "      <td>0.0</td>\n",
       "      <td>0.0</td>\n",
       "      <td>0.0</td>\n",
       "      <td>1.0</td>\n",
       "      <td>0.0</td>\n",
       "    </tr>\n",
       "    <tr>\n",
       "      <th>3</th>\n",
       "      <td>0.534884</td>\n",
       "      <td>1.0</td>\n",
       "      <td>0.595469</td>\n",
       "      <td>0.199536</td>\n",
       "      <td>0.0</td>\n",
       "      <td>0.0</td>\n",
       "      <td>0.536946</td>\n",
       "      <td>0.0</td>\n",
       "      <td>0.100</td>\n",
       "      <td>0.5</td>\n",
       "      <td>0.0</td>\n",
       "      <td>0.0</td>\n",
       "      <td>0.0</td>\n",
       "      <td>1.0</td>\n",
       "    </tr>\n",
       "    <tr>\n",
       "      <th>4</th>\n",
       "      <td>0.558140</td>\n",
       "      <td>0.0</td>\n",
       "      <td>0.077670</td>\n",
       "      <td>0.459397</td>\n",
       "      <td>0.0</td>\n",
       "      <td>1.0</td>\n",
       "      <td>0.280788</td>\n",
       "      <td>0.0</td>\n",
       "      <td>0.250</td>\n",
       "      <td>0.5</td>\n",
       "      <td>0.0</td>\n",
       "      <td>0.0</td>\n",
       "      <td>0.0</td>\n",
       "      <td>1.0</td>\n",
       "    </tr>\n",
       "    <tr>\n",
       "      <th>...</th>\n",
       "      <td>...</td>\n",
       "      <td>...</td>\n",
       "      <td>...</td>\n",
       "      <td>...</td>\n",
       "      <td>...</td>\n",
       "      <td>...</td>\n",
       "      <td>...</td>\n",
       "      <td>...</td>\n",
       "      <td>...</td>\n",
       "      <td>...</td>\n",
       "      <td>...</td>\n",
       "      <td>...</td>\n",
       "      <td>...</td>\n",
       "      <td>...</td>\n",
       "    </tr>\n",
       "    <tr>\n",
       "      <th>207</th>\n",
       "      <td>0.465116</td>\n",
       "      <td>1.0</td>\n",
       "      <td>1.000000</td>\n",
       "      <td>0.621810</td>\n",
       "      <td>0.0</td>\n",
       "      <td>1.0</td>\n",
       "      <td>1.000000</td>\n",
       "      <td>0.0</td>\n",
       "      <td>0.000</td>\n",
       "      <td>0.0</td>\n",
       "      <td>0.0</td>\n",
       "      <td>1.0</td>\n",
       "      <td>0.0</td>\n",
       "      <td>0.0</td>\n",
       "    </tr>\n",
       "    <tr>\n",
       "      <th>208</th>\n",
       "      <td>0.767442</td>\n",
       "      <td>1.0</td>\n",
       "      <td>0.401294</td>\n",
       "      <td>0.487239</td>\n",
       "      <td>1.0</td>\n",
       "      <td>0.0</td>\n",
       "      <td>0.684729</td>\n",
       "      <td>0.0</td>\n",
       "      <td>0.050</td>\n",
       "      <td>0.5</td>\n",
       "      <td>0.0</td>\n",
       "      <td>0.0</td>\n",
       "      <td>0.0</td>\n",
       "      <td>1.0</td>\n",
       "    </tr>\n",
       "    <tr>\n",
       "      <th>209</th>\n",
       "      <td>0.581395</td>\n",
       "      <td>1.0</td>\n",
       "      <td>0.595469</td>\n",
       "      <td>0.129930</td>\n",
       "      <td>0.0</td>\n",
       "      <td>0.0</td>\n",
       "      <td>0.674877</td>\n",
       "      <td>1.0</td>\n",
       "      <td>0.000</td>\n",
       "      <td>0.0</td>\n",
       "      <td>0.0</td>\n",
       "      <td>0.0</td>\n",
       "      <td>0.0</td>\n",
       "      <td>1.0</td>\n",
       "    </tr>\n",
       "    <tr>\n",
       "      <th>210</th>\n",
       "      <td>0.627907</td>\n",
       "      <td>1.0</td>\n",
       "      <td>0.595469</td>\n",
       "      <td>0.269142</td>\n",
       "      <td>0.0</td>\n",
       "      <td>1.0</td>\n",
       "      <td>0.438424</td>\n",
       "      <td>1.0</td>\n",
       "      <td>0.475</td>\n",
       "      <td>0.0</td>\n",
       "      <td>0.0</td>\n",
       "      <td>0.0</td>\n",
       "      <td>0.0</td>\n",
       "      <td>1.0</td>\n",
       "    </tr>\n",
       "    <tr>\n",
       "      <th>211</th>\n",
       "      <td>0.534884</td>\n",
       "      <td>0.0</td>\n",
       "      <td>0.440129</td>\n",
       "      <td>0.714617</td>\n",
       "      <td>0.0</td>\n",
       "      <td>1.0</td>\n",
       "      <td>0.645320</td>\n",
       "      <td>0.0</td>\n",
       "      <td>0.000</td>\n",
       "      <td>0.0</td>\n",
       "      <td>0.0</td>\n",
       "      <td>0.0</td>\n",
       "      <td>0.0</td>\n",
       "      <td>1.0</td>\n",
       "    </tr>\n",
       "  </tbody>\n",
       "</table>\n",
       "<p>212 rows × 14 columns</p>\n",
       "</div>"
      ],
      "text/plain": [
       "          age  sex  trestbps      chol  fbs  restecg   thalach  exang  \\\n",
       "0    0.720930  1.0  0.569579  0.617169  1.0      1.0  0.793103    0.0   \n",
       "1    0.651163  1.0  0.336570  0.547564  0.0      0.0  0.054187    1.0   \n",
       "2    0.534884  1.0  0.724919  0.088167  0.0      0.0  0.793103    0.0   \n",
       "3    0.534884  1.0  0.595469  0.199536  0.0      0.0  0.536946    0.0   \n",
       "4    0.558140  0.0  0.077670  0.459397  0.0      1.0  0.280788    0.0   \n",
       "..        ...  ...       ...       ...  ...      ...       ...    ...   \n",
       "207  0.465116  1.0  1.000000  0.621810  0.0      1.0  1.000000    0.0   \n",
       "208  0.767442  1.0  0.401294  0.487239  1.0      0.0  0.684729    0.0   \n",
       "209  0.581395  1.0  0.595469  0.129930  0.0      0.0  0.674877    1.0   \n",
       "210  0.627907  1.0  0.595469  0.269142  0.0      1.0  0.438424    1.0   \n",
       "211  0.534884  0.0  0.440129  0.714617  0.0      1.0  0.645320    0.0   \n",
       "\n",
       "     oldpeak  slope  cp_typ_ang  cp_atyp_ang  cp_non_ang  cp_asympt  \n",
       "0      0.350    0.5         1.0          0.0         0.0        0.0  \n",
       "1      0.450    0.5         0.0          0.0         0.0        1.0  \n",
       "2      0.400    0.0         0.0          0.0         1.0        0.0  \n",
       "3      0.100    0.5         0.0          0.0         0.0        1.0  \n",
       "4      0.250    0.5         0.0          0.0         0.0        1.0  \n",
       "..       ...    ...         ...          ...         ...        ...  \n",
       "207    0.000    0.0         0.0          1.0         0.0        0.0  \n",
       "208    0.050    0.5         0.0          0.0         0.0        1.0  \n",
       "209    0.000    0.0         0.0          0.0         0.0        1.0  \n",
       "210    0.475    0.0         0.0          0.0         0.0        1.0  \n",
       "211    0.000    0.0         0.0          0.0         0.0        1.0  \n",
       "\n",
       "[212 rows x 14 columns]"
      ]
     },
     "execution_count": 13,
     "metadata": {},
     "output_type": "execute_result"
    }
   ],
   "source": [
    "minmax(df_prep)"
   ]
  },
  {
   "cell_type": "code",
   "execution_count": 14,
   "metadata": {},
   "outputs": [
    {
     "data": {
      "text/plain": [
       "array([[<Axes: title={'center': 'age'}>, <Axes: title={'center': 'sex'}>,\n",
       "        <Axes: title={'center': 'trestbps'}>,\n",
       "        <Axes: title={'center': 'chol'}>],\n",
       "       [<Axes: title={'center': 'fbs'}>,\n",
       "        <Axes: title={'center': 'restecg'}>,\n",
       "        <Axes: title={'center': 'thalach'}>,\n",
       "        <Axes: title={'center': 'exang'}>],\n",
       "       [<Axes: title={'center': 'oldpeak'}>,\n",
       "        <Axes: title={'center': 'slope'}>,\n",
       "        <Axes: title={'center': 'cp_typ_ang'}>,\n",
       "        <Axes: title={'center': 'cp_atyp_ang'}>],\n",
       "       [<Axes: title={'center': 'cp_non_ang'}>,\n",
       "        <Axes: title={'center': 'cp_asympt'}>, <Axes: >, <Axes: >]],\n",
       "      dtype=object)"
      ]
     },
     "execution_count": 14,
     "metadata": {},
     "output_type": "execute_result"
    },
    {
     "data": {
      "image/png": "[encoded data removed]",
      "text/plain": [
       "<Figure size 720x720 with 16 Axes>"
      ]
     },
     "metadata": {
      "needs_background": "light"
     },
     "output_type": "display_data"
    }
   ],
   "source": [
    "df_prep.hist(figsize=(10,10))"
   ]
  },
  {
   "cell_type": "code",
   "execution_count": 15,
   "metadata": {},
   "outputs": [
    {
     "data": {
      "text/html": [
       "<div>\n",
       "<style scoped>\n",
       "    .dataframe tbody tr th:only-of-type {\n",
       "        vertical-align: middle;\n",
       "    }\n",
       "\n",
       "    .dataframe tbody tr th {\n",
       "        vertical-align: top;\n",
       "    }\n",
       "\n",
       "    .dataframe thead th {\n",
       "        text-align: right;\n",
       "    }\n",
       "</style>\n",
       "<table border=\"1\" class=\"dataframe\">\n",
       "  <thead>\n",
       "    <tr style=\"text-align: right;\">\n",
       "      <th></th>\n",
       "      <th>PC1</th>\n",
       "      <th>PC2</th>\n",
       "      <th>PC3</th>\n",
       "      <th>PC4</th>\n",
       "      <th>PC5</th>\n",
       "      <th>PC6</th>\n",
       "      <th>PC7</th>\n",
       "      <th>PC8</th>\n",
       "      <th>PC9</th>\n",
       "      <th>PC10</th>\n",
       "    </tr>\n",
       "  </thead>\n",
       "  <tbody>\n",
       "    <tr>\n",
       "      <th>0</th>\n",
       "      <td>-0.132617</td>\n",
       "      <td>0.426787</td>\n",
       "      <td>0.433962</td>\n",
       "      <td>0.891037</td>\n",
       "      <td>0.798188</td>\n",
       "      <td>-0.388303</td>\n",
       "      <td>0.527402</td>\n",
       "      <td>0.477042</td>\n",
       "      <td>-0.117244</td>\n",
       "      <td>-0.160859</td>\n",
       "    </tr>\n",
       "    <tr>\n",
       "      <th>1</th>\n",
       "      <td>0.910406</td>\n",
       "      <td>-0.637786</td>\n",
       "      <td>0.181633</td>\n",
       "      <td>-0.365014</td>\n",
       "      <td>0.062484</td>\n",
       "      <td>0.035384</td>\n",
       "      <td>-0.166866</td>\n",
       "      <td>-0.103250</td>\n",
       "      <td>0.145059</td>\n",
       "      <td>-0.310922</td>\n",
       "    </tr>\n",
       "    <tr>\n",
       "      <th>2</th>\n",
       "      <td>-0.799262</td>\n",
       "      <td>-0.282356</td>\n",
       "      <td>0.649245</td>\n",
       "      <td>-0.174409</td>\n",
       "      <td>-0.256103</td>\n",
       "      <td>-0.225534</td>\n",
       "      <td>-0.086299</td>\n",
       "      <td>-0.021977</td>\n",
       "      <td>0.214752</td>\n",
       "      <td>0.316420</td>\n",
       "    </tr>\n",
       "    <tr>\n",
       "      <th>3</th>\n",
       "      <td>0.282105</td>\n",
       "      <td>-0.522200</td>\n",
       "      <td>-0.096707</td>\n",
       "      <td>-0.033347</td>\n",
       "      <td>-0.163912</td>\n",
       "      <td>-0.664081</td>\n",
       "      <td>-0.012473</td>\n",
       "      <td>-0.203405</td>\n",
       "      <td>0.036688</td>\n",
       "      <td>-0.112053</td>\n",
       "    </tr>\n",
       "    <tr>\n",
       "      <th>4</th>\n",
       "      <td>0.382437</td>\n",
       "      <td>0.677170</td>\n",
       "      <td>-0.691201</td>\n",
       "      <td>-0.180314</td>\n",
       "      <td>-0.086393</td>\n",
       "      <td>-0.344277</td>\n",
       "      <td>-0.123727</td>\n",
       "      <td>-0.218404</td>\n",
       "      <td>-0.274267</td>\n",
       "      <td>-0.327804</td>\n",
       "    </tr>\n",
       "    <tr>\n",
       "      <th>...</th>\n",
       "      <td>...</td>\n",
       "      <td>...</td>\n",
       "      <td>...</td>\n",
       "      <td>...</td>\n",
       "      <td>...</td>\n",
       "      <td>...</td>\n",
       "      <td>...</td>\n",
       "      <td>...</td>\n",
       "      <td>...</td>\n",
       "      <td>...</td>\n",
       "    </tr>\n",
       "    <tr>\n",
       "      <th>207</th>\n",
       "      <td>-0.465364</td>\n",
       "      <td>0.065390</td>\n",
       "      <td>-0.357721</td>\n",
       "      <td>1.063195</td>\n",
       "      <td>-0.126054</td>\n",
       "      <td>0.416202</td>\n",
       "      <td>0.122289</td>\n",
       "      <td>-0.048420</td>\n",
       "      <td>0.456757</td>\n",
       "      <td>0.366300</td>\n",
       "    </tr>\n",
       "    <tr>\n",
       "      <th>208</th>\n",
       "      <td>0.248736</td>\n",
       "      <td>-0.460210</td>\n",
       "      <td>0.045179</td>\n",
       "      <td>-0.020140</td>\n",
       "      <td>0.167596</td>\n",
       "      <td>-0.678671</td>\n",
       "      <td>0.897341</td>\n",
       "      <td>-0.256596</td>\n",
       "      <td>-0.059555</td>\n",
       "      <td>-0.280164</td>\n",
       "    </tr>\n",
       "    <tr>\n",
       "      <th>209</th>\n",
       "      <td>0.645060</td>\n",
       "      <td>-0.750013</td>\n",
       "      <td>0.022189</td>\n",
       "      <td>-0.262070</td>\n",
       "      <td>-0.342125</td>\n",
       "      <td>0.113274</td>\n",
       "      <td>0.166023</td>\n",
       "      <td>0.338142</td>\n",
       "      <td>0.042257</td>\n",
       "      <td>0.007272</td>\n",
       "    </tr>\n",
       "    <tr>\n",
       "      <th>210</th>\n",
       "      <td>1.006905</td>\n",
       "      <td>0.098332</td>\n",
       "      <td>0.118930</td>\n",
       "      <td>0.163508</td>\n",
       "      <td>-0.322555</td>\n",
       "      <td>0.266672</td>\n",
       "      <td>0.046522</td>\n",
       "      <td>0.172808</td>\n",
       "      <td>0.122399</td>\n",
       "      <td>0.143866</td>\n",
       "    </tr>\n",
       "    <tr>\n",
       "      <th>211</th>\n",
       "      <td>0.216368</td>\n",
       "      <td>0.655903</td>\n",
       "      <td>-0.825075</td>\n",
       "      <td>-0.120127</td>\n",
       "      <td>-0.369479</td>\n",
       "      <td>-0.256061</td>\n",
       "      <td>0.174697</td>\n",
       "      <td>0.190740</td>\n",
       "      <td>0.047404</td>\n",
       "      <td>-0.017635</td>\n",
       "    </tr>\n",
       "  </tbody>\n",
       "</table>\n",
       "<p>212 rows × 10 columns</p>\n",
       "</div>"
      ],
      "text/plain": [
       "          PC1       PC2       PC3       PC4       PC5       PC6       PC7  \\\n",
       "0   -0.132617  0.426787  0.433962  0.891037  0.798188 -0.388303  0.527402   \n",
       "1    0.910406 -0.637786  0.181633 -0.365014  0.062484  0.035384 -0.166866   \n",
       "2   -0.799262 -0.282356  0.649245 -0.174409 -0.256103 -0.225534 -0.086299   \n",
       "3    0.282105 -0.522200 -0.096707 -0.033347 -0.163912 -0.664081 -0.012473   \n",
       "4    0.382437  0.677170 -0.691201 -0.180314 -0.086393 -0.344277 -0.123727   \n",
       "..        ...       ...       ...       ...       ...       ...       ...   \n",
       "207 -0.465364  0.065390 -0.357721  1.063195 -0.126054  0.416202  0.122289   \n",
       "208  0.248736 -0.460210  0.045179 -0.020140  0.167596 -0.678671  0.897341   \n",
       "209  0.645060 -0.750013  0.022189 -0.262070 -0.342125  0.113274  0.166023   \n",
       "210  1.006905  0.098332  0.118930  0.163508 -0.322555  0.266672  0.046522   \n",
       "211  0.216368  0.655903 -0.825075 -0.120127 -0.369479 -0.256061  0.174697   \n",
       "\n",
       "          PC8       PC9      PC10  \n",
       "0    0.477042 -0.117244 -0.160859  \n",
       "1   -0.103250  0.145059 -0.310922  \n",
       "2   -0.021977  0.214752  0.316420  \n",
       "3   -0.203405  0.036688 -0.112053  \n",
       "4   -0.218404 -0.274267 -0.327804  \n",
       "..        ...       ...       ...  \n",
       "207 -0.048420  0.456757  0.366300  \n",
       "208 -0.256596 -0.059555 -0.280164  \n",
       "209  0.338142  0.042257  0.007272  \n",
       "210  0.172808  0.122399  0.143866  \n",
       "211  0.190740  0.047404 -0.017635  \n",
       "\n",
       "[212 rows x 10 columns]"
      ]
     },
     "execution_count": 15,
     "metadata": {},
     "output_type": "execute_result"
    }
   ],
   "source": [
    "# Test PCA\n",
    "df_pca = replace_outliers(raw_data)\n",
    "df_pca = encode_columns(df_pca)\n",
    "df_pca = minmax(df_pca)\n",
    "df_pca = remove_overshadowing(df_pca)\n",
    "df_pca"
   ]
  },
  {
   "cell_type": "code",
   "execution_count": 16,
   "metadata": {
    "scrolled": false
   },
   "outputs": [
    {
     "data": {
      "text/plain": [
       "<Axes: >"
      ]
     },
     "execution_count": 16,
     "metadata": {},
     "output_type": "execute_result"
    },
    {
     "data": {
      "image/png": "[encoded data removed]",
      "text/plain": [
       "<Figure size 432x288 with 2 Axes>"
      ]
     },
     "metadata": {
      "needs_background": "light"
     },
     "output_type": "display_data"
    }
   ],
   "source": [
    "sns.heatmap(df_prep.corr())"
   ]
  },
  {
   "attachments": {},
   "cell_type": "markdown",
   "metadata": {},
   "source": [
    "Actually after tests we had to abandon encoding cp column, because models were doing clustering based only on this one column. So after all we are leaving it as is."
   ]
  },
  {
   "attachments": {},
   "cell_type": "markdown",
   "metadata": {},
   "source": [
    "## Number of clusters"
   ]
  },
  {
   "cell_type": "code",
   "execution_count": 17,
   "metadata": {},
   "outputs": [],
   "source": [
    "# We will use functions from other python files, so we don't have to run whole notebook every time\n",
    "from preprocessing import standarize, minmax, normalize, replace_outliers, preprocessing, remove_id, encode_cp\n",
    "from KMeans import k_means_alg"
   ]
  },
  {
   "attachments": {},
   "cell_type": "markdown",
   "metadata": {},
   "source": [
    "First we prepare methods for finding optimal number of clusters"
   ]
  },
  {
   "cell_type": "code",
   "execution_count": 18,
   "metadata": {},
   "outputs": [],
   "source": [
    "def num_of_clus_elbow(data) -> int:\n",
    "    \"\"\"\n",
    "        Finds optimal number of clusters using elbow method.\n",
    "\n",
    "        :param data: dataframe\n",
    "        :return: number of clusters\n",
    "    \"\"\"\n",
    "    sum_of_squared_distances = []\n",
    "    K = range(1, 10)\n",
    "    for num_clusters in K:\n",
    "        kmeans = KMeans(n_clusters=num_clusters, n_init=10)\n",
    "        kmeans.fit(data)\n",
    "        sum_of_squared_distances.append(kmeans.inertia_)\n",
    "\n",
    "    # finding elbow point\n",
    "    sd = np.diff(sum_of_squared_distances, 2)\n",
    "    elbow_point = np.argmax(sd) + 2\n",
    "\n",
    "    plt.figure(figsize=(8, 5))\n",
    "    plt.plot(range(1, 10), sum_of_squared_distances, marker='o')\n",
    "    plt.xlabel('Number of clusters')\n",
    "    plt.ylabel('WCSS')\n",
    "    plt.show()\n",
    "\n",
    "    return elbow_point"
   ]
  },
  {
   "cell_type": "code",
   "execution_count": 19,
   "metadata": {},
   "outputs": [],
   "source": [
    "def num_of_clus_silhouette(data) -> int:\n",
    "    \"\"\"\n",
    "    Finds optimal number of clusters using silhouette method.\n",
    "\n",
    "    :param data: dataframe\n",
    "    :return: number of clusters\n",
    "    \"\"\"\n",
    "    silhouette_scores = []\n",
    "    for i in range(2, 11):\n",
    "        kmeans = KMeans(n_clusters=i, init='k-means++', max_iter=300, n_init=10, random_state=0)\n",
    "        kmeans.fit(data)\n",
    "        score = silhouette_score(data, kmeans.labels_)\n",
    "        silhouette_scores.append(score)\n",
    "\n",
    "    silhouette_point = np.argmax(silhouette_scores) + 2\n",
    "\n",
    "    plt.figure(figsize=(8, 5))\n",
    "    plt.plot(range(2, 11), silhouette_scores, marker='o')\n",
    "    plt.xlabel('Number of clusters')\n",
    "    plt.ylabel('Silhouette score')\n",
    "    plt.show()\n",
    "\n",
    "    return silhouette_point"
   ]
  },
  {
   "cell_type": "code",
   "execution_count": 20,
   "metadata": {},
   "outputs": [
    {
     "data": {
      "image/png": "[encoded data removed]",
      "text/plain": [
       "<Figure size 576x360 with 1 Axes>"
      ]
     },
     "metadata": {
      "needs_background": "light"
     },
     "output_type": "display_data"
    },
    {
     "name": "stdout",
     "output_type": "stream",
     "text": [
      "Elbow method: 2\n"
     ]
    },
    {
     "data": {
      "image/png": "[encoded data removed]",
      "text/plain": [
       "<Figure size 576x360 with 1 Axes>"
      ]
     },
     "metadata": {
      "needs_background": "light"
     },
     "output_type": "display_data"
    },
    {
     "name": "stdout",
     "output_type": "stream",
     "text": [
      "Silhouette method: 10\n"
     ]
    }
   ],
   "source": [
    "# Let's check elbow method\n",
    "df_clusters = replace_outliers(raw_data)\n",
    "df_clusters = minmax(df_clusters)\n",
    "df_clusters = remove_overshadowing(df_clusters)\n",
    "print('Elbow method:', num_of_clus_elbow(df_clusters))\n",
    "print('Silhouette method:', num_of_clus_silhouette(df_clusters))"
   ]
  },
  {
   "attachments": {},
   "cell_type": "markdown",
   "metadata": {},
   "source": [
    "We can see that returned values are different. Now we can test it on a baseline model:"
   ]
  },
  {
   "cell_type": "code",
   "execution_count": 21,
   "metadata": {},
   "outputs": [
    {
     "name": "stdout",
     "output_type": "stream",
     "text": [
      "Number of clusters: 2\n",
      "silhouette score: 0.23085622379426904\n",
      "calinski harabasz score: 59.58829203587509\n",
      "davies bouldin score: 1.7221735889095806\n",
      "Number of clusters: 4\n",
      "silhouette score: 0.2346485235314836\n",
      "calinski harabasz score: 52.96101334044543\n",
      "davies bouldin score: 1.4137107925080366\n",
      "Number of clusters: 7\n",
      "silhouette score: 0.3129470255215946\n",
      "calinski harabasz score: 51.55427475853473\n",
      "davies bouldin score: 1.29381646802531\n",
      "Number of clusters: 10\n",
      "silhouette score: 0.31298135708632363\n",
      "calinski harabasz score: 45.120894314972865\n",
      "davies bouldin score: 1.2562811589677896\n"
     ]
    }
   ],
   "source": [
    "for i in [2,4,7,10]:\n",
    "    dfkmeans, model = k_means_alg(df_clusters, num_clusters=i)\n",
    "    y_kmeans = dfkmeans['label']\n",
    "    print(f\"silhouette score: {silhouette_score(df_clusters, y_kmeans)}\")\n",
    "    print(f\"calinski harabasz score: {calinski_harabasz_score(df_clusters, y_kmeans)}\")\n",
    "    print(f\"davies bouldin score: {davies_bouldin_score(df_clusters, y_kmeans)}\")"
   ]
  },
  {
   "attachments": {},
   "cell_type": "markdown",
   "metadata": {},
   "source": [
    "We can see that results are the best for 7 clusters. Now let's check how preprocessing influences clusters and score."
   ]
  },
  {
   "cell_type": "code",
   "execution_count": 22,
   "metadata": {},
   "outputs": [
    {
     "name": "stdout",
     "output_type": "stream",
     "text": [
      "Processing: stand\n",
      "Number of clusters: 7\n",
      "silhouette score: 0.13588146775626347\n",
      "calinski harabasz score: 25.139613936964302\n",
      "davies bouldin score: 1.9114422894174663\n",
      "Processing: minmax\n",
      "Number of clusters: 7\n",
      "silhouette score: 0.3129470255215946\n",
      "calinski harabasz score: 51.55427475853473\n",
      "davies bouldin score: 1.29381646802531\n",
      "Processing: norm\n",
      "Number of clusters: 7\n",
      "silhouette score: 0.2804065596623968\n",
      "calinski harabasz score: 125.45944749597399\n",
      "davies bouldin score: 1.004501601647717\n"
     ]
    }
   ],
   "source": [
    "processing = ['stand', 'minmax', 'norm']\n",
    "for proc in processing:\n",
    "    print(f'Processing: {proc}')\n",
    "    df_proc = preprocessing(raw_data, encode=False, process=proc)\n",
    "    dfkmeans, model = k_means_alg(df_proc, num_clusters=7)\n",
    "    y = dfkmeans['label']\n",
    "    print(f\"silhouette score: {silhouette_score(df_proc, y)}\")\n",
    "    print(f\"calinski harabasz score: {calinski_harabasz_score(df_proc, y)}\")\n",
    "    print(f\"davies bouldin score: {davies_bouldin_score(df_proc, y)}\")"
   ]
  },
  {
   "attachments": {},
   "cell_type": "markdown",
   "metadata": {},
   "source": [
    "Results vary depending on processing used. Normalizer has the best results, but we can see that normalized data still varies a lot:"
   ]
  },
  {
   "cell_type": "code",
   "execution_count": 23,
   "metadata": {},
   "outputs": [
    {
     "data": {
      "text/html": [
       "<div>\n",
       "<style scoped>\n",
       "    .dataframe tbody tr th:only-of-type {\n",
       "        vertical-align: middle;\n",
       "    }\n",
       "\n",
       "    .dataframe tbody tr th {\n",
       "        vertical-align: top;\n",
       "    }\n",
       "\n",
       "    .dataframe thead th {\n",
       "        text-align: right;\n",
       "    }\n",
       "</style>\n",
       "<table border=\"1\" class=\"dataframe\">\n",
       "  <thead>\n",
       "    <tr style=\"text-align: right;\">\n",
       "      <th></th>\n",
       "      <th>age</th>\n",
       "      <th>sex</th>\n",
       "      <th>cp</th>\n",
       "      <th>trestbps</th>\n",
       "      <th>chol</th>\n",
       "      <th>fbs</th>\n",
       "      <th>restecg</th>\n",
       "      <th>thalach</th>\n",
       "      <th>exang</th>\n",
       "      <th>oldpeak</th>\n",
       "      <th>slope</th>\n",
       "    </tr>\n",
       "  </thead>\n",
       "  <tbody>\n",
       "    <tr>\n",
       "      <th>0</th>\n",
       "      <td>0.178178</td>\n",
       "      <td>0.002741</td>\n",
       "      <td>0.002741</td>\n",
       "      <td>0.378285</td>\n",
       "      <td>0.773018</td>\n",
       "      <td>0.002741</td>\n",
       "      <td>0.005482</td>\n",
       "      <td>0.476968</td>\n",
       "      <td>0.000000</td>\n",
       "      <td>0.003838</td>\n",
       "      <td>0.005482</td>\n",
       "    </tr>\n",
       "    <tr>\n",
       "      <th>1</th>\n",
       "      <td>0.196692</td>\n",
       "      <td>0.003172</td>\n",
       "      <td>0.012690</td>\n",
       "      <td>0.380695</td>\n",
       "      <td>0.847046</td>\n",
       "      <td>0.000000</td>\n",
       "      <td>0.000000</td>\n",
       "      <td>0.314073</td>\n",
       "      <td>0.003172</td>\n",
       "      <td>0.005710</td>\n",
       "      <td>0.006345</td>\n",
       "    </tr>\n",
       "    <tr>\n",
       "      <th>2</th>\n",
       "      <td>0.196362</td>\n",
       "      <td>0.003445</td>\n",
       "      <td>0.010335</td>\n",
       "      <td>0.516742</td>\n",
       "      <td>0.578751</td>\n",
       "      <td>0.000000</td>\n",
       "      <td>0.000000</td>\n",
       "      <td>0.599421</td>\n",
       "      <td>0.000000</td>\n",
       "      <td>0.005512</td>\n",
       "      <td>0.003445</td>\n",
       "    </tr>\n",
       "    <tr>\n",
       "      <th>3</th>\n",
       "      <td>0.199493</td>\n",
       "      <td>0.003500</td>\n",
       "      <td>0.014000</td>\n",
       "      <td>0.489983</td>\n",
       "      <td>0.671977</td>\n",
       "      <td>0.000000</td>\n",
       "      <td>0.000000</td>\n",
       "      <td>0.517983</td>\n",
       "      <td>0.000000</td>\n",
       "      <td>0.001400</td>\n",
       "      <td>0.007000</td>\n",
       "    </tr>\n",
       "    <tr>\n",
       "      <th>4</th>\n",
       "      <td>0.193573</td>\n",
       "      <td>0.000000</td>\n",
       "      <td>0.013350</td>\n",
       "      <td>0.333747</td>\n",
       "      <td>0.827693</td>\n",
       "      <td>0.000000</td>\n",
       "      <td>0.006675</td>\n",
       "      <td>0.407171</td>\n",
       "      <td>0.000000</td>\n",
       "      <td>0.003337</td>\n",
       "      <td>0.006675</td>\n",
       "    </tr>\n",
       "  </tbody>\n",
       "</table>\n",
       "</div>"
      ],
      "text/plain": [
       "        age       sex        cp  trestbps      chol       fbs   restecg  \\\n",
       "0  0.178178  0.002741  0.002741  0.378285  0.773018  0.002741  0.005482   \n",
       "1  0.196692  0.003172  0.012690  0.380695  0.847046  0.000000  0.000000   \n",
       "2  0.196362  0.003445  0.010335  0.516742  0.578751  0.000000  0.000000   \n",
       "3  0.199493  0.003500  0.014000  0.489983  0.671977  0.000000  0.000000   \n",
       "4  0.193573  0.000000  0.013350  0.333747  0.827693  0.000000  0.006675   \n",
       "\n",
       "    thalach     exang   oldpeak     slope  \n",
       "0  0.476968  0.000000  0.003838  0.005482  \n",
       "1  0.314073  0.003172  0.005710  0.006345  \n",
       "2  0.599421  0.000000  0.005512  0.003445  \n",
       "3  0.517983  0.000000  0.001400  0.007000  \n",
       "4  0.407171  0.000000  0.003337  0.006675  "
      ]
     },
     "execution_count": 23,
     "metadata": {},
     "output_type": "execute_result"
    }
   ],
   "source": [
    "normalize(raw_data).head()"
   ]
  },
  {
   "attachments": {},
   "cell_type": "markdown",
   "metadata": {},
   "source": [
    "For example values in sex column are around 0.003 while in chol or thalach values are way bigger. Thus, minmax scaler is the most reasonable scaler. Last question is if we should use PCA for reducing dimensionality."
   ]
  },
  {
   "cell_type": "code",
   "execution_count": 24,
   "metadata": {},
   "outputs": [
    {
     "name": "stdout",
     "output_type": "stream",
     "text": [
      "Number of clusters: 7\n",
      "silhouette score: 0.3129470255215946\n",
      "calinski harabasz score: 51.55427475853473\n",
      "davies bouldin score: 1.29381646802531\n"
     ]
    }
   ],
   "source": [
    "df_pca = preprocessing(raw_data, encode=False, process='minmax')\n",
    "dfkmeans, model = k_means_alg(df_pca, num_clusters=7)\n",
    "y_kmeans = dfkmeans['label']\n",
    "print(f\"silhouette score: {silhouette_score(df_pca, y_kmeans)}\")\n",
    "print(f\"calinski harabasz score: {calinski_harabasz_score(df_pca, y_kmeans)}\")\n",
    "print(f\"davies bouldin score: {davies_bouldin_score(df_pca, y_kmeans)}\")"
   ]
  },
  {
   "attachments": {},
   "cell_type": "markdown",
   "metadata": {},
   "source": [
    "We can see that PCA not only reduces dimensions, but also improves scores."
   ]
  },
  {
   "attachments": {},
   "cell_type": "markdown",
   "metadata": {},
   "source": [
    "This whole time we have been replacing outliers. However, validation team stated that in medical data outliers are very important and we should not remove them. Let's check the scores if you do not use rep_out option in preprocessing:"
   ]
  },
  {
   "cell_type": "code",
   "execution_count": 25,
   "metadata": {},
   "outputs": [
    {
     "name": "stdout",
     "output_type": "stream",
     "text": [
      "Number of clusters: 7\n",
      "silhouette score: 0.34375196142515374\n",
      "calinski harabasz score: 58.294138843426595\n",
      "davies bouldin score: 1.2133276771797805\n"
     ]
    }
   ],
   "source": [
    "df_pca = preprocessing(raw_data, rep_out=False, encode=False, process='minmax')\n",
    "dfkmeans, model = k_means_alg(df_pca, num_clusters=7)\n",
    "y_kmeans = dfkmeans['label']\n",
    "print(f\"silhouette score: {silhouette_score(df_pca, y_kmeans)}\")\n",
    "print(f\"calinski harabasz score: {calinski_harabasz_score(df_pca, y_kmeans)}\")\n",
    "print(f\"davies bouldin score: {davies_bouldin_score(df_pca, y_kmeans)}\")"
   ]
  },
  {
   "attachments": {},
   "cell_type": "markdown",
   "metadata": {},
   "source": [
    "Scores are better and we do not lose important data. But preprocessing affects optimal number of clusters so we should check them again:"
   ]
  },
  {
   "cell_type": "code",
   "execution_count": 26,
   "metadata": {},
   "outputs": [
    {
     "data": {
      "image/png": "[encoded data removed]",
      "text/plain": [
       "<Figure size 576x360 with 1 Axes>"
      ]
     },
     "metadata": {
      "needs_background": "light"
     },
     "output_type": "display_data"
    },
    {
     "name": "stdout",
     "output_type": "stream",
     "text": [
      "Elbow method: 2\n"
     ]
    },
    {
     "data": {
      "image/png": "[encoded data removed]",
      "text/plain": [
       "<Figure size 576x360 with 1 Axes>"
      ]
     },
     "metadata": {
      "needs_background": "light"
     },
     "output_type": "display_data"
    },
    {
     "name": "stdout",
     "output_type": "stream",
     "text": [
      "Silhouette method: 9\n"
     ]
    }
   ],
   "source": [
    "# Let's check elbow method\n",
    "df_clusters = minmax(raw_data)\n",
    "df_clusters = remove_overshadowing(df_clusters)\n",
    "print('Elbow method:', num_of_clus_elbow(df_clusters))\n",
    "print('Silhouette method:', num_of_clus_silhouette(df_clusters))"
   ]
  },
  {
   "attachments": {},
   "cell_type": "markdown",
   "metadata": {},
   "source": [
    "Chart looks a little bit different, the more clusters, the better silhouette score. However we have to draw a line somewhere. That said in preprocessing we will stick to minmax scaler and pca and we will be using 7 clusters."
   ]
  },
  {
   "attachments": {},
   "cell_type": "markdown",
   "metadata": {},
   "source": [
    "## Algorithms"
   ]
  },
  {
   "cell_type": "code",
   "execution_count": 27,
   "metadata": {},
   "outputs": [],
   "source": [
    "from metrices import metrices\n",
    "from dbscan import dbscan\n",
    "from Evaluation import medians_for_clusters\n",
    "from preprocessing import preprocessing\n",
    "from KMeans import k_means_alg\n",
    "from other_algorithms import k_medoids_alg, aglomerative_alg, minibatch_alg, gmm_alg"
   ]
  },
  {
   "cell_type": "code",
   "execution_count": 28,
   "metadata": {},
   "outputs": [],
   "source": [
    "df = pd.read_csv('train.csv')\n",
    "df.drop('id', axis=1, inplace=True)\n",
    "raw_data = df.copy()\n",
    "df = preprocessing(raw_data, rep_out=False, encode=False, cp=False, process='minmax')\n",
    "columns=['method', 'min dist btw cl', 'avg dist in cl', 'std dev dist in cl', 'silhouette', 'cal-har', 'dav-bou']\n",
    "results = pd.DataFrame(columns=columns)"
   ]
  },
  {
   "attachments": {},
   "cell_type": "markdown",
   "metadata": {},
   "source": [
    "### Kmeans"
   ]
  },
  {
   "cell_type": "code",
   "execution_count": 29,
   "metadata": {},
   "outputs": [
    {
     "name": "stdout",
     "output_type": "stream",
     "text": [
      "Number of clusters: 7\n",
      "Minimal distance between clusters: 0.6759568429818261\n",
      "Average distance between points in the same class: 0.8805018696591457\n",
      "Standard deviation of distance between points in the same class: 0.1248661751258508\n",
      "Silhouette score: 0.34375196142515374\n",
      "Calinski-Harabasz index: 58.294138843426595\n",
      "Davies Bouldin index: 1.2133276771797805\n",
      "-----\n",
      "Medians:\n",
      "        age  sex   cp  trestbps   chol  fbs  restecg  thalach  exang  oldpeak  \\\n",
      "label                                                                           \n",
      "0      58.0  1.0  4.0     129.0  256.0  0.0      2.0    131.5    1.0     1.70   \n",
      "1      52.0  1.0  3.0     125.0  229.0  0.0      0.0    162.0    0.0     0.30   \n",
      "2      59.0  0.0  4.0     142.0  249.0  0.0      2.0    150.0    1.0     1.00   \n",
      "3      58.0  0.0  3.0     135.0  258.0  0.0      2.0    157.0    0.0     0.60   \n",
      "4      55.0  1.0  4.0     130.0  239.0  0.0      0.0    143.0    1.0     1.40   \n",
      "5      55.0  1.0  3.0     131.0  239.0  0.0      2.0    157.5    0.0     0.55   \n",
      "6      54.0  0.0  3.0     125.0  221.5  0.0      0.0    163.0    0.0     0.10   \n",
      "\n",
      "       slope  \n",
      "label         \n",
      "0        2.0  \n",
      "1        1.0  \n",
      "2        2.0  \n",
      "3        2.0  \n",
      "4        2.0  \n",
      "5        2.0  \n",
      "6        1.0  \n"
     ]
    }
   ],
   "source": [
    "results_df = ['Kmeans']\n",
    "\n",
    "df_kmeans, model = k_means_alg(df, num_clusters=7)\n",
    "y_kmeans = df_kmeans['label']\n",
    "\n",
    "for metric in metrices:\n",
    "    print(f'{metric}: {metrices[metric](df, y_kmeans)}')\n",
    "    results_df.append(round(metrices[metric](df, y_kmeans), 3))\n",
    "print(\"-----\")\n",
    "print(\"Medians:\")\n",
    "df_kmeans_medians = raw_data.copy()\n",
    "df_kmeans_medians['label'] = y_kmeans\n",
    "print(medians_for_clusters(df_kmeans_medians))\n",
    "\n",
    "a = np.array(results_df)\n",
    "results = pd.concat([results, pd.DataFrame(a[None], columns=columns)], ignore_index=True)"
   ]
  },
  {
   "attachments": {},
   "cell_type": "markdown",
   "metadata": {},
   "source": [
    "### KMedoids"
   ]
  },
  {
   "cell_type": "code",
   "execution_count": 30,
   "metadata": {},
   "outputs": [
    {
     "name": "stdout",
     "output_type": "stream",
     "text": [
      "Number of clusters: 7\n",
      "Minimal distance between clusters: 0.19848026068605457\n",
      "Average distance between points in the same class: 1.0010569591801268\n",
      "Standard deviation of distance between points in the same class: 0.08665877981157048\n",
      "Silhouette score: 0.13403906125825538\n",
      "Calinski-Harabasz index: 33.334283134923375\n",
      "Davies Bouldin index: 2.382287048540376\n",
      "        age  sex   cp  trestbps   chol  fbs  restecg  thalach  exang  oldpeak  \\\n",
      "label                                                                           \n",
      "0      42.0  1.0  2.5     120.0  223.0  0.0      0.0    168.5    0.0     0.00   \n",
      "1      57.5  1.0  4.0     132.0  257.5  0.0      2.0    139.0    1.0     1.55   \n",
      "2      58.0  1.0  2.0     154.0  232.0  0.0      2.0    164.0    0.0     1.00   \n",
      "3      59.0  1.0  4.0     132.0  243.0  0.0      0.0    143.0    1.0     1.20   \n",
      "4      62.0  1.0  3.0     140.0  248.0  0.0      2.0    150.0    0.0     1.30   \n",
      "5      57.0  1.0  3.0     132.0  231.0  0.0      0.0    158.0    0.0     0.80   \n",
      "6      50.5  0.5  3.0     128.0  255.0  0.0      2.0    166.5    0.0     0.00   \n",
      "\n",
      "       slope  \n",
      "label         \n",
      "0        1.0  \n",
      "1        2.0  \n",
      "2        1.0  \n",
      "3        2.0  \n",
      "4        2.0  \n",
      "5        1.0  \n",
      "6        1.0  \n"
     ]
    }
   ],
   "source": [
    "results_df = ['KMedoids']\n",
    "\n",
    "df_medoids, model = k_medoids_alg(df, num_clusters=7)\n",
    "y_kmedoids = df_medoids['label']\n",
    "\n",
    "for metric in metrices:\n",
    "    print(f'{metric}: {metrices[metric](df, y_kmedoids)}')\n",
    "    results_df.append(round(metrices[metric](df, y_kmedoids), 3))\n",
    "df_medoids_medians = raw_data.copy()\n",
    "df_medoids_medians['label'] = y_kmedoids\n",
    "print(medians_for_clusters(df_medoids_medians))\n",
    "\n",
    "a = np.array(results_df)\n",
    "results = pd.concat([results, pd.DataFrame(a[None], columns=columns)], ignore_index=True)"
   ]
  },
  {
   "attachments": {},
   "cell_type": "markdown",
   "metadata": {},
   "source": [
    "### Mini Batch"
   ]
  },
  {
   "cell_type": "code",
   "execution_count": 31,
   "metadata": {},
   "outputs": [
    {
     "name": "stdout",
     "output_type": "stream",
     "text": [
      "Minimal distance between clusters: 0.6759568429818261\n",
      "Average distance between points in the same class: 0.8752718872186749\n",
      "Standard deviation of distance between points in the same class: 0.15144657988634053\n",
      "Silhouette score: 0.33008715157062474\n",
      "Calinski-Harabasz index: 58.20888588493813\n",
      "Davies Bouldin index: 1.1818183110435663\n",
      "        age  sex   cp  trestbps   chol  fbs  restecg  thalach  exang  oldpeak  \\\n",
      "label                                                                           \n",
      "0      54.0  1.0  3.0     130.0  243.5  0.0      2.0    160.5    0.0     0.45   \n",
      "1      58.0  1.0  4.0     129.0  256.0  0.0      2.0    131.5    1.0     1.70   \n",
      "2      54.0  0.0  3.0     125.0  221.5  0.0      0.0    163.0    0.0     0.10   \n",
      "3      49.0  1.0  3.0     122.0  230.5  0.0      0.0    161.0    0.0     0.05   \n",
      "4      57.0  0.0  3.0     135.0  264.0  0.0      2.0    153.0    0.0     0.60   \n",
      "5      58.0  1.0  4.0     132.0  242.0  0.0      0.0    143.0    1.0     1.30   \n",
      "6      59.0  1.0  3.0     138.0  212.0  1.0      0.0    157.0    0.0     1.20   \n",
      "\n",
      "       slope  \n",
      "label         \n",
      "0        1.0  \n",
      "1        2.0  \n",
      "2        1.0  \n",
      "3        1.0  \n",
      "4        2.0  \n",
      "5        2.0  \n",
      "6        2.0  \n"
     ]
    }
   ],
   "source": [
    "results_df = ['Mini Batch']\n",
    "\n",
    "df_mini, model = minibatch_alg(df, num_clusters=7)\n",
    "y_mini = df_mini['label']\n",
    "\n",
    "for metric in metrices:\n",
    "    print(f'{metric}: {metrices[metric](df, y_mini)}')\n",
    "    results_df.append(round(metrices[metric](df, y_mini), 3))\n",
    "    df_kmeans_medians = raw_data.copy()\n",
    "\n",
    "df_mini_medians = raw_data.copy()\n",
    "df_mini_medians['label'] = y_mini\n",
    "print(medians_for_clusters(df_mini_medians))\n",
    "\n",
    "a = np.array(results_df)\n",
    "results = pd.concat([results, pd.DataFrame(a[None], columns=columns)], ignore_index=True)"
   ]
  },
  {
   "attachments": {},
   "cell_type": "markdown",
   "metadata": {},
   "source": [
    "### Aglomerative clustering"
   ]
  },
  {
   "cell_type": "code",
   "execution_count": 32,
   "metadata": {},
   "outputs": [
    {
     "name": "stdout",
     "output_type": "stream",
     "text": [
      "Number of clusters: 7\n",
      "Minimal distance between clusters: 0.5493920597623593\n",
      "Average distance between points in the same class: 0.975087807507241\n",
      "Standard deviation of distance between points in the same class: 0.153315501550867\n",
      "Silhouette score: 0.26787715239956095\n",
      "Calinski-Harabasz index: 41.663239964375585\n",
      "Davies Bouldin index: 1.3493818057946818\n",
      "        age  sex   cp  trestbps   chol  fbs  restecg  thalach  exang  oldpeak  \\\n",
      "label                                                                           \n",
      "0      52.0  1.0  3.0     130.0  234.0  0.0      0.0    160.0    0.0     0.40   \n",
      "1      55.5  1.0  4.0     130.0  244.5  0.0      0.0    143.0    1.0     1.40   \n",
      "2      58.0  0.0  3.0     145.0  285.5  1.0      2.0    149.0    0.0     0.90   \n",
      "3      58.5  0.0  3.0     130.0  227.0  0.0      0.0    161.0    0.0     0.20   \n",
      "4      58.0  1.0  4.0     128.0  259.0  0.0      2.0    132.0    1.0     1.50   \n",
      "5      52.5  1.0  2.5     141.5  208.5  1.0      0.0    159.5    0.0     1.10   \n",
      "6      56.5  0.0  3.5     130.0  255.0  0.0      2.0    157.0    0.0     0.55   \n",
      "\n",
      "       slope  \n",
      "label         \n",
      "0        1.0  \n",
      "1        2.0  \n",
      "2        1.0  \n",
      "3        1.0  \n",
      "4        2.0  \n",
      "5        2.0  \n",
      "6        2.0  \n"
     ]
    }
   ],
   "source": [
    "results_df = ['Agl Clust']\n",
    "\n",
    "df_aglinks, model = aglomerative_alg(df, num_clusters=7, linkage = 'complete')\n",
    "y_aglinks = df_aglinks['label']\n",
    "\n",
    "for metric in metrices:\n",
    "    print(f'{metric}: {metrices[metric](df, y_aglinks)}')\n",
    "    results_df.append(round(metrices[metric](df, y_aglinks), 3))\n",
    "\n",
    "df_aglinks_medians = raw_data.copy()\n",
    "df_aglinks_medians['label'] = y_aglinks\n",
    "print(medians_for_clusters(df_aglinks_medians))\n",
    "\n",
    "a = np.array(results_df)\n",
    "results = pd.concat([results, pd.DataFrame(a[None], columns=columns)], ignore_index=True)"
   ]
  },
  {
   "attachments": {},
   "cell_type": "markdown",
   "metadata": {},
   "source": [
    "### DBSCAN"
   ]
  },
  {
   "cell_type": "code",
   "execution_count": 33,
   "metadata": {},
   "outputs": [
    {
     "name": "stdout",
     "output_type": "stream",
     "text": [
      "Minimal distance between clusters: 0.5091843197694771\n",
      "Average distance between points in the same class: 0.6028955132941674\n",
      "Standard deviation of distance between points in the same class: 0.3239884861243684\n",
      "Silhouette score: 0.27581067242053325\n",
      "Calinski-Harabasz index: 25.152110156519832\n",
      "Davies Bouldin index: 1.4384691695801504\n"
     ]
    }
   ],
   "source": [
    "results_df = ['DBSCAN']\n",
    "\n",
    "df_dbscan, model = dbscan(df, 'minmax')\n",
    "y_dbscan = df_dbscan['label']\n",
    "\n",
    "for metric in metrices:\n",
    "    print(f'{metric}: {metrices[metric](df, y_dbscan)}')\n",
    "    results_df.append(round(metrices[metric](df, y_dbscan), 3))\n",
    "\n",
    "df_dbscan_medians = raw_data.copy()\n",
    "df_dbscan_medians['label'] = y_dbscan\n",
    "#print(medians_for_clusters(df_dbscan_medians))\n",
    "\n",
    "a = np.array(results_df)\n",
    "results = pd.concat([results, pd.DataFrame(a[None], columns=columns)], ignore_index=True)"
   ]
  },
  {
   "attachments": {},
   "cell_type": "markdown",
   "metadata": {},
   "source": [
    "### GMM"
   ]
  },
  {
   "cell_type": "code",
   "execution_count": 34,
   "metadata": {},
   "outputs": [
    {
     "name": "stdout",
     "output_type": "stream",
     "text": [
      "Minimal distance between clusters: 0.5706742832494371\n",
      "Average distance between points in the same class: 0.9378223592177299\n",
      "Standard deviation of distance between points in the same class: 0.13280472443044367\n",
      "Silhouette score: 0.33052045888862325\n",
      "Calinski-Harabasz index: 53.40161383643675\n",
      "Davies Bouldin index: 1.220660039386472\n"
     ]
    }
   ],
   "source": [
    "from sklearn.mixture import GaussianMixture\n",
    "results_df = ['GMM']\n",
    "\n",
    "gmm = GaussianMixture(n_components=7, covariance_type='full', random_state=10)\n",
    "y_gmm = gmm.fit_predict(df)\n",
    "\n",
    "for metric in metrices:\n",
    "    print(f'{metric}: {metrices[metric](df, y_gmm)}')\n",
    "    results_df.append(round(metrices[metric](df, y_gmm), 3))\n",
    "\n",
    "df_gmm_medians = raw_data.copy()\n",
    "df_gmm_medians['label'] = y_gmm\n",
    "#print(medians_for_clusters(df_gmm_medians))\n",
    "\n",
    "a = np.array(results_df)\n",
    "results = pd.concat([results, pd.DataFrame(a[None], columns=columns)], ignore_index=True)"
   ]
  },
  {
   "attachments": {},
   "cell_type": "markdown",
   "metadata": {},
   "source": [
    "### Spectral"
   ]
  },
  {
   "cell_type": "code",
   "execution_count": 35,
   "metadata": {},
   "outputs": [
    {
     "name": "stdout",
     "output_type": "stream",
     "text": [
      "Minimal distance between clusters: 0.4141255581233982\n",
      "Average distance between points in the same class: 0.8829168447089762\n",
      "Standard deviation of distance between points in the same class: 0.22662385752289332\n",
      "Silhouette score: 0.32197651472330097\n",
      "Calinski-Harabasz index: 56.708153448833876\n",
      "Davies Bouldin index: 1.1943659947462713\n"
     ]
    }
   ],
   "source": [
    "results_df = ['Spectral']\n",
    "\n",
    "sc = SpectralClustering(n_clusters=7, random_state=0)\n",
    "y_sc = sc.fit_predict(df)\n",
    "\n",
    "for metric in metrices:\n",
    "    print(f'{metric}: {metrices[metric](df, y_sc)}')\n",
    "    results_df.append(round(metrices[metric](df, y_sc), 3))\n",
    "\n",
    "df_sc_medians = raw_data.copy()\n",
    "df_sc_medians['label'] = y_sc\n",
    "\n",
    "a = np.array(results_df)\n",
    "results = pd.concat([results, pd.DataFrame(a[None], columns=columns)], ignore_index=True)"
   ]
  },
  {
   "cell_type": "code",
   "execution_count": 36,
   "metadata": {
    "scrolled": true
   },
   "outputs": [
    {
     "data": {
      "text/html": [
       "<div>\n",
       "<style scoped>\n",
       "    .dataframe tbody tr th:only-of-type {\n",
       "        vertical-align: middle;\n",
       "    }\n",
       "\n",
       "    .dataframe tbody tr th {\n",
       "        vertical-align: top;\n",
       "    }\n",
       "\n",
       "    .dataframe thead th {\n",
       "        text-align: right;\n",
       "    }\n",
       "</style>\n",
       "<table border=\"1\" class=\"dataframe\">\n",
       "  <thead>\n",
       "    <tr style=\"text-align: right;\">\n",
       "      <th></th>\n",
       "      <th>method</th>\n",
       "      <th>min dist btw cl</th>\n",
       "      <th>avg dist in cl</th>\n",
       "      <th>std dev dist in cl</th>\n",
       "      <th>silhouette</th>\n",
       "      <th>cal-har</th>\n",
       "      <th>dav-bou</th>\n",
       "    </tr>\n",
       "  </thead>\n",
       "  <tbody>\n",
       "    <tr>\n",
       "      <th>0</th>\n",
       "      <td>Kmeans</td>\n",
       "      <td>0.676</td>\n",
       "      <td>0.881</td>\n",
       "      <td>0.125</td>\n",
       "      <td>0.344</td>\n",
       "      <td>58.294</td>\n",
       "      <td>1.213</td>\n",
       "    </tr>\n",
       "    <tr>\n",
       "      <th>1</th>\n",
       "      <td>KMedoids</td>\n",
       "      <td>0.198</td>\n",
       "      <td>1.001</td>\n",
       "      <td>0.087</td>\n",
       "      <td>0.134</td>\n",
       "      <td>33.334</td>\n",
       "      <td>2.382</td>\n",
       "    </tr>\n",
       "    <tr>\n",
       "      <th>2</th>\n",
       "      <td>Mini Batch</td>\n",
       "      <td>0.676</td>\n",
       "      <td>0.875</td>\n",
       "      <td>0.151</td>\n",
       "      <td>0.33</td>\n",
       "      <td>58.209</td>\n",
       "      <td>1.182</td>\n",
       "    </tr>\n",
       "    <tr>\n",
       "      <th>3</th>\n",
       "      <td>Agl Clust</td>\n",
       "      <td>0.549</td>\n",
       "      <td>0.975</td>\n",
       "      <td>0.153</td>\n",
       "      <td>0.268</td>\n",
       "      <td>41.663</td>\n",
       "      <td>1.349</td>\n",
       "    </tr>\n",
       "    <tr>\n",
       "      <th>4</th>\n",
       "      <td>DBSCAN</td>\n",
       "      <td>0.509</td>\n",
       "      <td>0.603</td>\n",
       "      <td>0.324</td>\n",
       "      <td>0.276</td>\n",
       "      <td>25.152</td>\n",
       "      <td>1.438</td>\n",
       "    </tr>\n",
       "    <tr>\n",
       "      <th>5</th>\n",
       "      <td>GMM</td>\n",
       "      <td>0.571</td>\n",
       "      <td>0.938</td>\n",
       "      <td>0.133</td>\n",
       "      <td>0.331</td>\n",
       "      <td>53.402</td>\n",
       "      <td>1.221</td>\n",
       "    </tr>\n",
       "    <tr>\n",
       "      <th>6</th>\n",
       "      <td>Spectral</td>\n",
       "      <td>0.414</td>\n",
       "      <td>0.883</td>\n",
       "      <td>0.227</td>\n",
       "      <td>0.322</td>\n",
       "      <td>56.708</td>\n",
       "      <td>1.194</td>\n",
       "    </tr>\n",
       "  </tbody>\n",
       "</table>\n",
       "</div>"
      ],
      "text/plain": [
       "       method min dist btw cl avg dist in cl std dev dist in cl silhouette  \\\n",
       "0      Kmeans           0.676          0.881              0.125      0.344   \n",
       "1    KMedoids           0.198          1.001              0.087      0.134   \n",
       "2  Mini Batch           0.676          0.875              0.151       0.33   \n",
       "3   Agl Clust           0.549          0.975              0.153      0.268   \n",
       "4      DBSCAN           0.509          0.603              0.324      0.276   \n",
       "5         GMM           0.571          0.938              0.133      0.331   \n",
       "6    Spectral           0.414          0.883              0.227      0.322   \n",
       "\n",
       "  cal-har dav-bou  \n",
       "0  58.294   1.213  \n",
       "1  33.334   2.382  \n",
       "2  58.209   1.182  \n",
       "3  41.663   1.349  \n",
       "4  25.152   1.438  \n",
       "5  53.402   1.221  \n",
       "6  56.708   1.194  "
      ]
     },
     "execution_count": 36,
     "metadata": {},
     "output_type": "execute_result"
    }
   ],
   "source": [
    "results"
   ]
  },
  {
   "attachments": {},
   "cell_type": "markdown",
   "metadata": {},
   "source": [
    "From those algorithms KMeans performs the best (1st in min dist btw clust, 3nd in avg dist in clust, 2nd in std dev in clust)"
   ]
  },
  {
   "attachments": {},
   "cell_type": "markdown",
   "metadata": {},
   "source": [
    "### Standard hierarchical clustering"
   ]
  },
  {
   "cell_type": "code",
   "execution_count": 37,
   "metadata": {},
   "outputs": [
    {
     "name": "stdout",
     "output_type": "stream",
     "text": [
      "╒══════════════════╤═══════════════════╤══════════════════╤══════════════════════╤══════════════╤═══════════╤═══════════╕\n",
      "│ Linkage Method   │   min dist btw cl │   avg dist in cl │   std dev dist in cl │   silhouette │   cal-har │   dav-bou │\n",
      "╞══════════════════╪═══════════════════╪══════════════════╪══════════════════════╪══════════════╪═══════════╪═══════════╡\n",
      "│ single           │          1.00725  │       nan        │           nan        │    0.0115834 │   7.15688 │   1.0941  │\n",
      "├──────────────────┼───────────────────┼──────────────────┼──────────────────────┼──────────────┼───────────┼───────────┤\n",
      "│ complete         │          0.549392 │         0.975088 │             0.153316 │    0.267877  │  41.6632  │   1.34938 │\n",
      "├──────────────────┼───────────────────┼──────────────────┼──────────────────────┼──────────────┼───────────┼───────────┤\n",
      "│ average          │          0.73653  │       nan        │           nan        │    0.163755  │  18.5278  │   1.09267 │\n",
      "├──────────────────┼───────────────────┼──────────────────┼──────────────────────┼──────────────┼───────────┼───────────┤\n",
      "│ ward             │          0.549392 │         0.878954 │             0.255783 │    0.306809  │  52.9892  │   1.25784 │\n",
      "╘══════════════════╧═══════════════════╧══════════════════╧══════════════════════╧══════════════╧═══════════╧═══════════╛\n"
     ]
    }
   ],
   "source": [
    "data = df.to_numpy()\n",
    "\n",
    "k = 7\n",
    "linkage_methods = ['single', 'complete', 'average', 'ward']\n",
    "columnsh=['min dist btw cl', 'avg dist in cl', 'std dev dist in cl', 'silhouette', 'cal-har', 'dav-bou']\n",
    "\n",
    "resultsh = []\n",
    "for method in linkage_methods:\n",
    "    Z = linkage(data, method=method)\n",
    "    labels = fcluster(Z, k, criterion='maxclust')\n",
    "\n",
    "    row = [method]\n",
    "    for metric in metrices:\n",
    "        value = metrices[metric](df, labels)\n",
    "        row.append(value)\n",
    "    resultsh.append(row)\n",
    "\n",
    "headers = ['Linkage Method'] + list(columnsh)\n",
    "print(tabulate(resultsh, headers=headers, tablefmt='fancy_grid'))"
   ]
  },
  {
   "attachments": {},
   "cell_type": "markdown",
   "metadata": {},
   "source": [
    "Somehow we got nans in some metrices but no idea why. The results are worse anyway."
   ]
  },
  {
   "attachments": {},
   "cell_type": "markdown",
   "metadata": {},
   "source": [
    "Dendogram"
   ]
  },
  {
   "cell_type": "code",
   "execution_count": 38,
   "metadata": {},
   "outputs": [
    {
     "data": {
      "image/png": "[encoded data removed]",
      "text/plain": [
       "<Figure size 720x432 with 1 Axes>"
      ]
     },
     "metadata": {
      "needs_background": "light"
     },
     "output_type": "display_data"
    }
   ],
   "source": [
    "data = df.to_numpy()\n",
    "\n",
    "Z = linkage(data, method='complete')\n",
    "\n",
    "plt.figure(figsize=(10, 6))\n",
    "dendrogram(Z)\n",
    "plt.xlabel('Data Points')\n",
    "plt.ylabel('Distance')\n",
    "plt.title('Hierarchical Clustering Dendrogram')\n",
    "plt.show()"
   ]
  },
  {
   "attachments": {},
   "cell_type": "markdown",
   "metadata": {},
   "source": [
    "### Hybrid with Kmeans"
   ]
  },
  {
   "cell_type": "code",
   "execution_count": 39,
   "metadata": {},
   "outputs": [
    {
     "name": "stdout",
     "output_type": "stream",
     "text": [
      "Minimal distance between clusters: 0.6759568429818261\n",
      "Average distance between points in the same class: 0.9639785332989026\n",
      "Standard deviation of distance between points in the same class: 0.1604729054996382\n",
      "Silhouette score: 0.2883735381426866\n",
      "Calinski-Harabasz index: 46.01252477972656\n",
      "Davies Bouldin index: 1.275297655577081\n"
     ]
    }
   ],
   "source": [
    "k=7\n",
    "results_df = ['Hybrid']\n",
    "agg_cluster = AgglomerativeClustering(n_clusters=k, linkage='complete')\n",
    "agg_labels = agg_cluster.fit_predict(df)\n",
    "\n",
    "# Compute the center of each cluster\n",
    "cluster_centers = []\n",
    "for cluster in range(k):\n",
    "    cluster_data = df[agg_labels == cluster]\n",
    "    cluster_center = cluster_data.mean(axis=0)\n",
    "    cluster_centers.append(cluster_center)\n",
    "\n",
    "# Convert the cluster centers to a numpy array\n",
    "cluster_centers = np.array(cluster_centers)\n",
    "\n",
    "# Perform k-means clustering using the cluster centers as initial centers\n",
    "kmeans = KMeans(n_clusters=k, init=cluster_centers, n_init=1)\n",
    "kmeans_labels = kmeans.fit_predict(df)\n",
    "kmeans_cluster_centers = kmeans.cluster_centers_\n",
    "\n",
    "for metric in metrices:\n",
    "    print(f'{metric}: {metrices[metric](df, kmeans_labels)}')\n",
    "    results_df.append(round(metrices[metric](df, kmeans_labels), 3))\n",
    "\n",
    "a = np.array(results_df)\n",
    "results = pd.concat([results, pd.DataFrame(a[None], columns=columns)], ignore_index=True)"
   ]
  },
  {
   "cell_type": "code",
   "execution_count": 40,
   "metadata": {},
   "outputs": [
    {
     "data": {
      "text/html": [
       "<div>\n",
       "<style scoped>\n",
       "    .dataframe tbody tr th:only-of-type {\n",
       "        vertical-align: middle;\n",
       "    }\n",
       "\n",
       "    .dataframe tbody tr th {\n",
       "        vertical-align: top;\n",
       "    }\n",
       "\n",
       "    .dataframe thead th {\n",
       "        text-align: right;\n",
       "    }\n",
       "</style>\n",
       "<table border=\"1\" class=\"dataframe\">\n",
       "  <thead>\n",
       "    <tr style=\"text-align: right;\">\n",
       "      <th></th>\n",
       "      <th>method</th>\n",
       "      <th>min dist btw cl</th>\n",
       "      <th>avg dist in cl</th>\n",
       "      <th>std dev dist in cl</th>\n",
       "      <th>silhouette</th>\n",
       "      <th>cal-har</th>\n",
       "      <th>dav-bou</th>\n",
       "    </tr>\n",
       "  </thead>\n",
       "  <tbody>\n",
       "    <tr>\n",
       "      <th>0</th>\n",
       "      <td>Kmeans</td>\n",
       "      <td>0.676</td>\n",
       "      <td>0.881</td>\n",
       "      <td>0.125</td>\n",
       "      <td>0.344</td>\n",
       "      <td>58.294</td>\n",
       "      <td>1.213</td>\n",
       "    </tr>\n",
       "    <tr>\n",
       "      <th>1</th>\n",
       "      <td>KMedoids</td>\n",
       "      <td>0.198</td>\n",
       "      <td>1.001</td>\n",
       "      <td>0.087</td>\n",
       "      <td>0.134</td>\n",
       "      <td>33.334</td>\n",
       "      <td>2.382</td>\n",
       "    </tr>\n",
       "    <tr>\n",
       "      <th>2</th>\n",
       "      <td>Mini Batch</td>\n",
       "      <td>0.676</td>\n",
       "      <td>0.875</td>\n",
       "      <td>0.151</td>\n",
       "      <td>0.33</td>\n",
       "      <td>58.209</td>\n",
       "      <td>1.182</td>\n",
       "    </tr>\n",
       "    <tr>\n",
       "      <th>3</th>\n",
       "      <td>Agl Clust</td>\n",
       "      <td>0.549</td>\n",
       "      <td>0.975</td>\n",
       "      <td>0.153</td>\n",
       "      <td>0.268</td>\n",
       "      <td>41.663</td>\n",
       "      <td>1.349</td>\n",
       "    </tr>\n",
       "    <tr>\n",
       "      <th>4</th>\n",
       "      <td>DBSCAN</td>\n",
       "      <td>0.509</td>\n",
       "      <td>0.603</td>\n",
       "      <td>0.324</td>\n",
       "      <td>0.276</td>\n",
       "      <td>25.152</td>\n",
       "      <td>1.438</td>\n",
       "    </tr>\n",
       "    <tr>\n",
       "      <th>5</th>\n",
       "      <td>GMM</td>\n",
       "      <td>0.571</td>\n",
       "      <td>0.938</td>\n",
       "      <td>0.133</td>\n",
       "      <td>0.331</td>\n",
       "      <td>53.402</td>\n",
       "      <td>1.221</td>\n",
       "    </tr>\n",
       "    <tr>\n",
       "      <th>6</th>\n",
       "      <td>Spectral</td>\n",
       "      <td>0.414</td>\n",
       "      <td>0.883</td>\n",
       "      <td>0.227</td>\n",
       "      <td>0.322</td>\n",
       "      <td>56.708</td>\n",
       "      <td>1.194</td>\n",
       "    </tr>\n",
       "    <tr>\n",
       "      <th>7</th>\n",
       "      <td>Hybrid</td>\n",
       "      <td>0.676</td>\n",
       "      <td>0.964</td>\n",
       "      <td>0.16</td>\n",
       "      <td>0.288</td>\n",
       "      <td>46.013</td>\n",
       "      <td>1.275</td>\n",
       "    </tr>\n",
       "  </tbody>\n",
       "</table>\n",
       "</div>"
      ],
      "text/plain": [
       "       method min dist btw cl avg dist in cl std dev dist in cl silhouette  \\\n",
       "0      Kmeans           0.676          0.881              0.125      0.344   \n",
       "1    KMedoids           0.198          1.001              0.087      0.134   \n",
       "2  Mini Batch           0.676          0.875              0.151       0.33   \n",
       "3   Agl Clust           0.549          0.975              0.153      0.268   \n",
       "4      DBSCAN           0.509          0.603              0.324      0.276   \n",
       "5         GMM           0.571          0.938              0.133      0.331   \n",
       "6    Spectral           0.414          0.883              0.227      0.322   \n",
       "7      Hybrid           0.676          0.964               0.16      0.288   \n",
       "\n",
       "  cal-har dav-bou  \n",
       "0  58.294   1.213  \n",
       "1  33.334   2.382  \n",
       "2  58.209   1.182  \n",
       "3  41.663   1.349  \n",
       "4  25.152   1.438  \n",
       "5  53.402   1.221  \n",
       "6  56.708   1.194  \n",
       "7  46.013   1.275  "
      ]
     },
     "execution_count": 40,
     "metadata": {},
     "output_type": "execute_result"
    }
   ],
   "source": [
    "results"
   ]
  },
  {
   "attachments": {},
   "cell_type": "markdown",
   "metadata": {},
   "source": [
    "It did not help, results are a little bit worse. Maybe we can try to apply majority voting to multiple models."
   ]
  },
  {
   "cell_type": "code",
   "execution_count": 41,
   "metadata": {},
   "outputs": [],
   "source": [
    "def majority_voting(*labels):\n",
    "    stacked_labels = np.vstack(labels)\n",
    "    majority_vote = np.apply_along_axis(lambda x: np.bincount(x).argmax(), axis=0, arr=stacked_labels)\n",
    "    return majority_vote"
   ]
  },
  {
   "attachments": {},
   "cell_type": "markdown",
   "metadata": {},
   "source": [
    "For all subgroups"
   ]
  },
  {
   "cell_type": "code",
   "execution_count": 42,
   "metadata": {},
   "outputs": [],
   "source": [
    "methods_list = [y_mini, y_gmm, y_kmeans, agg_labels, y_sc]\n",
    "methods_list_names = ['y_mini', 'y_gmm', 'y_kmeans', 'agg_labels', 'y_sc']"
   ]
  },
  {
   "cell_type": "code",
   "execution_count": 43,
   "metadata": {},
   "outputs": [],
   "source": [
    "from itertools import combinations\n",
    "\n",
    "def get_subgroups(lst):\n",
    "    subgroups = []\n",
    "    n = len(lst)\n",
    "    for group_size in range(1, n + 1):\n",
    "        for subgroup in combinations(lst, group_size):\n",
    "            subgroups.append(list(subgroup))\n",
    "    return subgroups"
   ]
  },
  {
   "cell_type": "code",
   "execution_count": 44,
   "metadata": {},
   "outputs": [],
   "source": [
    "subgroups = get_subgroups(methods_list)\n",
    "subgroups_names = get_subgroups(methods_list_names)"
   ]
  },
  {
   "cell_type": "code",
   "execution_count": 45,
   "metadata": {},
   "outputs": [],
   "source": [
    "table = np.zeros((len(subgroups), 6))\n",
    "\n",
    "for i in range(len(subgroups)):\n",
    "    y_maj_vote = majority_voting(subgroups[i])\n",
    "    for index, key in enumerate(metrices):\n",
    "        metric = metrices[key]\n",
    "        val = round(metrices[key](df, y_maj_vote), 4)\n",
    "        table[i, index] = val\n",
    "        # print(f'{key}: {metrices[key](df, y_maj_vote)}')\n"
   ]
  },
  {
   "attachments": {},
   "cell_type": "markdown",
   "metadata": {},
   "source": [
    "Printing dataframe already filtered so we only get good results"
   ]
  },
  {
   "cell_type": "code",
   "execution_count": 46,
   "metadata": {},
   "outputs": [
    {
     "data": {
      "text/html": [
       "<div>\n",
       "<style scoped>\n",
       "    .dataframe tbody tr th:only-of-type {\n",
       "        vertical-align: middle;\n",
       "    }\n",
       "\n",
       "    .dataframe tbody tr th {\n",
       "        vertical-align: top;\n",
       "    }\n",
       "\n",
       "    .dataframe thead th {\n",
       "        text-align: right;\n",
       "    }\n",
       "</style>\n",
       "<table border=\"1\" class=\"dataframe\">\n",
       "  <thead>\n",
       "    <tr style=\"text-align: right;\">\n",
       "      <th></th>\n",
       "      <th>subgroups</th>\n",
       "      <th>min dist btw cl</th>\n",
       "      <th>avg dist in cl</th>\n",
       "      <th>std dev dist in cl</th>\n",
       "      <th>silhouette</th>\n",
       "      <th>cal-har</th>\n",
       "      <th>dav-bou</th>\n",
       "    </tr>\n",
       "  </thead>\n",
       "  <tbody>\n",
       "    <tr>\n",
       "      <th>0</th>\n",
       "      <td>[y_mini]</td>\n",
       "      <td>0.676</td>\n",
       "      <td>0.8753</td>\n",
       "      <td>0.1514</td>\n",
       "      <td>0.3301</td>\n",
       "      <td>58.2089</td>\n",
       "      <td>1.1818</td>\n",
       "    </tr>\n",
       "    <tr>\n",
       "      <th>2</th>\n",
       "      <td>[y_kmeans]</td>\n",
       "      <td>0.676</td>\n",
       "      <td>0.8805</td>\n",
       "      <td>0.1249</td>\n",
       "      <td>0.3438</td>\n",
       "      <td>58.2941</td>\n",
       "      <td>1.2133</td>\n",
       "    </tr>\n",
       "    <tr>\n",
       "      <th>6</th>\n",
       "      <td>[y_mini, y_kmeans]</td>\n",
       "      <td>0.676</td>\n",
       "      <td>0.9611</td>\n",
       "      <td>0.1150</td>\n",
       "      <td>0.2527</td>\n",
       "      <td>42.4486</td>\n",
       "      <td>1.3653</td>\n",
       "    </tr>\n",
       "    <tr>\n",
       "      <th>9</th>\n",
       "      <td>[y_gmm, y_kmeans]</td>\n",
       "      <td>0.676</td>\n",
       "      <td>0.9733</td>\n",
       "      <td>0.1082</td>\n",
       "      <td>0.2712</td>\n",
       "      <td>52.6453</td>\n",
       "      <td>1.3277</td>\n",
       "    </tr>\n",
       "    <tr>\n",
       "      <th>15</th>\n",
       "      <td>[y_mini, y_gmm, y_kmeans]</td>\n",
       "      <td>0.676</td>\n",
       "      <td>0.9546</td>\n",
       "      <td>0.1023</td>\n",
       "      <td>0.2547</td>\n",
       "      <td>42.6307</td>\n",
       "      <td>1.3155</td>\n",
       "    </tr>\n",
       "  </tbody>\n",
       "</table>\n",
       "</div>"
      ],
      "text/plain": [
       "                    subgroups  min dist btw cl  avg dist in cl  \\\n",
       "0                    [y_mini]            0.676          0.8753   \n",
       "2                  [y_kmeans]            0.676          0.8805   \n",
       "6          [y_mini, y_kmeans]            0.676          0.9611   \n",
       "9           [y_gmm, y_kmeans]            0.676          0.9733   \n",
       "15  [y_mini, y_gmm, y_kmeans]            0.676          0.9546   \n",
       "\n",
       "    std dev dist in cl  silhouette  cal-har  dav-bou  \n",
       "0               0.1514      0.3301  58.2089   1.1818  \n",
       "2               0.1249      0.3438  58.2941   1.2133  \n",
       "6               0.1150      0.2527  42.4486   1.3653  \n",
       "9               0.1082      0.2712  52.6453   1.3277  \n",
       "15              0.1023      0.2547  42.6307   1.3155  "
      ]
     },
     "execution_count": 46,
     "metadata": {},
     "output_type": "execute_result"
    }
   ],
   "source": [
    "column_names=['min dist btw cl', 'avg dist in cl', 'std dev dist in cl', 'silhouette', 'cal-har', 'dav-bou']\n",
    "\n",
    "table_df = pd.DataFrame(table, columns=column_names)\n",
    "table_df[\"subgroups\"] = subgroups_names\n",
    "column_names = table_df.columns.tolist()\n",
    "last_column = column_names[-1]\n",
    "column_names.remove(last_column)\n",
    "new_column_order = [last_column] + column_names\n",
    "table_df = table_df[new_column_order]\n",
    "table_df = table_df[(table_df['min dist btw cl'] > 0.6) & (table_df['avg dist in cl'] < 1)]\n",
    "table_df"
   ]
  },
  {
   "attachments": {},
   "cell_type": "markdown",
   "metadata": {},
   "source": [
    "It did not work out. To be honest it was not a good idea as there can be problems with numbering and disappearing clusters. Taking all the results into consideration we will stick to kmeans algorithm."
   ]
  },
  {
   "cell_type": "code",
   "execution_count": 47,
   "metadata": {},
   "outputs": [],
   "source": [
    "def means_for_clusters(df):\n",
    "    means = df.groupby('label').mean()\n",
    "    return means"
   ]
  },
  {
   "cell_type": "code",
   "execution_count": 48,
   "metadata": {},
   "outputs": [
    {
     "name": "stdout",
     "output_type": "stream",
     "text": [
      "        age  sex   cp  trestbps   chol  fbs  restecg  thalach  exang  oldpeak  \\\n",
      "label                                                                           \n",
      "0      58.0  1.0  4.0     129.0  256.0  0.0      2.0    131.5    1.0     1.70   \n",
      "1      52.0  1.0  3.0     125.0  229.0  0.0      0.0    162.0    0.0     0.30   \n",
      "2      59.0  0.0  4.0     142.0  249.0  0.0      2.0    150.0    1.0     1.00   \n",
      "3      58.0  0.0  3.0     135.0  258.0  0.0      2.0    157.0    0.0     0.60   \n",
      "4      55.0  1.0  4.0     130.0  239.0  0.0      0.0    143.0    1.0     1.40   \n",
      "5      55.0  1.0  3.0     131.0  239.0  0.0      2.0    157.5    0.0     0.55   \n",
      "6      54.0  0.0  3.0     125.0  221.5  0.0      0.0    163.0    0.0     0.10   \n",
      "\n",
      "       slope  \n",
      "label         \n",
      "0        2.0  \n",
      "1        1.0  \n",
      "2        2.0  \n",
      "3        2.0  \n",
      "4        2.0  \n",
      "5        2.0  \n",
      "6        1.0  \n",
      "             age  sex        cp    trestbps        chol       fbs   restecg  \\\n",
      "label                                                                         \n",
      "0      57.233333  1.0  3.833333  131.800000  246.500000  0.100000  2.000000   \n",
      "1      51.177778  1.0  2.755556  127.755556  231.000000  0.200000  0.000000   \n",
      "2      58.133333  0.0  3.733333  147.666667  262.600000  0.200000  1.066667   \n",
      "3      57.965517  0.0  3.172414  131.793103  268.344828  0.137931  1.965517   \n",
      "4      54.703704  1.0  3.444444  130.000000  245.740741  0.111111  0.000000   \n",
      "5      54.684211  1.0  2.736842  138.763158  243.973684  0.105263  2.000000   \n",
      "6      52.535714  0.0  2.750000  126.535714  239.821429  0.000000  0.000000   \n",
      "\n",
      "          thalach  exang   oldpeak     slope  \n",
      "label                                         \n",
      "0      132.733333    1.0  1.653333  1.833333  \n",
      "1      157.844444    0.0  0.755556  1.422222  \n",
      "2      148.266667    1.0  1.046667  1.933333  \n",
      "3      149.448276    0.0  0.920690  1.551724  \n",
      "4      142.629630    1.0  1.648148  1.703704  \n",
      "5      157.447368    0.0  0.960526  1.631579  \n",
      "6      157.821429    0.0  0.500000  1.357143  \n"
     ]
    }
   ],
   "source": [
    "final = raw_data.copy()\n",
    "final['label'] = y_kmeans\n",
    "print(medians_for_clusters(final))\n",
    "print(means_for_clusters(final))"
   ]
  },
  {
   "cell_type": "code",
   "execution_count": 49,
   "metadata": {},
   "outputs": [
    {
     "name": "stdout",
     "output_type": "stream",
     "text": [
      "Minimal distance between clusters: 0.6759568429818261\n",
      "Average distance between points in the same class: 0.8805018696591457\n",
      "Standard deviation of distance between points in the same class: 0.1248661751258508\n",
      "Silhouette score: 0.34375196142515374\n",
      "Calinski-Harabasz index: 58.294138843426595\n",
      "Davies Bouldin index: 1.2133276771797805\n"
     ]
    }
   ],
   "source": [
    "for metric in metrices:\n",
    "    print(f'{metric}: {metrices[metric](df, y_kmeans)}')"
   ]
  },
  {
   "attachments": {},
   "cell_type": "markdown",
   "metadata": {},
   "source": [
    "Summary"
   ]
  },
  {
   "cell_type": "code",
   "execution_count": 50,
   "metadata": {},
   "outputs": [],
   "source": [
    "df_train = pd.read_csv('train.csv')\n",
    "raw_data = df_train.copy()\n",
    "df_train = preprocessing(df_train, rem_over=True, encode=False, rep_out=False, process='minmax')"
   ]
  },
  {
   "cell_type": "code",
   "execution_count": 51,
   "metadata": {},
   "outputs": [],
   "source": [
    "mv_final = y_kmeans"
   ]
  },
  {
   "attachments": {},
   "cell_type": "markdown",
   "metadata": {},
   "source": [
    "Plots"
   ]
  },
  {
   "cell_type": "code",
   "execution_count": 52,
   "metadata": {},
   "outputs": [
    {
     "data": {
      "application/vnd.plotly.v1+json": {
       "config": {
        "plotlyServerURL": "https://plot.ly"
       },
       "data": [
        {
         "marker": {
          "color": [
           5,
           4,
           1,
           1,
           3,
           5,
           3,
           0,
           0,
           0,
           1,
           2,
           6,
           6,
           5,
           4,
           1,
           4,
           1,
           0,
           3,
           1,
           6,
           6,
           0,
           5,
           5,
           5,
           3,
           1,
           0,
           5,
           4,
           6,
           4,
           0,
           1,
           1,
           6,
           6,
           4,
           1,
           3,
           4,
           5,
           2,
           6,
           4,
           1,
           4,
           5,
           5,
           0,
           1,
           1,
           2,
           0,
           5,
           6,
           4,
           5,
           0,
           0,
           1,
           5,
           5,
           1,
           0,
           3,
           3,
           0,
           6,
           5,
           6,
           1,
           0,
           1,
           1,
           1,
           0,
           4,
           1,
           1,
           4,
           2,
           6,
           4,
           3,
           6,
           4,
           6,
           5,
           5,
           6,
           5,
           5,
           5,
           5,
           3,
           3,
           0,
           1,
           0,
           2,
           1,
           4,
           2,
           0,
           3,
           1,
           3,
           6,
           6,
           2,
           3,
           4,
           1,
           2,
           6,
           5,
           1,
           4,
           0,
           3,
           1,
           0,
           5,
           6,
           1,
           1,
           3,
           1,
           4,
           3,
           4,
           5,
           6,
           0,
           5,
           1,
           2,
           3,
           0,
           5,
           4,
           1,
           2,
           6,
           5,
           1,
           5,
           3,
           4,
           6,
           2,
           2,
           0,
           1,
           2,
           1,
           1,
           2,
           6,
           1,
           1,
           5,
           0,
           5,
           0,
           0,
           4,
           3,
           5,
           0,
           6,
           1,
           3,
           1,
           2,
           6,
           5,
           1,
           4,
           6,
           5,
           5,
           3,
           4,
           6,
           5,
           3,
           0,
           4,
           3,
           1,
           3,
           4,
           3,
           6,
           5,
           3,
           5,
           3,
           1,
           3,
           1,
           0,
           5,
           1,
           4,
           0,
           3
          ],
          "size": 4
         },
         "mode": "markers",
         "type": "scatter3d",
         "x": [
          -0.031038932042960054,
          0.6263255940857803,
          -0.3912384967087538,
          -0.17725425359008293,
          -0.14401555589258075,
          0.3449129955240896,
          -0.11867315454035872,
          1.1476269781901554,
          0.8162321765209908,
          0.9753083269322642,
          -0.29148582656306193,
          0.8124437206193278,
          -0.8815972763909878,
          -0.4991847206444977,
          0.009934163757424962,
          0.6194011895222276,
          -0.20669961903445955,
          0.4447825837583841,
          -0.39574591248016006,
          1.1526783294566318,
          -0.32153243164794093,
          -0.5861227510260186,
          -0.7972134166599173,
          -0.9190018631467729,
          0.9371338526756761,
          0.16911039870312383,
          -0.15680896691619184,
          -0.03776349545631558,
          -0.4143899422807347,
          -0.2964320765881942,
          1.0052829287969907,
          -0.13120622807944252,
          0.5760270958901295,
          -0.8113438410110719,
          0.2324535103575195,
          1.0011164544836189,
          -0.20837327348871407,
          -0.4612904668931927,
          -0.8718684402683009,
          -0.7135158279309198,
          0.5680411049702129,
          -0.549298406751871,
          -0.14465011782975035,
          0.18774598035421625,
          -0.15920079169711557,
          0.14982025236114355,
          -0.7521802675842048,
          0.5932775468554843,
          -0.5914934343965556,
          0.3682053306665172,
          0.1751745386328907,
          -0.24516939658628195,
          1.008953716434973,
          -0.39627834246995985,
          -0.4820802124593966,
          0.568894452723592,
          0.7960521978399406,
          -0.06682419879269395,
          -0.981618615605106,
          0.5957025555357315,
          0.010295115470866218,
          0.9474446805999883,
          0.9231715283937563,
          -0.3204102976278796,
          0.1121127084696748,
          0.06084335749142616,
          -0.5119559831735513,
          0.7330060189365102,
          -0.19293272459895403,
          -0.44327705573437215,
          0.9989819017131978,
          -0.7496513929904915,
          -0.07406315380894629,
          -0.4801038389750727,
          -0.3621040661003031,
          0.8589070107771065,
          -0.37087607475283696,
          -0.31593096467456333,
          -0.5288001461584196,
          0.9666944443549801,
          0.26029288776187987,
          -0.3294608589829856,
          -0.2795583148574611,
          0.3682748333024124,
          0.19297266419604756,
          -0.985478746743931,
          0.0685521189178006,
          -0.4055218710468393,
          -0.8917219696412619,
          0.7540590786929938,
          -0.8218815689006984,
          0.3443980601865739,
          -0.07066495176221343,
          -0.8056004831883914,
          0.135102350122048,
          0.1867881399019312,
          -0.0498357475976768,
          0.009493734444033366,
          -0.46723549031262424,
          -0.3322784828508067,
          0.8273009749697966,
          -0.504133246555572,
          0.9642625473304287,
          0.5310358018543304,
          -0.4517743025682672,
          0.5641869691383947,
          0.26881411706029423,
          0.9394680910370142,
          -0.3510890131267971,
          -0.03773856910331205,
          -0.3446942524085289,
          -0.7188160017056208,
          -0.6203917778440758,
          0.14373852496748865,
          -0.5322317121270579,
          0.4250842139478831,
          -0.3901337375338368,
          0.1669785337175822,
          -0.6676652686892695,
          0.08361186583715373,
          -0.48583316111804226,
          0.5226517025246282,
          0.9804665718487593,
          -0.3659276392009198,
          -0.5605712385950058,
          0.9055676434544675,
          0.2534285546335453,
          -0.7471781390409244,
          -0.18157110813106297,
          -0.12437823475406401,
          -0.3196611728330535,
          -0.549307329469844,
          0.4009971834391402,
          -0.09895968685799289,
          0.8178096318603447,
          -0.11871727942314275,
          -0.9604875342462118,
          0.9413521900655778,
          0.04040730716834643,
          -0.4618378119181827,
          0.5585052641009558,
          -0.18056648276788734,
          0.9430592993946821,
          0.09776483513194668,
          0.5020199194784905,
          -0.052767864562340554,
          0.14015772795539336,
          -0.7046205551936865,
          -0.1581288171957094,
          -0.3726098576326791,
          0.2888068728142905,
          -0.4198346085870392,
          0.544476631110459,
          -0.7936257693746722,
          0.6334097514869244,
          0.03659090500704348,
          0.8122412670247172,
          -0.3330367384618974,
          0.4869281550595091,
          -0.4390035939337673,
          -0.4403282261027575,
          0.22681912037303598,
          -0.6769591982184527,
          -0.16597557938222085,
          -0.5216766941894052,
          -0.18663401193218657,
          1.0289529827658488,
          0.26874073759491035,
          0.9418900324313181,
          0.8913249568660484,
          0.2421894898200709,
          0.10781336197340922,
          0.047521486788785774,
          1.0304635636380242,
          -0.9426569062797762,
          -0.5610475994913214,
          -0.328596395165169,
          -0.43749652956491547,
          0.15935910053991226,
          -0.7291769296152434,
          0.15242716913146495,
          -0.400055214401651,
          0.44197667269515173,
          -0.9663040915986758,
          0.29280544670292324,
          0.18972819014755746,
          -0.41673277312005724,
          0.385314856889394,
          -0.8026095657052421,
          0.22635527398699679,
          -0.33243025695950856,
          1.0186149155141613,
          0.5856150694103484,
          -0.5474129782198575,
          -0.5196125521340199,
          -0.26387744568713944,
          0.6480682928354328,
          -0.37570116140229365,
          -0.8128392427353794,
          0.10816939707169268,
          -0.1849099620318897,
          0.014766052724218433,
          -0.37638249606995305,
          -0.34063244441850304,
          -0.06206372157019593,
          -0.47472656760198373,
          0.6669796197100701,
          -0.14189964733566618,
          -0.15235918755767128,
          0.3810465336319996,
          0.8567690609071934,
          -0.31853842556537926
         ],
         "y": [
          0.3361607732258625,
          -0.6829726319057088,
          -0.5299639913310982,
          -0.48663288493820683,
          0.8398206579662832,
          0.3986583109710177,
          0.8680419047394271,
          0.19990980241530554,
          0.0918620659616316,
          0.14499607764080946,
          -0.4978831283882656,
          0.6899103030329091,
          0.007443915577188929,
          0.020397077727701284,
          0.3054674775683484,
          -0.6926818369367357,
          -0.5005559056858243,
          -0.7495920427265337,
          -0.5220194911975307,
          0.16519629675926464,
          0.8172793445380763,
          -0.5892636892573143,
          -0.01648158541894187,
          -0.01851299787146122,
          0.11310826342285296,
          0.38628050470385467,
          0.29129241368364883,
          0.29455869785881095,
          0.8089127737900702,
          -0.47309172378723996,
          0.1273492219320042,
          0.28853865567951525,
          -0.655582038772616,
          -0.014368701589176476,
          -0.7766649409533641,
          0.122226901309551,
          -0.5093238096375047,
          -0.5265534983052177,
          -0.06566084840445273,
          -0.006596072885715833,
          -0.6681619012917787,
          -0.5426421242543044,
          0.9089763375726083,
          -0.7454330945381128,
          0.28197914647901984,
          -0.16667301218681346,
          -0.06405232885031173,
          -0.6830583219977168,
          -0.5375374433105286,
          -0.742328968385038,
          0.3307392650612659,
          0.26682979247098637,
          0.1322772439925634,
          -0.5318005308393638,
          -0.5565899481146228,
          0.6747723976325247,
          0.06359356901559476,
          0.2958180952699245,
          -0.012930389791448654,
          -0.716320690718858,
          0.26116771474229883,
          0.05615682067195388,
          0.15604829608119827,
          -0.5305207649368785,
          0.3309830516613841,
          0.32917319330519157,
          -0.5207240157051849,
          0.08496041304669105,
          0.8515152180577032,
          0.7991375281207236,
          0.14583966543229443,
          0.03303917321177611,
          0.27999149580074845,
          0.0630767857534876,
          -0.48824772590609233,
          0.10193398565453059,
          -0.5392806198068331,
          -0.5253754962681209,
          -0.5616399580320449,
          0.14441894178432885,
          -0.7742486493827392,
          -0.5463854407685304,
          -0.5142617575441594,
          -0.7388738579511409,
          -0.17299467902099572,
          -0.085124690790011,
          -0.8003440367910365,
          0.803162181793509,
          -0.08112519472800621,
          -0.6562579035817965,
          0.014330029185806628,
          0.3394539706535997,
          0.3578023498287184,
          0.005292996478039796,
          0.3529635716593793,
          0.34440932244845196,
          0.3494665643164626,
          0.28407938940857297,
          0.8183958866156733,
          0.8250170497738196,
          0.08827311871594015,
          -0.5439623083465045,
          0.06950101775428758,
          0.6085335335607543,
          -0.49884332906073586,
          -0.7030830530099773,
          0.6191191255573315,
          0.10308235634308428,
          0.8508098310314264,
          -0.4754799990294662,
          0.7971671208602521,
          -0.019022596751745405,
          0.06022131328062427,
          -0.19056765489726316,
          0.7561678242141571,
          -0.7421698482829405,
          -0.46755828644612774,
          -0.1764843444977356,
          -0.006698961284791264,
          0.2899277811943724,
          -0.5185762503728124,
          -0.761704367904315,
          0.11436339873302002,
          0.8317583831103642,
          -0.562551297329717,
          0.08988272172604649,
          0.3596683437005274,
          0.027340983829790142,
          -0.5018930699103409,
          -0.5004007035061088,
          0.8515903770523535,
          -0.5671099706021494,
          -0.7232047497980494,
          0.8736750846043504,
          -0.6750970556490672,
          0.3062347849025579,
          -0.06706368039832318,
          0.14613664796506962,
          0.3001366855212452,
          -0.5525876509265271,
          0.6600713799597425,
          0.8479867071008481,
          0.1028476027647091,
          0.2927048527942873,
          -0.701986349113365,
          -0.4542403324265093,
          -0.19968840361455922,
          -0.01242073342176685,
          0.3225562299843868,
          -0.5301873563088876,
          0.3425287122462896,
          0.825948368163121,
          -0.7375941914459788,
          0.029646580420650208,
          0.6283321901555471,
          -0.16124264418412337,
          0.1451896419590228,
          -0.5234303869243762,
          0.6065147476690185,
          -0.5455769959832403,
          -0.5443842827424108,
          0.550660742093669,
          0.0007521992620130999,
          -0.4982515623083054,
          -0.5198750181756058,
          0.2609413726977301,
          0.17338684766036933,
          0.3303515297532729,
          0.0711472506571249,
          0.12297835180768346,
          -0.7708715412742687,
          0.8782070796542116,
          0.29353760695445047,
          0.11045843987782951,
          -0.03387595987711213,
          -0.5497533557864404,
          0.8114511560410639,
          -0.5281741523123872,
          -0.18843454590759778,
          -0.02309898169574705,
          0.3580781012163402,
          -0.49336319572430415,
          -0.7209280348269731,
          -0.07841610472156851,
          0.3581766550342901,
          0.3687445357422725,
          0.8278312462718892,
          -0.6785265080174887,
          -0.04520580774850716,
          0.36623162088282923,
          0.8715691914694632,
          0.12610608134190582,
          -0.6761840765916959,
          0.8050731197339133,
          -0.5867352010864435,
          0.8776195893127877,
          -0.6887319668372128,
          0.4632425876363089,
          0.003696252876589345,
          0.33006831324042235,
          0.814219197927198,
          0.2819611004228237,
          0.7981393954617436,
          -0.5304345036794259,
          0.9194807963571568,
          -0.5713289289949424,
          0.09005452036492327,
          0.33184225022687575,
          -0.4701414451943285,
          -0.742641013084318,
          0.093487929869475,
          0.8354927312911858
         ],
         "z": [
          -0.8442630247703617,
          0.3875979351573113,
          -0.2705147287816703,
          -0.1194631072574876,
          0.2928722224119154,
          -0.40270380172190745,
          0.27989422376306194,
          0.040499774278677306,
          -0.047149518060705116,
          -0.000264993452837658,
          -0.29913604314566516,
          0.6977492411477499,
          0.40795262649355307,
          0.6647063459531942,
          -0.6239656567477209,
          0.36368673645772454,
          -0.21532728926233433,
          0.21427753614909684,
          -0.25963977502225705,
          0.06174185716654109,
          0.13790519168059612,
          -0.4108467677568329,
          0.4958319500664614,
          0.38188335882339697,
          -0.021015180195522246,
          -0.7063992346407032,
          -0.7344680100789708,
          -0.6325941683869735,
          0.1283271501657106,
          -0.28811560502032935,
          -0.003257952746712013,
          -0.7252250645858462,
          0.29974209030544463,
          0.4753628940533199,
          -0.003987816317955486,
          0.0021114922720038387,
          -0.31224353574596275,
          -0.4058868900376383,
          0.443108055933601,
          0.5892420449325886,
          0.3642529051893767,
          -0.3707214263257838,
          0.3014477401218177,
          0.08904833725834402,
          -0.8188378122329957,
          1.0843553707594953,
          0.5289332941133735,
          0.3651584598916316,
          -0.4506454933388475,
          0.27553123700581367,
          -0.49874335497215977,
          -0.8511294798062603,
          0.006636012297013472,
          -0.33181544099560506,
          -0.2946359477953764,
          0.7455115269254087,
          -0.16759480164041413,
          -0.7825144927021154,
          0.2962345020910283,
          0.35393703063592696,
          -0.5652303887242706,
          -0.0445442542803241,
          -0.18392675490142982,
          -0.17214185901381684,
          -0.5774417879980172,
          -0.518059286843804,
          -0.34851213338850257,
          -0.10411596764164532,
          0.21343918498033285,
          0.1193043792605582,
          -0.005183746141033178,
          0.5352112127119978,
          -0.6587071307876681,
          0.6828822930294278,
          -0.21763573434718153,
          -0.20656986200441244,
          -0.19919303741467556,
          -0.18238039065383646,
          -0.4668789263432653,
          0.014633896834734775,
          0.1811147098565302,
          -0.16869706034886045,
          -0.1379472240955589,
          0.2800102179326123,
          0.9994195040076158,
          0.32691160324904794,
          -0.05012484628412305,
          0.126481961540686,
          0.4379509759811281,
          0.40648803287012597,
          0.5012947020835695,
          -0.5240568103759984,
          -0.7665160475190771,
          0.41831228901610246,
          -0.7997221062273632,
          -0.48373534084342923,
          -0.7637540755925353,
          -0.5580359917142268,
          -0.03453172375052342,
          0.09265970148294526,
          -0.054106487511014704,
          -0.36328688291186606,
          -0.039589059534385435,
          0.6159040302748424,
          -0.5029343296800898,
          0.34177611670946173,
          0.5348980565023435,
          -0.02018324319735288,
          0.08113365730533037,
          -0.1642641314060668,
          0.2130461673813897,
          0.4959986442050046,
          0.4240938952606146,
          1.0856783408611759,
          -0.010373775067668354,
          0.22918983858090344,
          -0.224203892698901,
          1.0876192597656862,
          0.5250036979092214,
          -0.5259899039899331,
          -0.33388137897662823,
          0.30450656111862767,
          -0.01503406600656868,
          0.06649634767858312,
          -0.38596398224713274,
          -0.0486959986313115,
          -0.4582452715441054,
          0.52112435596565,
          -0.2736380151630038,
          -0.096294657306144,
          0.23879131437303694,
          -0.37660951506178647,
          0.284370112860983,
          0.3061974514104487,
          0.41025180415804474,
          -0.7225665488665705,
          0.3584949979475652,
          -0.02398651963908983,
          -0.6165518362942406,
          -0.2865998446974671,
          0.7351946754193904,
          0.26892373312328116,
          -0.034593166448543974,
          -0.6143700167301117,
          0.17071019201725243,
          -0.036684630041468616,
          1.0880302221189273,
          0.5125433152558395,
          -0.7820998917478693,
          -0.35337603397364986,
          -0.4651650187985565,
          0.12884661492640773,
          0.23234774073849376,
          0.5058158534459161,
          0.6402406507938543,
          1.0628002625832946,
          -0.03295088627194374,
          -0.32990183694961706,
          0.6886028723352204,
          -0.26612643164964916,
          -0.27707420689785334,
          0.5367403154311517,
          0.616977335000492,
          -0.22020859202498907,
          -0.34239035689771935,
          -0.764591348259965,
          0.025983380025067476,
          -0.6347333844811688,
          -0.04776478537191149,
          -0.04298852371996217,
          0.1533055253122587,
          0.32702090241635984,
          -0.5320430530998217,
          -0.008285620577000836,
          0.3735054249814961,
          -0.380496418896407,
          0.21376306959162922,
          -0.27308798831186504,
          1.0947955876079087,
          0.4939214120979143,
          -0.561157328628817,
          -0.38589991579013316,
          0.31199904286758984,
          0.35129819043920585,
          -0.4509299205708909,
          -0.5419394690579548,
          0.052435958815841024,
          0.17262068475876122,
          0.4087828602782244,
          -0.5399049346737024,
          0.09279057394152752,
          0.005129833107092631,
          0.379136361206828,
          -0.14133039412598467,
          -0.4589651706189226,
          0.18873498478372044,
          0.3674362115219253,
          0.4053650441941206,
          0.509693864826274,
          -0.5754756958131186,
          0.26545467701230774,
          -0.5601684412087469,
          0.14471496526003033,
          -0.16753753075498154,
          0.3197354331513057,
          -0.3093988911396494,
          -0.3085937376947494,
          -0.7412849591573214,
          -0.18446519558791702,
          0.2779146699764208,
          -0.05373505709943091,
          0.23392617431440046
         ]
        }
       ],
       "layout": {
        "scene": {
         "xaxis": {
          "title": {
           "text": "PC1"
          }
         },
         "yaxis": {
          "title": {
           "text": "PC2"
          }
         },
         "zaxis": {
          "title": {
           "text": "PC3"
          }
         }
        },
        "template": {
         "data": {
          "bar": [
           {
            "error_x": {
             "color": "#2a3f5f"
            },
            "error_y": {
             "color": "#2a3f5f"
            },
            "marker": {
             "line": {
              "color": "#E5ECF6",
              "width": 0.5
             },
             "pattern": {
              "fillmode": "overlay",
              "size": 10,
              "solidity": 0.2
             }
            },
            "type": "bar"
           }
          ],
          "barpolar": [
           {
            "marker": {
             "line": {
              "color": "#E5ECF6",
              "width": 0.5
             },
             "pattern": {
              "fillmode": "overlay",
              "size": 10,
              "solidity": 0.2
             }
            },
            "type": "barpolar"
           }
          ],
          "carpet": [
           {
            "aaxis": {
             "endlinecolor": "#2a3f5f",
             "gridcolor": "white",
             "linecolor": "white",
             "minorgridcolor": "white",
             "startlinecolor": "#2a3f5f"
            },
            "baxis": {
             "endlinecolor": "#2a3f5f",
             "gridcolor": "white",
             "linecolor": "white",
             "minorgridcolor": "white",
             "startlinecolor": "#2a3f5f"
            },
            "type": "carpet"
           }
          ],
          "choropleth": [
           {
            "colorbar": {
             "outlinewidth": 0,
             "ticks": ""
            },
            "type": "choropleth"
           }
          ],
          "contour": [
           {
            "colorbar": {
             "outlinewidth": 0,
             "ticks": ""
            },
            "colorscale": [
             [
              0,
              "#0d0887"
             ],
             [
              0.1111111111111111,
              "#46039f"
             ],
             [
              0.2222222222222222,
              "#7201a8"
             ],
             [
              0.3333333333333333,
              "#9c179e"
             ],
             [
              0.4444444444444444,
              "#bd3786"
             ],
             [
              0.5555555555555556,
              "#d8576b"
             ],
             [
              0.6666666666666666,
              "#ed7953"
             ],
             [
              0.7777777777777778,
              "#fb9f3a"
             ],
             [
              0.8888888888888888,
              "#fdca26"
             ],
             [
              1,
              "#f0f921"
             ]
            ],
            "type": "contour"
           }
          ],
          "contourcarpet": [
           {
            "colorbar": {
             "outlinewidth": 0,
             "ticks": ""
            },
            "type": "contourcarpet"
           }
          ],
          "heatmap": [
           {
            "colorbar": {
             "outlinewidth": 0,
             "ticks": ""
            },
            "colorscale": [
             [
              0,
              "#0d0887"
             ],
             [
              0.1111111111111111,
              "#46039f"
             ],
             [
              0.2222222222222222,
              "#7201a8"
             ],
             [
              0.3333333333333333,
              "#9c179e"
             ],
             [
              0.4444444444444444,
              "#bd3786"
             ],
             [
              0.5555555555555556,
              "#d8576b"
             ],
             [
              0.6666666666666666,
              "#ed7953"
             ],
             [
              0.7777777777777778,
              "#fb9f3a"
             ],
             [
              0.8888888888888888,
              "#fdca26"
             ],
             [
              1,
              "#f0f921"
             ]
            ],
            "type": "heatmap"
           }
          ],
          "heatmapgl": [
           {
            "colorbar": {
             "outlinewidth": 0,
             "ticks": ""
            },
            "colorscale": [
             [
              0,
              "#0d0887"
             ],
             [
              0.1111111111111111,
              "#46039f"
             ],
             [
              0.2222222222222222,
              "#7201a8"
             ],
             [
              0.3333333333333333,
              "#9c179e"
             ],
             [
              0.4444444444444444,
              "#bd3786"
             ],
             [
              0.5555555555555556,
              "#d8576b"
             ],
             [
              0.6666666666666666,
              "#ed7953"
             ],
             [
              0.7777777777777778,
              "#fb9f3a"
             ],
             [
              0.8888888888888888,
              "#fdca26"
             ],
             [
              1,
              "#f0f921"
             ]
            ],
            "type": "heatmapgl"
           }
          ],
          "histogram": [
           {
            "marker": {
             "pattern": {
              "fillmode": "overlay",
              "size": 10,
              "solidity": 0.2
             }
            },
            "type": "histogram"
           }
          ],
          "histogram2d": [
           {
            "colorbar": {
             "outlinewidth": 0,
             "ticks": ""
            },
            "colorscale": [
             [
              0,
              "#0d0887"
             ],
             [
              0.1111111111111111,
              "#46039f"
             ],
             [
              0.2222222222222222,
              "#7201a8"
             ],
             [
              0.3333333333333333,
              "#9c179e"
             ],
             [
              0.4444444444444444,
              "#bd3786"
             ],
             [
              0.5555555555555556,
              "#d8576b"
             ],
             [
              0.6666666666666666,
              "#ed7953"
             ],
             [
              0.7777777777777778,
              "#fb9f3a"
             ],
             [
              0.8888888888888888,
              "#fdca26"
             ],
             [
              1,
              "#f0f921"
             ]
            ],
            "type": "histogram2d"
           }
          ],
          "histogram2dcontour": [
           {
            "colorbar": {
             "outlinewidth": 0,
             "ticks": ""
            },
            "colorscale": [
             [
              0,
              "#0d0887"
             ],
             [
              0.1111111111111111,
              "#46039f"
             ],
             [
              0.2222222222222222,
              "#7201a8"
             ],
             [
              0.3333333333333333,
              "#9c179e"
             ],
             [
              0.4444444444444444,
              "#bd3786"
             ],
             [
              0.5555555555555556,
              "#d8576b"
             ],
             [
              0.6666666666666666,
              "#ed7953"
             ],
             [
              0.7777777777777778,
              "#fb9f3a"
             ],
             [
              0.8888888888888888,
              "#fdca26"
             ],
             [
              1,
              "#f0f921"
             ]
            ],
            "type": "histogram2dcontour"
           }
          ],
          "mesh3d": [
           {
            "colorbar": {
             "outlinewidth": 0,
             "ticks": ""
            },
            "type": "mesh3d"
           }
          ],
          "parcoords": [
           {
            "line": {
             "colorbar": {
              "outlinewidth": 0,
              "ticks": ""
             }
            },
            "type": "parcoords"
           }
          ],
          "pie": [
           {
            "automargin": true,
            "type": "pie"
           }
          ],
          "scatter": [
           {
            "fillpattern": {
             "fillmode": "overlay",
             "size": 10,
             "solidity": 0.2
            },
            "type": "scatter"
           }
          ],
          "scatter3d": [
           {
            "line": {
             "colorbar": {
              "outlinewidth": 0,
              "ticks": ""
             }
            },
            "marker": {
             "colorbar": {
              "outlinewidth": 0,
              "ticks": ""
             }
            },
            "type": "scatter3d"
           }
          ],
          "scattercarpet": [
           {
            "marker": {
             "colorbar": {
              "outlinewidth": 0,
              "ticks": ""
             }
            },
            "type": "scattercarpet"
           }
          ],
          "scattergeo": [
           {
            "marker": {
             "colorbar": {
              "outlinewidth": 0,
              "ticks": ""
             }
            },
            "type": "scattergeo"
           }
          ],
          "scattergl": [
           {
            "marker": {
             "colorbar": {
              "outlinewidth": 0,
              "ticks": ""
             }
            },
            "type": "scattergl"
           }
          ],
          "scattermapbox": [
           {
            "marker": {
             "colorbar": {
              "outlinewidth": 0,
              "ticks": ""
             }
            },
            "type": "scattermapbox"
           }
          ],
          "scatterpolar": [
           {
            "marker": {
             "colorbar": {
              "outlinewidth": 0,
              "ticks": ""
             }
            },
            "type": "scatterpolar"
           }
          ],
          "scatterpolargl": [
           {
            "marker": {
             "colorbar": {
              "outlinewidth": 0,
              "ticks": ""
             }
            },
            "type": "scatterpolargl"
           }
          ],
          "scatterternary": [
           {
            "marker": {
             "colorbar": {
              "outlinewidth": 0,
              "ticks": ""
             }
            },
            "type": "scatterternary"
           }
          ],
          "surface": [
           {
            "colorbar": {
             "outlinewidth": 0,
             "ticks": ""
            },
            "colorscale": [
             [
              0,
              "#0d0887"
             ],
             [
              0.1111111111111111,
              "#46039f"
             ],
             [
              0.2222222222222222,
              "#7201a8"
             ],
             [
              0.3333333333333333,
              "#9c179e"
             ],
             [
              0.4444444444444444,
              "#bd3786"
             ],
             [
              0.5555555555555556,
              "#d8576b"
             ],
             [
              0.6666666666666666,
              "#ed7953"
             ],
             [
              0.7777777777777778,
              "#fb9f3a"
             ],
             [
              0.8888888888888888,
              "#fdca26"
             ],
             [
              1,
              "#f0f921"
             ]
            ],
            "type": "surface"
           }
          ],
          "table": [
           {
            "cells": {
             "fill": {
              "color": "#EBF0F8"
             },
             "line": {
              "color": "white"
             }
            },
            "header": {
             "fill": {
              "color": "#C8D4E3"
             },
             "line": {
              "color": "white"
             }
            },
            "type": "table"
           }
          ]
         },
         "layout": {
          "annotationdefaults": {
           "arrowcolor": "#2a3f5f",
           "arrowhead": 0,
           "arrowwidth": 1
          },
          "autotypenumbers": "strict",
          "coloraxis": {
           "colorbar": {
            "outlinewidth": 0,
            "ticks": ""
           }
          },
          "colorscale": {
           "diverging": [
            [
             0,
             "#8e0152"
            ],
            [
             0.1,
             "#c51b7d"
            ],
            [
             0.2,
             "#de77ae"
            ],
            [
             0.3,
             "#f1b6da"
            ],
            [
             0.4,
             "#fde0ef"
            ],
            [
             0.5,
             "#f7f7f7"
            ],
            [
             0.6,
             "#e6f5d0"
            ],
            [
             0.7,
             "#b8e186"
            ],
            [
             0.8,
             "#7fbc41"
            ],
            [
             0.9,
             "#4d9221"
            ],
            [
             1,
             "#276419"
            ]
           ],
           "sequential": [
            [
             0,
             "#0d0887"
            ],
            [
             0.1111111111111111,
             "#46039f"
            ],
            [
             0.2222222222222222,
             "#7201a8"
            ],
            [
             0.3333333333333333,
             "#9c179e"
            ],
            [
             0.4444444444444444,
             "#bd3786"
            ],
            [
             0.5555555555555556,
             "#d8576b"
            ],
            [
             0.6666666666666666,
             "#ed7953"
            ],
            [
             0.7777777777777778,
             "#fb9f3a"
            ],
            [
             0.8888888888888888,
             "#fdca26"
            ],
            [
             1,
             "#f0f921"
            ]
           ],
           "sequentialminus": [
            [
             0,
             "#0d0887"
            ],
            [
             0.1111111111111111,
             "#46039f"
            ],
            [
             0.2222222222222222,
             "#7201a8"
            ],
            [
             0.3333333333333333,
             "#9c179e"
            ],
            [
             0.4444444444444444,
             "#bd3786"
            ],
            [
             0.5555555555555556,
             "#d8576b"
            ],
            [
             0.6666666666666666,
             "#ed7953"
            ],
            [
             0.7777777777777778,
             "#fb9f3a"
            ],
            [
             0.8888888888888888,
             "#fdca26"
            ],
            [
             1,
             "#f0f921"
            ]
           ]
          },
          "colorway": [
           "#636efa",
           "#EF553B",
           "#00cc96",
           "#ab63fa",
           "#FFA15A",
           "#19d3f3",
           "#FF6692",
           "#B6E880",
           "#FF97FF",
           "#FECB52"
          ],
          "font": {
           "color": "#2a3f5f"
          },
          "geo": {
           "bgcolor": "white",
           "lakecolor": "white",
           "landcolor": "#E5ECF6",
           "showlakes": true,
           "showland": true,
           "subunitcolor": "white"
          },
          "hoverlabel": {
           "align": "left"
          },
          "hovermode": "closest",
          "mapbox": {
           "style": "light"
          },
          "paper_bgcolor": "white",
          "plot_bgcolor": "#E5ECF6",
          "polar": {
           "angularaxis": {
            "gridcolor": "white",
            "linecolor": "white",
            "ticks": ""
           },
           "bgcolor": "#E5ECF6",
           "radialaxis": {
            "gridcolor": "white",
            "linecolor": "white",
            "ticks": ""
           }
          },
          "scene": {
           "xaxis": {
            "backgroundcolor": "#E5ECF6",
            "gridcolor": "white",
            "gridwidth": 2,
            "linecolor": "white",
            "showbackground": true,
            "ticks": "",
            "zerolinecolor": "white"
           },
           "yaxis": {
            "backgroundcolor": "#E5ECF6",
            "gridcolor": "white",
            "gridwidth": 2,
            "linecolor": "white",
            "showbackground": true,
            "ticks": "",
            "zerolinecolor": "white"
           },
           "zaxis": {
            "backgroundcolor": "#E5ECF6",
            "gridcolor": "white",
            "gridwidth": 2,
            "linecolor": "white",
            "showbackground": true,
            "ticks": "",
            "zerolinecolor": "white"
           }
          },
          "shapedefaults": {
           "line": {
            "color": "#2a3f5f"
           }
          },
          "ternary": {
           "aaxis": {
            "gridcolor": "white",
            "linecolor": "white",
            "ticks": ""
           },
           "baxis": {
            "gridcolor": "white",
            "linecolor": "white",
            "ticks": ""
           },
           "bgcolor": "#E5ECF6",
           "caxis": {
            "gridcolor": "white",
            "linecolor": "white",
            "ticks": ""
           }
          },
          "title": {
           "x": 0.05
          },
          "xaxis": {
           "automargin": true,
           "gridcolor": "white",
           "linecolor": "white",
           "ticks": "",
           "title": {
            "standoff": 15
           },
           "zerolinecolor": "white",
           "zerolinewidth": 2
          },
          "yaxis": {
           "automargin": true,
           "gridcolor": "white",
           "linecolor": "white",
           "ticks": "",
           "title": {
            "standoff": 15
           },
           "zerolinecolor": "white",
           "zerolinewidth": 2
          }
         }
        },
        "title": {
         "text": "Visualization of 3 first principal components"
        },
        "xaxis": {
         "range": [
          -2,
          2
         ]
        }
       }
      }
     },
     "metadata": {},
     "output_type": "display_data"
    },
    {
     "data": {
      "application/vnd.plotly.v1+json": {
       "config": {
        "plotlyServerURL": "https://plot.ly"
       },
       "data": [
        {
         "marker": {
          "color": [
           5,
           4,
           1,
           1,
           3,
           5,
           3,
           0,
           0,
           0,
           1,
           2,
           6,
           6,
           5,
           4,
           1,
           4,
           1,
           0,
           3,
           1,
           6,
           6,
           0,
           5,
           5,
           5,
           3,
           1,
           0,
           5,
           4,
           6,
           4,
           0,
           1,
           1,
           6,
           6,
           4,
           1,
           3,
           4,
           5,
           2,
           6,
           4,
           1,
           4,
           5,
           5,
           0,
           1,
           1,
           2,
           0,
           5,
           6,
           4,
           5,
           0,
           0,
           1,
           5,
           5,
           1,
           0,
           3,
           3,
           0,
           6,
           5,
           6,
           1,
           0,
           1,
           1,
           1,
           0,
           4,
           1,
           1,
           4,
           2,
           6,
           4,
           3,
           6,
           4,
           6,
           5,
           5,
           6,
           5,
           5,
           5,
           5,
           3,
           3,
           0,
           1,
           0,
           2,
           1,
           4,
           2,
           0,
           3,
           1,
           3,
           6,
           6,
           2,
           3,
           4,
           1,
           2,
           6,
           5,
           1,
           4,
           0,
           3,
           1,
           0,
           5,
           6,
           1,
           1,
           3,
           1,
           4,
           3,
           4,
           5,
           6,
           0,
           5,
           1,
           2,
           3,
           0,
           5,
           4,
           1,
           2,
           6,
           5,
           1,
           5,
           3,
           4,
           6,
           2,
           2,
           0,
           1,
           2,
           1,
           1,
           2,
           6,
           1,
           1,
           5,
           0,
           5,
           0,
           0,
           4,
           3,
           5,
           0,
           6,
           1,
           3,
           1,
           2,
           6,
           5,
           1,
           4,
           6,
           5,
           5,
           3,
           4,
           6,
           5,
           3,
           0,
           4,
           3,
           1,
           3,
           4,
           3,
           6,
           5,
           3,
           5,
           3,
           1,
           3,
           1,
           0,
           5,
           1,
           4,
           0,
           3
          ],
          "size": 4
         },
         "mode": "markers",
         "type": "scatter3d",
         "x": [
          0.927683294680231,
          -0.034320054787086766,
          -0.13321472713032123,
          -0.01730241679784072,
          -0.0805246187044932,
          -0.02802881167718901,
          0.03927450188018615,
          0.18348664905896914,
          -0.44429733436061847,
          -0.15881422923304808,
          0.3041702029237541,
          1.103189205377917,
          -0.014816006238971256,
          0.12416670593484612,
          -0.25791128588983286,
          -0.006045800645853639,
          0.12636407161280744,
          0.45160953866202214,
          -0.2124774783858402,
          0.10870869303046046,
          -0.007386606688809857,
          -0.21264175767150442,
          -0.14127830667042943,
          -0.004834724018130255,
          -0.2129189534324713,
          0.526001239518062,
          -0.297720767205341,
          -0.34702075551624556,
          -0.2584574273499065,
          0.3236072013016637,
          -0.13179858386808588,
          -0.24515068536070336,
          0.1703210168401276,
          -0.08180492144349612,
          0.13576411109603964,
          -0.16743936995594516,
          0.9709318943894382,
          0.1577768575055975,
          -0.21899296374419452,
          -0.19195402503169073,
          -0.07624146475198172,
          -0.2039605745018866,
          -0.012808371297544948,
          -0.1645805036062688,
          0.02660297297067401,
          0.06153879052751625,
          -0.24383966726136158,
          -0.05890369108724227,
          -0.006712399716258335,
          -0.35045717914946667,
          -0.20214274596622742,
          -0.17389548198097246,
          -0.11938241809469162,
          0.0701560723922151,
          -0.3091053602709108,
          -0.08657510647331065,
          0.27540405859839473,
          0.11124358287058175,
          0.1089967458999773,
          -0.06578565088123801,
          -0.4946397867339362,
          -0.2508004082032895,
          0.8002535456223855,
          -0.2916283478884075,
          -0.07254104227708609,
          -0.4148894253391836,
          -0.13185106836086322,
          -0.48549883486836487,
          0.09213662953487554,
          -0.28697458891776556,
          -0.10732594153320651,
          -0.059947118869009004,
          -0.3656261602870175,
          0.13426037993209608,
          -0.15279273600761678,
          0.6459021043439658,
          -0.33909036990809366,
          -0.27403836744902704,
          0.6148100201075248,
          -0.20056573705882055,
          -0.34999343904650476,
          -0.34672400047628027,
          -0.25177257689623356,
          -0.3751859210466449,
          0.887689229340251,
          -0.14261877436054915,
          -0.12436630833798365,
          -0.23985326500821236,
          -0.2578541418722295,
          0.28928441955732725,
          -0.14079165900787793,
          0.7319322003467172,
          0.1570438791160102,
          0.17205920919466977,
          1.2057382585519374,
          -0.24374052306739144,
          0.19164975779839027,
          -0.4878976606846602,
          0.6352324350967272,
          0.5732125503087495,
          -0.43958698121215944,
          -0.11413012780557515,
          -0.21133149986877542,
          0.1943923714588429,
          1.0066536534828434,
          -0.09983319627040167,
          -0.14260382039940886,
          -0.2562535438816667,
          0.13447351006606414,
          0.8929516942203685,
          -0.377121149770375,
          0.0636041404949711,
          0.679986107852089,
          0.005751160023228385,
          -0.18120693779563796,
          -0.06448100960559057,
          -0.16492975368642776,
          0.06790591092668638,
          0.11858199840073765,
          -0.43453017945485356,
          -0.11922260659709599,
          -0.15832279160624013,
          -0.1533215868290365,
          0.12277648081067392,
          -0.1973479688896314,
          -0.30504765301017567,
          -0.09861110048254969,
          -0.019644277598937734,
          0.8779302246404754,
          -0.01859093499454956,
          -0.3072506723945333,
          -0.21865729237682657,
          -0.32113002258384465,
          0.034518191079905745,
          0.3106689552794185,
          -0.20209529641604473,
          -0.12728364977382597,
          -0.15968216026932242,
          -0.23058707955888563,
          -0.2787426057138292,
          -0.0688175372630561,
          -0.07710362865027696,
          -0.19197757717202585,
          -0.0952231993012818,
          0.827647744650024,
          0.03887288457049215,
          -0.001040572104155103,
          0.05917397693067036,
          -0.08634237640949617,
          0.6303268529625597,
          -0.0742626195025239,
          -0.20833535758180063,
          0.6665594381830754,
          -0.05012850342865712,
          0.7868721385807274,
          -0.15286934454182885,
          -0.3983161054818098,
          0.6540365286341684,
          -0.16840766195210766,
          -0.27974295067340316,
          -0.2364792164915231,
          -0.3963069857756784,
          -0.18474669827192425,
          0.2731340573986186,
          -0.17425730220809013,
          -0.30368393354046697,
          -0.07602269888959483,
          0.9474136574501013,
          -0.22953256408869424,
          -0.25299539542426785,
          -0.31799198161624764,
          0.4096919759263706,
          -0.4834104818510793,
          -0.08144135126897031,
          -0.11121803161607331,
          -0.20001132767449215,
          -0.3185682029331285,
          -0.21713887348894909,
          0.011935107835322398,
          0.052792291271148116,
          0.018559968962848592,
          0.29513631203344065,
          -0.2933991597903329,
          -0.14505232069383392,
          -0.04492321735703925,
          0.040607323364946615,
          0.077777834161341,
          0.15212661849170533,
          0.13385650581721836,
          0.14804405829421952,
          0.605012965414483,
          -0.14652264772092127,
          -0.060478188829917304,
          0.7647753275005392,
          0.5590323580759073,
          0.06682813019578816,
          0.011403922928736829,
          0.20321726456350298,
          -0.15675908415175902,
          -0.09723037280970825,
          -0.15210410133507196,
          -0.463698053720998,
          -0.23280937302631546,
          -0.3381946407671764,
          0.08708558024200168,
          -0.272747144008501,
          0.06856051133922562,
          -0.1662391837529871,
          0.7561160797843433,
          -0.32565237314443884,
          -0.3696529150058197,
          -0.3210612557066512
         ],
         "y": [
          0.27772051270796133,
          -0.19271020491908014,
          -0.015789532531183457,
          -0.314557816039129,
          -0.23914225992426372,
          -0.335144124749941,
          -0.2548377096415455,
          -0.4346647189261869,
          0.3657864051083524,
          -0.010933238397399228,
          -0.7084652495723951,
          0.1167481693926661,
          0.03864880710125725,
          -0.39120982026019047,
          0.08884005093618573,
          -0.2184678832894581,
          -0.476050201005635,
          0.8164243724554703,
          -0.006360240215858798,
          -0.47094539042821265,
          -0.16441993587579515,
          0.04135678140860247,
          0.05831380516521554,
          0.07287837156224403,
          -0.010726269791662463,
          -0.801736020374993,
          0.16272459428087419,
          0.1573046884261663,
          0.16852276791709334,
          -0.6595609708237874,
          -0.10340519420341303,
          0.1265441581244722,
          -0.2496497142666454,
          0.08441024297881876,
          -0.24896254498447695,
          -0.09387034378214273,
          -0.0652945108818905,
          -0.4374113363087571,
          0.09916748053917289,
          0.10666723710956973,
          -0.0914294263640386,
          0.04801415915545738,
          -0.1568623018088591,
          0.2698728380351583,
          -0.22042009576563557,
          -0.012143137075849617,
          0.07368780624407162,
          -0.16683920451229337,
          -0.04412129110973096,
          0.326454606563019,
          -0.17096725392597578,
          0.09679684047972703,
          -0.09824991399630376,
          -0.3659471092660019,
          0.08751908950688514,
          0.04765686922723832,
          0.9791986626056521,
          -0.3477566179960454,
          0.006356546174922072,
          -0.20581063406886485,
          0.19693567503907394,
          -0.09988267490598014,
          0.5324058046014243,
          0.040783330436552565,
          -0.23100201912717064,
          0.211910109991509,
          0.0260868006235267,
          0.46928814177350336,
          -0.31030784799977357,
          0.20084460029843582,
          -0.06961047504258173,
          0.055152544159155124,
          0.1873641420250351,
          -0.36949069574406146,
          -0.0006202938245822521,
          0.5605771456871235,
          0.11029634915116639,
          0.03724305058917714,
          0.6168419381855252,
          -0.009759951578901142,
          0.2816365314125079,
          0.04456641876865558,
          0.014081133650795797,
          0.33009281331908297,
          0.5289066113459331,
          0.07055844638335801,
          0.19887708003437576,
          0.15277703739268916,
          0.10408364548870874,
          -0.5654169380500347,
          0.12704829813348156,
          0.23551589766416808,
          -0.24388859375729596,
          -0.2769306731393992,
          -0.15870085250226937,
          0.04107792624514133,
          -0.28565533312997415,
          0.22499060052675818,
          0.7304717210201958,
          0.7045558847824464,
          0.35207946293998205,
          -0.02082314426456607,
          -0.11161339209272471,
          -0.3470798340780828,
          0.20316702451646157,
          -0.13400296807732215,
          0.3348228063293032,
          -0.022426781264821463,
          -0.24574999580723128,
          0.09673887094317436,
          0.21500377972014315,
          -0.2731369873101504,
          -0.858247425308893,
          -0.06223299834431426,
          0.10688953690726333,
          -0.13941064220366825,
          0.07472753198902349,
          -0.06629945745608253,
          -0.34865961082724456,
          0.12656720818737086,
          -0.00956597492854833,
          -0.1473687472038399,
          -0.07613800658835793,
          -0.25053247484039404,
          0.03938535939923116,
          0.20080850043931872,
          -0.24953017313784778,
          0.03905367791101512,
          0.12219540294965871,
          -0.41343737032114797,
          0.24762136116677275,
          0.018691386649354002,
          0.28659862429773986,
          -0.2529477834609495,
          -0.7083571122835816,
          0.1333989212003228,
          0.06684743268540036,
          0.032492852114220844,
          0.020738968478321802,
          0.06687084333495216,
          0.05667999521474978,
          -0.17172264243667668,
          -0.02264678562940854,
          -0.2771214059626442,
          0.4323007330664275,
          -0.4471284023477889,
          -0.04314203379681928,
          -0.28979500749221776,
          0.06067555176240503,
          0.5933210543816156,
          -0.3281194097166886,
          0.20427699777635613,
          0.4773268765827251,
          0.11148374628727864,
          0.5194421223485574,
          0.3715502609292761,
          0.4350320648101758,
          0.5335548310311324,
          0.0993293629908689,
          0.04435100386954728,
          0.049484497334490056,
          0.45498016243914036,
          0.062335712619039904,
          -0.757603684883137,
          0.03736214160579896,
          0.16612388455758623,
          -0.057954534050068715,
          -0.05791377104774654,
          -0.08913288445742329,
          0.07881457292421509,
          0.30743749090906786,
          -0.81146316439283,
          0.1867934942116698,
          -0.16221540706748833,
          0.0846362323980879,
          0.05482474699778865,
          0.21362015406561913,
          0.06548490793438794,
          -0.05561099291351406,
          -0.2688710167064667,
          -0.2544635056613656,
          -0.4938757114803305,
          0.23792289904836747,
          0.06130078238188605,
          -0.3081878210989914,
          -0.30693943236809446,
          -0.17211360263429518,
          -0.13609379280390133,
          -0.34140500448059874,
          -0.5699188977366403,
          0.7514628700367483,
          -0.1250888354500518,
          -0.11093064290221383,
          0.663643142069594,
          0.5733799207046051,
          -0.1666648747056763,
          -0.25626405033697075,
          -0.3443477404467046,
          0.10123137423260152,
          -0.22772588456098078,
          -0.21041589532895283,
          0.2163910800329714,
          0.11576025988905182,
          0.07857749862592212,
          -0.2863080174845978,
          0.06370275335515178,
          -0.12667981235273992,
          0.19678951104537745,
          0.2900093780738866,
          0.3103466640564521,
          0.2950987770600957,
          0.22742950666395906
         ],
         "z": [
          0.2796127454362436,
          -0.10950078625371967,
          -0.1521770824031495,
          -0.46068270279422285,
          -0.31419993785053013,
          -0.478691879949924,
          -0.2709741549994691,
          0.03319746549990114,
          0.012661604058037701,
          0.025879268113887178,
          0.1279365709124965,
          -0.02678009888674932,
          0.25187522268116574,
          -0.43609019266680676,
          -0.0693596358184017,
          -0.07553591109261285,
          -0.1723616464383823,
          -0.2104264266311303,
          -0.1269364864410601,
          -0.049739292229463355,
          0.06007441981970087,
          0.1854957937701586,
          -0.03620543637978079,
          0.24851357926041984,
          0.029666129983621375,
          0.43201317594420546,
          0.2539257669893531,
          -0.04805477547501774,
          0.04980308465014845,
          0.12037733231400408,
          0.010754407594979346,
          0.20837814088576573,
          0.1703869327711189,
          -0.01536347287265677,
          0.8786732612322625,
          0.003847201089564741,
          -0.2818531849102809,
          0.3809800770605622,
          0.025854821831270983,
          -0.3344604087751492,
          -0.03311241321575032,
          0.16852848559478928,
          -0.258556409704769,
          0.5654799823667813,
          0.5188233707872654,
          0.11010148840646482,
          -0.24204493362702054,
          -0.05385023220898531,
          0.39167209755876387,
          0.01065812429925277,
          -0.33516583649070275,
          0.5494070017040701,
          -0.01853181883313858,
          0.1302894069117905,
          -0.09554845008087383,
          0.18298933820096788,
          -0.08625579033853586,
          0.45749746413877856,
          0.5273066746271048,
          -0.07000500842905648,
          -0.3114264840804596,
          0.03942710404663329,
          0.13817674796137416,
          -0.4274339403845115,
          -0.10033273032632642,
          -0.3455852010587525,
          0.1244320402599407,
          0.13699584735666884,
          -0.06968227987959985,
          0.051293875483184224,
          0.030094061324112263,
          -0.08292859386259306,
          -0.011563578207218629,
          -0.4043292241402293,
          -0.2123398028250489,
          0.14985202442002227,
          -0.3694193877434178,
          -0.38888187688160836,
          -0.022027151610392096,
          -0.011186721018497927,
          0.27668672881661577,
          -0.4402246196718782,
          -0.49746818752682986,
          0.018543911980170663,
          -0.07808497334472266,
          0.3332473276105037,
          0.9031912303469863,
          0.04297590964952097,
          0.018089654397538908,
          -0.1109572903067915,
          -0.0243445955273696,
          -0.6357208459440811,
          0.4898726353026862,
          0.26601730846713467,
          0.24237389226536507,
          -0.4192167896307495,
          0.462537520807361,
          -0.29829090287742016,
          0.1336236444855754,
          -0.22599157752972873,
          0.040891454274023444,
          0.12671086396336592,
          0.0381646029981328,
          0.4906448167377342,
          0.25118704216648674,
          -0.010001243888915637,
          0.663038589973222,
          0.04067848671325255,
          0.30719977711477214,
          -0.7121577054137006,
          -0.22696578373162465,
          0.0011331054683405876,
          0.413626731661395,
          0.08451982982782481,
          0.3676986554706271,
          0.24878533560219032,
          -0.16922967328472938,
          0.09023896917277746,
          -0.06337141855969679,
          -0.3558060967570408,
          0.09649523238568515,
          0.0030213419313786516,
          0.01648256178053715,
          0.31337033450494095,
          0.16693496348940745,
          0.00945951810346132,
          -0.408631190312498,
          -0.07020790311181206,
          -0.4086232264887746,
          -0.5118493001367949,
          -0.23312173088505528,
          0.15221466952075255,
          0.02893130294742889,
          -0.323644212158705,
          -0.11123633536013765,
          0.21798961871522196,
          0.27502798428128455,
          0.0741773984136366,
          -0.09513673306711164,
          -0.11427361366580739,
          0.16989987621328614,
          -0.2547789427214212,
          0.05209860359905137,
          -0.047601671861379875,
          0.05323758211754337,
          -0.5922761016172572,
          0.06448899450151492,
          -0.0271153667369756,
          0.4519659874197175,
          -0.3142257666063005,
          -0.39643525865231655,
          0.04180925686094318,
          -0.19088778478878077,
          -0.04088097328401346,
          -0.017662364124865874,
          0.12234012423399927,
          0.029133176046730314,
          -0.3597221112491961,
          0.222641610526972,
          -0.14724135343280445,
          -0.1369967014097629,
          0.5374867590339456,
          -0.3836756022026674,
          -0.11122018706919663,
          0.12210585490417455,
          0.2728203632153395,
          -0.011403761695205412,
          -0.28572524825997186,
          0.05584248861653927,
          0.1067141365601572,
          0.3391994278300411,
          -0.33294276892885394,
          -0.33245887689106424,
          -0.011632626825926544,
          0.2953286188839381,
          0.17347714274928866,
          -0.22358409543051827,
          -0.12988722286535884,
          0.07484885352678732,
          -0.004585315241438577,
          -0.12388036781761923,
          0.3449759546407087,
          -0.03735529492247978,
          0.2844663278212711,
          -0.43125703678968735,
          -0.14812131931735983,
          0.3329266834154907,
          0.4976905016603394,
          0.2318723933800659,
          -0.09429477950989726,
          -0.16028086261620794,
          0.003214274360998443,
          -0.08991253840364813,
          0.4201376221922138,
          -0.05010201754222348,
          0.010180391048014279,
          -0.0618441291756698,
          -0.12035523912615358,
          -0.053840746349622576,
          -0.09663664246718733,
          -0.2616853052977797,
          -0.3054201231902809,
          -0.0020309262890685935,
          -0.43195105921345245,
          -0.28609511878285815,
          -0.08765250363935992,
          0.8511711511767082,
          0.2837134592011002,
          -0.6571910611842502,
          -0.0008358161583872387,
          0.02937933715402319,
          -0.23604172489860747
         ]
        }
       ],
       "layout": {
        "scene": {
         "xaxis": {
          "title": {
           "text": "PC4"
          }
         },
         "yaxis": {
          "title": {
           "text": "PC5"
          }
         },
         "zaxis": {
          "title": {
           "text": "PC6"
          }
         }
        },
        "template": {
         "data": {
          "bar": [
           {
            "error_x": {
             "color": "#2a3f5f"
            },
            "error_y": {
             "color": "#2a3f5f"
            },
            "marker": {
             "line": {
              "color": "#E5ECF6",
              "width": 0.5
             },
             "pattern": {
              "fillmode": "overlay",
              "size": 10,
              "solidity": 0.2
             }
            },
            "type": "bar"
           }
          ],
          "barpolar": [
           {
            "marker": {
             "line": {
              "color": "#E5ECF6",
              "width": 0.5
             },
             "pattern": {
              "fillmode": "overlay",
              "size": 10,
              "solidity": 0.2
             }
            },
            "type": "barpolar"
           }
          ],
          "carpet": [
           {
            "aaxis": {
             "endlinecolor": "#2a3f5f",
             "gridcolor": "white",
             "linecolor": "white",
             "minorgridcolor": "white",
             "startlinecolor": "#2a3f5f"
            },
            "baxis": {
             "endlinecolor": "#2a3f5f",
             "gridcolor": "white",
             "linecolor": "white",
             "minorgridcolor": "white",
             "startlinecolor": "#2a3f5f"
            },
            "type": "carpet"
           }
          ],
          "choropleth": [
           {
            "colorbar": {
             "outlinewidth": 0,
             "ticks": ""
            },
            "type": "choropleth"
           }
          ],
          "contour": [
           {
            "colorbar": {
             "outlinewidth": 0,
             "ticks": ""
            },
            "colorscale": [
             [
              0,
              "#0d0887"
             ],
             [
              0.1111111111111111,
              "#46039f"
             ],
             [
              0.2222222222222222,
              "#7201a8"
             ],
             [
              0.3333333333333333,
              "#9c179e"
             ],
             [
              0.4444444444444444,
              "#bd3786"
             ],
             [
              0.5555555555555556,
              "#d8576b"
             ],
             [
              0.6666666666666666,
              "#ed7953"
             ],
             [
              0.7777777777777778,
              "#fb9f3a"
             ],
             [
              0.8888888888888888,
              "#fdca26"
             ],
             [
              1,
              "#f0f921"
             ]
            ],
            "type": "contour"
           }
          ],
          "contourcarpet": [
           {
            "colorbar": {
             "outlinewidth": 0,
             "ticks": ""
            },
            "type": "contourcarpet"
           }
          ],
          "heatmap": [
           {
            "colorbar": {
             "outlinewidth": 0,
             "ticks": ""
            },
            "colorscale": [
             [
              0,
              "#0d0887"
             ],
             [
              0.1111111111111111,
              "#46039f"
             ],
             [
              0.2222222222222222,
              "#7201a8"
             ],
             [
              0.3333333333333333,
              "#9c179e"
             ],
             [
              0.4444444444444444,
              "#bd3786"
             ],
             [
              0.5555555555555556,
              "#d8576b"
             ],
             [
              0.6666666666666666,
              "#ed7953"
             ],
             [
              0.7777777777777778,
              "#fb9f3a"
             ],
             [
              0.8888888888888888,
              "#fdca26"
             ],
             [
              1,
              "#f0f921"
             ]
            ],
            "type": "heatmap"
           }
          ],
          "heatmapgl": [
           {
            "colorbar": {
             "outlinewidth": 0,
             "ticks": ""
            },
            "colorscale": [
             [
              0,
              "#0d0887"
             ],
             [
              0.1111111111111111,
              "#46039f"
             ],
             [
              0.2222222222222222,
              "#7201a8"
             ],
             [
              0.3333333333333333,
              "#9c179e"
             ],
             [
              0.4444444444444444,
              "#bd3786"
             ],
             [
              0.5555555555555556,
              "#d8576b"
             ],
             [
              0.6666666666666666,
              "#ed7953"
             ],
             [
              0.7777777777777778,
              "#fb9f3a"
             ],
             [
              0.8888888888888888,
              "#fdca26"
             ],
             [
              1,
              "#f0f921"
             ]
            ],
            "type": "heatmapgl"
           }
          ],
          "histogram": [
           {
            "marker": {
             "pattern": {
              "fillmode": "overlay",
              "size": 10,
              "solidity": 0.2
             }
            },
            "type": "histogram"
           }
          ],
          "histogram2d": [
           {
            "colorbar": {
             "outlinewidth": 0,
             "ticks": ""
            },
            "colorscale": [
             [
              0,
              "#0d0887"
             ],
             [
              0.1111111111111111,
              "#46039f"
             ],
             [
              0.2222222222222222,
              "#7201a8"
             ],
             [
              0.3333333333333333,
              "#9c179e"
             ],
             [
              0.4444444444444444,
              "#bd3786"
             ],
             [
              0.5555555555555556,
              "#d8576b"
             ],
             [
              0.6666666666666666,
              "#ed7953"
             ],
             [
              0.7777777777777778,
              "#fb9f3a"
             ],
             [
              0.8888888888888888,
              "#fdca26"
             ],
             [
              1,
              "#f0f921"
             ]
            ],
            "type": "histogram2d"
           }
          ],
          "histogram2dcontour": [
           {
            "colorbar": {
             "outlinewidth": 0,
             "ticks": ""
            },
            "colorscale": [
             [
              0,
              "#0d0887"
             ],
             [
              0.1111111111111111,
              "#46039f"
             ],
             [
              0.2222222222222222,
              "#7201a8"
             ],
             [
              0.3333333333333333,
              "#9c179e"
             ],
             [
              0.4444444444444444,
              "#bd3786"
             ],
             [
              0.5555555555555556,
              "#d8576b"
             ],
             [
              0.6666666666666666,
              "#ed7953"
             ],
             [
              0.7777777777777778,
              "#fb9f3a"
             ],
             [
              0.8888888888888888,
              "#fdca26"
             ],
             [
              1,
              "#f0f921"
             ]
            ],
            "type": "histogram2dcontour"
           }
          ],
          "mesh3d": [
           {
            "colorbar": {
             "outlinewidth": 0,
             "ticks": ""
            },
            "type": "mesh3d"
           }
          ],
          "parcoords": [
           {
            "line": {
             "colorbar": {
              "outlinewidth": 0,
              "ticks": ""
             }
            },
            "type": "parcoords"
           }
          ],
          "pie": [
           {
            "automargin": true,
            "type": "pie"
           }
          ],
          "scatter": [
           {
            "fillpattern": {
             "fillmode": "overlay",
             "size": 10,
             "solidity": 0.2
            },
            "type": "scatter"
           }
          ],
          "scatter3d": [
           {
            "line": {
             "colorbar": {
              "outlinewidth": 0,
              "ticks": ""
             }
            },
            "marker": {
             "colorbar": {
              "outlinewidth": 0,
              "ticks": ""
             }
            },
            "type": "scatter3d"
           }
          ],
          "scattercarpet": [
           {
            "marker": {
             "colorbar": {
              "outlinewidth": 0,
              "ticks": ""
             }
            },
            "type": "scattercarpet"
           }
          ],
          "scattergeo": [
           {
            "marker": {
             "colorbar": {
              "outlinewidth": 0,
              "ticks": ""
             }
            },
            "type": "scattergeo"
           }
          ],
          "scattergl": [
           {
            "marker": {
             "colorbar": {
              "outlinewidth": 0,
              "ticks": ""
             }
            },
            "type": "scattergl"
           }
          ],
          "scattermapbox": [
           {
            "marker": {
             "colorbar": {
              "outlinewidth": 0,
              "ticks": ""
             }
            },
            "type": "scattermapbox"
           }
          ],
          "scatterpolar": [
           {
            "marker": {
             "colorbar": {
              "outlinewidth": 0,
              "ticks": ""
             }
            },
            "type": "scatterpolar"
           }
          ],
          "scatterpolargl": [
           {
            "marker": {
             "colorbar": {
              "outlinewidth": 0,
              "ticks": ""
             }
            },
            "type": "scatterpolargl"
           }
          ],
          "scatterternary": [
           {
            "marker": {
             "colorbar": {
              "outlinewidth": 0,
              "ticks": ""
             }
            },
            "type": "scatterternary"
           }
          ],
          "surface": [
           {
            "colorbar": {
             "outlinewidth": 0,
             "ticks": ""
            },
            "colorscale": [
             [
              0,
              "#0d0887"
             ],
             [
              0.1111111111111111,
              "#46039f"
             ],
             [
              0.2222222222222222,
              "#7201a8"
             ],
             [
              0.3333333333333333,
              "#9c179e"
             ],
             [
              0.4444444444444444,
              "#bd3786"
             ],
             [
              0.5555555555555556,
              "#d8576b"
             ],
             [
              0.6666666666666666,
              "#ed7953"
             ],
             [
              0.7777777777777778,
              "#fb9f3a"
             ],
             [
              0.8888888888888888,
              "#fdca26"
             ],
             [
              1,
              "#f0f921"
             ]
            ],
            "type": "surface"
           }
          ],
          "table": [
           {
            "cells": {
             "fill": {
              "color": "#EBF0F8"
             },
             "line": {
              "color": "white"
             }
            },
            "header": {
             "fill": {
              "color": "#C8D4E3"
             },
             "line": {
              "color": "white"
             }
            },
            "type": "table"
           }
          ]
         },
         "layout": {
          "annotationdefaults": {
           "arrowcolor": "#2a3f5f",
           "arrowhead": 0,
           "arrowwidth": 1
          },
          "autotypenumbers": "strict",
          "coloraxis": {
           "colorbar": {
            "outlinewidth": 0,
            "ticks": ""
           }
          },
          "colorscale": {
           "diverging": [
            [
             0,
             "#8e0152"
            ],
            [
             0.1,
             "#c51b7d"
            ],
            [
             0.2,
             "#de77ae"
            ],
            [
             0.3,
             "#f1b6da"
            ],
            [
             0.4,
             "#fde0ef"
            ],
            [
             0.5,
             "#f7f7f7"
            ],
            [
             0.6,
             "#e6f5d0"
            ],
            [
             0.7,
             "#b8e186"
            ],
            [
             0.8,
             "#7fbc41"
            ],
            [
             0.9,
             "#4d9221"
            ],
            [
             1,
             "#276419"
            ]
           ],
           "sequential": [
            [
             0,
             "#0d0887"
            ],
            [
             0.1111111111111111,
             "#46039f"
            ],
            [
             0.2222222222222222,
             "#7201a8"
            ],
            [
             0.3333333333333333,
             "#9c179e"
            ],
            [
             0.4444444444444444,
             "#bd3786"
            ],
            [
             0.5555555555555556,
             "#d8576b"
            ],
            [
             0.6666666666666666,
             "#ed7953"
            ],
            [
             0.7777777777777778,
             "#fb9f3a"
            ],
            [
             0.8888888888888888,
             "#fdca26"
            ],
            [
             1,
             "#f0f921"
            ]
           ],
           "sequentialminus": [
            [
             0,
             "#0d0887"
            ],
            [
             0.1111111111111111,
             "#46039f"
            ],
            [
             0.2222222222222222,
             "#7201a8"
            ],
            [
             0.3333333333333333,
             "#9c179e"
            ],
            [
             0.4444444444444444,
             "#bd3786"
            ],
            [
             0.5555555555555556,
             "#d8576b"
            ],
            [
             0.6666666666666666,
             "#ed7953"
            ],
            [
             0.7777777777777778,
             "#fb9f3a"
            ],
            [
             0.8888888888888888,
             "#fdca26"
            ],
            [
             1,
             "#f0f921"
            ]
           ]
          },
          "colorway": [
           "#636efa",
           "#EF553B",
           "#00cc96",
           "#ab63fa",
           "#FFA15A",
           "#19d3f3",
           "#FF6692",
           "#B6E880",
           "#FF97FF",
           "#FECB52"
          ],
          "font": {
           "color": "#2a3f5f"
          },
          "geo": {
           "bgcolor": "white",
           "lakecolor": "white",
           "landcolor": "#E5ECF6",
           "showlakes": true,
           "showland": true,
           "subunitcolor": "white"
          },
          "hoverlabel": {
           "align": "left"
          },
          "hovermode": "closest",
          "mapbox": {
           "style": "light"
          },
          "paper_bgcolor": "white",
          "plot_bgcolor": "#E5ECF6",
          "polar": {
           "angularaxis": {
            "gridcolor": "white",
            "linecolor": "white",
            "ticks": ""
           },
           "bgcolor": "#E5ECF6",
           "radialaxis": {
            "gridcolor": "white",
            "linecolor": "white",
            "ticks": ""
           }
          },
          "scene": {
           "xaxis": {
            "backgroundcolor": "#E5ECF6",
            "gridcolor": "white",
            "gridwidth": 2,
            "linecolor": "white",
            "showbackground": true,
            "ticks": "",
            "zerolinecolor": "white"
           },
           "yaxis": {
            "backgroundcolor": "#E5ECF6",
            "gridcolor": "white",
            "gridwidth": 2,
            "linecolor": "white",
            "showbackground": true,
            "ticks": "",
            "zerolinecolor": "white"
           },
           "zaxis": {
            "backgroundcolor": "#E5ECF6",
            "gridcolor": "white",
            "gridwidth": 2,
            "linecolor": "white",
            "showbackground": true,
            "ticks": "",
            "zerolinecolor": "white"
           }
          },
          "shapedefaults": {
           "line": {
            "color": "#2a3f5f"
           }
          },
          "ternary": {
           "aaxis": {
            "gridcolor": "white",
            "linecolor": "white",
            "ticks": ""
           },
           "baxis": {
            "gridcolor": "white",
            "linecolor": "white",
            "ticks": ""
           },
           "bgcolor": "#E5ECF6",
           "caxis": {
            "gridcolor": "white",
            "linecolor": "white",
            "ticks": ""
           }
          },
          "title": {
           "x": 0.05
          },
          "xaxis": {
           "automargin": true,
           "gridcolor": "white",
           "linecolor": "white",
           "ticks": "",
           "title": {
            "standoff": 15
           },
           "zerolinecolor": "white",
           "zerolinewidth": 2
          },
          "yaxis": {
           "automargin": true,
           "gridcolor": "white",
           "linecolor": "white",
           "ticks": "",
           "title": {
            "standoff": 15
           },
           "zerolinecolor": "white",
           "zerolinewidth": 2
          }
         }
        },
        "title": {
         "text": "Visualization of 4, 5, 6 principal components"
        },
        "xaxis": {
         "range": [
          -2,
          2
         ]
        },
        "yaxis": {
         "range": [
          -2,
          2
         ]
        }
       }
      }
     },
     "metadata": {},
     "output_type": "display_data"
    },
    {
     "data": {
      "application/vnd.plotly.v1+json": {
       "config": {
        "plotlyServerURL": "https://plot.ly"
       },
       "data": [
        {
         "marker": {
          "color": [
           5,
           4,
           1,
           1,
           3,
           5,
           3,
           0,
           0,
           0,
           1,
           2,
           6,
           6,
           5,
           4,
           1,
           4,
           1,
           0,
           3,
           1,
           6,
           6,
           0,
           5,
           5,
           5,
           3,
           1,
           0,
           5,
           4,
           6,
           4,
           0,
           1,
           1,
           6,
           6,
           4,
           1,
           3,
           4,
           5,
           2,
           6,
           4,
           1,
           4,
           5,
           5,
           0,
           1,
           1,
           2,
           0,
           5,
           6,
           4,
           5,
           0,
           0,
           1,
           5,
           5,
           1,
           0,
           3,
           3,
           0,
           6,
           5,
           6,
           1,
           0,
           1,
           1,
           1,
           0,
           4,
           1,
           1,
           4,
           2,
           6,
           4,
           3,
           6,
           4,
           6,
           5,
           5,
           6,
           5,
           5,
           5,
           5,
           3,
           3,
           0,
           1,
           0,
           2,
           1,
           4,
           2,
           0,
           3,
           1,
           3,
           6,
           6,
           2,
           3,
           4,
           1,
           2,
           6,
           5,
           1,
           4,
           0,
           3,
           1,
           0,
           5,
           6,
           1,
           1,
           3,
           1,
           4,
           3,
           4,
           5,
           6,
           0,
           5,
           1,
           2,
           3,
           0,
           5,
           4,
           1,
           2,
           6,
           5,
           1,
           5,
           3,
           4,
           6,
           2,
           2,
           0,
           1,
           2,
           1,
           1,
           2,
           6,
           1,
           1,
           5,
           0,
           5,
           0,
           0,
           4,
           3,
           5,
           0,
           6,
           1,
           3,
           1,
           2,
           6,
           5,
           1,
           4,
           6,
           5,
           5,
           3,
           4,
           6,
           5,
           3,
           0,
           4,
           3,
           1,
           3,
           4,
           3,
           6,
           5,
           3,
           5,
           3,
           1,
           3,
           1,
           0,
           5,
           1,
           4,
           0,
           3
          ],
          "size": 4
         },
         "mode": "markers",
         "type": "scatter3d",
         "x": [
          -0.8442630247703617,
          0.3875979351573113,
          -0.2705147287816703,
          -0.1194631072574876,
          0.2928722224119154,
          -0.40270380172190745,
          0.27989422376306194,
          0.040499774278677306,
          -0.047149518060705116,
          -0.000264993452837658,
          -0.29913604314566516,
          0.6977492411477499,
          0.40795262649355307,
          0.6647063459531942,
          -0.6239656567477209,
          0.36368673645772454,
          -0.21532728926233433,
          0.21427753614909684,
          -0.25963977502225705,
          0.06174185716654109,
          0.13790519168059612,
          -0.4108467677568329,
          0.4958319500664614,
          0.38188335882339697,
          -0.021015180195522246,
          -0.7063992346407032,
          -0.7344680100789708,
          -0.6325941683869735,
          0.1283271501657106,
          -0.28811560502032935,
          -0.003257952746712013,
          -0.7252250645858462,
          0.29974209030544463,
          0.4753628940533199,
          -0.003987816317955486,
          0.0021114922720038387,
          -0.31224353574596275,
          -0.4058868900376383,
          0.443108055933601,
          0.5892420449325886,
          0.3642529051893767,
          -0.3707214263257838,
          0.3014477401218177,
          0.08904833725834402,
          -0.8188378122329957,
          1.0843553707594953,
          0.5289332941133735,
          0.3651584598916316,
          -0.4506454933388475,
          0.27553123700581367,
          -0.49874335497215977,
          -0.8511294798062603,
          0.006636012297013472,
          -0.33181544099560506,
          -0.2946359477953764,
          0.7455115269254087,
          -0.16759480164041413,
          -0.7825144927021154,
          0.2962345020910283,
          0.35393703063592696,
          -0.5652303887242706,
          -0.0445442542803241,
          -0.18392675490142982,
          -0.17214185901381684,
          -0.5774417879980172,
          -0.518059286843804,
          -0.34851213338850257,
          -0.10411596764164532,
          0.21343918498033285,
          0.1193043792605582,
          -0.005183746141033178,
          0.5352112127119978,
          -0.6587071307876681,
          0.6828822930294278,
          -0.21763573434718153,
          -0.20656986200441244,
          -0.19919303741467556,
          -0.18238039065383646,
          -0.4668789263432653,
          0.014633896834734775,
          0.1811147098565302,
          -0.16869706034886045,
          -0.1379472240955589,
          0.2800102179326123,
          0.9994195040076158,
          0.32691160324904794,
          -0.05012484628412305,
          0.126481961540686,
          0.4379509759811281,
          0.40648803287012597,
          0.5012947020835695,
          -0.5240568103759984,
          -0.7665160475190771,
          0.41831228901610246,
          -0.7997221062273632,
          -0.48373534084342923,
          -0.7637540755925353,
          -0.5580359917142268,
          -0.03453172375052342,
          0.09265970148294526,
          -0.054106487511014704,
          -0.36328688291186606,
          -0.039589059534385435,
          0.6159040302748424,
          -0.5029343296800898,
          0.34177611670946173,
          0.5348980565023435,
          -0.02018324319735288,
          0.08113365730533037,
          -0.1642641314060668,
          0.2130461673813897,
          0.4959986442050046,
          0.4240938952606146,
          1.0856783408611759,
          -0.010373775067668354,
          0.22918983858090344,
          -0.224203892698901,
          1.0876192597656862,
          0.5250036979092214,
          -0.5259899039899331,
          -0.33388137897662823,
          0.30450656111862767,
          -0.01503406600656868,
          0.06649634767858312,
          -0.38596398224713274,
          -0.0486959986313115,
          -0.4582452715441054,
          0.52112435596565,
          -0.2736380151630038,
          -0.096294657306144,
          0.23879131437303694,
          -0.37660951506178647,
          0.284370112860983,
          0.3061974514104487,
          0.41025180415804474,
          -0.7225665488665705,
          0.3584949979475652,
          -0.02398651963908983,
          -0.6165518362942406,
          -0.2865998446974671,
          0.7351946754193904,
          0.26892373312328116,
          -0.034593166448543974,
          -0.6143700167301117,
          0.17071019201725243,
          -0.036684630041468616,
          1.0880302221189273,
          0.5125433152558395,
          -0.7820998917478693,
          -0.35337603397364986,
          -0.4651650187985565,
          0.12884661492640773,
          0.23234774073849376,
          0.5058158534459161,
          0.6402406507938543,
          1.0628002625832946,
          -0.03295088627194374,
          -0.32990183694961706,
          0.6886028723352204,
          -0.26612643164964916,
          -0.27707420689785334,
          0.5367403154311517,
          0.616977335000492,
          -0.22020859202498907,
          -0.34239035689771935,
          -0.764591348259965,
          0.025983380025067476,
          -0.6347333844811688,
          -0.04776478537191149,
          -0.04298852371996217,
          0.1533055253122587,
          0.32702090241635984,
          -0.5320430530998217,
          -0.008285620577000836,
          0.3735054249814961,
          -0.380496418896407,
          0.21376306959162922,
          -0.27308798831186504,
          1.0947955876079087,
          0.4939214120979143,
          -0.561157328628817,
          -0.38589991579013316,
          0.31199904286758984,
          0.35129819043920585,
          -0.4509299205708909,
          -0.5419394690579548,
          0.052435958815841024,
          0.17262068475876122,
          0.4087828602782244,
          -0.5399049346737024,
          0.09279057394152752,
          0.005129833107092631,
          0.379136361206828,
          -0.14133039412598467,
          -0.4589651706189226,
          0.18873498478372044,
          0.3674362115219253,
          0.4053650441941206,
          0.509693864826274,
          -0.5754756958131186,
          0.26545467701230774,
          -0.5601684412087469,
          0.14471496526003033,
          -0.16753753075498154,
          0.3197354331513057,
          -0.3093988911396494,
          -0.3085937376947494,
          -0.7412849591573214,
          -0.18446519558791702,
          0.2779146699764208,
          -0.05373505709943091,
          0.23392617431440046
         ],
         "y": [
          0.927683294680231,
          -0.034320054787086766,
          -0.13321472713032123,
          -0.01730241679784072,
          -0.0805246187044932,
          -0.02802881167718901,
          0.03927450188018615,
          0.18348664905896914,
          -0.44429733436061847,
          -0.15881422923304808,
          0.3041702029237541,
          1.103189205377917,
          -0.014816006238971256,
          0.12416670593484612,
          -0.25791128588983286,
          -0.006045800645853639,
          0.12636407161280744,
          0.45160953866202214,
          -0.2124774783858402,
          0.10870869303046046,
          -0.007386606688809857,
          -0.21264175767150442,
          -0.14127830667042943,
          -0.004834724018130255,
          -0.2129189534324713,
          0.526001239518062,
          -0.297720767205341,
          -0.34702075551624556,
          -0.2584574273499065,
          0.3236072013016637,
          -0.13179858386808588,
          -0.24515068536070336,
          0.1703210168401276,
          -0.08180492144349612,
          0.13576411109603964,
          -0.16743936995594516,
          0.9709318943894382,
          0.1577768575055975,
          -0.21899296374419452,
          -0.19195402503169073,
          -0.07624146475198172,
          -0.2039605745018866,
          -0.012808371297544948,
          -0.1645805036062688,
          0.02660297297067401,
          0.06153879052751625,
          -0.24383966726136158,
          -0.05890369108724227,
          -0.006712399716258335,
          -0.35045717914946667,
          -0.20214274596622742,
          -0.17389548198097246,
          -0.11938241809469162,
          0.0701560723922151,
          -0.3091053602709108,
          -0.08657510647331065,
          0.27540405859839473,
          0.11124358287058175,
          0.1089967458999773,
          -0.06578565088123801,
          -0.4946397867339362,
          -0.2508004082032895,
          0.8002535456223855,
          -0.2916283478884075,
          -0.07254104227708609,
          -0.4148894253391836,
          -0.13185106836086322,
          -0.48549883486836487,
          0.09213662953487554,
          -0.28697458891776556,
          -0.10732594153320651,
          -0.059947118869009004,
          -0.3656261602870175,
          0.13426037993209608,
          -0.15279273600761678,
          0.6459021043439658,
          -0.33909036990809366,
          -0.27403836744902704,
          0.6148100201075248,
          -0.20056573705882055,
          -0.34999343904650476,
          -0.34672400047628027,
          -0.25177257689623356,
          -0.3751859210466449,
          0.887689229340251,
          -0.14261877436054915,
          -0.12436630833798365,
          -0.23985326500821236,
          -0.2578541418722295,
          0.28928441955732725,
          -0.14079165900787793,
          0.7319322003467172,
          0.1570438791160102,
          0.17205920919466977,
          1.2057382585519374,
          -0.24374052306739144,
          0.19164975779839027,
          -0.4878976606846602,
          0.6352324350967272,
          0.5732125503087495,
          -0.43958698121215944,
          -0.11413012780557515,
          -0.21133149986877542,
          0.1943923714588429,
          1.0066536534828434,
          -0.09983319627040167,
          -0.14260382039940886,
          -0.2562535438816667,
          0.13447351006606414,
          0.8929516942203685,
          -0.377121149770375,
          0.0636041404949711,
          0.679986107852089,
          0.005751160023228385,
          -0.18120693779563796,
          -0.06448100960559057,
          -0.16492975368642776,
          0.06790591092668638,
          0.11858199840073765,
          -0.43453017945485356,
          -0.11922260659709599,
          -0.15832279160624013,
          -0.1533215868290365,
          0.12277648081067392,
          -0.1973479688896314,
          -0.30504765301017567,
          -0.09861110048254969,
          -0.019644277598937734,
          0.8779302246404754,
          -0.01859093499454956,
          -0.3072506723945333,
          -0.21865729237682657,
          -0.32113002258384465,
          0.034518191079905745,
          0.3106689552794185,
          -0.20209529641604473,
          -0.12728364977382597,
          -0.15968216026932242,
          -0.23058707955888563,
          -0.2787426057138292,
          -0.0688175372630561,
          -0.07710362865027696,
          -0.19197757717202585,
          -0.0952231993012818,
          0.827647744650024,
          0.03887288457049215,
          -0.001040572104155103,
          0.05917397693067036,
          -0.08634237640949617,
          0.6303268529625597,
          -0.0742626195025239,
          -0.20833535758180063,
          0.6665594381830754,
          -0.05012850342865712,
          0.7868721385807274,
          -0.15286934454182885,
          -0.3983161054818098,
          0.6540365286341684,
          -0.16840766195210766,
          -0.27974295067340316,
          -0.2364792164915231,
          -0.3963069857756784,
          -0.18474669827192425,
          0.2731340573986186,
          -0.17425730220809013,
          -0.30368393354046697,
          -0.07602269888959483,
          0.9474136574501013,
          -0.22953256408869424,
          -0.25299539542426785,
          -0.31799198161624764,
          0.4096919759263706,
          -0.4834104818510793,
          -0.08144135126897031,
          -0.11121803161607331,
          -0.20001132767449215,
          -0.3185682029331285,
          -0.21713887348894909,
          0.011935107835322398,
          0.052792291271148116,
          0.018559968962848592,
          0.29513631203344065,
          -0.2933991597903329,
          -0.14505232069383392,
          -0.04492321735703925,
          0.040607323364946615,
          0.077777834161341,
          0.15212661849170533,
          0.13385650581721836,
          0.14804405829421952,
          0.605012965414483,
          -0.14652264772092127,
          -0.060478188829917304,
          0.7647753275005392,
          0.5590323580759073,
          0.06682813019578816,
          0.011403922928736829,
          0.20321726456350298,
          -0.15675908415175902,
          -0.09723037280970825,
          -0.15210410133507196,
          -0.463698053720998,
          -0.23280937302631546,
          -0.3381946407671764,
          0.08708558024200168,
          -0.272747144008501,
          0.06856051133922562,
          -0.1662391837529871,
          0.7561160797843433,
          -0.32565237314443884,
          -0.3696529150058197,
          -0.3210612557066512
         ],
         "z": [
          0.27772051270796133,
          -0.19271020491908014,
          -0.015789532531183457,
          -0.314557816039129,
          -0.23914225992426372,
          -0.335144124749941,
          -0.2548377096415455,
          -0.4346647189261869,
          0.3657864051083524,
          -0.010933238397399228,
          -0.7084652495723951,
          0.1167481693926661,
          0.03864880710125725,
          -0.39120982026019047,
          0.08884005093618573,
          -0.2184678832894581,
          -0.476050201005635,
          0.8164243724554703,
          -0.006360240215858798,
          -0.47094539042821265,
          -0.16441993587579515,
          0.04135678140860247,
          0.05831380516521554,
          0.07287837156224403,
          -0.010726269791662463,
          -0.801736020374993,
          0.16272459428087419,
          0.1573046884261663,
          0.16852276791709334,
          -0.6595609708237874,
          -0.10340519420341303,
          0.1265441581244722,
          -0.2496497142666454,
          0.08441024297881876,
          -0.24896254498447695,
          -0.09387034378214273,
          -0.0652945108818905,
          -0.4374113363087571,
          0.09916748053917289,
          0.10666723710956973,
          -0.0914294263640386,
          0.04801415915545738,
          -0.1568623018088591,
          0.2698728380351583,
          -0.22042009576563557,
          -0.012143137075849617,
          0.07368780624407162,
          -0.16683920451229337,
          -0.04412129110973096,
          0.326454606563019,
          -0.17096725392597578,
          0.09679684047972703,
          -0.09824991399630376,
          -0.3659471092660019,
          0.08751908950688514,
          0.04765686922723832,
          0.9791986626056521,
          -0.3477566179960454,
          0.006356546174922072,
          -0.20581063406886485,
          0.19693567503907394,
          -0.09988267490598014,
          0.5324058046014243,
          0.040783330436552565,
          -0.23100201912717064,
          0.211910109991509,
          0.0260868006235267,
          0.46928814177350336,
          -0.31030784799977357,
          0.20084460029843582,
          -0.06961047504258173,
          0.055152544159155124,
          0.1873641420250351,
          -0.36949069574406146,
          -0.0006202938245822521,
          0.5605771456871235,
          0.11029634915116639,
          0.03724305058917714,
          0.6168419381855252,
          -0.009759951578901142,
          0.2816365314125079,
          0.04456641876865558,
          0.014081133650795797,
          0.33009281331908297,
          0.5289066113459331,
          0.07055844638335801,
          0.19887708003437576,
          0.15277703739268916,
          0.10408364548870874,
          -0.5654169380500347,
          0.12704829813348156,
          0.23551589766416808,
          -0.24388859375729596,
          -0.2769306731393992,
          -0.15870085250226937,
          0.04107792624514133,
          -0.28565533312997415,
          0.22499060052675818,
          0.7304717210201958,
          0.7045558847824464,
          0.35207946293998205,
          -0.02082314426456607,
          -0.11161339209272471,
          -0.3470798340780828,
          0.20316702451646157,
          -0.13400296807732215,
          0.3348228063293032,
          -0.022426781264821463,
          -0.24574999580723128,
          0.09673887094317436,
          0.21500377972014315,
          -0.2731369873101504,
          -0.858247425308893,
          -0.06223299834431426,
          0.10688953690726333,
          -0.13941064220366825,
          0.07472753198902349,
          -0.06629945745608253,
          -0.34865961082724456,
          0.12656720818737086,
          -0.00956597492854833,
          -0.1473687472038399,
          -0.07613800658835793,
          -0.25053247484039404,
          0.03938535939923116,
          0.20080850043931872,
          -0.24953017313784778,
          0.03905367791101512,
          0.12219540294965871,
          -0.41343737032114797,
          0.24762136116677275,
          0.018691386649354002,
          0.28659862429773986,
          -0.2529477834609495,
          -0.7083571122835816,
          0.1333989212003228,
          0.06684743268540036,
          0.032492852114220844,
          0.020738968478321802,
          0.06687084333495216,
          0.05667999521474978,
          -0.17172264243667668,
          -0.02264678562940854,
          -0.2771214059626442,
          0.4323007330664275,
          -0.4471284023477889,
          -0.04314203379681928,
          -0.28979500749221776,
          0.06067555176240503,
          0.5933210543816156,
          -0.3281194097166886,
          0.20427699777635613,
          0.4773268765827251,
          0.11148374628727864,
          0.5194421223485574,
          0.3715502609292761,
          0.4350320648101758,
          0.5335548310311324,
          0.0993293629908689,
          0.04435100386954728,
          0.049484497334490056,
          0.45498016243914036,
          0.062335712619039904,
          -0.757603684883137,
          0.03736214160579896,
          0.16612388455758623,
          -0.057954534050068715,
          -0.05791377104774654,
          -0.08913288445742329,
          0.07881457292421509,
          0.30743749090906786,
          -0.81146316439283,
          0.1867934942116698,
          -0.16221540706748833,
          0.0846362323980879,
          0.05482474699778865,
          0.21362015406561913,
          0.06548490793438794,
          -0.05561099291351406,
          -0.2688710167064667,
          -0.2544635056613656,
          -0.4938757114803305,
          0.23792289904836747,
          0.06130078238188605,
          -0.3081878210989914,
          -0.30693943236809446,
          -0.17211360263429518,
          -0.13609379280390133,
          -0.34140500448059874,
          -0.5699188977366403,
          0.7514628700367483,
          -0.1250888354500518,
          -0.11093064290221383,
          0.663643142069594,
          0.5733799207046051,
          -0.1666648747056763,
          -0.25626405033697075,
          -0.3443477404467046,
          0.10123137423260152,
          -0.22772588456098078,
          -0.21041589532895283,
          0.2163910800329714,
          0.11576025988905182,
          0.07857749862592212,
          -0.2863080174845978,
          0.06370275335515178,
          -0.12667981235273992,
          0.19678951104537745,
          0.2900093780738866,
          0.3103466640564521,
          0.2950987770600957,
          0.22742950666395906
         ]
        }
       ],
       "layout": {
        "scene": {
         "xaxis": {
          "title": {
           "text": "PC3"
          }
         },
         "yaxis": {
          "title": {
           "text": "PC4"
          }
         },
         "zaxis": {
          "title": {
           "text": "PC5"
          }
         }
        },
        "template": {
         "data": {
          "bar": [
           {
            "error_x": {
             "color": "#2a3f5f"
            },
            "error_y": {
             "color": "#2a3f5f"
            },
            "marker": {
             "line": {
              "color": "#E5ECF6",
              "width": 0.5
             },
             "pattern": {
              "fillmode": "overlay",
              "size": 10,
              "solidity": 0.2
             }
            },
            "type": "bar"
           }
          ],
          "barpolar": [
           {
            "marker": {
             "line": {
              "color": "#E5ECF6",
              "width": 0.5
             },
             "pattern": {
              "fillmode": "overlay",
              "size": 10,
              "solidity": 0.2
             }
            },
            "type": "barpolar"
           }
          ],
          "carpet": [
           {
            "aaxis": {
             "endlinecolor": "#2a3f5f",
             "gridcolor": "white",
             "linecolor": "white",
             "minorgridcolor": "white",
             "startlinecolor": "#2a3f5f"
            },
            "baxis": {
             "endlinecolor": "#2a3f5f",
             "gridcolor": "white",
             "linecolor": "white",
             "minorgridcolor": "white",
             "startlinecolor": "#2a3f5f"
            },
            "type": "carpet"
           }
          ],
          "choropleth": [
           {
            "colorbar": {
             "outlinewidth": 0,
             "ticks": ""
            },
            "type": "choropleth"
           }
          ],
          "contour": [
           {
            "colorbar": {
             "outlinewidth": 0,
             "ticks": ""
            },
            "colorscale": [
             [
              0,
              "#0d0887"
             ],
             [
              0.1111111111111111,
              "#46039f"
             ],
             [
              0.2222222222222222,
              "#7201a8"
             ],
             [
              0.3333333333333333,
              "#9c179e"
             ],
             [
              0.4444444444444444,
              "#bd3786"
             ],
             [
              0.5555555555555556,
              "#d8576b"
             ],
             [
              0.6666666666666666,
              "#ed7953"
             ],
             [
              0.7777777777777778,
              "#fb9f3a"
             ],
             [
              0.8888888888888888,
              "#fdca26"
             ],
             [
              1,
              "#f0f921"
             ]
            ],
            "type": "contour"
           }
          ],
          "contourcarpet": [
           {
            "colorbar": {
             "outlinewidth": 0,
             "ticks": ""
            },
            "type": "contourcarpet"
           }
          ],
          "heatmap": [
           {
            "colorbar": {
             "outlinewidth": 0,
             "ticks": ""
            },
            "colorscale": [
             [
              0,
              "#0d0887"
             ],
             [
              0.1111111111111111,
              "#46039f"
             ],
             [
              0.2222222222222222,
              "#7201a8"
             ],
             [
              0.3333333333333333,
              "#9c179e"
             ],
             [
              0.4444444444444444,
              "#bd3786"
             ],
             [
              0.5555555555555556,
              "#d8576b"
             ],
             [
              0.6666666666666666,
              "#ed7953"
             ],
             [
              0.7777777777777778,
              "#fb9f3a"
             ],
             [
              0.8888888888888888,
              "#fdca26"
             ],
             [
              1,
              "#f0f921"
             ]
            ],
            "type": "heatmap"
           }
          ],
          "heatmapgl": [
           {
            "colorbar": {
             "outlinewidth": 0,
             "ticks": ""
            },
            "colorscale": [
             [
              0,
              "#0d0887"
             ],
             [
              0.1111111111111111,
              "#46039f"
             ],
             [
              0.2222222222222222,
              "#7201a8"
             ],
             [
              0.3333333333333333,
              "#9c179e"
             ],
             [
              0.4444444444444444,
              "#bd3786"
             ],
             [
              0.5555555555555556,
              "#d8576b"
             ],
             [
              0.6666666666666666,
              "#ed7953"
             ],
             [
              0.7777777777777778,
              "#fb9f3a"
             ],
             [
              0.8888888888888888,
              "#fdca26"
             ],
             [
              1,
              "#f0f921"
             ]
            ],
            "type": "heatmapgl"
           }
          ],
          "histogram": [
           {
            "marker": {
             "pattern": {
              "fillmode": "overlay",
              "size": 10,
              "solidity": 0.2
             }
            },
            "type": "histogram"
           }
          ],
          "histogram2d": [
           {
            "colorbar": {
             "outlinewidth": 0,
             "ticks": ""
            },
            "colorscale": [
             [
              0,
              "#0d0887"
             ],
             [
              0.1111111111111111,
              "#46039f"
             ],
             [
              0.2222222222222222,
              "#7201a8"
             ],
             [
              0.3333333333333333,
              "#9c179e"
             ],
             [
              0.4444444444444444,
              "#bd3786"
             ],
             [
              0.5555555555555556,
              "#d8576b"
             ],
             [
              0.6666666666666666,
              "#ed7953"
             ],
             [
              0.7777777777777778,
              "#fb9f3a"
             ],
             [
              0.8888888888888888,
              "#fdca26"
             ],
             [
              1,
              "#f0f921"
             ]
            ],
            "type": "histogram2d"
           }
          ],
          "histogram2dcontour": [
           {
            "colorbar": {
             "outlinewidth": 0,
             "ticks": ""
            },
            "colorscale": [
             [
              0,
              "#0d0887"
             ],
             [
              0.1111111111111111,
              "#46039f"
             ],
             [
              0.2222222222222222,
              "#7201a8"
             ],
             [
              0.3333333333333333,
              "#9c179e"
             ],
             [
              0.4444444444444444,
              "#bd3786"
             ],
             [
              0.5555555555555556,
              "#d8576b"
             ],
             [
              0.6666666666666666,
              "#ed7953"
             ],
             [
              0.7777777777777778,
              "#fb9f3a"
             ],
             [
              0.8888888888888888,
              "#fdca26"
             ],
             [
              1,
              "#f0f921"
             ]
            ],
            "type": "histogram2dcontour"
           }
          ],
          "mesh3d": [
           {
            "colorbar": {
             "outlinewidth": 0,
             "ticks": ""
            },
            "type": "mesh3d"
           }
          ],
          "parcoords": [
           {
            "line": {
             "colorbar": {
              "outlinewidth": 0,
              "ticks": ""
             }
            },
            "type": "parcoords"
           }
          ],
          "pie": [
           {
            "automargin": true,
            "type": "pie"
           }
          ],
          "scatter": [
           {
            "fillpattern": {
             "fillmode": "overlay",
             "size": 10,
             "solidity": 0.2
            },
            "type": "scatter"
           }
          ],
          "scatter3d": [
           {
            "line": {
             "colorbar": {
              "outlinewidth": 0,
              "ticks": ""
             }
            },
            "marker": {
             "colorbar": {
              "outlinewidth": 0,
              "ticks": ""
             }
            },
            "type": "scatter3d"
           }
          ],
          "scattercarpet": [
           {
            "marker": {
             "colorbar": {
              "outlinewidth": 0,
              "ticks": ""
             }
            },
            "type": "scattercarpet"
           }
          ],
          "scattergeo": [
           {
            "marker": {
             "colorbar": {
              "outlinewidth": 0,
              "ticks": ""
             }
            },
            "type": "scattergeo"
           }
          ],
          "scattergl": [
           {
            "marker": {
             "colorbar": {
              "outlinewidth": 0,
              "ticks": ""
             }
            },
            "type": "scattergl"
           }
          ],
          "scattermapbox": [
           {
            "marker": {
             "colorbar": {
              "outlinewidth": 0,
              "ticks": ""
             }
            },
            "type": "scattermapbox"
           }
          ],
          "scatterpolar": [
           {
            "marker": {
             "colorbar": {
              "outlinewidth": 0,
              "ticks": ""
             }
            },
            "type": "scatterpolar"
           }
          ],
          "scatterpolargl": [
           {
            "marker": {
             "colorbar": {
              "outlinewidth": 0,
              "ticks": ""
             }
            },
            "type": "scatterpolargl"
           }
          ],
          "scatterternary": [
           {
            "marker": {
             "colorbar": {
              "outlinewidth": 0,
              "ticks": ""
             }
            },
            "type": "scatterternary"
           }
          ],
          "surface": [
           {
            "colorbar": {
             "outlinewidth": 0,
             "ticks": ""
            },
            "colorscale": [
             [
              0,
              "#0d0887"
             ],
             [
              0.1111111111111111,
              "#46039f"
             ],
             [
              0.2222222222222222,
              "#7201a8"
             ],
             [
              0.3333333333333333,
              "#9c179e"
             ],
             [
              0.4444444444444444,
              "#bd3786"
             ],
             [
              0.5555555555555556,
              "#d8576b"
             ],
             [
              0.6666666666666666,
              "#ed7953"
             ],
             [
              0.7777777777777778,
              "#fb9f3a"
             ],
             [
              0.8888888888888888,
              "#fdca26"
             ],
             [
              1,
              "#f0f921"
             ]
            ],
            "type": "surface"
           }
          ],
          "table": [
           {
            "cells": {
             "fill": {
              "color": "#EBF0F8"
             },
             "line": {
              "color": "white"
             }
            },
            "header": {
             "fill": {
              "color": "#C8D4E3"
             },
             "line": {
              "color": "white"
             }
            },
            "type": "table"
           }
          ]
         },
         "layout": {
          "annotationdefaults": {
           "arrowcolor": "#2a3f5f",
           "arrowhead": 0,
           "arrowwidth": 1
          },
          "autotypenumbers": "strict",
          "coloraxis": {
           "colorbar": {
            "outlinewidth": 0,
            "ticks": ""
           }
          },
          "colorscale": {
           "diverging": [
            [
             0,
             "#8e0152"
            ],
            [
             0.1,
             "#c51b7d"
            ],
            [
             0.2,
             "#de77ae"
            ],
            [
             0.3,
             "#f1b6da"
            ],
            [
             0.4,
             "#fde0ef"
            ],
            [
             0.5,
             "#f7f7f7"
            ],
            [
             0.6,
             "#e6f5d0"
            ],
            [
             0.7,
             "#b8e186"
            ],
            [
             0.8,
             "#7fbc41"
            ],
            [
             0.9,
             "#4d9221"
            ],
            [
             1,
             "#276419"
            ]
           ],
           "sequential": [
            [
             0,
             "#0d0887"
            ],
            [
             0.1111111111111111,
             "#46039f"
            ],
            [
             0.2222222222222222,
             "#7201a8"
            ],
            [
             0.3333333333333333,
             "#9c179e"
            ],
            [
             0.4444444444444444,
             "#bd3786"
            ],
            [
             0.5555555555555556,
             "#d8576b"
            ],
            [
             0.6666666666666666,
             "#ed7953"
            ],
            [
             0.7777777777777778,
             "#fb9f3a"
            ],
            [
             0.8888888888888888,
             "#fdca26"
            ],
            [
             1,
             "#f0f921"
            ]
           ],
           "sequentialminus": [
            [
             0,
             "#0d0887"
            ],
            [
             0.1111111111111111,
             "#46039f"
            ],
            [
             0.2222222222222222,
             "#7201a8"
            ],
            [
             0.3333333333333333,
             "#9c179e"
            ],
            [
             0.4444444444444444,
             "#bd3786"
            ],
            [
             0.5555555555555556,
             "#d8576b"
            ],
            [
             0.6666666666666666,
             "#ed7953"
            ],
            [
             0.7777777777777778,
             "#fb9f3a"
            ],
            [
             0.8888888888888888,
             "#fdca26"
            ],
            [
             1,
             "#f0f921"
            ]
           ]
          },
          "colorway": [
           "#636efa",
           "#EF553B",
           "#00cc96",
           "#ab63fa",
           "#FFA15A",
           "#19d3f3",
           "#FF6692",
           "#B6E880",
           "#FF97FF",
           "#FECB52"
          ],
          "font": {
           "color": "#2a3f5f"
          },
          "geo": {
           "bgcolor": "white",
           "lakecolor": "white",
           "landcolor": "#E5ECF6",
           "showlakes": true,
           "showland": true,
           "subunitcolor": "white"
          },
          "hoverlabel": {
           "align": "left"
          },
          "hovermode": "closest",
          "mapbox": {
           "style": "light"
          },
          "paper_bgcolor": "white",
          "plot_bgcolor": "#E5ECF6",
          "polar": {
           "angularaxis": {
            "gridcolor": "white",
            "linecolor": "white",
            "ticks": ""
           },
           "bgcolor": "#E5ECF6",
           "radialaxis": {
            "gridcolor": "white",
            "linecolor": "white",
            "ticks": ""
           }
          },
          "scene": {
           "xaxis": {
            "backgroundcolor": "#E5ECF6",
            "gridcolor": "white",
            "gridwidth": 2,
            "linecolor": "white",
            "showbackground": true,
            "ticks": "",
            "zerolinecolor": "white"
           },
           "yaxis": {
            "backgroundcolor": "#E5ECF6",
            "gridcolor": "white",
            "gridwidth": 2,
            "linecolor": "white",
            "showbackground": true,
            "ticks": "",
            "zerolinecolor": "white"
           },
           "zaxis": {
            "backgroundcolor": "#E5ECF6",
            "gridcolor": "white",
            "gridwidth": 2,
            "linecolor": "white",
            "showbackground": true,
            "ticks": "",
            "zerolinecolor": "white"
           }
          },
          "shapedefaults": {
           "line": {
            "color": "#2a3f5f"
           }
          },
          "ternary": {
           "aaxis": {
            "gridcolor": "white",
            "linecolor": "white",
            "ticks": ""
           },
           "baxis": {
            "gridcolor": "white",
            "linecolor": "white",
            "ticks": ""
           },
           "bgcolor": "#E5ECF6",
           "caxis": {
            "gridcolor": "white",
            "linecolor": "white",
            "ticks": ""
           }
          },
          "title": {
           "x": 0.05
          },
          "xaxis": {
           "automargin": true,
           "gridcolor": "white",
           "linecolor": "white",
           "ticks": "",
           "title": {
            "standoff": 15
           },
           "zerolinecolor": "white",
           "zerolinewidth": 2
          },
          "yaxis": {
           "automargin": true,
           "gridcolor": "white",
           "linecolor": "white",
           "ticks": "",
           "title": {
            "standoff": 15
           },
           "zerolinecolor": "white",
           "zerolinewidth": 2
          }
         }
        },
        "title": {
         "text": "Visualization of 3, 4, 5 principal components"
        },
        "xaxis": {
         "range": [
          -2,
          2
         ]
        },
        "yaxis": {
         "range": [
          -2,
          2
         ]
        }
       }
      }
     },
     "metadata": {},
     "output_type": "display_data"
    }
   ],
   "source": [
    "fig1 = go.Figure(data=[go.Scatter3d(\n",
    "    x=df_train['PC1'],\n",
    "    y=df_train['PC2'],\n",
    "    z=df_train['PC3'],\n",
    "    mode='markers',\n",
    "    marker=dict(size=4, color=mv_final)\n",
    ")])\n",
    "\n",
    "fig2 = go.Figure(data=[go.Scatter3d(\n",
    "    x=df_train['PC4'],\n",
    "    y=df_train['PC5'],\n",
    "    z=df_train['PC6'],\n",
    "    mode='markers',\n",
    "    marker=dict(size=4, color=mv_final)\n",
    ")])\n",
    "\n",
    "fig3 = go.Figure(data=[go.Scatter3d(\n",
    "    x=df_train['PC3'],\n",
    "    y=df_train['PC4'],\n",
    "    z=df_train['PC5'],\n",
    "    mode='markers',\n",
    "    marker=dict(size=4, color=mv_final)\n",
    ")])\n",
    "\n",
    "fig1.update_layout(title_text=\"Visualization of 3 first principal components\", scene=dict(\n",
    "        xaxis=dict(title=df_train.columns[0]),\n",
    "        yaxis=dict(title=df_train.columns[1]),\n",
    "        zaxis=dict(title=df_train.columns[2])\n",
    "    ))\n",
    "fig1.update_xaxes(range=[-2, 2])\n",
    "fig2.update_yaxes(range=[-2, 2])\n",
    "\n",
    "fig2.update_layout(title_text=\"Visualization of 4, 5, 6 principal components\", scene=dict(\n",
    "        xaxis=dict(title=df_train.columns[3]),\n",
    "        yaxis=dict(title=df_train.columns[4]),\n",
    "        zaxis=dict(title=df_train.columns[5])\n",
    "    ))\n",
    "fig2.update_xaxes(range=[-2, 2])\n",
    "fig2.update_yaxes(range=[-2, 2])\n",
    "\n",
    "fig3.update_layout(title_text=\"Visualization of 3, 4, 5 principal components\", scene=dict(\n",
    "        xaxis=dict(title=df_train.columns[2]),\n",
    "        yaxis=dict(title=df_train.columns[3]),\n",
    "        zaxis=dict(title=df_train.columns[4])\n",
    "    ))\n",
    "fig3.update_xaxes(range=[-2, 2])\n",
    "fig3.update_yaxes(range=[-2, 2])\n",
    "\n",
    "fig1.show()\n",
    "fig2.show()\n",
    "fig3.show()"
   ]
  },
  {
   "attachments": {},
   "cell_type": "markdown",
   "metadata": {},
   "source": [
    "Boxplots for continuous plots"
   ]
  },
  {
   "cell_type": "code",
   "execution_count": 53,
   "metadata": {},
   "outputs": [
    {
     "data": {
      "image/png": "[encoded data removed]",
      "text/plain": [
       "<Figure size 864x576 with 5 Axes>"
      ]
     },
     "metadata": {
      "needs_background": "light"
     },
     "output_type": "display_data"
    }
   ],
   "source": [
    "# columns = df_mv_final_medians.columns[df_mv_final_medians.columns != \"label\"]\n",
    "columns = ['age', 'trestbps', 'thalach', 'chol', 'oldpeak']\n",
    "\n",
    "# calculate the number of rows needed\n",
    "num_rows = (len(columns) + 2) // 3 \n",
    "\n",
    "fig, axs = plt.subplots(num_rows, 3, figsize=(12, 4 * num_rows))\n",
    "axs = axs.flatten()\n",
    "\n",
    "for i, col in enumerate(columns):\n",
    "    # create the boxplot for the current column against the \"label\" column\n",
    "    axs[i].boxplot([final[col][final[\"label\"] == label] for label in sorted(final[\"label\"].unique())])\n",
    "    \n",
    "    axs[i].set_xlabel(\"Label\")\n",
    "    axs[i].set_ylabel(col)\n",
    "    \n",
    "    axs[i].set_xticklabels(sorted(final[\"label\"].unique()))\n",
    "    axs[i].set_title(f\"{col} vs Label\")\n",
    "\n",
    "# remove any unused subplots\n",
    "if len(columns) < len(axs):\n",
    "    for j in range(len(columns), len(axs)):\n",
    "        fig.delaxes(axs[j])\n",
    "\n",
    "plt.tight_layout()\n",
    "plt.show()"
   ]
  },
  {
   "attachments": {},
   "cell_type": "markdown",
   "metadata": {},
   "source": [
    "Scatter plots"
   ]
  },
  {
   "cell_type": "code",
   "execution_count": 54,
   "metadata": {},
   "outputs": [
    {
     "data": {
      "image/png": "[encoded data removed]",
      "text/plain": [
       "<Figure size 864x576 with 5 Axes>"
      ]
     },
     "metadata": {
      "needs_background": "light"
     },
     "output_type": "display_data"
    }
   ],
   "source": [
    "columns = ['age', 'trestbps', 'thalach', 'chol', 'oldpeak']\n",
    "# columns = df_mv_final_medians.columns[df_mv_final_medians.columns != \"label\"]\n",
    "\n",
    "# calculate the number of rows needed\n",
    "num_rows = (len(columns) + 2) // 3  \n",
    "\n",
    "# plot the figures\n",
    "fig, axs = plt.subplots(num_rows, 3, figsize=(12, 4 * num_rows))\n",
    "axs = axs.flatten()\n",
    "\n",
    "for i, col in enumerate(columns):\n",
    "    axs[i].scatter(final[\"label\"], final[col], s=20, alpha=0.1)  # Set the marker size to 20\n",
    "    \n",
    "    axs[i].set_xlabel(\"Label\")\n",
    "    axs[i].set_ylabel(col)\n",
    "    \n",
    "    axs[i].set_xticks([0, 1, 2, 3])\n",
    "    axs[i].set_title(f\"{col} vs Label\")\n",
    "\n",
    "if len(columns) < len(axs):\n",
    "    for j in range(len(columns), len(axs)):\n",
    "        fig.delaxes(axs[j])\n",
    "\n",
    "plt.tight_layout()\n",
    "plt.show()"
   ]
  },
  {
   "attachments": {},
   "cell_type": "markdown",
   "metadata": {},
   "source": [
    "Modes for not continous columns"
   ]
  },
  {
   "cell_type": "code",
   "execution_count": 55,
   "metadata": {},
   "outputs": [
    {
     "name": "stdout",
     "output_type": "stream",
     "text": [
      "0      sex   cp  fbs  restecg  exang  slope\n",
      "label                                      \n",
      "0      1.0  4.0  0.0      2.0    1.0    2.0\n",
      "1      1.0  3.0  0.0      0.0    0.0    1.0\n",
      "2      0.0  4.0  0.0      2.0    1.0    2.0\n",
      "3      0.0  4.0  0.0      2.0    0.0    1.0\n",
      "4      1.0  4.0  0.0      0.0    1.0    2.0\n",
      "5      1.0  4.0  0.0      2.0    0.0    1.0\n",
      "6      0.0  3.0  0.0      0.0    0.0    1.0\n"
     ]
    }
   ],
   "source": [
    "exclude_columns = ['age', 'trestbps', 'thalach', 'chol', 'oldpeak', 'label', 'id']\n",
    "mode_columns = final.columns[~final.columns.isin(exclude_columns)]\n",
    "column_modes = final.groupby('label')[mode_columns].apply(lambda x: x.mode().iloc[0])\n",
    "print(column_modes)"
   ]
  },
  {
   "attachments": {},
   "cell_type": "markdown",
   "metadata": {},
   "source": [
    "Means for not continous columns"
   ]
  },
  {
   "cell_type": "code",
   "execution_count": 56,
   "metadata": {},
   "outputs": [
    {
     "name": "stdout",
     "output_type": "stream",
     "text": [
      "       sex        cp       fbs   restecg  exang     slope\n",
      "label                                                    \n",
      "0      1.0  3.833333  0.100000  2.000000    1.0  1.833333\n",
      "1      1.0  2.755556  0.200000  0.000000    0.0  1.422222\n",
      "2      0.0  3.733333  0.200000  1.066667    1.0  1.933333\n",
      "3      0.0  3.172414  0.137931  1.965517    0.0  1.551724\n",
      "4      1.0  3.444444  0.111111  0.000000    1.0  1.703704\n",
      "5      1.0  2.736842  0.105263  2.000000    0.0  1.631579\n",
      "6      0.0  2.750000  0.000000  0.000000    0.0  1.357143\n"
     ]
    }
   ],
   "source": [
    "exclude_columns = ['age', 'trestbps', 'thalach', 'chol', 'oldpeak', 'label', 'id']\n",
    "mode_columns = final.columns[~final.columns.isin(exclude_columns)]\n",
    "column_modes = final.groupby('label')[mode_columns].mean()\n",
    "print(column_modes)"
   ]
  },
  {
   "attachments": {},
   "cell_type": "markdown",
   "metadata": {},
   "source": [
    "## Testing"
   ]
  },
  {
   "cell_type": "code",
   "execution_count": 57,
   "metadata": {},
   "outputs": [],
   "source": [
    "df_test = pd.read_csv('test.csv')\n",
    "raw_data_test = remove_id(df_test.copy())\n",
    "df_test = preprocessing(df_test, rem_over=False, rep_out=False, encode=False, process='minmax')\n",
    "pca = PCA()\n",
    "X_pca = pca.fit_transform(df_test)\n",
    "X_reduced = X_pca[:, :9]\n",
    "df_test = pd.DataFrame(X_reduced, columns=[\"PC\" + str(i) for i in range(1, 9 + 1)])"
   ]
  },
  {
   "cell_type": "code",
   "execution_count": 58,
   "metadata": {},
   "outputs": [],
   "source": [
    "kmeans = KMeans(n_clusters=7, init='k-means++', max_iter=300, n_init=10, random_state=0)\n",
    "kmeans.fit(df)\n",
    "y_kmeans_test = kmeans.predict(df_test)"
   ]
  },
  {
   "cell_type": "code",
   "execution_count": 59,
   "metadata": {},
   "outputs": [
    {
     "name": "stdout",
     "output_type": "stream",
     "text": [
      "        age  sex   cp  trestbps   chol  fbs  restecg  thalach  exang  oldpeak  \\\n",
      "label                                                                           \n",
      "0      58.0  1.0  4.0     130.0  249.0  0.0      2.0    132.0    1.0     1.20   \n",
      "1      60.0  1.0  3.0     140.0  255.0  0.0      2.0    160.0    0.0     0.00   \n",
      "2      44.0  0.0  4.0     135.0  288.5  0.5      2.0    144.0    1.0     1.60   \n",
      "3      49.0  1.0  4.0     120.0  201.0  0.0      0.0    144.0    0.0     1.20   \n",
      "4      63.0  1.0  2.5     162.5  261.5  1.0      2.0    127.5    0.0     0.55   \n",
      "5      58.5  1.0  2.5     130.0  268.5  0.0      2.0    165.5    0.0     0.50   \n",
      "6      50.0  0.0  3.0     125.0  248.5  0.0      0.0    162.5    0.0     0.00   \n",
      "\n",
      "       slope  \n",
      "label         \n",
      "0        2.0  \n",
      "1        1.0  \n",
      "2        2.0  \n",
      "3        2.0  \n",
      "4        2.0  \n",
      "5        1.5  \n",
      "6        1.0  \n",
      "             age       sex        cp    trestbps        chol       fbs  \\\n",
      "label                                                                    \n",
      "0      56.444444  1.000000  3.888889  126.333333  254.333333  0.444444   \n",
      "1      59.428571  0.571429  2.857143  137.285714  299.428571  0.428571   \n",
      "2      44.000000  0.000000  4.000000  135.000000  288.500000  0.500000   \n",
      "3      48.444444  1.000000  3.666667  124.444444  197.555556  0.000000   \n",
      "4      63.000000  1.000000  2.500000  162.500000  261.500000  1.000000   \n",
      "5      54.750000  1.000000  2.875000  129.125000  261.375000  0.000000   \n",
      "6      51.750000  0.125000  3.125000  126.625000  246.250000  0.375000   \n",
      "\n",
      "        restecg     thalach     exang   oldpeak     slope  \n",
      "label                                                      \n",
      "0      2.000000  129.777778  1.000000  1.255556  1.888889  \n",
      "1      1.714286  155.142857  0.000000  0.442857  1.142857  \n",
      "2      2.000000  144.000000  1.000000  1.600000  2.000000  \n",
      "3      0.000000  146.000000  0.333333  1.044444  1.777778  \n",
      "4      2.000000  127.500000  0.000000  0.550000  2.000000  \n",
      "5      1.500000  165.000000  0.000000  1.100000  1.500000  \n",
      "6      0.000000  150.875000  0.000000  0.575000  1.375000  \n"
     ]
    }
   ],
   "source": [
    "final_test_medians = raw_data_test.copy()\n",
    "final_test_medians['label'] = y_kmeans_test\n",
    "print(medians_for_clusters(final_test_medians))\n",
    "print(means_for_clusters(final_test_medians))"
   ]
  },
  {
   "cell_type": "code",
   "execution_count": 60,
   "metadata": {},
   "outputs": [
    {
     "name": "stdout",
     "output_type": "stream",
     "text": [
      "Minimal distance between clusters: 0.1924666841253625\n",
      "Average distance between points in the same class: 1.1629842978468183\n",
      "Standard deviation of distance between points in the same class: 0.140299365803414\n",
      "Silhouette score: 0.14010155489831802\n",
      "Calinski-Harabasz index: 7.179168417306078\n",
      "Davies Bouldin index: 1.7276948083327757\n"
     ]
    }
   ],
   "source": [
    "for metric in metrices:\n",
    "    print(f'{metric}: {metrices[metric](df_test, y_kmeans_test)}')"
   ]
  },
  {
   "cell_type": "code",
   "execution_count": 61,
   "metadata": {},
   "outputs": [
    {
     "data": {
      "application/vnd.plotly.v1+json": {
       "config": {
        "plotlyServerURL": "https://plot.ly"
       },
       "data": [
        {
         "marker": {
          "color": [
           4,
           3,
           0,
           0,
           3,
           1,
           5,
           5,
           0,
           6,
           1,
           0,
           0,
           1,
           5,
           6,
           5,
           5,
           0,
           3,
           1,
           3,
           3,
           1,
           3,
           6,
           3,
           6,
           4,
           2,
           5,
           3,
           0,
           6,
           3,
           0,
           6,
           2,
           6,
           5,
           1,
           1,
           5,
           0,
           6
          ],
          "size": 4
         },
         "mode": "markers",
         "type": "scatter3d",
         "x": [
          0.4524018804666158,
          -0.6227343944960081,
          0.8882723320695451,
          0.9255536776436832,
          -0.7048910196462522,
          -0.09713411185593095,
          0.38990529161866094,
          -0.7439297231548535,
          0.9423046162040226,
          -0.597449950251773,
          0.09012981024968054,
          0.6631744741068716,
          1.2429652341461281,
          0.10098223323036247,
          -0.07800375427758365,
          -0.7515403392537311,
          0.28062254446493895,
          -0.3216289971248632,
          0.7108582299801537,
          -0.5378501397716889,
          -0.20085786380952497,
          0.26483212269689926,
          0.4327648138802961,
          -0.5295470844415251,
          -0.3910196061922617,
          -0.9254482258042196,
          0.2650021681620906,
          -0.25675088085569686,
          0.20835335996713494,
          0.43606088417758304,
          0.1483555992784825,
          -0.4228104962175458,
          0.7481898052238368,
          -0.7362255111975529,
          -0.715213327687485,
          1.0087502776607007,
          -0.6913631547064814,
          0.9055082260992463,
          -0.8923130004160627,
          -0.7722943736011177,
          -0.05813475372689897,
          -0.26644536085328535,
          0.10209643144143246,
          0.9777767099051432,
          -0.8712746533311653
         ],
         "y": [
          -0.7437910664418708,
          0.3878557984098911,
          -0.3055115788051484,
          0.4999221737062774,
          0.27021653853457583,
          -0.3762225846882097,
          0.14612451079345976,
          0.22811175796202382,
          0.5336016508768899,
          -0.6593680188371365,
          -0.9178175292413023,
          0.38556731916157166,
          -0.1321818343112664,
          -0.8852264797640306,
          -0.16593994973051518,
          0.2526240587220425,
          0.11950536890513382,
          -0.14057718690024132,
          0.19582042963193838,
          0.365970847269307,
          -0.35063978817124203,
          0.8450285569124342,
          1.140066852607968,
          -0.40270610066804186,
          0.5534103459271219,
          0.05270722690353101,
          0.916617315760469,
          -0.44592891327090345,
          -1.000750227022915,
          0.10080219618257097,
          -0.0008939620933668509,
          0.5850259431152025,
          0.4051028258772549,
          -0.7210636648293341,
          0.28796056197976583,
          -0.24313390744037844,
          0.26312478622664165,
          -0.3591040472032641,
          0.05262187863798044,
          0.20600902335074736,
          -0.27257463296949164,
          -0.4937996702913353,
          0.017047013316916413,
          -0.3652567453376418,
          0.17164290724592005
         ],
         "z": [
          -0.1292109193559534,
          -0.19156858489284226,
          0.11910414824968364,
          -0.07131772591263216,
          -0.28265358265533863,
          -0.8105764723069988,
          -0.32182836148932553,
          -0.352067291358164,
          -0.047655684794680624,
          0.8298914054071708,
          -0.42173601568796626,
          -0.2613142098611016,
          0.3592630513395987,
          -0.4001043429923283,
          -0.6835573131104822,
          -0.33083569673644886,
          -0.4323430302024001,
          -0.8061457325670682,
          -0.25169264979827144,
          -0.19612973001127507,
          0.1288462535666808,
          0.264819039422203,
          0.45262247853991233,
          0.017088963327445982,
          -0.03587028543081491,
          0.4100616539346405,
          0.3008914538686225,
          1.0847668487265172,
          -0.43880347070665077,
          0.4667380002758969,
          -0.5006891352392258,
          0.003848544394622093,
          -0.15559564117471184,
          0.7072214680138198,
          -0.2804911952155967,
          0.17957671949380677,
          0.6095226564924683,
          1.0383349668699033,
          0.46972589888109406,
          -0.36674319950615464,
          0.2241922351748141,
          0.027880741770937693,
          -0.5546448409541135,
          0.14008919914922513,
          0.4890893850614813
         ]
        }
       ],
       "layout": {
        "scene": {
         "xaxis": {
          "title": {
           "text": "PC1"
          }
         },
         "yaxis": {
          "title": {
           "text": "PC2"
          }
         },
         "zaxis": {
          "title": {
           "text": "PC3"
          }
         }
        },
        "template": {
         "data": {
          "bar": [
           {
            "error_x": {
             "color": "#2a3f5f"
            },
            "error_y": {
             "color": "#2a3f5f"
            },
            "marker": {
             "line": {
              "color": "#E5ECF6",
              "width": 0.5
             },
             "pattern": {
              "fillmode": "overlay",
              "size": 10,
              "solidity": 0.2
             }
            },
            "type": "bar"
           }
          ],
          "barpolar": [
           {
            "marker": {
             "line": {
              "color": "#E5ECF6",
              "width": 0.5
             },
             "pattern": {
              "fillmode": "overlay",
              "size": 10,
              "solidity": 0.2
             }
            },
            "type": "barpolar"
           }
          ],
          "carpet": [
           {
            "aaxis": {
             "endlinecolor": "#2a3f5f",
             "gridcolor": "white",
             "linecolor": "white",
             "minorgridcolor": "white",
             "startlinecolor": "#2a3f5f"
            },
            "baxis": {
             "endlinecolor": "#2a3f5f",
             "gridcolor": "white",
             "linecolor": "white",
             "minorgridcolor": "white",
             "startlinecolor": "#2a3f5f"
            },
            "type": "carpet"
           }
          ],
          "choropleth": [
           {
            "colorbar": {
             "outlinewidth": 0,
             "ticks": ""
            },
            "type": "choropleth"
           }
          ],
          "contour": [
           {
            "colorbar": {
             "outlinewidth": 0,
             "ticks": ""
            },
            "colorscale": [
             [
              0,
              "#0d0887"
             ],
             [
              0.1111111111111111,
              "#46039f"
             ],
             [
              0.2222222222222222,
              "#7201a8"
             ],
             [
              0.3333333333333333,
              "#9c179e"
             ],
             [
              0.4444444444444444,
              "#bd3786"
             ],
             [
              0.5555555555555556,
              "#d8576b"
             ],
             [
              0.6666666666666666,
              "#ed7953"
             ],
             [
              0.7777777777777778,
              "#fb9f3a"
             ],
             [
              0.8888888888888888,
              "#fdca26"
             ],
             [
              1,
              "#f0f921"
             ]
            ],
            "type": "contour"
           }
          ],
          "contourcarpet": [
           {
            "colorbar": {
             "outlinewidth": 0,
             "ticks": ""
            },
            "type": "contourcarpet"
           }
          ],
          "heatmap": [
           {
            "colorbar": {
             "outlinewidth": 0,
             "ticks": ""
            },
            "colorscale": [
             [
              0,
              "#0d0887"
             ],
             [
              0.1111111111111111,
              "#46039f"
             ],
             [
              0.2222222222222222,
              "#7201a8"
             ],
             [
              0.3333333333333333,
              "#9c179e"
             ],
             [
              0.4444444444444444,
              "#bd3786"
             ],
             [
              0.5555555555555556,
              "#d8576b"
             ],
             [
              0.6666666666666666,
              "#ed7953"
             ],
             [
              0.7777777777777778,
              "#fb9f3a"
             ],
             [
              0.8888888888888888,
              "#fdca26"
             ],
             [
              1,
              "#f0f921"
             ]
            ],
            "type": "heatmap"
           }
          ],
          "heatmapgl": [
           {
            "colorbar": {
             "outlinewidth": 0,
             "ticks": ""
            },
            "colorscale": [
             [
              0,
              "#0d0887"
             ],
             [
              0.1111111111111111,
              "#46039f"
             ],
             [
              0.2222222222222222,
              "#7201a8"
             ],
             [
              0.3333333333333333,
              "#9c179e"
             ],
             [
              0.4444444444444444,
              "#bd3786"
             ],
             [
              0.5555555555555556,
              "#d8576b"
             ],
             [
              0.6666666666666666,
              "#ed7953"
             ],
             [
              0.7777777777777778,
              "#fb9f3a"
             ],
             [
              0.8888888888888888,
              "#fdca26"
             ],
             [
              1,
              "#f0f921"
             ]
            ],
            "type": "heatmapgl"
           }
          ],
          "histogram": [
           {
            "marker": {
             "pattern": {
              "fillmode": "overlay",
              "size": 10,
              "solidity": 0.2
             }
            },
            "type": "histogram"
           }
          ],
          "histogram2d": [
           {
            "colorbar": {
             "outlinewidth": 0,
             "ticks": ""
            },
            "colorscale": [
             [
              0,
              "#0d0887"
             ],
             [
              0.1111111111111111,
              "#46039f"
             ],
             [
              0.2222222222222222,
              "#7201a8"
             ],
             [
              0.3333333333333333,
              "#9c179e"
             ],
             [
              0.4444444444444444,
              "#bd3786"
             ],
             [
              0.5555555555555556,
              "#d8576b"
             ],
             [
              0.6666666666666666,
              "#ed7953"
             ],
             [
              0.7777777777777778,
              "#fb9f3a"
             ],
             [
              0.8888888888888888,
              "#fdca26"
             ],
             [
              1,
              "#f0f921"
             ]
            ],
            "type": "histogram2d"
           }
          ],
          "histogram2dcontour": [
           {
            "colorbar": {
             "outlinewidth": 0,
             "ticks": ""
            },
            "colorscale": [
             [
              0,
              "#0d0887"
             ],
             [
              0.1111111111111111,
              "#46039f"
             ],
             [
              0.2222222222222222,
              "#7201a8"
             ],
             [
              0.3333333333333333,
              "#9c179e"
             ],
             [
              0.4444444444444444,
              "#bd3786"
             ],
             [
              0.5555555555555556,
              "#d8576b"
             ],
             [
              0.6666666666666666,
              "#ed7953"
             ],
             [
              0.7777777777777778,
              "#fb9f3a"
             ],
             [
              0.8888888888888888,
              "#fdca26"
             ],
             [
              1,
              "#f0f921"
             ]
            ],
            "type": "histogram2dcontour"
           }
          ],
          "mesh3d": [
           {
            "colorbar": {
             "outlinewidth": 0,
             "ticks": ""
            },
            "type": "mesh3d"
           }
          ],
          "parcoords": [
           {
            "line": {
             "colorbar": {
              "outlinewidth": 0,
              "ticks": ""
             }
            },
            "type": "parcoords"
           }
          ],
          "pie": [
           {
            "automargin": true,
            "type": "pie"
           }
          ],
          "scatter": [
           {
            "fillpattern": {
             "fillmode": "overlay",
             "size": 10,
             "solidity": 0.2
            },
            "type": "scatter"
           }
          ],
          "scatter3d": [
           {
            "line": {
             "colorbar": {
              "outlinewidth": 0,
              "ticks": ""
             }
            },
            "marker": {
             "colorbar": {
              "outlinewidth": 0,
              "ticks": ""
             }
            },
            "type": "scatter3d"
           }
          ],
          "scattercarpet": [
           {
            "marker": {
             "colorbar": {
              "outlinewidth": 0,
              "ticks": ""
             }
            },
            "type": "scattercarpet"
           }
          ],
          "scattergeo": [
           {
            "marker": {
             "colorbar": {
              "outlinewidth": 0,
              "ticks": ""
             }
            },
            "type": "scattergeo"
           }
          ],
          "scattergl": [
           {
            "marker": {
             "colorbar": {
              "outlinewidth": 0,
              "ticks": ""
             }
            },
            "type": "scattergl"
           }
          ],
          "scattermapbox": [
           {
            "marker": {
             "colorbar": {
              "outlinewidth": 0,
              "ticks": ""
             }
            },
            "type": "scattermapbox"
           }
          ],
          "scatterpolar": [
           {
            "marker": {
             "colorbar": {
              "outlinewidth": 0,
              "ticks": ""
             }
            },
            "type": "scatterpolar"
           }
          ],
          "scatterpolargl": [
           {
            "marker": {
             "colorbar": {
              "outlinewidth": 0,
              "ticks": ""
             }
            },
            "type": "scatterpolargl"
           }
          ],
          "scatterternary": [
           {
            "marker": {
             "colorbar": {
              "outlinewidth": 0,
              "ticks": ""
             }
            },
            "type": "scatterternary"
           }
          ],
          "surface": [
           {
            "colorbar": {
             "outlinewidth": 0,
             "ticks": ""
            },
            "colorscale": [
             [
              0,
              "#0d0887"
             ],
             [
              0.1111111111111111,
              "#46039f"
             ],
             [
              0.2222222222222222,
              "#7201a8"
             ],
             [
              0.3333333333333333,
              "#9c179e"
             ],
             [
              0.4444444444444444,
              "#bd3786"
             ],
             [
              0.5555555555555556,
              "#d8576b"
             ],
             [
              0.6666666666666666,
              "#ed7953"
             ],
             [
              0.7777777777777778,
              "#fb9f3a"
             ],
             [
              0.8888888888888888,
              "#fdca26"
             ],
             [
              1,
              "#f0f921"
             ]
            ],
            "type": "surface"
           }
          ],
          "table": [
           {
            "cells": {
             "fill": {
              "color": "#EBF0F8"
             },
             "line": {
              "color": "white"
             }
            },
            "header": {
             "fill": {
              "color": "#C8D4E3"
             },
             "line": {
              "color": "white"
             }
            },
            "type": "table"
           }
          ]
         },
         "layout": {
          "annotationdefaults": {
           "arrowcolor": "#2a3f5f",
           "arrowhead": 0,
           "arrowwidth": 1
          },
          "autotypenumbers": "strict",
          "coloraxis": {
           "colorbar": {
            "outlinewidth": 0,
            "ticks": ""
           }
          },
          "colorscale": {
           "diverging": [
            [
             0,
             "#8e0152"
            ],
            [
             0.1,
             "#c51b7d"
            ],
            [
             0.2,
             "#de77ae"
            ],
            [
             0.3,
             "#f1b6da"
            ],
            [
             0.4,
             "#fde0ef"
            ],
            [
             0.5,
             "#f7f7f7"
            ],
            [
             0.6,
             "#e6f5d0"
            ],
            [
             0.7,
             "#b8e186"
            ],
            [
             0.8,
             "#7fbc41"
            ],
            [
             0.9,
             "#4d9221"
            ],
            [
             1,
             "#276419"
            ]
           ],
           "sequential": [
            [
             0,
             "#0d0887"
            ],
            [
             0.1111111111111111,
             "#46039f"
            ],
            [
             0.2222222222222222,
             "#7201a8"
            ],
            [
             0.3333333333333333,
             "#9c179e"
            ],
            [
             0.4444444444444444,
             "#bd3786"
            ],
            [
             0.5555555555555556,
             "#d8576b"
            ],
            [
             0.6666666666666666,
             "#ed7953"
            ],
            [
             0.7777777777777778,
             "#fb9f3a"
            ],
            [
             0.8888888888888888,
             "#fdca26"
            ],
            [
             1,
             "#f0f921"
            ]
           ],
           "sequentialminus": [
            [
             0,
             "#0d0887"
            ],
            [
             0.1111111111111111,
             "#46039f"
            ],
            [
             0.2222222222222222,
             "#7201a8"
            ],
            [
             0.3333333333333333,
             "#9c179e"
            ],
            [
             0.4444444444444444,
             "#bd3786"
            ],
            [
             0.5555555555555556,
             "#d8576b"
            ],
            [
             0.6666666666666666,
             "#ed7953"
            ],
            [
             0.7777777777777778,
             "#fb9f3a"
            ],
            [
             0.8888888888888888,
             "#fdca26"
            ],
            [
             1,
             "#f0f921"
            ]
           ]
          },
          "colorway": [
           "#636efa",
           "#EF553B",
           "#00cc96",
           "#ab63fa",
           "#FFA15A",
           "#19d3f3",
           "#FF6692",
           "#B6E880",
           "#FF97FF",
           "#FECB52"
          ],
          "font": {
           "color": "#2a3f5f"
          },
          "geo": {
           "bgcolor": "white",
           "lakecolor": "white",
           "landcolor": "#E5ECF6",
           "showlakes": true,
           "showland": true,
           "subunitcolor": "white"
          },
          "hoverlabel": {
           "align": "left"
          },
          "hovermode": "closest",
          "mapbox": {
           "style": "light"
          },
          "paper_bgcolor": "white",
          "plot_bgcolor": "#E5ECF6",
          "polar": {
           "angularaxis": {
            "gridcolor": "white",
            "linecolor": "white",
            "ticks": ""
           },
           "bgcolor": "#E5ECF6",
           "radialaxis": {
            "gridcolor": "white",
            "linecolor": "white",
            "ticks": ""
           }
          },
          "scene": {
           "xaxis": {
            "backgroundcolor": "#E5ECF6",
            "gridcolor": "white",
            "gridwidth": 2,
            "linecolor": "white",
            "showbackground": true,
            "ticks": "",
            "zerolinecolor": "white"
           },
           "yaxis": {
            "backgroundcolor": "#E5ECF6",
            "gridcolor": "white",
            "gridwidth": 2,
            "linecolor": "white",
            "showbackground": true,
            "ticks": "",
            "zerolinecolor": "white"
           },
           "zaxis": {
            "backgroundcolor": "#E5ECF6",
            "gridcolor": "white",
            "gridwidth": 2,
            "linecolor": "white",
            "showbackground": true,
            "ticks": "",
            "zerolinecolor": "white"
           }
          },
          "shapedefaults": {
           "line": {
            "color": "#2a3f5f"
           }
          },
          "ternary": {
           "aaxis": {
            "gridcolor": "white",
            "linecolor": "white",
            "ticks": ""
           },
           "baxis": {
            "gridcolor": "white",
            "linecolor": "white",
            "ticks": ""
           },
           "bgcolor": "#E5ECF6",
           "caxis": {
            "gridcolor": "white",
            "linecolor": "white",
            "ticks": ""
           }
          },
          "title": {
           "x": 0.05
          },
          "xaxis": {
           "automargin": true,
           "gridcolor": "white",
           "linecolor": "white",
           "ticks": "",
           "title": {
            "standoff": 15
           },
           "zerolinecolor": "white",
           "zerolinewidth": 2
          },
          "yaxis": {
           "automargin": true,
           "gridcolor": "white",
           "linecolor": "white",
           "ticks": "",
           "title": {
            "standoff": 15
           },
           "zerolinecolor": "white",
           "zerolinewidth": 2
          }
         }
        },
        "title": {
         "text": "Visualization of 3 first principal components"
        },
        "xaxis": {
         "range": [
          -2,
          2
         ]
        }
       }
      }
     },
     "metadata": {},
     "output_type": "display_data"
    }
   ],
   "source": [
    "fig1 = go.Figure(data=[go.Scatter3d(\n",
    "    x=df_test['PC1'],\n",
    "    y=df_test['PC2'],\n",
    "    z=df_test['PC3'],\n",
    "    mode='markers',\n",
    "    marker=dict(size=4, color=y_kmeans_test)\n",
    ")])\n",
    "\n",
    "fig1.update_layout(title_text=\"Visualization of 3 first principal components\", scene=dict(\n",
    "        xaxis=dict(title=df_test.columns[0]),\n",
    "        yaxis=dict(title=df_test.columns[1]),\n",
    "        zaxis=dict(title=df_test.columns[2])\n",
    "    ))\n",
    "fig1.update_xaxes(range=[-2, 2])\n",
    "\n",
    "fig1.show()"
   ]
  },
  {
   "attachments": {},
   "cell_type": "markdown",
   "metadata": {},
   "source": [
    "## Model"
   ]
  },
  {
   "cell_type": "code",
   "execution_count": 63,
   "metadata": {},
   "outputs": [
    {
     "data": {
      "text/plain": [
       "0      5\n",
       "1      4\n",
       "2      1\n",
       "3      1\n",
       "4      3\n",
       "      ..\n",
       "207    5\n",
       "208    1\n",
       "209    4\n",
       "210    0\n",
       "211    3\n",
       "Name: label, Length: 212, dtype: int32"
      ]
     },
     "execution_count": 63,
     "metadata": {},
     "output_type": "execute_result"
    }
   ],
   "source": [
    "final\n",
    "df\n",
    "y_kmeans"
   ]
  },
  {
   "cell_type": "code",
   "execution_count": 64,
   "metadata": {},
   "outputs": [],
   "source": [
    "from sklearn.ensemble import RandomForestClassifier\n",
    "from sklearn.model_selection import cross_val_predict\n",
    "from sklearn.metrics import roc_curve, auc\n",
    "import matplotlib.pyplot as plt"
   ]
  },
  {
   "cell_type": "code",
   "execution_count": 65,
   "metadata": {},
   "outputs": [],
   "source": [
    "rf = RandomForestClassifier(n_estimators=100, random_state=42)"
   ]
  },
  {
   "cell_type": "code",
   "execution_count": 66,
   "metadata": {},
   "outputs": [],
   "source": [
    "y_scores = cross_val_predict(rf, df, y_kmeans, cv=5, method='predict_proba')"
   ]
  },
  {
   "cell_type": "code",
   "execution_count": 92,
   "metadata": {},
   "outputs": [],
   "source": [
    "df_without_pca = preprocessing(X_train, process = 'minmax', rem_over=False, cp=False, encode=False)"
   ]
  },
  {
   "cell_type": "code",
   "execution_count": 93,
   "metadata": {},
   "outputs": [
    {
     "data": {
      "text/html": [
       "<div>\n",
       "<style scoped>\n",
       "    .dataframe tbody tr th:only-of-type {\n",
       "        vertical-align: middle;\n",
       "    }\n",
       "\n",
       "    .dataframe tbody tr th {\n",
       "        vertical-align: top;\n",
       "    }\n",
       "\n",
       "    .dataframe thead th {\n",
       "        text-align: right;\n",
       "    }\n",
       "</style>\n",
       "<table border=\"1\" class=\"dataframe\">\n",
       "  <thead>\n",
       "    <tr style=\"text-align: right;\">\n",
       "      <th></th>\n",
       "      <th>age</th>\n",
       "      <th>sex</th>\n",
       "      <th>cp</th>\n",
       "      <th>trestbps</th>\n",
       "      <th>chol</th>\n",
       "      <th>fbs</th>\n",
       "      <th>restecg</th>\n",
       "      <th>thalach</th>\n",
       "      <th>exang</th>\n",
       "      <th>oldpeak</th>\n",
       "      <th>slope</th>\n",
       "    </tr>\n",
       "  </thead>\n",
       "  <tbody>\n",
       "    <tr>\n",
       "      <th>124</th>\n",
       "      <td>0.720930</td>\n",
       "      <td>1.0</td>\n",
       "      <td>0.000000</td>\n",
       "      <td>0.569579</td>\n",
       "      <td>0.617169</td>\n",
       "      <td>1.0</td>\n",
       "      <td>1.0</td>\n",
       "      <td>0.793103</td>\n",
       "      <td>0.0</td>\n",
       "      <td>0.350</td>\n",
       "      <td>0.5</td>\n",
       "    </tr>\n",
       "    <tr>\n",
       "      <th>72</th>\n",
       "      <td>0.651163</td>\n",
       "      <td>1.0</td>\n",
       "      <td>1.000000</td>\n",
       "      <td>0.336570</td>\n",
       "      <td>0.547564</td>\n",
       "      <td>0.0</td>\n",
       "      <td>0.0</td>\n",
       "      <td>0.054187</td>\n",
       "      <td>1.0</td>\n",
       "      <td>0.450</td>\n",
       "      <td>0.5</td>\n",
       "    </tr>\n",
       "    <tr>\n",
       "      <th>15</th>\n",
       "      <td>0.534884</td>\n",
       "      <td>1.0</td>\n",
       "      <td>0.666667</td>\n",
       "      <td>0.724919</td>\n",
       "      <td>0.088167</td>\n",
       "      <td>0.0</td>\n",
       "      <td>0.0</td>\n",
       "      <td>0.793103</td>\n",
       "      <td>0.0</td>\n",
       "      <td>0.400</td>\n",
       "      <td>0.0</td>\n",
       "    </tr>\n",
       "    <tr>\n",
       "      <th>10</th>\n",
       "      <td>0.534884</td>\n",
       "      <td>1.0</td>\n",
       "      <td>1.000000</td>\n",
       "      <td>0.595469</td>\n",
       "      <td>0.199536</td>\n",
       "      <td>0.0</td>\n",
       "      <td>0.0</td>\n",
       "      <td>0.536946</td>\n",
       "      <td>0.0</td>\n",
       "      <td>0.100</td>\n",
       "      <td>0.5</td>\n",
       "    </tr>\n",
       "    <tr>\n",
       "      <th>163</th>\n",
       "      <td>0.558140</td>\n",
       "      <td>0.0</td>\n",
       "      <td>1.000000</td>\n",
       "      <td>0.077670</td>\n",
       "      <td>0.459397</td>\n",
       "      <td>0.0</td>\n",
       "      <td>1.0</td>\n",
       "      <td>0.280788</td>\n",
       "      <td>0.0</td>\n",
       "      <td>0.250</td>\n",
       "      <td>0.5</td>\n",
       "    </tr>\n",
       "    <tr>\n",
       "      <th>...</th>\n",
       "      <td>...</td>\n",
       "      <td>...</td>\n",
       "      <td>...</td>\n",
       "      <td>...</td>\n",
       "      <td>...</td>\n",
       "      <td>...</td>\n",
       "      <td>...</td>\n",
       "      <td>...</td>\n",
       "      <td>...</td>\n",
       "      <td>...</td>\n",
       "      <td>...</td>\n",
       "    </tr>\n",
       "    <tr>\n",
       "      <th>188</th>\n",
       "      <td>0.465116</td>\n",
       "      <td>1.0</td>\n",
       "      <td>0.333333</td>\n",
       "      <td>1.000000</td>\n",
       "      <td>0.621810</td>\n",
       "      <td>0.0</td>\n",
       "      <td>1.0</td>\n",
       "      <td>1.000000</td>\n",
       "      <td>0.0</td>\n",
       "      <td>0.000</td>\n",
       "      <td>0.0</td>\n",
       "    </tr>\n",
       "    <tr>\n",
       "      <th>71</th>\n",
       "      <td>0.767442</td>\n",
       "      <td>1.0</td>\n",
       "      <td>1.000000</td>\n",
       "      <td>0.401294</td>\n",
       "      <td>0.487239</td>\n",
       "      <td>1.0</td>\n",
       "      <td>0.0</td>\n",
       "      <td>0.684729</td>\n",
       "      <td>0.0</td>\n",
       "      <td>0.050</td>\n",
       "      <td>0.5</td>\n",
       "    </tr>\n",
       "    <tr>\n",
       "      <th>106</th>\n",
       "      <td>0.581395</td>\n",
       "      <td>1.0</td>\n",
       "      <td>1.000000</td>\n",
       "      <td>0.595469</td>\n",
       "      <td>0.129930</td>\n",
       "      <td>0.0</td>\n",
       "      <td>0.0</td>\n",
       "      <td>0.674877</td>\n",
       "      <td>1.0</td>\n",
       "      <td>0.000</td>\n",
       "      <td>0.0</td>\n",
       "    </tr>\n",
       "    <tr>\n",
       "      <th>270</th>\n",
       "      <td>0.627907</td>\n",
       "      <td>1.0</td>\n",
       "      <td>1.000000</td>\n",
       "      <td>0.595469</td>\n",
       "      <td>0.269142</td>\n",
       "      <td>0.0</td>\n",
       "      <td>1.0</td>\n",
       "      <td>0.438424</td>\n",
       "      <td>1.0</td>\n",
       "      <td>0.475</td>\n",
       "      <td>0.0</td>\n",
       "    </tr>\n",
       "    <tr>\n",
       "      <th>102</th>\n",
       "      <td>0.534884</td>\n",
       "      <td>0.0</td>\n",
       "      <td>1.000000</td>\n",
       "      <td>0.440129</td>\n",
       "      <td>0.714617</td>\n",
       "      <td>0.0</td>\n",
       "      <td>1.0</td>\n",
       "      <td>0.645320</td>\n",
       "      <td>0.0</td>\n",
       "      <td>0.000</td>\n",
       "      <td>0.0</td>\n",
       "    </tr>\n",
       "  </tbody>\n",
       "</table>\n",
       "<p>212 rows × 11 columns</p>\n",
       "</div>"
      ],
      "text/plain": [
       "          age  sex        cp  trestbps      chol  fbs  restecg   thalach  \\\n",
       "124  0.720930  1.0  0.000000  0.569579  0.617169  1.0      1.0  0.793103   \n",
       "72   0.651163  1.0  1.000000  0.336570  0.547564  0.0      0.0  0.054187   \n",
       "15   0.534884  1.0  0.666667  0.724919  0.088167  0.0      0.0  0.793103   \n",
       "10   0.534884  1.0  1.000000  0.595469  0.199536  0.0      0.0  0.536946   \n",
       "163  0.558140  0.0  1.000000  0.077670  0.459397  0.0      1.0  0.280788   \n",
       "..        ...  ...       ...       ...       ...  ...      ...       ...   \n",
       "188  0.465116  1.0  0.333333  1.000000  0.621810  0.0      1.0  1.000000   \n",
       "71   0.767442  1.0  1.000000  0.401294  0.487239  1.0      0.0  0.684729   \n",
       "106  0.581395  1.0  1.000000  0.595469  0.129930  0.0      0.0  0.674877   \n",
       "270  0.627907  1.0  1.000000  0.595469  0.269142  0.0      1.0  0.438424   \n",
       "102  0.534884  0.0  1.000000  0.440129  0.714617  0.0      1.0  0.645320   \n",
       "\n",
       "     exang  oldpeak  slope  \n",
       "124    0.0    0.350    0.5  \n",
       "72     1.0    0.450    0.5  \n",
       "15     0.0    0.400    0.0  \n",
       "10     0.0    0.100    0.5  \n",
       "163    0.0    0.250    0.5  \n",
       "..     ...      ...    ...  \n",
       "188    0.0    0.000    0.0  \n",
       "71     0.0    0.050    0.5  \n",
       "106    1.0    0.000    0.0  \n",
       "270    1.0    0.475    0.0  \n",
       "102    0.0    0.000    0.0  \n",
       "\n",
       "[212 rows x 11 columns]"
      ]
     },
     "execution_count": 93,
     "metadata": {},
     "output_type": "execute_result"
    }
   ],
   "source": [
    "df_without_pca"
   ]
  },
  {
   "cell_type": "code",
   "execution_count": 70,
   "metadata": {},
   "outputs": [],
   "source": [
    "rf.fit(X_train, y_kmeans)\n",
    "importances = rf.feature_importances_"
   ]
  },
  {
   "cell_type": "code",
   "execution_count": 83,
   "metadata": {},
   "outputs": [],
   "source": [
    "import numpy as np\n",
    "import pandas as pd\n",
    "from sklearn.ensemble import RandomForestClassifier\n",
    "from sklearn.model_selection import cross_val_score\n",
    "import matplotlib.pyplot as plt\n"
   ]
  },
  {
   "cell_type": "code",
   "execution_count": 99,
   "metadata": {},
   "outputs": [
    {
     "name": "stdout",
     "output_type": "stream",
     "text": [
      "0    30\n",
      "1    45\n",
      "2    15\n",
      "3    29\n",
      "4    27\n",
      "5    38\n",
      "6    28\n",
      "Name: label, dtype: int64\n"
     ]
    },
    {
     "data": {
      "text/plain": [
       "0    182\n",
       "1     30\n",
       "Name: label, dtype: int64"
      ]
     },
     "execution_count": 99,
     "metadata": {},
     "output_type": "execute_result"
    }
   ],
   "source": [
    "# mają całkiem podobną ilość z wyjątkiem 1 i 2\n",
    "print(y_kmeans.value_counts().sort_index())\n",
    "# we map because we will calculate features are discriminatory\n"
   ]
  },
  {
   "cell_type": "code",
   "execution_count": 117,
   "metadata": {},
   "outputs": [],
   "source": [
    "from sklearn.ensemble import RandomForestClassifier"
   ]
  },
  {
   "cell_type": "code",
   "execution_count": 141,
   "metadata": {},
   "outputs": [
    {
     "name": "stdout",
     "output_type": "stream",
     "text": [
      "0    182\n",
      "1     30\n",
      "Name: label, dtype: int64\n",
      "0    167\n",
      "1     45\n",
      "Name: label, dtype: int64\n",
      "0    197\n",
      "1     15\n",
      "Name: label, dtype: int64\n",
      "0    183\n",
      "1     29\n",
      "Name: label, dtype: int64\n",
      "0    185\n",
      "1     27\n",
      "Name: label, dtype: int64\n",
      "0    174\n",
      "1     38\n",
      "Name: label, dtype: int64\n",
      "0    184\n",
      "1     28\n",
      "Name: label, dtype: int64\n"
     ]
    },
    {
     "data": {
      "image/png": "[encoded data removed]",
      "text/plain": [
       "<Figure size 432x288 with 1 Axes>"
      ]
     },
     "metadata": {
      "needs_background": "light"
     },
     "output_type": "display_data"
    }
   ],
   "source": [
    "values_to_map = [0, 1, 2, 3, 4, 5, 6]\n",
    "colors = sns.color_palette(\"Oranges\", len(feature_importances))\n",
    "plt.figure(figsize=(10, 6))\n",
    "\n",
    "for i in range(7):\n",
    "    mapping = {}\n",
    "    for value in values_to_map:\n",
    "        mapping[value] = 1 if value == i else 0\n",
    "    # Map values to 0 or 1 based on the mapping dictionary\n",
    "    mapped_y = y_kmeans.map(mapping).fillna(1)\n",
    "\n",
    "    print(mapped_y.value_counts())\n",
    "\n",
    "    clf = RandomForestClassifier(random_state=1)\n",
    "    clf = clf.fit(df_without_pca.iloc[:, 1:11], mapped_y)\n",
    "    sorted_feature_weight_idxes = np.argsort(clf.feature_importances_)[::-1] # Reverse sort\n",
    "    most_important_features = np.take_along_axis(\n",
    "        np.array(df_without_pca.iloc[:, 1:11].columns.tolist()), \n",
    "        sorted_feature_weight_idxes, axis=0)\n",
    "    most_important_weights = np.take_along_axis(\n",
    "        np.array(clf.feature_importances_), \n",
    "        sorted_feature_weight_idxes, axis=0)\n",
    "\n",
    "    sns.barplot(x=most_important_features[0:3], y=most_important_weights[0:3])\n",
    "    # print(list(zip(most_important_features, most_important_weights)))\n"
   ]
  },
  {
   "cell_type": "code",
   "execution_count": 151,
   "metadata": {},
   "outputs": [
    {
     "data": {
      "image/png": "[encoded data removed]",
      "text/plain": [
       "<Figure size 1440x432 with 7 Axes>"
      ]
     },
     "metadata": {
      "needs_background": "light"
     },
     "output_type": "display_data"
    }
   ],
   "source": [
    "import seaborn as sns\n",
    "import seaborn as sns\n",
    "import matplotlib.pyplot as plt\n",
    "\n",
    "values_to_map = [0, 1, 2, 3, 4, 5, 6]\n",
    "colors = sns.color_palette(\"Oranges\", len(values_to_map))\n",
    "fig, axs = plt.subplots(nrows=1, ncols=7, figsize=(20, 6), sharey=True)\n",
    "\n",
    "for i in range(7):\n",
    "    mapping = {}\n",
    "    for value in values_to_map:\n",
    "        mapping[value] = 1 if value == i else 0\n",
    "    # Map values to 0 or 1 based on the mapping dictionary\n",
    "    mapped_y = y_kmeans.map(mapping).fillna(1)\n",
    "\n",
    "    clf = RandomForestClassifier(random_state=1)\n",
    "    clf = clf.fit(df_without_pca.iloc[:, 1:11], mapped_y)\n",
    "    sorted_feature_weight_idxes = np.argsort(clf.feature_importances_)[::-1] # Reverse sort\n",
    "    most_important_features = np.take_along_axis(\n",
    "        np.array(df_without_pca.iloc[:, 1:11].columns.tolist()), \n",
    "        sorted_feature_weight_idxes, axis=0)\n",
    "    most_important_weights = np.take_along_axis(\n",
    "        np.array(clf.feature_importances_), \n",
    "        sorted_feature_weight_idxes, axis=0)\n",
    "\n",
    "    # Create a bar plot for the current iteration\n",
    "    ax = axs[i]\n",
    "    sns.barplot(x=most_important_features[0:4], y=most_important_weights[0:4], ax=ax, palette=[colors[i]])\n",
    "\n",
    "    # Set the title for the current plot\n",
    "    ax.set_title(f'{i} label')\n",
    "\n",
    "    # Remove y-axis labels except for the leftmost plot\n",
    "    if i > 0:\n",
    "        ax.set_ylabel('')\n",
    "\n",
    "# Adjust the spacing between subplots\n",
    "plt.tight_layout()\n",
    "\n",
    "# Add a common y-axis label\n",
    "fig.text(-0.01, 0.5, 'Feature Weights', va='center', rotation='vertical', size=15)\n",
    "\n",
    "# Add a common x-axis label\n",
    "fig.text(0.5, -0.03, 'Features', ha='center', size=15)\n",
    "\n",
    "# Set the overall title for the figure\n",
    "fig.suptitle('Most Important Features and Their Weights', y=1.05, size = 20)\n",
    "\n",
    "plt.show()\n"
   ]
  }
 ],
 "metadata": {
  "kernelspec": {
   "display_name": "Python 3 (ipykernel)",
   "language": "python",
   "name": "python3"
  },
  "language_info": {
   "codemirror_mode": {
    "name": "ipython",
    "version": 3
   },
   "file_extension": ".py",
   "mimetype": "text/x-python",
   "name": "python",
   "nbconvert_exporter": "python",
   "pygments_lexer": "ipython3",
   "version": "3.9.7"
  }
 },
 "nbformat": 4,
 "nbformat_minor": 2
}
