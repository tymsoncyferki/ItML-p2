{
 "cells": [
  {
   "cell_type": "markdown",
   "metadata": {},
   "source": [
    "## Heart disease patients clasterization\n",
    "Tymoteusz Urban, Karolina Mączka"
   ]
  },
  {
   "cell_type": "code",
   "execution_count": 27,
   "metadata": {},
   "outputs": [],
   "source": [
    "import pandas as pd\n",
    "import numpy as np\n",
    "import seaborn as sns\n",
    "import matplotlib.pyplot as plt\n",
    "from statsmodels.stats.outliers_influence import variance_inflation_factor\n",
    "from sklearn.decomposition import PCA\n",
    "from sklearn.preprocessing import StandardScaler, Normalizer, MinMaxScaler\n",
    "from sklearn.cluster import KMeans\n",
    "from sklearn.metrics import silhouette_score, calinski_harabasz_score, davies_bouldin_score\n",
    "from sklearn.model_selection import train_test_split\n",
    "from scipy.cluster.hierarchy import fcluster, linkage\n",
    "from tabulate import tabulate\n",
    "from scipy.cluster.hierarchy import dendrogram, linkage\n",
    "import plotly.graph_objects as go\n",
    "from sklearn.cluster import AgglomerativeClustering, KMeans\n",
    "from sklearn.metrics import pairwise_distances_argmin_min\n",
    "from sklearn.cluster import SpectralClustering"
   ]
  },
  {
   "cell_type": "code",
   "execution_count": 28,
   "metadata": {},
   "outputs": [],
   "source": [
    "import warnings\n",
    "warnings.filterwarnings(\"ignore\")"
   ]
  },
  {
   "cell_type": "markdown",
   "metadata": {},
   "source": [
    "### Dividing dataset and saving to files"
   ]
  },
  {
   "cell_type": "code",
   "execution_count": 29,
   "metadata": {},
   "outputs": [],
   "source": [
    "df = pd.read_csv('heart_disease_patients.csv')\n",
    "\n",
    "# Split data into train and remaining data\n",
    "X_train, X_remaining = train_test_split(df, test_size=0.3, random_state=42)\n",
    "\n",
    "# Split remaining data into test and validation sets\n",
    "X_test, X_validation = train_test_split(X_remaining, test_size=0.5, random_state=42)\n",
    "\n",
    "train_df = pd.DataFrame(X_train) \n",
    "train_df.to_csv('train.csv', index=False)\n",
    "\n",
    "test_df = pd.DataFrame(X_test)  \n",
    "test_df.to_csv('test.csv', index=False)\n",
    "\n",
    "validation_df = pd.DataFrame(X_validation)\n",
    "validation_df.to_csv('validation.csv', index=False)"
   ]
  },
  {
   "cell_type": "markdown",
   "metadata": {},
   "source": [
    "## Data exploration"
   ]
  },
  {
   "cell_type": "code",
   "execution_count": 30,
   "metadata": {},
   "outputs": [
    {
     "name": "stdout",
     "output_type": "stream",
     "text": [
      "   age  sex  cp  trestbps  chol  fbs  restecg  thalach  exang  oldpeak  slope\n",
      "0   65    1   1       138   282    1        2      174      0      1.4      2\n",
      "1   62    1   4       120   267    0        0       99      1      1.8      2\n",
      "2   57    1   3       150   168    0        0      174      0      1.6      1\n",
      "3   57    1   4       140   192    0        0      148      0      0.4      2\n",
      "4   58    0   4       100   248    0        2      122      0      1.0      2\n"
     ]
    }
   ],
   "source": [
    "df = pd.read_csv('train.csv')\n",
    "df.drop('id', axis=1, inplace=True)\n",
    "raw_data = df.copy()\n",
    "print(df.head())"
   ]
  },
  {
   "cell_type": "markdown",
   "metadata": {},
   "source": [
    "1. age - age in years (male risk > 55, female risk > 65)\n",
    "2. sex - sex (1 = male; 0 = female)\n",
    "3. cp - chest pain type (1 = typical angina; 2 = atypical angina; 3 = non-anginal pain; 4 = asymptomatic)\n",
    "4. trestbps - resting blood pressure (in mm Hg on admission to the hospital, 80 norm, 90< overpressure)\n",
    "5. chol - serum cholestoral in mg/dl\n",
    "6. fbs - fasting blood sugar > 120 mg/dl (1 = true; 0 = false, diabetes)\n",
    "7. restecg - resting electrocardiographic results (0 = normal; 1 = having ST-T; 2 = hypertrophy)\n",
    "8. thalach - maximum heart rate achieved\n",
    "9. exang - exercise induced angina (1 = yes; 0 = no)\n",
    "10. oldpeak - ST depression induced by exercise relative to rest\n",
    "11. slope - the slope of the peak exercise ST segment (1 = upsloping; 2 = flat; 3 = downsloping, flat is good)"
   ]
  },
  {
   "cell_type": "code",
   "execution_count": 31,
   "metadata": {},
   "outputs": [
    {
     "name": "stdout",
     "output_type": "stream",
     "text": [
      "<class 'pandas.core.frame.DataFrame'>\n",
      "RangeIndex: 212 entries, 0 to 211\n",
      "Data columns (total 11 columns):\n",
      " #   Column    Non-Null Count  Dtype  \n",
      "---  ------    --------------  -----  \n",
      " 0   age       212 non-null    int64  \n",
      " 1   sex       212 non-null    int64  \n",
      " 2   cp        212 non-null    int64  \n",
      " 3   trestbps  212 non-null    int64  \n",
      " 4   chol      212 non-null    int64  \n",
      " 5   fbs       212 non-null    int64  \n",
      " 6   restecg   212 non-null    int64  \n",
      " 7   thalach   212 non-null    int64  \n",
      " 8   exang     212 non-null    int64  \n",
      " 9   oldpeak   212 non-null    float64\n",
      " 10  slope     212 non-null    int64  \n",
      "dtypes: float64(1), int64(10)\n",
      "memory usage: 18.3 KB\n"
     ]
    }
   ],
   "source": [
    "df.info()"
   ]
  },
  {
   "cell_type": "code",
   "execution_count": 32,
   "metadata": {},
   "outputs": [
    {
     "data": {
      "text/plain": [
       "age         0\n",
       "sex         0\n",
       "cp          0\n",
       "trestbps    0\n",
       "chol        0\n",
       "fbs         0\n",
       "restecg     0\n",
       "thalach     0\n",
       "exang       0\n",
       "oldpeak     0\n",
       "slope       0\n",
       "dtype: int64"
      ]
     },
     "execution_count": 32,
     "metadata": {},
     "output_type": "execute_result"
    }
   ],
   "source": [
    "df.isnull().sum()"
   ]
  },
  {
   "cell_type": "markdown",
   "metadata": {},
   "source": [
    "There are no null values, all variables are clean and properly prepared."
   ]
  },
  {
   "cell_type": "code",
   "execution_count": 33,
   "metadata": {},
   "outputs": [
    {
     "data": {
      "text/plain": [
       "array([[<AxesSubplot:title={'center':'age'}>,\n",
       "        <AxesSubplot:title={'center':'sex'}>,\n",
       "        <AxesSubplot:title={'center':'cp'}>],\n",
       "       [<AxesSubplot:title={'center':'trestbps'}>,\n",
       "        <AxesSubplot:title={'center':'chol'}>,\n",
       "        <AxesSubplot:title={'center':'fbs'}>],\n",
       "       [<AxesSubplot:title={'center':'restecg'}>,\n",
       "        <AxesSubplot:title={'center':'thalach'}>,\n",
       "        <AxesSubplot:title={'center':'exang'}>],\n",
       "       [<AxesSubplot:title={'center':'oldpeak'}>,\n",
       "        <AxesSubplot:title={'center':'slope'}>, <AxesSubplot:>]],\n",
       "      dtype=object)"
      ]
     },
     "execution_count": 33,
     "metadata": {},
     "output_type": "execute_result"
    },
    {
     "data": {
      "image/png": "[encoded data removed]",
      "text/plain": [
       "<Figure size 1000x1000 with 12 Axes>"
      ]
     },
     "metadata": {},
     "output_type": "display_data"
    }
   ],
   "source": [
    "df.hist(figsize=(10,10))"
   ]
  },
  {
   "cell_type": "markdown",
   "metadata": {},
   "source": [
    "Restecg looks strange as if there were no values 1. Let's check it:"
   ]
  },
  {
   "cell_type": "code",
   "execution_count": 34,
   "metadata": {},
   "outputs": [
    {
     "data": {
      "text/plain": [
       "0    107\n",
       "2    104\n",
       "1      1\n",
       "Name: restecg, dtype: int64"
      ]
     },
     "execution_count": 34,
     "metadata": {},
     "output_type": "execute_result"
    }
   ],
   "source": [
    "df['restecg'].value_counts()"
   ]
  },
  {
   "cell_type": "markdown",
   "metadata": {},
   "source": [
    "There is only one value 1, so we will treat it as an outlier."
   ]
  },
  {
   "cell_type": "code",
   "execution_count": 35,
   "metadata": {},
   "outputs": [
    {
     "data": {
      "text/plain": [
       "<AxesSubplot:>"
      ]
     },
     "execution_count": 35,
     "metadata": {},
     "output_type": "execute_result"
    },
    {
     "data": {
      "image/png": "[encoded data removed]",
      "text/plain": [
       "<Figure size 640x480 with 2 Axes>"
      ]
     },
     "metadata": {},
     "output_type": "display_data"
    }
   ],
   "source": [
    "sns.heatmap(df.corr())"
   ]
  },
  {
   "cell_type": "markdown",
   "metadata": {},
   "source": [
    "There is quite high correlation between oldpeak and slope and also between cp and exang, but is it big enough to delete any of the columns? Also, there is negative correlation between thalach and: age, cp, exang, oldpeak, slope."
   ]
  },
  {
   "cell_type": "code",
   "execution_count": 36,
   "metadata": {},
   "outputs": [
    {
     "name": "stdout",
     "output_type": "stream",
     "text": [
      "oldpeak and slope correlation: 0.5458278072906251\n",
      "cp and exang correlation: 0.39916290470356114\n",
      "thalach and age correlation: -0.4149739322362583\n",
      "thalach and slope correlation: -0.40644733868269406\n"
     ]
    }
   ],
   "source": [
    "print(f\"oldpeak and slope correlation: {df[['oldpeak', 'slope']].corr().iloc[0,1]}\")\n",
    "print(f\"cp and exang correlation: {df[['cp', 'exang']].corr().iloc[0,1]}\")\n",
    "print(f\"thalach and age correlation: {df[['thalach', 'age']].corr().iloc[0,1]}\")\n",
    "print(f\"thalach and slope correlation: {df[['thalach', 'slope']].corr().iloc[0,1]}\")"
   ]
  },
  {
   "cell_type": "code",
   "execution_count": 37,
   "metadata": {},
   "outputs": [
    {
     "data": {
      "image/png": "[encoded data removed]",
      "text/plain": [
       "<Figure size 640x480 with 1 Axes>"
      ]
     },
     "metadata": {},
     "output_type": "display_data"
    }
   ],
   "source": [
    "plt.scatter(df['slope'], df['oldpeak'])\n",
    "plt.xlabel('Slope')\n",
    "plt.ylabel('Oldpeak')\n",
    "plt.show()"
   ]
  },
  {
   "cell_type": "code",
   "execution_count": 38,
   "metadata": {},
   "outputs": [
    {
     "data": {
      "image/png": "[encoded data removed]",
      "text/plain": [
       "<Figure size 640x480 with 1 Axes>"
      ]
     },
     "metadata": {},
     "output_type": "display_data"
    }
   ],
   "source": [
    "plt.scatter(df['thalach'], df['age'])\n",
    "plt.xlabel('Thalach')\n",
    "plt.ylabel('Age')\n",
    "plt.show()"
   ]
  },
  {
   "cell_type": "code",
   "execution_count": 39,
   "metadata": {},
   "outputs": [],
   "source": [
    "# Another approach\n",
    "def calc_vif(X):\n",
    "    vif = pd.DataFrame()\n",
    "    vif[\"variables\"] = X.columns\n",
    "    vif[\"VIF\"] = [variance_inflation_factor(X.values, i) for i in range(X.shape[1])]\n",
    "    return vif"
   ]
  },
  {
   "cell_type": "code",
   "execution_count": 40,
   "metadata": {},
   "outputs": [
    {
     "data": {
      "text/html": [
       "<div>\n",
       "<style scoped>\n",
       "    .dataframe tbody tr th:only-of-type {\n",
       "        vertical-align: middle;\n",
       "    }\n",
       "\n",
       "    .dataframe tbody tr th {\n",
       "        vertical-align: top;\n",
       "    }\n",
       "\n",
       "    .dataframe thead th {\n",
       "        text-align: right;\n",
       "    }\n",
       "</style>\n",
       "<table border=\"1\" class=\"dataframe\">\n",
       "  <thead>\n",
       "    <tr style=\"text-align: right;\">\n",
       "      <th></th>\n",
       "      <th>variables</th>\n",
       "      <th>VIF</th>\n",
       "    </tr>\n",
       "  </thead>\n",
       "  <tbody>\n",
       "    <tr>\n",
       "      <th>0</th>\n",
       "      <td>age</td>\n",
       "      <td>39.346948</td>\n",
       "    </tr>\n",
       "    <tr>\n",
       "      <th>1</th>\n",
       "      <td>sex</td>\n",
       "      <td>3.095046</td>\n",
       "    </tr>\n",
       "    <tr>\n",
       "      <th>2</th>\n",
       "      <td>cp</td>\n",
       "      <td>12.426015</td>\n",
       "    </tr>\n",
       "    <tr>\n",
       "      <th>3</th>\n",
       "      <td>trestbps</td>\n",
       "      <td>58.483209</td>\n",
       "    </tr>\n",
       "    <tr>\n",
       "      <th>4</th>\n",
       "      <td>chol</td>\n",
       "      <td>29.128519</td>\n",
       "    </tr>\n",
       "    <tr>\n",
       "      <th>5</th>\n",
       "      <td>fbs</td>\n",
       "      <td>1.200710</td>\n",
       "    </tr>\n",
       "    <tr>\n",
       "      <th>6</th>\n",
       "      <td>restecg</td>\n",
       "      <td>2.136638</td>\n",
       "    </tr>\n",
       "    <tr>\n",
       "      <th>7</th>\n",
       "      <td>thalach</td>\n",
       "      <td>34.543369</td>\n",
       "    </tr>\n",
       "    <tr>\n",
       "      <th>8</th>\n",
       "      <td>exang</td>\n",
       "      <td>2.081073</td>\n",
       "    </tr>\n",
       "    <tr>\n",
       "      <th>9</th>\n",
       "      <td>oldpeak</td>\n",
       "      <td>2.720192</td>\n",
       "    </tr>\n",
       "    <tr>\n",
       "      <th>10</th>\n",
       "      <td>slope</td>\n",
       "      <td>10.545887</td>\n",
       "    </tr>\n",
       "  </tbody>\n",
       "</table>\n",
       "</div>"
      ],
      "text/plain": [
       "   variables        VIF\n",
       "0        age  39.346948\n",
       "1        sex   3.095046\n",
       "2         cp  12.426015\n",
       "3   trestbps  58.483209\n",
       "4       chol  29.128519\n",
       "5        fbs   1.200710\n",
       "6    restecg   2.136638\n",
       "7    thalach  34.543369\n",
       "8      exang   2.081073\n",
       "9    oldpeak   2.720192\n",
       "10     slope  10.545887"
      ]
     },
     "execution_count": 40,
     "metadata": {},
     "output_type": "execute_result"
    }
   ],
   "source": [
    "calc_vif(df)"
   ]
  },
  {
   "cell_type": "markdown",
   "metadata": {},
   "source": [
    "Should variables should we drop? According to traditional correlation between variables it could be slope, but after calculating VIF it seems that age, trestbps, chol and thalach are highly correlated with the other variables. So from both methods thalach column is a candidate to delete. But after rethinking we came to conclusion with our validation team that none should be deleted as all are essential for medical analysis "
   ]
  },
  {
   "cell_type": "markdown",
   "metadata": {},
   "source": [
    "## Preprocessing"
   ]
  },
  {
   "cell_type": "code",
   "execution_count": 41,
   "metadata": {},
   "outputs": [],
   "source": [
    "# Outliers removal - replace lower_bound and upper_bound, only numeric columns\n",
    "def replace_outliers(data, k=1.5):\n",
    "    \"\"\"\n",
    "    Removes outliers from a pandas DataFrame using the interquartile range (IQR) method.\n",
    "\n",
    "    :param data: dataframe\n",
    "    :param k: A multiplier to adjust the outlier threshold. By default, k is set to 1.5.\n",
    "    :return: dataframe\n",
    "    \"\"\"\n",
    "    data = data.copy()\n",
    "    for col in ['age', 'trestbps', 'chol', 'thalach', 'oldpeak']:\n",
    "        q1, q3 = np.percentile(data[col], [25, 75])\n",
    "        iqr = q3 - q1\n",
    "        lower_bound = q1 - k * iqr\n",
    "        upper_bound = q3 + k * iqr\n",
    "        mask = (data[col] < lower_bound)\n",
    "        data.loc[mask, col] = lower_bound\n",
    "        mask = (data[col] > upper_bound)\n",
    "        data.loc[mask, col] = upper_bound\n",
    "\n",
    "    value = data['restecg'].value_counts().idxmax()\n",
    "    data['restecg'] = data['restecg'].replace(1, value)\n",
    "    data['restecg'] = data['restecg'].replace(2, 1) # make restecg a boolean column: 1 means hypertrophy, 0 is normal\n",
    "\n",
    "    return data"
   ]
  },
  {
   "cell_type": "code",
   "execution_count": 42,
   "metadata": {},
   "outputs": [],
   "source": [
    "#  Encode chest pain type column\n",
    "def encode_columns(data):\n",
    "    \"\"\"\n",
    "        Encodes categorical column cp (chest pain type)\n",
    "\n",
    "    :param data: Dataframe\n",
    "    :return: Encoded dataframe\n",
    "    \"\"\"\n",
    "    data = data.copy()\n",
    "    data = pd.get_dummies(data, columns=['cp'], prefix='cp', dtype=int)\n",
    "    data = data.rename(columns={\"cp_1\": \"cp_typ_ang\", \"cp_2\": \"cp_atyp_ang\", \"cp_3\": \"cp_non_ang\", \"cp_4\": \"cp_asympt\"})\n",
    "    return data"
   ]
  },
  {
   "cell_type": "code",
   "execution_count": 43,
   "metadata": {},
   "outputs": [],
   "source": [
    "# Instead manual deletion of variables we could use PCA for reducing dimensionality\n",
    "def remove_overshadowing(data):\n",
    "    \"\"\"\n",
    "    Performs Principal Component Analysis (PCA) on a given dataset.\n",
    "\n",
    "    :param data: dataframe\n",
    "    :return:\n",
    "            A reduced version of the input DataFrame, containing the first n principal components\n",
    "            where n is the smallest number of components that explain at least 95% of the variance in the data.\n",
    "            The columns of the new DataFrame are named \"PC1\", \"PC2\", etc.\n",
    "\n",
    "    \"\"\"\n",
    "    # Perform PCA\n",
    "    pca = PCA()\n",
    "    X_pca = pca.fit_transform(data)\n",
    "\n",
    "    # Determine the number of principal components to retain\n",
    "    explained_variances = pca.explained_variance_ratio_\n",
    "    cumulative_variances = np.cumsum(explained_variances)\n",
    "    n_components = np.argmax(cumulative_variances > 0.95) + 1\n",
    "\n",
    "    # Retain the first n principal components\n",
    "    X_reduced = X_pca[:, :n_components]\n",
    "\n",
    "    # Convert back to a pandas DataFrame\n",
    "    df_reduced = pd.DataFrame(X_reduced, columns=[\"PC\"+str(i) for i in range(1, n_components+1)])\n",
    "    \n",
    "    return df_reduced"
   ]
  },
  {
   "cell_type": "markdown",
   "metadata": {},
   "source": [
    "We will also need to scale our data - we can try 3 different ways to do it. We will test it later."
   ]
  },
  {
   "cell_type": "code",
   "execution_count": 44,
   "metadata": {},
   "outputs": [],
   "source": [
    "def standarize(X):\n",
    "    scaler = StandardScaler()\n",
    "    X_scaled = scaler.fit_transform(X)\n",
    "    X = pd.DataFrame(X_scaled, columns=X.columns)\n",
    "    return X\n",
    "\n",
    "\n",
    "def normalize(X):\n",
    "    normalizer = Normalizer()\n",
    "    X_normalized = normalizer.fit_transform(X)\n",
    "    X = pd.DataFrame(X_normalized, columns=X.columns)\n",
    "    return X\n",
    "\n",
    "\n",
    "def minmax(X):\n",
    "    minmaxer = MinMaxScaler()\n",
    "    X_scaled = minmaxer.fit_transform(X)\n",
    "    X = pd.DataFrame(X_scaled, columns=X.columns, index=X.index)\n",
    "    return X"
   ]
  },
  {
   "cell_type": "code",
   "execution_count": 45,
   "metadata": {},
   "outputs": [
    {
     "data": {
      "text/html": [
       "<div>\n",
       "<style scoped>\n",
       "    .dataframe tbody tr th:only-of-type {\n",
       "        vertical-align: middle;\n",
       "    }\n",
       "\n",
       "    .dataframe tbody tr th {\n",
       "        vertical-align: top;\n",
       "    }\n",
       "\n",
       "    .dataframe thead th {\n",
       "        text-align: right;\n",
       "    }\n",
       "</style>\n",
       "<table border=\"1\" class=\"dataframe\">\n",
       "  <thead>\n",
       "    <tr style=\"text-align: right;\">\n",
       "      <th></th>\n",
       "      <th>age</th>\n",
       "      <th>sex</th>\n",
       "      <th>cp</th>\n",
       "      <th>trestbps</th>\n",
       "      <th>chol</th>\n",
       "      <th>fbs</th>\n",
       "      <th>restecg</th>\n",
       "      <th>thalach</th>\n",
       "      <th>exang</th>\n",
       "      <th>oldpeak</th>\n",
       "      <th>slope</th>\n",
       "    </tr>\n",
       "  </thead>\n",
       "  <tbody>\n",
       "    <tr>\n",
       "      <th>0</th>\n",
       "      <td>65</td>\n",
       "      <td>1</td>\n",
       "      <td>1</td>\n",
       "      <td>138</td>\n",
       "      <td>282</td>\n",
       "      <td>1</td>\n",
       "      <td>2</td>\n",
       "      <td>174</td>\n",
       "      <td>0</td>\n",
       "      <td>1.4</td>\n",
       "      <td>2</td>\n",
       "    </tr>\n",
       "    <tr>\n",
       "      <th>1</th>\n",
       "      <td>62</td>\n",
       "      <td>1</td>\n",
       "      <td>4</td>\n",
       "      <td>120</td>\n",
       "      <td>267</td>\n",
       "      <td>0</td>\n",
       "      <td>0</td>\n",
       "      <td>99</td>\n",
       "      <td>1</td>\n",
       "      <td>1.8</td>\n",
       "      <td>2</td>\n",
       "    </tr>\n",
       "    <tr>\n",
       "      <th>2</th>\n",
       "      <td>57</td>\n",
       "      <td>1</td>\n",
       "      <td>3</td>\n",
       "      <td>150</td>\n",
       "      <td>168</td>\n",
       "      <td>0</td>\n",
       "      <td>0</td>\n",
       "      <td>174</td>\n",
       "      <td>0</td>\n",
       "      <td>1.6</td>\n",
       "      <td>1</td>\n",
       "    </tr>\n",
       "    <tr>\n",
       "      <th>3</th>\n",
       "      <td>57</td>\n",
       "      <td>1</td>\n",
       "      <td>4</td>\n",
       "      <td>140</td>\n",
       "      <td>192</td>\n",
       "      <td>0</td>\n",
       "      <td>0</td>\n",
       "      <td>148</td>\n",
       "      <td>0</td>\n",
       "      <td>0.4</td>\n",
       "      <td>2</td>\n",
       "    </tr>\n",
       "    <tr>\n",
       "      <th>4</th>\n",
       "      <td>58</td>\n",
       "      <td>0</td>\n",
       "      <td>4</td>\n",
       "      <td>100</td>\n",
       "      <td>248</td>\n",
       "      <td>0</td>\n",
       "      <td>2</td>\n",
       "      <td>122</td>\n",
       "      <td>0</td>\n",
       "      <td>1.0</td>\n",
       "      <td>2</td>\n",
       "    </tr>\n",
       "    <tr>\n",
       "      <th>...</th>\n",
       "      <td>...</td>\n",
       "      <td>...</td>\n",
       "      <td>...</td>\n",
       "      <td>...</td>\n",
       "      <td>...</td>\n",
       "      <td>...</td>\n",
       "      <td>...</td>\n",
       "      <td>...</td>\n",
       "      <td>...</td>\n",
       "      <td>...</td>\n",
       "      <td>...</td>\n",
       "    </tr>\n",
       "    <tr>\n",
       "      <th>207</th>\n",
       "      <td>54</td>\n",
       "      <td>1</td>\n",
       "      <td>2</td>\n",
       "      <td>192</td>\n",
       "      <td>283</td>\n",
       "      <td>0</td>\n",
       "      <td>2</td>\n",
       "      <td>195</td>\n",
       "      <td>0</td>\n",
       "      <td>0.0</td>\n",
       "      <td>1</td>\n",
       "    </tr>\n",
       "    <tr>\n",
       "      <th>208</th>\n",
       "      <td>67</td>\n",
       "      <td>1</td>\n",
       "      <td>4</td>\n",
       "      <td>125</td>\n",
       "      <td>254</td>\n",
       "      <td>1</td>\n",
       "      <td>0</td>\n",
       "      <td>163</td>\n",
       "      <td>0</td>\n",
       "      <td>0.2</td>\n",
       "      <td>2</td>\n",
       "    </tr>\n",
       "    <tr>\n",
       "      <th>209</th>\n",
       "      <td>59</td>\n",
       "      <td>1</td>\n",
       "      <td>4</td>\n",
       "      <td>140</td>\n",
       "      <td>177</td>\n",
       "      <td>0</td>\n",
       "      <td>0</td>\n",
       "      <td>162</td>\n",
       "      <td>1</td>\n",
       "      <td>0.0</td>\n",
       "      <td>1</td>\n",
       "    </tr>\n",
       "    <tr>\n",
       "      <th>210</th>\n",
       "      <td>61</td>\n",
       "      <td>1</td>\n",
       "      <td>4</td>\n",
       "      <td>140</td>\n",
       "      <td>207</td>\n",
       "      <td>0</td>\n",
       "      <td>2</td>\n",
       "      <td>138</td>\n",
       "      <td>1</td>\n",
       "      <td>1.9</td>\n",
       "      <td>1</td>\n",
       "    </tr>\n",
       "    <tr>\n",
       "      <th>211</th>\n",
       "      <td>57</td>\n",
       "      <td>0</td>\n",
       "      <td>4</td>\n",
       "      <td>128</td>\n",
       "      <td>303</td>\n",
       "      <td>0</td>\n",
       "      <td>2</td>\n",
       "      <td>159</td>\n",
       "      <td>0</td>\n",
       "      <td>0.0</td>\n",
       "      <td>1</td>\n",
       "    </tr>\n",
       "  </tbody>\n",
       "</table>\n",
       "<p>212 rows × 11 columns</p>\n",
       "</div>"
      ],
      "text/plain": [
       "     age  sex  cp  trestbps  chol  fbs  restecg  thalach  exang  oldpeak  \\\n",
       "0     65    1   1       138   282    1        2      174      0      1.4   \n",
       "1     62    1   4       120   267    0        0       99      1      1.8   \n",
       "2     57    1   3       150   168    0        0      174      0      1.6   \n",
       "3     57    1   4       140   192    0        0      148      0      0.4   \n",
       "4     58    0   4       100   248    0        2      122      0      1.0   \n",
       "..   ...  ...  ..       ...   ...  ...      ...      ...    ...      ...   \n",
       "207   54    1   2       192   283    0        2      195      0      0.0   \n",
       "208   67    1   4       125   254    1        0      163      0      0.2   \n",
       "209   59    1   4       140   177    0        0      162      1      0.0   \n",
       "210   61    1   4       140   207    0        2      138      1      1.9   \n",
       "211   57    0   4       128   303    0        2      159      0      0.0   \n",
       "\n",
       "     slope  \n",
       "0        2  \n",
       "1        2  \n",
       "2        1  \n",
       "3        2  \n",
       "4        2  \n",
       "..     ...  \n",
       "207      1  \n",
       "208      2  \n",
       "209      1  \n",
       "210      1  \n",
       "211      1  \n",
       "\n",
       "[212 rows x 11 columns]"
      ]
     },
     "execution_count": 45,
     "metadata": {},
     "output_type": "execute_result"
    }
   ],
   "source": [
    "df"
   ]
  },
  {
   "cell_type": "code",
   "execution_count": 46,
   "metadata": {},
   "outputs": [
    {
     "data": {
      "text/html": [
       "<div>\n",
       "<style scoped>\n",
       "    .dataframe tbody tr th:only-of-type {\n",
       "        vertical-align: middle;\n",
       "    }\n",
       "\n",
       "    .dataframe tbody tr th {\n",
       "        vertical-align: top;\n",
       "    }\n",
       "\n",
       "    .dataframe thead th {\n",
       "        text-align: right;\n",
       "    }\n",
       "</style>\n",
       "<table border=\"1\" class=\"dataframe\">\n",
       "  <thead>\n",
       "    <tr style=\"text-align: right;\">\n",
       "      <th></th>\n",
       "      <th>age</th>\n",
       "      <th>sex</th>\n",
       "      <th>trestbps</th>\n",
       "      <th>chol</th>\n",
       "      <th>fbs</th>\n",
       "      <th>restecg</th>\n",
       "      <th>thalach</th>\n",
       "      <th>exang</th>\n",
       "      <th>oldpeak</th>\n",
       "      <th>slope</th>\n",
       "      <th>cp_typ_ang</th>\n",
       "      <th>cp_atyp_ang</th>\n",
       "      <th>cp_non_ang</th>\n",
       "      <th>cp_asympt</th>\n",
       "    </tr>\n",
       "  </thead>\n",
       "  <tbody>\n",
       "    <tr>\n",
       "      <th>0</th>\n",
       "      <td>65.0</td>\n",
       "      <td>1</td>\n",
       "      <td>138.00</td>\n",
       "      <td>282.0</td>\n",
       "      <td>1</td>\n",
       "      <td>1</td>\n",
       "      <td>174.0</td>\n",
       "      <td>0</td>\n",
       "      <td>1.4</td>\n",
       "      <td>2</td>\n",
       "      <td>1</td>\n",
       "      <td>0</td>\n",
       "      <td>0</td>\n",
       "      <td>0</td>\n",
       "    </tr>\n",
       "    <tr>\n",
       "      <th>1</th>\n",
       "      <td>62.0</td>\n",
       "      <td>1</td>\n",
       "      <td>120.00</td>\n",
       "      <td>267.0</td>\n",
       "      <td>0</td>\n",
       "      <td>0</td>\n",
       "      <td>99.0</td>\n",
       "      <td>1</td>\n",
       "      <td>1.8</td>\n",
       "      <td>2</td>\n",
       "      <td>0</td>\n",
       "      <td>0</td>\n",
       "      <td>0</td>\n",
       "      <td>1</td>\n",
       "    </tr>\n",
       "    <tr>\n",
       "      <th>2</th>\n",
       "      <td>57.0</td>\n",
       "      <td>1</td>\n",
       "      <td>150.00</td>\n",
       "      <td>168.0</td>\n",
       "      <td>0</td>\n",
       "      <td>0</td>\n",
       "      <td>174.0</td>\n",
       "      <td>0</td>\n",
       "      <td>1.6</td>\n",
       "      <td>1</td>\n",
       "      <td>0</td>\n",
       "      <td>0</td>\n",
       "      <td>1</td>\n",
       "      <td>0</td>\n",
       "    </tr>\n",
       "    <tr>\n",
       "      <th>3</th>\n",
       "      <td>57.0</td>\n",
       "      <td>1</td>\n",
       "      <td>140.00</td>\n",
       "      <td>192.0</td>\n",
       "      <td>0</td>\n",
       "      <td>0</td>\n",
       "      <td>148.0</td>\n",
       "      <td>0</td>\n",
       "      <td>0.4</td>\n",
       "      <td>2</td>\n",
       "      <td>0</td>\n",
       "      <td>0</td>\n",
       "      <td>0</td>\n",
       "      <td>1</td>\n",
       "    </tr>\n",
       "    <tr>\n",
       "      <th>4</th>\n",
       "      <td>58.0</td>\n",
       "      <td>0</td>\n",
       "      <td>100.00</td>\n",
       "      <td>248.0</td>\n",
       "      <td>0</td>\n",
       "      <td>1</td>\n",
       "      <td>122.0</td>\n",
       "      <td>0</td>\n",
       "      <td>1.0</td>\n",
       "      <td>2</td>\n",
       "      <td>0</td>\n",
       "      <td>0</td>\n",
       "      <td>0</td>\n",
       "      <td>1</td>\n",
       "    </tr>\n",
       "    <tr>\n",
       "      <th>...</th>\n",
       "      <td>...</td>\n",
       "      <td>...</td>\n",
       "      <td>...</td>\n",
       "      <td>...</td>\n",
       "      <td>...</td>\n",
       "      <td>...</td>\n",
       "      <td>...</td>\n",
       "      <td>...</td>\n",
       "      <td>...</td>\n",
       "      <td>...</td>\n",
       "      <td>...</td>\n",
       "      <td>...</td>\n",
       "      <td>...</td>\n",
       "      <td>...</td>\n",
       "    </tr>\n",
       "    <tr>\n",
       "      <th>207</th>\n",
       "      <td>54.0</td>\n",
       "      <td>1</td>\n",
       "      <td>171.25</td>\n",
       "      <td>283.0</td>\n",
       "      <td>0</td>\n",
       "      <td>1</td>\n",
       "      <td>195.0</td>\n",
       "      <td>0</td>\n",
       "      <td>0.0</td>\n",
       "      <td>1</td>\n",
       "      <td>0</td>\n",
       "      <td>1</td>\n",
       "      <td>0</td>\n",
       "      <td>0</td>\n",
       "    </tr>\n",
       "    <tr>\n",
       "      <th>208</th>\n",
       "      <td>67.0</td>\n",
       "      <td>1</td>\n",
       "      <td>125.00</td>\n",
       "      <td>254.0</td>\n",
       "      <td>1</td>\n",
       "      <td>0</td>\n",
       "      <td>163.0</td>\n",
       "      <td>0</td>\n",
       "      <td>0.2</td>\n",
       "      <td>2</td>\n",
       "      <td>0</td>\n",
       "      <td>0</td>\n",
       "      <td>0</td>\n",
       "      <td>1</td>\n",
       "    </tr>\n",
       "    <tr>\n",
       "      <th>209</th>\n",
       "      <td>59.0</td>\n",
       "      <td>1</td>\n",
       "      <td>140.00</td>\n",
       "      <td>177.0</td>\n",
       "      <td>0</td>\n",
       "      <td>0</td>\n",
       "      <td>162.0</td>\n",
       "      <td>1</td>\n",
       "      <td>0.0</td>\n",
       "      <td>1</td>\n",
       "      <td>0</td>\n",
       "      <td>0</td>\n",
       "      <td>0</td>\n",
       "      <td>1</td>\n",
       "    </tr>\n",
       "    <tr>\n",
       "      <th>210</th>\n",
       "      <td>61.0</td>\n",
       "      <td>1</td>\n",
       "      <td>140.00</td>\n",
       "      <td>207.0</td>\n",
       "      <td>0</td>\n",
       "      <td>1</td>\n",
       "      <td>138.0</td>\n",
       "      <td>1</td>\n",
       "      <td>1.9</td>\n",
       "      <td>1</td>\n",
       "      <td>0</td>\n",
       "      <td>0</td>\n",
       "      <td>0</td>\n",
       "      <td>1</td>\n",
       "    </tr>\n",
       "    <tr>\n",
       "      <th>211</th>\n",
       "      <td>57.0</td>\n",
       "      <td>0</td>\n",
       "      <td>128.00</td>\n",
       "      <td>303.0</td>\n",
       "      <td>0</td>\n",
       "      <td>1</td>\n",
       "      <td>159.0</td>\n",
       "      <td>0</td>\n",
       "      <td>0.0</td>\n",
       "      <td>1</td>\n",
       "      <td>0</td>\n",
       "      <td>0</td>\n",
       "      <td>0</td>\n",
       "      <td>1</td>\n",
       "    </tr>\n",
       "  </tbody>\n",
       "</table>\n",
       "<p>212 rows × 14 columns</p>\n",
       "</div>"
      ],
      "text/plain": [
       "      age  sex  trestbps   chol  fbs  restecg  thalach  exang  oldpeak  slope  \\\n",
       "0    65.0    1    138.00  282.0    1        1    174.0      0      1.4      2   \n",
       "1    62.0    1    120.00  267.0    0        0     99.0      1      1.8      2   \n",
       "2    57.0    1    150.00  168.0    0        0    174.0      0      1.6      1   \n",
       "3    57.0    1    140.00  192.0    0        0    148.0      0      0.4      2   \n",
       "4    58.0    0    100.00  248.0    0        1    122.0      0      1.0      2   \n",
       "..    ...  ...       ...    ...  ...      ...      ...    ...      ...    ...   \n",
       "207  54.0    1    171.25  283.0    0        1    195.0      0      0.0      1   \n",
       "208  67.0    1    125.00  254.0    1        0    163.0      0      0.2      2   \n",
       "209  59.0    1    140.00  177.0    0        0    162.0      1      0.0      1   \n",
       "210  61.0    1    140.00  207.0    0        1    138.0      1      1.9      1   \n",
       "211  57.0    0    128.00  303.0    0        1    159.0      0      0.0      1   \n",
       "\n",
       "     cp_typ_ang  cp_atyp_ang  cp_non_ang  cp_asympt  \n",
       "0             1            0           0          0  \n",
       "1             0            0           0          1  \n",
       "2             0            0           1          0  \n",
       "3             0            0           0          1  \n",
       "4             0            0           0          1  \n",
       "..          ...          ...         ...        ...  \n",
       "207           0            1           0          0  \n",
       "208           0            0           0          1  \n",
       "209           0            0           0          1  \n",
       "210           0            0           0          1  \n",
       "211           0            0           0          1  \n",
       "\n",
       "[212 rows x 14 columns]"
      ]
     },
     "execution_count": 46,
     "metadata": {},
     "output_type": "execute_result"
    }
   ],
   "source": [
    "# Let's check our functions\n",
    "df_prep = replace_outliers(raw_data)\n",
    "df_prep = encode_columns(df_prep)\n",
    "df_prep"
   ]
  },
  {
   "cell_type": "code",
   "execution_count": 47,
   "metadata": {},
   "outputs": [
    {
     "data": {
      "text/html": [
       "<div>\n",
       "<style scoped>\n",
       "    .dataframe tbody tr th:only-of-type {\n",
       "        vertical-align: middle;\n",
       "    }\n",
       "\n",
       "    .dataframe tbody tr th {\n",
       "        vertical-align: top;\n",
       "    }\n",
       "\n",
       "    .dataframe thead th {\n",
       "        text-align: right;\n",
       "    }\n",
       "</style>\n",
       "<table border=\"1\" class=\"dataframe\">\n",
       "  <thead>\n",
       "    <tr style=\"text-align: right;\">\n",
       "      <th></th>\n",
       "      <th>age</th>\n",
       "      <th>sex</th>\n",
       "      <th>trestbps</th>\n",
       "      <th>chol</th>\n",
       "      <th>fbs</th>\n",
       "      <th>restecg</th>\n",
       "      <th>thalach</th>\n",
       "      <th>exang</th>\n",
       "      <th>oldpeak</th>\n",
       "      <th>slope</th>\n",
       "      <th>cp_typ_ang</th>\n",
       "      <th>cp_atyp_ang</th>\n",
       "      <th>cp_non_ang</th>\n",
       "      <th>cp_asympt</th>\n",
       "    </tr>\n",
       "  </thead>\n",
       "  <tbody>\n",
       "    <tr>\n",
       "      <th>0</th>\n",
       "      <td>0.720930</td>\n",
       "      <td>1.0</td>\n",
       "      <td>0.569579</td>\n",
       "      <td>0.617169</td>\n",
       "      <td>1.0</td>\n",
       "      <td>1.0</td>\n",
       "      <td>0.793103</td>\n",
       "      <td>0.0</td>\n",
       "      <td>0.350</td>\n",
       "      <td>0.5</td>\n",
       "      <td>1.0</td>\n",
       "      <td>0.0</td>\n",
       "      <td>0.0</td>\n",
       "      <td>0.0</td>\n",
       "    </tr>\n",
       "    <tr>\n",
       "      <th>1</th>\n",
       "      <td>0.651163</td>\n",
       "      <td>1.0</td>\n",
       "      <td>0.336570</td>\n",
       "      <td>0.547564</td>\n",
       "      <td>0.0</td>\n",
       "      <td>0.0</td>\n",
       "      <td>0.054187</td>\n",
       "      <td>1.0</td>\n",
       "      <td>0.450</td>\n",
       "      <td>0.5</td>\n",
       "      <td>0.0</td>\n",
       "      <td>0.0</td>\n",
       "      <td>0.0</td>\n",
       "      <td>1.0</td>\n",
       "    </tr>\n",
       "    <tr>\n",
       "      <th>2</th>\n",
       "      <td>0.534884</td>\n",
       "      <td>1.0</td>\n",
       "      <td>0.724919</td>\n",
       "      <td>0.088167</td>\n",
       "      <td>0.0</td>\n",
       "      <td>0.0</td>\n",
       "      <td>0.793103</td>\n",
       "      <td>0.0</td>\n",
       "      <td>0.400</td>\n",
       "      <td>0.0</td>\n",
       "      <td>0.0</td>\n",
       "      <td>0.0</td>\n",
       "      <td>1.0</td>\n",
       "      <td>0.0</td>\n",
       "    </tr>\n",
       "    <tr>\n",
       "      <th>3</th>\n",
       "      <td>0.534884</td>\n",
       "      <td>1.0</td>\n",
       "      <td>0.595469</td>\n",
       "      <td>0.199536</td>\n",
       "      <td>0.0</td>\n",
       "      <td>0.0</td>\n",
       "      <td>0.536946</td>\n",
       "      <td>0.0</td>\n",
       "      <td>0.100</td>\n",
       "      <td>0.5</td>\n",
       "      <td>0.0</td>\n",
       "      <td>0.0</td>\n",
       "      <td>0.0</td>\n",
       "      <td>1.0</td>\n",
       "    </tr>\n",
       "    <tr>\n",
       "      <th>4</th>\n",
       "      <td>0.558140</td>\n",
       "      <td>0.0</td>\n",
       "      <td>0.077670</td>\n",
       "      <td>0.459397</td>\n",
       "      <td>0.0</td>\n",
       "      <td>1.0</td>\n",
       "      <td>0.280788</td>\n",
       "      <td>0.0</td>\n",
       "      <td>0.250</td>\n",
       "      <td>0.5</td>\n",
       "      <td>0.0</td>\n",
       "      <td>0.0</td>\n",
       "      <td>0.0</td>\n",
       "      <td>1.0</td>\n",
       "    </tr>\n",
       "    <tr>\n",
       "      <th>...</th>\n",
       "      <td>...</td>\n",
       "      <td>...</td>\n",
       "      <td>...</td>\n",
       "      <td>...</td>\n",
       "      <td>...</td>\n",
       "      <td>...</td>\n",
       "      <td>...</td>\n",
       "      <td>...</td>\n",
       "      <td>...</td>\n",
       "      <td>...</td>\n",
       "      <td>...</td>\n",
       "      <td>...</td>\n",
       "      <td>...</td>\n",
       "      <td>...</td>\n",
       "    </tr>\n",
       "    <tr>\n",
       "      <th>207</th>\n",
       "      <td>0.465116</td>\n",
       "      <td>1.0</td>\n",
       "      <td>1.000000</td>\n",
       "      <td>0.621810</td>\n",
       "      <td>0.0</td>\n",
       "      <td>1.0</td>\n",
       "      <td>1.000000</td>\n",
       "      <td>0.0</td>\n",
       "      <td>0.000</td>\n",
       "      <td>0.0</td>\n",
       "      <td>0.0</td>\n",
       "      <td>1.0</td>\n",
       "      <td>0.0</td>\n",
       "      <td>0.0</td>\n",
       "    </tr>\n",
       "    <tr>\n",
       "      <th>208</th>\n",
       "      <td>0.767442</td>\n",
       "      <td>1.0</td>\n",
       "      <td>0.401294</td>\n",
       "      <td>0.487239</td>\n",
       "      <td>1.0</td>\n",
       "      <td>0.0</td>\n",
       "      <td>0.684729</td>\n",
       "      <td>0.0</td>\n",
       "      <td>0.050</td>\n",
       "      <td>0.5</td>\n",
       "      <td>0.0</td>\n",
       "      <td>0.0</td>\n",
       "      <td>0.0</td>\n",
       "      <td>1.0</td>\n",
       "    </tr>\n",
       "    <tr>\n",
       "      <th>209</th>\n",
       "      <td>0.581395</td>\n",
       "      <td>1.0</td>\n",
       "      <td>0.595469</td>\n",
       "      <td>0.129930</td>\n",
       "      <td>0.0</td>\n",
       "      <td>0.0</td>\n",
       "      <td>0.674877</td>\n",
       "      <td>1.0</td>\n",
       "      <td>0.000</td>\n",
       "      <td>0.0</td>\n",
       "      <td>0.0</td>\n",
       "      <td>0.0</td>\n",
       "      <td>0.0</td>\n",
       "      <td>1.0</td>\n",
       "    </tr>\n",
       "    <tr>\n",
       "      <th>210</th>\n",
       "      <td>0.627907</td>\n",
       "      <td>1.0</td>\n",
       "      <td>0.595469</td>\n",
       "      <td>0.269142</td>\n",
       "      <td>0.0</td>\n",
       "      <td>1.0</td>\n",
       "      <td>0.438424</td>\n",
       "      <td>1.0</td>\n",
       "      <td>0.475</td>\n",
       "      <td>0.0</td>\n",
       "      <td>0.0</td>\n",
       "      <td>0.0</td>\n",
       "      <td>0.0</td>\n",
       "      <td>1.0</td>\n",
       "    </tr>\n",
       "    <tr>\n",
       "      <th>211</th>\n",
       "      <td>0.534884</td>\n",
       "      <td>0.0</td>\n",
       "      <td>0.440129</td>\n",
       "      <td>0.714617</td>\n",
       "      <td>0.0</td>\n",
       "      <td>1.0</td>\n",
       "      <td>0.645320</td>\n",
       "      <td>0.0</td>\n",
       "      <td>0.000</td>\n",
       "      <td>0.0</td>\n",
       "      <td>0.0</td>\n",
       "      <td>0.0</td>\n",
       "      <td>0.0</td>\n",
       "      <td>1.0</td>\n",
       "    </tr>\n",
       "  </tbody>\n",
       "</table>\n",
       "<p>212 rows × 14 columns</p>\n",
       "</div>"
      ],
      "text/plain": [
       "          age  sex  trestbps      chol  fbs  restecg   thalach  exang  \\\n",
       "0    0.720930  1.0  0.569579  0.617169  1.0      1.0  0.793103    0.0   \n",
       "1    0.651163  1.0  0.336570  0.547564  0.0      0.0  0.054187    1.0   \n",
       "2    0.534884  1.0  0.724919  0.088167  0.0      0.0  0.793103    0.0   \n",
       "3    0.534884  1.0  0.595469  0.199536  0.0      0.0  0.536946    0.0   \n",
       "4    0.558140  0.0  0.077670  0.459397  0.0      1.0  0.280788    0.0   \n",
       "..        ...  ...       ...       ...  ...      ...       ...    ...   \n",
       "207  0.465116  1.0  1.000000  0.621810  0.0      1.0  1.000000    0.0   \n",
       "208  0.767442  1.0  0.401294  0.487239  1.0      0.0  0.684729    0.0   \n",
       "209  0.581395  1.0  0.595469  0.129930  0.0      0.0  0.674877    1.0   \n",
       "210  0.627907  1.0  0.595469  0.269142  0.0      1.0  0.438424    1.0   \n",
       "211  0.534884  0.0  0.440129  0.714617  0.0      1.0  0.645320    0.0   \n",
       "\n",
       "     oldpeak  slope  cp_typ_ang  cp_atyp_ang  cp_non_ang  cp_asympt  \n",
       "0      0.350    0.5         1.0          0.0         0.0        0.0  \n",
       "1      0.450    0.5         0.0          0.0         0.0        1.0  \n",
       "2      0.400    0.0         0.0          0.0         1.0        0.0  \n",
       "3      0.100    0.5         0.0          0.0         0.0        1.0  \n",
       "4      0.250    0.5         0.0          0.0         0.0        1.0  \n",
       "..       ...    ...         ...          ...         ...        ...  \n",
       "207    0.000    0.0         0.0          1.0         0.0        0.0  \n",
       "208    0.050    0.5         0.0          0.0         0.0        1.0  \n",
       "209    0.000    0.0         0.0          0.0         0.0        1.0  \n",
       "210    0.475    0.0         0.0          0.0         0.0        1.0  \n",
       "211    0.000    0.0         0.0          0.0         0.0        1.0  \n",
       "\n",
       "[212 rows x 14 columns]"
      ]
     },
     "execution_count": 47,
     "metadata": {},
     "output_type": "execute_result"
    }
   ],
   "source": [
    "minmax(df_prep)"
   ]
  },
  {
   "cell_type": "code",
   "execution_count": 48,
   "metadata": {},
   "outputs": [
    {
     "data": {
      "text/plain": [
       "array([[<AxesSubplot:title={'center':'age'}>,\n",
       "        <AxesSubplot:title={'center':'sex'}>,\n",
       "        <AxesSubplot:title={'center':'trestbps'}>,\n",
       "        <AxesSubplot:title={'center':'chol'}>],\n",
       "       [<AxesSubplot:title={'center':'fbs'}>,\n",
       "        <AxesSubplot:title={'center':'restecg'}>,\n",
       "        <AxesSubplot:title={'center':'thalach'}>,\n",
       "        <AxesSubplot:title={'center':'exang'}>],\n",
       "       [<AxesSubplot:title={'center':'oldpeak'}>,\n",
       "        <AxesSubplot:title={'center':'slope'}>,\n",
       "        <AxesSubplot:title={'center':'cp_typ_ang'}>,\n",
       "        <AxesSubplot:title={'center':'cp_atyp_ang'}>],\n",
       "       [<AxesSubplot:title={'center':'cp_non_ang'}>,\n",
       "        <AxesSubplot:title={'center':'cp_asympt'}>, <AxesSubplot:>,\n",
       "        <AxesSubplot:>]], dtype=object)"
      ]
     },
     "execution_count": 48,
     "metadata": {},
     "output_type": "execute_result"
    },
    {
     "data": {
      "image/png": "[encoded data removed]",
      "text/plain": [
       "<Figure size 1000x1000 with 16 Axes>"
      ]
     },
     "metadata": {},
     "output_type": "display_data"
    }
   ],
   "source": [
    "df_prep.hist(figsize=(10,10))"
   ]
  },
  {
   "cell_type": "code",
   "execution_count": 49,
   "metadata": {},
   "outputs": [
    {
     "data": {
      "text/html": [
       "<div>\n",
       "<style scoped>\n",
       "    .dataframe tbody tr th:only-of-type {\n",
       "        vertical-align: middle;\n",
       "    }\n",
       "\n",
       "    .dataframe tbody tr th {\n",
       "        vertical-align: top;\n",
       "    }\n",
       "\n",
       "    .dataframe thead th {\n",
       "        text-align: right;\n",
       "    }\n",
       "</style>\n",
       "<table border=\"1\" class=\"dataframe\">\n",
       "  <thead>\n",
       "    <tr style=\"text-align: right;\">\n",
       "      <th></th>\n",
       "      <th>PC1</th>\n",
       "      <th>PC2</th>\n",
       "      <th>PC3</th>\n",
       "      <th>PC4</th>\n",
       "      <th>PC5</th>\n",
       "      <th>PC6</th>\n",
       "      <th>PC7</th>\n",
       "      <th>PC8</th>\n",
       "      <th>PC9</th>\n",
       "      <th>PC10</th>\n",
       "    </tr>\n",
       "  </thead>\n",
       "  <tbody>\n",
       "    <tr>\n",
       "      <th>0</th>\n",
       "      <td>-0.132617</td>\n",
       "      <td>0.426787</td>\n",
       "      <td>0.433962</td>\n",
       "      <td>0.891037</td>\n",
       "      <td>0.798188</td>\n",
       "      <td>-0.388303</td>\n",
       "      <td>0.527402</td>\n",
       "      <td>0.477042</td>\n",
       "      <td>-0.117244</td>\n",
       "      <td>-0.160859</td>\n",
       "    </tr>\n",
       "    <tr>\n",
       "      <th>1</th>\n",
       "      <td>0.910406</td>\n",
       "      <td>-0.637786</td>\n",
       "      <td>0.181633</td>\n",
       "      <td>-0.365014</td>\n",
       "      <td>0.062484</td>\n",
       "      <td>0.035384</td>\n",
       "      <td>-0.166866</td>\n",
       "      <td>-0.103250</td>\n",
       "      <td>0.145059</td>\n",
       "      <td>-0.310922</td>\n",
       "    </tr>\n",
       "    <tr>\n",
       "      <th>2</th>\n",
       "      <td>-0.799262</td>\n",
       "      <td>-0.282356</td>\n",
       "      <td>0.649245</td>\n",
       "      <td>-0.174409</td>\n",
       "      <td>-0.256103</td>\n",
       "      <td>-0.225534</td>\n",
       "      <td>-0.086299</td>\n",
       "      <td>-0.021977</td>\n",
       "      <td>0.214752</td>\n",
       "      <td>0.316420</td>\n",
       "    </tr>\n",
       "    <tr>\n",
       "      <th>3</th>\n",
       "      <td>0.282105</td>\n",
       "      <td>-0.522200</td>\n",
       "      <td>-0.096707</td>\n",
       "      <td>-0.033347</td>\n",
       "      <td>-0.163912</td>\n",
       "      <td>-0.664081</td>\n",
       "      <td>-0.012473</td>\n",
       "      <td>-0.203405</td>\n",
       "      <td>0.036688</td>\n",
       "      <td>-0.112053</td>\n",
       "    </tr>\n",
       "    <tr>\n",
       "      <th>4</th>\n",
       "      <td>0.382437</td>\n",
       "      <td>0.677170</td>\n",
       "      <td>-0.691201</td>\n",
       "      <td>-0.180314</td>\n",
       "      <td>-0.086393</td>\n",
       "      <td>-0.344277</td>\n",
       "      <td>-0.123727</td>\n",
       "      <td>-0.218404</td>\n",
       "      <td>-0.274267</td>\n",
       "      <td>-0.327804</td>\n",
       "    </tr>\n",
       "    <tr>\n",
       "      <th>...</th>\n",
       "      <td>...</td>\n",
       "      <td>...</td>\n",
       "      <td>...</td>\n",
       "      <td>...</td>\n",
       "      <td>...</td>\n",
       "      <td>...</td>\n",
       "      <td>...</td>\n",
       "      <td>...</td>\n",
       "      <td>...</td>\n",
       "      <td>...</td>\n",
       "    </tr>\n",
       "    <tr>\n",
       "      <th>207</th>\n",
       "      <td>-0.465364</td>\n",
       "      <td>0.065390</td>\n",
       "      <td>-0.357721</td>\n",
       "      <td>1.063195</td>\n",
       "      <td>-0.126054</td>\n",
       "      <td>0.416202</td>\n",
       "      <td>0.122289</td>\n",
       "      <td>-0.048420</td>\n",
       "      <td>0.456757</td>\n",
       "      <td>0.366300</td>\n",
       "    </tr>\n",
       "    <tr>\n",
       "      <th>208</th>\n",
       "      <td>0.248736</td>\n",
       "      <td>-0.460210</td>\n",
       "      <td>0.045179</td>\n",
       "      <td>-0.020140</td>\n",
       "      <td>0.167596</td>\n",
       "      <td>-0.678671</td>\n",
       "      <td>0.897341</td>\n",
       "      <td>-0.256596</td>\n",
       "      <td>-0.059555</td>\n",
       "      <td>-0.280164</td>\n",
       "    </tr>\n",
       "    <tr>\n",
       "      <th>209</th>\n",
       "      <td>0.645060</td>\n",
       "      <td>-0.750013</td>\n",
       "      <td>0.022189</td>\n",
       "      <td>-0.262070</td>\n",
       "      <td>-0.342125</td>\n",
       "      <td>0.113274</td>\n",
       "      <td>0.166023</td>\n",
       "      <td>0.338142</td>\n",
       "      <td>0.042257</td>\n",
       "      <td>0.007272</td>\n",
       "    </tr>\n",
       "    <tr>\n",
       "      <th>210</th>\n",
       "      <td>1.006905</td>\n",
       "      <td>0.098332</td>\n",
       "      <td>0.118930</td>\n",
       "      <td>0.163508</td>\n",
       "      <td>-0.322555</td>\n",
       "      <td>0.266672</td>\n",
       "      <td>0.046522</td>\n",
       "      <td>0.172808</td>\n",
       "      <td>0.122399</td>\n",
       "      <td>0.143866</td>\n",
       "    </tr>\n",
       "    <tr>\n",
       "      <th>211</th>\n",
       "      <td>0.216368</td>\n",
       "      <td>0.655903</td>\n",
       "      <td>-0.825075</td>\n",
       "      <td>-0.120127</td>\n",
       "      <td>-0.369479</td>\n",
       "      <td>-0.256061</td>\n",
       "      <td>0.174697</td>\n",
       "      <td>0.190740</td>\n",
       "      <td>0.047404</td>\n",
       "      <td>-0.017635</td>\n",
       "    </tr>\n",
       "  </tbody>\n",
       "</table>\n",
       "<p>212 rows × 10 columns</p>\n",
       "</div>"
      ],
      "text/plain": [
       "          PC1       PC2       PC3       PC4       PC5       PC6       PC7  \\\n",
       "0   -0.132617  0.426787  0.433962  0.891037  0.798188 -0.388303  0.527402   \n",
       "1    0.910406 -0.637786  0.181633 -0.365014  0.062484  0.035384 -0.166866   \n",
       "2   -0.799262 -0.282356  0.649245 -0.174409 -0.256103 -0.225534 -0.086299   \n",
       "3    0.282105 -0.522200 -0.096707 -0.033347 -0.163912 -0.664081 -0.012473   \n",
       "4    0.382437  0.677170 -0.691201 -0.180314 -0.086393 -0.344277 -0.123727   \n",
       "..        ...       ...       ...       ...       ...       ...       ...   \n",
       "207 -0.465364  0.065390 -0.357721  1.063195 -0.126054  0.416202  0.122289   \n",
       "208  0.248736 -0.460210  0.045179 -0.020140  0.167596 -0.678671  0.897341   \n",
       "209  0.645060 -0.750013  0.022189 -0.262070 -0.342125  0.113274  0.166023   \n",
       "210  1.006905  0.098332  0.118930  0.163508 -0.322555  0.266672  0.046522   \n",
       "211  0.216368  0.655903 -0.825075 -0.120127 -0.369479 -0.256061  0.174697   \n",
       "\n",
       "          PC8       PC9      PC10  \n",
       "0    0.477042 -0.117244 -0.160859  \n",
       "1   -0.103250  0.145059 -0.310922  \n",
       "2   -0.021977  0.214752  0.316420  \n",
       "3   -0.203405  0.036688 -0.112053  \n",
       "4   -0.218404 -0.274267 -0.327804  \n",
       "..        ...       ...       ...  \n",
       "207 -0.048420  0.456757  0.366300  \n",
       "208 -0.256596 -0.059555 -0.280164  \n",
       "209  0.338142  0.042257  0.007272  \n",
       "210  0.172808  0.122399  0.143866  \n",
       "211  0.190740  0.047404 -0.017635  \n",
       "\n",
       "[212 rows x 10 columns]"
      ]
     },
     "execution_count": 49,
     "metadata": {},
     "output_type": "execute_result"
    }
   ],
   "source": [
    "# Test PCA\n",
    "df_pca = replace_outliers(raw_data)\n",
    "df_pca = encode_columns(df_pca)\n",
    "df_pca = minmax(df_pca)\n",
    "df_pca = remove_overshadowing(df_pca)\n",
    "df_pca"
   ]
  },
  {
   "cell_type": "code",
   "execution_count": 50,
   "metadata": {
    "scrolled": false
   },
   "outputs": [
    {
     "data": {
      "text/plain": [
       "<AxesSubplot:>"
      ]
     },
     "execution_count": 50,
     "metadata": {},
     "output_type": "execute_result"
    },
    {
     "data": {
      "image/png": "[encoded data removed]",
      "text/plain": [
       "<Figure size 640x480 with 2 Axes>"
      ]
     },
     "metadata": {},
     "output_type": "display_data"
    }
   ],
   "source": [
    "sns.heatmap(df_prep.corr())"
   ]
  },
  {
   "cell_type": "markdown",
   "metadata": {},
   "source": [
    "Actually after tests we had to abandon encoding cp column, because models were doing clustering based only on this one column. So after all we are leaving it as is."
   ]
  },
  {
   "cell_type": "markdown",
   "metadata": {},
   "source": [
    "## Number of clusters"
   ]
  },
  {
   "cell_type": "code",
   "execution_count": 123,
   "metadata": {},
   "outputs": [],
   "source": [
    "# We will use functions from other python files, so we don't have to run whole notebook every time\n",
    "from preprocessing import standarize, minmax, normalize, replace_outliers, preprocessing, remove_id, encode_cp\n",
    "from KMeans import k_means_alg"
   ]
  },
  {
   "cell_type": "markdown",
   "metadata": {},
   "source": [
    "First we prepare methods for finding optimal number of clusters"
   ]
  },
  {
   "cell_type": "code",
   "execution_count": 124,
   "metadata": {},
   "outputs": [],
   "source": [
    "def num_of_clus_elbow(data) -> int:\n",
    "    \"\"\"\n",
    "        Finds optimal number of clusters using elbow method.\n",
    "\n",
    "        :param data: dataframe\n",
    "        :return: number of clusters\n",
    "    \"\"\"\n",
    "    sum_of_squared_distances = []\n",
    "    K = range(1, 10)\n",
    "    for num_clusters in K:\n",
    "        kmeans = KMeans(n_clusters=num_clusters, n_init=10)\n",
    "        kmeans.fit(data)\n",
    "        sum_of_squared_distances.append(kmeans.inertia_)\n",
    "\n",
    "    # finding elbow point\n",
    "    sd = np.diff(sum_of_squared_distances, 2)\n",
    "    elbow_point = np.argmax(sd) + 2\n",
    "\n",
    "    plt.figure(figsize=(8, 5))\n",
    "    plt.plot(range(1, 10), sum_of_squared_distances, marker='o')\n",
    "    plt.xlabel('Number of clusters')\n",
    "    plt.ylabel('WCSS')\n",
    "    plt.show()\n",
    "\n",
    "    return elbow_point"
   ]
  },
  {
   "cell_type": "code",
   "execution_count": 125,
   "metadata": {},
   "outputs": [],
   "source": [
    "def num_of_clus_silhouette(data) -> int:\n",
    "    \"\"\"\n",
    "    Finds optimal number of clusters using silhouette method.\n",
    "\n",
    "    :param data: dataframe\n",
    "    :return: number of clusters\n",
    "    \"\"\"\n",
    "    silhouette_scores = []\n",
    "    for i in range(2, 11):\n",
    "        kmeans = KMeans(n_clusters=i, init='k-means++', max_iter=300, n_init=10, random_state=0)\n",
    "        kmeans.fit(data)\n",
    "        score = silhouette_score(data, kmeans.labels_)\n",
    "        silhouette_scores.append(score)\n",
    "\n",
    "    silhouette_point = np.argmax(silhouette_scores) + 2\n",
    "\n",
    "    plt.figure(figsize=(8, 5))\n",
    "    plt.plot(range(2, 11), silhouette_scores, marker='o')\n",
    "    plt.xlabel('Number of clusters')\n",
    "    plt.ylabel('Silhouette score')\n",
    "    plt.show()\n",
    "\n",
    "    return silhouette_point"
   ]
  },
  {
   "cell_type": "code",
   "execution_count": 142,
   "metadata": {},
   "outputs": [
    {
     "data": {
      "image/png": "[encoded data removed]",
      "text/plain": [
       "<Figure size 800x500 with 1 Axes>"
      ]
     },
     "metadata": {},
     "output_type": "display_data"
    },
    {
     "name": "stdout",
     "output_type": "stream",
     "text": [
      "Elbow method: 2\n"
     ]
    },
    {
     "data": {
      "image/png": "[encoded data removed]",
      "text/plain": [
       "<Figure size 800x500 with 1 Axes>"
      ]
     },
     "metadata": {},
     "output_type": "display_data"
    },
    {
     "name": "stdout",
     "output_type": "stream",
     "text": [
      "Silhouette method: 10\n"
     ]
    }
   ],
   "source": [
    "# Let's check elbow method\n",
    "df_clusters = replace_outliers(raw_data)\n",
    "df_clusters = minmax(df_clusters)\n",
    "df_clusters = remove_overshadowing(df_clusters)\n",
    "print('Elbow method:', num_of_clus_elbow(df_clusters))\n",
    "print('Silhouette method:', num_of_clus_silhouette(df_clusters))"
   ]
  },
  {
   "cell_type": "markdown",
   "metadata": {},
   "source": [
    "We can see that returned values are different. Now we can test it on a baseline model:"
   ]
  },
  {
   "cell_type": "code",
   "execution_count": 143,
   "metadata": {},
   "outputs": [
    {
     "name": "stdout",
     "output_type": "stream",
     "text": [
      "Number of clusters: 2\n",
      "silhouette score: 0.23085622379426912\n",
      "calinski harabasz score: 59.58829203587511\n",
      "davies bouldin score: 1.7221735889095804\n",
      "Number of clusters: 4\n",
      "silhouette score: 0.23464852353148383\n",
      "calinski harabasz score: 52.9610133404455\n",
      "davies bouldin score: 1.4137107925080357\n",
      "Number of clusters: 7\n",
      "silhouette score: 0.31294702552159487\n",
      "calinski harabasz score: 51.554274758534795\n",
      "davies bouldin score: 1.2938164680253088\n",
      "Number of clusters: 10\n",
      "silhouette score: 0.31298135708632374\n",
      "calinski harabasz score: 45.120894314972894\n",
      "davies bouldin score: 1.2562811589677891\n"
     ]
    }
   ],
   "source": [
    "for i in [2,4,7,10]:\n",
    "    dfkmeans, model = k_means_alg(df_clusters, num_clusters=i)\n",
    "    y_kmeans = dfkmeans['label']\n",
    "    print(f\"silhouette score: {silhouette_score(df_clusters, y_kmeans)}\")\n",
    "    print(f\"calinski harabasz score: {calinski_harabasz_score(df_clusters, y_kmeans)}\")\n",
    "    print(f\"davies bouldin score: {davies_bouldin_score(df_clusters, y_kmeans)}\")"
   ]
  },
  {
   "cell_type": "markdown",
   "metadata": {},
   "source": [
    "We can see that results are the best for 7 clusters. Now let's check how preprocessing influences clusters and score."
   ]
  },
  {
   "cell_type": "code",
   "execution_count": 146,
   "metadata": {},
   "outputs": [
    {
     "name": "stdout",
     "output_type": "stream",
     "text": [
      "Processing: stand\n",
      "Number of clusters: 7\n",
      "silhouette score: 0.1358814677562635\n",
      "calinski harabasz score: 25.139613936964295\n",
      "davies bouldin score: 1.9114422894174656\n",
      "Processing: minmax\n",
      "Number of clusters: 7\n",
      "silhouette score: 0.31294702552159487\n",
      "calinski harabasz score: 51.554274758534795\n",
      "davies bouldin score: 1.2938164680253088\n",
      "Processing: norm\n",
      "Number of clusters: 7\n",
      "silhouette score: 0.2804065596623967\n",
      "calinski harabasz score: 125.45944749597398\n",
      "davies bouldin score: 1.0045016016477173\n"
     ]
    }
   ],
   "source": [
    "processing = ['stand', 'minmax', 'norm']\n",
    "for proc in processing:\n",
    "    print(f'Processing: {proc}')\n",
    "    df_proc = preprocessing(raw_data, encode=False, process=proc)\n",
    "    dfkmeans, model = k_means_alg(df_proc, num_clusters=7)\n",
    "    y = dfkmeans['label']\n",
    "    print(f\"silhouette score: {silhouette_score(df_proc, y)}\")\n",
    "    print(f\"calinski harabasz score: {calinski_harabasz_score(df_proc, y)}\")\n",
    "    print(f\"davies bouldin score: {davies_bouldin_score(df_proc, y)}\")"
   ]
  },
  {
   "cell_type": "markdown",
   "metadata": {},
   "source": [
    "Results vary depending on processing used. Normalizer has the best results, but we can see that normalized data still varies a lot:"
   ]
  },
  {
   "cell_type": "code",
   "execution_count": 132,
   "metadata": {},
   "outputs": [
    {
     "data": {
      "text/html": [
       "<div>\n",
       "<style scoped>\n",
       "    .dataframe tbody tr th:only-of-type {\n",
       "        vertical-align: middle;\n",
       "    }\n",
       "\n",
       "    .dataframe tbody tr th {\n",
       "        vertical-align: top;\n",
       "    }\n",
       "\n",
       "    .dataframe thead th {\n",
       "        text-align: right;\n",
       "    }\n",
       "</style>\n",
       "<table border=\"1\" class=\"dataframe\">\n",
       "  <thead>\n",
       "    <tr style=\"text-align: right;\">\n",
       "      <th></th>\n",
       "      <th>age</th>\n",
       "      <th>sex</th>\n",
       "      <th>cp</th>\n",
       "      <th>trestbps</th>\n",
       "      <th>chol</th>\n",
       "      <th>fbs</th>\n",
       "      <th>restecg</th>\n",
       "      <th>thalach</th>\n",
       "      <th>exang</th>\n",
       "      <th>oldpeak</th>\n",
       "      <th>slope</th>\n",
       "    </tr>\n",
       "  </thead>\n",
       "  <tbody>\n",
       "    <tr>\n",
       "      <th>0</th>\n",
       "      <td>0.178178</td>\n",
       "      <td>0.002741</td>\n",
       "      <td>0.002741</td>\n",
       "      <td>0.378285</td>\n",
       "      <td>0.773018</td>\n",
       "      <td>0.002741</td>\n",
       "      <td>0.005482</td>\n",
       "      <td>0.476968</td>\n",
       "      <td>0.000000</td>\n",
       "      <td>0.003838</td>\n",
       "      <td>0.005482</td>\n",
       "    </tr>\n",
       "    <tr>\n",
       "      <th>1</th>\n",
       "      <td>0.196692</td>\n",
       "      <td>0.003172</td>\n",
       "      <td>0.012690</td>\n",
       "      <td>0.380695</td>\n",
       "      <td>0.847046</td>\n",
       "      <td>0.000000</td>\n",
       "      <td>0.000000</td>\n",
       "      <td>0.314073</td>\n",
       "      <td>0.003172</td>\n",
       "      <td>0.005710</td>\n",
       "      <td>0.006345</td>\n",
       "    </tr>\n",
       "    <tr>\n",
       "      <th>2</th>\n",
       "      <td>0.196362</td>\n",
       "      <td>0.003445</td>\n",
       "      <td>0.010335</td>\n",
       "      <td>0.516742</td>\n",
       "      <td>0.578751</td>\n",
       "      <td>0.000000</td>\n",
       "      <td>0.000000</td>\n",
       "      <td>0.599421</td>\n",
       "      <td>0.000000</td>\n",
       "      <td>0.005512</td>\n",
       "      <td>0.003445</td>\n",
       "    </tr>\n",
       "    <tr>\n",
       "      <th>3</th>\n",
       "      <td>0.199493</td>\n",
       "      <td>0.003500</td>\n",
       "      <td>0.014000</td>\n",
       "      <td>0.489983</td>\n",
       "      <td>0.671977</td>\n",
       "      <td>0.000000</td>\n",
       "      <td>0.000000</td>\n",
       "      <td>0.517983</td>\n",
       "      <td>0.000000</td>\n",
       "      <td>0.001400</td>\n",
       "      <td>0.007000</td>\n",
       "    </tr>\n",
       "    <tr>\n",
       "      <th>4</th>\n",
       "      <td>0.193573</td>\n",
       "      <td>0.000000</td>\n",
       "      <td>0.013350</td>\n",
       "      <td>0.333747</td>\n",
       "      <td>0.827693</td>\n",
       "      <td>0.000000</td>\n",
       "      <td>0.006675</td>\n",
       "      <td>0.407171</td>\n",
       "      <td>0.000000</td>\n",
       "      <td>0.003337</td>\n",
       "      <td>0.006675</td>\n",
       "    </tr>\n",
       "  </tbody>\n",
       "</table>\n",
       "</div>"
      ],
      "text/plain": [
       "        age       sex        cp  trestbps      chol       fbs   restecg  \\\n",
       "0  0.178178  0.002741  0.002741  0.378285  0.773018  0.002741  0.005482   \n",
       "1  0.196692  0.003172  0.012690  0.380695  0.847046  0.000000  0.000000   \n",
       "2  0.196362  0.003445  0.010335  0.516742  0.578751  0.000000  0.000000   \n",
       "3  0.199493  0.003500  0.014000  0.489983  0.671977  0.000000  0.000000   \n",
       "4  0.193573  0.000000  0.013350  0.333747  0.827693  0.000000  0.006675   \n",
       "\n",
       "    thalach     exang   oldpeak     slope  \n",
       "0  0.476968  0.000000  0.003838  0.005482  \n",
       "1  0.314073  0.003172  0.005710  0.006345  \n",
       "2  0.599421  0.000000  0.005512  0.003445  \n",
       "3  0.517983  0.000000  0.001400  0.007000  \n",
       "4  0.407171  0.000000  0.003337  0.006675  "
      ]
     },
     "execution_count": 132,
     "metadata": {},
     "output_type": "execute_result"
    }
   ],
   "source": [
    "normalize(raw_data).head()"
   ]
  },
  {
   "cell_type": "markdown",
   "metadata": {},
   "source": [
    "For example values in sex column are around 0.003 while in chol or thalach values are way bigger. Thus, minmax scaler is the most reasonable scaler. Last question is if we should use PCA for reducing dimensionality."
   ]
  },
  {
   "cell_type": "code",
   "execution_count": 147,
   "metadata": {},
   "outputs": [
    {
     "name": "stdout",
     "output_type": "stream",
     "text": [
      "Number of clusters: 7\n",
      "silhouette score: 0.31294702552159487\n",
      "calinski harabasz score: 51.554274758534795\n",
      "davies bouldin score: 1.2938164680253088\n"
     ]
    }
   ],
   "source": [
    "df_pca = preprocessing(raw_data, encode=False, process='minmax')\n",
    "dfkmeans, model = k_means_alg(df_pca, num_clusters=7)\n",
    "y_kmeans = dfkmeans['label']\n",
    "print(f\"silhouette score: {silhouette_score(df_pca, y_kmeans)}\")\n",
    "print(f\"calinski harabasz score: {calinski_harabasz_score(df_pca, y_kmeans)}\")\n",
    "print(f\"davies bouldin score: {davies_bouldin_score(df_pca, y_kmeans)}\")"
   ]
  },
  {
   "cell_type": "markdown",
   "metadata": {},
   "source": [
    "We can see that PCA not only reduces dimensions, but also improves scores."
   ]
  },
  {
   "cell_type": "markdown",
   "metadata": {},
   "source": [
    "This whole time we have been replacing outliers. However, validation team stated that in medical data outliers are very important and we should not remove them. Let's check the scores if you do not use rep_out option in preprocessing:"
   ]
  },
  {
   "cell_type": "code",
   "execution_count": 148,
   "metadata": {},
   "outputs": [
    {
     "name": "stdout",
     "output_type": "stream",
     "text": [
      "Number of clusters: 7\n",
      "silhouette score: 0.3437519614251537\n",
      "calinski harabasz score: 58.294138843426566\n",
      "davies bouldin score: 1.213327677179781\n"
     ]
    }
   ],
   "source": [
    "df_pca = preprocessing(raw_data, rep_out=False, encode=False, process='minmax')\n",
    "dfkmeans, model = k_means_alg(df_pca, num_clusters=7)\n",
    "y_kmeans = dfkmeans['label']\n",
    "print(f\"silhouette score: {silhouette_score(df_pca, y_kmeans)}\")\n",
    "print(f\"calinski harabasz score: {calinski_harabasz_score(df_pca, y_kmeans)}\")\n",
    "print(f\"davies bouldin score: {davies_bouldin_score(df_pca, y_kmeans)}\")"
   ]
  },
  {
   "cell_type": "markdown",
   "metadata": {},
   "source": [
    "Scores are better and we do not lose important data. But preprocessing affects optimal number of clusters so we should check them again:"
   ]
  },
  {
   "cell_type": "code",
   "execution_count": 150,
   "metadata": {},
   "outputs": [
    {
     "data": {
      "image/png": "[encoded data removed]",
      "text/plain": [
       "<Figure size 800x500 with 1 Axes>"
      ]
     },
     "metadata": {},
     "output_type": "display_data"
    },
    {
     "name": "stdout",
     "output_type": "stream",
     "text": [
      "Elbow method: 2\n"
     ]
    },
    {
     "data": {
      "image/png": "[encoded data removed]",
      "text/plain": [
       "<Figure size 800x500 with 1 Axes>"
      ]
     },
     "metadata": {},
     "output_type": "display_data"
    },
    {
     "name": "stdout",
     "output_type": "stream",
     "text": [
      "Silhouette method: 9\n"
     ]
    }
   ],
   "source": [
    "# Let's check elbow method\n",
    "df_clusters = minmax(raw_data)\n",
    "df_clusters = remove_overshadowing(df_clusters)\n",
    "print('Elbow method:', num_of_clus_elbow(df_clusters))\n",
    "print('Silhouette method:', num_of_clus_silhouette(df_clusters))"
   ]
  },
  {
   "cell_type": "markdown",
   "metadata": {},
   "source": [
    "Chart looks a little bit different, the more clusters, the better silhouette score. However we have to draw a line somewhere. That said in preprocessing we will stick to minmax scaler and pca and we will be using 7 clusters."
   ]
  },
  {
   "cell_type": "markdown",
   "metadata": {},
   "source": [
    "## Algorithms"
   ]
  },
  {
   "cell_type": "code",
   "execution_count": 205,
   "metadata": {},
   "outputs": [],
   "source": [
    "from metrices import metrices\n",
    "from dbscan import dbscan\n",
    "from Evaluation import medians_for_clusters\n",
    "from preprocessing import preprocessing\n",
    "from KMeans import k_means_alg\n",
    "from other_algorithms import k_medoids_alg, aglomerative_alg, minibatch_alg, gmm_alg"
   ]
  },
  {
   "cell_type": "code",
   "execution_count": 206,
   "metadata": {},
   "outputs": [],
   "source": [
    "df = pd.read_csv('train.csv')\n",
    "df.drop('id', axis=1, inplace=True)\n",
    "raw_data = df.copy()\n",
    "df = preprocessing(raw_data, rep_out=False, encode=False, cp=False, process='minmax')\n",
    "columns=['method', 'min dist btw cl', 'avg dist in cl', 'std dev dist in cl', 'silhouette', 'cal-har', 'dav-bou']\n",
    "results = pd.DataFrame(columns=columns)"
   ]
  },
  {
   "cell_type": "markdown",
   "metadata": {},
   "source": [
    "### Kmeans"
   ]
  },
  {
   "cell_type": "code",
   "execution_count": 207,
   "metadata": {},
   "outputs": [
    {
     "name": "stdout",
     "output_type": "stream",
     "text": [
      "Number of clusters: 7\n",
      "Minimal distance between clusters: 0.6759568429818261\n",
      "Average distance between points in the same class: 0.8805018696591459\n",
      "Standard deviation of distance between points in the same class: 0.12486617512585098\n",
      "Silhouette score: 0.3437519614251537\n",
      "Calinski-Harabasz index: 58.294138843426566\n",
      "Davies Bouldin index: 1.213327677179781\n",
      "-----\n",
      "Medians:\n",
      "        age  sex   cp  trestbps   chol  fbs  restecg  thalach  exang  oldpeak  \\\n",
      "label                                                                           \n",
      "0      58.0  1.0  4.0     129.0  256.0  0.0      2.0    131.5    1.0     1.70   \n",
      "1      52.0  1.0  3.0     125.0  229.0  0.0      0.0    162.0    0.0     0.30   \n",
      "2      59.0  0.0  4.0     142.0  249.0  0.0      2.0    150.0    1.0     1.00   \n",
      "3      58.0  0.0  3.0     135.0  258.0  0.0      2.0    157.0    0.0     0.60   \n",
      "4      55.0  1.0  4.0     130.0  239.0  0.0      0.0    143.0    1.0     1.40   \n",
      "5      55.0  1.0  3.0     131.0  239.0  0.0      2.0    157.5    0.0     0.55   \n",
      "6      54.0  0.0  3.0     125.0  221.5  0.0      0.0    163.0    0.0     0.10   \n",
      "\n",
      "       slope  \n",
      "label         \n",
      "0        2.0  \n",
      "1        1.0  \n",
      "2        2.0  \n",
      "3        2.0  \n",
      "4        2.0  \n",
      "5        2.0  \n",
      "6        1.0  \n"
     ]
    }
   ],
   "source": [
    "results_df = ['Kmeans']\n",
    "\n",
    "df_kmeans, model = k_means_alg(df, num_clusters=7)\n",
    "y_kmeans = df_kmeans['label']\n",
    "\n",
    "for metric in metrices:\n",
    "    print(f'{metric}: {metrices[metric](df, y_kmeans)}')\n",
    "    results_df.append(round(metrices[metric](df, y_kmeans), 3))\n",
    "print(\"-----\")\n",
    "print(\"Medians:\")\n",
    "df_kmeans_medians = raw_data.copy()\n",
    "df_kmeans_medians['label'] = y_kmeans\n",
    "print(medians_for_clusters(df_kmeans_medians))\n",
    "\n",
    "a = np.array(results_df)\n",
    "results = pd.concat([results, pd.DataFrame(a[None], columns=columns)], ignore_index=True)"
   ]
  },
  {
   "cell_type": "markdown",
   "metadata": {},
   "source": [
    "### KMedoids"
   ]
  },
  {
   "cell_type": "code",
   "execution_count": 208,
   "metadata": {},
   "outputs": [
    {
     "name": "stdout",
     "output_type": "stream",
     "text": [
      "Number of clusters: 7\n",
      "Minimal distance between clusters: 0.19848026068605462\n",
      "Average distance between points in the same class: 1.001056959180127\n",
      "Standard deviation of distance between points in the same class: 0.08665877981157048\n",
      "Silhouette score: 0.13403906125825524\n",
      "Calinski-Harabasz index: 33.334283134923346\n",
      "Davies Bouldin index: 2.3822870485403778\n",
      "        age  sex   cp  trestbps   chol  fbs  restecg  thalach  exang  oldpeak  \\\n",
      "label                                                                           \n",
      "0      42.0  1.0  2.5     120.0  223.0  0.0      0.0    168.5    0.0     0.00   \n",
      "1      57.5  1.0  4.0     132.0  257.5  0.0      2.0    139.0    1.0     1.55   \n",
      "2      58.0  1.0  2.0     154.0  232.0  0.0      2.0    164.0    0.0     1.00   \n",
      "3      59.0  1.0  4.0     132.0  243.0  0.0      0.0    143.0    1.0     1.20   \n",
      "4      62.0  1.0  3.0     140.0  248.0  0.0      2.0    150.0    0.0     1.30   \n",
      "5      57.0  1.0  3.0     132.0  231.0  0.0      0.0    158.0    0.0     0.80   \n",
      "6      50.5  0.5  3.0     128.0  255.0  0.0      2.0    166.5    0.0     0.00   \n",
      "\n",
      "       slope  \n",
      "label         \n",
      "0        1.0  \n",
      "1        2.0  \n",
      "2        1.0  \n",
      "3        2.0  \n",
      "4        2.0  \n",
      "5        1.0  \n",
      "6        1.0  \n"
     ]
    }
   ],
   "source": [
    "results_df = ['KMedoids']\n",
    "\n",
    "df_medoids, model = k_medoids_alg(df, num_clusters=7)\n",
    "y_kmedoids = df_medoids['label']\n",
    "\n",
    "for metric in metrices:\n",
    "    print(f'{metric}: {metrices[metric](df, y_kmedoids)}')\n",
    "    results_df.append(round(metrices[metric](df, y_kmedoids), 3))\n",
    "df_medoids_medians = raw_data.copy()\n",
    "df_medoids_medians['label'] = y_kmedoids\n",
    "print(medians_for_clusters(df_medoids_medians))\n",
    "\n",
    "a = np.array(results_df)\n",
    "results = pd.concat([results, pd.DataFrame(a[None], columns=columns)], ignore_index=True)"
   ]
  },
  {
   "cell_type": "markdown",
   "metadata": {},
   "source": [
    "### Mini Batch"
   ]
  },
  {
   "cell_type": "code",
   "execution_count": 209,
   "metadata": {},
   "outputs": [
    {
     "name": "stdout",
     "output_type": "stream",
     "text": [
      "Minimal distance between clusters: 0.6759568429818261\n",
      "Average distance between points in the same class: 0.8752718872186751\n",
      "Standard deviation of distance between points in the same class: 0.15144657988634072\n",
      "Silhouette score: 0.33008715157062474\n",
      "Calinski-Harabasz index: 58.20888588493815\n",
      "Davies Bouldin index: 1.1818183110435654\n",
      "        age  sex   cp  trestbps   chol  fbs  restecg  thalach  exang  oldpeak  \\\n",
      "label                                                                           \n",
      "0      54.0  1.0  3.0     130.0  243.5  0.0      2.0    160.5    0.0     0.45   \n",
      "1      58.0  1.0  4.0     129.0  256.0  0.0      2.0    131.5    1.0     1.70   \n",
      "2      54.0  0.0  3.0     125.0  221.5  0.0      0.0    163.0    0.0     0.10   \n",
      "3      49.0  1.0  3.0     122.0  230.5  0.0      0.0    161.0    0.0     0.05   \n",
      "4      57.0  0.0  3.0     135.0  264.0  0.0      2.0    153.0    0.0     0.60   \n",
      "5      58.0  1.0  4.0     132.0  242.0  0.0      0.0    143.0    1.0     1.30   \n",
      "6      59.0  1.0  3.0     138.0  212.0  1.0      0.0    157.0    0.0     1.20   \n",
      "\n",
      "       slope  \n",
      "label         \n",
      "0        1.0  \n",
      "1        2.0  \n",
      "2        1.0  \n",
      "3        1.0  \n",
      "4        2.0  \n",
      "5        2.0  \n",
      "6        2.0  \n"
     ]
    }
   ],
   "source": [
    "results_df = ['Mini Batch']\n",
    "\n",
    "df_mini, model = minibatch_alg(df, num_clusters=7)\n",
    "y_mini = df_mini['label']\n",
    "\n",
    "for metric in metrices:\n",
    "    print(f'{metric}: {metrices[metric](df, y_mini)}')\n",
    "    results_df.append(round(metrices[metric](df, y_mini), 3))\n",
    "    df_kmeans_medians = raw_data.copy()\n",
    "\n",
    "df_mini_medians = raw_data.copy()\n",
    "df_mini_medians['label'] = y_mini\n",
    "print(medians_for_clusters(df_mini_medians))\n",
    "\n",
    "a = np.array(results_df)\n",
    "results = pd.concat([results, pd.DataFrame(a[None], columns=columns)], ignore_index=True)"
   ]
  },
  {
   "cell_type": "markdown",
   "metadata": {},
   "source": [
    "### Aglomerative clustering"
   ]
  },
  {
   "cell_type": "code",
   "execution_count": 210,
   "metadata": {},
   "outputs": [
    {
     "name": "stdout",
     "output_type": "stream",
     "text": [
      "Number of clusters: 7\n",
      "Minimal distance between clusters: 0.5493920597623592\n",
      "Average distance between points in the same class: 0.9750878075072411\n",
      "Standard deviation of distance between points in the same class: 0.15331550155086707\n",
      "Silhouette score: 0.267877152399561\n",
      "Calinski-Harabasz index: 41.66323996437559\n",
      "Davies Bouldin index: 1.3493818057946818\n",
      "        age  sex   cp  trestbps   chol  fbs  restecg  thalach  exang  oldpeak  \\\n",
      "label                                                                           \n",
      "0      52.0  1.0  3.0     130.0  234.0  0.0      0.0    160.0    0.0     0.40   \n",
      "1      55.5  1.0  4.0     130.0  244.5  0.0      0.0    143.0    1.0     1.40   \n",
      "2      58.0  0.0  3.0     145.0  285.5  1.0      2.0    149.0    0.0     0.90   \n",
      "3      58.5  0.0  3.0     130.0  227.0  0.0      0.0    161.0    0.0     0.20   \n",
      "4      58.0  1.0  4.0     128.0  259.0  0.0      2.0    132.0    1.0     1.50   \n",
      "5      52.5  1.0  2.5     141.5  208.5  1.0      0.0    159.5    0.0     1.10   \n",
      "6      56.5  0.0  3.5     130.0  255.0  0.0      2.0    157.0    0.0     0.55   \n",
      "\n",
      "       slope  \n",
      "label         \n",
      "0        1.0  \n",
      "1        2.0  \n",
      "2        1.0  \n",
      "3        1.0  \n",
      "4        2.0  \n",
      "5        2.0  \n",
      "6        2.0  \n"
     ]
    }
   ],
   "source": [
    "results_df = ['Agl Clust']\n",
    "\n",
    "df_aglinks, model = aglomerative_alg(df, num_clusters=7, linkage = 'complete')\n",
    "y_aglinks = df_aglinks['label']\n",
    "\n",
    "for metric in metrices:\n",
    "    print(f'{metric}: {metrices[metric](df, y_aglinks)}')\n",
    "    results_df.append(round(metrices[metric](df, y_aglinks), 3))\n",
    "\n",
    "df_aglinks_medians = raw_data.copy()\n",
    "df_aglinks_medians['label'] = y_aglinks\n",
    "print(medians_for_clusters(df_aglinks_medians))\n",
    "\n",
    "a = np.array(results_df)\n",
    "results = pd.concat([results, pd.DataFrame(a[None], columns=columns)], ignore_index=True)"
   ]
  },
  {
   "cell_type": "markdown",
   "metadata": {},
   "source": [
    "### DBSCAN"
   ]
  },
  {
   "cell_type": "code",
   "execution_count": 211,
   "metadata": {},
   "outputs": [
    {
     "name": "stdout",
     "output_type": "stream",
     "text": [
      "Minimal distance between clusters: 0.5091843197694769\n",
      "Average distance between points in the same class: 0.6028955132941675\n",
      "Standard deviation of distance between points in the same class: 0.3239884861243685\n",
      "Silhouette score: 0.27581067242053336\n",
      "Calinski-Harabasz index: 25.152110156519832\n",
      "Davies Bouldin index: 1.4384691695801504\n"
     ]
    }
   ],
   "source": [
    "results_df = ['DBSCAN']\n",
    "\n",
    "df_dbscan, model = dbscan(df, 'minmax')\n",
    "y_dbscan = df_dbscan['label']\n",
    "\n",
    "for metric in metrices:\n",
    "    print(f'{metric}: {metrices[metric](df, y_dbscan)}')\n",
    "    results_df.append(round(metrices[metric](df, y_dbscan), 3))\n",
    "\n",
    "df_dbscan_medians = raw_data.copy()\n",
    "df_dbscan_medians['label'] = y_dbscan\n",
    "#print(medians_for_clusters(df_dbscan_medians))\n",
    "\n",
    "a = np.array(results_df)\n",
    "results = pd.concat([results, pd.DataFrame(a[None], columns=columns)], ignore_index=True)"
   ]
  },
  {
   "cell_type": "markdown",
   "metadata": {},
   "source": [
    "### GMM"
   ]
  },
  {
   "cell_type": "code",
   "execution_count": 212,
   "metadata": {},
   "outputs": [
    {
     "name": "stdout",
     "output_type": "stream",
     "text": [
      "Minimal distance between clusters: 0.5706742832494368\n",
      "Average distance between points in the same class: 0.9378223592177299\n",
      "Standard deviation of distance between points in the same class: 0.1328047244304438\n",
      "Silhouette score: 0.33052045888862325\n",
      "Calinski-Harabasz index: 53.401613836436724\n",
      "Davies Bouldin index: 1.220660039386472\n"
     ]
    }
   ],
   "source": [
    "from sklearn.mixture import GaussianMixture\n",
    "results_df = ['GMM']\n",
    "\n",
    "gmm = GaussianMixture(n_components=7, covariance_type='full', random_state=10)\n",
    "y_gmm = gmm.fit_predict(df)\n",
    "\n",
    "for metric in metrices:\n",
    "    print(f'{metric}: {metrices[metric](df, y_gmm)}')\n",
    "    results_df.append(round(metrices[metric](df, y_gmm), 3))\n",
    "\n",
    "df_gmm_medians = raw_data.copy()\n",
    "df_gmm_medians['label'] = y_gmm\n",
    "#print(medians_for_clusters(df_gmm_medians))\n",
    "\n",
    "a = np.array(results_df)\n",
    "results = pd.concat([results, pd.DataFrame(a[None], columns=columns)], ignore_index=True)"
   ]
  },
  {
   "cell_type": "markdown",
   "metadata": {},
   "source": [
    "### Spectral"
   ]
  },
  {
   "cell_type": "code",
   "execution_count": 213,
   "metadata": {},
   "outputs": [
    {
     "name": "stdout",
     "output_type": "stream",
     "text": [
      "Minimal distance between clusters: 0.4141255581233981\n",
      "Average distance between points in the same class: 0.8829168447089761\n",
      "Standard deviation of distance between points in the same class: 0.22662385752289335\n",
      "Silhouette score: 0.321976514723301\n",
      "Calinski-Harabasz index: 56.70815344883389\n",
      "Davies Bouldin index: 1.194365994746271\n"
     ]
    }
   ],
   "source": [
    "results_df = ['Spectral']\n",
    "\n",
    "sc = SpectralClustering(n_clusters=7, random_state=0)\n",
    "y_sc = sc.fit_predict(df)\n",
    "\n",
    "for metric in metrices:\n",
    "    print(f'{metric}: {metrices[metric](df, y_sc)}')\n",
    "    results_df.append(round(metrices[metric](df, y_sc), 3))\n",
    "\n",
    "df_sc_medians = raw_data.copy()\n",
    "df_sc_medians['label'] = y_sc\n",
    "\n",
    "a = np.array(results_df)\n",
    "results = pd.concat([results, pd.DataFrame(a[None], columns=columns)], ignore_index=True)"
   ]
  },
  {
   "cell_type": "code",
   "execution_count": 214,
   "metadata": {
    "scrolled": true
   },
   "outputs": [
    {
     "data": {
      "text/html": [
       "<div>\n",
       "<style scoped>\n",
       "    .dataframe tbody tr th:only-of-type {\n",
       "        vertical-align: middle;\n",
       "    }\n",
       "\n",
       "    .dataframe tbody tr th {\n",
       "        vertical-align: top;\n",
       "    }\n",
       "\n",
       "    .dataframe thead th {\n",
       "        text-align: right;\n",
       "    }\n",
       "</style>\n",
       "<table border=\"1\" class=\"dataframe\">\n",
       "  <thead>\n",
       "    <tr style=\"text-align: right;\">\n",
       "      <th></th>\n",
       "      <th>method</th>\n",
       "      <th>min dist btw cl</th>\n",
       "      <th>avg dist in cl</th>\n",
       "      <th>std dev dist in cl</th>\n",
       "      <th>silhouette</th>\n",
       "      <th>cal-har</th>\n",
       "      <th>dav-bou</th>\n",
       "    </tr>\n",
       "  </thead>\n",
       "  <tbody>\n",
       "    <tr>\n",
       "      <th>0</th>\n",
       "      <td>Kmeans</td>\n",
       "      <td>0.676</td>\n",
       "      <td>0.881</td>\n",
       "      <td>0.125</td>\n",
       "      <td>0.344</td>\n",
       "      <td>58.294</td>\n",
       "      <td>1.213</td>\n",
       "    </tr>\n",
       "    <tr>\n",
       "      <th>1</th>\n",
       "      <td>KMedoids</td>\n",
       "      <td>0.198</td>\n",
       "      <td>1.001</td>\n",
       "      <td>0.087</td>\n",
       "      <td>0.134</td>\n",
       "      <td>33.334</td>\n",
       "      <td>2.382</td>\n",
       "    </tr>\n",
       "    <tr>\n",
       "      <th>2</th>\n",
       "      <td>Mini Batch</td>\n",
       "      <td>0.676</td>\n",
       "      <td>0.875</td>\n",
       "      <td>0.151</td>\n",
       "      <td>0.33</td>\n",
       "      <td>58.209</td>\n",
       "      <td>1.182</td>\n",
       "    </tr>\n",
       "    <tr>\n",
       "      <th>3</th>\n",
       "      <td>Agl Clust</td>\n",
       "      <td>0.549</td>\n",
       "      <td>0.975</td>\n",
       "      <td>0.153</td>\n",
       "      <td>0.268</td>\n",
       "      <td>41.663</td>\n",
       "      <td>1.349</td>\n",
       "    </tr>\n",
       "    <tr>\n",
       "      <th>4</th>\n",
       "      <td>DBSCAN</td>\n",
       "      <td>0.509</td>\n",
       "      <td>0.603</td>\n",
       "      <td>0.324</td>\n",
       "      <td>0.276</td>\n",
       "      <td>25.152</td>\n",
       "      <td>1.438</td>\n",
       "    </tr>\n",
       "    <tr>\n",
       "      <th>5</th>\n",
       "      <td>GMM</td>\n",
       "      <td>0.571</td>\n",
       "      <td>0.938</td>\n",
       "      <td>0.133</td>\n",
       "      <td>0.331</td>\n",
       "      <td>53.402</td>\n",
       "      <td>1.221</td>\n",
       "    </tr>\n",
       "    <tr>\n",
       "      <th>6</th>\n",
       "      <td>Spectral</td>\n",
       "      <td>0.414</td>\n",
       "      <td>0.883</td>\n",
       "      <td>0.227</td>\n",
       "      <td>0.322</td>\n",
       "      <td>56.708</td>\n",
       "      <td>1.194</td>\n",
       "    </tr>\n",
       "  </tbody>\n",
       "</table>\n",
       "</div>"
      ],
      "text/plain": [
       "       method min dist btw cl avg dist in cl std dev dist in cl silhouette  \\\n",
       "0      Kmeans           0.676          0.881              0.125      0.344   \n",
       "1    KMedoids           0.198          1.001              0.087      0.134   \n",
       "2  Mini Batch           0.676          0.875              0.151       0.33   \n",
       "3   Agl Clust           0.549          0.975              0.153      0.268   \n",
       "4      DBSCAN           0.509          0.603              0.324      0.276   \n",
       "5         GMM           0.571          0.938              0.133      0.331   \n",
       "6    Spectral           0.414          0.883              0.227      0.322   \n",
       "\n",
       "  cal-har dav-bou  \n",
       "0  58.294   1.213  \n",
       "1  33.334   2.382  \n",
       "2  58.209   1.182  \n",
       "3  41.663   1.349  \n",
       "4  25.152   1.438  \n",
       "5  53.402   1.221  \n",
       "6  56.708   1.194  "
      ]
     },
     "execution_count": 214,
     "metadata": {},
     "output_type": "execute_result"
    }
   ],
   "source": [
    "results"
   ]
  },
  {
   "cell_type": "markdown",
   "metadata": {},
   "source": [
    "From those algorithms KMeans performs the best (1st in min dist btw clust, 3nd in avg dist in clust, 2nd in std dev in clust)"
   ]
  },
  {
   "cell_type": "markdown",
   "metadata": {},
   "source": [
    "### Standard hierarchical clustering"
   ]
  },
  {
   "cell_type": "code",
   "execution_count": 215,
   "metadata": {},
   "outputs": [
    {
     "name": "stdout",
     "output_type": "stream",
     "text": [
      "╒══════════════════╤═══════════════════╤══════════════════╤══════════════════════╤══════════════╤═══════════╤═══════════╕\n",
      "│ Linkage Method   │   min dist btw cl │   avg dist in cl │   std dev dist in cl │   silhouette │   cal-har │   dav-bou │\n",
      "╞══════════════════╪═══════════════════╪══════════════════╪══════════════════════╪══════════════╪═══════════╪═══════════╡\n",
      "│ single           │          1.00725  │       nan        │           nan        │    0.0115834 │   7.15688 │   1.0941  │\n",
      "├──────────────────┼───────────────────┼──────────────────┼──────────────────────┼──────────────┼───────────┼───────────┤\n",
      "│ complete         │          0.549392 │         0.975088 │             0.153316 │    0.267877  │  41.6632  │   1.34938 │\n",
      "├──────────────────┼───────────────────┼──────────────────┼──────────────────────┼──────────────┼───────────┼───────────┤\n",
      "│ average          │          0.73653  │       nan        │           nan        │    0.163755  │  18.5278  │   1.09267 │\n",
      "├──────────────────┼───────────────────┼──────────────────┼──────────────────────┼──────────────┼───────────┼───────────┤\n",
      "│ ward             │          0.549392 │         0.878954 │             0.255783 │    0.306809  │  52.9892  │   1.25784 │\n",
      "╘══════════════════╧═══════════════════╧══════════════════╧══════════════════════╧══════════════╧═══════════╧═══════════╛\n"
     ]
    }
   ],
   "source": [
    "data = df.to_numpy()\n",
    "\n",
    "k = 7\n",
    "linkage_methods = ['single', 'complete', 'average', 'ward']\n",
    "columnsh=['min dist btw cl', 'avg dist in cl', 'std dev dist in cl', 'silhouette', 'cal-har', 'dav-bou']\n",
    "\n",
    "resultsh = []\n",
    "for method in linkage_methods:\n",
    "    Z = linkage(data, method=method)\n",
    "    labels = fcluster(Z, k, criterion='maxclust')\n",
    "\n",
    "    row = [method]\n",
    "    for metric in metrices:\n",
    "        value = metrices[metric](df, labels)\n",
    "        row.append(value)\n",
    "    resultsh.append(row)\n",
    "\n",
    "headers = ['Linkage Method'] + list(columnsh)\n",
    "print(tabulate(resultsh, headers=headers, tablefmt='fancy_grid'))"
   ]
  },
  {
   "cell_type": "markdown",
   "metadata": {},
   "source": [
    "Somehow we got nans in some metrices but no idea why. The results are worse anyway."
   ]
  },
  {
   "cell_type": "markdown",
   "metadata": {},
   "source": [
    "Dendogram"
   ]
  },
  {
   "cell_type": "code",
   "execution_count": 216,
   "metadata": {},
   "outputs": [
    {
     "data": {
      "image/png": "[encoded data removed]",
      "text/plain": [
       "<Figure size 1000x600 with 1 Axes>"
      ]
     },
     "metadata": {},
     "output_type": "display_data"
    }
   ],
   "source": [
    "data = df.to_numpy()\n",
    "\n",
    "Z = linkage(data, method='complete')\n",
    "\n",
    "plt.figure(figsize=(10, 6))\n",
    "dendrogram(Z)\n",
    "plt.xlabel('Data Points')\n",
    "plt.ylabel('Distance')\n",
    "plt.title('Hierarchical Clustering Dendrogram')\n",
    "plt.show()"
   ]
  },
  {
   "cell_type": "markdown",
   "metadata": {},
   "source": [
    "### Hybrid with Kmeans"
   ]
  },
  {
   "cell_type": "code",
   "execution_count": 220,
   "metadata": {},
   "outputs": [
    {
     "name": "stdout",
     "output_type": "stream",
     "text": [
      "Minimal distance between clusters: 0.6759568429818261\n",
      "Average distance between points in the same class: 0.9639785332989026\n",
      "Standard deviation of distance between points in the same class: 0.16047290549963827\n",
      "Silhouette score: 0.28837353814268674\n",
      "Calinski-Harabasz index: 46.01252477972658\n",
      "Davies Bouldin index: 1.2752976555770803\n"
     ]
    }
   ],
   "source": [
    "k=7\n",
    "results_df = ['Hybrid']\n",
    "agg_cluster = AgglomerativeClustering(n_clusters=k, linkage='complete')\n",
    "agg_labels = agg_cluster.fit_predict(df)\n",
    "\n",
    "# Compute the center of each cluster\n",
    "cluster_centers = []\n",
    "for cluster in range(k):\n",
    "    cluster_data = df[agg_labels == cluster]\n",
    "    cluster_center = cluster_data.mean(axis=0)\n",
    "    cluster_centers.append(cluster_center)\n",
    "\n",
    "# Convert the cluster centers to a numpy array\n",
    "cluster_centers = np.array(cluster_centers)\n",
    "\n",
    "# Perform k-means clustering using the cluster centers as initial centers\n",
    "kmeans = KMeans(n_clusters=k, init=cluster_centers, n_init=1)\n",
    "kmeans_labels = kmeans.fit_predict(df)\n",
    "kmeans_cluster_centers = kmeans.cluster_centers_\n",
    "\n",
    "for metric in metrices:\n",
    "    print(f'{metric}: {metrices[metric](df, kmeans_labels)}')\n",
    "    results_df.append(round(metrices[metric](df, kmeans_labels), 3))\n",
    "\n",
    "a = np.array(results_df)\n",
    "results = pd.concat([results, pd.DataFrame(a[None], columns=columns)], ignore_index=True)"
   ]
  },
  {
   "cell_type": "code",
   "execution_count": 219,
   "metadata": {},
   "outputs": [
    {
     "data": {
      "text/html": [
       "<div>\n",
       "<style scoped>\n",
       "    .dataframe tbody tr th:only-of-type {\n",
       "        vertical-align: middle;\n",
       "    }\n",
       "\n",
       "    .dataframe tbody tr th {\n",
       "        vertical-align: top;\n",
       "    }\n",
       "\n",
       "    .dataframe thead th {\n",
       "        text-align: right;\n",
       "    }\n",
       "</style>\n",
       "<table border=\"1\" class=\"dataframe\">\n",
       "  <thead>\n",
       "    <tr style=\"text-align: right;\">\n",
       "      <th></th>\n",
       "      <th>method</th>\n",
       "      <th>min dist btw cl</th>\n",
       "      <th>avg dist in cl</th>\n",
       "      <th>std dev dist in cl</th>\n",
       "      <th>silhouette</th>\n",
       "      <th>cal-har</th>\n",
       "      <th>dav-bou</th>\n",
       "    </tr>\n",
       "  </thead>\n",
       "  <tbody>\n",
       "    <tr>\n",
       "      <th>0</th>\n",
       "      <td>Kmeans</td>\n",
       "      <td>0.676</td>\n",
       "      <td>0.881</td>\n",
       "      <td>0.125</td>\n",
       "      <td>0.344</td>\n",
       "      <td>58.294</td>\n",
       "      <td>1.213</td>\n",
       "    </tr>\n",
       "    <tr>\n",
       "      <th>1</th>\n",
       "      <td>KMedoids</td>\n",
       "      <td>0.198</td>\n",
       "      <td>1.001</td>\n",
       "      <td>0.087</td>\n",
       "      <td>0.134</td>\n",
       "      <td>33.334</td>\n",
       "      <td>2.382</td>\n",
       "    </tr>\n",
       "    <tr>\n",
       "      <th>2</th>\n",
       "      <td>Mini Batch</td>\n",
       "      <td>0.676</td>\n",
       "      <td>0.875</td>\n",
       "      <td>0.151</td>\n",
       "      <td>0.33</td>\n",
       "      <td>58.209</td>\n",
       "      <td>1.182</td>\n",
       "    </tr>\n",
       "    <tr>\n",
       "      <th>3</th>\n",
       "      <td>Agl Clust</td>\n",
       "      <td>0.549</td>\n",
       "      <td>0.975</td>\n",
       "      <td>0.153</td>\n",
       "      <td>0.268</td>\n",
       "      <td>41.663</td>\n",
       "      <td>1.349</td>\n",
       "    </tr>\n",
       "    <tr>\n",
       "      <th>4</th>\n",
       "      <td>DBSCAN</td>\n",
       "      <td>0.509</td>\n",
       "      <td>0.603</td>\n",
       "      <td>0.324</td>\n",
       "      <td>0.276</td>\n",
       "      <td>25.152</td>\n",
       "      <td>1.438</td>\n",
       "    </tr>\n",
       "    <tr>\n",
       "      <th>5</th>\n",
       "      <td>GMM</td>\n",
       "      <td>0.571</td>\n",
       "      <td>0.938</td>\n",
       "      <td>0.133</td>\n",
       "      <td>0.331</td>\n",
       "      <td>53.402</td>\n",
       "      <td>1.221</td>\n",
       "    </tr>\n",
       "    <tr>\n",
       "      <th>6</th>\n",
       "      <td>Spectral</td>\n",
       "      <td>0.414</td>\n",
       "      <td>0.883</td>\n",
       "      <td>0.227</td>\n",
       "      <td>0.322</td>\n",
       "      <td>56.708</td>\n",
       "      <td>1.194</td>\n",
       "    </tr>\n",
       "    <tr>\n",
       "      <th>7</th>\n",
       "      <td>Hybrid</td>\n",
       "      <td>0.676</td>\n",
       "      <td>0.964</td>\n",
       "      <td>0.16</td>\n",
       "      <td>0.288</td>\n",
       "      <td>46.013</td>\n",
       "      <td>1.275</td>\n",
       "    </tr>\n",
       "  </tbody>\n",
       "</table>\n",
       "</div>"
      ],
      "text/plain": [
       "       method min dist btw cl avg dist in cl std dev dist in cl silhouette  \\\n",
       "0      Kmeans           0.676          0.881              0.125      0.344   \n",
       "1    KMedoids           0.198          1.001              0.087      0.134   \n",
       "2  Mini Batch           0.676          0.875              0.151       0.33   \n",
       "3   Agl Clust           0.549          0.975              0.153      0.268   \n",
       "4      DBSCAN           0.509          0.603              0.324      0.276   \n",
       "5         GMM           0.571          0.938              0.133      0.331   \n",
       "6    Spectral           0.414          0.883              0.227      0.322   \n",
       "7      Hybrid           0.676          0.964               0.16      0.288   \n",
       "\n",
       "  cal-har dav-bou  \n",
       "0  58.294   1.213  \n",
       "1  33.334   2.382  \n",
       "2  58.209   1.182  \n",
       "3  41.663   1.349  \n",
       "4  25.152   1.438  \n",
       "5  53.402   1.221  \n",
       "6  56.708   1.194  \n",
       "7  46.013   1.275  "
      ]
     },
     "execution_count": 219,
     "metadata": {},
     "output_type": "execute_result"
    }
   ],
   "source": [
    "results"
   ]
  },
  {
   "cell_type": "markdown",
   "metadata": {},
   "source": [
    "It did not help, results are a little bit worse. Maybe we can try to apply majority voting to multiple models."
   ]
  },
  {
   "cell_type": "code",
   "execution_count": 221,
   "metadata": {},
   "outputs": [],
   "source": [
    "def majority_voting(*labels):\n",
    "    stacked_labels = np.vstack(labels)\n",
    "    majority_vote = np.apply_along_axis(lambda x: np.bincount(x).argmax(), axis=0, arr=stacked_labels)\n",
    "    return majority_vote"
   ]
  },
  {
   "cell_type": "markdown",
   "metadata": {},
   "source": [
    "For all subgroups"
   ]
  },
  {
   "cell_type": "code",
   "execution_count": 222,
   "metadata": {},
   "outputs": [],
   "source": [
    "methods_list = [y_mini, y_gmm, y_kmeans, agg_labels, y_sc]\n",
    "methods_list_names = ['y_mini', 'y_gmm', 'y_kmeans', 'agg_labels', 'y_sc']"
   ]
  },
  {
   "cell_type": "code",
   "execution_count": 223,
   "metadata": {},
   "outputs": [],
   "source": [
    "from itertools import combinations\n",
    "\n",
    "def get_subgroups(lst):\n",
    "    subgroups = []\n",
    "    n = len(lst)\n",
    "    for group_size in range(1, n + 1):\n",
    "        for subgroup in combinations(lst, group_size):\n",
    "            subgroups.append(list(subgroup))\n",
    "    return subgroups"
   ]
  },
  {
   "cell_type": "code",
   "execution_count": 224,
   "metadata": {},
   "outputs": [],
   "source": [
    "subgroups = get_subgroups(methods_list)\n",
    "subgroups_names = get_subgroups(methods_list_names)"
   ]
  },
  {
   "cell_type": "code",
   "execution_count": 225,
   "metadata": {},
   "outputs": [],
   "source": [
    "table = np.zeros((len(subgroups), 6))\n",
    "\n",
    "for i in range(len(subgroups)):\n",
    "    y_maj_vote = majority_voting(subgroups[i])\n",
    "    for index, key in enumerate(metrices):\n",
    "        metric = metrices[key]\n",
    "        val = round(metrices[key](df, y_maj_vote), 4)\n",
    "        table[i, index] = val\n",
    "        # print(f'{key}: {metrices[key](df, y_maj_vote)}')\n"
   ]
  },
  {
   "cell_type": "markdown",
   "metadata": {},
   "source": [
    "Printing dataframe already filtered so we only get good results"
   ]
  },
  {
   "cell_type": "code",
   "execution_count": 231,
   "metadata": {},
   "outputs": [
    {
     "data": {
      "text/html": [
       "<div>\n",
       "<style scoped>\n",
       "    .dataframe tbody tr th:only-of-type {\n",
       "        vertical-align: middle;\n",
       "    }\n",
       "\n",
       "    .dataframe tbody tr th {\n",
       "        vertical-align: top;\n",
       "    }\n",
       "\n",
       "    .dataframe thead th {\n",
       "        text-align: right;\n",
       "    }\n",
       "</style>\n",
       "<table border=\"1\" class=\"dataframe\">\n",
       "  <thead>\n",
       "    <tr style=\"text-align: right;\">\n",
       "      <th></th>\n",
       "      <th>subgroups</th>\n",
       "      <th>min dist btw cl</th>\n",
       "      <th>avg dist in cl</th>\n",
       "      <th>std dev dist in cl</th>\n",
       "      <th>silhouette</th>\n",
       "      <th>cal-har</th>\n",
       "      <th>dav-bou</th>\n",
       "    </tr>\n",
       "  </thead>\n",
       "  <tbody>\n",
       "    <tr>\n",
       "      <th>0</th>\n",
       "      <td>[y_mini]</td>\n",
       "      <td>0.676</td>\n",
       "      <td>0.8753</td>\n",
       "      <td>0.1514</td>\n",
       "      <td>0.3301</td>\n",
       "      <td>58.2089</td>\n",
       "      <td>1.1818</td>\n",
       "    </tr>\n",
       "    <tr>\n",
       "      <th>2</th>\n",
       "      <td>[y_kmeans]</td>\n",
       "      <td>0.676</td>\n",
       "      <td>0.8805</td>\n",
       "      <td>0.1249</td>\n",
       "      <td>0.3438</td>\n",
       "      <td>58.2941</td>\n",
       "      <td>1.2133</td>\n",
       "    </tr>\n",
       "    <tr>\n",
       "      <th>6</th>\n",
       "      <td>[y_mini, y_kmeans]</td>\n",
       "      <td>0.676</td>\n",
       "      <td>0.9611</td>\n",
       "      <td>0.1150</td>\n",
       "      <td>0.2527</td>\n",
       "      <td>42.4486</td>\n",
       "      <td>1.3653</td>\n",
       "    </tr>\n",
       "    <tr>\n",
       "      <th>9</th>\n",
       "      <td>[y_gmm, y_kmeans]</td>\n",
       "      <td>0.676</td>\n",
       "      <td>0.9733</td>\n",
       "      <td>0.1082</td>\n",
       "      <td>0.2712</td>\n",
       "      <td>52.6453</td>\n",
       "      <td>1.3277</td>\n",
       "    </tr>\n",
       "    <tr>\n",
       "      <th>15</th>\n",
       "      <td>[y_mini, y_gmm, y_kmeans]</td>\n",
       "      <td>0.676</td>\n",
       "      <td>0.9546</td>\n",
       "      <td>0.1023</td>\n",
       "      <td>0.2547</td>\n",
       "      <td>42.6307</td>\n",
       "      <td>1.3155</td>\n",
       "    </tr>\n",
       "  </tbody>\n",
       "</table>\n",
       "</div>"
      ],
      "text/plain": [
       "                    subgroups  min dist btw cl  avg dist in cl  \\\n",
       "0                    [y_mini]            0.676          0.8753   \n",
       "2                  [y_kmeans]            0.676          0.8805   \n",
       "6          [y_mini, y_kmeans]            0.676          0.9611   \n",
       "9           [y_gmm, y_kmeans]            0.676          0.9733   \n",
       "15  [y_mini, y_gmm, y_kmeans]            0.676          0.9546   \n",
       "\n",
       "    std dev dist in cl  silhouette  cal-har  dav-bou  \n",
       "0               0.1514      0.3301  58.2089   1.1818  \n",
       "2               0.1249      0.3438  58.2941   1.2133  \n",
       "6               0.1150      0.2527  42.4486   1.3653  \n",
       "9               0.1082      0.2712  52.6453   1.3277  \n",
       "15              0.1023      0.2547  42.6307   1.3155  "
      ]
     },
     "execution_count": 231,
     "metadata": {},
     "output_type": "execute_result"
    }
   ],
   "source": [
    "column_names=['min dist btw cl', 'avg dist in cl', 'std dev dist in cl', 'silhouette', 'cal-har', 'dav-bou']\n",
    "\n",
    "table_df = pd.DataFrame(table, columns=column_names)\n",
    "table_df[\"subgroups\"] = subgroups_names\n",
    "column_names = table_df.columns.tolist()\n",
    "last_column = column_names[-1]\n",
    "column_names.remove(last_column)\n",
    "new_column_order = [last_column] + column_names\n",
    "table_df = table_df[new_column_order]\n",
    "table_df = table_df[(table_df['min dist btw cl'] > 0.6) & (table_df['avg dist in cl'] < 1)]\n",
    "table_df"
   ]
  },
  {
   "cell_type": "markdown",
   "metadata": {},
   "source": [
    "It did not work out. To be honest it was not a good idea as there can be problems with numbering and disappearing clusters. Taking all the results into consideration we will stick to kmeans algorithm."
   ]
  },
  {
   "cell_type": "code",
   "execution_count": 232,
   "metadata": {},
   "outputs": [],
   "source": [
    "def means_for_clusters(df):\n",
    "    means = df.groupby('label').mean()\n",
    "    return means"
   ]
  },
  {
   "cell_type": "code",
   "execution_count": 237,
   "metadata": {},
   "outputs": [
    {
     "name": "stdout",
     "output_type": "stream",
     "text": [
      "        age  sex   cp  trestbps   chol  fbs  restecg  thalach  exang  oldpeak  \\\n",
      "label                                                                           \n",
      "0      58.0  1.0  4.0     129.0  256.0  0.0      2.0    131.5    1.0     1.70   \n",
      "1      52.0  1.0  3.0     125.0  229.0  0.0      0.0    162.0    0.0     0.30   \n",
      "2      59.0  0.0  4.0     142.0  249.0  0.0      2.0    150.0    1.0     1.00   \n",
      "3      58.0  0.0  3.0     135.0  258.0  0.0      2.0    157.0    0.0     0.60   \n",
      "4      55.0  1.0  4.0     130.0  239.0  0.0      0.0    143.0    1.0     1.40   \n",
      "5      55.0  1.0  3.0     131.0  239.0  0.0      2.0    157.5    0.0     0.55   \n",
      "6      54.0  0.0  3.0     125.0  221.5  0.0      0.0    163.0    0.0     0.10   \n",
      "\n",
      "       slope  \n",
      "label         \n",
      "0        2.0  \n",
      "1        1.0  \n",
      "2        2.0  \n",
      "3        2.0  \n",
      "4        2.0  \n",
      "5        2.0  \n",
      "6        1.0  \n",
      "             age  sex        cp    trestbps        chol       fbs   restecg  \\\n",
      "label                                                                         \n",
      "0      57.233333  1.0  3.833333  131.800000  246.500000  0.100000  2.000000   \n",
      "1      51.177778  1.0  2.755556  127.755556  231.000000  0.200000  0.000000   \n",
      "2      58.133333  0.0  3.733333  147.666667  262.600000  0.200000  1.066667   \n",
      "3      57.965517  0.0  3.172414  131.793103  268.344828  0.137931  1.965517   \n",
      "4      54.703704  1.0  3.444444  130.000000  245.740741  0.111111  0.000000   \n",
      "5      54.684211  1.0  2.736842  138.763158  243.973684  0.105263  2.000000   \n",
      "6      52.535714  0.0  2.750000  126.535714  239.821429  0.000000  0.000000   \n",
      "\n",
      "          thalach  exang   oldpeak     slope  \n",
      "label                                         \n",
      "0      132.733333    1.0  1.653333  1.833333  \n",
      "1      157.844444    0.0  0.755556  1.422222  \n",
      "2      148.266667    1.0  1.046667  1.933333  \n",
      "3      149.448276    0.0  0.920690  1.551724  \n",
      "4      142.629630    1.0  1.648148  1.703704  \n",
      "5      157.447368    0.0  0.960526  1.631579  \n",
      "6      157.821429    0.0  0.500000  1.357143  \n"
     ]
    }
   ],
   "source": [
    "final = raw_data.copy()\n",
    "final['label'] = y_kmeans\n",
    "print(medians_for_clusters(final))\n",
    "print(means_for_clusters(final))"
   ]
  },
  {
   "cell_type": "code",
   "execution_count": 234,
   "metadata": {},
   "outputs": [
    {
     "name": "stdout",
     "output_type": "stream",
     "text": [
      "Minimal distance between clusters: 0.6759568429818261\n",
      "Average distance between points in the same class: 0.8805018696591459\n",
      "Standard deviation of distance between points in the same class: 0.12486617512585098\n",
      "Silhouette score: 0.3437519614251537\n",
      "Calinski-Harabasz index: 58.294138843426566\n",
      "Davies Bouldin index: 1.213327677179781\n"
     ]
    }
   ],
   "source": [
    "for metric in metrices:\n",
    "    print(f'{metric}: {metrices[metric](df, y_kmeans)}')"
   ]
  },
  {
   "cell_type": "markdown",
   "metadata": {},
   "source": [
    "Summary"
   ]
  },
  {
   "cell_type": "code",
   "execution_count": 257,
   "metadata": {},
   "outputs": [],
   "source": [
    "df_train = pd.read_csv('train.csv')\n",
    "raw_data = df_train.copy()\n",
    "df_train = preprocessing(df_train, rem_over=True, encode=False, rep_out=False, process='minmax')"
   ]
  },
  {
   "cell_type": "code",
   "execution_count": 258,
   "metadata": {},
   "outputs": [],
   "source": [
    "mv_final = y_kmeans"
   ]
  },
  {
   "cell_type": "markdown",
   "metadata": {},
   "source": [
    "Plots"
   ]
  },
  {
   "cell_type": "code",
   "execution_count": 259,
   "metadata": {},
   "outputs": [
    {
     "data": {
      "application/vnd.plotly.v1+json": {
       "config": {
        "plotlyServerURL": "https://plot.ly"
       },
       "data": [
        {
         "marker": {
          "color": [
           5,
           4,
           1,
           1,
           3,
           5,
           3,
           0,
           0,
           0,
           1,
           2,
           6,
           6,
           5,
           4,
           1,
           4,
           1,
           0,
           3,
           1,
           6,
           6,
           0,
           5,
           5,
           5,
           3,
           1,
           0,
           5,
           4,
           6,
           4,
           0,
           1,
           1,
           6,
           6,
           4,
           1,
           3,
           4,
           5,
           2,
           6,
           4,
           1,
           4,
           5,
           5,
           0,
           1,
           1,
           2,
           0,
           5,
           6,
           4,
           5,
           0,
           0,
           1,
           5,
           5,
           1,
           0,
           3,
           3,
           0,
           6,
           5,
           6,
           1,
           0,
           1,
           1,
           1,
           0,
           4,
           1,
           1,
           4,
           2,
           6,
           4,
           3,
           6,
           4,
           6,
           5,
           5,
           6,
           5,
           5,
           5,
           5,
           3,
           3,
           0,
           1,
           0,
           2,
           1,
           4,
           2,
           0,
           3,
           1,
           3,
           6,
           6,
           2,
           3,
           4,
           1,
           2,
           6,
           5,
           1,
           4,
           0,
           3,
           1,
           0,
           5,
           6,
           1,
           1,
           3,
           1,
           4,
           3,
           4,
           5,
           6,
           0,
           5,
           1,
           2,
           3,
           0,
           5,
           4,
           1,
           2,
           6,
           5,
           1,
           5,
           3,
           4,
           6,
           2,
           2,
           0,
           1,
           2,
           1,
           1,
           2,
           6,
           1,
           1,
           5,
           0,
           5,
           0,
           0,
           4,
           3,
           5,
           0,
           6,
           1,
           3,
           1,
           2,
           6,
           5,
           1,
           4,
           6,
           5,
           5,
           3,
           4,
           6,
           5,
           3,
           0,
           4,
           3,
           1,
           3,
           4,
           3,
           6,
           5,
           3,
           5,
           3,
           1,
           3,
           1,
           0,
           5,
           1,
           4,
           0,
           3
          ],
          "size": 4
         },
         "mode": "markers",
         "type": "scatter3d",
         "x": [
          -0.031038932042960286,
          0.62632559408578,
          -0.39123849670875455,
          -0.17725425359008365,
          -0.14401555589258017,
          0.34491299552408966,
          -0.11867315454035833,
          1.1476269781901565,
          0.8162321765209902,
          0.9753083269322645,
          -0.2914858265630624,
          0.8124437206193292,
          -0.8815972763909874,
          -0.4991847206444981,
          0.009934163757424811,
          0.6194011895222268,
          -0.20669961903445955,
          0.44478258375838353,
          -0.3957459124801601,
          1.1526783294566314,
          -0.3215324316479405,
          -0.5861227510260191,
          -0.7972134166599167,
          -0.9190018631467731,
          0.9371338526756754,
          0.16911039870312417,
          -0.15680896691619176,
          -0.03776349545631553,
          -0.41438994228073395,
          -0.29643207658819454,
          1.0052829287969904,
          -0.13120622807944257,
          0.576027095890129,
          -0.8113438410110717,
          0.2324535103575186,
          1.0011164544836189,
          -0.20837327348871382,
          -0.46129046689319264,
          -0.8718684402683005,
          -0.7135158279309199,
          0.5680411049702125,
          -0.549298406751871,
          -0.1446501178297497,
          0.18774598035421533,
          -0.15920079169711587,
          0.14982025236114382,
          -0.7521802675842048,
          0.5932775468554835,
          -0.5914934343965558,
          0.3682053306665162,
          0.17517453863289079,
          -0.24516939658628173,
          1.0089537164349722,
          -0.3962783424699598,
          -0.48208021245939703,
          0.5688944527235925,
          0.796052197839941,
          -0.06682419879269408,
          -0.9816186156051055,
          0.5957025555357309,
          0.0102951154708659,
          0.947444680599988,
          0.9231715283937565,
          -0.3204102976278802,
          0.11211270846967457,
          0.06084335749142585,
          -0.5119559831735517,
          0.7330060189365095,
          -0.19293272459895353,
          -0.44327705573437176,
          0.9989819017131976,
          -0.7496513929904911,
          -0.07406315380894643,
          -0.4801038389750723,
          -0.3621040661003039,
          0.8589070107771067,
          -0.37087607475283724,
          -0.31593096467456355,
          -0.5288001461584196,
          0.9666944443549795,
          0.260292887761879,
          -0.32946085898298605,
          -0.27955831485746185,
          0.36827483330241184,
          0.1929726641960478,
          -0.9854787467439305,
          0.0685521189177999,
          -0.4055218710468385,
          -0.8917219696412622,
          0.754059078692993,
          -0.8218815689006984,
          0.3443980601865749,
          -0.07066495176221321,
          -0.8056004831883908,
          0.13510235012204871,
          0.18678813990193135,
          -0.04983574759767677,
          0.009493734444033218,
          -0.4672354903126228,
          -0.33227848285080575,
          0.8273009749697966,
          -0.5041332465555722,
          0.9642625473304285,
          0.5310358018543307,
          -0.4517743025682668,
          0.5641869691383948,
          0.2688141170602944,
          0.939468091037014,
          -0.35108901312679625,
          -0.03773856910331203,
          -0.34469425240852847,
          -0.7188160017056203,
          -0.6203917778440753,
          0.143738524967488,
          -0.5322317121270571,
          0.4250842139478825,
          -0.39013373753383707,
          0.16697853371758198,
          -0.6676652686892695,
          0.0836118658371536,
          -0.48583316111804253,
          0.5226517025246279,
          0.9804665718487588,
          -0.36592763920091914,
          -0.5605712385950062,
          0.9055676434544669,
          0.2534285546335452,
          -0.7471781390409241,
          -0.18157110813106286,
          -0.12437823475406427,
          -0.31966117283305295,
          -0.5493073294698441,
          0.40099718343913954,
          -0.09895968685799206,
          0.8178096318603444,
          -0.11871727942314275,
          -0.9604875342462116,
          0.9413521900655774,
          0.04040730716834618,
          -0.4618378119181831,
          0.5585052641009562,
          -0.18056648276788675,
          0.9430592993946821,
          0.0977648351319467,
          0.5020199194784905,
          -0.05276786456234082,
          0.14015772795539305,
          -0.7046205551936863,
          -0.15812881719570893,
          -0.3726098576326786,
          0.28880687281429096,
          -0.4198346085870391,
          0.544476631110459,
          -0.7936257693746721,
          0.6334097514869252,
          0.03659090500704357,
          0.8122412670247163,
          -0.33303673846189724,
          0.4869281550595095,
          -0.43900359393376753,
          -0.4403282261027582,
          0.2268191203730359,
          -0.6769591982184529,
          -0.1659755793822212,
          -0.5216766941894054,
          -0.1866340119321867,
          1.028952982765849,
          0.26874073759491074,
          0.9418900324313176,
          0.8913249568660483,
          0.2421894898200703,
          0.10781336197340957,
          0.04752148678878592,
          1.0304635636380237,
          -0.9426569062797756,
          -0.5610475994913219,
          -0.3285963951651685,
          -0.43749652956491597,
          0.1593591005399126,
          -0.729176929615243,
          0.15242716913146487,
          -0.40005521440165126,
          0.44197667269515095,
          -0.9663040915986756,
          0.2928054467029232,
          0.18972819014755732,
          -0.41673277312005674,
          0.3853148568893936,
          -0.8026095657052418,
          0.22635527398699684,
          -0.3324302569595074,
          1.0186149155141613,
          0.5856150694103477,
          -0.5474129782198565,
          -0.5196125521340197,
          -0.26387744568713883,
          0.6480682928354328,
          -0.37570116140229337,
          -0.8128392427353792,
          0.10816939707169262,
          -0.1849099620318888,
          0.014766052724218062,
          -0.37638249606995217,
          -0.34063244441850354,
          -0.062063721570195234,
          -0.474726567601984,
          0.6669796197100696,
          -0.141899647335666,
          -0.1523591875576716,
          0.3810465336319988,
          0.856769060907193,
          -0.31853842556537865
         ],
         "y": [
          0.3361607732258627,
          -0.6829726319057086,
          -0.5299639913310975,
          -0.4866328849382064,
          0.8398206579662826,
          0.3986583109710169,
          0.868041904739427,
          0.19990980241530504,
          0.09186206596163073,
          0.1449960776408087,
          -0.4978831283882647,
          0.6899103030329108,
          0.007443915577189133,
          0.020397077727702453,
          0.3054674775683474,
          -0.692681836936735,
          -0.500555905685824,
          -0.7495920427265321,
          -0.5220194911975311,
          0.16519629675926445,
          0.8172793445380763,
          -0.5892636892573142,
          -0.016481585418941742,
          -0.018512997871460476,
          0.1131082634228525,
          0.3862805047038544,
          0.29129241368364744,
          0.2945586978588096,
          0.8089127737900694,
          -0.4730917237872391,
          0.12734922193200374,
          0.28853865567951437,
          -0.6555820387726157,
          -0.01436870158917607,
          -0.7766649409533635,
          0.12222690130955026,
          -0.5093238096375025,
          -0.5265534983052177,
          -0.06566084840445238,
          -0.006596072885715043,
          -0.6681619012917785,
          -0.5426421242543048,
          0.9089763375726082,
          -0.7454330945381127,
          0.2819791464790191,
          -0.16667301218681274,
          -0.06405232885031115,
          -0.6830583219977164,
          -0.5375374433105287,
          -0.7423289683850379,
          0.3307392650612654,
          0.26682979247098526,
          0.13227724399256283,
          -0.5318005308393638,
          -0.5565899481146229,
          0.6747723976325243,
          0.06359356901559512,
          0.29581809526992403,
          -0.0129303897914484,
          -0.7163206907188577,
          0.26116771474229816,
          0.0561568206719532,
          0.15604829608119886,
          -0.5305207649368783,
          0.3309830516613833,
          0.3291731933051906,
          -0.5207240157051851,
          0.08496041304669025,
          0.851515218057703,
          0.7991375281207229,
          0.1458396654322939,
          0.033039173211776234,
          0.2799914958007474,
          0.06307678575348824,
          -0.4882477259060926,
          0.10193398565453135,
          -0.539280619806833,
          -0.5253754962681211,
          -0.5616399580320436,
          0.14441894178432813,
          -0.7742486493827392,
          -0.5463854407685306,
          -0.5142617575441594,
          -0.7388738579511412,
          -0.1729946790209937,
          -0.08512469079001062,
          -0.8003440367910364,
          0.8031621817935083,
          -0.08112519472800572,
          -0.6562579035817951,
          0.01433002918580694,
          0.3394539706536003,
          0.3578023498287173,
          0.005292996478040282,
          0.35296357165938014,
          0.3444093224484511,
          0.3494665643164619,
          0.2840793894085721,
          0.8183958866156738,
          0.8250170497738202,
          0.08827311871593882,
          -0.5439623083465046,
          0.06950101775428713,
          0.6085335335607548,
          -0.49884332906073453,
          -0.7030830530099772,
          0.6191191255573306,
          0.10308235634308334,
          0.8508098310314258,
          -0.4754799990294639,
          0.7971671208602514,
          -0.019022596751744735,
          0.060221313280625174,
          -0.19056765489726166,
          0.7561678242141565,
          -0.7421698482829401,
          -0.467558286446128,
          -0.17648434449773437,
          -0.006698961284790224,
          0.2899277811943712,
          -0.518576250372813,
          -0.7617043679043146,
          0.11436339873301955,
          0.8317583831103641,
          -0.5625512973297173,
          0.08988272172604585,
          0.35966834370052686,
          0.02734098382979052,
          -0.5018930699103392,
          -0.5004007035061083,
          0.8515903770523527,
          -0.5671099706021498,
          -0.7232047497980492,
          0.8736750846043504,
          -0.6750970556490661,
          0.3062347849025567,
          -0.0670636803983229,
          0.14613664796506887,
          0.3001366855212446,
          -0.5525876509265271,
          0.6600713799597424,
          0.847986707100848,
          0.1028476027647085,
          0.29270485279428693,
          -0.7019863491133633,
          -0.45424033242650935,
          -0.19968840361455814,
          -0.012420733421766219,
          0.32255622998438516,
          -0.5301873563088865,
          0.3425287122462889,
          0.8259483681631206,
          -0.7375941914459772,
          0.02964658042065095,
          0.6283321901555484,
          -0.16124264418412312,
          0.14518964195902215,
          -0.5234303869243749,
          0.6065147476690181,
          -0.5455769959832406,
          -0.5443842827424109,
          0.5506607420936684,
          0.0007521992620137044,
          -0.49825156230830436,
          -0.5198750181756062,
          0.26094137269772905,
          0.17338684766036852,
          0.3303515297532739,
          0.07114725065712461,
          0.12297835180768259,
          -0.7708715412742689,
          0.8782070796542124,
          0.29353760695444936,
          0.11045843987782933,
          -0.03387595987711221,
          -0.5497533557864406,
          0.8114511560410633,
          -0.5281741523123874,
          -0.18843454590759684,
          -0.023098981695746153,
          0.3580781012163397,
          -0.4933631957243038,
          -0.720928034826973,
          -0.07841610472156836,
          0.3581766550342896,
          0.368744535742272,
          0.8278312462718891,
          -0.6785265080174887,
          -0.04520580774850648,
          0.3662316208828289,
          0.8715691914694635,
          0.12610608134190524,
          -0.6761840765916957,
          0.8050731197339136,
          -0.5867352010864426,
          0.8776195893127875,
          -0.6887319668372122,
          0.46324258763630927,
          0.0036962528765894917,
          0.3300683132404217,
          0.8142191979271975,
          0.28196110042282296,
          0.7981393954617427,
          -0.530434503679426,
          0.9194807963571564,
          -0.5713289289949424,
          0.0900545203649227,
          0.3318422502268746,
          -0.47014144519432705,
          -0.7426410130843177,
          0.09348792986947421,
          0.8354927312911853
         ],
         "z": [
          -0.8442630247703634,
          0.3875979351573125,
          -0.27051472878167016,
          -0.11946310725748696,
          0.29287222241191535,
          -0.4027038017219085,
          0.2798942237630612,
          0.040499774278677445,
          -0.0471495180607052,
          -0.0002649934528380794,
          -0.2991360431456641,
          0.6977492411477494,
          0.40795262649355307,
          0.6647063459531958,
          -0.6239656567477221,
          0.36368673645772576,
          -0.21532728926233402,
          0.2142775361490978,
          -0.2596397750222572,
          0.061741857166541354,
          0.13790519168059573,
          -0.41084676775683243,
          0.4958319500664618,
          0.38188335882339786,
          -0.02101518019552214,
          -0.7063992346407048,
          -0.7344680100789723,
          -0.6325941683869749,
          0.1283271501657098,
          -0.2881156050203285,
          -0.003257952746712249,
          -0.7252250645858473,
          0.29974209030544535,
          0.4753628940533204,
          -0.003987816317954319,
          0.002111492272003668,
          -0.31224353574596203,
          -0.40588689003763795,
          0.44310805593360153,
          0.5892420449325894,
          0.3642529051893774,
          -0.37072142632578375,
          0.30144774012181674,
          0.08904833725834485,
          -0.8188378122329962,
          1.0843553707594964,
          0.5289332941133744,
          0.3651584598916326,
          -0.4506454933388473,
          0.2755312370058147,
          -0.4987433549721606,
          -0.851129479806262,
          0.0066360122970136465,
          -0.33181544099560484,
          -0.29463594779537605,
          0.7455115269254082,
          -0.16759480164041496,
          -0.782514492702116,
          0.2962345020910287,
          0.35393703063592835,
          -0.5652303887242714,
          -0.0445442542803238,
          -0.1839267549014308,
          -0.17214185901381654,
          -0.5774417879980178,
          -0.5180592868438053,
          -0.34851213338850257,
          -0.10411596764164592,
          0.2134391849803326,
          0.11930437926055765,
          -0.0051837461410334015,
          0.5352112127119981,
          -0.6587071307876693,
          0.6828822930294288,
          -0.21763573434718128,
          -0.2065698620044132,
          -0.19919303741467537,
          -0.18238039065383652,
          -0.4668789263432654,
          0.014633896834734773,
          0.18111470985653144,
          -0.16869706034885998,
          -0.13794722409555824,
          0.2800102179326133,
          0.9994195040076168,
          0.32691160324904883,
          -0.05012484628412233,
          0.12648196154068528,
          0.4379509759811292,
          0.4064880328701277,
          0.5012947020835699,
          -0.5240568103759998,
          -0.7665160475190786,
          0.41831228901610307,
          -0.7997221062273644,
          -0.4837353408434305,
          -0.7637540755925365,
          -0.5580359917142278,
          -0.03453172375052494,
          0.09265970148294451,
          -0.054106487511015114,
          -0.363286882911866,
          -0.039589059534385386,
          0.615904030274843,
          -0.5029343296800902,
          0.3417761167094625,
          0.5348980565023436,
          -0.020183243197353026,
          0.08113365730532965,
          -0.16426413140606658,
          0.2130461673813892,
          0.49599864420500545,
          0.4240938952606155,
          1.0856783408611779,
          -0.010373775067669096,
          0.229189838580905,
          -0.2242038926989012,
          1.0876192597656877,
          0.5250036979092226,
          -0.5259899039899341,
          -0.33388137897662806,
          0.30450656111862895,
          -0.015034066006568656,
          0.06649634767858247,
          -0.38596398224713246,
          -0.048695998631311736,
          -0.4582452715441062,
          0.5211243559656502,
          -0.27363801516300357,
          -0.09629465730614327,
          0.23879131437303588,
          -0.37660951506178614,
          0.28437011286098357,
          0.3061974514104482,
          0.4102518041580463,
          -0.7225665488665718,
          0.35849499794756606,
          -0.023986519639090483,
          -0.6165518362942415,
          -0.2865998446974668,
          0.7351946754193903,
          0.26892373312328044,
          -0.03459316644854414,
          -0.6143700167301126,
          0.17071019201725304,
          -0.0366846300414681,
          1.0880302221189297,
          0.5125433152558404,
          -0.782099891747871,
          -0.3533760339736502,
          -0.46516501879855754,
          0.12884661492640698,
          0.2323477407384949,
          0.5058158534459166,
          0.6402406507938537,
          1.0628002625832953,
          -0.03295088627194424,
          -0.3299018369496173,
          0.6886028723352209,
          -0.26612643164964883,
          -0.277074206897853,
          0.5367403154311514,
          0.6169773350004931,
          -0.2202085920249885,
          -0.34239035689771924,
          -0.7645913482599659,
          0.025983380025066984,
          -0.6347333844811693,
          -0.04776478537191128,
          -0.042988523719962785,
          0.15330552531225974,
          0.3270209024163598,
          -0.532043053099823,
          -0.008285620577000693,
          0.3735054249814963,
          -0.38049641889640695,
          0.2137630695916284,
          -0.2730879883118649,
          1.0947955876079103,
          0.49392141209791524,
          -0.5611573286288178,
          -0.3858999157901329,
          0.31199904286759084,
          0.3512981904392068,
          -0.4509299205708915,
          -0.5419394690579558,
          0.052435958815840636,
          0.1726206847587622,
          0.4087828602782257,
          -0.539904934673703,
          0.0927905739415257,
          0.0051298331070923865,
          0.3791363612068291,
          -0.1413303941259862,
          -0.4589651706189222,
          0.18873498478371967,
          0.36743621152192607,
          0.405365044194121,
          0.5096938648262748,
          -0.5754756958131194,
          0.26545467701230724,
          -0.5601684412087476,
          0.14471496526002964,
          -0.16753753075498115,
          0.3197354331513046,
          -0.30939889113964925,
          -0.30859373769474957,
          -0.7412849591573233,
          -0.1844651955879167,
          0.27791466997642195,
          -0.0537350570994313,
          0.23392617431439972
         ]
        }
       ],
       "layout": {
        "scene": {
         "xaxis": {
          "title": {
           "text": "PC1"
          }
         },
         "yaxis": {
          "title": {
           "text": "PC2"
          }
         },
         "zaxis": {
          "title": {
           "text": "PC3"
          }
         }
        },
        "template": {
         "data": {
          "bar": [
           {
            "error_x": {
             "color": "#2a3f5f"
            },
            "error_y": {
             "color": "#2a3f5f"
            },
            "marker": {
             "line": {
              "color": "#E5ECF6",
              "width": 0.5
             },
             "pattern": {
              "fillmode": "overlay",
              "size": 10,
              "solidity": 0.2
             }
            },
            "type": "bar"
           }
          ],
          "barpolar": [
           {
            "marker": {
             "line": {
              "color": "#E5ECF6",
              "width": 0.5
             },
             "pattern": {
              "fillmode": "overlay",
              "size": 10,
              "solidity": 0.2
             }
            },
            "type": "barpolar"
           }
          ],
          "carpet": [
           {
            "aaxis": {
             "endlinecolor": "#2a3f5f",
             "gridcolor": "white",
             "linecolor": "white",
             "minorgridcolor": "white",
             "startlinecolor": "#2a3f5f"
            },
            "baxis": {
             "endlinecolor": "#2a3f5f",
             "gridcolor": "white",
             "linecolor": "white",
             "minorgridcolor": "white",
             "startlinecolor": "#2a3f5f"
            },
            "type": "carpet"
           }
          ],
          "choropleth": [
           {
            "colorbar": {
             "outlinewidth": 0,
             "ticks": ""
            },
            "type": "choropleth"
           }
          ],
          "contour": [
           {
            "colorbar": {
             "outlinewidth": 0,
             "ticks": ""
            },
            "colorscale": [
             [
              0,
              "#0d0887"
             ],
             [
              0.1111111111111111,
              "#46039f"
             ],
             [
              0.2222222222222222,
              "#7201a8"
             ],
             [
              0.3333333333333333,
              "#9c179e"
             ],
             [
              0.4444444444444444,
              "#bd3786"
             ],
             [
              0.5555555555555556,
              "#d8576b"
             ],
             [
              0.6666666666666666,
              "#ed7953"
             ],
             [
              0.7777777777777778,
              "#fb9f3a"
             ],
             [
              0.8888888888888888,
              "#fdca26"
             ],
             [
              1,
              "#f0f921"
             ]
            ],
            "type": "contour"
           }
          ],
          "contourcarpet": [
           {
            "colorbar": {
             "outlinewidth": 0,
             "ticks": ""
            },
            "type": "contourcarpet"
           }
          ],
          "heatmap": [
           {
            "colorbar": {
             "outlinewidth": 0,
             "ticks": ""
            },
            "colorscale": [
             [
              0,
              "#0d0887"
             ],
             [
              0.1111111111111111,
              "#46039f"
             ],
             [
              0.2222222222222222,
              "#7201a8"
             ],
             [
              0.3333333333333333,
              "#9c179e"
             ],
             [
              0.4444444444444444,
              "#bd3786"
             ],
             [
              0.5555555555555556,
              "#d8576b"
             ],
             [
              0.6666666666666666,
              "#ed7953"
             ],
             [
              0.7777777777777778,
              "#fb9f3a"
             ],
             [
              0.8888888888888888,
              "#fdca26"
             ],
             [
              1,
              "#f0f921"
             ]
            ],
            "type": "heatmap"
           }
          ],
          "heatmapgl": [
           {
            "colorbar": {
             "outlinewidth": 0,
             "ticks": ""
            },
            "colorscale": [
             [
              0,
              "#0d0887"
             ],
             [
              0.1111111111111111,
              "#46039f"
             ],
             [
              0.2222222222222222,
              "#7201a8"
             ],
             [
              0.3333333333333333,
              "#9c179e"
             ],
             [
              0.4444444444444444,
              "#bd3786"
             ],
             [
              0.5555555555555556,
              "#d8576b"
             ],
             [
              0.6666666666666666,
              "#ed7953"
             ],
             [
              0.7777777777777778,
              "#fb9f3a"
             ],
             [
              0.8888888888888888,
              "#fdca26"
             ],
             [
              1,
              "#f0f921"
             ]
            ],
            "type": "heatmapgl"
           }
          ],
          "histogram": [
           {
            "marker": {
             "pattern": {
              "fillmode": "overlay",
              "size": 10,
              "solidity": 0.2
             }
            },
            "type": "histogram"
           }
          ],
          "histogram2d": [
           {
            "colorbar": {
             "outlinewidth": 0,
             "ticks": ""
            },
            "colorscale": [
             [
              0,
              "#0d0887"
             ],
             [
              0.1111111111111111,
              "#46039f"
             ],
             [
              0.2222222222222222,
              "#7201a8"
             ],
             [
              0.3333333333333333,
              "#9c179e"
             ],
             [
              0.4444444444444444,
              "#bd3786"
             ],
             [
              0.5555555555555556,
              "#d8576b"
             ],
             [
              0.6666666666666666,
              "#ed7953"
             ],
             [
              0.7777777777777778,
              "#fb9f3a"
             ],
             [
              0.8888888888888888,
              "#fdca26"
             ],
             [
              1,
              "#f0f921"
             ]
            ],
            "type": "histogram2d"
           }
          ],
          "histogram2dcontour": [
           {
            "colorbar": {
             "outlinewidth": 0,
             "ticks": ""
            },
            "colorscale": [
             [
              0,
              "#0d0887"
             ],
             [
              0.1111111111111111,
              "#46039f"
             ],
             [
              0.2222222222222222,
              "#7201a8"
             ],
             [
              0.3333333333333333,
              "#9c179e"
             ],
             [
              0.4444444444444444,
              "#bd3786"
             ],
             [
              0.5555555555555556,
              "#d8576b"
             ],
             [
              0.6666666666666666,
              "#ed7953"
             ],
             [
              0.7777777777777778,
              "#fb9f3a"
             ],
             [
              0.8888888888888888,
              "#fdca26"
             ],
             [
              1,
              "#f0f921"
             ]
            ],
            "type": "histogram2dcontour"
           }
          ],
          "mesh3d": [
           {
            "colorbar": {
             "outlinewidth": 0,
             "ticks": ""
            },
            "type": "mesh3d"
           }
          ],
          "parcoords": [
           {
            "line": {
             "colorbar": {
              "outlinewidth": 0,
              "ticks": ""
             }
            },
            "type": "parcoords"
           }
          ],
          "pie": [
           {
            "automargin": true,
            "type": "pie"
           }
          ],
          "scatter": [
           {
            "fillpattern": {
             "fillmode": "overlay",
             "size": 10,
             "solidity": 0.2
            },
            "type": "scatter"
           }
          ],
          "scatter3d": [
           {
            "line": {
             "colorbar": {
              "outlinewidth": 0,
              "ticks": ""
             }
            },
            "marker": {
             "colorbar": {
              "outlinewidth": 0,
              "ticks": ""
             }
            },
            "type": "scatter3d"
           }
          ],
          "scattercarpet": [
           {
            "marker": {
             "colorbar": {
              "outlinewidth": 0,
              "ticks": ""
             }
            },
            "type": "scattercarpet"
           }
          ],
          "scattergeo": [
           {
            "marker": {
             "colorbar": {
              "outlinewidth": 0,
              "ticks": ""
             }
            },
            "type": "scattergeo"
           }
          ],
          "scattergl": [
           {
            "marker": {
             "colorbar": {
              "outlinewidth": 0,
              "ticks": ""
             }
            },
            "type": "scattergl"
           }
          ],
          "scattermapbox": [
           {
            "marker": {
             "colorbar": {
              "outlinewidth": 0,
              "ticks": ""
             }
            },
            "type": "scattermapbox"
           }
          ],
          "scatterpolar": [
           {
            "marker": {
             "colorbar": {
              "outlinewidth": 0,
              "ticks": ""
             }
            },
            "type": "scatterpolar"
           }
          ],
          "scatterpolargl": [
           {
            "marker": {
             "colorbar": {
              "outlinewidth": 0,
              "ticks": ""
             }
            },
            "type": "scatterpolargl"
           }
          ],
          "scatterternary": [
           {
            "marker": {
             "colorbar": {
              "outlinewidth": 0,
              "ticks": ""
             }
            },
            "type": "scatterternary"
           }
          ],
          "surface": [
           {
            "colorbar": {
             "outlinewidth": 0,
             "ticks": ""
            },
            "colorscale": [
             [
              0,
              "#0d0887"
             ],
             [
              0.1111111111111111,
              "#46039f"
             ],
             [
              0.2222222222222222,
              "#7201a8"
             ],
             [
              0.3333333333333333,
              "#9c179e"
             ],
             [
              0.4444444444444444,
              "#bd3786"
             ],
             [
              0.5555555555555556,
              "#d8576b"
             ],
             [
              0.6666666666666666,
              "#ed7953"
             ],
             [
              0.7777777777777778,
              "#fb9f3a"
             ],
             [
              0.8888888888888888,
              "#fdca26"
             ],
             [
              1,
              "#f0f921"
             ]
            ],
            "type": "surface"
           }
          ],
          "table": [
           {
            "cells": {
             "fill": {
              "color": "#EBF0F8"
             },
             "line": {
              "color": "white"
             }
            },
            "header": {
             "fill": {
              "color": "#C8D4E3"
             },
             "line": {
              "color": "white"
             }
            },
            "type": "table"
           }
          ]
         },
         "layout": {
          "annotationdefaults": {
           "arrowcolor": "#2a3f5f",
           "arrowhead": 0,
           "arrowwidth": 1
          },
          "autotypenumbers": "strict",
          "coloraxis": {
           "colorbar": {
            "outlinewidth": 0,
            "ticks": ""
           }
          },
          "colorscale": {
           "diverging": [
            [
             0,
             "#8e0152"
            ],
            [
             0.1,
             "#c51b7d"
            ],
            [
             0.2,
             "#de77ae"
            ],
            [
             0.3,
             "#f1b6da"
            ],
            [
             0.4,
             "#fde0ef"
            ],
            [
             0.5,
             "#f7f7f7"
            ],
            [
             0.6,
             "#e6f5d0"
            ],
            [
             0.7,
             "#b8e186"
            ],
            [
             0.8,
             "#7fbc41"
            ],
            [
             0.9,
             "#4d9221"
            ],
            [
             1,
             "#276419"
            ]
           ],
           "sequential": [
            [
             0,
             "#0d0887"
            ],
            [
             0.1111111111111111,
             "#46039f"
            ],
            [
             0.2222222222222222,
             "#7201a8"
            ],
            [
             0.3333333333333333,
             "#9c179e"
            ],
            [
             0.4444444444444444,
             "#bd3786"
            ],
            [
             0.5555555555555556,
             "#d8576b"
            ],
            [
             0.6666666666666666,
             "#ed7953"
            ],
            [
             0.7777777777777778,
             "#fb9f3a"
            ],
            [
             0.8888888888888888,
             "#fdca26"
            ],
            [
             1,
             "#f0f921"
            ]
           ],
           "sequentialminus": [
            [
             0,
             "#0d0887"
            ],
            [
             0.1111111111111111,
             "#46039f"
            ],
            [
             0.2222222222222222,
             "#7201a8"
            ],
            [
             0.3333333333333333,
             "#9c179e"
            ],
            [
             0.4444444444444444,
             "#bd3786"
            ],
            [
             0.5555555555555556,
             "#d8576b"
            ],
            [
             0.6666666666666666,
             "#ed7953"
            ],
            [
             0.7777777777777778,
             "#fb9f3a"
            ],
            [
             0.8888888888888888,
             "#fdca26"
            ],
            [
             1,
             "#f0f921"
            ]
           ]
          },
          "colorway": [
           "#636efa",
           "#EF553B",
           "#00cc96",
           "#ab63fa",
           "#FFA15A",
           "#19d3f3",
           "#FF6692",
           "#B6E880",
           "#FF97FF",
           "#FECB52"
          ],
          "font": {
           "color": "#2a3f5f"
          },
          "geo": {
           "bgcolor": "white",
           "lakecolor": "white",
           "landcolor": "#E5ECF6",
           "showlakes": true,
           "showland": true,
           "subunitcolor": "white"
          },
          "hoverlabel": {
           "align": "left"
          },
          "hovermode": "closest",
          "mapbox": {
           "style": "light"
          },
          "paper_bgcolor": "white",
          "plot_bgcolor": "#E5ECF6",
          "polar": {
           "angularaxis": {
            "gridcolor": "white",
            "linecolor": "white",
            "ticks": ""
           },
           "bgcolor": "#E5ECF6",
           "radialaxis": {
            "gridcolor": "white",
            "linecolor": "white",
            "ticks": ""
           }
          },
          "scene": {
           "xaxis": {
            "backgroundcolor": "#E5ECF6",
            "gridcolor": "white",
            "gridwidth": 2,
            "linecolor": "white",
            "showbackground": true,
            "ticks": "",
            "zerolinecolor": "white"
           },
           "yaxis": {
            "backgroundcolor": "#E5ECF6",
            "gridcolor": "white",
            "gridwidth": 2,
            "linecolor": "white",
            "showbackground": true,
            "ticks": "",
            "zerolinecolor": "white"
           },
           "zaxis": {
            "backgroundcolor": "#E5ECF6",
            "gridcolor": "white",
            "gridwidth": 2,
            "linecolor": "white",
            "showbackground": true,
            "ticks": "",
            "zerolinecolor": "white"
           }
          },
          "shapedefaults": {
           "line": {
            "color": "#2a3f5f"
           }
          },
          "ternary": {
           "aaxis": {
            "gridcolor": "white",
            "linecolor": "white",
            "ticks": ""
           },
           "baxis": {
            "gridcolor": "white",
            "linecolor": "white",
            "ticks": ""
           },
           "bgcolor": "#E5ECF6",
           "caxis": {
            "gridcolor": "white",
            "linecolor": "white",
            "ticks": ""
           }
          },
          "title": {
           "x": 0.05
          },
          "xaxis": {
           "automargin": true,
           "gridcolor": "white",
           "linecolor": "white",
           "ticks": "",
           "title": {
            "standoff": 15
           },
           "zerolinecolor": "white",
           "zerolinewidth": 2
          },
          "yaxis": {
           "automargin": true,
           "gridcolor": "white",
           "linecolor": "white",
           "ticks": "",
           "title": {
            "standoff": 15
           },
           "zerolinecolor": "white",
           "zerolinewidth": 2
          }
         }
        },
        "title": {
         "text": "Visualization of 3 first principal components"
        },
        "xaxis": {
         "range": [
          -2,
          2
         ]
        }
       }
      },
      "text/html": [
       "<div>                            <div id=\"5b5083c7-6980-4ee9-a7dc-7e6775fdba79\" class=\"plotly-graph-div\" style=\"height:525px; width:100%;\"></div>            <script type=\"text/javascript\">                require([\"plotly\"], function(Plotly) {                    window.PLOTLYENV=window.PLOTLYENV || {};                                    if (document.getElementById(\"5b5083c7-6980-4ee9-a7dc-7e6775fdba79\")) {                    Plotly.newPlot(                        \"5b5083c7-6980-4ee9-a7dc-7e6775fdba79\",                        [{\"marker\":{\"color\":[5,4,1,1,3,5,3,0,0,0,1,2,6,6,5,4,1,4,1,0,3,1,6,6,0,5,5,5,3,1,0,5,4,6,4,0,1,1,6,6,4,1,3,4,5,2,6,4,1,4,5,5,0,1,1,2,0,5,6,4,5,0,0,1,5,5,1,0,3,3,0,6,5,6,1,0,1,1,1,0,4,1,1,4,2,6,4,3,6,4,6,5,5,6,5,5,5,5,3,3,0,1,0,2,1,4,2,0,3,1,3,6,6,2,3,4,1,2,6,5,1,4,0,3,1,0,5,6,1,1,3,1,4,3,4,5,6,0,5,1,2,3,0,5,4,1,2,6,5,1,5,3,4,6,2,2,0,1,2,1,1,2,6,1,1,5,0,5,0,0,4,3,5,0,6,1,3,1,2,6,5,1,4,6,5,5,3,4,6,5,3,0,4,3,1,3,4,3,6,5,3,5,3,1,3,1,0,5,1,4,0,3],\"size\":4},\"mode\":\"markers\",\"x\":[-0.031038932042960286,0.62632559408578,-0.39123849670875455,-0.17725425359008365,-0.14401555589258017,0.34491299552408966,-0.11867315454035833,1.1476269781901565,0.8162321765209902,0.9753083269322645,-0.2914858265630624,0.8124437206193292,-0.8815972763909874,-0.4991847206444981,0.009934163757424811,0.6194011895222268,-0.20669961903445955,0.44478258375838353,-0.3957459124801601,1.1526783294566314,-0.3215324316479405,-0.5861227510260191,-0.7972134166599167,-0.9190018631467731,0.9371338526756754,0.16911039870312417,-0.15680896691619176,-0.03776349545631553,-0.41438994228073395,-0.29643207658819454,1.0052829287969904,-0.13120622807944257,0.576027095890129,-0.8113438410110717,0.2324535103575186,1.0011164544836189,-0.20837327348871382,-0.46129046689319264,-0.8718684402683005,-0.7135158279309199,0.5680411049702125,-0.549298406751871,-0.1446501178297497,0.18774598035421533,-0.15920079169711587,0.14982025236114382,-0.7521802675842048,0.5932775468554835,-0.5914934343965558,0.3682053306665162,0.17517453863289079,-0.24516939658628173,1.0089537164349722,-0.3962783424699598,-0.48208021245939703,0.5688944527235925,0.796052197839941,-0.06682419879269408,-0.9816186156051055,0.5957025555357309,0.0102951154708659,0.947444680599988,0.9231715283937565,-0.3204102976278802,0.11211270846967457,0.06084335749142585,-0.5119559831735517,0.7330060189365095,-0.19293272459895353,-0.44327705573437176,0.9989819017131976,-0.7496513929904911,-0.07406315380894643,-0.4801038389750723,-0.3621040661003039,0.8589070107771067,-0.37087607475283724,-0.31593096467456355,-0.5288001461584196,0.9666944443549795,0.260292887761879,-0.32946085898298605,-0.27955831485746185,0.36827483330241184,0.1929726641960478,-0.9854787467439305,0.0685521189177999,-0.4055218710468385,-0.8917219696412622,0.754059078692993,-0.8218815689006984,0.3443980601865749,-0.07066495176221321,-0.8056004831883908,0.13510235012204871,0.18678813990193135,-0.04983574759767677,0.009493734444033218,-0.4672354903126228,-0.33227848285080575,0.8273009749697966,-0.5041332465555722,0.9642625473304285,0.5310358018543307,-0.4517743025682668,0.5641869691383948,0.2688141170602944,0.939468091037014,-0.35108901312679625,-0.03773856910331203,-0.34469425240852847,-0.7188160017056203,-0.6203917778440753,0.143738524967488,-0.5322317121270571,0.4250842139478825,-0.39013373753383707,0.16697853371758198,-0.6676652686892695,0.0836118658371536,-0.48583316111804253,0.5226517025246279,0.9804665718487588,-0.36592763920091914,-0.5605712385950062,0.9055676434544669,0.2534285546335452,-0.7471781390409241,-0.18157110813106286,-0.12437823475406427,-0.31966117283305295,-0.5493073294698441,0.40099718343913954,-0.09895968685799206,0.8178096318603444,-0.11871727942314275,-0.9604875342462116,0.9413521900655774,0.04040730716834618,-0.4618378119181831,0.5585052641009562,-0.18056648276788675,0.9430592993946821,0.0977648351319467,0.5020199194784905,-0.05276786456234082,0.14015772795539305,-0.7046205551936863,-0.15812881719570893,-0.3726098576326786,0.28880687281429096,-0.4198346085870391,0.544476631110459,-0.7936257693746721,0.6334097514869252,0.03659090500704357,0.8122412670247163,-0.33303673846189724,0.4869281550595095,-0.43900359393376753,-0.4403282261027582,0.2268191203730359,-0.6769591982184529,-0.1659755793822212,-0.5216766941894054,-0.1866340119321867,1.028952982765849,0.26874073759491074,0.9418900324313176,0.8913249568660483,0.2421894898200703,0.10781336197340957,0.04752148678878592,1.0304635636380237,-0.9426569062797756,-0.5610475994913219,-0.3285963951651685,-0.43749652956491597,0.1593591005399126,-0.729176929615243,0.15242716913146487,-0.40005521440165126,0.44197667269515095,-0.9663040915986756,0.2928054467029232,0.18972819014755732,-0.41673277312005674,0.3853148568893936,-0.8026095657052418,0.22635527398699684,-0.3324302569595074,1.0186149155141613,0.5856150694103477,-0.5474129782198565,-0.5196125521340197,-0.26387744568713883,0.6480682928354328,-0.37570116140229337,-0.8128392427353792,0.10816939707169262,-0.1849099620318888,0.014766052724218062,-0.37638249606995217,-0.34063244441850354,-0.062063721570195234,-0.474726567601984,0.6669796197100696,-0.141899647335666,-0.1523591875576716,0.3810465336319988,0.856769060907193,-0.31853842556537865],\"y\":[0.3361607732258627,-0.6829726319057086,-0.5299639913310975,-0.4866328849382064,0.8398206579662826,0.3986583109710169,0.868041904739427,0.19990980241530504,0.09186206596163073,0.1449960776408087,-0.4978831283882647,0.6899103030329108,0.007443915577189133,0.020397077727702453,0.3054674775683474,-0.692681836936735,-0.500555905685824,-0.7495920427265321,-0.5220194911975311,0.16519629675926445,0.8172793445380763,-0.5892636892573142,-0.016481585418941742,-0.018512997871460476,0.1131082634228525,0.3862805047038544,0.29129241368364744,0.2945586978588096,0.8089127737900694,-0.4730917237872391,0.12734922193200374,0.28853865567951437,-0.6555820387726157,-0.01436870158917607,-0.7766649409533635,0.12222690130955026,-0.5093238096375025,-0.5265534983052177,-0.06566084840445238,-0.006596072885715043,-0.6681619012917785,-0.5426421242543048,0.9089763375726082,-0.7454330945381127,0.2819791464790191,-0.16667301218681274,-0.06405232885031115,-0.6830583219977164,-0.5375374433105287,-0.7423289683850379,0.3307392650612654,0.26682979247098526,0.13227724399256283,-0.5318005308393638,-0.5565899481146229,0.6747723976325243,0.06359356901559512,0.29581809526992403,-0.0129303897914484,-0.7163206907188577,0.26116771474229816,0.0561568206719532,0.15604829608119886,-0.5305207649368783,0.3309830516613833,0.3291731933051906,-0.5207240157051851,0.08496041304669025,0.851515218057703,0.7991375281207229,0.1458396654322939,0.033039173211776234,0.2799914958007474,0.06307678575348824,-0.4882477259060926,0.10193398565453135,-0.539280619806833,-0.5253754962681211,-0.5616399580320436,0.14441894178432813,-0.7742486493827392,-0.5463854407685306,-0.5142617575441594,-0.7388738579511412,-0.1729946790209937,-0.08512469079001062,-0.8003440367910364,0.8031621817935083,-0.08112519472800572,-0.6562579035817951,0.01433002918580694,0.3394539706536003,0.3578023498287173,0.005292996478040282,0.35296357165938014,0.3444093224484511,0.3494665643164619,0.2840793894085721,0.8183958866156738,0.8250170497738202,0.08827311871593882,-0.5439623083465046,0.06950101775428713,0.6085335335607548,-0.49884332906073453,-0.7030830530099772,0.6191191255573306,0.10308235634308334,0.8508098310314258,-0.4754799990294639,0.7971671208602514,-0.019022596751744735,0.060221313280625174,-0.19056765489726166,0.7561678242141565,-0.7421698482829401,-0.467558286446128,-0.17648434449773437,-0.006698961284790224,0.2899277811943712,-0.518576250372813,-0.7617043679043146,0.11436339873301955,0.8317583831103641,-0.5625512973297173,0.08988272172604585,0.35966834370052686,0.02734098382979052,-0.5018930699103392,-0.5004007035061083,0.8515903770523527,-0.5671099706021498,-0.7232047497980492,0.8736750846043504,-0.6750970556490661,0.3062347849025567,-0.0670636803983229,0.14613664796506887,0.3001366855212446,-0.5525876509265271,0.6600713799597424,0.847986707100848,0.1028476027647085,0.29270485279428693,-0.7019863491133633,-0.45424033242650935,-0.19968840361455814,-0.012420733421766219,0.32255622998438516,-0.5301873563088865,0.3425287122462889,0.8259483681631206,-0.7375941914459772,0.02964658042065095,0.6283321901555484,-0.16124264418412312,0.14518964195902215,-0.5234303869243749,0.6065147476690181,-0.5455769959832406,-0.5443842827424109,0.5506607420936684,0.0007521992620137044,-0.49825156230830436,-0.5198750181756062,0.26094137269772905,0.17338684766036852,0.3303515297532739,0.07114725065712461,0.12297835180768259,-0.7708715412742689,0.8782070796542124,0.29353760695444936,0.11045843987782933,-0.03387595987711221,-0.5497533557864406,0.8114511560410633,-0.5281741523123874,-0.18843454590759684,-0.023098981695746153,0.3580781012163397,-0.4933631957243038,-0.720928034826973,-0.07841610472156836,0.3581766550342896,0.368744535742272,0.8278312462718891,-0.6785265080174887,-0.04520580774850648,0.3662316208828289,0.8715691914694635,0.12610608134190524,-0.6761840765916957,0.8050731197339136,-0.5867352010864426,0.8776195893127875,-0.6887319668372122,0.46324258763630927,0.0036962528765894917,0.3300683132404217,0.8142191979271975,0.28196110042282296,0.7981393954617427,-0.530434503679426,0.9194807963571564,-0.5713289289949424,0.0900545203649227,0.3318422502268746,-0.47014144519432705,-0.7426410130843177,0.09348792986947421,0.8354927312911853],\"z\":[-0.8442630247703634,0.3875979351573125,-0.27051472878167016,-0.11946310725748696,0.29287222241191535,-0.4027038017219085,0.2798942237630612,0.040499774278677445,-0.0471495180607052,-0.0002649934528380794,-0.2991360431456641,0.6977492411477494,0.40795262649355307,0.6647063459531958,-0.6239656567477221,0.36368673645772576,-0.21532728926233402,0.2142775361490978,-0.2596397750222572,0.061741857166541354,0.13790519168059573,-0.41084676775683243,0.4958319500664618,0.38188335882339786,-0.02101518019552214,-0.7063992346407048,-0.7344680100789723,-0.6325941683869749,0.1283271501657098,-0.2881156050203285,-0.003257952746712249,-0.7252250645858473,0.29974209030544535,0.4753628940533204,-0.003987816317954319,0.002111492272003668,-0.31224353574596203,-0.40588689003763795,0.44310805593360153,0.5892420449325894,0.3642529051893774,-0.37072142632578375,0.30144774012181674,0.08904833725834485,-0.8188378122329962,1.0843553707594964,0.5289332941133744,0.3651584598916326,-0.4506454933388473,0.2755312370058147,-0.4987433549721606,-0.851129479806262,0.0066360122970136465,-0.33181544099560484,-0.29463594779537605,0.7455115269254082,-0.16759480164041496,-0.782514492702116,0.2962345020910287,0.35393703063592835,-0.5652303887242714,-0.0445442542803238,-0.1839267549014308,-0.17214185901381654,-0.5774417879980178,-0.5180592868438053,-0.34851213338850257,-0.10411596764164592,0.2134391849803326,0.11930437926055765,-0.0051837461410334015,0.5352112127119981,-0.6587071307876693,0.6828822930294288,-0.21763573434718128,-0.2065698620044132,-0.19919303741467537,-0.18238039065383652,-0.4668789263432654,0.014633896834734773,0.18111470985653144,-0.16869706034885998,-0.13794722409555824,0.2800102179326133,0.9994195040076168,0.32691160324904883,-0.05012484628412233,0.12648196154068528,0.4379509759811292,0.4064880328701277,0.5012947020835699,-0.5240568103759998,-0.7665160475190786,0.41831228901610307,-0.7997221062273644,-0.4837353408434305,-0.7637540755925365,-0.5580359917142278,-0.03453172375052494,0.09265970148294451,-0.054106487511015114,-0.363286882911866,-0.039589059534385386,0.615904030274843,-0.5029343296800902,0.3417761167094625,0.5348980565023436,-0.020183243197353026,0.08113365730532965,-0.16426413140606658,0.2130461673813892,0.49599864420500545,0.4240938952606155,1.0856783408611779,-0.010373775067669096,0.229189838580905,-0.2242038926989012,1.0876192597656877,0.5250036979092226,-0.5259899039899341,-0.33388137897662806,0.30450656111862895,-0.015034066006568656,0.06649634767858247,-0.38596398224713246,-0.048695998631311736,-0.4582452715441062,0.5211243559656502,-0.27363801516300357,-0.09629465730614327,0.23879131437303588,-0.37660951506178614,0.28437011286098357,0.3061974514104482,0.4102518041580463,-0.7225665488665718,0.35849499794756606,-0.023986519639090483,-0.6165518362942415,-0.2865998446974668,0.7351946754193903,0.26892373312328044,-0.03459316644854414,-0.6143700167301126,0.17071019201725304,-0.0366846300414681,1.0880302221189297,0.5125433152558404,-0.782099891747871,-0.3533760339736502,-0.46516501879855754,0.12884661492640698,0.2323477407384949,0.5058158534459166,0.6402406507938537,1.0628002625832953,-0.03295088627194424,-0.3299018369496173,0.6886028723352209,-0.26612643164964883,-0.277074206897853,0.5367403154311514,0.6169773350004931,-0.2202085920249885,-0.34239035689771924,-0.7645913482599659,0.025983380025066984,-0.6347333844811693,-0.04776478537191128,-0.042988523719962785,0.15330552531225974,0.3270209024163598,-0.532043053099823,-0.008285620577000693,0.3735054249814963,-0.38049641889640695,0.2137630695916284,-0.2730879883118649,1.0947955876079103,0.49392141209791524,-0.5611573286288178,-0.3858999157901329,0.31199904286759084,0.3512981904392068,-0.4509299205708915,-0.5419394690579558,0.052435958815840636,0.1726206847587622,0.4087828602782257,-0.539904934673703,0.0927905739415257,0.0051298331070923865,0.3791363612068291,-0.1413303941259862,-0.4589651706189222,0.18873498478371967,0.36743621152192607,0.405365044194121,0.5096938648262748,-0.5754756958131194,0.26545467701230724,-0.5601684412087476,0.14471496526002964,-0.16753753075498115,0.3197354331513046,-0.30939889113964925,-0.30859373769474957,-0.7412849591573233,-0.1844651955879167,0.27791466997642195,-0.0537350570994313,0.23392617431439972],\"type\":\"scatter3d\"}],                        {\"template\":{\"data\":{\"histogram2dcontour\":[{\"type\":\"histogram2dcontour\",\"colorbar\":{\"outlinewidth\":0,\"ticks\":\"\"},\"colorscale\":[[0.0,\"#0d0887\"],[0.1111111111111111,\"#46039f\"],[0.2222222222222222,\"#7201a8\"],[0.3333333333333333,\"#9c179e\"],[0.4444444444444444,\"#bd3786\"],[0.5555555555555556,\"#d8576b\"],[0.6666666666666666,\"#ed7953\"],[0.7777777777777778,\"#fb9f3a\"],[0.8888888888888888,\"#fdca26\"],[1.0,\"#f0f921\"]]}],\"choropleth\":[{\"type\":\"choropleth\",\"colorbar\":{\"outlinewidth\":0,\"ticks\":\"\"}}],\"histogram2d\":[{\"type\":\"histogram2d\",\"colorbar\":{\"outlinewidth\":0,\"ticks\":\"\"},\"colorscale\":[[0.0,\"#0d0887\"],[0.1111111111111111,\"#46039f\"],[0.2222222222222222,\"#7201a8\"],[0.3333333333333333,\"#9c179e\"],[0.4444444444444444,\"#bd3786\"],[0.5555555555555556,\"#d8576b\"],[0.6666666666666666,\"#ed7953\"],[0.7777777777777778,\"#fb9f3a\"],[0.8888888888888888,\"#fdca26\"],[1.0,\"#f0f921\"]]}],\"heatmap\":[{\"type\":\"heatmap\",\"colorbar\":{\"outlinewidth\":0,\"ticks\":\"\"},\"colorscale\":[[0.0,\"#0d0887\"],[0.1111111111111111,\"#46039f\"],[0.2222222222222222,\"#7201a8\"],[0.3333333333333333,\"#9c179e\"],[0.4444444444444444,\"#bd3786\"],[0.5555555555555556,\"#d8576b\"],[0.6666666666666666,\"#ed7953\"],[0.7777777777777778,\"#fb9f3a\"],[0.8888888888888888,\"#fdca26\"],[1.0,\"#f0f921\"]]}],\"heatmapgl\":[{\"type\":\"heatmapgl\",\"colorbar\":{\"outlinewidth\":0,\"ticks\":\"\"},\"colorscale\":[[0.0,\"#0d0887\"],[0.1111111111111111,\"#46039f\"],[0.2222222222222222,\"#7201a8\"],[0.3333333333333333,\"#9c179e\"],[0.4444444444444444,\"#bd3786\"],[0.5555555555555556,\"#d8576b\"],[0.6666666666666666,\"#ed7953\"],[0.7777777777777778,\"#fb9f3a\"],[0.8888888888888888,\"#fdca26\"],[1.0,\"#f0f921\"]]}],\"contourcarpet\":[{\"type\":\"contourcarpet\",\"colorbar\":{\"outlinewidth\":0,\"ticks\":\"\"}}],\"contour\":[{\"type\":\"contour\",\"colorbar\":{\"outlinewidth\":0,\"ticks\":\"\"},\"colorscale\":[[0.0,\"#0d0887\"],[0.1111111111111111,\"#46039f\"],[0.2222222222222222,\"#7201a8\"],[0.3333333333333333,\"#9c179e\"],[0.4444444444444444,\"#bd3786\"],[0.5555555555555556,\"#d8576b\"],[0.6666666666666666,\"#ed7953\"],[0.7777777777777778,\"#fb9f3a\"],[0.8888888888888888,\"#fdca26\"],[1.0,\"#f0f921\"]]}],\"surface\":[{\"type\":\"surface\",\"colorbar\":{\"outlinewidth\":0,\"ticks\":\"\"},\"colorscale\":[[0.0,\"#0d0887\"],[0.1111111111111111,\"#46039f\"],[0.2222222222222222,\"#7201a8\"],[0.3333333333333333,\"#9c179e\"],[0.4444444444444444,\"#bd3786\"],[0.5555555555555556,\"#d8576b\"],[0.6666666666666666,\"#ed7953\"],[0.7777777777777778,\"#fb9f3a\"],[0.8888888888888888,\"#fdca26\"],[1.0,\"#f0f921\"]]}],\"mesh3d\":[{\"type\":\"mesh3d\",\"colorbar\":{\"outlinewidth\":0,\"ticks\":\"\"}}],\"scatter\":[{\"fillpattern\":{\"fillmode\":\"overlay\",\"size\":10,\"solidity\":0.2},\"type\":\"scatter\"}],\"parcoords\":[{\"type\":\"parcoords\",\"line\":{\"colorbar\":{\"outlinewidth\":0,\"ticks\":\"\"}}}],\"scatterpolargl\":[{\"type\":\"scatterpolargl\",\"marker\":{\"colorbar\":{\"outlinewidth\":0,\"ticks\":\"\"}}}],\"bar\":[{\"error_x\":{\"color\":\"#2a3f5f\"},\"error_y\":{\"color\":\"#2a3f5f\"},\"marker\":{\"line\":{\"color\":\"#E5ECF6\",\"width\":0.5},\"pattern\":{\"fillmode\":\"overlay\",\"size\":10,\"solidity\":0.2}},\"type\":\"bar\"}],\"scattergeo\":[{\"type\":\"scattergeo\",\"marker\":{\"colorbar\":{\"outlinewidth\":0,\"ticks\":\"\"}}}],\"scatterpolar\":[{\"type\":\"scatterpolar\",\"marker\":{\"colorbar\":{\"outlinewidth\":0,\"ticks\":\"\"}}}],\"histogram\":[{\"marker\":{\"pattern\":{\"fillmode\":\"overlay\",\"size\":10,\"solidity\":0.2}},\"type\":\"histogram\"}],\"scattergl\":[{\"type\":\"scattergl\",\"marker\":{\"colorbar\":{\"outlinewidth\":0,\"ticks\":\"\"}}}],\"scatter3d\":[{\"type\":\"scatter3d\",\"line\":{\"colorbar\":{\"outlinewidth\":0,\"ticks\":\"\"}},\"marker\":{\"colorbar\":{\"outlinewidth\":0,\"ticks\":\"\"}}}],\"scattermapbox\":[{\"type\":\"scattermapbox\",\"marker\":{\"colorbar\":{\"outlinewidth\":0,\"ticks\":\"\"}}}],\"scatterternary\":[{\"type\":\"scatterternary\",\"marker\":{\"colorbar\":{\"outlinewidth\":0,\"ticks\":\"\"}}}],\"scattercarpet\":[{\"type\":\"scattercarpet\",\"marker\":{\"colorbar\":{\"outlinewidth\":0,\"ticks\":\"\"}}}],\"carpet\":[{\"aaxis\":{\"endlinecolor\":\"#2a3f5f\",\"gridcolor\":\"white\",\"linecolor\":\"white\",\"minorgridcolor\":\"white\",\"startlinecolor\":\"#2a3f5f\"},\"baxis\":{\"endlinecolor\":\"#2a3f5f\",\"gridcolor\":\"white\",\"linecolor\":\"white\",\"minorgridcolor\":\"white\",\"startlinecolor\":\"#2a3f5f\"},\"type\":\"carpet\"}],\"table\":[{\"cells\":{\"fill\":{\"color\":\"#EBF0F8\"},\"line\":{\"color\":\"white\"}},\"header\":{\"fill\":{\"color\":\"#C8D4E3\"},\"line\":{\"color\":\"white\"}},\"type\":\"table\"}],\"barpolar\":[{\"marker\":{\"line\":{\"color\":\"#E5ECF6\",\"width\":0.5},\"pattern\":{\"fillmode\":\"overlay\",\"size\":10,\"solidity\":0.2}},\"type\":\"barpolar\"}],\"pie\":[{\"automargin\":true,\"type\":\"pie\"}]},\"layout\":{\"autotypenumbers\":\"strict\",\"colorway\":[\"#636efa\",\"#EF553B\",\"#00cc96\",\"#ab63fa\",\"#FFA15A\",\"#19d3f3\",\"#FF6692\",\"#B6E880\",\"#FF97FF\",\"#FECB52\"],\"font\":{\"color\":\"#2a3f5f\"},\"hovermode\":\"closest\",\"hoverlabel\":{\"align\":\"left\"},\"paper_bgcolor\":\"white\",\"plot_bgcolor\":\"#E5ECF6\",\"polar\":{\"bgcolor\":\"#E5ECF6\",\"angularaxis\":{\"gridcolor\":\"white\",\"linecolor\":\"white\",\"ticks\":\"\"},\"radialaxis\":{\"gridcolor\":\"white\",\"linecolor\":\"white\",\"ticks\":\"\"}},\"ternary\":{\"bgcolor\":\"#E5ECF6\",\"aaxis\":{\"gridcolor\":\"white\",\"linecolor\":\"white\",\"ticks\":\"\"},\"baxis\":{\"gridcolor\":\"white\",\"linecolor\":\"white\",\"ticks\":\"\"},\"caxis\":{\"gridcolor\":\"white\",\"linecolor\":\"white\",\"ticks\":\"\"}},\"coloraxis\":{\"colorbar\":{\"outlinewidth\":0,\"ticks\":\"\"}},\"colorscale\":{\"sequential\":[[0.0,\"#0d0887\"],[0.1111111111111111,\"#46039f\"],[0.2222222222222222,\"#7201a8\"],[0.3333333333333333,\"#9c179e\"],[0.4444444444444444,\"#bd3786\"],[0.5555555555555556,\"#d8576b\"],[0.6666666666666666,\"#ed7953\"],[0.7777777777777778,\"#fb9f3a\"],[0.8888888888888888,\"#fdca26\"],[1.0,\"#f0f921\"]],\"sequentialminus\":[[0.0,\"#0d0887\"],[0.1111111111111111,\"#46039f\"],[0.2222222222222222,\"#7201a8\"],[0.3333333333333333,\"#9c179e\"],[0.4444444444444444,\"#bd3786\"],[0.5555555555555556,\"#d8576b\"],[0.6666666666666666,\"#ed7953\"],[0.7777777777777778,\"#fb9f3a\"],[0.8888888888888888,\"#fdca26\"],[1.0,\"#f0f921\"]],\"diverging\":[[0,\"#8e0152\"],[0.1,\"#c51b7d\"],[0.2,\"#de77ae\"],[0.3,\"#f1b6da\"],[0.4,\"#fde0ef\"],[0.5,\"#f7f7f7\"],[0.6,\"#e6f5d0\"],[0.7,\"#b8e186\"],[0.8,\"#7fbc41\"],[0.9,\"#4d9221\"],[1,\"#276419\"]]},\"xaxis\":{\"gridcolor\":\"white\",\"linecolor\":\"white\",\"ticks\":\"\",\"title\":{\"standoff\":15},\"zerolinecolor\":\"white\",\"automargin\":true,\"zerolinewidth\":2},\"yaxis\":{\"gridcolor\":\"white\",\"linecolor\":\"white\",\"ticks\":\"\",\"title\":{\"standoff\":15},\"zerolinecolor\":\"white\",\"automargin\":true,\"zerolinewidth\":2},\"scene\":{\"xaxis\":{\"backgroundcolor\":\"#E5ECF6\",\"gridcolor\":\"white\",\"linecolor\":\"white\",\"showbackground\":true,\"ticks\":\"\",\"zerolinecolor\":\"white\",\"gridwidth\":2},\"yaxis\":{\"backgroundcolor\":\"#E5ECF6\",\"gridcolor\":\"white\",\"linecolor\":\"white\",\"showbackground\":true,\"ticks\":\"\",\"zerolinecolor\":\"white\",\"gridwidth\":2},\"zaxis\":{\"backgroundcolor\":\"#E5ECF6\",\"gridcolor\":\"white\",\"linecolor\":\"white\",\"showbackground\":true,\"ticks\":\"\",\"zerolinecolor\":\"white\",\"gridwidth\":2}},\"shapedefaults\":{\"line\":{\"color\":\"#2a3f5f\"}},\"annotationdefaults\":{\"arrowcolor\":\"#2a3f5f\",\"arrowhead\":0,\"arrowwidth\":1},\"geo\":{\"bgcolor\":\"white\",\"landcolor\":\"#E5ECF6\",\"subunitcolor\":\"white\",\"showland\":true,\"showlakes\":true,\"lakecolor\":\"white\"},\"title\":{\"x\":0.05},\"mapbox\":{\"style\":\"light\"}}},\"title\":{\"text\":\"Visualization of 3 first principal components\"},\"scene\":{\"xaxis\":{\"title\":{\"text\":\"PC1\"}},\"yaxis\":{\"title\":{\"text\":\"PC2\"}},\"zaxis\":{\"title\":{\"text\":\"PC3\"}}},\"xaxis\":{\"range\":[-2,2]}},                        {\"responsive\": true}                    ).then(function(){\n",
       "                            \n",
       "var gd = document.getElementById('5b5083c7-6980-4ee9-a7dc-7e6775fdba79');\n",
       "var x = new MutationObserver(function (mutations, observer) {{\n",
       "        var display = window.getComputedStyle(gd).display;\n",
       "        if (!display || display === 'none') {{\n",
       "            console.log([gd, 'removed!']);\n",
       "            Plotly.purge(gd);\n",
       "            observer.disconnect();\n",
       "        }}\n",
       "}});\n",
       "\n",
       "// Listen for the removal of the full notebook cells\n",
       "var notebookContainer = gd.closest('#notebook-container');\n",
       "if (notebookContainer) {{\n",
       "    x.observe(notebookContainer, {childList: true});\n",
       "}}\n",
       "\n",
       "// Listen for the clearing of the current output cell\n",
       "var outputEl = gd.closest('.output');\n",
       "if (outputEl) {{\n",
       "    x.observe(outputEl, {childList: true});\n",
       "}}\n",
       "\n",
       "                        })                };                });            </script>        </div>"
      ]
     },
     "metadata": {},
     "output_type": "display_data"
    },
    {
     "data": {
      "application/vnd.plotly.v1+json": {
       "config": {
        "plotlyServerURL": "https://plot.ly"
       },
       "data": [
        {
         "marker": {
          "color": [
           5,
           4,
           1,
           1,
           3,
           5,
           3,
           0,
           0,
           0,
           1,
           2,
           6,
           6,
           5,
           4,
           1,
           4,
           1,
           0,
           3,
           1,
           6,
           6,
           0,
           5,
           5,
           5,
           3,
           1,
           0,
           5,
           4,
           6,
           4,
           0,
           1,
           1,
           6,
           6,
           4,
           1,
           3,
           4,
           5,
           2,
           6,
           4,
           1,
           4,
           5,
           5,
           0,
           1,
           1,
           2,
           0,
           5,
           6,
           4,
           5,
           0,
           0,
           1,
           5,
           5,
           1,
           0,
           3,
           3,
           0,
           6,
           5,
           6,
           1,
           0,
           1,
           1,
           1,
           0,
           4,
           1,
           1,
           4,
           2,
           6,
           4,
           3,
           6,
           4,
           6,
           5,
           5,
           6,
           5,
           5,
           5,
           5,
           3,
           3,
           0,
           1,
           0,
           2,
           1,
           4,
           2,
           0,
           3,
           1,
           3,
           6,
           6,
           2,
           3,
           4,
           1,
           2,
           6,
           5,
           1,
           4,
           0,
           3,
           1,
           0,
           5,
           6,
           1,
           1,
           3,
           1,
           4,
           3,
           4,
           5,
           6,
           0,
           5,
           1,
           2,
           3,
           0,
           5,
           4,
           1,
           2,
           6,
           5,
           1,
           5,
           3,
           4,
           6,
           2,
           2,
           0,
           1,
           2,
           1,
           1,
           2,
           6,
           1,
           1,
           5,
           0,
           5,
           0,
           0,
           4,
           3,
           5,
           0,
           6,
           1,
           3,
           1,
           2,
           6,
           5,
           1,
           4,
           6,
           5,
           5,
           3,
           4,
           6,
           5,
           3,
           0,
           4,
           3,
           1,
           3,
           4,
           3,
           6,
           5,
           3,
           5,
           3,
           1,
           3,
           1,
           0,
           5,
           1,
           4,
           0,
           3
          ],
          "size": 4
         },
         "mode": "markers",
         "type": "scatter3d",
         "x": [
          -0.031038932042960286,
          0.62632559408578,
          -0.39123849670875455,
          -0.17725425359008365,
          -0.14401555589258017,
          0.34491299552408966,
          -0.11867315454035833,
          1.1476269781901565,
          0.8162321765209902,
          0.9753083269322645,
          -0.2914858265630624,
          0.8124437206193292,
          -0.8815972763909874,
          -0.4991847206444981,
          0.009934163757424811,
          0.6194011895222268,
          -0.20669961903445955,
          0.44478258375838353,
          -0.3957459124801601,
          1.1526783294566314,
          -0.3215324316479405,
          -0.5861227510260191,
          -0.7972134166599167,
          -0.9190018631467731,
          0.9371338526756754,
          0.16911039870312417,
          -0.15680896691619176,
          -0.03776349545631553,
          -0.41438994228073395,
          -0.29643207658819454,
          1.0052829287969904,
          -0.13120622807944257,
          0.576027095890129,
          -0.8113438410110717,
          0.2324535103575186,
          1.0011164544836189,
          -0.20837327348871382,
          -0.46129046689319264,
          -0.8718684402683005,
          -0.7135158279309199,
          0.5680411049702125,
          -0.549298406751871,
          -0.1446501178297497,
          0.18774598035421533,
          -0.15920079169711587,
          0.14982025236114382,
          -0.7521802675842048,
          0.5932775468554835,
          -0.5914934343965558,
          0.3682053306665162,
          0.17517453863289079,
          -0.24516939658628173,
          1.0089537164349722,
          -0.3962783424699598,
          -0.48208021245939703,
          0.5688944527235925,
          0.796052197839941,
          -0.06682419879269408,
          -0.9816186156051055,
          0.5957025555357309,
          0.0102951154708659,
          0.947444680599988,
          0.9231715283937565,
          -0.3204102976278802,
          0.11211270846967457,
          0.06084335749142585,
          -0.5119559831735517,
          0.7330060189365095,
          -0.19293272459895353,
          -0.44327705573437176,
          0.9989819017131976,
          -0.7496513929904911,
          -0.07406315380894643,
          -0.4801038389750723,
          -0.3621040661003039,
          0.8589070107771067,
          -0.37087607475283724,
          -0.31593096467456355,
          -0.5288001461584196,
          0.9666944443549795,
          0.260292887761879,
          -0.32946085898298605,
          -0.27955831485746185,
          0.36827483330241184,
          0.1929726641960478,
          -0.9854787467439305,
          0.0685521189177999,
          -0.4055218710468385,
          -0.8917219696412622,
          0.754059078692993,
          -0.8218815689006984,
          0.3443980601865749,
          -0.07066495176221321,
          -0.8056004831883908,
          0.13510235012204871,
          0.18678813990193135,
          -0.04983574759767677,
          0.009493734444033218,
          -0.4672354903126228,
          -0.33227848285080575,
          0.8273009749697966,
          -0.5041332465555722,
          0.9642625473304285,
          0.5310358018543307,
          -0.4517743025682668,
          0.5641869691383948,
          0.2688141170602944,
          0.939468091037014,
          -0.35108901312679625,
          -0.03773856910331203,
          -0.34469425240852847,
          -0.7188160017056203,
          -0.6203917778440753,
          0.143738524967488,
          -0.5322317121270571,
          0.4250842139478825,
          -0.39013373753383707,
          0.16697853371758198,
          -0.6676652686892695,
          0.0836118658371536,
          -0.48583316111804253,
          0.5226517025246279,
          0.9804665718487588,
          -0.36592763920091914,
          -0.5605712385950062,
          0.9055676434544669,
          0.2534285546335452,
          -0.7471781390409241,
          -0.18157110813106286,
          -0.12437823475406427,
          -0.31966117283305295,
          -0.5493073294698441,
          0.40099718343913954,
          -0.09895968685799206,
          0.8178096318603444,
          -0.11871727942314275,
          -0.9604875342462116,
          0.9413521900655774,
          0.04040730716834618,
          -0.4618378119181831,
          0.5585052641009562,
          -0.18056648276788675,
          0.9430592993946821,
          0.0977648351319467,
          0.5020199194784905,
          -0.05276786456234082,
          0.14015772795539305,
          -0.7046205551936863,
          -0.15812881719570893,
          -0.3726098576326786,
          0.28880687281429096,
          -0.4198346085870391,
          0.544476631110459,
          -0.7936257693746721,
          0.6334097514869252,
          0.03659090500704357,
          0.8122412670247163,
          -0.33303673846189724,
          0.4869281550595095,
          -0.43900359393376753,
          -0.4403282261027582,
          0.2268191203730359,
          -0.6769591982184529,
          -0.1659755793822212,
          -0.5216766941894054,
          -0.1866340119321867,
          1.028952982765849,
          0.26874073759491074,
          0.9418900324313176,
          0.8913249568660483,
          0.2421894898200703,
          0.10781336197340957,
          0.04752148678878592,
          1.0304635636380237,
          -0.9426569062797756,
          -0.5610475994913219,
          -0.3285963951651685,
          -0.43749652956491597,
          0.1593591005399126,
          -0.729176929615243,
          0.15242716913146487,
          -0.40005521440165126,
          0.44197667269515095,
          -0.9663040915986756,
          0.2928054467029232,
          0.18972819014755732,
          -0.41673277312005674,
          0.3853148568893936,
          -0.8026095657052418,
          0.22635527398699684,
          -0.3324302569595074,
          1.0186149155141613,
          0.5856150694103477,
          -0.5474129782198565,
          -0.5196125521340197,
          -0.26387744568713883,
          0.6480682928354328,
          -0.37570116140229337,
          -0.8128392427353792,
          0.10816939707169262,
          -0.1849099620318888,
          0.014766052724218062,
          -0.37638249606995217,
          -0.34063244441850354,
          -0.062063721570195234,
          -0.474726567601984,
          0.6669796197100696,
          -0.141899647335666,
          -0.1523591875576716,
          0.3810465336319988,
          0.856769060907193,
          -0.31853842556537865
         ],
         "y": [
          0.3361607732258627,
          -0.6829726319057086,
          -0.5299639913310975,
          -0.4866328849382064,
          0.8398206579662826,
          0.3986583109710169,
          0.868041904739427,
          0.19990980241530504,
          0.09186206596163073,
          0.1449960776408087,
          -0.4978831283882647,
          0.6899103030329108,
          0.007443915577189133,
          0.020397077727702453,
          0.3054674775683474,
          -0.692681836936735,
          -0.500555905685824,
          -0.7495920427265321,
          -0.5220194911975311,
          0.16519629675926445,
          0.8172793445380763,
          -0.5892636892573142,
          -0.016481585418941742,
          -0.018512997871460476,
          0.1131082634228525,
          0.3862805047038544,
          0.29129241368364744,
          0.2945586978588096,
          0.8089127737900694,
          -0.4730917237872391,
          0.12734922193200374,
          0.28853865567951437,
          -0.6555820387726157,
          -0.01436870158917607,
          -0.7766649409533635,
          0.12222690130955026,
          -0.5093238096375025,
          -0.5265534983052177,
          -0.06566084840445238,
          -0.006596072885715043,
          -0.6681619012917785,
          -0.5426421242543048,
          0.9089763375726082,
          -0.7454330945381127,
          0.2819791464790191,
          -0.16667301218681274,
          -0.06405232885031115,
          -0.6830583219977164,
          -0.5375374433105287,
          -0.7423289683850379,
          0.3307392650612654,
          0.26682979247098526,
          0.13227724399256283,
          -0.5318005308393638,
          -0.5565899481146229,
          0.6747723976325243,
          0.06359356901559512,
          0.29581809526992403,
          -0.0129303897914484,
          -0.7163206907188577,
          0.26116771474229816,
          0.0561568206719532,
          0.15604829608119886,
          -0.5305207649368783,
          0.3309830516613833,
          0.3291731933051906,
          -0.5207240157051851,
          0.08496041304669025,
          0.851515218057703,
          0.7991375281207229,
          0.1458396654322939,
          0.033039173211776234,
          0.2799914958007474,
          0.06307678575348824,
          -0.4882477259060926,
          0.10193398565453135,
          -0.539280619806833,
          -0.5253754962681211,
          -0.5616399580320436,
          0.14441894178432813,
          -0.7742486493827392,
          -0.5463854407685306,
          -0.5142617575441594,
          -0.7388738579511412,
          -0.1729946790209937,
          -0.08512469079001062,
          -0.8003440367910364,
          0.8031621817935083,
          -0.08112519472800572,
          -0.6562579035817951,
          0.01433002918580694,
          0.3394539706536003,
          0.3578023498287173,
          0.005292996478040282,
          0.35296357165938014,
          0.3444093224484511,
          0.3494665643164619,
          0.2840793894085721,
          0.8183958866156738,
          0.8250170497738202,
          0.08827311871593882,
          -0.5439623083465046,
          0.06950101775428713,
          0.6085335335607548,
          -0.49884332906073453,
          -0.7030830530099772,
          0.6191191255573306,
          0.10308235634308334,
          0.8508098310314258,
          -0.4754799990294639,
          0.7971671208602514,
          -0.019022596751744735,
          0.060221313280625174,
          -0.19056765489726166,
          0.7561678242141565,
          -0.7421698482829401,
          -0.467558286446128,
          -0.17648434449773437,
          -0.006698961284790224,
          0.2899277811943712,
          -0.518576250372813,
          -0.7617043679043146,
          0.11436339873301955,
          0.8317583831103641,
          -0.5625512973297173,
          0.08988272172604585,
          0.35966834370052686,
          0.02734098382979052,
          -0.5018930699103392,
          -0.5004007035061083,
          0.8515903770523527,
          -0.5671099706021498,
          -0.7232047497980492,
          0.8736750846043504,
          -0.6750970556490661,
          0.3062347849025567,
          -0.0670636803983229,
          0.14613664796506887,
          0.3001366855212446,
          -0.5525876509265271,
          0.6600713799597424,
          0.847986707100848,
          0.1028476027647085,
          0.29270485279428693,
          -0.7019863491133633,
          -0.45424033242650935,
          -0.19968840361455814,
          -0.012420733421766219,
          0.32255622998438516,
          -0.5301873563088865,
          0.3425287122462889,
          0.8259483681631206,
          -0.7375941914459772,
          0.02964658042065095,
          0.6283321901555484,
          -0.16124264418412312,
          0.14518964195902215,
          -0.5234303869243749,
          0.6065147476690181,
          -0.5455769959832406,
          -0.5443842827424109,
          0.5506607420936684,
          0.0007521992620137044,
          -0.49825156230830436,
          -0.5198750181756062,
          0.26094137269772905,
          0.17338684766036852,
          0.3303515297532739,
          0.07114725065712461,
          0.12297835180768259,
          -0.7708715412742689,
          0.8782070796542124,
          0.29353760695444936,
          0.11045843987782933,
          -0.03387595987711221,
          -0.5497533557864406,
          0.8114511560410633,
          -0.5281741523123874,
          -0.18843454590759684,
          -0.023098981695746153,
          0.3580781012163397,
          -0.4933631957243038,
          -0.720928034826973,
          -0.07841610472156836,
          0.3581766550342896,
          0.368744535742272,
          0.8278312462718891,
          -0.6785265080174887,
          -0.04520580774850648,
          0.3662316208828289,
          0.8715691914694635,
          0.12610608134190524,
          -0.6761840765916957,
          0.8050731197339136,
          -0.5867352010864426,
          0.8776195893127875,
          -0.6887319668372122,
          0.46324258763630927,
          0.0036962528765894917,
          0.3300683132404217,
          0.8142191979271975,
          0.28196110042282296,
          0.7981393954617427,
          -0.530434503679426,
          0.9194807963571564,
          -0.5713289289949424,
          0.0900545203649227,
          0.3318422502268746,
          -0.47014144519432705,
          -0.7426410130843177,
          0.09348792986947421,
          0.8354927312911853
         ],
         "z": [
          0.927683294680232,
          -0.034320054787086475,
          -0.1332147271303213,
          -0.017302416797841395,
          -0.08052461870449307,
          -0.028028811677189378,
          0.03927450188018584,
          0.18348664905896936,
          -0.4442973343606189,
          -0.1588142292330483,
          0.304170202923755,
          1.1031892053779173,
          -0.014816006238971073,
          0.12416670593484673,
          -0.25791128588983375,
          -0.006045800645853237,
          0.12636407161280722,
          0.45160953866202364,
          -0.21247747838584027,
          0.1087086930304604,
          -0.007386606688810125,
          -0.2126417576715044,
          -0.14127830667042962,
          -0.004834724018129982,
          -0.2129189534324714,
          0.5260012395180615,
          -0.2977207672053416,
          -0.3470207555162463,
          -0.25845742734990695,
          0.32360720130166487,
          -0.1317985838680863,
          -0.24515068536070378,
          0.1703210168401277,
          -0.08180492144349641,
          0.13576411109604006,
          -0.1674393699559457,
          0.9709318943894402,
          0.15777685750559786,
          -0.21899296374419455,
          -0.19195402503169048,
          -0.07624146475198151,
          -0.20396057450188654,
          -0.012808371297545154,
          -0.16458050360626866,
          0.02660297297067418,
          0.061538790527516166,
          -0.24383966726136208,
          -0.05890369108724178,
          -0.00671239971625818,
          -0.3504571791494665,
          -0.20214274596622778,
          -0.1738954819809733,
          -0.11938241809469176,
          0.07015607239221498,
          -0.3091053602709107,
          -0.08657510647331093,
          0.2754040585983951,
          0.11124358287058184,
          0.10899674589997749,
          -0.06578565088123768,
          -0.4946397867339369,
          -0.2508004082032902,
          0.8002535456223859,
          -0.2916283478884075,
          -0.07254104227708623,
          -0.4148894253391838,
          -0.13185106836086308,
          -0.4854988348683656,
          0.09213662953487542,
          -0.2869745889177657,
          -0.10732594153320694,
          -0.05994711886900902,
          -0.36562616028701833,
          0.1342603799320963,
          -0.15279273600761636,
          0.6459021043439667,
          -0.339090369908094,
          -0.27403836744902754,
          0.6148100201075263,
          -0.20056573705882047,
          -0.3499934390465042,
          -0.3467240004762804,
          -0.2517725768962334,
          -0.37518592104664494,
          0.8876892293402522,
          -0.14261877436054915,
          -0.12436630833798373,
          -0.23985326500821302,
          -0.2578541418722292,
          0.2892844195573278,
          -0.14079165900787755,
          0.7319322003467175,
          0.15704387911600953,
          0.1720592091946701,
          1.2057382585519387,
          -0.24374052306739255,
          0.1916497577983899,
          -0.4878976606846605,
          0.635232435096728,
          0.5732125503087508,
          -0.4395869812121604,
          -0.1141301278055751,
          -0.2113314998687761,
          0.19439237145884267,
          1.006653653482845,
          -0.09983319627040182,
          -0.14260382039940883,
          -0.2562535438816672,
          0.1344735100660638,
          0.8929516942203697,
          -0.3771211497703755,
          0.06360414049497097,
          0.6799861078520895,
          0.005751160023229283,
          -0.1812069377956387,
          -0.06448100960558996,
          -0.16492975368642765,
          0.06790591092668652,
          0.11858199840073821,
          -0.4345301794548542,
          -0.11922260659709588,
          -0.15832279160624024,
          -0.15332158682903688,
          0.12277648081067374,
          -0.1973479688896313,
          -0.30504765301017644,
          -0.09861110048254995,
          -0.01964427759893784,
          0.877930224640477,
          -0.018590934994549422,
          -0.30725067239453374,
          -0.21865729237682643,
          -0.3211300225838448,
          0.03451819107990513,
          0.31066895527941857,
          -0.20209529641604543,
          -0.12728364977382559,
          -0.15968216026932308,
          -0.23058707955888608,
          -0.27874260571382914,
          -0.06881753726305657,
          -0.0771036286502774,
          -0.19197757717202657,
          -0.09522319930128245,
          0.8276477446500251,
          0.03887288457049225,
          -0.001040572104154623,
          0.059173976930670606,
          -0.086342376409497,
          0.6303268529625606,
          -0.07426261950252488,
          -0.2083353575818009,
          0.6665594381830771,
          -0.050128503428657045,
          0.7868721385807274,
          -0.15286934454182916,
          -0.3983161054818097,
          0.6540365286341696,
          -0.16840766195210824,
          -0.279742950673403,
          -0.23647921649152318,
          -0.3963069857756789,
          -0.18474669827192391,
          0.2731340573986189,
          -0.1742573022080897,
          -0.3036839335404676,
          -0.07602269888959551,
          0.9474136574501026,
          -0.22953256408869455,
          -0.2529953954242684,
          -0.31799198161624764,
          0.40969197592636997,
          -0.4834104818510799,
          -0.08144135126897095,
          -0.11121803161607334,
          -0.200011327674492,
          -0.31856820293312926,
          -0.2171388734889491,
          0.011935107835322407,
          0.05279229127114841,
          0.018559968962848308,
          0.29513631203344104,
          -0.2933991597903328,
          -0.14505232069383375,
          -0.044923217357039774,
          0.04060732336494637,
          0.077777834161341,
          0.15212661849170542,
          0.1338565058172187,
          0.14804405829421968,
          0.6050129654144837,
          -0.1465226477209217,
          -0.060478188829917026,
          0.7647753275005396,
          0.5590323580759091,
          0.06682813019578795,
          0.01140392292873671,
          0.20321726456350306,
          -0.1567590841517585,
          -0.09723037280970852,
          -0.1521041013350724,
          -0.46369805372099837,
          -0.23280937302631624,
          -0.33819464076717626,
          0.0870855802420012,
          -0.2727471440085013,
          0.06856051133922601,
          -0.1662391837529882,
          0.7561160797843453,
          -0.3256523731444388,
          -0.3696529150058206,
          -0.3210612557066518
         ]
        }
       ],
       "layout": {
        "scene": {
         "xaxis": {
          "title": {
           "text": "PC1"
          }
         },
         "yaxis": {
          "title": {
           "text": "PC2"
          }
         },
         "zaxis": {
          "title": {
           "text": "PC4"
          }
         }
        },
        "template": {
         "data": {
          "bar": [
           {
            "error_x": {
             "color": "#2a3f5f"
            },
            "error_y": {
             "color": "#2a3f5f"
            },
            "marker": {
             "line": {
              "color": "#E5ECF6",
              "width": 0.5
             },
             "pattern": {
              "fillmode": "overlay",
              "size": 10,
              "solidity": 0.2
             }
            },
            "type": "bar"
           }
          ],
          "barpolar": [
           {
            "marker": {
             "line": {
              "color": "#E5ECF6",
              "width": 0.5
             },
             "pattern": {
              "fillmode": "overlay",
              "size": 10,
              "solidity": 0.2
             }
            },
            "type": "barpolar"
           }
          ],
          "carpet": [
           {
            "aaxis": {
             "endlinecolor": "#2a3f5f",
             "gridcolor": "white",
             "linecolor": "white",
             "minorgridcolor": "white",
             "startlinecolor": "#2a3f5f"
            },
            "baxis": {
             "endlinecolor": "#2a3f5f",
             "gridcolor": "white",
             "linecolor": "white",
             "minorgridcolor": "white",
             "startlinecolor": "#2a3f5f"
            },
            "type": "carpet"
           }
          ],
          "choropleth": [
           {
            "colorbar": {
             "outlinewidth": 0,
             "ticks": ""
            },
            "type": "choropleth"
           }
          ],
          "contour": [
           {
            "colorbar": {
             "outlinewidth": 0,
             "ticks": ""
            },
            "colorscale": [
             [
              0,
              "#0d0887"
             ],
             [
              0.1111111111111111,
              "#46039f"
             ],
             [
              0.2222222222222222,
              "#7201a8"
             ],
             [
              0.3333333333333333,
              "#9c179e"
             ],
             [
              0.4444444444444444,
              "#bd3786"
             ],
             [
              0.5555555555555556,
              "#d8576b"
             ],
             [
              0.6666666666666666,
              "#ed7953"
             ],
             [
              0.7777777777777778,
              "#fb9f3a"
             ],
             [
              0.8888888888888888,
              "#fdca26"
             ],
             [
              1,
              "#f0f921"
             ]
            ],
            "type": "contour"
           }
          ],
          "contourcarpet": [
           {
            "colorbar": {
             "outlinewidth": 0,
             "ticks": ""
            },
            "type": "contourcarpet"
           }
          ],
          "heatmap": [
           {
            "colorbar": {
             "outlinewidth": 0,
             "ticks": ""
            },
            "colorscale": [
             [
              0,
              "#0d0887"
             ],
             [
              0.1111111111111111,
              "#46039f"
             ],
             [
              0.2222222222222222,
              "#7201a8"
             ],
             [
              0.3333333333333333,
              "#9c179e"
             ],
             [
              0.4444444444444444,
              "#bd3786"
             ],
             [
              0.5555555555555556,
              "#d8576b"
             ],
             [
              0.6666666666666666,
              "#ed7953"
             ],
             [
              0.7777777777777778,
              "#fb9f3a"
             ],
             [
              0.8888888888888888,
              "#fdca26"
             ],
             [
              1,
              "#f0f921"
             ]
            ],
            "type": "heatmap"
           }
          ],
          "heatmapgl": [
           {
            "colorbar": {
             "outlinewidth": 0,
             "ticks": ""
            },
            "colorscale": [
             [
              0,
              "#0d0887"
             ],
             [
              0.1111111111111111,
              "#46039f"
             ],
             [
              0.2222222222222222,
              "#7201a8"
             ],
             [
              0.3333333333333333,
              "#9c179e"
             ],
             [
              0.4444444444444444,
              "#bd3786"
             ],
             [
              0.5555555555555556,
              "#d8576b"
             ],
             [
              0.6666666666666666,
              "#ed7953"
             ],
             [
              0.7777777777777778,
              "#fb9f3a"
             ],
             [
              0.8888888888888888,
              "#fdca26"
             ],
             [
              1,
              "#f0f921"
             ]
            ],
            "type": "heatmapgl"
           }
          ],
          "histogram": [
           {
            "marker": {
             "pattern": {
              "fillmode": "overlay",
              "size": 10,
              "solidity": 0.2
             }
            },
            "type": "histogram"
           }
          ],
          "histogram2d": [
           {
            "colorbar": {
             "outlinewidth": 0,
             "ticks": ""
            },
            "colorscale": [
             [
              0,
              "#0d0887"
             ],
             [
              0.1111111111111111,
              "#46039f"
             ],
             [
              0.2222222222222222,
              "#7201a8"
             ],
             [
              0.3333333333333333,
              "#9c179e"
             ],
             [
              0.4444444444444444,
              "#bd3786"
             ],
             [
              0.5555555555555556,
              "#d8576b"
             ],
             [
              0.6666666666666666,
              "#ed7953"
             ],
             [
              0.7777777777777778,
              "#fb9f3a"
             ],
             [
              0.8888888888888888,
              "#fdca26"
             ],
             [
              1,
              "#f0f921"
             ]
            ],
            "type": "histogram2d"
           }
          ],
          "histogram2dcontour": [
           {
            "colorbar": {
             "outlinewidth": 0,
             "ticks": ""
            },
            "colorscale": [
             [
              0,
              "#0d0887"
             ],
             [
              0.1111111111111111,
              "#46039f"
             ],
             [
              0.2222222222222222,
              "#7201a8"
             ],
             [
              0.3333333333333333,
              "#9c179e"
             ],
             [
              0.4444444444444444,
              "#bd3786"
             ],
             [
              0.5555555555555556,
              "#d8576b"
             ],
             [
              0.6666666666666666,
              "#ed7953"
             ],
             [
              0.7777777777777778,
              "#fb9f3a"
             ],
             [
              0.8888888888888888,
              "#fdca26"
             ],
             [
              1,
              "#f0f921"
             ]
            ],
            "type": "histogram2dcontour"
           }
          ],
          "mesh3d": [
           {
            "colorbar": {
             "outlinewidth": 0,
             "ticks": ""
            },
            "type": "mesh3d"
           }
          ],
          "parcoords": [
           {
            "line": {
             "colorbar": {
              "outlinewidth": 0,
              "ticks": ""
             }
            },
            "type": "parcoords"
           }
          ],
          "pie": [
           {
            "automargin": true,
            "type": "pie"
           }
          ],
          "scatter": [
           {
            "fillpattern": {
             "fillmode": "overlay",
             "size": 10,
             "solidity": 0.2
            },
            "type": "scatter"
           }
          ],
          "scatter3d": [
           {
            "line": {
             "colorbar": {
              "outlinewidth": 0,
              "ticks": ""
             }
            },
            "marker": {
             "colorbar": {
              "outlinewidth": 0,
              "ticks": ""
             }
            },
            "type": "scatter3d"
           }
          ],
          "scattercarpet": [
           {
            "marker": {
             "colorbar": {
              "outlinewidth": 0,
              "ticks": ""
             }
            },
            "type": "scattercarpet"
           }
          ],
          "scattergeo": [
           {
            "marker": {
             "colorbar": {
              "outlinewidth": 0,
              "ticks": ""
             }
            },
            "type": "scattergeo"
           }
          ],
          "scattergl": [
           {
            "marker": {
             "colorbar": {
              "outlinewidth": 0,
              "ticks": ""
             }
            },
            "type": "scattergl"
           }
          ],
          "scattermapbox": [
           {
            "marker": {
             "colorbar": {
              "outlinewidth": 0,
              "ticks": ""
             }
            },
            "type": "scattermapbox"
           }
          ],
          "scatterpolar": [
           {
            "marker": {
             "colorbar": {
              "outlinewidth": 0,
              "ticks": ""
             }
            },
            "type": "scatterpolar"
           }
          ],
          "scatterpolargl": [
           {
            "marker": {
             "colorbar": {
              "outlinewidth": 0,
              "ticks": ""
             }
            },
            "type": "scatterpolargl"
           }
          ],
          "scatterternary": [
           {
            "marker": {
             "colorbar": {
              "outlinewidth": 0,
              "ticks": ""
             }
            },
            "type": "scatterternary"
           }
          ],
          "surface": [
           {
            "colorbar": {
             "outlinewidth": 0,
             "ticks": ""
            },
            "colorscale": [
             [
              0,
              "#0d0887"
             ],
             [
              0.1111111111111111,
              "#46039f"
             ],
             [
              0.2222222222222222,
              "#7201a8"
             ],
             [
              0.3333333333333333,
              "#9c179e"
             ],
             [
              0.4444444444444444,
              "#bd3786"
             ],
             [
              0.5555555555555556,
              "#d8576b"
             ],
             [
              0.6666666666666666,
              "#ed7953"
             ],
             [
              0.7777777777777778,
              "#fb9f3a"
             ],
             [
              0.8888888888888888,
              "#fdca26"
             ],
             [
              1,
              "#f0f921"
             ]
            ],
            "type": "surface"
           }
          ],
          "table": [
           {
            "cells": {
             "fill": {
              "color": "#EBF0F8"
             },
             "line": {
              "color": "white"
             }
            },
            "header": {
             "fill": {
              "color": "#C8D4E3"
             },
             "line": {
              "color": "white"
             }
            },
            "type": "table"
           }
          ]
         },
         "layout": {
          "annotationdefaults": {
           "arrowcolor": "#2a3f5f",
           "arrowhead": 0,
           "arrowwidth": 1
          },
          "autotypenumbers": "strict",
          "coloraxis": {
           "colorbar": {
            "outlinewidth": 0,
            "ticks": ""
           }
          },
          "colorscale": {
           "diverging": [
            [
             0,
             "#8e0152"
            ],
            [
             0.1,
             "#c51b7d"
            ],
            [
             0.2,
             "#de77ae"
            ],
            [
             0.3,
             "#f1b6da"
            ],
            [
             0.4,
             "#fde0ef"
            ],
            [
             0.5,
             "#f7f7f7"
            ],
            [
             0.6,
             "#e6f5d0"
            ],
            [
             0.7,
             "#b8e186"
            ],
            [
             0.8,
             "#7fbc41"
            ],
            [
             0.9,
             "#4d9221"
            ],
            [
             1,
             "#276419"
            ]
           ],
           "sequential": [
            [
             0,
             "#0d0887"
            ],
            [
             0.1111111111111111,
             "#46039f"
            ],
            [
             0.2222222222222222,
             "#7201a8"
            ],
            [
             0.3333333333333333,
             "#9c179e"
            ],
            [
             0.4444444444444444,
             "#bd3786"
            ],
            [
             0.5555555555555556,
             "#d8576b"
            ],
            [
             0.6666666666666666,
             "#ed7953"
            ],
            [
             0.7777777777777778,
             "#fb9f3a"
            ],
            [
             0.8888888888888888,
             "#fdca26"
            ],
            [
             1,
             "#f0f921"
            ]
           ],
           "sequentialminus": [
            [
             0,
             "#0d0887"
            ],
            [
             0.1111111111111111,
             "#46039f"
            ],
            [
             0.2222222222222222,
             "#7201a8"
            ],
            [
             0.3333333333333333,
             "#9c179e"
            ],
            [
             0.4444444444444444,
             "#bd3786"
            ],
            [
             0.5555555555555556,
             "#d8576b"
            ],
            [
             0.6666666666666666,
             "#ed7953"
            ],
            [
             0.7777777777777778,
             "#fb9f3a"
            ],
            [
             0.8888888888888888,
             "#fdca26"
            ],
            [
             1,
             "#f0f921"
            ]
           ]
          },
          "colorway": [
           "#636efa",
           "#EF553B",
           "#00cc96",
           "#ab63fa",
           "#FFA15A",
           "#19d3f3",
           "#FF6692",
           "#B6E880",
           "#FF97FF",
           "#FECB52"
          ],
          "font": {
           "color": "#2a3f5f"
          },
          "geo": {
           "bgcolor": "white",
           "lakecolor": "white",
           "landcolor": "#E5ECF6",
           "showlakes": true,
           "showland": true,
           "subunitcolor": "white"
          },
          "hoverlabel": {
           "align": "left"
          },
          "hovermode": "closest",
          "mapbox": {
           "style": "light"
          },
          "paper_bgcolor": "white",
          "plot_bgcolor": "#E5ECF6",
          "polar": {
           "angularaxis": {
            "gridcolor": "white",
            "linecolor": "white",
            "ticks": ""
           },
           "bgcolor": "#E5ECF6",
           "radialaxis": {
            "gridcolor": "white",
            "linecolor": "white",
            "ticks": ""
           }
          },
          "scene": {
           "xaxis": {
            "backgroundcolor": "#E5ECF6",
            "gridcolor": "white",
            "gridwidth": 2,
            "linecolor": "white",
            "showbackground": true,
            "ticks": "",
            "zerolinecolor": "white"
           },
           "yaxis": {
            "backgroundcolor": "#E5ECF6",
            "gridcolor": "white",
            "gridwidth": 2,
            "linecolor": "white",
            "showbackground": true,
            "ticks": "",
            "zerolinecolor": "white"
           },
           "zaxis": {
            "backgroundcolor": "#E5ECF6",
            "gridcolor": "white",
            "gridwidth": 2,
            "linecolor": "white",
            "showbackground": true,
            "ticks": "",
            "zerolinecolor": "white"
           }
          },
          "shapedefaults": {
           "line": {
            "color": "#2a3f5f"
           }
          },
          "ternary": {
           "aaxis": {
            "gridcolor": "white",
            "linecolor": "white",
            "ticks": ""
           },
           "baxis": {
            "gridcolor": "white",
            "linecolor": "white",
            "ticks": ""
           },
           "bgcolor": "#E5ECF6",
           "caxis": {
            "gridcolor": "white",
            "linecolor": "white",
            "ticks": ""
           }
          },
          "title": {
           "x": 0.05
          },
          "xaxis": {
           "automargin": true,
           "gridcolor": "white",
           "linecolor": "white",
           "ticks": "",
           "title": {
            "standoff": 15
           },
           "zerolinecolor": "white",
           "zerolinewidth": 2
          },
          "yaxis": {
           "automargin": true,
           "gridcolor": "white",
           "linecolor": "white",
           "ticks": "",
           "title": {
            "standoff": 15
           },
           "zerolinecolor": "white",
           "zerolinewidth": 2
          }
         }
        },
        "title": {
         "text": "Visualization of 1, 2, 4 principal component"
        },
        "xaxis": {
         "range": [
          -2,
          2
         ]
        },
        "yaxis": {
         "range": [
          -2,
          2
         ]
        }
       }
      },
      "text/html": [
       "<div>                            <div id=\"dd10f780-547c-43cd-b49a-2d4048b10882\" class=\"plotly-graph-div\" style=\"height:525px; width:100%;\"></div>            <script type=\"text/javascript\">                require([\"plotly\"], function(Plotly) {                    window.PLOTLYENV=window.PLOTLYENV || {};                                    if (document.getElementById(\"dd10f780-547c-43cd-b49a-2d4048b10882\")) {                    Plotly.newPlot(                        \"dd10f780-547c-43cd-b49a-2d4048b10882\",                        [{\"marker\":{\"color\":[5,4,1,1,3,5,3,0,0,0,1,2,6,6,5,4,1,4,1,0,3,1,6,6,0,5,5,5,3,1,0,5,4,6,4,0,1,1,6,6,4,1,3,4,5,2,6,4,1,4,5,5,0,1,1,2,0,5,6,4,5,0,0,1,5,5,1,0,3,3,0,6,5,6,1,0,1,1,1,0,4,1,1,4,2,6,4,3,6,4,6,5,5,6,5,5,5,5,3,3,0,1,0,2,1,4,2,0,3,1,3,6,6,2,3,4,1,2,6,5,1,4,0,3,1,0,5,6,1,1,3,1,4,3,4,5,6,0,5,1,2,3,0,5,4,1,2,6,5,1,5,3,4,6,2,2,0,1,2,1,1,2,6,1,1,5,0,5,0,0,4,3,5,0,6,1,3,1,2,6,5,1,4,6,5,5,3,4,6,5,3,0,4,3,1,3,4,3,6,5,3,5,3,1,3,1,0,5,1,4,0,3],\"size\":4},\"mode\":\"markers\",\"x\":[-0.031038932042960286,0.62632559408578,-0.39123849670875455,-0.17725425359008365,-0.14401555589258017,0.34491299552408966,-0.11867315454035833,1.1476269781901565,0.8162321765209902,0.9753083269322645,-0.2914858265630624,0.8124437206193292,-0.8815972763909874,-0.4991847206444981,0.009934163757424811,0.6194011895222268,-0.20669961903445955,0.44478258375838353,-0.3957459124801601,1.1526783294566314,-0.3215324316479405,-0.5861227510260191,-0.7972134166599167,-0.9190018631467731,0.9371338526756754,0.16911039870312417,-0.15680896691619176,-0.03776349545631553,-0.41438994228073395,-0.29643207658819454,1.0052829287969904,-0.13120622807944257,0.576027095890129,-0.8113438410110717,0.2324535103575186,1.0011164544836189,-0.20837327348871382,-0.46129046689319264,-0.8718684402683005,-0.7135158279309199,0.5680411049702125,-0.549298406751871,-0.1446501178297497,0.18774598035421533,-0.15920079169711587,0.14982025236114382,-0.7521802675842048,0.5932775468554835,-0.5914934343965558,0.3682053306665162,0.17517453863289079,-0.24516939658628173,1.0089537164349722,-0.3962783424699598,-0.48208021245939703,0.5688944527235925,0.796052197839941,-0.06682419879269408,-0.9816186156051055,0.5957025555357309,0.0102951154708659,0.947444680599988,0.9231715283937565,-0.3204102976278802,0.11211270846967457,0.06084335749142585,-0.5119559831735517,0.7330060189365095,-0.19293272459895353,-0.44327705573437176,0.9989819017131976,-0.7496513929904911,-0.07406315380894643,-0.4801038389750723,-0.3621040661003039,0.8589070107771067,-0.37087607475283724,-0.31593096467456355,-0.5288001461584196,0.9666944443549795,0.260292887761879,-0.32946085898298605,-0.27955831485746185,0.36827483330241184,0.1929726641960478,-0.9854787467439305,0.0685521189177999,-0.4055218710468385,-0.8917219696412622,0.754059078692993,-0.8218815689006984,0.3443980601865749,-0.07066495176221321,-0.8056004831883908,0.13510235012204871,0.18678813990193135,-0.04983574759767677,0.009493734444033218,-0.4672354903126228,-0.33227848285080575,0.8273009749697966,-0.5041332465555722,0.9642625473304285,0.5310358018543307,-0.4517743025682668,0.5641869691383948,0.2688141170602944,0.939468091037014,-0.35108901312679625,-0.03773856910331203,-0.34469425240852847,-0.7188160017056203,-0.6203917778440753,0.143738524967488,-0.5322317121270571,0.4250842139478825,-0.39013373753383707,0.16697853371758198,-0.6676652686892695,0.0836118658371536,-0.48583316111804253,0.5226517025246279,0.9804665718487588,-0.36592763920091914,-0.5605712385950062,0.9055676434544669,0.2534285546335452,-0.7471781390409241,-0.18157110813106286,-0.12437823475406427,-0.31966117283305295,-0.5493073294698441,0.40099718343913954,-0.09895968685799206,0.8178096318603444,-0.11871727942314275,-0.9604875342462116,0.9413521900655774,0.04040730716834618,-0.4618378119181831,0.5585052641009562,-0.18056648276788675,0.9430592993946821,0.0977648351319467,0.5020199194784905,-0.05276786456234082,0.14015772795539305,-0.7046205551936863,-0.15812881719570893,-0.3726098576326786,0.28880687281429096,-0.4198346085870391,0.544476631110459,-0.7936257693746721,0.6334097514869252,0.03659090500704357,0.8122412670247163,-0.33303673846189724,0.4869281550595095,-0.43900359393376753,-0.4403282261027582,0.2268191203730359,-0.6769591982184529,-0.1659755793822212,-0.5216766941894054,-0.1866340119321867,1.028952982765849,0.26874073759491074,0.9418900324313176,0.8913249568660483,0.2421894898200703,0.10781336197340957,0.04752148678878592,1.0304635636380237,-0.9426569062797756,-0.5610475994913219,-0.3285963951651685,-0.43749652956491597,0.1593591005399126,-0.729176929615243,0.15242716913146487,-0.40005521440165126,0.44197667269515095,-0.9663040915986756,0.2928054467029232,0.18972819014755732,-0.41673277312005674,0.3853148568893936,-0.8026095657052418,0.22635527398699684,-0.3324302569595074,1.0186149155141613,0.5856150694103477,-0.5474129782198565,-0.5196125521340197,-0.26387744568713883,0.6480682928354328,-0.37570116140229337,-0.8128392427353792,0.10816939707169262,-0.1849099620318888,0.014766052724218062,-0.37638249606995217,-0.34063244441850354,-0.062063721570195234,-0.474726567601984,0.6669796197100696,-0.141899647335666,-0.1523591875576716,0.3810465336319988,0.856769060907193,-0.31853842556537865],\"y\":[0.3361607732258627,-0.6829726319057086,-0.5299639913310975,-0.4866328849382064,0.8398206579662826,0.3986583109710169,0.868041904739427,0.19990980241530504,0.09186206596163073,0.1449960776408087,-0.4978831283882647,0.6899103030329108,0.007443915577189133,0.020397077727702453,0.3054674775683474,-0.692681836936735,-0.500555905685824,-0.7495920427265321,-0.5220194911975311,0.16519629675926445,0.8172793445380763,-0.5892636892573142,-0.016481585418941742,-0.018512997871460476,0.1131082634228525,0.3862805047038544,0.29129241368364744,0.2945586978588096,0.8089127737900694,-0.4730917237872391,0.12734922193200374,0.28853865567951437,-0.6555820387726157,-0.01436870158917607,-0.7766649409533635,0.12222690130955026,-0.5093238096375025,-0.5265534983052177,-0.06566084840445238,-0.006596072885715043,-0.6681619012917785,-0.5426421242543048,0.9089763375726082,-0.7454330945381127,0.2819791464790191,-0.16667301218681274,-0.06405232885031115,-0.6830583219977164,-0.5375374433105287,-0.7423289683850379,0.3307392650612654,0.26682979247098526,0.13227724399256283,-0.5318005308393638,-0.5565899481146229,0.6747723976325243,0.06359356901559512,0.29581809526992403,-0.0129303897914484,-0.7163206907188577,0.26116771474229816,0.0561568206719532,0.15604829608119886,-0.5305207649368783,0.3309830516613833,0.3291731933051906,-0.5207240157051851,0.08496041304669025,0.851515218057703,0.7991375281207229,0.1458396654322939,0.033039173211776234,0.2799914958007474,0.06307678575348824,-0.4882477259060926,0.10193398565453135,-0.539280619806833,-0.5253754962681211,-0.5616399580320436,0.14441894178432813,-0.7742486493827392,-0.5463854407685306,-0.5142617575441594,-0.7388738579511412,-0.1729946790209937,-0.08512469079001062,-0.8003440367910364,0.8031621817935083,-0.08112519472800572,-0.6562579035817951,0.01433002918580694,0.3394539706536003,0.3578023498287173,0.005292996478040282,0.35296357165938014,0.3444093224484511,0.3494665643164619,0.2840793894085721,0.8183958866156738,0.8250170497738202,0.08827311871593882,-0.5439623083465046,0.06950101775428713,0.6085335335607548,-0.49884332906073453,-0.7030830530099772,0.6191191255573306,0.10308235634308334,0.8508098310314258,-0.4754799990294639,0.7971671208602514,-0.019022596751744735,0.060221313280625174,-0.19056765489726166,0.7561678242141565,-0.7421698482829401,-0.467558286446128,-0.17648434449773437,-0.006698961284790224,0.2899277811943712,-0.518576250372813,-0.7617043679043146,0.11436339873301955,0.8317583831103641,-0.5625512973297173,0.08988272172604585,0.35966834370052686,0.02734098382979052,-0.5018930699103392,-0.5004007035061083,0.8515903770523527,-0.5671099706021498,-0.7232047497980492,0.8736750846043504,-0.6750970556490661,0.3062347849025567,-0.0670636803983229,0.14613664796506887,0.3001366855212446,-0.5525876509265271,0.6600713799597424,0.847986707100848,0.1028476027647085,0.29270485279428693,-0.7019863491133633,-0.45424033242650935,-0.19968840361455814,-0.012420733421766219,0.32255622998438516,-0.5301873563088865,0.3425287122462889,0.8259483681631206,-0.7375941914459772,0.02964658042065095,0.6283321901555484,-0.16124264418412312,0.14518964195902215,-0.5234303869243749,0.6065147476690181,-0.5455769959832406,-0.5443842827424109,0.5506607420936684,0.0007521992620137044,-0.49825156230830436,-0.5198750181756062,0.26094137269772905,0.17338684766036852,0.3303515297532739,0.07114725065712461,0.12297835180768259,-0.7708715412742689,0.8782070796542124,0.29353760695444936,0.11045843987782933,-0.03387595987711221,-0.5497533557864406,0.8114511560410633,-0.5281741523123874,-0.18843454590759684,-0.023098981695746153,0.3580781012163397,-0.4933631957243038,-0.720928034826973,-0.07841610472156836,0.3581766550342896,0.368744535742272,0.8278312462718891,-0.6785265080174887,-0.04520580774850648,0.3662316208828289,0.8715691914694635,0.12610608134190524,-0.6761840765916957,0.8050731197339136,-0.5867352010864426,0.8776195893127875,-0.6887319668372122,0.46324258763630927,0.0036962528765894917,0.3300683132404217,0.8142191979271975,0.28196110042282296,0.7981393954617427,-0.530434503679426,0.9194807963571564,-0.5713289289949424,0.0900545203649227,0.3318422502268746,-0.47014144519432705,-0.7426410130843177,0.09348792986947421,0.8354927312911853],\"z\":[0.927683294680232,-0.034320054787086475,-0.1332147271303213,-0.017302416797841395,-0.08052461870449307,-0.028028811677189378,0.03927450188018584,0.18348664905896936,-0.4442973343606189,-0.1588142292330483,0.304170202923755,1.1031892053779173,-0.014816006238971073,0.12416670593484673,-0.25791128588983375,-0.006045800645853237,0.12636407161280722,0.45160953866202364,-0.21247747838584027,0.1087086930304604,-0.007386606688810125,-0.2126417576715044,-0.14127830667042962,-0.004834724018129982,-0.2129189534324714,0.5260012395180615,-0.2977207672053416,-0.3470207555162463,-0.25845742734990695,0.32360720130166487,-0.1317985838680863,-0.24515068536070378,0.1703210168401277,-0.08180492144349641,0.13576411109604006,-0.1674393699559457,0.9709318943894402,0.15777685750559786,-0.21899296374419455,-0.19195402503169048,-0.07624146475198151,-0.20396057450188654,-0.012808371297545154,-0.16458050360626866,0.02660297297067418,0.061538790527516166,-0.24383966726136208,-0.05890369108724178,-0.00671239971625818,-0.3504571791494665,-0.20214274596622778,-0.1738954819809733,-0.11938241809469176,0.07015607239221498,-0.3091053602709107,-0.08657510647331093,0.2754040585983951,0.11124358287058184,0.10899674589997749,-0.06578565088123768,-0.4946397867339369,-0.2508004082032902,0.8002535456223859,-0.2916283478884075,-0.07254104227708623,-0.4148894253391838,-0.13185106836086308,-0.4854988348683656,0.09213662953487542,-0.2869745889177657,-0.10732594153320694,-0.05994711886900902,-0.36562616028701833,0.1342603799320963,-0.15279273600761636,0.6459021043439667,-0.339090369908094,-0.27403836744902754,0.6148100201075263,-0.20056573705882047,-0.3499934390465042,-0.3467240004762804,-0.2517725768962334,-0.37518592104664494,0.8876892293402522,-0.14261877436054915,-0.12436630833798373,-0.23985326500821302,-0.2578541418722292,0.2892844195573278,-0.14079165900787755,0.7319322003467175,0.15704387911600953,0.1720592091946701,1.2057382585519387,-0.24374052306739255,0.1916497577983899,-0.4878976606846605,0.635232435096728,0.5732125503087508,-0.4395869812121604,-0.1141301278055751,-0.2113314998687761,0.19439237145884267,1.006653653482845,-0.09983319627040182,-0.14260382039940883,-0.2562535438816672,0.1344735100660638,0.8929516942203697,-0.3771211497703755,0.06360414049497097,0.6799861078520895,0.005751160023229283,-0.1812069377956387,-0.06448100960558996,-0.16492975368642765,0.06790591092668652,0.11858199840073821,-0.4345301794548542,-0.11922260659709588,-0.15832279160624024,-0.15332158682903688,0.12277648081067374,-0.1973479688896313,-0.30504765301017644,-0.09861110048254995,-0.01964427759893784,0.877930224640477,-0.018590934994549422,-0.30725067239453374,-0.21865729237682643,-0.3211300225838448,0.03451819107990513,0.31066895527941857,-0.20209529641604543,-0.12728364977382559,-0.15968216026932308,-0.23058707955888608,-0.27874260571382914,-0.06881753726305657,-0.0771036286502774,-0.19197757717202657,-0.09522319930128245,0.8276477446500251,0.03887288457049225,-0.001040572104154623,0.059173976930670606,-0.086342376409497,0.6303268529625606,-0.07426261950252488,-0.2083353575818009,0.6665594381830771,-0.050128503428657045,0.7868721385807274,-0.15286934454182916,-0.3983161054818097,0.6540365286341696,-0.16840766195210824,-0.279742950673403,-0.23647921649152318,-0.3963069857756789,-0.18474669827192391,0.2731340573986189,-0.1742573022080897,-0.3036839335404676,-0.07602269888959551,0.9474136574501026,-0.22953256408869455,-0.2529953954242684,-0.31799198161624764,0.40969197592636997,-0.4834104818510799,-0.08144135126897095,-0.11121803161607334,-0.200011327674492,-0.31856820293312926,-0.2171388734889491,0.011935107835322407,0.05279229127114841,0.018559968962848308,0.29513631203344104,-0.2933991597903328,-0.14505232069383375,-0.044923217357039774,0.04060732336494637,0.077777834161341,0.15212661849170542,0.1338565058172187,0.14804405829421968,0.6050129654144837,-0.1465226477209217,-0.060478188829917026,0.7647753275005396,0.5590323580759091,0.06682813019578795,0.01140392292873671,0.20321726456350306,-0.1567590841517585,-0.09723037280970852,-0.1521041013350724,-0.46369805372099837,-0.23280937302631624,-0.33819464076717626,0.0870855802420012,-0.2727471440085013,0.06856051133922601,-0.1662391837529882,0.7561160797843453,-0.3256523731444388,-0.3696529150058206,-0.3210612557066518],\"type\":\"scatter3d\"}],                        {\"template\":{\"data\":{\"histogram2dcontour\":[{\"type\":\"histogram2dcontour\",\"colorbar\":{\"outlinewidth\":0,\"ticks\":\"\"},\"colorscale\":[[0.0,\"#0d0887\"],[0.1111111111111111,\"#46039f\"],[0.2222222222222222,\"#7201a8\"],[0.3333333333333333,\"#9c179e\"],[0.4444444444444444,\"#bd3786\"],[0.5555555555555556,\"#d8576b\"],[0.6666666666666666,\"#ed7953\"],[0.7777777777777778,\"#fb9f3a\"],[0.8888888888888888,\"#fdca26\"],[1.0,\"#f0f921\"]]}],\"choropleth\":[{\"type\":\"choropleth\",\"colorbar\":{\"outlinewidth\":0,\"ticks\":\"\"}}],\"histogram2d\":[{\"type\":\"histogram2d\",\"colorbar\":{\"outlinewidth\":0,\"ticks\":\"\"},\"colorscale\":[[0.0,\"#0d0887\"],[0.1111111111111111,\"#46039f\"],[0.2222222222222222,\"#7201a8\"],[0.3333333333333333,\"#9c179e\"],[0.4444444444444444,\"#bd3786\"],[0.5555555555555556,\"#d8576b\"],[0.6666666666666666,\"#ed7953\"],[0.7777777777777778,\"#fb9f3a\"],[0.8888888888888888,\"#fdca26\"],[1.0,\"#f0f921\"]]}],\"heatmap\":[{\"type\":\"heatmap\",\"colorbar\":{\"outlinewidth\":0,\"ticks\":\"\"},\"colorscale\":[[0.0,\"#0d0887\"],[0.1111111111111111,\"#46039f\"],[0.2222222222222222,\"#7201a8\"],[0.3333333333333333,\"#9c179e\"],[0.4444444444444444,\"#bd3786\"],[0.5555555555555556,\"#d8576b\"],[0.6666666666666666,\"#ed7953\"],[0.7777777777777778,\"#fb9f3a\"],[0.8888888888888888,\"#fdca26\"],[1.0,\"#f0f921\"]]}],\"heatmapgl\":[{\"type\":\"heatmapgl\",\"colorbar\":{\"outlinewidth\":0,\"ticks\":\"\"},\"colorscale\":[[0.0,\"#0d0887\"],[0.1111111111111111,\"#46039f\"],[0.2222222222222222,\"#7201a8\"],[0.3333333333333333,\"#9c179e\"],[0.4444444444444444,\"#bd3786\"],[0.5555555555555556,\"#d8576b\"],[0.6666666666666666,\"#ed7953\"],[0.7777777777777778,\"#fb9f3a\"],[0.8888888888888888,\"#fdca26\"],[1.0,\"#f0f921\"]]}],\"contourcarpet\":[{\"type\":\"contourcarpet\",\"colorbar\":{\"outlinewidth\":0,\"ticks\":\"\"}}],\"contour\":[{\"type\":\"contour\",\"colorbar\":{\"outlinewidth\":0,\"ticks\":\"\"},\"colorscale\":[[0.0,\"#0d0887\"],[0.1111111111111111,\"#46039f\"],[0.2222222222222222,\"#7201a8\"],[0.3333333333333333,\"#9c179e\"],[0.4444444444444444,\"#bd3786\"],[0.5555555555555556,\"#d8576b\"],[0.6666666666666666,\"#ed7953\"],[0.7777777777777778,\"#fb9f3a\"],[0.8888888888888888,\"#fdca26\"],[1.0,\"#f0f921\"]]}],\"surface\":[{\"type\":\"surface\",\"colorbar\":{\"outlinewidth\":0,\"ticks\":\"\"},\"colorscale\":[[0.0,\"#0d0887\"],[0.1111111111111111,\"#46039f\"],[0.2222222222222222,\"#7201a8\"],[0.3333333333333333,\"#9c179e\"],[0.4444444444444444,\"#bd3786\"],[0.5555555555555556,\"#d8576b\"],[0.6666666666666666,\"#ed7953\"],[0.7777777777777778,\"#fb9f3a\"],[0.8888888888888888,\"#fdca26\"],[1.0,\"#f0f921\"]]}],\"mesh3d\":[{\"type\":\"mesh3d\",\"colorbar\":{\"outlinewidth\":0,\"ticks\":\"\"}}],\"scatter\":[{\"fillpattern\":{\"fillmode\":\"overlay\",\"size\":10,\"solidity\":0.2},\"type\":\"scatter\"}],\"parcoords\":[{\"type\":\"parcoords\",\"line\":{\"colorbar\":{\"outlinewidth\":0,\"ticks\":\"\"}}}],\"scatterpolargl\":[{\"type\":\"scatterpolargl\",\"marker\":{\"colorbar\":{\"outlinewidth\":0,\"ticks\":\"\"}}}],\"bar\":[{\"error_x\":{\"color\":\"#2a3f5f\"},\"error_y\":{\"color\":\"#2a3f5f\"},\"marker\":{\"line\":{\"color\":\"#E5ECF6\",\"width\":0.5},\"pattern\":{\"fillmode\":\"overlay\",\"size\":10,\"solidity\":0.2}},\"type\":\"bar\"}],\"scattergeo\":[{\"type\":\"scattergeo\",\"marker\":{\"colorbar\":{\"outlinewidth\":0,\"ticks\":\"\"}}}],\"scatterpolar\":[{\"type\":\"scatterpolar\",\"marker\":{\"colorbar\":{\"outlinewidth\":0,\"ticks\":\"\"}}}],\"histogram\":[{\"marker\":{\"pattern\":{\"fillmode\":\"overlay\",\"size\":10,\"solidity\":0.2}},\"type\":\"histogram\"}],\"scattergl\":[{\"type\":\"scattergl\",\"marker\":{\"colorbar\":{\"outlinewidth\":0,\"ticks\":\"\"}}}],\"scatter3d\":[{\"type\":\"scatter3d\",\"line\":{\"colorbar\":{\"outlinewidth\":0,\"ticks\":\"\"}},\"marker\":{\"colorbar\":{\"outlinewidth\":0,\"ticks\":\"\"}}}],\"scattermapbox\":[{\"type\":\"scattermapbox\",\"marker\":{\"colorbar\":{\"outlinewidth\":0,\"ticks\":\"\"}}}],\"scatterternary\":[{\"type\":\"scatterternary\",\"marker\":{\"colorbar\":{\"outlinewidth\":0,\"ticks\":\"\"}}}],\"scattercarpet\":[{\"type\":\"scattercarpet\",\"marker\":{\"colorbar\":{\"outlinewidth\":0,\"ticks\":\"\"}}}],\"carpet\":[{\"aaxis\":{\"endlinecolor\":\"#2a3f5f\",\"gridcolor\":\"white\",\"linecolor\":\"white\",\"minorgridcolor\":\"white\",\"startlinecolor\":\"#2a3f5f\"},\"baxis\":{\"endlinecolor\":\"#2a3f5f\",\"gridcolor\":\"white\",\"linecolor\":\"white\",\"minorgridcolor\":\"white\",\"startlinecolor\":\"#2a3f5f\"},\"type\":\"carpet\"}],\"table\":[{\"cells\":{\"fill\":{\"color\":\"#EBF0F8\"},\"line\":{\"color\":\"white\"}},\"header\":{\"fill\":{\"color\":\"#C8D4E3\"},\"line\":{\"color\":\"white\"}},\"type\":\"table\"}],\"barpolar\":[{\"marker\":{\"line\":{\"color\":\"#E5ECF6\",\"width\":0.5},\"pattern\":{\"fillmode\":\"overlay\",\"size\":10,\"solidity\":0.2}},\"type\":\"barpolar\"}],\"pie\":[{\"automargin\":true,\"type\":\"pie\"}]},\"layout\":{\"autotypenumbers\":\"strict\",\"colorway\":[\"#636efa\",\"#EF553B\",\"#00cc96\",\"#ab63fa\",\"#FFA15A\",\"#19d3f3\",\"#FF6692\",\"#B6E880\",\"#FF97FF\",\"#FECB52\"],\"font\":{\"color\":\"#2a3f5f\"},\"hovermode\":\"closest\",\"hoverlabel\":{\"align\":\"left\"},\"paper_bgcolor\":\"white\",\"plot_bgcolor\":\"#E5ECF6\",\"polar\":{\"bgcolor\":\"#E5ECF6\",\"angularaxis\":{\"gridcolor\":\"white\",\"linecolor\":\"white\",\"ticks\":\"\"},\"radialaxis\":{\"gridcolor\":\"white\",\"linecolor\":\"white\",\"ticks\":\"\"}},\"ternary\":{\"bgcolor\":\"#E5ECF6\",\"aaxis\":{\"gridcolor\":\"white\",\"linecolor\":\"white\",\"ticks\":\"\"},\"baxis\":{\"gridcolor\":\"white\",\"linecolor\":\"white\",\"ticks\":\"\"},\"caxis\":{\"gridcolor\":\"white\",\"linecolor\":\"white\",\"ticks\":\"\"}},\"coloraxis\":{\"colorbar\":{\"outlinewidth\":0,\"ticks\":\"\"}},\"colorscale\":{\"sequential\":[[0.0,\"#0d0887\"],[0.1111111111111111,\"#46039f\"],[0.2222222222222222,\"#7201a8\"],[0.3333333333333333,\"#9c179e\"],[0.4444444444444444,\"#bd3786\"],[0.5555555555555556,\"#d8576b\"],[0.6666666666666666,\"#ed7953\"],[0.7777777777777778,\"#fb9f3a\"],[0.8888888888888888,\"#fdca26\"],[1.0,\"#f0f921\"]],\"sequentialminus\":[[0.0,\"#0d0887\"],[0.1111111111111111,\"#46039f\"],[0.2222222222222222,\"#7201a8\"],[0.3333333333333333,\"#9c179e\"],[0.4444444444444444,\"#bd3786\"],[0.5555555555555556,\"#d8576b\"],[0.6666666666666666,\"#ed7953\"],[0.7777777777777778,\"#fb9f3a\"],[0.8888888888888888,\"#fdca26\"],[1.0,\"#f0f921\"]],\"diverging\":[[0,\"#8e0152\"],[0.1,\"#c51b7d\"],[0.2,\"#de77ae\"],[0.3,\"#f1b6da\"],[0.4,\"#fde0ef\"],[0.5,\"#f7f7f7\"],[0.6,\"#e6f5d0\"],[0.7,\"#b8e186\"],[0.8,\"#7fbc41\"],[0.9,\"#4d9221\"],[1,\"#276419\"]]},\"xaxis\":{\"gridcolor\":\"white\",\"linecolor\":\"white\",\"ticks\":\"\",\"title\":{\"standoff\":15},\"zerolinecolor\":\"white\",\"automargin\":true,\"zerolinewidth\":2},\"yaxis\":{\"gridcolor\":\"white\",\"linecolor\":\"white\",\"ticks\":\"\",\"title\":{\"standoff\":15},\"zerolinecolor\":\"white\",\"automargin\":true,\"zerolinewidth\":2},\"scene\":{\"xaxis\":{\"backgroundcolor\":\"#E5ECF6\",\"gridcolor\":\"white\",\"linecolor\":\"white\",\"showbackground\":true,\"ticks\":\"\",\"zerolinecolor\":\"white\",\"gridwidth\":2},\"yaxis\":{\"backgroundcolor\":\"#E5ECF6\",\"gridcolor\":\"white\",\"linecolor\":\"white\",\"showbackground\":true,\"ticks\":\"\",\"zerolinecolor\":\"white\",\"gridwidth\":2},\"zaxis\":{\"backgroundcolor\":\"#E5ECF6\",\"gridcolor\":\"white\",\"linecolor\":\"white\",\"showbackground\":true,\"ticks\":\"\",\"zerolinecolor\":\"white\",\"gridwidth\":2}},\"shapedefaults\":{\"line\":{\"color\":\"#2a3f5f\"}},\"annotationdefaults\":{\"arrowcolor\":\"#2a3f5f\",\"arrowhead\":0,\"arrowwidth\":1},\"geo\":{\"bgcolor\":\"white\",\"landcolor\":\"#E5ECF6\",\"subunitcolor\":\"white\",\"showland\":true,\"showlakes\":true,\"lakecolor\":\"white\"},\"title\":{\"x\":0.05},\"mapbox\":{\"style\":\"light\"}}},\"yaxis\":{\"range\":[-2,2]},\"title\":{\"text\":\"Visualization of 1, 2, 4 principal component\"},\"scene\":{\"xaxis\":{\"title\":{\"text\":\"PC1\"}},\"yaxis\":{\"title\":{\"text\":\"PC2\"}},\"zaxis\":{\"title\":{\"text\":\"PC4\"}}},\"xaxis\":{\"range\":[-2,2]}},                        {\"responsive\": true}                    ).then(function(){\n",
       "                            \n",
       "var gd = document.getElementById('dd10f780-547c-43cd-b49a-2d4048b10882');\n",
       "var x = new MutationObserver(function (mutations, observer) {{\n",
       "        var display = window.getComputedStyle(gd).display;\n",
       "        if (!display || display === 'none') {{\n",
       "            console.log([gd, 'removed!']);\n",
       "            Plotly.purge(gd);\n",
       "            observer.disconnect();\n",
       "        }}\n",
       "}});\n",
       "\n",
       "// Listen for the removal of the full notebook cells\n",
       "var notebookContainer = gd.closest('#notebook-container');\n",
       "if (notebookContainer) {{\n",
       "    x.observe(notebookContainer, {childList: true});\n",
       "}}\n",
       "\n",
       "// Listen for the clearing of the current output cell\n",
       "var outputEl = gd.closest('.output');\n",
       "if (outputEl) {{\n",
       "    x.observe(outputEl, {childList: true});\n",
       "}}\n",
       "\n",
       "                        })                };                });            </script>        </div>"
      ]
     },
     "metadata": {},
     "output_type": "display_data"
    }
   ],
   "source": [
    "fig1 = go.Figure(data=[go.Scatter3d(\n",
    "    x=df_train['PC1'],\n",
    "    y=df_train['PC2'],\n",
    "    z=df_train['PC3'],\n",
    "    mode='markers',\n",
    "    marker=dict(size=4, color=mv_final)\n",
    ")])\n",
    "\n",
    "fig2 = go.Figure(data=[go.Scatter3d(\n",
    "    x=df_train['PC1'],\n",
    "    y=df_train['PC2'],\n",
    "    z=df_train['PC4'],\n",
    "    mode='markers',\n",
    "    marker=dict(size=4, color=mv_final)\n",
    ")])\n",
    "\n",
    "fig1.update_layout(title_text=\"Visualization of 3 first principal components\", scene=dict(\n",
    "        xaxis=dict(title=df_train.columns[0]),\n",
    "        yaxis=dict(title=df_train.columns[1]),\n",
    "        zaxis=dict(title=df_train.columns[2])\n",
    "    ))\n",
    "fig1.update_xaxes(range=[-2, 2])\n",
    "fig2.update_yaxes(range=[-2, 2])\n",
    "\n",
    "fig2.update_layout(title_text=\"Visualization of 1, 2, 4 principal component\", scene=dict(\n",
    "        xaxis=dict(title=df_train.columns[0]),\n",
    "        yaxis=dict(title=df_train.columns[1]),\n",
    "        zaxis=dict(title=df_train.columns[3])\n",
    "    ))\n",
    "fig2.update_xaxes(range=[-2, 2])\n",
    "fig2.update_yaxes(range=[-2, 2])\n",
    "\n",
    "fig1.show()\n",
    "fig2.show()\n"
   ]
  },
  {
   "cell_type": "markdown",
   "metadata": {},
   "source": [
    "Boxplots for continuous plots"
   ]
  },
  {
   "cell_type": "code",
   "execution_count": 260,
   "metadata": {},
   "outputs": [
    {
     "data": {
      "image/png": "[encoded data removed]",
      "text/plain": [
       "<Figure size 1200x800 with 5 Axes>"
      ]
     },
     "metadata": {},
     "output_type": "display_data"
    }
   ],
   "source": [
    "# columns = df_mv_final_medians.columns[df_mv_final_medians.columns != \"label\"]\n",
    "columns = ['age', 'trestbps', 'thalach', 'chol', 'oldpeak']\n",
    "\n",
    "# calculate the number of rows needed\n",
    "num_rows = (len(columns) + 2) // 3 \n",
    "\n",
    "fig, axs = plt.subplots(num_rows, 3, figsize=(12, 4 * num_rows))\n",
    "axs = axs.flatten()\n",
    "\n",
    "for i, col in enumerate(columns):\n",
    "    # create the boxplot for the current column against the \"label\" column\n",
    "    axs[i].boxplot([final[col][final[\"label\"] == label] for label in sorted(final[\"label\"].unique())])\n",
    "    \n",
    "    axs[i].set_xlabel(\"Label\")\n",
    "    axs[i].set_ylabel(col)\n",
    "    \n",
    "    axs[i].set_xticklabels(sorted(final[\"label\"].unique()))\n",
    "    axs[i].set_title(f\"{col} vs Label\")\n",
    "\n",
    "# remove any unused subplots\n",
    "if len(columns) < len(axs):\n",
    "    for j in range(len(columns), len(axs)):\n",
    "        fig.delaxes(axs[j])\n",
    "\n",
    "plt.tight_layout()\n",
    "plt.show()"
   ]
  },
  {
   "cell_type": "markdown",
   "metadata": {},
   "source": [
    "Scatter plots"
   ]
  },
  {
   "cell_type": "code",
   "execution_count": 261,
   "metadata": {},
   "outputs": [
    {
     "data": {
      "image/png": "[encoded data removed]",
      "text/plain": [
       "<Figure size 1200x800 with 5 Axes>"
      ]
     },
     "metadata": {},
     "output_type": "display_data"
    }
   ],
   "source": [
    "columns = ['age', 'trestbps', 'thalach', 'chol', 'oldpeak']\n",
    "# columns = df_mv_final_medians.columns[df_mv_final_medians.columns != \"label\"]\n",
    "\n",
    "# calculate the number of rows needed\n",
    "num_rows = (len(columns) + 2) // 3  \n",
    "\n",
    "# plot the figures\n",
    "fig, axs = plt.subplots(num_rows, 3, figsize=(12, 4 * num_rows))\n",
    "axs = axs.flatten()\n",
    "\n",
    "for i, col in enumerate(columns):\n",
    "    axs[i].scatter(final[\"label\"], final[col], s=20, alpha=0.1)  # Set the marker size to 20\n",
    "    \n",
    "    axs[i].set_xlabel(\"Label\")\n",
    "    axs[i].set_ylabel(col)\n",
    "    \n",
    "    axs[i].set_xticks([0, 1, 2, 3])\n",
    "    axs[i].set_title(f\"{col} vs Label\")\n",
    "\n",
    "if len(columns) < len(axs):\n",
    "    for j in range(len(columns), len(axs)):\n",
    "        fig.delaxes(axs[j])\n",
    "\n",
    "plt.tight_layout()\n",
    "plt.show()"
   ]
  },
  {
   "cell_type": "markdown",
   "metadata": {},
   "source": [
    "Modes for not continous columns"
   ]
  },
  {
   "cell_type": "code",
   "execution_count": 262,
   "metadata": {},
   "outputs": [
    {
     "name": "stdout",
     "output_type": "stream",
     "text": [
      "0      sex   cp  fbs  restecg  exang  slope\n",
      "label                                      \n",
      "0      1.0  4.0  0.0      2.0    1.0    2.0\n",
      "1      1.0  3.0  0.0      0.0    0.0    1.0\n",
      "2      0.0  4.0  0.0      2.0    1.0    2.0\n",
      "3      0.0  4.0  0.0      2.0    0.0    1.0\n",
      "4      1.0  4.0  0.0      0.0    1.0    2.0\n",
      "5      1.0  4.0  0.0      2.0    0.0    1.0\n",
      "6      0.0  3.0  0.0      0.0    0.0    1.0\n"
     ]
    }
   ],
   "source": [
    "exclude_columns = ['age', 'trestbps', 'thalach', 'chol', 'oldpeak', 'label', 'id']\n",
    "mode_columns = final.columns[~final.columns.isin(exclude_columns)]\n",
    "column_modes = final.groupby('label')[mode_columns].apply(lambda x: x.mode().iloc[0])\n",
    "print(column_modes)"
   ]
  },
  {
   "cell_type": "markdown",
   "metadata": {},
   "source": [
    "Means for not continous columns"
   ]
  },
  {
   "cell_type": "code",
   "execution_count": 263,
   "metadata": {},
   "outputs": [
    {
     "name": "stdout",
     "output_type": "stream",
     "text": [
      "       sex        cp       fbs   restecg  exang     slope\n",
      "label                                                    \n",
      "0      1.0  3.833333  0.100000  2.000000    1.0  1.833333\n",
      "1      1.0  2.755556  0.200000  0.000000    0.0  1.422222\n",
      "2      0.0  3.733333  0.200000  1.066667    1.0  1.933333\n",
      "3      0.0  3.172414  0.137931  1.965517    0.0  1.551724\n",
      "4      1.0  3.444444  0.111111  0.000000    1.0  1.703704\n",
      "5      1.0  2.736842  0.105263  2.000000    0.0  1.631579\n",
      "6      0.0  2.750000  0.000000  0.000000    0.0  1.357143\n"
     ]
    }
   ],
   "source": [
    "exclude_columns = ['age', 'trestbps', 'thalach', 'chol', 'oldpeak', 'label', 'id']\n",
    "mode_columns = final.columns[~final.columns.isin(exclude_columns)]\n",
    "column_modes = final.groupby('label')[mode_columns].mean()\n",
    "print(column_modes)"
   ]
  },
  {
   "cell_type": "markdown",
   "metadata": {},
   "source": [
    "TEST"
   ]
  },
  {
   "cell_type": "code",
   "execution_count": 265,
   "metadata": {},
   "outputs": [],
   "source": [
    "df_test = pd.read_csv('test.csv')\n",
    "raw_data_test = df_test.copy()\n",
    "df_test = preprocessing(df_test, rem_over=True, rep_out=False, encode=False, process='minmax')"
   ]
  },
  {
   "cell_type": "code",
   "execution_count": 267,
   "metadata": {},
   "outputs": [
    {
     "name": "stdout",
     "output_type": "stream",
     "text": [
      "Number of clusters: 7\n"
     ]
    }
   ],
   "source": [
    "df_kmeans_test, model = k_means_alg(df_test, num_clusters=7)\n",
    "y_kmeans_test = df_kmeans_test['label']"
   ]
  },
  {
   "cell_type": "code",
   "execution_count": 270,
   "metadata": {},
   "outputs": [
    {
     "name": "stdout",
     "output_type": "stream",
     "text": [
      "          id   age  sex   cp  trestbps   chol  fbs  restecg  thalach  exang  \\\n",
      "label                                                                         \n",
      "0      172.0  60.0  1.0  2.5     150.0  222.5  1.0      2.0    135.5    0.0   \n",
      "1      120.0  60.0  1.0  3.0     135.0  254.0  0.0      2.0    155.0    0.0   \n",
      "2      187.0  57.5  1.0  4.0     122.5  206.0  0.0      2.0    129.0    1.0   \n",
      "3      137.5  48.5  1.0  3.0     127.0  233.5  0.0      0.0    167.0    0.0   \n",
      "4      199.0  50.0  0.0  3.0     120.0  244.0  0.0      0.0    162.0    0.0   \n",
      "5      169.0  55.5  0.0  3.5     139.0  306.5  0.0      2.0    156.0    0.0   \n",
      "6      119.0  56.0  1.0  4.0     130.0  283.0  1.0      2.0    136.0    1.0   \n",
      "\n",
      "       oldpeak  slope  \n",
      "label                  \n",
      "0         0.05    1.5  \n",
      "1         0.40    2.0  \n",
      "2         1.35    2.0  \n",
      "3         0.15    1.0  \n",
      "4         0.00    1.0  \n",
      "5         0.85    1.5  \n",
      "6         1.60    2.0  \n",
      "               id        age  sex        cp    trestbps        chol       fbs  \\\n",
      "label                                                                           \n",
      "0      177.750000  61.500000  1.0  2.500000  148.250000  235.500000  1.000000   \n",
      "1      130.428571  58.142857  1.0  3.000000  134.142857  249.285714  0.000000   \n",
      "2      175.125000  56.000000  1.0  3.875000  122.500000  210.125000  0.000000   \n",
      "3      161.000000  47.400000  1.0  3.100000  126.400000  237.600000  0.100000   \n",
      "4      175.285714  52.428571  0.0  3.142857  126.142857  245.285714  0.428571   \n",
      "5      153.500000  55.750000  0.0  3.500000  137.750000  353.250000  0.000000   \n",
      "6      155.000000  52.200000  0.8  4.000000  129.800000  290.000000  1.000000   \n",
      "\n",
      "       restecg     thalach  exang   oldpeak     slope  \n",
      "label                                                  \n",
      "0         2.00  140.000000   0.00  0.275000  1.500000  \n",
      "1         2.00  160.000000   0.00  1.142857  1.571429  \n",
      "2         1.25  128.875000   1.00  1.512500  2.000000  \n",
      "3         0.00  162.600000   0.00  0.470000  1.300000  \n",
      "4         0.00  146.857143   0.00  0.657143  1.428571  \n",
      "5         2.00  153.750000   0.25  0.825000  1.500000  \n",
      "6         2.00  131.600000   1.00  1.540000  2.000000  \n"
     ]
    }
   ],
   "source": [
    "final_test_medians = raw_data_test.copy()\n",
    "final_test_medians['label'] = y_kmeans_test\n",
    "print(medians_for_clusters(final_test_medians))\n",
    "print(means_for_clusters(final_test_medians))"
   ]
  },
  {
   "cell_type": "code",
   "execution_count": 271,
   "metadata": {},
   "outputs": [
    {
     "name": "stdout",
     "output_type": "stream",
     "text": [
      "Minimal distance between clusters: 0.9922968929742194\n",
      "Average distance between points in the same class: 0.9217186375194766\n",
      "Standard deviation of distance between points in the same class: 0.11521549818900209\n",
      "Silhouette score: 0.3149350068163209\n",
      "Calinski-Harabasz index: 13.349315399650472\n",
      "Davies Bouldin index: 1.1325244753438624\n"
     ]
    }
   ],
   "source": [
    "for metric in metrices:\n",
    "    print(f'{metric}: {metrices[metric](df_test, y_kmeans_test)}')"
   ]
  }
 ],
 "metadata": {
  "kernelspec": {
   "display_name": "Python 3 (ipykernel)",
   "language": "python",
   "name": "python3"
  },
  "language_info": {
   "codemirror_mode": {
    "name": "ipython",
    "version": 3
   },
   "file_extension": ".py",
   "mimetype": "text/x-python",
   "name": "python",
   "nbconvert_exporter": "python",
   "pygments_lexer": "ipython3",
   "version": "3.9.13"
  }
 },
 "nbformat": 4,
 "nbformat_minor": 2
}
