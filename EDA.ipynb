{
 "cells": [
  {
   "cell_type": "markdown",
   "metadata": {},
   "source": [
    "## Heart disease patients clasterization\n",
    "Tymoteusz Urban, Karolina Mączka"
   ]
  },
  {
   "cell_type": "code",
   "execution_count": 29,
   "metadata": {},
   "outputs": [],
   "source": [
    "import pandas as pd\n",
    "import numpy as np\n",
    "import seaborn as sns\n",
    "import matplotlib.pyplot as plt\n",
    "# from statsmodels.stats.outliers_influence import variance_inflation_factor\n",
    "from sklearn.decomposition import PCA\n",
    "from sklearn.preprocessing import StandardScaler, Normalizer, MinMaxScaler\n",
    "from sklearn.cluster import KMeans\n",
    "from sklearn.metrics import silhouette_score, calinski_harabasz_score, davies_bouldin_score\n",
    "from sklearn.model_selection import train_test_split"
   ]
  },
  {
   "cell_type": "code",
   "execution_count": 30,
   "metadata": {},
   "outputs": [],
   "source": [
    "import warnings\n",
    "warnings.filterwarnings(\"ignore\")"
   ]
  },
  {
   "cell_type": "markdown",
   "metadata": {},
   "source": [
    "### Dividing dataset and saving to files"
   ]
  },
  {
   "cell_type": "code",
   "execution_count": 31,
   "metadata": {},
   "outputs": [],
   "source": [
    "from sklearn.model_selection import train_test_split\n",
    "\n",
    "df = pd.read_csv('heart_disease_patients.csv')\n",
    "\n",
    "# Split data into train and remaining data\n",
    "X_train, X_remaining = train_test_split(df, test_size=0.3, random_state=42)\n",
    "\n",
    "# Split remaining data into test and validation sets\n",
    "X_test, X_validation = train_test_split(X_remaining, test_size=0.5, random_state=42)\n",
    "\n",
    "train_df = pd.DataFrame(X_train) \n",
    "train_df.to_csv('train.csv', index=False)\n",
    "\n",
    "test_df = pd.DataFrame(X_test)  \n",
    "test_df.to_csv('test.csv', index=False)\n",
    "\n",
    "validation_df = pd.DataFrame(X_validation)\n",
    "validation_df.to_csv('validation.csv', index=False)\n"
   ]
  },
  {
   "cell_type": "markdown",
   "metadata": {},
   "source": [
    "## Data exploration"
   ]
  },
  {
   "cell_type": "code",
   "execution_count": 32,
   "metadata": {},
   "outputs": [
    {
     "name": "stdout",
     "output_type": "stream",
     "text": [
      "   age  sex  cp  trestbps  chol  fbs  restecg  thalach  exang  oldpeak  slope\n",
      "0   65    1   1       138   282    1        2      174      0      1.4      2\n",
      "1   62    1   4       120   267    0        0       99      1      1.8      2\n",
      "2   57    1   3       150   168    0        0      174      0      1.6      1\n",
      "3   57    1   4       140   192    0        0      148      0      0.4      2\n",
      "4   58    0   4       100   248    0        2      122      0      1.0      2\n"
     ]
    }
   ],
   "source": [
    "df = pd.read_csv('train.csv')\n",
    "df.drop('id', axis=1, inplace=True)\n",
    "raw_data = df\n",
    "print(df.head())"
   ]
  },
  {
   "cell_type": "markdown",
   "metadata": {},
   "source": [
    "1. age - age in years\n",
    "2. sex - sex (1 = male; 0 = female)\n",
    "3. cp - chest pain type (1 = typical angina; 2 = atypical angina; 3 = non-anginal pain; 4 = asymptomatic)\n",
    "4. trestbps - resting blood pressure (in mm Hg on admission to the hospital)\n",
    "5. chol - serum cholestoral in mg/dl\n",
    "6. fbs - fasting blood sugar > 120 mg/dl (1 = true; 0 = false)\n",
    "7. restecg - resting electrocardiographic results (0 = normal; 1 = having ST-T; 2 = hypertrophy)\n",
    "8. thalach - maximum heart rate achieved\n",
    "9. exang - exercise induced angina (1 = yes; 0 = no)\n",
    "10. oldpeak - ST depression induced by exercise relative to rest\n",
    "11. slope - the slope of the peak exercise ST segment (1 = upsloping; 2 = flat; 3 = downsloping)"
   ]
  },
  {
   "cell_type": "code",
   "execution_count": 4,
   "metadata": {},
   "outputs": [
    {
     "name": "stdout",
     "output_type": "stream",
     "text": [
      "<class 'pandas.core.frame.DataFrame'>\n",
      "RangeIndex: 303 entries, 0 to 302\n",
      "Data columns (total 12 columns):\n",
      " #   Column    Non-Null Count  Dtype  \n",
      "---  ------    --------------  -----  \n",
      " 0   id        303 non-null    int64  \n",
      " 1   age       303 non-null    int64  \n",
      " 2   sex       303 non-null    int64  \n",
      " 3   cp        303 non-null    int64  \n",
      " 4   trestbps  303 non-null    int64  \n",
      " 5   chol      303 non-null    int64  \n",
      " 6   fbs       303 non-null    int64  \n",
      " 7   restecg   303 non-null    int64  \n",
      " 8   thalach   303 non-null    int64  \n",
      " 9   exang     303 non-null    int64  \n",
      " 10  oldpeak   303 non-null    float64\n",
      " 11  slope     303 non-null    int64  \n",
      "dtypes: float64(1), int64(11)\n",
      "memory usage: 28.5 KB\n"
     ]
    }
   ],
   "source": [
    "df.info()"
   ]
  },
  {
   "cell_type": "code",
   "execution_count": 5,
   "metadata": {},
   "outputs": [
    {
     "data": {
      "text/plain": [
       "id          0\n",
       "age         0\n",
       "sex         0\n",
       "cp          0\n",
       "trestbps    0\n",
       "chol        0\n",
       "fbs         0\n",
       "restecg     0\n",
       "thalach     0\n",
       "exang       0\n",
       "oldpeak     0\n",
       "slope       0\n",
       "dtype: int64"
      ]
     },
     "execution_count": 5,
     "metadata": {},
     "output_type": "execute_result"
    }
   ],
   "source": [
    "df.isnull().sum()"
   ]
  },
  {
   "cell_type": "markdown",
   "metadata": {},
   "source": [
    "There are no null values, all variables are clean and properly encoded"
   ]
  },
  {
   "cell_type": "code",
   "execution_count": 6,
   "metadata": {},
   "outputs": [
    {
     "data": {
      "text/plain": [
       "array([[<Axes: title={'center': 'id'}>, <Axes: title={'center': 'age'}>,\n",
       "        <Axes: title={'center': 'sex'}>],\n",
       "       [<Axes: title={'center': 'cp'}>,\n",
       "        <Axes: title={'center': 'trestbps'}>,\n",
       "        <Axes: title={'center': 'chol'}>],\n",
       "       [<Axes: title={'center': 'fbs'}>,\n",
       "        <Axes: title={'center': 'restecg'}>,\n",
       "        <Axes: title={'center': 'thalach'}>],\n",
       "       [<Axes: title={'center': 'exang'}>,\n",
       "        <Axes: title={'center': 'oldpeak'}>,\n",
       "        <Axes: title={'center': 'slope'}>]], dtype=object)"
      ]
     },
     "execution_count": 6,
     "metadata": {},
     "output_type": "execute_result"
    },
    {
     "data": {
      "image/png": "[encoded data removed]",
      "text/plain": [
       "<Figure size 1000x1000 with 12 Axes>"
      ]
     },
     "metadata": {},
     "output_type": "display_data"
    }
   ],
   "source": [
    "df.hist(figsize=(10,10))"
   ]
  },
  {
   "cell_type": "code",
   "execution_count": 14,
   "metadata": {},
   "outputs": [
    {
     "data": {
      "text/plain": [
       "<Axes: >"
      ]
     },
     "execution_count": 14,
     "metadata": {},
     "output_type": "execute_result"
    },
    {
     "data": {
      "image/png": "[encoded data removed]",
      "text/plain": [
       "<Figure size 640x480 with 2 Axes>"
      ]
     },
     "metadata": {},
     "output_type": "display_data"
    }
   ],
   "source": [
    "sns.heatmap(df.corr())"
   ]
  },
  {
   "cell_type": "markdown",
   "metadata": {},
   "source": [
    "There is quite high correlation between oldpeak and slope and also between cp and exang, but is it big enough to delete any of the columns?"
   ]
  },
  {
   "cell_type": "code",
   "execution_count": 33,
   "metadata": {},
   "outputs": [
    {
     "name": "stdout",
     "output_type": "stream",
     "text": [
      "oldpeak and slope correlation: 0.5458278072906251\n",
      "cp and exang correlation: 0.39916290470356114\n"
     ]
    }
   ],
   "source": [
    "print(f\"oldpeak and slope correlation: {df[['oldpeak', 'slope']].corr().iloc[0,1]}\")\n",
    "print(f\"cp and exang correlation: {df[['cp', 'exang']].corr().iloc[0,1]}\")"
   ]
  },
  {
   "cell_type": "code",
   "execution_count": 34,
   "metadata": {},
   "outputs": [
    {
     "data": {
      "image/png": "[encoded data removed]",
      "text/plain": [
       "<Figure size 432x288 with 1 Axes>"
      ]
     },
     "metadata": {
      "needs_background": "light"
     },
     "output_type": "display_data"
    }
   ],
   "source": [
    "plt.scatter(df['slope'], df['oldpeak'])\n",
    "plt.xlabel('Slope')\n",
    "plt.ylabel('Oldpeak')\n",
    "plt.show()"
   ]
  },
  {
   "cell_type": "code",
   "execution_count": 35,
   "metadata": {},
   "outputs": [],
   "source": [
    "# Another approach\n",
    "def calc_vif(X):\n",
    "    vif = pd.DataFrame()\n",
    "    vif[\"variables\"] = X.columns\n",
    "    vif[\"VIF\"] = [variance_inflation_factor(X.values, i) for i in range(X.shape[1])]\n",
    "    return vif"
   ]
  },
  {
   "cell_type": "code",
   "execution_count": 36,
   "metadata": {},
   "outputs": [
    {
     "ename": "NameError",
     "evalue": "name 'variance_inflation_factor' is not defined",
     "output_type": "error",
     "traceback": [
      "\u001b[1;31m---------------------------------------------------------------------------\u001b[0m",
      "\u001b[1;31mNameError\u001b[0m                                 Traceback (most recent call last)",
      "\u001b[1;32m~\\AppData\\Local\\Temp/ipykernel_18396/2588708436.py\u001b[0m in \u001b[0;36m<module>\u001b[1;34m\u001b[0m\n\u001b[1;32m----> 1\u001b[1;33m \u001b[0mcalc_vif\u001b[0m\u001b[1;33m(\u001b[0m\u001b[0mdf\u001b[0m\u001b[1;33m)\u001b[0m\u001b[1;33m\u001b[0m\u001b[1;33m\u001b[0m\u001b[0m\n\u001b[0m",
      "\u001b[1;32m~\\AppData\\Local\\Temp/ipykernel_18396/2521036435.py\u001b[0m in \u001b[0;36mcalc_vif\u001b[1;34m(X)\u001b[0m\n\u001b[0;32m      3\u001b[0m     \u001b[0mvif\u001b[0m \u001b[1;33m=\u001b[0m \u001b[0mpd\u001b[0m\u001b[1;33m.\u001b[0m\u001b[0mDataFrame\u001b[0m\u001b[1;33m(\u001b[0m\u001b[1;33m)\u001b[0m\u001b[1;33m\u001b[0m\u001b[1;33m\u001b[0m\u001b[0m\n\u001b[0;32m      4\u001b[0m     \u001b[0mvif\u001b[0m\u001b[1;33m[\u001b[0m\u001b[1;34m\"variables\"\u001b[0m\u001b[1;33m]\u001b[0m \u001b[1;33m=\u001b[0m \u001b[0mX\u001b[0m\u001b[1;33m.\u001b[0m\u001b[0mcolumns\u001b[0m\u001b[1;33m\u001b[0m\u001b[1;33m\u001b[0m\u001b[0m\n\u001b[1;32m----> 5\u001b[1;33m     \u001b[0mvif\u001b[0m\u001b[1;33m[\u001b[0m\u001b[1;34m\"VIF\"\u001b[0m\u001b[1;33m]\u001b[0m \u001b[1;33m=\u001b[0m \u001b[1;33m[\u001b[0m\u001b[0mvariance_inflation_factor\u001b[0m\u001b[1;33m(\u001b[0m\u001b[0mX\u001b[0m\u001b[1;33m.\u001b[0m\u001b[0mvalues\u001b[0m\u001b[1;33m,\u001b[0m \u001b[0mi\u001b[0m\u001b[1;33m)\u001b[0m \u001b[1;32mfor\u001b[0m \u001b[0mi\u001b[0m \u001b[1;32min\u001b[0m \u001b[0mrange\u001b[0m\u001b[1;33m(\u001b[0m\u001b[0mX\u001b[0m\u001b[1;33m.\u001b[0m\u001b[0mshape\u001b[0m\u001b[1;33m[\u001b[0m\u001b[1;36m1\u001b[0m\u001b[1;33m]\u001b[0m\u001b[1;33m)\u001b[0m\u001b[1;33m]\u001b[0m\u001b[1;33m\u001b[0m\u001b[1;33m\u001b[0m\u001b[0m\n\u001b[0m\u001b[0;32m      6\u001b[0m     \u001b[1;32mreturn\u001b[0m \u001b[0mvif\u001b[0m\u001b[1;33m\u001b[0m\u001b[1;33m\u001b[0m\u001b[0m\n",
      "\u001b[1;32m~\\AppData\\Local\\Temp/ipykernel_18396/2521036435.py\u001b[0m in \u001b[0;36m<listcomp>\u001b[1;34m(.0)\u001b[0m\n\u001b[0;32m      3\u001b[0m     \u001b[0mvif\u001b[0m \u001b[1;33m=\u001b[0m \u001b[0mpd\u001b[0m\u001b[1;33m.\u001b[0m\u001b[0mDataFrame\u001b[0m\u001b[1;33m(\u001b[0m\u001b[1;33m)\u001b[0m\u001b[1;33m\u001b[0m\u001b[1;33m\u001b[0m\u001b[0m\n\u001b[0;32m      4\u001b[0m     \u001b[0mvif\u001b[0m\u001b[1;33m[\u001b[0m\u001b[1;34m\"variables\"\u001b[0m\u001b[1;33m]\u001b[0m \u001b[1;33m=\u001b[0m \u001b[0mX\u001b[0m\u001b[1;33m.\u001b[0m\u001b[0mcolumns\u001b[0m\u001b[1;33m\u001b[0m\u001b[1;33m\u001b[0m\u001b[0m\n\u001b[1;32m----> 5\u001b[1;33m     \u001b[0mvif\u001b[0m\u001b[1;33m[\u001b[0m\u001b[1;34m\"VIF\"\u001b[0m\u001b[1;33m]\u001b[0m \u001b[1;33m=\u001b[0m \u001b[1;33m[\u001b[0m\u001b[0mvariance_inflation_factor\u001b[0m\u001b[1;33m(\u001b[0m\u001b[0mX\u001b[0m\u001b[1;33m.\u001b[0m\u001b[0mvalues\u001b[0m\u001b[1;33m,\u001b[0m \u001b[0mi\u001b[0m\u001b[1;33m)\u001b[0m \u001b[1;32mfor\u001b[0m \u001b[0mi\u001b[0m \u001b[1;32min\u001b[0m \u001b[0mrange\u001b[0m\u001b[1;33m(\u001b[0m\u001b[0mX\u001b[0m\u001b[1;33m.\u001b[0m\u001b[0mshape\u001b[0m\u001b[1;33m[\u001b[0m\u001b[1;36m1\u001b[0m\u001b[1;33m]\u001b[0m\u001b[1;33m)\u001b[0m\u001b[1;33m]\u001b[0m\u001b[1;33m\u001b[0m\u001b[1;33m\u001b[0m\u001b[0m\n\u001b[0m\u001b[0;32m      6\u001b[0m     \u001b[1;32mreturn\u001b[0m \u001b[0mvif\u001b[0m\u001b[1;33m\u001b[0m\u001b[1;33m\u001b[0m\u001b[0m\n",
      "\u001b[1;31mNameError\u001b[0m: name 'variance_inflation_factor' is not defined"
     ]
    }
   ],
   "source": [
    "calc_vif(df)"
   ]
  },
  {
   "cell_type": "markdown",
   "metadata": {},
   "source": [
    "Which variables should we drop? According to traditional correlation between variables it could be slope, but after calculatin VIF it seems that age, trestbps, chol and thalach are highly correlated with the other variables."
   ]
  },
  {
   "cell_type": "markdown",
   "metadata": {},
   "source": [
    "## Preprocessing"
   ]
  },
  {
   "cell_type": "code",
   "execution_count": 37,
   "metadata": {},
   "outputs": [],
   "source": [
    "# Outliers removal - replace lower_bound and upper_bound, only numeric columns\n",
    "def replace_outliers(data, k=1.5):\n",
    "    \"\"\"\n",
    "    Removes outliers from a pandas DataFrame using the interquartile range (IQR) method.\n",
    "\n",
    "    :param data: dataframe\n",
    "    :param k: A multiplier to adjust the outlier threshold. By default, k is set to 1.5.\n",
    "    :return: dataframe\n",
    "    \"\"\"\n",
    "    for col in ['age', 'trestbps', 'chol', 'thalach', 'oldpeak']:\n",
    "        q1, q3 = np.percentile(data[col], [25, 75])\n",
    "        iqr = q3 - q1\n",
    "        lower_bound = q1 - k * iqr\n",
    "        upper_bound = q3 + k * iqr\n",
    "        mask = (data[col] < lower_bound)\n",
    "        data.loc[mask, col] = lower_bound\n",
    "        mask = (data[col] > upper_bound)\n",
    "        data.loc[mask, col] = upper_bound\n",
    "    return data"
   ]
  },
  {
   "cell_type": "code",
   "execution_count": 38,
   "metadata": {},
   "outputs": [
    {
     "data": {
      "text/html": [
       "<div>\n",
       "<style scoped>\n",
       "    .dataframe tbody tr th:only-of-type {\n",
       "        vertical-align: middle;\n",
       "    }\n",
       "\n",
       "    .dataframe tbody tr th {\n",
       "        vertical-align: top;\n",
       "    }\n",
       "\n",
       "    .dataframe thead th {\n",
       "        text-align: right;\n",
       "    }\n",
       "</style>\n",
       "<table border=\"1\" class=\"dataframe\">\n",
       "  <thead>\n",
       "    <tr style=\"text-align: right;\">\n",
       "      <th></th>\n",
       "      <th>age</th>\n",
       "      <th>sex</th>\n",
       "      <th>cp</th>\n",
       "      <th>trestbps</th>\n",
       "      <th>chol</th>\n",
       "      <th>fbs</th>\n",
       "      <th>restecg</th>\n",
       "      <th>thalach</th>\n",
       "      <th>exang</th>\n",
       "      <th>oldpeak</th>\n",
       "      <th>slope</th>\n",
       "    </tr>\n",
       "  </thead>\n",
       "  <tbody>\n",
       "    <tr>\n",
       "      <th>0</th>\n",
       "      <td>65.0</td>\n",
       "      <td>1</td>\n",
       "      <td>1</td>\n",
       "      <td>138.00</td>\n",
       "      <td>282.0</td>\n",
       "      <td>1</td>\n",
       "      <td>2</td>\n",
       "      <td>174.0</td>\n",
       "      <td>0</td>\n",
       "      <td>1.4</td>\n",
       "      <td>2</td>\n",
       "    </tr>\n",
       "    <tr>\n",
       "      <th>1</th>\n",
       "      <td>62.0</td>\n",
       "      <td>1</td>\n",
       "      <td>4</td>\n",
       "      <td>120.00</td>\n",
       "      <td>267.0</td>\n",
       "      <td>0</td>\n",
       "      <td>0</td>\n",
       "      <td>99.0</td>\n",
       "      <td>1</td>\n",
       "      <td>1.8</td>\n",
       "      <td>2</td>\n",
       "    </tr>\n",
       "    <tr>\n",
       "      <th>2</th>\n",
       "      <td>57.0</td>\n",
       "      <td>1</td>\n",
       "      <td>3</td>\n",
       "      <td>150.00</td>\n",
       "      <td>168.0</td>\n",
       "      <td>0</td>\n",
       "      <td>0</td>\n",
       "      <td>174.0</td>\n",
       "      <td>0</td>\n",
       "      <td>1.6</td>\n",
       "      <td>1</td>\n",
       "    </tr>\n",
       "    <tr>\n",
       "      <th>3</th>\n",
       "      <td>57.0</td>\n",
       "      <td>1</td>\n",
       "      <td>4</td>\n",
       "      <td>140.00</td>\n",
       "      <td>192.0</td>\n",
       "      <td>0</td>\n",
       "      <td>0</td>\n",
       "      <td>148.0</td>\n",
       "      <td>0</td>\n",
       "      <td>0.4</td>\n",
       "      <td>2</td>\n",
       "    </tr>\n",
       "    <tr>\n",
       "      <th>4</th>\n",
       "      <td>58.0</td>\n",
       "      <td>0</td>\n",
       "      <td>4</td>\n",
       "      <td>100.00</td>\n",
       "      <td>248.0</td>\n",
       "      <td>0</td>\n",
       "      <td>2</td>\n",
       "      <td>122.0</td>\n",
       "      <td>0</td>\n",
       "      <td>1.0</td>\n",
       "      <td>2</td>\n",
       "    </tr>\n",
       "    <tr>\n",
       "      <th>...</th>\n",
       "      <td>...</td>\n",
       "      <td>...</td>\n",
       "      <td>...</td>\n",
       "      <td>...</td>\n",
       "      <td>...</td>\n",
       "      <td>...</td>\n",
       "      <td>...</td>\n",
       "      <td>...</td>\n",
       "      <td>...</td>\n",
       "      <td>...</td>\n",
       "      <td>...</td>\n",
       "    </tr>\n",
       "    <tr>\n",
       "      <th>207</th>\n",
       "      <td>54.0</td>\n",
       "      <td>1</td>\n",
       "      <td>2</td>\n",
       "      <td>171.25</td>\n",
       "      <td>283.0</td>\n",
       "      <td>0</td>\n",
       "      <td>2</td>\n",
       "      <td>195.0</td>\n",
       "      <td>0</td>\n",
       "      <td>0.0</td>\n",
       "      <td>1</td>\n",
       "    </tr>\n",
       "    <tr>\n",
       "      <th>208</th>\n",
       "      <td>67.0</td>\n",
       "      <td>1</td>\n",
       "      <td>4</td>\n",
       "      <td>125.00</td>\n",
       "      <td>254.0</td>\n",
       "      <td>1</td>\n",
       "      <td>0</td>\n",
       "      <td>163.0</td>\n",
       "      <td>0</td>\n",
       "      <td>0.2</td>\n",
       "      <td>2</td>\n",
       "    </tr>\n",
       "    <tr>\n",
       "      <th>209</th>\n",
       "      <td>59.0</td>\n",
       "      <td>1</td>\n",
       "      <td>4</td>\n",
       "      <td>140.00</td>\n",
       "      <td>177.0</td>\n",
       "      <td>0</td>\n",
       "      <td>0</td>\n",
       "      <td>162.0</td>\n",
       "      <td>1</td>\n",
       "      <td>0.0</td>\n",
       "      <td>1</td>\n",
       "    </tr>\n",
       "    <tr>\n",
       "      <th>210</th>\n",
       "      <td>61.0</td>\n",
       "      <td>1</td>\n",
       "      <td>4</td>\n",
       "      <td>140.00</td>\n",
       "      <td>207.0</td>\n",
       "      <td>0</td>\n",
       "      <td>2</td>\n",
       "      <td>138.0</td>\n",
       "      <td>1</td>\n",
       "      <td>1.9</td>\n",
       "      <td>1</td>\n",
       "    </tr>\n",
       "    <tr>\n",
       "      <th>211</th>\n",
       "      <td>57.0</td>\n",
       "      <td>0</td>\n",
       "      <td>4</td>\n",
       "      <td>128.00</td>\n",
       "      <td>303.0</td>\n",
       "      <td>0</td>\n",
       "      <td>2</td>\n",
       "      <td>159.0</td>\n",
       "      <td>0</td>\n",
       "      <td>0.0</td>\n",
       "      <td>1</td>\n",
       "    </tr>\n",
       "  </tbody>\n",
       "</table>\n",
       "<p>212 rows × 11 columns</p>\n",
       "</div>"
      ],
      "text/plain": [
       "      age  sex  cp  trestbps   chol  fbs  restecg  thalach  exang  oldpeak  \\\n",
       "0    65.0    1   1    138.00  282.0    1        2    174.0      0      1.4   \n",
       "1    62.0    1   4    120.00  267.0    0        0     99.0      1      1.8   \n",
       "2    57.0    1   3    150.00  168.0    0        0    174.0      0      1.6   \n",
       "3    57.0    1   4    140.00  192.0    0        0    148.0      0      0.4   \n",
       "4    58.0    0   4    100.00  248.0    0        2    122.0      0      1.0   \n",
       "..    ...  ...  ..       ...    ...  ...      ...      ...    ...      ...   \n",
       "207  54.0    1   2    171.25  283.0    0        2    195.0      0      0.0   \n",
       "208  67.0    1   4    125.00  254.0    1        0    163.0      0      0.2   \n",
       "209  59.0    1   4    140.00  177.0    0        0    162.0      1      0.0   \n",
       "210  61.0    1   4    140.00  207.0    0        2    138.0      1      1.9   \n",
       "211  57.0    0   4    128.00  303.0    0        2    159.0      0      0.0   \n",
       "\n",
       "     slope  \n",
       "0        2  \n",
       "1        2  \n",
       "2        1  \n",
       "3        2  \n",
       "4        2  \n",
       "..     ...  \n",
       "207      1  \n",
       "208      2  \n",
       "209      1  \n",
       "210      1  \n",
       "211      1  \n",
       "\n",
       "[212 rows x 11 columns]"
      ]
     },
     "execution_count": 38,
     "metadata": {},
     "output_type": "execute_result"
    }
   ],
   "source": [
    "replace_outliers(df)"
   ]
  },
  {
   "cell_type": "code",
   "execution_count": 39,
   "metadata": {},
   "outputs": [],
   "source": [
    "# Instead manual deletion of variables we could use PCA for reducing dimensionality\n",
    "def remove_overshadowing(data):\n",
    "    \"\"\"\n",
    "    Performs Principal Component Analysis (PCA) on a given dataset.\n",
    "\n",
    "    :param data: dataframe\n",
    "    :return:\n",
    "            A reduced version of the input DataFrame, containing the first n principal components\n",
    "            where n is the smallest number of components that explain at least 95% of the variance in the data.\n",
    "            The columns of the new DataFrame are named \"PC1\", \"PC2\", etc.\n",
    "\n",
    "    \"\"\"\n",
    "    # Perform PCA\n",
    "    pca = PCA()\n",
    "    X_pca = pca.fit_transform(data)\n",
    "\n",
    "    # Determine the number of principal components to retain\n",
    "    explained_variances = pca.explained_variance_ratio_\n",
    "    cumulative_variances = np.cumsum(explained_variances)\n",
    "    n_components = np.argmax(cumulative_variances > 0.95) + 1\n",
    "\n",
    "    # Retain the first n principal components\n",
    "    X_reduced = X_pca[:, :n_components]\n",
    "\n",
    "    # Convert back to a pandas DataFrame\n",
    "    df_reduced = pd.DataFrame(X_reduced, columns=[\"PC\"+str(i) for i in range(1, n_components+1)])\n",
    "    \n",
    "    return df_reduced"
   ]
  },
  {
   "cell_type": "markdown",
   "metadata": {},
   "source": [
    "We will also need to scale our data - we can try 3 different ways to do it. We will test it later."
   ]
  },
  {
   "cell_type": "code",
   "execution_count": 40,
   "metadata": {},
   "outputs": [],
   "source": [
    "def standarize(X):\n",
    "    scaler = StandardScaler()\n",
    "    X_scaled = scaler.fit_transform(X)\n",
    "    X = pd.DataFrame(X_scaled, columns=X.columns)\n",
    "    return X\n",
    "\n",
    "\n",
    "def normalize(X):\n",
    "    normalizer = Normalizer()\n",
    "    X_normalized = normalizer.fit_transform(X)\n",
    "    X = pd.DataFrame(X_normalized, columns=X.columns)\n",
    "    return X\n",
    "\n",
    "\n",
    "def minmax(X):\n",
    "    minmaxer = MinMaxScaler()\n",
    "    X_scaled = minmaxer.fit_transform(X)\n",
    "    X = pd.DataFrame(X_scaled, columns=X.columns, index=X.index)\n",
    "    return X"
   ]
  },
  {
   "cell_type": "markdown",
   "metadata": {},
   "source": [
    "## Number of clusters"
   ]
  },
  {
   "cell_type": "code",
   "execution_count": 41,
   "metadata": {},
   "outputs": [],
   "source": [
    "# We will use functions from other python files, so we don't have to run whole notebook every time\n",
    "from Preprocessing import standarize, minmax, normalize, replace_outliers, preprocessing\n",
    "from KMeans import k_means_alg"
   ]
  },
  {
   "cell_type": "markdown",
   "metadata": {},
   "source": [
    "First we prepare methods for finding optimal number of clusters"
   ]
  },
  {
   "cell_type": "code",
   "execution_count": 42,
   "metadata": {},
   "outputs": [],
   "source": [
    "def num_of_clus_elbow(data) -> int:\n",
    "    \"\"\"\n",
    "        Finds optimal number of clusters using elbow method.\n",
    "\n",
    "        :param data: dataframe\n",
    "        :return: number of clusters\n",
    "    \"\"\"\n",
    "    sum_of_squared_distances = []\n",
    "    K = range(1, 10)\n",
    "    for num_clusters in K:\n",
    "        kmeans = KMeans(n_clusters=num_clusters, n_init=10)\n",
    "        kmeans.fit(data)\n",
    "        sum_of_squared_distances.append(kmeans.inertia_)\n",
    "\n",
    "    # finding elbow point\n",
    "    sd = np.diff(sum_of_squared_distances, 2)\n",
    "    elbow_point = np.argmax(sd) + 2\n",
    "\n",
    "    plt.figure(figsize=(8, 5))\n",
    "    plt.plot(range(1, 10), sum_of_squared_distances, marker='o')\n",
    "    plt.xlabel('Number of clusters')\n",
    "    plt.ylabel('WCSS')\n",
    "    plt.show()\n",
    "\n",
    "    return elbow_point"
   ]
  },
  {
   "cell_type": "code",
   "execution_count": 43,
   "metadata": {},
   "outputs": [],
   "source": [
    "def num_of_clus_silhouette(data) -> int:\n",
    "    \"\"\"\n",
    "    Finds optimal number of clusters using silhouette method.\n",
    "\n",
    "    :param data: dataframe\n",
    "    :return: number of clusters\n",
    "    \"\"\"\n",
    "    silhouette_scores = []\n",
    "    for i in range(2, 11):\n",
    "        kmeans = KMeans(n_clusters=i, init='k-means++', max_iter=300, n_init=10, random_state=0)\n",
    "        kmeans.fit(data)\n",
    "        score = silhouette_score(data, kmeans.labels_)\n",
    "        silhouette_scores.append(score)\n",
    "\n",
    "    silhouette_point = np.argmax(silhouette_scores) + 2\n",
    "\n",
    "    plt.figure(figsize=(8, 5))\n",
    "    plt.plot(range(2, 11), silhouette_scores, marker='o')\n",
    "    plt.xlabel('Number of clusters')\n",
    "    plt.ylabel('Silhouette score')\n",
    "    plt.show()\n",
    "\n",
    "    return silhouette_point"
   ]
  },
  {
   "cell_type": "code",
   "execution_count": 44,
   "metadata": {},
   "outputs": [
    {
     "data": {
      "image/png": "[encoded data removed]",
      "text/plain": [
       "<Figure size 576x360 with 1 Axes>"
      ]
     },
     "metadata": {
      "needs_background": "light"
     },
     "output_type": "display_data"
    },
    {
     "name": "stdout",
     "output_type": "stream",
     "text": [
      "Elbow method: 2\n"
     ]
    },
    {
     "data": {
      "image/png": "[encoded data removed]",
      "text/plain": [
       "<Figure size 576x360 with 1 Axes>"
      ]
     },
     "metadata": {
      "needs_background": "light"
     },
     "output_type": "display_data"
    },
    {
     "name": "stdout",
     "output_type": "stream",
     "text": [
      "Silhouette method: 9\n"
     ]
    }
   ],
   "source": [
    "# Let's check elbow method\n",
    "df_clusters = replace_outliers(raw_data)\n",
    "df_clusters = minmax(df_clusters)\n",
    "print('Elbow method:', num_of_clus_elbow(df_clusters))\n",
    "print('Silhouette method:', num_of_clus_silhouette(df_clusters))"
   ]
  },
  {
   "cell_type": "markdown",
   "metadata": {},
   "source": [
    "We can see that returned values are different. Now we can test it on a baseline model:"
   ]
  },
  {
   "cell_type": "code",
   "execution_count": 48,
   "metadata": {},
   "outputs": [
    {
     "name": "stdout",
     "output_type": "stream",
     "text": [
      "number of clusters: 2\n",
      "silhouette score: 0.3244921718518941\n",
      "calinski harabasz score: 103.18449273926495\n",
      "davies bouldin score: 1.3148329552292006\n",
      "number of clusters: 10\n",
      "silhouette score: 0.5251210202793916\n",
      "calinski harabasz score: 422.0801221567947\n",
      "davies bouldin score: 0.7597040199846796\n"
     ]
    }
   ],
   "source": [
    "for i in [2,10]:\n",
    "    dfkmeans, model = k_means_alg(df_clusters, num_clusters=i)\n",
    "    y_kmeans = dfkmeans['label']\n",
    "    print(f\"silhouette score: {silhouette_score(df_clusters, y_kmeans)}\")\n",
    "    print(f\"calinski harabasz score: {calinski_harabasz_score(df_clusters, y_kmeans)}\")\n",
    "    print(f\"davies bouldin score: {davies_bouldin_score(df_clusters, y_kmeans)}\")"
   ]
  },
  {
   "cell_type": "markdown",
   "metadata": {},
   "source": [
    "Results vary depending on the score used, but overall results are better for 10 clusters. On the other hand, 10 clusters is too much, and we can try using something between for example 5. Now let's check how preprocessing influences clusters and score."
   ]
  },
  {
   "cell_type": "code",
   "execution_count": 49,
   "metadata": {},
   "outputs": [
    {
     "name": "stdout",
     "output_type": "stream",
     "text": [
      "Processing: stand\n",
      "number of clusters: 5\n",
      "silhouette score: 0.197985520103713\n",
      "calinski harabasz score: 40.04214577817302\n",
      "davies bouldin score: 1.6292233326573335\n",
      "Processing: minmax\n",
      "number of clusters: 5\n",
      "silhouette score: 0.3979121178589119\n",
      "calinski harabasz score: 184.17459876807794\n",
      "davies bouldin score: 1.0227573410383086\n",
      "Processing: norm\n",
      "number of clusters: 5\n",
      "silhouette score: 0.9182733788441707\n",
      "calinski harabasz score: 24797.027141052153\n",
      "davies bouldin score: 0.11888807810511795\n"
     ]
    }
   ],
   "source": [
    "processing = ['stand', 'minmax', 'norm']\n",
    "for proc in processing:\n",
    "    print(f'Processing: {proc}')\n",
    "    df_proc = preprocessing(raw_data, rem_over=False, process=proc)\n",
    "    dfkmeans, model = k_means_alg(df_proc, num_clusters=5)\n",
    "    y = dfkmeans['label']\n",
    "    print(f\"silhouette score: {silhouette_score(df_proc, y)}\")\n",
    "    print(f\"calinski harabasz score: {calinski_harabasz_score(df_proc, y)}\")\n",
    "    print(f\"davies bouldin score: {davies_bouldin_score(df_proc, y)}\")"
   ]
  },
  {
   "cell_type": "markdown",
   "metadata": {},
   "source": [
    "We can see that number of clusters vary. Normalizer has the best results, but we can see that normalized data is hard to interpret:"
   ]
  },
  {
   "cell_type": "code",
   "execution_count": 50,
   "metadata": {},
   "outputs": [
    {
     "data": {
      "text/html": [
       "<div>\n",
       "<style scoped>\n",
       "    .dataframe tbody tr th:only-of-type {\n",
       "        vertical-align: middle;\n",
       "    }\n",
       "\n",
       "    .dataframe tbody tr th {\n",
       "        vertical-align: top;\n",
       "    }\n",
       "\n",
       "    .dataframe thead th {\n",
       "        text-align: right;\n",
       "    }\n",
       "</style>\n",
       "<table border=\"1\" class=\"dataframe\">\n",
       "  <thead>\n",
       "    <tr style=\"text-align: right;\">\n",
       "      <th></th>\n",
       "      <th>age</th>\n",
       "      <th>sex</th>\n",
       "      <th>cp</th>\n",
       "      <th>trestbps</th>\n",
       "      <th>chol</th>\n",
       "      <th>fbs</th>\n",
       "      <th>restecg</th>\n",
       "      <th>thalach</th>\n",
       "      <th>exang</th>\n",
       "      <th>oldpeak</th>\n",
       "      <th>slope</th>\n",
       "    </tr>\n",
       "  </thead>\n",
       "  <tbody>\n",
       "    <tr>\n",
       "      <th>0</th>\n",
       "      <td>0.178178</td>\n",
       "      <td>0.002741</td>\n",
       "      <td>0.002741</td>\n",
       "      <td>0.378285</td>\n",
       "      <td>0.773018</td>\n",
       "      <td>0.002741</td>\n",
       "      <td>0.005482</td>\n",
       "      <td>0.476968</td>\n",
       "      <td>0.000000</td>\n",
       "      <td>0.003838</td>\n",
       "      <td>0.005482</td>\n",
       "    </tr>\n",
       "    <tr>\n",
       "      <th>1</th>\n",
       "      <td>0.196692</td>\n",
       "      <td>0.003172</td>\n",
       "      <td>0.012690</td>\n",
       "      <td>0.380695</td>\n",
       "      <td>0.847046</td>\n",
       "      <td>0.000000</td>\n",
       "      <td>0.000000</td>\n",
       "      <td>0.314073</td>\n",
       "      <td>0.003172</td>\n",
       "      <td>0.005710</td>\n",
       "      <td>0.006345</td>\n",
       "    </tr>\n",
       "    <tr>\n",
       "      <th>2</th>\n",
       "      <td>0.196362</td>\n",
       "      <td>0.003445</td>\n",
       "      <td>0.010335</td>\n",
       "      <td>0.516742</td>\n",
       "      <td>0.578751</td>\n",
       "      <td>0.000000</td>\n",
       "      <td>0.000000</td>\n",
       "      <td>0.599421</td>\n",
       "      <td>0.000000</td>\n",
       "      <td>0.005512</td>\n",
       "      <td>0.003445</td>\n",
       "    </tr>\n",
       "    <tr>\n",
       "      <th>3</th>\n",
       "      <td>0.199493</td>\n",
       "      <td>0.003500</td>\n",
       "      <td>0.014000</td>\n",
       "      <td>0.489983</td>\n",
       "      <td>0.671977</td>\n",
       "      <td>0.000000</td>\n",
       "      <td>0.000000</td>\n",
       "      <td>0.517983</td>\n",
       "      <td>0.000000</td>\n",
       "      <td>0.001400</td>\n",
       "      <td>0.007000</td>\n",
       "    </tr>\n",
       "    <tr>\n",
       "      <th>4</th>\n",
       "      <td>0.193573</td>\n",
       "      <td>0.000000</td>\n",
       "      <td>0.013350</td>\n",
       "      <td>0.333747</td>\n",
       "      <td>0.827693</td>\n",
       "      <td>0.000000</td>\n",
       "      <td>0.006675</td>\n",
       "      <td>0.407171</td>\n",
       "      <td>0.000000</td>\n",
       "      <td>0.003337</td>\n",
       "      <td>0.006675</td>\n",
       "    </tr>\n",
       "  </tbody>\n",
       "</table>\n",
       "</div>"
      ],
      "text/plain": [
       "        age       sex        cp  trestbps      chol       fbs   restecg  \\\n",
       "0  0.178178  0.002741  0.002741  0.378285  0.773018  0.002741  0.005482   \n",
       "1  0.196692  0.003172  0.012690  0.380695  0.847046  0.000000  0.000000   \n",
       "2  0.196362  0.003445  0.010335  0.516742  0.578751  0.000000  0.000000   \n",
       "3  0.199493  0.003500  0.014000  0.489983  0.671977  0.000000  0.000000   \n",
       "4  0.193573  0.000000  0.013350  0.333747  0.827693  0.000000  0.006675   \n",
       "\n",
       "    thalach     exang   oldpeak     slope  \n",
       "0  0.476968  0.000000  0.003838  0.005482  \n",
       "1  0.314073  0.003172  0.005710  0.006345  \n",
       "2  0.599421  0.000000  0.005512  0.003445  \n",
       "3  0.517983  0.000000  0.001400  0.007000  \n",
       "4  0.407171  0.000000  0.003337  0.006675  "
      ]
     },
     "execution_count": 50,
     "metadata": {},
     "output_type": "execute_result"
    }
   ],
   "source": [
    "normalize(raw_data).head()"
   ]
  },
  {
   "cell_type": "markdown",
   "metadata": {},
   "source": [
    "For example values in sex column are around 0.003 while in chol ot thalach values are way bigger. Thus, minmax scaler is the most reasonable scaler, but even 5 clusters is quite a lot. Let's check it with some other numbers of clusters taken from elbow and silhouette plots:"
   ]
  },
  {
   "cell_type": "code",
   "execution_count": 53,
   "metadata": {},
   "outputs": [
    {
     "name": "stdout",
     "output_type": "stream",
     "text": [
      "number of clusters: 2\n",
      "silhouette score: 0.3244921718518941\n",
      "calinski harabasz score: 103.18449273926495\n",
      "davies bouldin score: 1.3148329552292004\n",
      "number of clusters: 3\n",
      "silhouette score: 0.3569914309141545\n",
      "calinski harabasz score: 136.85203655097763\n",
      "davies bouldin score: 1.1764582174008054\n",
      "number of clusters: 4\n",
      "silhouette score: 0.39200711543098427\n",
      "calinski harabasz score: 171.10798515809935\n",
      "davies bouldin score: 1.0458506223110238\n",
      "number of clusters: 5\n",
      "silhouette score: 0.3979121178589119\n",
      "calinski harabasz score: 184.17459876807794\n",
      "davies bouldin score: 1.0227573410383086\n",
      "number of clusters: 10\n",
      "silhouette score: 0.5202903663302814\n",
      "calinski harabasz score: 465.8686769255458\n",
      "davies bouldin score: 0.8360245158382101\n"
     ]
    }
   ],
   "source": [
    "for i in [2, 3, 4, 5, 10]:\n",
    "    df_minmax = preprocessing(raw_data, rem_over=False, process='minmax')\n",
    "    dfkmeans, model = k_means_alg(df_minmax, num_clusters=i)\n",
    "    y_kmeans = dfkmeans['label']\n",
    "    print(f\"silhouette score: {silhouette_score(df_minmax, y_kmeans)}\")\n",
    "    print(f\"calinski harabasz score: {calinski_harabasz_score(df_minmax, y_kmeans)}\")\n",
    "    print(f\"davies bouldin score: {davies_bouldin_score(df_minmax, y_kmeans)}\")"
   ]
  },
  {
   "cell_type": "markdown",
   "metadata": {},
   "source": [
    "On average the more clusters the better the results, but we have to draw a line somewhere and pick apropriate number of clusters. Last question is if we should use PCA for reducing dimensionality."
   ]
  },
  {
   "cell_type": "code",
   "execution_count": 54,
   "metadata": {},
   "outputs": [
    {
     "name": "stdout",
     "output_type": "stream",
     "text": [
      "number of clusters: 3\n",
      "silhouette score: 0.3709004234122623\n",
      "calinski harabasz score: 150.05801804112986\n",
      "davies bouldin score: 1.1569905391889457\n"
     ]
    }
   ],
   "source": [
    "df_pca = preprocessing(raw_data, process='minmax')\n",
    "dfkmeans, model = k_means_alg(df_pca, num_clusters=3)\n",
    "y_kmeans = dfkmeans['label']\n",
    "print(f\"silhouette score: {silhouette_score(df_pca, y_kmeans)}\")\n",
    "print(f\"calinski harabasz score: {calinski_harabasz_score(df_pca, y_kmeans)}\")\n",
    "print(f\"davies bouldin score: {davies_bouldin_score(df_pca, y_kmeans)}\")"
   ]
  },
  {
   "cell_type": "markdown",
   "metadata": {},
   "source": [
    "Some scores have improved a little bit, and it is easier to visualize clustering as we only have 3 variables, but we lose interpretability which is crucial in medical data analysis. That said in preprocessing we will stick to minmax scaler and outliers removal, and we will be using 3 clusters."
   ]
  },
  {
   "cell_type": "markdown",
   "metadata": {},
   "source": [
    "## Algorithms"
   ]
  },
  {
   "cell_type": "code",
   "execution_count": 5,
   "metadata": {},
   "outputs": [],
   "source": [
    "from KMeans import mean_inclust_dist, std_dev_of_inclust_dist"
   ]
  },
  {
   "cell_type": "code",
   "execution_count": 18,
   "metadata": {},
   "outputs": [
    {
     "name": "stdout",
     "output_type": "stream",
     "text": [
      "number of clusters: 3\n",
      "1.225302365784205\n",
      "0.07406982949090163\n"
     ]
    }
   ],
   "source": [
    "df_scores = preprocessing(raw_data, rem_over=False, process='minmax')\n",
    "dfkmeans, model = k_means_alg(df_scores, num_clusters=3)\n",
    "df_without_labels = dfkmeans.drop(\"label\", axis=1)\n",
    "print(mean_inclust_dist(df_without_labels, y_scores))\n",
    "print(std_dev_of_inclust_dist(df_scores, y_scores))"
   ]
  },
  {
   "cell_type": "code",
   "execution_count": 9,
   "metadata": {},
   "outputs": [],
   "source": [
    "# To be continued ..."
   ]
  },
  {
   "cell_type": "code",
   "execution_count": 26,
   "metadata": {},
   "outputs": [],
   "source": [
    "from OtherAlgorithms import dbscan"
   ]
  },
  {
   "cell_type": "code",
   "execution_count": 55,
   "metadata": {},
   "outputs": [
    {
     "name": "stdout",
     "output_type": "stream",
     "text": [
      "-----\n",
      "Processing: stand\n",
      "silhouette score: 0.12917573461018567\n",
      "calinski harabasz score: 8.52246172390958\n",
      "        age  sex   cp  trestbps   chol  fbs  restecg  thalach  exang  oldpeak  \\\n",
      "label                                                                           \n",
      "-1     62.0  1.0  2.0    150.00  240.0  0.0      2.0    130.0    0.0     1.00   \n",
      " 0     60.5  0.5  1.0    142.50  290.5  1.0      2.0    159.5    0.0     1.10   \n",
      " 1     54.0  1.0  3.0    130.00  241.5  0.0      0.0    153.5    0.0     0.55   \n",
      " 2     57.5  1.0  3.0    130.00  215.0  1.0      0.0    154.0    0.0     1.00   \n",
      " 3     58.0  0.0  4.0    171.25  228.0  1.0      2.0    146.0    1.0     2.80   \n",
      "\n",
      "       slope  \n",
      "label         \n",
      "-1       2.0  \n",
      " 0       1.5  \n",
      " 1       1.5  \n",
      " 2       2.0  \n",
      " 3       2.0  \n",
      "-----\n",
      "Processing: norm\n",
      "silhouette score: 0.3270818782889221\n",
      "calinski harabasz score: 17.191742142747167\n",
      "        age  sex   cp  trestbps   chol  fbs  restecg  thalach  exang  oldpeak  \\\n",
      "label                                                                           \n",
      "-1     59.0  1.0  3.0     120.0  176.0  0.0      0.0    145.0    0.0      1.0   \n",
      " 0     55.0  1.0  3.0     130.0  243.0  0.0      0.0    153.0    0.0      0.8   \n",
      "\n",
      "       slope  \n",
      "label         \n",
      "-1       2.0  \n",
      " 0       2.0  \n",
      "-----\n",
      "Processing: minmax\n",
      "silhouette score: 0.21401193688289497\n",
      "calinski harabasz score: 24.324605880483457\n",
      "        age  sex   cp  trestbps   chol  fbs  restecg  thalach  exang  oldpeak  \\\n",
      "label                                                                           \n",
      "-1     59.0  1.0  3.0     140.0  232.0  0.0      1.5    150.0    0.0      1.4   \n",
      " 0     54.5  1.0  4.0     120.0  265.0  0.0      0.0    128.0    1.0      1.8   \n",
      " 1     50.0  1.0  3.0     120.0  229.0  0.0      0.0    162.0    0.0      0.0   \n",
      " 2     55.0  0.0  3.0     130.0  254.0  0.0      2.0    157.0    0.0      0.1   \n",
      " 3     58.0  1.0  4.0     128.0  239.0  0.0      2.0    129.0    1.0      1.9   \n",
      " 4     51.5  0.0  3.0     123.0  221.5  0.0      0.0    163.0    0.0      0.0   \n",
      " 5     54.0  1.0  3.0     130.0  246.5  0.0      2.0    161.0    0.0      0.4   \n",
      " 6     62.0  0.0  4.0     140.0  244.0  0.0      0.0    143.0    1.0      0.2   \n",
      " 7     52.0  1.0  4.0     130.0  233.0  0.0      0.0    162.0    1.0      0.0   \n",
      " 8     58.0  0.0  2.0     140.0  319.0  1.0      2.0    157.0    0.0      0.8   \n",
      "\n",
      "       slope  \n",
      "label         \n",
      "-1       2.0  \n",
      " 0       2.0  \n",
      " 1       1.0  \n",
      " 2       2.0  \n",
      " 3       2.0  \n",
      " 4       1.0  \n",
      " 5       1.0  \n",
      " 6       2.0  \n",
      " 7       1.0  \n",
      " 8       1.0  \n"
     ]
    }
   ],
   "source": [
    "processing = ['stand', 'norm', 'minmax']\n",
    "data = df\n",
    "for proc in processing:\n",
    "    print('-----')\n",
    "    print(f'Processing: {proc}')\n",
    "    df = preprocessing(data, rem_over=True, process=proc)\n",
    "    df_with_labels, model = dbscan(df, proc)\n",
    "    df_without_labels = df_with_labels.drop(\"label\", axis=1)\n",
    "    y = df_with_labels['label']\n",
    "    print(f\"silhouette score: {silhouette_score(df_without_labels, y)}\")\n",
    "    print(f\"calinski harabasz score: {calinski_harabasz_score(df_without_labels, y)}\")\n",
    "    data_with_labels = data.copy()\n",
    "    data_with_labels['label'] = df_with_labels['label']\n",
    "    print(medians_for_clusters(data_with_labels))"
   ]
  }
 ],
 "metadata": {
  "kernelspec": {
   "display_name": "Python 3 (ipykernel)",
   "language": "python",
   "name": "python3"
  },
  "language_info": {
   "codemirror_mode": {
    "name": "ipython",
    "version": 3
   },
   "file_extension": ".py",
   "mimetype": "text/x-python",
   "name": "python",
   "nbconvert_exporter": "python",
   "pygments_lexer": "ipython3",
   "version": "3.9.7"
  }
 },
 "nbformat": 4,
 "nbformat_minor": 2
}
