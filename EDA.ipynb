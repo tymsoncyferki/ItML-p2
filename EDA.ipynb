{
 "cells": [
  {
   "attachments": {},
   "cell_type": "markdown",
   "metadata": {},
   "source": [
    "## Heart disease patients clasterization\n",
    "Tymoteusz Urban, Karolina Mączka"
   ]
  },
  {
   "cell_type": "code",
   "execution_count": 1,
   "metadata": {},
   "outputs": [],
   "source": [
    "import pandas as pd\n",
    "import numpy as np\n",
    "import seaborn as sns\n",
    "import matplotlib.pyplot as plt\n",
    "# from statsmodels.stats.outliers_influence import variance_inflation_factor\n",
    "from sklearn.decomposition import PCA\n",
    "from sklearn.preprocessing import StandardScaler, Normalizer, MinMaxScaler\n",
    "from sklearn.cluster import KMeans\n",
    "from sklearn.metrics import silhouette_score, calinski_harabasz_score, davies_bouldin_score\n",
    "from sklearn.model_selection import train_test_split"
   ]
  },
  {
   "cell_type": "code",
   "execution_count": 2,
   "metadata": {},
   "outputs": [],
   "source": [
    "import warnings\n",
    "warnings.filterwarnings(\"ignore\")"
   ]
  },
  {
   "attachments": {},
   "cell_type": "markdown",
   "metadata": {},
   "source": [
    "### Dividing dataset and saving to files"
   ]
  },
  {
   "cell_type": "code",
   "execution_count": 10,
   "metadata": {},
   "outputs": [],
   "source": [
    "df = pd.read_csv('heart_disease_patients.csv')\n",
    "\n",
    "# Split data into train and remaining data\n",
    "X_train, X_remaining = train_test_split(df, test_size=0.3, random_state=42)\n",
    "\n",
    "# Split remaining data into test and validation sets\n",
    "X_test, X_validation = train_test_split(X_remaining, test_size=0.5, random_state=42)\n",
    "\n",
    "train_df = pd.DataFrame(X_train) \n",
    "train_df.to_csv('train.csv', index=False)\n",
    "\n",
    "test_df = pd.DataFrame(X_test)  \n",
    "test_df.to_csv('test.csv', index=False)\n",
    "\n",
    "validation_df = pd.DataFrame(X_validation)\n",
    "validation_df.to_csv('validation.csv', index=False)\n"
   ]
  },
  {
   "attachments": {},
   "cell_type": "markdown",
   "metadata": {},
   "source": [
    "## Data exploration"
   ]
  },
  {
   "cell_type": "code",
   "execution_count": 11,
   "metadata": {},
   "outputs": [
    {
     "name": "stdout",
     "output_type": "stream",
     "text": [
      "   age  sex  cp  trestbps  chol  fbs  restecg  thalach  exang  oldpeak  slope\n",
      "0   65    1   1       138   282    1        2      174      0      1.4      2\n",
      "1   62    1   4       120   267    0        0       99      1      1.8      2\n",
      "2   57    1   3       150   168    0        0      174      0      1.6      1\n",
      "3   57    1   4       140   192    0        0      148      0      0.4      2\n",
      "4   58    0   4       100   248    0        2      122      0      1.0      2\n"
     ]
    }
   ],
   "source": [
    "df = pd.read_csv('train.csv')\n",
    "df.drop('id', axis=1, inplace=True)\n",
    "raw_data = df.copy()\n",
    "print(df.head())"
   ]
  },
  {
   "attachments": {},
   "cell_type": "markdown",
   "metadata": {},
   "source": [
    "1. age - age in years (male risk > 55, female risk > 65)\n",
    "2. sex - sex (1 = male; 0 = female)\n",
    "3. cp - chest pain type (1 = typical angina; 2 = atypical angina; 3 = non-anginal pain; 4 = asymptomatic)\n",
    "4. trestbps - resting blood pressure (in mm Hg on admission to the hospital, 80 norm, 90< overpressure)\n",
    "5. chol - serum cholestoral in mg/dl\n",
    "6. fbs - fasting blood sugar > 120 mg/dl (1 = true; 0 = false, diabetes)\n",
    "7. restecg - resting electrocardiographic results (0 = normal; 1 = having ST-T; 2 = hypertrophy)\n",
    "8. thalach - maximum heart rate achieved\n",
    "9. exang - exercise induced angina (1 = yes; 0 = no)\n",
    "10. oldpeak - ST depression induced by exercise relative to rest\n",
    "11. slope - the slope of the peak exercise ST segment (1 = upsloping; 2 = flat; 3 = downsloping, flat is good)"
   ]
  },
  {
   "cell_type": "code",
   "execution_count": 8,
   "metadata": {},
   "outputs": [
    {
     "name": "stdout",
     "output_type": "stream",
     "text": [
      "<class 'pandas.core.frame.DataFrame'>\n",
      "RangeIndex: 212 entries, 0 to 211\n",
      "Data columns (total 11 columns):\n",
      " #   Column    Non-Null Count  Dtype  \n",
      "---  ------    --------------  -----  \n",
      " 0   age       212 non-null    int64  \n",
      " 1   sex       212 non-null    int64  \n",
      " 2   cp        212 non-null    int64  \n",
      " 3   trestbps  212 non-null    int64  \n",
      " 4   chol      212 non-null    int64  \n",
      " 5   fbs       212 non-null    int64  \n",
      " 6   restecg   212 non-null    int64  \n",
      " 7   thalach   212 non-null    int64  \n",
      " 8   exang     212 non-null    int64  \n",
      " 9   oldpeak   212 non-null    float64\n",
      " 10  slope     212 non-null    int64  \n",
      "dtypes: float64(1), int64(10)\n",
      "memory usage: 18.3 KB\n"
     ]
    }
   ],
   "source": [
    "df.info()"
   ]
  },
  {
   "cell_type": "code",
   "execution_count": 9,
   "metadata": {},
   "outputs": [
    {
     "data": {
      "text/plain": [
       "age         0\n",
       "sex         0\n",
       "cp          0\n",
       "trestbps    0\n",
       "chol        0\n",
       "fbs         0\n",
       "restecg     0\n",
       "thalach     0\n",
       "exang       0\n",
       "oldpeak     0\n",
       "slope       0\n",
       "dtype: int64"
      ]
     },
     "execution_count": 9,
     "metadata": {},
     "output_type": "execute_result"
    }
   ],
   "source": [
    "df.isnull().sum()"
   ]
  },
  {
   "attachments": {},
   "cell_type": "markdown",
   "metadata": {},
   "source": [
    "There are no null values, all variables are clean and properly prepared."
   ]
  },
  {
   "cell_type": "code",
   "execution_count": 6,
   "metadata": {},
   "outputs": [
    {
     "data": {
      "text/plain": [
       "array([[<Axes: title={'center': 'age'}>, <Axes: title={'center': 'sex'}>,\n",
       "        <Axes: title={'center': 'cp'}>],\n",
       "       [<Axes: title={'center': 'trestbps'}>,\n",
       "        <Axes: title={'center': 'chol'}>,\n",
       "        <Axes: title={'center': 'fbs'}>],\n",
       "       [<Axes: title={'center': 'restecg'}>,\n",
       "        <Axes: title={'center': 'thalach'}>,\n",
       "        <Axes: title={'center': 'exang'}>],\n",
       "       [<Axes: title={'center': 'oldpeak'}>,\n",
       "        <Axes: title={'center': 'slope'}>, <Axes: >]], dtype=object)"
      ]
     },
     "execution_count": 6,
     "metadata": {},
     "output_type": "execute_result"
    },
    {
     "data": {
      "image/png": "[encoded data removed]",
      "text/plain": [
       "<Figure size 1000x1000 with 12 Axes>"
      ]
     },
     "metadata": {},
     "output_type": "display_data"
    }
   ],
   "source": [
    "df.hist(figsize=(10,10))"
   ]
  },
  {
   "attachments": {},
   "cell_type": "markdown",
   "metadata": {
    "collapsed": false
   },
   "source": [
    "Restecg looks strange as if there were no values 1. Let's check it:"
   ]
  },
  {
   "cell_type": "code",
   "execution_count": 7,
   "metadata": {
    "collapsed": false
   },
   "outputs": [
    {
     "data": {
      "text/plain": [
       "restecg\n",
       "0    107\n",
       "2    104\n",
       "1      1\n",
       "Name: count, dtype: int64"
      ]
     },
     "execution_count": 7,
     "metadata": {},
     "output_type": "execute_result"
    }
   ],
   "source": [
    "df['restecg'].value_counts()"
   ]
  },
  {
   "attachments": {},
   "cell_type": "markdown",
   "metadata": {
    "collapsed": false
   },
   "source": [
    "There is only one value 1, so we will treat it as an outlier."
   ]
  },
  {
   "cell_type": "code",
   "execution_count": 8,
   "metadata": {},
   "outputs": [
    {
     "data": {
      "text/plain": [
       "<Axes: >"
      ]
     },
     "execution_count": 8,
     "metadata": {},
     "output_type": "execute_result"
    },
    {
     "data": {
      "image/png": "[encoded data removed]",
      "text/plain": [
       "<Figure size 640x480 with 2 Axes>"
      ]
     },
     "metadata": {},
     "output_type": "display_data"
    }
   ],
   "source": [
    "sns.heatmap(df.corr())"
   ]
  },
  {
   "attachments": {},
   "cell_type": "markdown",
   "metadata": {},
   "source": [
    "There is quite high correlation between oldpeak and slope and also between cp and exang, but is it big enough to delete any of the columns? Also, there is negative correlation between thalach and: age, cp, exang, oldpeak, slope."
   ]
  },
  {
   "cell_type": "code",
   "execution_count": 9,
   "metadata": {},
   "outputs": [
    {
     "name": "stdout",
     "output_type": "stream",
     "text": [
      "oldpeak and slope correlation: 0.5458278072906251\n",
      "cp and exang correlation: 0.39916290470356114\n",
      "thalach and age correlation: -0.4149739322362583\n",
      "thalach and slope correlation: -0.40644733868269406\n"
     ]
    }
   ],
   "source": [
    "print(f\"oldpeak and slope correlation: {df[['oldpeak', 'slope']].corr().iloc[0,1]}\")\n",
    "print(f\"cp and exang correlation: {df[['cp', 'exang']].corr().iloc[0,1]}\")\n",
    "print(f\"thalach and age correlation: {df[['thalach', 'age']].corr().iloc[0,1]}\")\n",
    "print(f\"thalach and slope correlation: {df[['thalach', 'slope']].corr().iloc[0,1]}\")"
   ]
  },
  {
   "cell_type": "code",
   "execution_count": 10,
   "metadata": {
    "collapsed": false
   },
   "outputs": [
    {
     "data": {
      "image/png": "[encoded data removed]",
      "text/plain": [
       "<Figure size 640x480 with 1 Axes>"
      ]
     },
     "metadata": {},
     "output_type": "display_data"
    }
   ],
   "source": [
    "plt.scatter(df['slope'], df['oldpeak'])\n",
    "plt.xlabel('Slope')\n",
    "plt.ylabel('Oldpeak')\n",
    "plt.show()"
   ]
  },
  {
   "cell_type": "code",
   "execution_count": 11,
   "metadata": {
    "collapsed": false
   },
   "outputs": [
    {
     "data": {
      "image/png": "[encoded data removed]",
      "text/plain": [
       "<Figure size 640x480 with 1 Axes>"
      ]
     },
     "metadata": {},
     "output_type": "display_data"
    }
   ],
   "source": [
    "plt.scatter(df['thalach'], df['age'])\n",
    "plt.xlabel('Thalach')\n",
    "plt.ylabel('Age')\n",
    "plt.show()"
   ]
  },
  {
   "cell_type": "code",
   "execution_count": 12,
   "metadata": {},
   "outputs": [],
   "source": [
    "# Another approach\n",
    "def calc_vif(X):\n",
    "    vif = pd.DataFrame()\n",
    "    vif[\"variables\"] = X.columns\n",
    "    vif[\"VIF\"] = [variance_inflation_factor(X.values, i) for i in range(X.shape[1])]\n",
    "    return vif"
   ]
  },
  {
   "cell_type": "code",
   "execution_count": 13,
   "metadata": {},
   "outputs": [
    {
     "data": {
      "text/html": [
       "<div>\n",
       "<style scoped>\n",
       "    .dataframe tbody tr th:only-of-type {\n",
       "        vertical-align: middle;\n",
       "    }\n",
       "\n",
       "    .dataframe tbody tr th {\n",
       "        vertical-align: top;\n",
       "    }\n",
       "\n",
       "    .dataframe thead th {\n",
       "        text-align: right;\n",
       "    }\n",
       "</style>\n",
       "<table border=\"1\" class=\"dataframe\">\n",
       "  <thead>\n",
       "    <tr style=\"text-align: right;\">\n",
       "      <th></th>\n",
       "      <th>variables</th>\n",
       "      <th>VIF</th>\n",
       "    </tr>\n",
       "  </thead>\n",
       "  <tbody>\n",
       "    <tr>\n",
       "      <th>0</th>\n",
       "      <td>age</td>\n",
       "      <td>39.346948</td>\n",
       "    </tr>\n",
       "    <tr>\n",
       "      <th>1</th>\n",
       "      <td>sex</td>\n",
       "      <td>3.095046</td>\n",
       "    </tr>\n",
       "    <tr>\n",
       "      <th>2</th>\n",
       "      <td>cp</td>\n",
       "      <td>12.426015</td>\n",
       "    </tr>\n",
       "    <tr>\n",
       "      <th>3</th>\n",
       "      <td>trestbps</td>\n",
       "      <td>58.483209</td>\n",
       "    </tr>\n",
       "    <tr>\n",
       "      <th>4</th>\n",
       "      <td>chol</td>\n",
       "      <td>29.128519</td>\n",
       "    </tr>\n",
       "    <tr>\n",
       "      <th>5</th>\n",
       "      <td>fbs</td>\n",
       "      <td>1.200710</td>\n",
       "    </tr>\n",
       "    <tr>\n",
       "      <th>6</th>\n",
       "      <td>restecg</td>\n",
       "      <td>2.136638</td>\n",
       "    </tr>\n",
       "    <tr>\n",
       "      <th>7</th>\n",
       "      <td>thalach</td>\n",
       "      <td>34.543369</td>\n",
       "    </tr>\n",
       "    <tr>\n",
       "      <th>8</th>\n",
       "      <td>exang</td>\n",
       "      <td>2.081073</td>\n",
       "    </tr>\n",
       "    <tr>\n",
       "      <th>9</th>\n",
       "      <td>oldpeak</td>\n",
       "      <td>2.720192</td>\n",
       "    </tr>\n",
       "    <tr>\n",
       "      <th>10</th>\n",
       "      <td>slope</td>\n",
       "      <td>10.545887</td>\n",
       "    </tr>\n",
       "  </tbody>\n",
       "</table>\n",
       "</div>"
      ],
      "text/plain": [
       "   variables        VIF\n",
       "0        age  39.346948\n",
       "1        sex   3.095046\n",
       "2         cp  12.426015\n",
       "3   trestbps  58.483209\n",
       "4       chol  29.128519\n",
       "5        fbs   1.200710\n",
       "6    restecg   2.136638\n",
       "7    thalach  34.543369\n",
       "8      exang   2.081073\n",
       "9    oldpeak   2.720192\n",
       "10     slope  10.545887"
      ]
     },
     "execution_count": 13,
     "metadata": {},
     "output_type": "execute_result"
    }
   ],
   "source": [
    "calc_vif(df)"
   ]
  },
  {
   "attachments": {},
   "cell_type": "markdown",
   "metadata": {},
   "source": [
    "Which variables should we drop? According to traditional correlation between variables it could be slope, but after calculating VIF it seems that age, trestbps, chol and thalach are highly correlated with the other variables. So from both methods thalach column is a candidate to delete."
   ]
  },
  {
   "attachments": {},
   "cell_type": "markdown",
   "metadata": {},
   "source": [
    "## Preprocessing"
   ]
  },
  {
   "cell_type": "code",
   "execution_count": 4,
   "metadata": {},
   "outputs": [],
   "source": [
    "# Outliers removal - replace lower_bound and upper_bound, only numeric columns\n",
    "def replace_outliers(data, k=1.5):\n",
    "    \"\"\"\n",
    "    Removes outliers from a pandas DataFrame using the interquartile range (IQR) method.\n",
    "\n",
    "    :param data: dataframe\n",
    "    :param k: A multiplier to adjust the outlier threshold. By default, k is set to 1.5.\n",
    "    :return: dataframe\n",
    "    \"\"\"\n",
    "    data = data.copy()\n",
    "    for col in ['age', 'trestbps', 'chol', 'thalach', 'oldpeak']:\n",
    "        q1, q3 = np.percentile(data[col], [25, 75])\n",
    "        iqr = q3 - q1\n",
    "        lower_bound = q1 - k * iqr\n",
    "        upper_bound = q3 + k * iqr\n",
    "        mask = (data[col] < lower_bound)\n",
    "        data.loc[mask, col] = lower_bound\n",
    "        mask = (data[col] > upper_bound)\n",
    "        data.loc[mask, col] = upper_bound\n",
    "\n",
    "    value = data['restecg'].value_counts().idxmax()\n",
    "    data['restecg'] = data['restecg'].replace(1, value)\n",
    "    data['restecg'] = data['restecg'].replace(2, 1) # make restecg a boolean column: 1 means hypertrophy, 0 is normal\n",
    "\n",
    "    return data"
   ]
  },
  {
   "cell_type": "code",
   "execution_count": 5,
   "metadata": {
    "collapsed": false
   },
   "outputs": [],
   "source": [
    "#  Encode chest pain type column\n",
    "def encode_columns(data):\n",
    "    \"\"\"\n",
    "        Encodes categorical column cp (chest pain type)\n",
    "\n",
    "    :param data: Dataframe\n",
    "    :return: Encoded dataframe\n",
    "    \"\"\"\n",
    "    data = data.copy()\n",
    "    data = pd.get_dummies(data, columns=['cp'], prefix='cp', dtype=int)\n",
    "    data = data.rename(columns={\"cp_1\": \"cp_typ_ang\", \"cp_2\": \"cp_atyp_ang\", \"cp_3\": \"cp_non_ang\", \"cp_4\": \"cp_asympt\"})\n",
    "    return data"
   ]
  },
  {
   "cell_type": "code",
   "execution_count": 6,
   "metadata": {},
   "outputs": [],
   "source": [
    "# Instead manual deletion of variables we could use PCA for reducing dimensionality\n",
    "def remove_overshadowing(data):\n",
    "    \"\"\"\n",
    "    Performs Principal Component Analysis (PCA) on a given dataset.\n",
    "\n",
    "    :param data: dataframe\n",
    "    :return:\n",
    "            A reduced version of the input DataFrame, containing the first n principal components\n",
    "            where n is the smallest number of components that explain at least 95% of the variance in the data.\n",
    "            The columns of the new DataFrame are named \"PC1\", \"PC2\", etc.\n",
    "\n",
    "    \"\"\"\n",
    "    # Perform PCA\n",
    "    pca = PCA()\n",
    "    X_pca = pca.fit_transform(data)\n",
    "\n",
    "    # Determine the number of principal components to retain\n",
    "    explained_variances = pca.explained_variance_ratio_\n",
    "    cumulative_variances = np.cumsum(explained_variances)\n",
    "    n_components = np.argmax(cumulative_variances > 0.95) + 1\n",
    "\n",
    "    # Retain the first n principal components\n",
    "    X_reduced = X_pca[:, :n_components]\n",
    "\n",
    "    # Convert back to a pandas DataFrame\n",
    "    df_reduced = pd.DataFrame(X_reduced, columns=[\"PC\"+str(i) for i in range(1, n_components+1)])\n",
    "    \n",
    "    return df_reduced"
   ]
  },
  {
   "attachments": {},
   "cell_type": "markdown",
   "metadata": {},
   "source": [
    "We will also need to scale our data - we can try 3 different ways to do it. We will test it later."
   ]
  },
  {
   "cell_type": "code",
   "execution_count": 7,
   "metadata": {},
   "outputs": [],
   "source": [
    "def standarize(X):\n",
    "    scaler = StandardScaler()\n",
    "    X_scaled = scaler.fit_transform(X)\n",
    "    X = pd.DataFrame(X_scaled, columns=X.columns)\n",
    "    return X\n",
    "\n",
    "\n",
    "def normalize(X):\n",
    "    normalizer = Normalizer()\n",
    "    X_normalized = normalizer.fit_transform(X)\n",
    "    X = pd.DataFrame(X_normalized, columns=X.columns)\n",
    "    return X\n",
    "\n",
    "\n",
    "def minmax(X):\n",
    "    minmaxer = MinMaxScaler()\n",
    "    X_scaled = minmaxer.fit_transform(X)\n",
    "    X = pd.DataFrame(X_scaled, columns=X.columns, index=X.index)\n",
    "    return X"
   ]
  },
  {
   "cell_type": "code",
   "execution_count": 18,
   "metadata": {},
   "outputs": [
    {
     "data": {
      "text/html": [
       "<div>\n",
       "<style scoped>\n",
       "    .dataframe tbody tr th:only-of-type {\n",
       "        vertical-align: middle;\n",
       "    }\n",
       "\n",
       "    .dataframe tbody tr th {\n",
       "        vertical-align: top;\n",
       "    }\n",
       "\n",
       "    .dataframe thead th {\n",
       "        text-align: right;\n",
       "    }\n",
       "</style>\n",
       "<table border=\"1\" class=\"dataframe\">\n",
       "  <thead>\n",
       "    <tr style=\"text-align: right;\">\n",
       "      <th></th>\n",
       "      <th>age</th>\n",
       "      <th>sex</th>\n",
       "      <th>cp</th>\n",
       "      <th>trestbps</th>\n",
       "      <th>chol</th>\n",
       "      <th>fbs</th>\n",
       "      <th>restecg</th>\n",
       "      <th>thalach</th>\n",
       "      <th>exang</th>\n",
       "      <th>oldpeak</th>\n",
       "      <th>slope</th>\n",
       "    </tr>\n",
       "  </thead>\n",
       "  <tbody>\n",
       "    <tr>\n",
       "      <th>0</th>\n",
       "      <td>65</td>\n",
       "      <td>1</td>\n",
       "      <td>1</td>\n",
       "      <td>138</td>\n",
       "      <td>282</td>\n",
       "      <td>1</td>\n",
       "      <td>2</td>\n",
       "      <td>174</td>\n",
       "      <td>0</td>\n",
       "      <td>1.4</td>\n",
       "      <td>2</td>\n",
       "    </tr>\n",
       "    <tr>\n",
       "      <th>1</th>\n",
       "      <td>62</td>\n",
       "      <td>1</td>\n",
       "      <td>4</td>\n",
       "      <td>120</td>\n",
       "      <td>267</td>\n",
       "      <td>0</td>\n",
       "      <td>0</td>\n",
       "      <td>99</td>\n",
       "      <td>1</td>\n",
       "      <td>1.8</td>\n",
       "      <td>2</td>\n",
       "    </tr>\n",
       "    <tr>\n",
       "      <th>2</th>\n",
       "      <td>57</td>\n",
       "      <td>1</td>\n",
       "      <td>3</td>\n",
       "      <td>150</td>\n",
       "      <td>168</td>\n",
       "      <td>0</td>\n",
       "      <td>0</td>\n",
       "      <td>174</td>\n",
       "      <td>0</td>\n",
       "      <td>1.6</td>\n",
       "      <td>1</td>\n",
       "    </tr>\n",
       "    <tr>\n",
       "      <th>3</th>\n",
       "      <td>57</td>\n",
       "      <td>1</td>\n",
       "      <td>4</td>\n",
       "      <td>140</td>\n",
       "      <td>192</td>\n",
       "      <td>0</td>\n",
       "      <td>0</td>\n",
       "      <td>148</td>\n",
       "      <td>0</td>\n",
       "      <td>0.4</td>\n",
       "      <td>2</td>\n",
       "    </tr>\n",
       "    <tr>\n",
       "      <th>4</th>\n",
       "      <td>58</td>\n",
       "      <td>0</td>\n",
       "      <td>4</td>\n",
       "      <td>100</td>\n",
       "      <td>248</td>\n",
       "      <td>0</td>\n",
       "      <td>2</td>\n",
       "      <td>122</td>\n",
       "      <td>0</td>\n",
       "      <td>1.0</td>\n",
       "      <td>2</td>\n",
       "    </tr>\n",
       "    <tr>\n",
       "      <th>...</th>\n",
       "      <td>...</td>\n",
       "      <td>...</td>\n",
       "      <td>...</td>\n",
       "      <td>...</td>\n",
       "      <td>...</td>\n",
       "      <td>...</td>\n",
       "      <td>...</td>\n",
       "      <td>...</td>\n",
       "      <td>...</td>\n",
       "      <td>...</td>\n",
       "      <td>...</td>\n",
       "    </tr>\n",
       "    <tr>\n",
       "      <th>207</th>\n",
       "      <td>54</td>\n",
       "      <td>1</td>\n",
       "      <td>2</td>\n",
       "      <td>192</td>\n",
       "      <td>283</td>\n",
       "      <td>0</td>\n",
       "      <td>2</td>\n",
       "      <td>195</td>\n",
       "      <td>0</td>\n",
       "      <td>0.0</td>\n",
       "      <td>1</td>\n",
       "    </tr>\n",
       "    <tr>\n",
       "      <th>208</th>\n",
       "      <td>67</td>\n",
       "      <td>1</td>\n",
       "      <td>4</td>\n",
       "      <td>125</td>\n",
       "      <td>254</td>\n",
       "      <td>1</td>\n",
       "      <td>0</td>\n",
       "      <td>163</td>\n",
       "      <td>0</td>\n",
       "      <td>0.2</td>\n",
       "      <td>2</td>\n",
       "    </tr>\n",
       "    <tr>\n",
       "      <th>209</th>\n",
       "      <td>59</td>\n",
       "      <td>1</td>\n",
       "      <td>4</td>\n",
       "      <td>140</td>\n",
       "      <td>177</td>\n",
       "      <td>0</td>\n",
       "      <td>0</td>\n",
       "      <td>162</td>\n",
       "      <td>1</td>\n",
       "      <td>0.0</td>\n",
       "      <td>1</td>\n",
       "    </tr>\n",
       "    <tr>\n",
       "      <th>210</th>\n",
       "      <td>61</td>\n",
       "      <td>1</td>\n",
       "      <td>4</td>\n",
       "      <td>140</td>\n",
       "      <td>207</td>\n",
       "      <td>0</td>\n",
       "      <td>2</td>\n",
       "      <td>138</td>\n",
       "      <td>1</td>\n",
       "      <td>1.9</td>\n",
       "      <td>1</td>\n",
       "    </tr>\n",
       "    <tr>\n",
       "      <th>211</th>\n",
       "      <td>57</td>\n",
       "      <td>0</td>\n",
       "      <td>4</td>\n",
       "      <td>128</td>\n",
       "      <td>303</td>\n",
       "      <td>0</td>\n",
       "      <td>2</td>\n",
       "      <td>159</td>\n",
       "      <td>0</td>\n",
       "      <td>0.0</td>\n",
       "      <td>1</td>\n",
       "    </tr>\n",
       "  </tbody>\n",
       "</table>\n",
       "<p>212 rows × 11 columns</p>\n",
       "</div>"
      ],
      "text/plain": [
       "     age  sex  cp  trestbps  chol  fbs  restecg  thalach  exang  oldpeak  \\\n",
       "0     65    1   1       138   282    1        2      174      0      1.4   \n",
       "1     62    1   4       120   267    0        0       99      1      1.8   \n",
       "2     57    1   3       150   168    0        0      174      0      1.6   \n",
       "3     57    1   4       140   192    0        0      148      0      0.4   \n",
       "4     58    0   4       100   248    0        2      122      0      1.0   \n",
       "..   ...  ...  ..       ...   ...  ...      ...      ...    ...      ...   \n",
       "207   54    1   2       192   283    0        2      195      0      0.0   \n",
       "208   67    1   4       125   254    1        0      163      0      0.2   \n",
       "209   59    1   4       140   177    0        0      162      1      0.0   \n",
       "210   61    1   4       140   207    0        2      138      1      1.9   \n",
       "211   57    0   4       128   303    0        2      159      0      0.0   \n",
       "\n",
       "     slope  \n",
       "0        2  \n",
       "1        2  \n",
       "2        1  \n",
       "3        2  \n",
       "4        2  \n",
       "..     ...  \n",
       "207      1  \n",
       "208      2  \n",
       "209      1  \n",
       "210      1  \n",
       "211      1  \n",
       "\n",
       "[212 rows x 11 columns]"
      ]
     },
     "execution_count": 18,
     "metadata": {},
     "output_type": "execute_result"
    }
   ],
   "source": [
    "df"
   ]
  },
  {
   "cell_type": "code",
   "execution_count": 8,
   "metadata": {},
   "outputs": [
    {
     "data": {
      "text/html": [
       "<div>\n",
       "<style scoped>\n",
       "    .dataframe tbody tr th:only-of-type {\n",
       "        vertical-align: middle;\n",
       "    }\n",
       "\n",
       "    .dataframe tbody tr th {\n",
       "        vertical-align: top;\n",
       "    }\n",
       "\n",
       "    .dataframe thead th {\n",
       "        text-align: right;\n",
       "    }\n",
       "</style>\n",
       "<table border=\"1\" class=\"dataframe\">\n",
       "  <thead>\n",
       "    <tr style=\"text-align: right;\">\n",
       "      <th></th>\n",
       "      <th>PC1</th>\n",
       "      <th>PC2</th>\n",
       "      <th>PC3</th>\n",
       "      <th>PC4</th>\n",
       "      <th>PC5</th>\n",
       "      <th>PC6</th>\n",
       "      <th>PC7</th>\n",
       "      <th>PC8</th>\n",
       "      <th>PC9</th>\n",
       "      <th>PC10</th>\n",
       "    </tr>\n",
       "  </thead>\n",
       "  <tbody>\n",
       "    <tr>\n",
       "      <th>0</th>\n",
       "      <td>-0.004028</td>\n",
       "      <td>0.806498</td>\n",
       "      <td>0.280162</td>\n",
       "      <td>-0.526269</td>\n",
       "      <td>0.482869</td>\n",
       "      <td>1.167511</td>\n",
       "      <td>0.482846</td>\n",
       "      <td>0.340159</td>\n",
       "      <td>-0.245258</td>\n",
       "      <td>-0.099761</td>\n",
       "    </tr>\n",
       "    <tr>\n",
       "      <th>1</th>\n",
       "      <td>1.098466</td>\n",
       "      <td>0.338825</td>\n",
       "      <td>0.000308</td>\n",
       "      <td>-0.128726</td>\n",
       "      <td>0.127411</td>\n",
       "      <td>-0.220681</td>\n",
       "      <td>0.065600</td>\n",
       "      <td>-0.004336</td>\n",
       "      <td>0.414863</td>\n",
       "      <td>-0.211243</td>\n",
       "    </tr>\n",
       "    <tr>\n",
       "      <th>2</th>\n",
       "      <td>1.100334</td>\n",
       "      <td>0.294196</td>\n",
       "      <td>-0.020590</td>\n",
       "      <td>-0.184321</td>\n",
       "      <td>0.087523</td>\n",
       "      <td>-0.264587</td>\n",
       "      <td>0.153399</td>\n",
       "      <td>-0.107370</td>\n",
       "      <td>-0.004084</td>\n",
       "      <td>-0.065274</td>\n",
       "    </tr>\n",
       "    <tr>\n",
       "      <th>3</th>\n",
       "      <td>-0.609019</td>\n",
       "      <td>-0.055273</td>\n",
       "      <td>-0.677577</td>\n",
       "      <td>-0.554292</td>\n",
       "      <td>-0.032039</td>\n",
       "      <td>0.139292</td>\n",
       "      <td>0.764655</td>\n",
       "      <td>-0.470301</td>\n",
       "      <td>-0.165279</td>\n",
       "      <td>0.541991</td>\n",
       "    </tr>\n",
       "    <tr>\n",
       "      <th>4</th>\n",
       "      <td>-0.582489</td>\n",
       "      <td>0.227083</td>\n",
       "      <td>0.899534</td>\n",
       "      <td>0.663174</td>\n",
       "      <td>0.336830</td>\n",
       "      <td>-0.244021</td>\n",
       "      <td>0.063041</td>\n",
       "      <td>-0.141836</td>\n",
       "      <td>-0.135680</td>\n",
       "      <td>0.332740</td>\n",
       "    </tr>\n",
       "    <tr>\n",
       "      <th>...</th>\n",
       "      <td>...</td>\n",
       "      <td>...</td>\n",
       "      <td>...</td>\n",
       "      <td>...</td>\n",
       "      <td>...</td>\n",
       "      <td>...</td>\n",
       "      <td>...</td>\n",
       "      <td>...</td>\n",
       "      <td>...</td>\n",
       "      <td>...</td>\n",
       "    </tr>\n",
       "    <tr>\n",
       "      <th>298</th>\n",
       "      <td>-0.336427</td>\n",
       "      <td>-0.377725</td>\n",
       "      <td>0.134566</td>\n",
       "      <td>-0.449150</td>\n",
       "      <td>-0.005594</td>\n",
       "      <td>0.390506</td>\n",
       "      <td>0.682023</td>\n",
       "      <td>0.652248</td>\n",
       "      <td>-0.359133</td>\n",
       "      <td>-0.136088</td>\n",
       "    </tr>\n",
       "    <tr>\n",
       "      <th>299</th>\n",
       "      <td>0.436559</td>\n",
       "      <td>-0.330379</td>\n",
       "      <td>-0.216663</td>\n",
       "      <td>-0.289359</td>\n",
       "      <td>-0.068111</td>\n",
       "      <td>1.163263</td>\n",
       "      <td>-0.109311</td>\n",
       "      <td>-0.364001</td>\n",
       "      <td>0.156052</td>\n",
       "      <td>0.124551</td>\n",
       "    </tr>\n",
       "    <tr>\n",
       "      <th>300</th>\n",
       "      <td>0.836495</td>\n",
       "      <td>-0.634964</td>\n",
       "      <td>-0.340832</td>\n",
       "      <td>-0.271536</td>\n",
       "      <td>0.093975</td>\n",
       "      <td>-0.132051</td>\n",
       "      <td>0.060789</td>\n",
       "      <td>-0.007605</td>\n",
       "      <td>-0.135742</td>\n",
       "      <td>-0.280963</td>\n",
       "    </tr>\n",
       "    <tr>\n",
       "      <th>301</th>\n",
       "      <td>-0.541868</td>\n",
       "      <td>0.284991</td>\n",
       "      <td>0.864051</td>\n",
       "      <td>0.703173</td>\n",
       "      <td>0.424641</td>\n",
       "      <td>-0.153054</td>\n",
       "      <td>0.181711</td>\n",
       "      <td>-0.270346</td>\n",
       "      <td>-0.136410</td>\n",
       "      <td>-0.095786</td>\n",
       "    </tr>\n",
       "    <tr>\n",
       "      <th>302</th>\n",
       "      <td>-0.916407</td>\n",
       "      <td>-0.230814</td>\n",
       "      <td>-0.398774</td>\n",
       "      <td>-0.509026</td>\n",
       "      <td>-0.354263</td>\n",
       "      <td>-0.221787</td>\n",
       "      <td>-0.126768</td>\n",
       "      <td>0.086872</td>\n",
       "      <td>-0.042117</td>\n",
       "      <td>0.129845</td>\n",
       "    </tr>\n",
       "  </tbody>\n",
       "</table>\n",
       "<p>303 rows × 10 columns</p>\n",
       "</div>"
      ],
      "text/plain": [
       "          PC1       PC2       PC3       PC4       PC5       PC6       PC7  \\\n",
       "0   -0.004028  0.806498  0.280162 -0.526269  0.482869  1.167511  0.482846   \n",
       "1    1.098466  0.338825  0.000308 -0.128726  0.127411 -0.220681  0.065600   \n",
       "2    1.100334  0.294196 -0.020590 -0.184321  0.087523 -0.264587  0.153399   \n",
       "3   -0.609019 -0.055273 -0.677577 -0.554292 -0.032039  0.139292  0.764655   \n",
       "4   -0.582489  0.227083  0.899534  0.663174  0.336830 -0.244021  0.063041   \n",
       "..        ...       ...       ...       ...       ...       ...       ...   \n",
       "298 -0.336427 -0.377725  0.134566 -0.449150 -0.005594  0.390506  0.682023   \n",
       "299  0.436559 -0.330379 -0.216663 -0.289359 -0.068111  1.163263 -0.109311   \n",
       "300  0.836495 -0.634964 -0.340832 -0.271536  0.093975 -0.132051  0.060789   \n",
       "301 -0.541868  0.284991  0.864051  0.703173  0.424641 -0.153054  0.181711   \n",
       "302 -0.916407 -0.230814 -0.398774 -0.509026 -0.354263 -0.221787 -0.126768   \n",
       "\n",
       "          PC8       PC9      PC10  \n",
       "0    0.340159 -0.245258 -0.099761  \n",
       "1   -0.004336  0.414863 -0.211243  \n",
       "2   -0.107370 -0.004084 -0.065274  \n",
       "3   -0.470301 -0.165279  0.541991  \n",
       "4   -0.141836 -0.135680  0.332740  \n",
       "..        ...       ...       ...  \n",
       "298  0.652248 -0.359133 -0.136088  \n",
       "299 -0.364001  0.156052  0.124551  \n",
       "300 -0.007605 -0.135742 -0.280963  \n",
       "301 -0.270346 -0.136410 -0.095786  \n",
       "302  0.086872 -0.042117  0.129845  \n",
       "\n",
       "[303 rows x 10 columns]"
      ]
     },
     "execution_count": 8,
     "metadata": {},
     "output_type": "execute_result"
    }
   ],
   "source": [
    "# testing pca\n",
    "from preprocessing import remove_id, preprocessing\n",
    "df_test = preprocessing(df, process='minmax')\n",
    "df_test"
   ]
  },
  {
   "cell_type": "code",
   "execution_count": 12,
   "metadata": {
    "collapsed": false
   },
   "outputs": [
    {
     "data": {
      "text/html": [
       "<div>\n",
       "<style scoped>\n",
       "    .dataframe tbody tr th:only-of-type {\n",
       "        vertical-align: middle;\n",
       "    }\n",
       "\n",
       "    .dataframe tbody tr th {\n",
       "        vertical-align: top;\n",
       "    }\n",
       "\n",
       "    .dataframe thead th {\n",
       "        text-align: right;\n",
       "    }\n",
       "</style>\n",
       "<table border=\"1\" class=\"dataframe\">\n",
       "  <thead>\n",
       "    <tr style=\"text-align: right;\">\n",
       "      <th></th>\n",
       "      <th>age</th>\n",
       "      <th>sex</th>\n",
       "      <th>trestbps</th>\n",
       "      <th>chol</th>\n",
       "      <th>fbs</th>\n",
       "      <th>restecg</th>\n",
       "      <th>thalach</th>\n",
       "      <th>exang</th>\n",
       "      <th>oldpeak</th>\n",
       "      <th>slope</th>\n",
       "      <th>cp_typ_ang</th>\n",
       "      <th>cp_atyp_ang</th>\n",
       "      <th>cp_non_ang</th>\n",
       "      <th>cp_asympt</th>\n",
       "    </tr>\n",
       "  </thead>\n",
       "  <tbody>\n",
       "    <tr>\n",
       "      <th>0</th>\n",
       "      <td>65.0</td>\n",
       "      <td>1</td>\n",
       "      <td>138.00</td>\n",
       "      <td>282.0</td>\n",
       "      <td>1</td>\n",
       "      <td>1</td>\n",
       "      <td>174.0</td>\n",
       "      <td>0</td>\n",
       "      <td>1.4</td>\n",
       "      <td>2</td>\n",
       "      <td>1</td>\n",
       "      <td>0</td>\n",
       "      <td>0</td>\n",
       "      <td>0</td>\n",
       "    </tr>\n",
       "    <tr>\n",
       "      <th>1</th>\n",
       "      <td>62.0</td>\n",
       "      <td>1</td>\n",
       "      <td>120.00</td>\n",
       "      <td>267.0</td>\n",
       "      <td>0</td>\n",
       "      <td>0</td>\n",
       "      <td>99.0</td>\n",
       "      <td>1</td>\n",
       "      <td>1.8</td>\n",
       "      <td>2</td>\n",
       "      <td>0</td>\n",
       "      <td>0</td>\n",
       "      <td>0</td>\n",
       "      <td>1</td>\n",
       "    </tr>\n",
       "    <tr>\n",
       "      <th>2</th>\n",
       "      <td>57.0</td>\n",
       "      <td>1</td>\n",
       "      <td>150.00</td>\n",
       "      <td>168.0</td>\n",
       "      <td>0</td>\n",
       "      <td>0</td>\n",
       "      <td>174.0</td>\n",
       "      <td>0</td>\n",
       "      <td>1.6</td>\n",
       "      <td>1</td>\n",
       "      <td>0</td>\n",
       "      <td>0</td>\n",
       "      <td>1</td>\n",
       "      <td>0</td>\n",
       "    </tr>\n",
       "    <tr>\n",
       "      <th>3</th>\n",
       "      <td>57.0</td>\n",
       "      <td>1</td>\n",
       "      <td>140.00</td>\n",
       "      <td>192.0</td>\n",
       "      <td>0</td>\n",
       "      <td>0</td>\n",
       "      <td>148.0</td>\n",
       "      <td>0</td>\n",
       "      <td>0.4</td>\n",
       "      <td>2</td>\n",
       "      <td>0</td>\n",
       "      <td>0</td>\n",
       "      <td>0</td>\n",
       "      <td>1</td>\n",
       "    </tr>\n",
       "    <tr>\n",
       "      <th>4</th>\n",
       "      <td>58.0</td>\n",
       "      <td>0</td>\n",
       "      <td>100.00</td>\n",
       "      <td>248.0</td>\n",
       "      <td>0</td>\n",
       "      <td>1</td>\n",
       "      <td>122.0</td>\n",
       "      <td>0</td>\n",
       "      <td>1.0</td>\n",
       "      <td>2</td>\n",
       "      <td>0</td>\n",
       "      <td>0</td>\n",
       "      <td>0</td>\n",
       "      <td>1</td>\n",
       "    </tr>\n",
       "    <tr>\n",
       "      <th>...</th>\n",
       "      <td>...</td>\n",
       "      <td>...</td>\n",
       "      <td>...</td>\n",
       "      <td>...</td>\n",
       "      <td>...</td>\n",
       "      <td>...</td>\n",
       "      <td>...</td>\n",
       "      <td>...</td>\n",
       "      <td>...</td>\n",
       "      <td>...</td>\n",
       "      <td>...</td>\n",
       "      <td>...</td>\n",
       "      <td>...</td>\n",
       "      <td>...</td>\n",
       "    </tr>\n",
       "    <tr>\n",
       "      <th>207</th>\n",
       "      <td>54.0</td>\n",
       "      <td>1</td>\n",
       "      <td>171.25</td>\n",
       "      <td>283.0</td>\n",
       "      <td>0</td>\n",
       "      <td>1</td>\n",
       "      <td>195.0</td>\n",
       "      <td>0</td>\n",
       "      <td>0.0</td>\n",
       "      <td>1</td>\n",
       "      <td>0</td>\n",
       "      <td>1</td>\n",
       "      <td>0</td>\n",
       "      <td>0</td>\n",
       "    </tr>\n",
       "    <tr>\n",
       "      <th>208</th>\n",
       "      <td>67.0</td>\n",
       "      <td>1</td>\n",
       "      <td>125.00</td>\n",
       "      <td>254.0</td>\n",
       "      <td>1</td>\n",
       "      <td>0</td>\n",
       "      <td>163.0</td>\n",
       "      <td>0</td>\n",
       "      <td>0.2</td>\n",
       "      <td>2</td>\n",
       "      <td>0</td>\n",
       "      <td>0</td>\n",
       "      <td>0</td>\n",
       "      <td>1</td>\n",
       "    </tr>\n",
       "    <tr>\n",
       "      <th>209</th>\n",
       "      <td>59.0</td>\n",
       "      <td>1</td>\n",
       "      <td>140.00</td>\n",
       "      <td>177.0</td>\n",
       "      <td>0</td>\n",
       "      <td>0</td>\n",
       "      <td>162.0</td>\n",
       "      <td>1</td>\n",
       "      <td>0.0</td>\n",
       "      <td>1</td>\n",
       "      <td>0</td>\n",
       "      <td>0</td>\n",
       "      <td>0</td>\n",
       "      <td>1</td>\n",
       "    </tr>\n",
       "    <tr>\n",
       "      <th>210</th>\n",
       "      <td>61.0</td>\n",
       "      <td>1</td>\n",
       "      <td>140.00</td>\n",
       "      <td>207.0</td>\n",
       "      <td>0</td>\n",
       "      <td>1</td>\n",
       "      <td>138.0</td>\n",
       "      <td>1</td>\n",
       "      <td>1.9</td>\n",
       "      <td>1</td>\n",
       "      <td>0</td>\n",
       "      <td>0</td>\n",
       "      <td>0</td>\n",
       "      <td>1</td>\n",
       "    </tr>\n",
       "    <tr>\n",
       "      <th>211</th>\n",
       "      <td>57.0</td>\n",
       "      <td>0</td>\n",
       "      <td>128.00</td>\n",
       "      <td>303.0</td>\n",
       "      <td>0</td>\n",
       "      <td>1</td>\n",
       "      <td>159.0</td>\n",
       "      <td>0</td>\n",
       "      <td>0.0</td>\n",
       "      <td>1</td>\n",
       "      <td>0</td>\n",
       "      <td>0</td>\n",
       "      <td>0</td>\n",
       "      <td>1</td>\n",
       "    </tr>\n",
       "  </tbody>\n",
       "</table>\n",
       "<p>212 rows × 14 columns</p>\n",
       "</div>"
      ],
      "text/plain": [
       "      age  sex  trestbps   chol  fbs  restecg  thalach  exang  oldpeak  slope  \\\n",
       "0    65.0    1    138.00  282.0    1        1    174.0      0      1.4      2   \n",
       "1    62.0    1    120.00  267.0    0        0     99.0      1      1.8      2   \n",
       "2    57.0    1    150.00  168.0    0        0    174.0      0      1.6      1   \n",
       "3    57.0    1    140.00  192.0    0        0    148.0      0      0.4      2   \n",
       "4    58.0    0    100.00  248.0    0        1    122.0      0      1.0      2   \n",
       "..    ...  ...       ...    ...  ...      ...      ...    ...      ...    ...   \n",
       "207  54.0    1    171.25  283.0    0        1    195.0      0      0.0      1   \n",
       "208  67.0    1    125.00  254.0    1        0    163.0      0      0.2      2   \n",
       "209  59.0    1    140.00  177.0    0        0    162.0      1      0.0      1   \n",
       "210  61.0    1    140.00  207.0    0        1    138.0      1      1.9      1   \n",
       "211  57.0    0    128.00  303.0    0        1    159.0      0      0.0      1   \n",
       "\n",
       "     cp_typ_ang  cp_atyp_ang  cp_non_ang  cp_asympt  \n",
       "0             1            0           0          0  \n",
       "1             0            0           0          1  \n",
       "2             0            0           1          0  \n",
       "3             0            0           0          1  \n",
       "4             0            0           0          1  \n",
       "..          ...          ...         ...        ...  \n",
       "207           0            1           0          0  \n",
       "208           0            0           0          1  \n",
       "209           0            0           0          1  \n",
       "210           0            0           0          1  \n",
       "211           0            0           0          1  \n",
       "\n",
       "[212 rows x 14 columns]"
      ]
     },
     "execution_count": 12,
     "metadata": {},
     "output_type": "execute_result"
    }
   ],
   "source": [
    "# Let's check our functions\n",
    "df_prep = replace_outliers(raw_data)\n",
    "df_prep = encode_columns(df_prep)\n",
    "df_prep"
   ]
  },
  {
   "cell_type": "code",
   "execution_count": 13,
   "metadata": {
    "collapsed": false
   },
   "outputs": [
    {
     "data": {
      "text/html": [
       "<div>\n",
       "<style scoped>\n",
       "    .dataframe tbody tr th:only-of-type {\n",
       "        vertical-align: middle;\n",
       "    }\n",
       "\n",
       "    .dataframe tbody tr th {\n",
       "        vertical-align: top;\n",
       "    }\n",
       "\n",
       "    .dataframe thead th {\n",
       "        text-align: right;\n",
       "    }\n",
       "</style>\n",
       "<table border=\"1\" class=\"dataframe\">\n",
       "  <thead>\n",
       "    <tr style=\"text-align: right;\">\n",
       "      <th></th>\n",
       "      <th>age</th>\n",
       "      <th>sex</th>\n",
       "      <th>trestbps</th>\n",
       "      <th>chol</th>\n",
       "      <th>fbs</th>\n",
       "      <th>restecg</th>\n",
       "      <th>thalach</th>\n",
       "      <th>exang</th>\n",
       "      <th>oldpeak</th>\n",
       "      <th>slope</th>\n",
       "      <th>cp_typ_ang</th>\n",
       "      <th>cp_atyp_ang</th>\n",
       "      <th>cp_non_ang</th>\n",
       "      <th>cp_asympt</th>\n",
       "    </tr>\n",
       "  </thead>\n",
       "  <tbody>\n",
       "    <tr>\n",
       "      <th>0</th>\n",
       "      <td>0.720930</td>\n",
       "      <td>1.0</td>\n",
       "      <td>0.569579</td>\n",
       "      <td>0.617169</td>\n",
       "      <td>1.0</td>\n",
       "      <td>1.0</td>\n",
       "      <td>0.793103</td>\n",
       "      <td>0.0</td>\n",
       "      <td>0.350</td>\n",
       "      <td>0.5</td>\n",
       "      <td>1.0</td>\n",
       "      <td>0.0</td>\n",
       "      <td>0.0</td>\n",
       "      <td>0.0</td>\n",
       "    </tr>\n",
       "    <tr>\n",
       "      <th>1</th>\n",
       "      <td>0.651163</td>\n",
       "      <td>1.0</td>\n",
       "      <td>0.336570</td>\n",
       "      <td>0.547564</td>\n",
       "      <td>0.0</td>\n",
       "      <td>0.0</td>\n",
       "      <td>0.054187</td>\n",
       "      <td>1.0</td>\n",
       "      <td>0.450</td>\n",
       "      <td>0.5</td>\n",
       "      <td>0.0</td>\n",
       "      <td>0.0</td>\n",
       "      <td>0.0</td>\n",
       "      <td>1.0</td>\n",
       "    </tr>\n",
       "    <tr>\n",
       "      <th>2</th>\n",
       "      <td>0.534884</td>\n",
       "      <td>1.0</td>\n",
       "      <td>0.724919</td>\n",
       "      <td>0.088167</td>\n",
       "      <td>0.0</td>\n",
       "      <td>0.0</td>\n",
       "      <td>0.793103</td>\n",
       "      <td>0.0</td>\n",
       "      <td>0.400</td>\n",
       "      <td>0.0</td>\n",
       "      <td>0.0</td>\n",
       "      <td>0.0</td>\n",
       "      <td>1.0</td>\n",
       "      <td>0.0</td>\n",
       "    </tr>\n",
       "    <tr>\n",
       "      <th>3</th>\n",
       "      <td>0.534884</td>\n",
       "      <td>1.0</td>\n",
       "      <td>0.595469</td>\n",
       "      <td>0.199536</td>\n",
       "      <td>0.0</td>\n",
       "      <td>0.0</td>\n",
       "      <td>0.536946</td>\n",
       "      <td>0.0</td>\n",
       "      <td>0.100</td>\n",
       "      <td>0.5</td>\n",
       "      <td>0.0</td>\n",
       "      <td>0.0</td>\n",
       "      <td>0.0</td>\n",
       "      <td>1.0</td>\n",
       "    </tr>\n",
       "    <tr>\n",
       "      <th>4</th>\n",
       "      <td>0.558140</td>\n",
       "      <td>0.0</td>\n",
       "      <td>0.077670</td>\n",
       "      <td>0.459397</td>\n",
       "      <td>0.0</td>\n",
       "      <td>1.0</td>\n",
       "      <td>0.280788</td>\n",
       "      <td>0.0</td>\n",
       "      <td>0.250</td>\n",
       "      <td>0.5</td>\n",
       "      <td>0.0</td>\n",
       "      <td>0.0</td>\n",
       "      <td>0.0</td>\n",
       "      <td>1.0</td>\n",
       "    </tr>\n",
       "    <tr>\n",
       "      <th>...</th>\n",
       "      <td>...</td>\n",
       "      <td>...</td>\n",
       "      <td>...</td>\n",
       "      <td>...</td>\n",
       "      <td>...</td>\n",
       "      <td>...</td>\n",
       "      <td>...</td>\n",
       "      <td>...</td>\n",
       "      <td>...</td>\n",
       "      <td>...</td>\n",
       "      <td>...</td>\n",
       "      <td>...</td>\n",
       "      <td>...</td>\n",
       "      <td>...</td>\n",
       "    </tr>\n",
       "    <tr>\n",
       "      <th>207</th>\n",
       "      <td>0.465116</td>\n",
       "      <td>1.0</td>\n",
       "      <td>1.000000</td>\n",
       "      <td>0.621810</td>\n",
       "      <td>0.0</td>\n",
       "      <td>1.0</td>\n",
       "      <td>1.000000</td>\n",
       "      <td>0.0</td>\n",
       "      <td>0.000</td>\n",
       "      <td>0.0</td>\n",
       "      <td>0.0</td>\n",
       "      <td>1.0</td>\n",
       "      <td>0.0</td>\n",
       "      <td>0.0</td>\n",
       "    </tr>\n",
       "    <tr>\n",
       "      <th>208</th>\n",
       "      <td>0.767442</td>\n",
       "      <td>1.0</td>\n",
       "      <td>0.401294</td>\n",
       "      <td>0.487239</td>\n",
       "      <td>1.0</td>\n",
       "      <td>0.0</td>\n",
       "      <td>0.684729</td>\n",
       "      <td>0.0</td>\n",
       "      <td>0.050</td>\n",
       "      <td>0.5</td>\n",
       "      <td>0.0</td>\n",
       "      <td>0.0</td>\n",
       "      <td>0.0</td>\n",
       "      <td>1.0</td>\n",
       "    </tr>\n",
       "    <tr>\n",
       "      <th>209</th>\n",
       "      <td>0.581395</td>\n",
       "      <td>1.0</td>\n",
       "      <td>0.595469</td>\n",
       "      <td>0.129930</td>\n",
       "      <td>0.0</td>\n",
       "      <td>0.0</td>\n",
       "      <td>0.674877</td>\n",
       "      <td>1.0</td>\n",
       "      <td>0.000</td>\n",
       "      <td>0.0</td>\n",
       "      <td>0.0</td>\n",
       "      <td>0.0</td>\n",
       "      <td>0.0</td>\n",
       "      <td>1.0</td>\n",
       "    </tr>\n",
       "    <tr>\n",
       "      <th>210</th>\n",
       "      <td>0.627907</td>\n",
       "      <td>1.0</td>\n",
       "      <td>0.595469</td>\n",
       "      <td>0.269142</td>\n",
       "      <td>0.0</td>\n",
       "      <td>1.0</td>\n",
       "      <td>0.438424</td>\n",
       "      <td>1.0</td>\n",
       "      <td>0.475</td>\n",
       "      <td>0.0</td>\n",
       "      <td>0.0</td>\n",
       "      <td>0.0</td>\n",
       "      <td>0.0</td>\n",
       "      <td>1.0</td>\n",
       "    </tr>\n",
       "    <tr>\n",
       "      <th>211</th>\n",
       "      <td>0.534884</td>\n",
       "      <td>0.0</td>\n",
       "      <td>0.440129</td>\n",
       "      <td>0.714617</td>\n",
       "      <td>0.0</td>\n",
       "      <td>1.0</td>\n",
       "      <td>0.645320</td>\n",
       "      <td>0.0</td>\n",
       "      <td>0.000</td>\n",
       "      <td>0.0</td>\n",
       "      <td>0.0</td>\n",
       "      <td>0.0</td>\n",
       "      <td>0.0</td>\n",
       "      <td>1.0</td>\n",
       "    </tr>\n",
       "  </tbody>\n",
       "</table>\n",
       "<p>212 rows × 14 columns</p>\n",
       "</div>"
      ],
      "text/plain": [
       "          age  sex  trestbps      chol  fbs  restecg   thalach  exang  \\\n",
       "0    0.720930  1.0  0.569579  0.617169  1.0      1.0  0.793103    0.0   \n",
       "1    0.651163  1.0  0.336570  0.547564  0.0      0.0  0.054187    1.0   \n",
       "2    0.534884  1.0  0.724919  0.088167  0.0      0.0  0.793103    0.0   \n",
       "3    0.534884  1.0  0.595469  0.199536  0.0      0.0  0.536946    0.0   \n",
       "4    0.558140  0.0  0.077670  0.459397  0.0      1.0  0.280788    0.0   \n",
       "..        ...  ...       ...       ...  ...      ...       ...    ...   \n",
       "207  0.465116  1.0  1.000000  0.621810  0.0      1.0  1.000000    0.0   \n",
       "208  0.767442  1.0  0.401294  0.487239  1.0      0.0  0.684729    0.0   \n",
       "209  0.581395  1.0  0.595469  0.129930  0.0      0.0  0.674877    1.0   \n",
       "210  0.627907  1.0  0.595469  0.269142  0.0      1.0  0.438424    1.0   \n",
       "211  0.534884  0.0  0.440129  0.714617  0.0      1.0  0.645320    0.0   \n",
       "\n",
       "     oldpeak  slope  cp_typ_ang  cp_atyp_ang  cp_non_ang  cp_asympt  \n",
       "0      0.350    0.5         1.0          0.0         0.0        0.0  \n",
       "1      0.450    0.5         0.0          0.0         0.0        1.0  \n",
       "2      0.400    0.0         0.0          0.0         1.0        0.0  \n",
       "3      0.100    0.5         0.0          0.0         0.0        1.0  \n",
       "4      0.250    0.5         0.0          0.0         0.0        1.0  \n",
       "..       ...    ...         ...          ...         ...        ...  \n",
       "207    0.000    0.0         0.0          1.0         0.0        0.0  \n",
       "208    0.050    0.5         0.0          0.0         0.0        1.0  \n",
       "209    0.000    0.0         0.0          0.0         0.0        1.0  \n",
       "210    0.475    0.0         0.0          0.0         0.0        1.0  \n",
       "211    0.000    0.0         0.0          0.0         0.0        1.0  \n",
       "\n",
       "[212 rows x 14 columns]"
      ]
     },
     "execution_count": 13,
     "metadata": {},
     "output_type": "execute_result"
    }
   ],
   "source": [
    "minmax(df_prep)"
   ]
  },
  {
   "cell_type": "code",
   "execution_count": 14,
   "metadata": {
    "collapsed": false
   },
   "outputs": [
    {
     "data": {
      "text/plain": [
       "<Axes: >"
      ]
     },
     "execution_count": 14,
     "metadata": {},
     "output_type": "execute_result"
    },
    {
     "data": {
      "image/png": "[encoded data removed]",
      "text/plain": [
       "<Figure size 432x288 with 2 Axes>"
      ]
     },
     "metadata": {
      "needs_background": "light"
     },
     "output_type": "display_data"
    }
   ],
   "source": [
    "sns.heatmap(df_prep.corr())"
   ]
  },
  {
   "attachments": {},
   "cell_type": "markdown",
   "metadata": {},
   "source": [
    "## Number of clusters"
   ]
  },
  {
   "cell_type": "code",
   "execution_count": 14,
   "metadata": {},
   "outputs": [],
   "source": [
    "# We will use functions from other python files, so we don't have to run whole notebook every time\n",
    "from preprocessing import standarize, minmax, normalize, replace_outliers, preprocessing\n",
    "from KMeans import k_means_alg"
   ]
  },
  {
   "attachments": {},
   "cell_type": "markdown",
   "metadata": {},
   "source": [
    "First we prepare methods for finding optimal number of clusters"
   ]
  },
  {
   "cell_type": "code",
   "execution_count": 15,
   "metadata": {},
   "outputs": [],
   "source": [
    "def num_of_clus_elbow(data) -> int:\n",
    "    \"\"\"\n",
    "        Finds optimal number of clusters using elbow method.\n",
    "\n",
    "        :param data: dataframe\n",
    "        :return: number of clusters\n",
    "    \"\"\"\n",
    "    sum_of_squared_distances = []\n",
    "    K = range(1, 10)\n",
    "    for num_clusters in K:\n",
    "        kmeans = KMeans(n_clusters=num_clusters, n_init=10)\n",
    "        kmeans.fit(data)\n",
    "        sum_of_squared_distances.append(kmeans.inertia_)\n",
    "\n",
    "    # finding elbow point\n",
    "    sd = np.diff(sum_of_squared_distances, 2)\n",
    "    elbow_point = np.argmax(sd) + 2\n",
    "\n",
    "    plt.figure(figsize=(8, 5))\n",
    "    plt.plot(range(1, 10), sum_of_squared_distances, marker='o')\n",
    "    plt.xlabel('Number of clusters')\n",
    "    plt.ylabel('WCSS')\n",
    "    plt.show()\n",
    "\n",
    "    return elbow_point"
   ]
  },
  {
   "cell_type": "code",
   "execution_count": 16,
   "metadata": {},
   "outputs": [],
   "source": [
    "def num_of_clus_silhouette(data) -> int:\n",
    "    \"\"\"\n",
    "    Finds optimal number of clusters using silhouette method.\n",
    "\n",
    "    :param data: dataframe\n",
    "    :return: number of clusters\n",
    "    \"\"\"\n",
    "    silhouette_scores = []\n",
    "    for i in range(2, 11):\n",
    "        kmeans = KMeans(n_clusters=i, init='k-means++', max_iter=300, n_init=10, random_state=0)\n",
    "        kmeans.fit(data)\n",
    "        score = silhouette_score(data, kmeans.labels_)\n",
    "        silhouette_scores.append(score)\n",
    "\n",
    "    silhouette_point = np.argmax(silhouette_scores) + 2\n",
    "\n",
    "    plt.figure(figsize=(8, 5))\n",
    "    plt.plot(range(2, 11), silhouette_scores, marker='o')\n",
    "    plt.xlabel('Number of clusters')\n",
    "    plt.ylabel('Silhouette score')\n",
    "    plt.show()\n",
    "\n",
    "    return silhouette_point"
   ]
  },
  {
   "cell_type": "code",
   "execution_count": 17,
   "metadata": {},
   "outputs": [
    {
     "data": {
      "image/png": "[encoded data removed]",
      "text/plain": [
       "<Figure size 576x360 with 1 Axes>"
      ]
     },
     "metadata": {
      "needs_background": "light"
     },
     "output_type": "display_data"
    },
    {
     "name": "stdout",
     "output_type": "stream",
     "text": [
      "Elbow method: 2\n"
     ]
    },
    {
     "data": {
      "image/png": "[encoded data removed]",
      "text/plain": [
       "<Figure size 576x360 with 1 Axes>"
      ]
     },
     "metadata": {
      "needs_background": "light"
     },
     "output_type": "display_data"
    },
    {
     "name": "stdout",
     "output_type": "stream",
     "text": [
      "Silhouette method: 4\n"
     ]
    }
   ],
   "source": [
    "# Let's check elbow method\n",
    "df_clusters = replace_outliers(raw_data)\n",
    "df_clusters = encode_columns(df_clusters)\n",
    "df_clusters = minmax(df_clusters)\n",
    "print('Elbow method:', num_of_clus_elbow(df_clusters))\n",
    "print('Silhouette method:', num_of_clus_silhouette(df_clusters))"
   ]
  },
  {
   "attachments": {},
   "cell_type": "markdown",
   "metadata": {},
   "source": [
    "We can see that returned values are different. Now we can test it on a baseline model:"
   ]
  },
  {
   "cell_type": "code",
   "execution_count": 18,
   "metadata": {},
   "outputs": [
    {
     "name": "stdout",
     "output_type": "stream",
     "text": [
      "Number of clusters: 2\n",
      "silhouette score: 0.2252351224166828\n",
      "calinski harabasz score: 63.206479218442425\n",
      "davies bouldin score: 1.7761412662967169\n",
      "Number of clusters: 4\n",
      "silhouette score: 0.28933192733131985\n",
      "calinski harabasz score: 50.14316823419269\n",
      "davies bouldin score: 1.3579874845603588\n"
     ]
    }
   ],
   "source": [
    "for i in [2,4]:\n",
    "    dfkmeans, model = k_means_alg(df_clusters, num_clusters=i)\n",
    "    y_kmeans = dfkmeans['label']\n",
    "    print(f\"silhouette score: {silhouette_score(df_clusters, y_kmeans)}\")\n",
    "    print(f\"calinski harabasz score: {calinski_harabasz_score(df_clusters, y_kmeans)}\")\n",
    "    print(f\"davies bouldin score: {davies_bouldin_score(df_clusters, y_kmeans)}\")"
   ]
  },
  {
   "attachments": {},
   "cell_type": "markdown",
   "metadata": {},
   "source": [
    "We can see that results are better for 4 clusters. Now let's check how preprocessing influences clusters and score."
   ]
  },
  {
   "cell_type": "code",
   "execution_count": 19,
   "metadata": {},
   "outputs": [
    {
     "name": "stdout",
     "output_type": "stream",
     "text": [
      "Processing: stand\n",
      "Number of clusters: 4\n",
      "silhouette score: 0.22034126555501474\n",
      "calinski harabasz score: 36.26326074278857\n",
      "davies bouldin score: 1.6473047994165644\n",
      "Processing: minmax\n",
      "Number of clusters: 4\n",
      "silhouette score: 0.28933192733131985\n",
      "calinski harabasz score: 50.14316823419269\n",
      "davies bouldin score: 1.3579874845603588\n",
      "Processing: norm\n",
      "Number of clusters: 4\n",
      "silhouette score: 0.3012481559184208\n",
      "calinski harabasz score: 138.60587153808743\n",
      "davies bouldin score: 0.972272435080523\n"
     ]
    }
   ],
   "source": [
    "processing = ['stand', 'minmax', 'norm']\n",
    "for proc in processing:\n",
    "    print(f'Processing: {proc}')\n",
    "    df_proc = preprocessing(raw_data, rem_over=False, process=proc)\n",
    "    dfkmeans, model = k_means_alg(df_proc, num_clusters=4)\n",
    "    y = dfkmeans['label']\n",
    "    print(f\"silhouette score: {silhouette_score(df_proc, y)}\")\n",
    "    print(f\"calinski harabasz score: {calinski_harabasz_score(df_proc, y)}\")\n",
    "    print(f\"davies bouldin score: {davies_bouldin_score(df_proc, y)}\")"
   ]
  },
  {
   "attachments": {},
   "cell_type": "markdown",
   "metadata": {},
   "source": [
    "Results vary depending on processing used. Normalizer has the best results, but we can see that normalized data is hard to interpret:"
   ]
  },
  {
   "cell_type": "code",
   "execution_count": 20,
   "metadata": {},
   "outputs": [
    {
     "data": {
      "text/html": [
       "<div>\n",
       "<style scoped>\n",
       "    .dataframe tbody tr th:only-of-type {\n",
       "        vertical-align: middle;\n",
       "    }\n",
       "\n",
       "    .dataframe tbody tr th {\n",
       "        vertical-align: top;\n",
       "    }\n",
       "\n",
       "    .dataframe thead th {\n",
       "        text-align: right;\n",
       "    }\n",
       "</style>\n",
       "<table border=\"1\" class=\"dataframe\">\n",
       "  <thead>\n",
       "    <tr style=\"text-align: right;\">\n",
       "      <th></th>\n",
       "      <th>age</th>\n",
       "      <th>sex</th>\n",
       "      <th>cp</th>\n",
       "      <th>trestbps</th>\n",
       "      <th>chol</th>\n",
       "      <th>fbs</th>\n",
       "      <th>restecg</th>\n",
       "      <th>thalach</th>\n",
       "      <th>exang</th>\n",
       "      <th>oldpeak</th>\n",
       "      <th>slope</th>\n",
       "    </tr>\n",
       "  </thead>\n",
       "  <tbody>\n",
       "    <tr>\n",
       "      <th>0</th>\n",
       "      <td>0.178178</td>\n",
       "      <td>0.002741</td>\n",
       "      <td>0.002741</td>\n",
       "      <td>0.378285</td>\n",
       "      <td>0.773018</td>\n",
       "      <td>0.002741</td>\n",
       "      <td>0.005482</td>\n",
       "      <td>0.476968</td>\n",
       "      <td>0.000000</td>\n",
       "      <td>0.003838</td>\n",
       "      <td>0.005482</td>\n",
       "    </tr>\n",
       "    <tr>\n",
       "      <th>1</th>\n",
       "      <td>0.196692</td>\n",
       "      <td>0.003172</td>\n",
       "      <td>0.012690</td>\n",
       "      <td>0.380695</td>\n",
       "      <td>0.847046</td>\n",
       "      <td>0.000000</td>\n",
       "      <td>0.000000</td>\n",
       "      <td>0.314073</td>\n",
       "      <td>0.003172</td>\n",
       "      <td>0.005710</td>\n",
       "      <td>0.006345</td>\n",
       "    </tr>\n",
       "    <tr>\n",
       "      <th>2</th>\n",
       "      <td>0.196362</td>\n",
       "      <td>0.003445</td>\n",
       "      <td>0.010335</td>\n",
       "      <td>0.516742</td>\n",
       "      <td>0.578751</td>\n",
       "      <td>0.000000</td>\n",
       "      <td>0.000000</td>\n",
       "      <td>0.599421</td>\n",
       "      <td>0.000000</td>\n",
       "      <td>0.005512</td>\n",
       "      <td>0.003445</td>\n",
       "    </tr>\n",
       "    <tr>\n",
       "      <th>3</th>\n",
       "      <td>0.199493</td>\n",
       "      <td>0.003500</td>\n",
       "      <td>0.014000</td>\n",
       "      <td>0.489983</td>\n",
       "      <td>0.671977</td>\n",
       "      <td>0.000000</td>\n",
       "      <td>0.000000</td>\n",
       "      <td>0.517983</td>\n",
       "      <td>0.000000</td>\n",
       "      <td>0.001400</td>\n",
       "      <td>0.007000</td>\n",
       "    </tr>\n",
       "    <tr>\n",
       "      <th>4</th>\n",
       "      <td>0.193573</td>\n",
       "      <td>0.000000</td>\n",
       "      <td>0.013350</td>\n",
       "      <td>0.333747</td>\n",
       "      <td>0.827693</td>\n",
       "      <td>0.000000</td>\n",
       "      <td>0.006675</td>\n",
       "      <td>0.407171</td>\n",
       "      <td>0.000000</td>\n",
       "      <td>0.003337</td>\n",
       "      <td>0.006675</td>\n",
       "    </tr>\n",
       "  </tbody>\n",
       "</table>\n",
       "</div>"
      ],
      "text/plain": [
       "        age       sex        cp  trestbps      chol       fbs   restecg  \\\n",
       "0  0.178178  0.002741  0.002741  0.378285  0.773018  0.002741  0.005482   \n",
       "1  0.196692  0.003172  0.012690  0.380695  0.847046  0.000000  0.000000   \n",
       "2  0.196362  0.003445  0.010335  0.516742  0.578751  0.000000  0.000000   \n",
       "3  0.199493  0.003500  0.014000  0.489983  0.671977  0.000000  0.000000   \n",
       "4  0.193573  0.000000  0.013350  0.333747  0.827693  0.000000  0.006675   \n",
       "\n",
       "    thalach     exang   oldpeak     slope  \n",
       "0  0.476968  0.000000  0.003838  0.005482  \n",
       "1  0.314073  0.003172  0.005710  0.006345  \n",
       "2  0.599421  0.000000  0.005512  0.003445  \n",
       "3  0.517983  0.000000  0.001400  0.007000  \n",
       "4  0.407171  0.000000  0.003337  0.006675  "
      ]
     },
     "execution_count": 20,
     "metadata": {},
     "output_type": "execute_result"
    }
   ],
   "source": [
    "normalize(raw_data).head()"
   ]
  },
  {
   "attachments": {},
   "cell_type": "markdown",
   "metadata": {},
   "source": [
    "For example values in sex column are around 0.003 while in chol or thalach values are way bigger. Thus, minmax scaler is the most reasonable scaler."
   ]
  },
  {
   "cell_type": "code",
   "execution_count": 21,
   "metadata": {},
   "outputs": [
    {
     "name": "stdout",
     "output_type": "stream",
     "text": [
      "Number of clusters: 2\n",
      "silhouette score: 0.2252351224166828\n",
      "calinski harabasz score: 63.206479218442425\n",
      "davies bouldin score: 1.7761412662967169\n",
      "Number of clusters: 3\n",
      "silhouette score: 0.2619917170741527\n",
      "calinski harabasz score: 55.036755233776915\n",
      "davies bouldin score: 1.716318565581454\n",
      "Number of clusters: 4\n",
      "silhouette score: 0.28933192733131985\n",
      "calinski harabasz score: 50.14316823419269\n",
      "davies bouldin score: 1.3579874845603588\n",
      "Number of clusters: 5\n",
      "silhouette score: 0.2619434072133079\n",
      "calinski harabasz score: 49.159240451761214\n",
      "davies bouldin score: 1.5078377776890295\n",
      "Number of clusters: 6\n",
      "silhouette score: 0.2489622262048448\n",
      "calinski harabasz score: 45.689451854895545\n",
      "davies bouldin score: 1.5816799409656925\n"
     ]
    }
   ],
   "source": [
    "df_minmax = preprocessing(raw_data, rem_over=False, process='minmax')\n",
    "for i in [2, 3, 4, 5, 6]:\n",
    "    dfkmeans, _ = k_means_alg(df_minmax, num_clusters=i)\n",
    "    y_kmeans = dfkmeans['label']\n",
    "    print(f\"silhouette score: {silhouette_score(df_minmax, y_kmeans)}\")\n",
    "    print(f\"calinski harabasz score: {calinski_harabasz_score(df_minmax, y_kmeans)}\")\n",
    "    print(f\"davies bouldin score: {davies_bouldin_score(df_minmax, y_kmeans)}\")"
   ]
  },
  {
   "attachments": {},
   "cell_type": "markdown",
   "metadata": {},
   "source": [
    "On average the more clusters the better the results, but we have to draw a line somewhere and pick apropriate number of clusters (4 looks the best). Last question is if we should use PCA for reducing dimensionality."
   ]
  },
  {
   "cell_type": "code",
   "execution_count": 22,
   "metadata": {},
   "outputs": [
    {
     "name": "stdout",
     "output_type": "stream",
     "text": [
      "Number of clusters: 4\n",
      "silhouette score: 0.22815791836780464\n",
      "calinski harabasz score: 37.771413609812384\n",
      "davies bouldin score: 1.6161708068507368\n"
     ]
    }
   ],
   "source": [
    "df_pca = preprocessing(raw_data, process='stand')\n",
    "dfkmeans, model = k_means_alg(df_pca, num_clusters=4)\n",
    "y_kmeans = dfkmeans['label']\n",
    "print(f\"silhouette score: {silhouette_score(df_pca, y_kmeans)}\")\n",
    "print(f\"calinski harabasz score: {calinski_harabasz_score(df_pca, y_kmeans)}\")\n",
    "print(f\"davies bouldin score: {davies_bouldin_score(df_pca, y_kmeans)}\")"
   ]
  },
  {
   "attachments": {},
   "cell_type": "markdown",
   "metadata": {},
   "source": [
    "The scores are way worse. Maybe it is easier to visualize clustering as we only have 3 variables, but we lose interpretability which is crucial in medical data analysis. That said in preprocessing we will stick to minmax scaler and outliers removal, and we will be using 4 clusters."
   ]
  },
  {
   "attachments": {},
   "cell_type": "markdown",
   "metadata": {},
   "source": [
    "## Algorithms"
   ]
  },
  {
   "cell_type": "code",
   "execution_count": 30,
   "metadata": {},
   "outputs": [],
   "source": [
    "from metrices import metrices\n",
    "from dbscan import dbscan\n",
    "from Evaluation import medians_for_clusters\n",
    "from preprocessing import preprocessing\n",
    "from KMeans import k_means_alg\n",
    "from other_algorithms import k_medoids_alg, aglomerative_alg, minibatch_alg, gmm_alg"
   ]
  },
  {
   "cell_type": "code",
   "execution_count": 119,
   "metadata": {
    "collapsed": false
   },
   "outputs": [],
   "source": [
    "df = pd.read_csv('train.csv')\n",
    "df.drop('id', axis=1, inplace=True)\n",
    "raw_data = df.copy()\n",
    "df = preprocessing(raw_data, rem_over=True, process='minmax')\n",
    "columns=['method', 'min dist btw cl', 'avg dist in cl', 'std dev dist in cl', 'silhouette', 'cal-har', 'dav-bou']\n",
    "results = pd.DataFrame(columns=columns)"
   ]
  },
  {
   "attachments": {},
   "cell_type": "markdown",
   "metadata": {
    "collapsed": false
   },
   "source": [
    "### Kmeans"
   ]
  },
  {
   "cell_type": "code",
   "execution_count": 120,
   "metadata": {},
   "outputs": [
    {
     "name": "stdout",
     "output_type": "stream",
     "text": [
      "Number of clusters: 4\n",
      "Minimal distance between clusters: 1.384787970152601\n",
      "Average distance between points in the same class: 1.3246265474338457\n",
      "Standard deviation of distance between points in the same class: 0.07868544162630838\n",
      "Silhouette score: 0.31186776495418306\n",
      "Calinski-Harabasz index: 54.855648212873824\n",
      "Davies Bouldin index: 1.2960629394136907\n",
      "-----\n",
      "Medians:\n",
      "        age  sex   cp  trestbps   chol  fbs  restecg  thalach  exang  oldpeak  \\\n",
      "label                                                                           \n",
      "0      52.0  1.0  2.0     128.0  235.0  0.0      0.0    164.0    0.0      0.0   \n",
      "1      58.0  1.0  4.0     130.0  246.5  0.0      2.0    143.0    1.0      1.1   \n",
      "2      53.5  1.0  3.0     130.0  237.5  0.0      0.0    157.0    0.0      0.4   \n",
      "3      59.0  1.0  1.0     145.0  234.0  0.0      2.0    162.0    0.0      1.2   \n",
      "\n",
      "       slope  \n",
      "label         \n",
      "0        1.0  \n",
      "1        2.0  \n",
      "2        1.0  \n",
      "3        2.0  \n"
     ]
    }
   ],
   "source": [
    "results_df = ['Kmeans']\n",
    "\n",
    "df_kmeans, model = k_means_alg(df, num_clusters=4)\n",
    "y_kmeans = df_kmeans['label']\n",
    "\n",
    "for metric in metrices:\n",
    "    print(f'{metric}: {metrices[metric](df, y_kmeans)}')\n",
    "    results_df.append(round(metrices[metric](df, y_kmeans), 3))\n",
    "print(\"-----\")\n",
    "print(\"Medians:\")\n",
    "df_kmeans_medians = raw_data.copy()\n",
    "df_kmeans_medians['label'] = y_kmeans\n",
    "print(medians_for_clusters(df_kmeans_medians))\n",
    "\n",
    "a = np.array(results_df)\n",
    "results = pd.concat([results, pd.DataFrame(a[None], columns=columns)], ignore_index=True)"
   ]
  },
  {
   "attachments": {},
   "cell_type": "markdown",
   "metadata": {
    "collapsed": false
   },
   "source": [
    "### KMedoids"
   ]
  },
  {
   "cell_type": "code",
   "execution_count": 121,
   "metadata": {
    "collapsed": false
   },
   "outputs": [
    {
     "name": "stdout",
     "output_type": "stream",
     "text": [
      "Number of clusters: 4\n",
      "Minimal distance between clusters: 0.22730740681764028\n",
      "Average distance between points in the same class: 1.4328630652532135\n",
      "Standard deviation of distance between points in the same class: 0.1439203825767612\n",
      "Silhouette score: 0.1693460406313456\n",
      "Calinski-Harabasz index: 36.81776546298439\n",
      "Davies Bouldin index: 1.889557452745028\n",
      "        age  sex   cp  trestbps   chol  fbs  restecg  thalach  exang  oldpeak  \\\n",
      "label                                                                           \n",
      "0      51.5  0.0  3.0     130.0  237.5  0.0      0.0    162.0    0.0     0.05   \n",
      "1      56.5  1.0  4.0     128.0  228.5  0.0      0.0    157.0    0.0     0.25   \n",
      "2      57.0  1.0  4.0     131.0  257.5  0.0      2.0    132.0    1.0     1.85   \n",
      "3      57.0  1.0  3.0     130.0  249.5  0.0      2.0    157.0    0.0     0.80   \n",
      "\n",
      "       slope  \n",
      "label         \n",
      "0        1.0  \n",
      "1        1.0  \n",
      "2        2.0  \n",
      "3        2.0  \n"
     ]
    }
   ],
   "source": [
    "results_df = ['KMedoids']\n",
    "\n",
    "df_medoids, model = k_medoids_alg(df, num_clusters=4)\n",
    "y_kmedoids = df_medoids['label']\n",
    "\n",
    "for metric in metrices:\n",
    "    print(f'{metric}: {metrices[metric](df, y_kmedoids)}')\n",
    "    results_df.append(round(metrices[metric](df, y_kmedoids), 3))\n",
    "df_medoids_medians = raw_data.copy()\n",
    "df_medoids_medians['label'] = y_kmedoids\n",
    "print(medians_for_clusters(df_medoids_medians))\n",
    "\n",
    "a = np.array(results_df)\n",
    "results = pd.concat([results, pd.DataFrame(a[None], columns=columns)], ignore_index=True)"
   ]
  },
  {
   "attachments": {},
   "cell_type": "markdown",
   "metadata": {
    "collapsed": false
   },
   "source": [
    "### Mini Batch"
   ]
  },
  {
   "cell_type": "code",
   "execution_count": 122,
   "metadata": {
    "collapsed": false
   },
   "outputs": [
    {
     "name": "stdout",
     "output_type": "stream",
     "text": [
      "Minimal distance between clusters: 0.7182899642143524\n",
      "Average distance between points in the same class: 1.331666039353475\n",
      "Standard deviation of distance between points in the same class: 0.1338173167224232\n",
      "Silhouette score: 0.23707265591965654\n",
      "Calinski-Harabasz index: 50.916830902950984\n",
      "Davies Bouldin index: 1.6563756007722774\n",
      "        age  sex   cp  trestbps   chol  fbs  restecg  thalach  exang  oldpeak  \\\n",
      "label                                                                           \n",
      "0      54.0  1.0  3.0     132.0  240.0  0.0      1.0    157.0    0.0      0.5   \n",
      "1      58.0  1.0  4.0     128.0  237.0  0.0      2.0    148.0    0.0      0.8   \n",
      "2      58.0  1.0  4.0     132.0  249.0  0.0      2.0    140.0    1.0      1.6   \n",
      "3      52.0  1.0  2.0     130.0  235.0  0.0      0.0    164.0    0.0      0.0   \n",
      "\n",
      "       slope  \n",
      "label         \n",
      "0        1.0  \n",
      "1        2.0  \n",
      "2        2.0  \n",
      "3        1.0  \n"
     ]
    }
   ],
   "source": [
    "results_df = ['Mini Batch']\n",
    "\n",
    "df_mini, model = minibatch_alg(df, num_clusters=4)\n",
    "y_mini = df_mini['label']\n",
    "\n",
    "for metric in metrices:\n",
    "    print(f'{metric}: {metrices[metric](df, y_mini)}')\n",
    "    results_df.append(round(metrices[metric](df, y_mini), 3))\n",
    "    df_kmeans_medians = raw_data.copy()\n",
    "\n",
    "df_mini_medians = raw_data.copy()\n",
    "df_mini_medians['label'] = y_mini\n",
    "print(medians_for_clusters(df_mini_medians))\n",
    "\n",
    "a = np.array(results_df)\n",
    "results = pd.concat([results, pd.DataFrame(a[None], columns=columns)], ignore_index=True)"
   ]
  },
  {
   "attachments": {},
   "cell_type": "markdown",
   "metadata": {
    "collapsed": false
   },
   "source": [
    "### Aglomerative clustering"
   ]
  },
  {
   "cell_type": "code",
   "execution_count": 123,
   "metadata": {
    "collapsed": false
   },
   "outputs": [
    {
     "name": "stdout",
     "output_type": "stream",
     "text": [
      "Number of clusters: 4\n",
      "Minimal distance between clusters: 1.384787970152601\n",
      "Average distance between points in the same class: 1.3246265474338457\n",
      "Standard deviation of distance between points in the same class: 0.07868544162630838\n",
      "Silhouette score: 0.31186776495418306\n",
      "Calinski-Harabasz index: 54.855648212873824\n",
      "Davies Bouldin index: 1.2960629394136907\n",
      "        age  sex   cp  trestbps   chol  fbs  restecg  thalach  exang  oldpeak  \\\n",
      "label                                                                           \n",
      "0      52.0  1.0  2.0     128.0  235.0  0.0      0.0    164.0    0.0      0.0   \n",
      "1      59.0  1.0  1.0     145.0  234.0  0.0      2.0    162.0    0.0      1.2   \n",
      "2      58.0  1.0  4.0     130.0  246.5  0.0      2.0    143.0    1.0      1.1   \n",
      "3      53.5  1.0  3.0     130.0  237.5  0.0      0.0    157.0    0.0      0.4   \n",
      "\n",
      "       slope  \n",
      "label         \n",
      "0        1.0  \n",
      "1        2.0  \n",
      "2        2.0  \n",
      "3        1.0  \n"
     ]
    }
   ],
   "source": [
    "results_df = ['Agl Clust']\n",
    "\n",
    "df_aglinks, model = aglomerative_alg(df, num_clusters=4, linkage = 'single')\n",
    "y_aglinks = df_aglinks['label']\n",
    "\n",
    "for metric in metrices:\n",
    "    print(f'{metric}: {metrices[metric](df, y_aglinks)}')\n",
    "    results_df.append(round(metrices[metric](df, y_aglinks), 3))\n",
    "\n",
    "df_aglinks_medians = raw_data.copy()\n",
    "df_aglinks_medians['label'] = y_aglinks\n",
    "print(medians_for_clusters(df_aglinks_medians))\n",
    "\n",
    "a = np.array(results_df)\n",
    "results = pd.concat([results, pd.DataFrame(a[None], columns=columns)], ignore_index=True)"
   ]
  },
  {
   "attachments": {},
   "cell_type": "markdown",
   "metadata": {
    "collapsed": false
   },
   "source": [
    "### DBSCAN"
   ]
  },
  {
   "cell_type": "code",
   "execution_count": 124,
   "metadata": {
    "collapsed": false
   },
   "outputs": [
    {
     "name": "stdout",
     "output_type": "stream",
     "text": [
      "Minimal distance between clusters: 0.5126085609048117\n",
      "Average distance between points in the same class: 0.5436108554072199\n",
      "Standard deviation of distance between points in the same class: 0.3604621632081168\n",
      "Silhouette score: 0.24727337134414376\n",
      "Calinski-Harabasz index: 16.499626274987065\n",
      "Davies Bouldin index: 1.3127441265107864\n",
      "        age  sex   cp  trestbps   chol  fbs  restecg  thalach  exang  oldpeak  \\\n",
      "label                                                                           \n",
      "-1     59.0  1.0  3.0     136.0  231.0  0.0      0.0    152.0    0.0     1.20   \n",
      " 0     56.0  1.0  4.0     131.0  257.5  0.0      0.0    131.0    1.0     1.70   \n",
      " 1     48.5  1.0  3.0     129.5  234.5  0.0      0.0    166.0    0.0     0.00   \n",
      " 2     52.0  1.0  4.0     120.0  212.0  0.0      0.0    148.0    0.0     0.40   \n",
      " 3     60.0  0.0  4.0     140.0  264.0  0.0      2.0    143.0    0.0     1.00   \n",
      " 4     48.0  1.0  4.0     124.0  254.0  0.0      2.0    153.0    0.0     0.50   \n",
      " 5     57.5  1.0  4.0     128.0  249.0  0.0      2.0    129.5    1.0     1.70   \n",
      " 6     46.0  1.0  2.0     120.0  237.5  0.0      0.0    160.0    0.0     0.00   \n",
      " 7     45.5  0.0  2.0     122.0  207.0  0.0      0.0    167.0    0.0     0.00   \n",
      " 8     47.0  1.0  3.0     138.0  232.0  0.0      2.0    168.0    0.0     1.60   \n",
      " 9     53.5  0.0  3.0     129.0  254.0  0.0      2.0    154.5    0.0     0.05   \n",
      " 10    54.0  0.0  3.0     122.0  242.0  0.0      0.0    160.0    0.0     0.00   \n",
      " 11    54.0  1.0  2.0     130.0  232.0  0.0      2.0    170.0    0.0     0.00   \n",
      " 12    62.0  0.0  4.0     140.0  244.0  0.0      0.0    143.0    1.0     0.20   \n",
      " 13    56.0  0.0  4.0     138.0  307.0  0.0      2.0    150.0    1.0     1.00   \n",
      " 14    57.0  1.0  3.0     128.0  254.0  0.0      2.0    150.0    0.0     0.50   \n",
      " 15    59.0  1.0  1.0     170.0  273.0  0.0      2.0    155.0    0.0     0.20   \n",
      " 16    56.0  0.0  2.0     135.0  250.0  0.0      2.0    161.0    0.0     1.30   \n",
      " 17    55.0  0.0  4.0     129.0  278.5  0.0      2.0    159.5    0.0     0.00   \n",
      "\n",
      "       slope  \n",
      "label         \n",
      "-1       2.0  \n",
      " 0       2.0  \n",
      " 1       1.0  \n",
      " 2       1.0  \n",
      " 3       2.0  \n",
      " 4       1.0  \n",
      " 5       2.0  \n",
      " 6       1.0  \n",
      " 7       1.0  \n",
      " 8       1.0  \n",
      " 9       1.0  \n",
      " 10      1.0  \n",
      " 11      1.0  \n",
      " 12      2.0  \n",
      " 13      2.0  \n",
      " 14      2.0  \n",
      " 15      2.0  \n",
      " 16      2.0  \n",
      " 17      1.0  \n"
     ]
    }
   ],
   "source": [
    "results_df = ['DBSCAN']\n",
    "\n",
    "df_dbscan, model = dbscan(df, 'minmax')\n",
    "y_dbscan = df_dbscan['label']\n",
    "\n",
    "for metric in metrices:\n",
    "    print(f'{metric}: {metrices[metric](df, y_dbscan)}')\n",
    "    results_df.append(round(metrices[metric](df, y_dbscan), 3))\n",
    "\n",
    "df_dbscan_medians = raw_data.copy()\n",
    "df_dbscan_medians['label'] = y_dbscan\n",
    "print(medians_for_clusters(df_dbscan_medians))\n",
    "\n",
    "a = np.array(results_df)\n",
    "results = pd.concat([results, pd.DataFrame(a[None], columns=columns)], ignore_index=True)"
   ]
  },
  {
   "cell_type": "code",
   "execution_count": 125,
   "metadata": {},
   "outputs": [
    {
     "data": {
      "text/html": [
       "<div>\n",
       "<style scoped>\n",
       "    .dataframe tbody tr th:only-of-type {\n",
       "        vertical-align: middle;\n",
       "    }\n",
       "\n",
       "    .dataframe tbody tr th {\n",
       "        vertical-align: top;\n",
       "    }\n",
       "\n",
       "    .dataframe thead th {\n",
       "        text-align: right;\n",
       "    }\n",
       "</style>\n",
       "<table border=\"1\" class=\"dataframe\">\n",
       "  <thead>\n",
       "    <tr style=\"text-align: right;\">\n",
       "      <th></th>\n",
       "      <th>PC1</th>\n",
       "      <th>PC2</th>\n",
       "      <th>PC3</th>\n",
       "      <th>PC4</th>\n",
       "      <th>PC5</th>\n",
       "      <th>PC6</th>\n",
       "      <th>PC7</th>\n",
       "      <th>PC8</th>\n",
       "      <th>PC9</th>\n",
       "      <th>PC10</th>\n",
       "    </tr>\n",
       "  </thead>\n",
       "  <tbody>\n",
       "    <tr>\n",
       "      <th>0</th>\n",
       "      <td>-0.132617</td>\n",
       "      <td>0.426787</td>\n",
       "      <td>0.433962</td>\n",
       "      <td>0.891037</td>\n",
       "      <td>0.798188</td>\n",
       "      <td>-0.388303</td>\n",
       "      <td>0.527402</td>\n",
       "      <td>0.477042</td>\n",
       "      <td>-0.117244</td>\n",
       "      <td>-0.160859</td>\n",
       "    </tr>\n",
       "    <tr>\n",
       "      <th>1</th>\n",
       "      <td>0.910406</td>\n",
       "      <td>-0.637786</td>\n",
       "      <td>0.181633</td>\n",
       "      <td>-0.365014</td>\n",
       "      <td>0.062484</td>\n",
       "      <td>0.035384</td>\n",
       "      <td>-0.166866</td>\n",
       "      <td>-0.103250</td>\n",
       "      <td>0.145059</td>\n",
       "      <td>-0.310922</td>\n",
       "    </tr>\n",
       "    <tr>\n",
       "      <th>2</th>\n",
       "      <td>-0.799262</td>\n",
       "      <td>-0.282356</td>\n",
       "      <td>0.649245</td>\n",
       "      <td>-0.174409</td>\n",
       "      <td>-0.256103</td>\n",
       "      <td>-0.225534</td>\n",
       "      <td>-0.086299</td>\n",
       "      <td>-0.021977</td>\n",
       "      <td>0.214752</td>\n",
       "      <td>0.316420</td>\n",
       "    </tr>\n",
       "    <tr>\n",
       "      <th>3</th>\n",
       "      <td>0.282105</td>\n",
       "      <td>-0.522200</td>\n",
       "      <td>-0.096707</td>\n",
       "      <td>-0.033347</td>\n",
       "      <td>-0.163912</td>\n",
       "      <td>-0.664081</td>\n",
       "      <td>-0.012473</td>\n",
       "      <td>-0.203405</td>\n",
       "      <td>0.036688</td>\n",
       "      <td>-0.112053</td>\n",
       "    </tr>\n",
       "    <tr>\n",
       "      <th>4</th>\n",
       "      <td>0.382437</td>\n",
       "      <td>0.677170</td>\n",
       "      <td>-0.691201</td>\n",
       "      <td>-0.180314</td>\n",
       "      <td>-0.086393</td>\n",
       "      <td>-0.344277</td>\n",
       "      <td>-0.123727</td>\n",
       "      <td>-0.218404</td>\n",
       "      <td>-0.274267</td>\n",
       "      <td>-0.327804</td>\n",
       "    </tr>\n",
       "    <tr>\n",
       "      <th>...</th>\n",
       "      <td>...</td>\n",
       "      <td>...</td>\n",
       "      <td>...</td>\n",
       "      <td>...</td>\n",
       "      <td>...</td>\n",
       "      <td>...</td>\n",
       "      <td>...</td>\n",
       "      <td>...</td>\n",
       "      <td>...</td>\n",
       "      <td>...</td>\n",
       "    </tr>\n",
       "    <tr>\n",
       "      <th>207</th>\n",
       "      <td>-0.465364</td>\n",
       "      <td>0.065390</td>\n",
       "      <td>-0.357721</td>\n",
       "      <td>1.063195</td>\n",
       "      <td>-0.126054</td>\n",
       "      <td>0.416202</td>\n",
       "      <td>0.122289</td>\n",
       "      <td>-0.048420</td>\n",
       "      <td>0.456757</td>\n",
       "      <td>0.366300</td>\n",
       "    </tr>\n",
       "    <tr>\n",
       "      <th>208</th>\n",
       "      <td>0.248736</td>\n",
       "      <td>-0.460210</td>\n",
       "      <td>0.045179</td>\n",
       "      <td>-0.020140</td>\n",
       "      <td>0.167596</td>\n",
       "      <td>-0.678671</td>\n",
       "      <td>0.897341</td>\n",
       "      <td>-0.256596</td>\n",
       "      <td>-0.059555</td>\n",
       "      <td>-0.280164</td>\n",
       "    </tr>\n",
       "    <tr>\n",
       "      <th>209</th>\n",
       "      <td>0.645060</td>\n",
       "      <td>-0.750013</td>\n",
       "      <td>0.022189</td>\n",
       "      <td>-0.262070</td>\n",
       "      <td>-0.342125</td>\n",
       "      <td>0.113274</td>\n",
       "      <td>0.166023</td>\n",
       "      <td>0.338142</td>\n",
       "      <td>0.042257</td>\n",
       "      <td>0.007272</td>\n",
       "    </tr>\n",
       "    <tr>\n",
       "      <th>210</th>\n",
       "      <td>1.006905</td>\n",
       "      <td>0.098332</td>\n",
       "      <td>0.118930</td>\n",
       "      <td>0.163508</td>\n",
       "      <td>-0.322555</td>\n",
       "      <td>0.266672</td>\n",
       "      <td>0.046522</td>\n",
       "      <td>0.172808</td>\n",
       "      <td>0.122399</td>\n",
       "      <td>0.143866</td>\n",
       "    </tr>\n",
       "    <tr>\n",
       "      <th>211</th>\n",
       "      <td>0.216368</td>\n",
       "      <td>0.655903</td>\n",
       "      <td>-0.825075</td>\n",
       "      <td>-0.120127</td>\n",
       "      <td>-0.369479</td>\n",
       "      <td>-0.256061</td>\n",
       "      <td>0.174697</td>\n",
       "      <td>0.190740</td>\n",
       "      <td>0.047404</td>\n",
       "      <td>-0.017635</td>\n",
       "    </tr>\n",
       "  </tbody>\n",
       "</table>\n",
       "<p>212 rows × 10 columns</p>\n",
       "</div>"
      ],
      "text/plain": [
       "          PC1       PC2       PC3       PC4       PC5       PC6       PC7  \\\n",
       "0   -0.132617  0.426787  0.433962  0.891037  0.798188 -0.388303  0.527402   \n",
       "1    0.910406 -0.637786  0.181633 -0.365014  0.062484  0.035384 -0.166866   \n",
       "2   -0.799262 -0.282356  0.649245 -0.174409 -0.256103 -0.225534 -0.086299   \n",
       "3    0.282105 -0.522200 -0.096707 -0.033347 -0.163912 -0.664081 -0.012473   \n",
       "4    0.382437  0.677170 -0.691201 -0.180314 -0.086393 -0.344277 -0.123727   \n",
       "..        ...       ...       ...       ...       ...       ...       ...   \n",
       "207 -0.465364  0.065390 -0.357721  1.063195 -0.126054  0.416202  0.122289   \n",
       "208  0.248736 -0.460210  0.045179 -0.020140  0.167596 -0.678671  0.897341   \n",
       "209  0.645060 -0.750013  0.022189 -0.262070 -0.342125  0.113274  0.166023   \n",
       "210  1.006905  0.098332  0.118930  0.163508 -0.322555  0.266672  0.046522   \n",
       "211  0.216368  0.655903 -0.825075 -0.120127 -0.369479 -0.256061  0.174697   \n",
       "\n",
       "          PC8       PC9      PC10  \n",
       "0    0.477042 -0.117244 -0.160859  \n",
       "1   -0.103250  0.145059 -0.310922  \n",
       "2   -0.021977  0.214752  0.316420  \n",
       "3   -0.203405  0.036688 -0.112053  \n",
       "4   -0.218404 -0.274267 -0.327804  \n",
       "..        ...       ...       ...  \n",
       "207 -0.048420  0.456757  0.366300  \n",
       "208 -0.256596 -0.059555 -0.280164  \n",
       "209  0.338142  0.042257  0.007272  \n",
       "210  0.172808  0.122399  0.143866  \n",
       "211  0.190740  0.047404 -0.017635  \n",
       "\n",
       "[212 rows x 10 columns]"
      ]
     },
     "execution_count": 125,
     "metadata": {},
     "output_type": "execute_result"
    }
   ],
   "source": [
    "df"
   ]
  },
  {
   "attachments": {},
   "cell_type": "markdown",
   "metadata": {
    "collapsed": false
   },
   "source": [
    "### GMM"
   ]
  },
  {
   "cell_type": "code",
   "execution_count": 126,
   "metadata": {
    "collapsed": false
   },
   "outputs": [
    {
     "name": "stdout",
     "output_type": "stream",
     "text": [
      "Minimal distance between clusters: 0.9963973271750455\n",
      "Average distance between points in the same class: 1.3230345073317016\n",
      "Standard deviation of distance between points in the same class: 0.13171451847683985\n",
      "Silhouette score: 0.26139736531855007\n",
      "Calinski-Harabasz index: 53.882114247823765\n",
      "Davies Bouldin index: 1.6657382185216179\n",
      "        age  sex   cp  trestbps   chol  fbs  restecg  thalach  exang  oldpeak  \\\n",
      "label                                                                           \n",
      "0      53.5  1.0  3.0     130.0  237.5  0.0      0.0    157.0    0.0     0.40   \n",
      "1      57.5  1.0  4.0     132.0  247.5  0.0      2.0    140.0    1.0     1.55   \n",
      "2      59.0  1.0  4.0     130.0  240.0  0.0      2.0    154.0    0.0     1.00   \n",
      "3      52.0  1.0  2.0     128.0  235.0  0.0      0.0    164.0    0.0     0.00   \n",
      "\n",
      "       slope  \n",
      "label         \n",
      "0        1.0  \n",
      "1        2.0  \n",
      "2        2.0  \n",
      "3        1.0  \n"
     ]
    }
   ],
   "source": [
    "results_df = ['GMM']\n",
    "\n",
    "df_gmm, model = gmm_alg(df, n_components=4)\n",
    "y_gmm = df_gmm['label']\n",
    "\n",
    "for metric in metrices:\n",
    "    print(f'{metric}: {metrices[metric](df, y_gmm)}')\n",
    "    results_df.append(round(metrices[metric](df, y_gmm), 3))\n",
    "\n",
    "df_gmm_medians = raw_data.copy()\n",
    "df_gmm_medians['label'] = y_gmm\n",
    "print(medians_for_clusters(df_gmm_medians))\n",
    "\n",
    "a = np.array(results_df)\n",
    "results = pd.concat([results, pd.DataFrame(a[None], columns=columns)], ignore_index=True)"
   ]
  },
  {
   "cell_type": "code",
   "execution_count": 127,
   "metadata": {},
   "outputs": [
    {
     "name": "stdout",
     "output_type": "stream",
     "text": [
      "Minimal distance between clusters: 1.0359814237289005\n",
      "Average distance between points in the same class: 1.311409245852004\n",
      "Standard deviation of distance between points in the same class: 0.08968402240125742\n",
      "Silhouette score: 0.30067978602381545\n",
      "Calinski-Harabasz index: 52.56300106176761\n",
      "Davies Bouldin index: 1.3039976336016366\n"
     ]
    }
   ],
   "source": [
    "from sklearn.cluster import SpectralClustering\n",
    "\n",
    "sc = SpectralClustering(n_clusters=4)\n",
    "y_sc = sc.fit_predict(df)\n",
    "for metric in metrices:\n",
    "    print(f'{metric}: {metrices[metric](df, y_sc)}')"
   ]
  },
  {
   "cell_type": "code",
   "execution_count": 128,
   "metadata": {
    "collapsed": false
   },
   "outputs": [
    {
     "data": {
      "text/html": [
       "<div>\n",
       "<style scoped>\n",
       "    .dataframe tbody tr th:only-of-type {\n",
       "        vertical-align: middle;\n",
       "    }\n",
       "\n",
       "    .dataframe tbody tr th {\n",
       "        vertical-align: top;\n",
       "    }\n",
       "\n",
       "    .dataframe thead th {\n",
       "        text-align: right;\n",
       "    }\n",
       "</style>\n",
       "<table border=\"1\" class=\"dataframe\">\n",
       "  <thead>\n",
       "    <tr style=\"text-align: right;\">\n",
       "      <th></th>\n",
       "      <th>method</th>\n",
       "      <th>min dist btw cl</th>\n",
       "      <th>avg dist in cl</th>\n",
       "      <th>std dev dist in cl</th>\n",
       "      <th>silhouette</th>\n",
       "      <th>cal-har</th>\n",
       "      <th>dav-bou</th>\n",
       "    </tr>\n",
       "  </thead>\n",
       "  <tbody>\n",
       "    <tr>\n",
       "      <th>0</th>\n",
       "      <td>Kmeans</td>\n",
       "      <td>1.385</td>\n",
       "      <td>1.325</td>\n",
       "      <td>0.079</td>\n",
       "      <td>0.312</td>\n",
       "      <td>54.856</td>\n",
       "      <td>1.296</td>\n",
       "    </tr>\n",
       "    <tr>\n",
       "      <th>1</th>\n",
       "      <td>KMedoids</td>\n",
       "      <td>0.227</td>\n",
       "      <td>1.433</td>\n",
       "      <td>0.144</td>\n",
       "      <td>0.169</td>\n",
       "      <td>36.818</td>\n",
       "      <td>1.89</td>\n",
       "    </tr>\n",
       "    <tr>\n",
       "      <th>2</th>\n",
       "      <td>Mini Batch</td>\n",
       "      <td>0.718</td>\n",
       "      <td>1.332</td>\n",
       "      <td>0.134</td>\n",
       "      <td>0.237</td>\n",
       "      <td>50.917</td>\n",
       "      <td>1.656</td>\n",
       "    </tr>\n",
       "    <tr>\n",
       "      <th>3</th>\n",
       "      <td>Agl Clust</td>\n",
       "      <td>1.385</td>\n",
       "      <td>1.325</td>\n",
       "      <td>0.079</td>\n",
       "      <td>0.312</td>\n",
       "      <td>54.856</td>\n",
       "      <td>1.296</td>\n",
       "    </tr>\n",
       "    <tr>\n",
       "      <th>4</th>\n",
       "      <td>DBSCAN</td>\n",
       "      <td>0.513</td>\n",
       "      <td>0.544</td>\n",
       "      <td>0.36</td>\n",
       "      <td>0.247</td>\n",
       "      <td>16.5</td>\n",
       "      <td>1.313</td>\n",
       "    </tr>\n",
       "    <tr>\n",
       "      <th>5</th>\n",
       "      <td>GMM</td>\n",
       "      <td>0.996</td>\n",
       "      <td>1.323</td>\n",
       "      <td>0.132</td>\n",
       "      <td>0.261</td>\n",
       "      <td>53.882</td>\n",
       "      <td>1.666</td>\n",
       "    </tr>\n",
       "  </tbody>\n",
       "</table>\n",
       "</div>"
      ],
      "text/plain": [
       "       method min dist btw cl avg dist in cl std dev dist in cl silhouette  \\\n",
       "0      Kmeans           1.385          1.325              0.079      0.312   \n",
       "1    KMedoids           0.227          1.433              0.144      0.169   \n",
       "2  Mini Batch           0.718          1.332              0.134      0.237   \n",
       "3   Agl Clust           1.385          1.325              0.079      0.312   \n",
       "4      DBSCAN           0.513          0.544               0.36      0.247   \n",
       "5         GMM           0.996          1.323              0.132      0.261   \n",
       "\n",
       "  cal-har dav-bou  \n",
       "0  54.856   1.296  \n",
       "1  36.818    1.89  \n",
       "2  50.917   1.656  \n",
       "3  54.856   1.296  \n",
       "4    16.5   1.313  \n",
       "5  53.882   1.666  "
      ]
     },
     "execution_count": 128,
     "metadata": {},
     "output_type": "execute_result"
    }
   ],
   "source": [
    "results"
   ]
  },
  {
   "attachments": {},
   "cell_type": "markdown",
   "metadata": {},
   "source": [
    "Hierarchical clustering with kmeans"
   ]
  },
  {
   "attachments": {},
   "cell_type": "markdown",
   "metadata": {},
   "source": [
    "Standard hierarchical clustering"
   ]
  },
  {
   "cell_type": "code",
   "execution_count": 129,
   "metadata": {},
   "outputs": [
    {
     "name": "stdout",
     "output_type": "stream",
     "text": [
      "╒══════════════════╤═══════════════════╤══════════════════╤══════════════════════╤══════════════╤═══════════╤═══════════╕\n",
      "│ Linkage Method   │   min dist btw cl │   avg dist in cl │   std dev dist in cl │   silhouette │   cal-har │   dav-bou │\n",
      "╞══════════════════╪═══════════════════╪══════════════════╪══════════════════════╪══════════════╪═══════════╪═══════════╡\n",
      "│ single           │          1.38479  │          1.32463 │            0.0786854 │     0.311868 │   54.8556 │   1.29606 │\n",
      "├──────────────────┼───────────────────┼──────────────────┼──────────────────────┼──────────────┼───────────┼───────────┤\n",
      "│ complete         │          0.395692 │          1.35924 │            0.156647  │     0.201953 │   39.3088 │   1.57578 │\n",
      "├──────────────────┼───────────────────┼──────────────────┼──────────────────────┼──────────────┼───────────┼───────────┤\n",
      "│ average          │          1.38479  │          1.32463 │            0.0786854 │     0.311868 │   54.8556 │   1.29606 │\n",
      "├──────────────────┼───────────────────┼──────────────────┼──────────────────────┼──────────────┼───────────┼───────────┤\n",
      "│ ward             │          1.38479  │          1.32463 │            0.0786854 │     0.311868 │   54.8556 │   1.29606 │\n",
      "╘══════════════════╧═══════════════════╧══════════════════╧══════════════════════╧══════════════╧═══════════╧═══════════╛\n"
     ]
    }
   ],
   "source": [
    "from scipy.cluster.hierarchy import fcluster, linkage\n",
    "from tabulate import tabulate\n",
    "\n",
    "data = df.to_numpy()\n",
    "\n",
    "k = 4\n",
    "linkage_methods = ['single', 'complete', 'average', 'ward']\n",
    "columns=['min dist btw cl', 'avg dist in cl', 'std dev dist in cl', 'silhouette', 'cal-har', 'dav-bou']\n",
    "\n",
    "results = []\n",
    "for method in linkage_methods:\n",
    "    Z = linkage(data, method=method)\n",
    "    labels = fcluster(Z, k, criterion='maxclust')\n",
    "\n",
    "    row = [method]\n",
    "    for metric in metrices:\n",
    "        value = metrices[metric](df, labels)\n",
    "        row.append(value)\n",
    "    results.append(row)\n",
    "\n",
    "headers = ['Linkage Method'] + list(columns)\n",
    "print(tabulate(results, headers=headers, tablefmt='fancy_grid'))"
   ]
  },
  {
   "attachments": {},
   "cell_type": "markdown",
   "metadata": {},
   "source": [
    "Dendogram"
   ]
  },
  {
   "cell_type": "code",
   "execution_count": 130,
   "metadata": {},
   "outputs": [
    {
     "data": {
      "image/png": "[encoded data removed]",
      "text/plain": [
       "<Figure size 720x432 with 1 Axes>"
      ]
     },
     "metadata": {
      "needs_background": "light"
     },
     "output_type": "display_data"
    }
   ],
   "source": [
    "import numpy as np\n",
    "from scipy.cluster.hierarchy import dendrogram, linkage\n",
    "import matplotlib.pyplot as plt\n",
    "\n",
    "data = df.to_numpy()\n",
    "\n",
    "Z = linkage(data, method='complete')\n",
    "\n",
    "plt.figure(figsize=(10, 6))\n",
    "dendrogram(Z)\n",
    "plt.xlabel('Data Points')\n",
    "plt.ylabel('Distance')\n",
    "plt.title('Hierarchical Clustering Dendrogram')\n",
    "plt.show()"
   ]
  },
  {
   "attachments": {},
   "cell_type": "markdown",
   "metadata": {},
   "source": [
    "Hybrid with Kmeans"
   ]
  },
  {
   "cell_type": "code",
   "execution_count": 131,
   "metadata": {},
   "outputs": [],
   "source": [
    "from sklearn.cluster import AgglomerativeClustering, KMeans\n",
    "from sklearn.metrics import pairwise_distances_argmin_min\n",
    "\n",
    "k=4\n",
    "agg_cluster = AgglomerativeClustering(n_clusters=k, linkage='single')\n",
    "agg_labels = agg_cluster.fit_predict(df)\n",
    "\n",
    "# Compute the center of each cluster\n",
    "cluster_centers = []\n",
    "for cluster in range(k):\n",
    "    cluster_data = df[agg_labels == cluster]\n",
    "    cluster_center = cluster_data.mean(axis=0)\n",
    "    cluster_centers.append(cluster_center)\n",
    "\n",
    "# Convert the cluster centers to a numpy array\n",
    "cluster_centers = np.array(cluster_centers)\n",
    "\n",
    "# Perform k-means clustering using the cluster centers as initial centers\n",
    "kmeans = KMeans(n_clusters=k, init=cluster_centers, n_init=1)\n",
    "kmeans_labels = kmeans.fit_predict(df)\n",
    "kmeans_cluster_centers = kmeans.cluster_centers_"
   ]
  },
  {
   "attachments": {},
   "cell_type": "markdown",
   "metadata": {},
   "source": [
    "It did not help, nothing has changed"
   ]
  },
  {
   "cell_type": "code",
   "execution_count": 132,
   "metadata": {},
   "outputs": [
    {
     "name": "stdout",
     "output_type": "stream",
     "text": [
      "Minimal distance between clusters: 1.384787970152601\n",
      "Average distance between points in the same class: 1.3246265474338457\n",
      "Standard deviation of distance between points in the same class: 0.07868544162630838\n",
      "Silhouette score: 0.31186776495418306\n",
      "Calinski-Harabasz index: 54.855648212873824\n",
      "Davies Bouldin index: 1.2960629394136907\n"
     ]
    }
   ],
   "source": [
    "for metric in metrices:\n",
    "    print(f'{metric}: {metrices[metric](df, kmeans_labels)}')"
   ]
  },
  {
   "cell_type": "code",
   "execution_count": 133,
   "metadata": {},
   "outputs": [],
   "source": [
    "k=4\n",
    "agg_cluster = AgglomerativeClustering(n_clusters=k, linkage='single')\n",
    "agg_labels = agg_cluster.fit_predict(df)"
   ]
  },
  {
   "attachments": {},
   "cell_type": "markdown",
   "metadata": {},
   "source": [
    "changing labels in dbscan to positive labels"
   ]
  },
  {
   "cell_type": "code",
   "execution_count": 172,
   "metadata": {},
   "outputs": [],
   "source": [
    "def change_to_positive_labels(y_dbscan):\n",
    "    unique_labels = np.unique(y_dbscan)\n",
    "    if -1 in unique_labels:\n",
    "        # Remove the outliers from the clustering results\n",
    "        y_dbscan[y_dbscan == -1] = np.max(unique_labels) + 1\n",
    "    return y_dbscan\n",
    "y_dbscan = change_to_positive_labels(y_dbscan)"
   ]
  },
  {
   "attachments": {},
   "cell_type": "markdown",
   "metadata": {},
   "source": [
    "Majority Voting"
   ]
  },
  {
   "cell_type": "code",
   "execution_count": 135,
   "metadata": {},
   "outputs": [],
   "source": [
    "def majority_voting(*labels):\n",
    "    stacked_labels = np.vstack(labels)\n",
    "    majority_vote = np.apply_along_axis(lambda x: np.bincount(x).argmax(), axis=0, arr=stacked_labels)\n",
    "    return majority_vote"
   ]
  },
  {
   "attachments": {},
   "cell_type": "markdown",
   "metadata": {},
   "source": [
    "For all subgroups"
   ]
  },
  {
   "cell_type": "code",
   "execution_count": 136,
   "metadata": {},
   "outputs": [],
   "source": [
    "methods_list = [y_mini, y_gmm, y_dbscan, y_kmeans, agg_labels, y_sc]\n",
    "methods_list_names = ['y_mini', 'y_gmm', 'y_dbscan', 'y_kmeans', 'agg_labels', 'y_sc']"
   ]
  },
  {
   "cell_type": "code",
   "execution_count": 137,
   "metadata": {},
   "outputs": [],
   "source": [
    "from itertools import combinations\n",
    "\n",
    "def get_subgroups(lst):\n",
    "    subgroups = []\n",
    "    n = len(lst)\n",
    "    for group_size in range(1, n + 1):\n",
    "        for subgroup in combinations(lst, group_size):\n",
    "            subgroups.append(list(subgroup))\n",
    "    return subgroups"
   ]
  },
  {
   "cell_type": "code",
   "execution_count": 138,
   "metadata": {},
   "outputs": [],
   "source": [
    "subgroups = get_subgroups(methods_list)\n",
    "subgroups_names = get_subgroups(methods_list_names)"
   ]
  },
  {
   "cell_type": "code",
   "execution_count": 139,
   "metadata": {},
   "outputs": [],
   "source": [
    "table = np.zeros((len(subgroups), 6))\n",
    "\n",
    "for i in range(len(subgroups)):\n",
    "    y_maj_vote = majority_voting(subgroups[i])\n",
    "    for index, key in enumerate(metrices):\n",
    "        metric = metrices[key]\n",
    "        val = round(metrices[key](df, y_maj_vote), 4)\n",
    "        table[i, index] = val\n",
    "        # print(f'{key}: {metrices[key](df, y_maj_vote)}')\n"
   ]
  },
  {
   "attachments": {},
   "cell_type": "markdown",
   "metadata": {},
   "source": [
    "Printing dataframe already filtered so we only get good results"
   ]
  },
  {
   "cell_type": "code",
   "execution_count": 140,
   "metadata": {},
   "outputs": [
    {
     "data": {
      "text/html": [
       "<div>\n",
       "<style scoped>\n",
       "    .dataframe tbody tr th:only-of-type {\n",
       "        vertical-align: middle;\n",
       "    }\n",
       "\n",
       "    .dataframe tbody tr th {\n",
       "        vertical-align: top;\n",
       "    }\n",
       "\n",
       "    .dataframe thead th {\n",
       "        text-align: right;\n",
       "    }\n",
       "</style>\n",
       "<table border=\"1\" class=\"dataframe\">\n",
       "  <thead>\n",
       "    <tr style=\"text-align: right;\">\n",
       "      <th></th>\n",
       "      <th>subgroups</th>\n",
       "      <th>min dist btw cl</th>\n",
       "      <th>avg dist in cl</th>\n",
       "      <th>std dev dist in cl</th>\n",
       "      <th>silhouette</th>\n",
       "      <th>cal-har</th>\n",
       "      <th>dav-bou</th>\n",
       "    </tr>\n",
       "  </thead>\n",
       "  <tbody>\n",
       "    <tr>\n",
       "      <th>3</th>\n",
       "      <td>[y_kmeans]</td>\n",
       "      <td>1.3848</td>\n",
       "      <td>1.3246</td>\n",
       "      <td>0.0787</td>\n",
       "      <td>0.3119</td>\n",
       "      <td>54.8556</td>\n",
       "      <td>1.2961</td>\n",
       "    </tr>\n",
       "    <tr>\n",
       "      <th>4</th>\n",
       "      <td>[agg_labels]</td>\n",
       "      <td>1.3848</td>\n",
       "      <td>1.3246</td>\n",
       "      <td>0.0787</td>\n",
       "      <td>0.3119</td>\n",
       "      <td>54.8556</td>\n",
       "      <td>1.2961</td>\n",
       "    </tr>\n",
       "    <tr>\n",
       "      <th>5</th>\n",
       "      <td>[y_sc]</td>\n",
       "      <td>1.0360</td>\n",
       "      <td>1.3114</td>\n",
       "      <td>0.0897</td>\n",
       "      <td>0.3007</td>\n",
       "      <td>52.5630</td>\n",
       "      <td>1.3040</td>\n",
       "    </tr>\n",
       "    <tr>\n",
       "      <th>6</th>\n",
       "      <td>[y_mini, y_gmm]</td>\n",
       "      <td>1.0087</td>\n",
       "      <td>1.2895</td>\n",
       "      <td>0.2041</td>\n",
       "      <td>0.2449</td>\n",
       "      <td>42.0283</td>\n",
       "      <td>1.4452</td>\n",
       "    </tr>\n",
       "    <tr>\n",
       "      <th>18</th>\n",
       "      <td>[y_kmeans, agg_labels]</td>\n",
       "      <td>1.3980</td>\n",
       "      <td>1.3730</td>\n",
       "      <td>0.1547</td>\n",
       "      <td>0.2714</td>\n",
       "      <td>54.9879</td>\n",
       "      <td>1.4428</td>\n",
       "    </tr>\n",
       "    <tr>\n",
       "      <th>23</th>\n",
       "      <td>[y_mini, y_gmm, agg_labels]</td>\n",
       "      <td>1.0087</td>\n",
       "      <td>1.3447</td>\n",
       "      <td>0.1312</td>\n",
       "      <td>0.2623</td>\n",
       "      <td>44.3888</td>\n",
       "      <td>1.4651</td>\n",
       "    </tr>\n",
       "    <tr>\n",
       "      <th>42</th>\n",
       "      <td>[y_mini, y_gmm, y_dbscan, agg_labels]</td>\n",
       "      <td>1.0087</td>\n",
       "      <td>1.3447</td>\n",
       "      <td>0.1312</td>\n",
       "      <td>0.2623</td>\n",
       "      <td>44.3888</td>\n",
       "      <td>1.4651</td>\n",
       "    </tr>\n",
       "    <tr>\n",
       "      <th>44</th>\n",
       "      <td>[y_mini, y_gmm, y_kmeans, agg_labels]</td>\n",
       "      <td>1.0087</td>\n",
       "      <td>1.3731</td>\n",
       "      <td>0.2787</td>\n",
       "      <td>0.1787</td>\n",
       "      <td>36.9176</td>\n",
       "      <td>1.6403</td>\n",
       "    </tr>\n",
       "    <tr>\n",
       "      <th>46</th>\n",
       "      <td>[y_mini, y_gmm, agg_labels, y_sc]</td>\n",
       "      <td>1.0087</td>\n",
       "      <td>1.3395</td>\n",
       "      <td>0.1566</td>\n",
       "      <td>0.2334</td>\n",
       "      <td>40.1978</td>\n",
       "      <td>1.4417</td>\n",
       "    </tr>\n",
       "    <tr>\n",
       "      <th>56</th>\n",
       "      <td>[y_mini, y_gmm, y_dbscan, y_kmeans, agg_labels]</td>\n",
       "      <td>1.0017</td>\n",
       "      <td>1.1713</td>\n",
       "      <td>0.4213</td>\n",
       "      <td>0.0732</td>\n",
       "      <td>27.5389</td>\n",
       "      <td>1.5509</td>\n",
       "    </tr>\n",
       "  </tbody>\n",
       "</table>\n",
       "</div>"
      ],
      "text/plain": [
       "                                          subgroups  min dist btw cl  \\\n",
       "3                                        [y_kmeans]           1.3848   \n",
       "4                                      [agg_labels]           1.3848   \n",
       "5                                            [y_sc]           1.0360   \n",
       "6                                   [y_mini, y_gmm]           1.0087   \n",
       "18                           [y_kmeans, agg_labels]           1.3980   \n",
       "23                      [y_mini, y_gmm, agg_labels]           1.0087   \n",
       "42            [y_mini, y_gmm, y_dbscan, agg_labels]           1.0087   \n",
       "44            [y_mini, y_gmm, y_kmeans, agg_labels]           1.0087   \n",
       "46                [y_mini, y_gmm, agg_labels, y_sc]           1.0087   \n",
       "56  [y_mini, y_gmm, y_dbscan, y_kmeans, agg_labels]           1.0017   \n",
       "\n",
       "    avg dist in cl  std dev dist in cl  silhouette  cal-har  dav-bou  \n",
       "3           1.3246              0.0787      0.3119  54.8556   1.2961  \n",
       "4           1.3246              0.0787      0.3119  54.8556   1.2961  \n",
       "5           1.3114              0.0897      0.3007  52.5630   1.3040  \n",
       "6           1.2895              0.2041      0.2449  42.0283   1.4452  \n",
       "18          1.3730              0.1547      0.2714  54.9879   1.4428  \n",
       "23          1.3447              0.1312      0.2623  44.3888   1.4651  \n",
       "42          1.3447              0.1312      0.2623  44.3888   1.4651  \n",
       "44          1.3731              0.2787      0.1787  36.9176   1.6403  \n",
       "46          1.3395              0.1566      0.2334  40.1978   1.4417  \n",
       "56          1.1713              0.4213      0.0732  27.5389   1.5509  "
      ]
     },
     "execution_count": 140,
     "metadata": {},
     "output_type": "execute_result"
    }
   ],
   "source": [
    "column_names=['min dist btw cl', 'avg dist in cl', 'std dev dist in cl', 'silhouette', 'cal-har', 'dav-bou']\n",
    "\n",
    "table_df = pd.DataFrame(table, columns=column_names)\n",
    "table_df[\"subgroups\"] = subgroups_names\n",
    "column_names = table_df.columns.tolist()\n",
    "last_column = column_names[-1]\n",
    "column_names.remove(last_column)\n",
    "new_column_order = [last_column] + column_names\n",
    "table_df = table_df[new_column_order]\n",
    "table_df = table_df[(table_df['min dist btw cl'] > 1) & (table_df['avg dist in cl'] < 1.4)]\n",
    "table_df\n"
   ]
  },
  {
   "cell_type": "code",
   "execution_count": 145,
   "metadata": {},
   "outputs": [],
   "source": [
    "mv_final = majority_voting([y_mini, y_gmm, y_dbscan, y_kmeans, agg_labels])"
   ]
  },
  {
   "cell_type": "code",
   "execution_count": 146,
   "metadata": {},
   "outputs": [
    {
     "name": "stdout",
     "output_type": "stream",
     "text": [
      "        age  sex   cp  trestbps   chol  fbs  restecg  thalach  exang  oldpeak  \\\n",
      "label                                                                           \n",
      "0      54.0  1.0  3.0     130.0  235.5  0.0      0.0    160.5    0.0      0.2   \n",
      "1      58.0  1.0  4.0     130.0  249.0  0.0      2.0    143.0    1.0      1.4   \n",
      "2      52.0  1.0  4.0     120.0  212.0  0.0      0.0    148.0    0.0      0.4   \n",
      "3      59.0  1.0  1.0     134.0  240.0  0.0      0.0    162.0    0.0      1.2   \n",
      "\n",
      "       slope  \n",
      "label         \n",
      "0        1.0  \n",
      "1        2.0  \n",
      "2        1.0  \n",
      "3        2.0  \n"
     ]
    }
   ],
   "source": [
    "df_mv_final_medians = raw_data.copy()\n",
    "df_mv_final_medians['label'] = mv_final\n",
    "print(medians_for_clusters(df_mv_final_medians))"
   ]
  },
  {
   "attachments": {},
   "cell_type": "markdown",
   "metadata": {},
   "source": [
    "Podsumowanie"
   ]
  },
  {
   "cell_type": "code",
   "execution_count": 177,
   "metadata": {},
   "outputs": [
    {
     "name": "stdout",
     "output_type": "stream",
     "text": [
      "Number of clusters: 4\n"
     ]
    }
   ],
   "source": [
    "df_train = pd.read_csv('train.csv')\n",
    "raw_data = df_train.copy()\n",
    "df_train = preprocessing(df_train, rem_over=True, process='minmax')\n",
    "df_mini, model = minibatch_alg(df_train, num_clusters=4)\n",
    "y_mini = df_mini['label']\n",
    "df_gmm, model = gmm_alg(df_train, n_components=4)\n",
    "y_gmm = df_gmm['label']\n",
    "df_dbscan, model = dbscan(df_train, 'minmax')\n",
    "y_dbscan = df_dbscan['label']\n",
    "y_dbscan = change_to_positive_labels(y_dbscan)\n",
    "df_kmeans, model = k_means_alg(df_train, num_clusters=4)\n",
    "y_kmeans = df_kmeans['label']\n",
    "agg_cluster = AgglomerativeClustering(n_clusters=4, linkage='single')\n",
    "agg_labels = agg_cluster.fit_predict(df_train)"
   ]
  },
  {
   "cell_type": "code",
   "execution_count": 178,
   "metadata": {},
   "outputs": [],
   "source": [
    "mv_final = majority_voting([y_mini, y_gmm, y_dbscan, y_kmeans, agg_labels])"
   ]
  },
  {
   "attachments": {},
   "cell_type": "markdown",
   "metadata": {},
   "source": [
    "Plots"
   ]
  },
  {
   "cell_type": "code",
   "execution_count": 227,
   "metadata": {},
   "outputs": [
    {
     "data": {
      "application/vnd.plotly.v1+json": {
       "config": {
        "plotlyServerURL": "https://plot.ly"
       },
       "data": [
        {
         "marker": {
          "color": [
           0,
           1,
           0,
           2,
           1,
           1,
           1,
           1,
           1,
           1,
           0,
           1,
           0,
           1,
           0,
           1,
           0,
           1,
           0,
           1,
           0,
           0,
           0,
           0,
           1,
           0,
           0,
           0,
           0,
           0,
           1,
           0,
           0,
           0,
           1,
           1,
           0,
           3,
           0,
           1,
           1,
           0,
           1,
           0,
           0,
           1,
           1,
           1,
           3,
           1,
           1,
           0,
           1,
           0,
           0,
           1,
           1,
           0,
           3,
           1,
           1,
           1,
           0,
           2,
           0,
           1,
           0,
           1,
           0,
           0,
           1,
           0,
           0,
           1,
           0,
           0,
           2,
           2,
           0,
           1,
           0,
           2,
           2,
           1,
           1,
           0,
           1,
           0,
           0,
           1,
           0,
           1,
           0,
           0,
           0,
           1,
           0,
           1,
           0,
           0,
           1,
           0,
           1,
           0,
           3,
           1,
           0,
           1,
           0,
           1,
           1,
           0,
           0,
           1,
           0,
           0,
           0,
           1,
           0,
           1,
           0,
           1,
           1,
           0,
           0,
           1,
           1,
           0,
           0,
           2,
           1,
           0,
           1,
           1,
           1,
           0,
           0,
           1,
           0,
           0,
           1,
           1,
           1,
           0,
           0,
           2,
           1,
           0,
           0,
           0,
           1,
           0,
           1,
           0,
           1,
           1,
           1,
           0,
           1,
           0,
           0,
           0,
           1,
           0,
           0,
           0,
           1,
           0,
           1,
           1,
           0,
           1,
           1,
           1,
           0,
           0,
           1,
           0,
           1,
           0,
           0,
           3,
           1,
           0,
           1,
           0,
           0,
           0,
           0,
           0,
           0,
           1,
           1,
           0,
           0,
           0,
           1,
           0,
           0,
           0,
           1,
           1,
           0,
           2,
           1,
           0,
           1,
           0,
           1,
           1,
           1,
           1
          ],
          "size": 4
         },
         "mode": "markers",
         "type": "scatter3d",
         "x": [
          -0.1326170747781832,
          0.9104064179791382,
          -0.7992622118248734,
          0.2821053655119194,
          0.38243700593026075,
          0.6961753739113954,
          0.43358406960407386,
          1.2590302872090153,
          0.9270048502026708,
          1.070226736531372,
          -0.491181783585681,
          1.0857736878551711,
          -0.7905993253719584,
          0.1947938824296666,
          -0.5547677072487567,
          0.9312032405011418,
          -0.5964172488616017,
          0.6922148441502366,
          -0.7856921776955125,
          1.245201078080557,
          -0.750029492260041,
          -0.7356136928333274,
          -1.0119262527700637,
          -0.8643179763289774,
          1.034078304753667,
          0.13647964045718547,
          -0.46145941804297724,
          -0.6320373670524372,
          -0.7879946261826429,
          -0.5199513488458261,
          1.1458983114787276,
          -0.43984261406799546,
          -0.044582267602576456,
          -1.0404288550660004,
          0.1776870133133661,
          1.131560022351513,
          -0.7570799367699971,
          -0.3403688131154544,
          -1.0982242208362045,
          -0.022150289436328578,
          0.8349574148423745,
          -0.689366726142756,
          0.37744874198173844,
          -0.1793442553608136,
          -0.2467253532996934,
          0.5913951632246336,
          -0.027998243959162287,
          0.8944954092907518,
          -0.4553002575768276,
          0.6318840188922592,
          0.47452597800576074,
          -0.26874281229947417,
          1.1373483313729378,
          -0.5679403126448258,
          -0.9197016420245464,
          0.889161877112007,
          0.8586263766338542,
          -0.10634875833641788,
          -0.6361812123688951,
          0.8953165481157663,
          0.3321134144767657,
          1.0731072630401708,
          0.05062057954571697,
          0.18597323409128566,
          -0.5137359152902853,
          0.38352928487932486,
          -0.6548017670270675,
          0.8333022951552063,
          -0.5808687044301597,
          -0.8346991634971331,
          1.132407923202744,
          -0.9661851948787963,
          -0.674709006919274,
          0.23057732412821497,
          -0.7775317067300436,
          -0.026988379548851128,
          0.11486503045779563,
          0.20482778148142505,
          -0.7288079278596592,
          1.0610083923388585,
          -0.3940554914226894,
          0.16533774475824167,
          0.2164691448942867,
          0.6367774963863599,
          0.5972908438159151,
          -0.9104651677791924,
          -0.00044638856846964867,
          -0.7800213382020726,
          -1.1222675787651484,
          1.0057966217566157,
          -1.051400511005265,
          0.6167944332919945,
          -0.14309364368060024,
          -0.777570568089135,
          0.021191994347382132,
          0.5646870037584963,
          -0.11584853696631725,
          0.3308059644210891,
          -0.6101516446733722,
          -0.7668610183989385,
          0.9468057739126213,
          -0.6313119083373221,
          1.0987164064928676,
          -0.12270750800984279,
          -0.39201347126802105,
          0.8489494161424613,
          -0.03917165784989493,
          1.0434809764625872,
          -0.4557025719047398,
          0.4371160239205253,
          0.19044521182267962,
          -0.9780087204309549,
          -0.3001107450770103,
          0.6162828387622932,
          -0.6005504995416189,
          -0.23800517859075937,
          -0.8257041107200643,
          0.6355333692265339,
          -0.8992320001634739,
          0.43312905680169556,
          -0.6190649196801166,
          0.799913905243967,
          1.1021640409516709,
          -0.47173667857316465,
          -0.7057371984724491,
          1.0983416046432097,
          0.5725355031544783,
          -0.9561619476128992,
          -0.6511739415136188,
          0.36670797873874356,
          0.21211356066112907,
          -0.6886162151520241,
          0.702758029243546,
          0.42804081610383204,
          1.0687434972060332,
          -0.42705066721101964,
          -0.8992224481384198,
          1.032672324145004,
          -0.4937087752629421,
          -0.8981360109490618,
          0.8606805867146016,
          0.3297437089123817,
          1.0402852868457615,
          -0.49394371042777746,
          -0.21324527314091457,
          0.4050253139812648,
          0.5810428589017466,
          -0.9577933730391857,
          -0.18834070014162854,
          -0.8467865453045321,
          0.6432822005593729,
          -0.8152148191182184,
          0.7484569139203119,
          -1.027050413795453,
          0.9253576529994282,
          0.5109705993334611,
          0.912249967295882,
          -0.7838683435562532,
          0.7682281007662999,
          -0.8712551418769116,
          -0.8774849043080021,
          -0.3814343179185158,
          0.025229347837116403,
          -0.6039109910086493,
          -0.6635812887763453,
          -0.498624129060015,
          1.1419809094084192,
          -0.42607227415350624,
          1.079366092747419,
          0.9679814695112567,
          -0.40729298960879395,
          0.5966570037065542,
          0.3788629017462637,
          1.1819784976990453,
          -0.8738044450351813,
          -0.7057466336824919,
          0.20539255385886446,
          -0.8759043782356086,
          0.6117129955093082,
          -0.9894413905091308,
          -0.4677545527672432,
          -0.25761980115909366,
          0.743098160616207,
          -0.9025888090379335,
          0.6278544567992106,
          -0.40294706979942063,
          -0.5576439933031329,
          -0.008261607014732657,
          -0.7705600864485789,
          -0.433500550148911,
          -0.7555534701917151,
          1.1693482459855646,
          0.8328042240260315,
          -0.40567644778251183,
          -0.7108825006493155,
          -0.6913694561909455,
          0.9730919355714179,
          -0.8087296453918038,
          -1.0407132069742449,
          -0.5152409248415369,
          0.33829887304153844,
          0.333900298070818,
          -0.7541407467530438,
          0.1465427807105485,
          0.5205174724755345,
          -0.9114385277049045,
          0.40864855759213214,
          -0.4653644427019131,
          0.24873636235014557,
          0.645060309982118,
          1.0069045389377844,
          0.21636773034007672
         ],
         "y": [
          0.4267866955992044,
          -0.6377862634891731,
          -0.2823555637650215,
          -0.5221996717232795,
          0.6771699621875372,
          0.38600812000925133,
          0.752211361738495,
          0.29715217151784523,
          0.059794959152500264,
          0.17490524239952215,
          -0.7232242726614866,
          0.7299065973126765,
          -0.32956825337241,
          -0.1153145910431175,
          0.5419741669170974,
          -0.6366613974594243,
          -0.19887715273447643,
          -0.6981173040780813,
          -0.27124831545309774,
          0.21718241969551844,
          0.9439618707089596,
          -0.8750045789375478,
          0.11759595573325599,
          -0.3792863722341259,
          0.11265902754368655,
          0.4992952775370847,
          0.01131373461214245,
          0.5067875247714639,
          0.9209550859252157,
          -0.7000040271581754,
          0.16452484469488396,
          0.005843347427800052,
          -0.27828644406856695,
          0.1270210815764252,
          -0.6602780843460466,
          0.15158703697206463,
          -0.19719793825078022,
          -0.4894506922646527,
          0.043268752217886855,
          -0.17918392371599803,
          -0.6222801954267911,
          -0.809849131388344,
          0.7722549119682507,
          -0.9433849711883809,
          0.273375194834665,
          -0.22028602953898332,
          -0.22515764204500274,
          -0.635138650806511,
          -0.5189550310502028,
          -0.7540857315667814,
          0.2683778353802937,
          0.2720993271850784,
          0.15904763448880122,
          -0.769860643936355,
          -0.3510615407681436,
          0.5958700756554344,
          0.09057718540568985,
          0.3186076765534756,
          -0.07972135318190694,
          -0.6774425188528139,
          0.1503867857630422,
          0.058592692300931205,
          0.5468099188376025,
          -0.5949845192223849,
          0.5639949873201923,
          0.24430940505436508,
          -0.7791598618716149,
          0.05981183807803222,
          1.001307761734197,
          0.8917923134860971,
          0.19262775726837209,
          0.18363210361079055,
          0.4852560993665096,
          -0.04146075249715935,
          -0.25053366386131115,
          0.4538283451785484,
          -0.6086116147283682,
          -0.5665075952606166,
          -0.7819832204884916,
          0.14562110780133225,
          -0.5165306347252305,
          -0.6269248618377953,
          -0.5828068008120381,
          -0.748431154426837,
          -0.16966186181751652,
          -0.46244436094336827,
          -0.7214721453197562,
          0.9187841431204687,
          0.00687166592101278,
          -0.5756885659985049,
          0.14125592936326167,
          0.3716834940854978,
          0.40635935655233174,
          -0.33046081871922905,
          0.4803655170517651,
          0.31260109995316904,
          0.39882601681760693,
          0.1815781982762015,
          0.5056169567377475,
          0.9842068180595329,
          0.07809037544883736,
          -0.7979965676662268,
          0.08513996138916834,
          0.8330879971606793,
          -0.38515863877908596,
          -0.6534138586321305,
          0.3100996680974653,
          0.10584834949455205,
          0.5218460992075726,
          -0.4163710196109587,
          0.5983000758390515,
          0.1290466559368641,
          0.06940191317472263,
          -0.26805694374879574,
          0.3823340820036276,
          -0.442779257701551,
          -0.22313043196774032,
          -0.22916636132030616,
          0.1429164427671297,
          0.20835799837852734,
          -0.7741192591616476,
          -0.7401762183330436,
          0.13773503547060822,
          0.49405155444212767,
          -0.8384839198867208,
          0.11629319835332079,
          0.3182641460654486,
          0.18777593287425168,
          -0.17532597550605306,
          -0.5316792312921126,
          0.675004671287499,
          -0.8455185466738513,
          -0.7044712153190694,
          0.7468800494632284,
          -0.5779782547459097,
          0.041230957601176316,
          -0.45426849495184884,
          0.17871559277515844,
          0.541344801071833,
          -0.3409098378227685,
          0.5884502468472048,
          0.6946130974005645,
          0.11942431167692014,
          0.5356665682084337,
          -0.31181747343918503,
          -0.47998337289637494,
          -0.2869627959318194,
          0.12962447070178768,
          0.34619004375091894,
          -0.22430439064152197,
          0.32823746401143683,
          0.93711749712742,
          -0.6654408628908911,
          0.17481765960797382,
          0.6381417854020307,
          -0.2330774255115853,
          0.12661947391143813,
          -0.2146731433716957,
          0.5065293457038708,
          -0.33586656653108865,
          -0.32650966028324196,
          0.6999877737839127,
          -0.17331584307133416,
          -0.1992351561500657,
          -0.7892479865411133,
          -0.030837622977724716,
          0.22530528544351153,
          0.6433727694997631,
          0.07905888858083458,
          0.13264790207011085,
          -0.4906037719135416,
          0.8017771165613441,
          0.19875499155044032,
          0.15408935605934068,
          -0.3958071556223356,
          -0.8220340985175111,
          0.6304823063851172,
          -0.3021545053458043,
          -0.25677798542978136,
          0.11382413410129966,
          0.613356233031796,
          -0.4248918944141237,
          -0.7070904330369515,
          -0.4667451565933822,
          0.33343016646625306,
          0.6353208074903306,
          0.46674934385134126,
          -0.8268177621450811,
          -0.40307600371902946,
          0.6231779657830486,
          1.0469665608912762,
          0.16613924204608246,
          -0.6451911822574838,
          0.7789383465870708,
          -0.8219857883723162,
          1.0259362139791046,
          -0.6092584485864576,
          0.23107511292827743,
          0.11922732031386976,
          0.5602989290990584,
          0.6455220417994648,
          0.18109077830244374,
          0.9106366146984007,
          -0.6118687526228405,
          0.8190558109643646,
          -0.35493849393729776,
          0.1713916712649838,
          0.06539049481419448,
          -0.46021020526124834,
          -0.7500131231373264,
          0.09833188995172029,
          0.6559028328934534
         ],
         "z": [
          0.4339624033283746,
          0.18163328227437828,
          0.6492450105442146,
          -0.0967069789884189,
          -0.6912014797454494,
          -0.013024787543917064,
          -0.5940841929404149,
          0.34796689277254256,
          0.016764711195618894,
          0.143326715152446,
          -0.18021099957271294,
          -0.0283274530944689,
          -0.9294882690176518,
          -0.6320558897740809,
          0.6418012710152827,
          0.24761877897987603,
          0.8175214287265192,
          0.23774066794150642,
          0.6157742301990862,
          0.2911521779539183,
          0.053159003769508245,
          -0.37493903768303966,
          -0.036074856877217294,
          -0.9503278221099741,
          0.13418201643582162,
          0.49662054243834713,
          -0.3900359995894903,
          0.5538632404918562,
          -0.03342540787861865,
          -0.21803191763907553,
          0.2328960531063203,
          -0.3623443040624546,
          1.0318334568146184,
          -0.014115370817963489,
          0.5656040671290272,
          0.19895340054682126,
          0.8987521896587723,
          0.234674050123247,
          -0.05934233184258792,
          -0.8114120499535359,
          0.12741423316203296,
          -0.39454347783758653,
          -0.6886438166765905,
          -0.1358313817975527,
          0.1817078113743548,
          -0.4721540412813455,
          -0.7496438610328523,
          0.1929486494411759,
          0.15909131648925942,
          0.005911544008590896,
          -0.1308452494491953,
          0.15075025028800712,
          0.21846344257709235,
          -0.26884694089445405,
          0.5183887154985404,
          -0.43937661708741443,
          0.1804670648268022,
          0.28432547677213804,
          -0.42862934169853817,
          0.21035220977574928,
          -0.23679849405609416,
          0.19123066086667798,
          1.1435104030659118,
          -0.17736782750346697,
          0.6583297332839771,
          -0.23794309774454264,
          -0.37099407721544364,
          -0.006503165023532267,
          0.1332684797754968,
          -0.06824365526261832,
          0.22777672097623805,
          -0.02669018708614285,
          0.547977348625926,
          -0.6331041349556353,
          0.5878309659986913,
          1.0665166160093749,
          -0.223399363388326,
          -0.14664800855737475,
          -0.19610797382021172,
          0.11065252749461861,
          0.7452488173219952,
          -0.2185973915464975,
          -0.18372426731845182,
          -0.0063189022119139225,
          -0.2495243090419364,
          -0.956604971828254,
          0.39854021182583593,
          -0.018216770488109504,
          -0.08002619212666047,
          0.33103955618139397,
          -0.0778362760187231,
          0.16131300078555552,
          0.2280766094982585,
          -0.8881534286206307,
          0.5828090041404281,
          -0.0697733976345503,
          0.2633837261247771,
          -0.24927984286510246,
          -0.7874338685087209,
          0.13649034359932413,
          0.0372836753293461,
          -0.3204353704839722,
          0.21885519052751354,
          0.42590355040850064,
          0.42207112751339854,
          0.16420963222178672,
          -0.7176489217858552,
          0.12318765625546278,
          -0.8176792306847563,
          0.23207226735804398,
          -0.832075255709629,
          0.04412852501951365,
          -0.15623772135079536,
          -0.4536085462217135,
          -0.8980670395148154,
          0.8928838499503077,
          0.5419905530029288,
          -0.4268977535534232,
          0.10073774874272814,
          -0.1868572299473339,
          -0.3544933424043902,
          0.16159727791892087,
          0.20439317788600533,
          -0.8118112329964181,
          -0.3815286348953958,
          0.21867821381569527,
          -0.06521687251250777,
          0.016044521573096843,
          0.9262762186592345,
          -0.050878959491687734,
          -0.8320265106081869,
          -0.38624367000678084,
          0.06238430647045708,
          -0.6397888327547573,
          0.3830099829445015,
          -0.34548728525595557,
          -0.9841564923394778,
          0.1420863796596231,
          0.7013451018831209,
          0.5356309392235845,
          -0.4563081605123775,
          -0.7099905447409769,
          0.15919639682459508,
          0.7224906105643415,
          1.1049539356111278,
          -0.06550771120361094,
          -0.49417933431474215,
          0.040843132505771595,
          0.14822968443151704,
          0.7909088591480481,
          0.01196602527124873,
          -0.04198321533354692,
          0.31307438762125905,
          -0.03519302981867219,
          -0.15790245805967812,
          -0.5721969280561836,
          -0.005860931395298057,
          0.82737081751136,
          -0.5037848211539142,
          0.5313946878733955,
          0.5543765781988033,
          0.14799062581139258,
          -0.8032562771273283,
          0.8521245795567117,
          -0.39937892606037145,
          -0.3782506848442401,
          0.19695526110869052,
          0.9612034859993211,
          0.21085876139990611,
          0.08127695108130109,
          0.7771135555149981,
          -0.41392707301351783,
          -0.24392363227941666,
          0.2918486152385574,
          -0.986848942078607,
          -0.39194937138801034,
          -0.8046497853660024,
          0.5540065354716331,
          -0.47797830827187965,
          0.03785227508378714,
          0.7038479645796412,
          0.3259332395218562,
          0.07168494489402696,
          -0.9831643288110485,
          -0.009313084857350471,
          0.7437044953746343,
          -0.882863965945218,
          -0.021111511112879802,
          -0.8731670053511403,
          0.7302662329869982,
          0.16191497296587107,
          0.23635601908057183,
          0.11277253361297819,
          -0.24772862102452706,
          -0.2058514458860952,
          0.0527817835800823,
          0.27816161689759306,
          0.13333748607022675,
          -0.0813385703618633,
          0.645923065128819,
          -0.7184086927772165,
          -0.23487097673239976,
          -0.01834659194814961,
          -0.2343324722245633,
          -0.548972813969071,
          0.556473700713859,
          0.5003053259326067,
          -0.3577209257905697,
          0.04517897419565388,
          0.0221892485429542,
          0.11893006919486565,
          -0.825074837813234
         ]
        }
       ],
       "layout": {
        "scene": {
         "xaxis": {
          "title": {
           "text": "PC1"
          }
         },
         "yaxis": {
          "title": {
           "text": "PC2"
          }
         },
         "zaxis": {
          "title": {
           "text": "PC3"
          }
         }
        },
        "template": {
         "data": {
          "bar": [
           {
            "error_x": {
             "color": "#2a3f5f"
            },
            "error_y": {
             "color": "#2a3f5f"
            },
            "marker": {
             "line": {
              "color": "#E5ECF6",
              "width": 0.5
             },
             "pattern": {
              "fillmode": "overlay",
              "size": 10,
              "solidity": 0.2
             }
            },
            "type": "bar"
           }
          ],
          "barpolar": [
           {
            "marker": {
             "line": {
              "color": "#E5ECF6",
              "width": 0.5
             },
             "pattern": {
              "fillmode": "overlay",
              "size": 10,
              "solidity": 0.2
             }
            },
            "type": "barpolar"
           }
          ],
          "carpet": [
           {
            "aaxis": {
             "endlinecolor": "#2a3f5f",
             "gridcolor": "white",
             "linecolor": "white",
             "minorgridcolor": "white",
             "startlinecolor": "#2a3f5f"
            },
            "baxis": {
             "endlinecolor": "#2a3f5f",
             "gridcolor": "white",
             "linecolor": "white",
             "minorgridcolor": "white",
             "startlinecolor": "#2a3f5f"
            },
            "type": "carpet"
           }
          ],
          "choropleth": [
           {
            "colorbar": {
             "outlinewidth": 0,
             "ticks": ""
            },
            "type": "choropleth"
           }
          ],
          "contour": [
           {
            "colorbar": {
             "outlinewidth": 0,
             "ticks": ""
            },
            "colorscale": [
             [
              0,
              "#0d0887"
             ],
             [
              0.1111111111111111,
              "#46039f"
             ],
             [
              0.2222222222222222,
              "#7201a8"
             ],
             [
              0.3333333333333333,
              "#9c179e"
             ],
             [
              0.4444444444444444,
              "#bd3786"
             ],
             [
              0.5555555555555556,
              "#d8576b"
             ],
             [
              0.6666666666666666,
              "#ed7953"
             ],
             [
              0.7777777777777778,
              "#fb9f3a"
             ],
             [
              0.8888888888888888,
              "#fdca26"
             ],
             [
              1,
              "#f0f921"
             ]
            ],
            "type": "contour"
           }
          ],
          "contourcarpet": [
           {
            "colorbar": {
             "outlinewidth": 0,
             "ticks": ""
            },
            "type": "contourcarpet"
           }
          ],
          "heatmap": [
           {
            "colorbar": {
             "outlinewidth": 0,
             "ticks": ""
            },
            "colorscale": [
             [
              0,
              "#0d0887"
             ],
             [
              0.1111111111111111,
              "#46039f"
             ],
             [
              0.2222222222222222,
              "#7201a8"
             ],
             [
              0.3333333333333333,
              "#9c179e"
             ],
             [
              0.4444444444444444,
              "#bd3786"
             ],
             [
              0.5555555555555556,
              "#d8576b"
             ],
             [
              0.6666666666666666,
              "#ed7953"
             ],
             [
              0.7777777777777778,
              "#fb9f3a"
             ],
             [
              0.8888888888888888,
              "#fdca26"
             ],
             [
              1,
              "#f0f921"
             ]
            ],
            "type": "heatmap"
           }
          ],
          "heatmapgl": [
           {
            "colorbar": {
             "outlinewidth": 0,
             "ticks": ""
            },
            "colorscale": [
             [
              0,
              "#0d0887"
             ],
             [
              0.1111111111111111,
              "#46039f"
             ],
             [
              0.2222222222222222,
              "#7201a8"
             ],
             [
              0.3333333333333333,
              "#9c179e"
             ],
             [
              0.4444444444444444,
              "#bd3786"
             ],
             [
              0.5555555555555556,
              "#d8576b"
             ],
             [
              0.6666666666666666,
              "#ed7953"
             ],
             [
              0.7777777777777778,
              "#fb9f3a"
             ],
             [
              0.8888888888888888,
              "#fdca26"
             ],
             [
              1,
              "#f0f921"
             ]
            ],
            "type": "heatmapgl"
           }
          ],
          "histogram": [
           {
            "marker": {
             "pattern": {
              "fillmode": "overlay",
              "size": 10,
              "solidity": 0.2
             }
            },
            "type": "histogram"
           }
          ],
          "histogram2d": [
           {
            "colorbar": {
             "outlinewidth": 0,
             "ticks": ""
            },
            "colorscale": [
             [
              0,
              "#0d0887"
             ],
             [
              0.1111111111111111,
              "#46039f"
             ],
             [
              0.2222222222222222,
              "#7201a8"
             ],
             [
              0.3333333333333333,
              "#9c179e"
             ],
             [
              0.4444444444444444,
              "#bd3786"
             ],
             [
              0.5555555555555556,
              "#d8576b"
             ],
             [
              0.6666666666666666,
              "#ed7953"
             ],
             [
              0.7777777777777778,
              "#fb9f3a"
             ],
             [
              0.8888888888888888,
              "#fdca26"
             ],
             [
              1,
              "#f0f921"
             ]
            ],
            "type": "histogram2d"
           }
          ],
          "histogram2dcontour": [
           {
            "colorbar": {
             "outlinewidth": 0,
             "ticks": ""
            },
            "colorscale": [
             [
              0,
              "#0d0887"
             ],
             [
              0.1111111111111111,
              "#46039f"
             ],
             [
              0.2222222222222222,
              "#7201a8"
             ],
             [
              0.3333333333333333,
              "#9c179e"
             ],
             [
              0.4444444444444444,
              "#bd3786"
             ],
             [
              0.5555555555555556,
              "#d8576b"
             ],
             [
              0.6666666666666666,
              "#ed7953"
             ],
             [
              0.7777777777777778,
              "#fb9f3a"
             ],
             [
              0.8888888888888888,
              "#fdca26"
             ],
             [
              1,
              "#f0f921"
             ]
            ],
            "type": "histogram2dcontour"
           }
          ],
          "mesh3d": [
           {
            "colorbar": {
             "outlinewidth": 0,
             "ticks": ""
            },
            "type": "mesh3d"
           }
          ],
          "parcoords": [
           {
            "line": {
             "colorbar": {
              "outlinewidth": 0,
              "ticks": ""
             }
            },
            "type": "parcoords"
           }
          ],
          "pie": [
           {
            "automargin": true,
            "type": "pie"
           }
          ],
          "scatter": [
           {
            "fillpattern": {
             "fillmode": "overlay",
             "size": 10,
             "solidity": 0.2
            },
            "type": "scatter"
           }
          ],
          "scatter3d": [
           {
            "line": {
             "colorbar": {
              "outlinewidth": 0,
              "ticks": ""
             }
            },
            "marker": {
             "colorbar": {
              "outlinewidth": 0,
              "ticks": ""
             }
            },
            "type": "scatter3d"
           }
          ],
          "scattercarpet": [
           {
            "marker": {
             "colorbar": {
              "outlinewidth": 0,
              "ticks": ""
             }
            },
            "type": "scattercarpet"
           }
          ],
          "scattergeo": [
           {
            "marker": {
             "colorbar": {
              "outlinewidth": 0,
              "ticks": ""
             }
            },
            "type": "scattergeo"
           }
          ],
          "scattergl": [
           {
            "marker": {
             "colorbar": {
              "outlinewidth": 0,
              "ticks": ""
             }
            },
            "type": "scattergl"
           }
          ],
          "scattermapbox": [
           {
            "marker": {
             "colorbar": {
              "outlinewidth": 0,
              "ticks": ""
             }
            },
            "type": "scattermapbox"
           }
          ],
          "scatterpolar": [
           {
            "marker": {
             "colorbar": {
              "outlinewidth": 0,
              "ticks": ""
             }
            },
            "type": "scatterpolar"
           }
          ],
          "scatterpolargl": [
           {
            "marker": {
             "colorbar": {
              "outlinewidth": 0,
              "ticks": ""
             }
            },
            "type": "scatterpolargl"
           }
          ],
          "scatterternary": [
           {
            "marker": {
             "colorbar": {
              "outlinewidth": 0,
              "ticks": ""
             }
            },
            "type": "scatterternary"
           }
          ],
          "surface": [
           {
            "colorbar": {
             "outlinewidth": 0,
             "ticks": ""
            },
            "colorscale": [
             [
              0,
              "#0d0887"
             ],
             [
              0.1111111111111111,
              "#46039f"
             ],
             [
              0.2222222222222222,
              "#7201a8"
             ],
             [
              0.3333333333333333,
              "#9c179e"
             ],
             [
              0.4444444444444444,
              "#bd3786"
             ],
             [
              0.5555555555555556,
              "#d8576b"
             ],
             [
              0.6666666666666666,
              "#ed7953"
             ],
             [
              0.7777777777777778,
              "#fb9f3a"
             ],
             [
              0.8888888888888888,
              "#fdca26"
             ],
             [
              1,
              "#f0f921"
             ]
            ],
            "type": "surface"
           }
          ],
          "table": [
           {
            "cells": {
             "fill": {
              "color": "#EBF0F8"
             },
             "line": {
              "color": "white"
             }
            },
            "header": {
             "fill": {
              "color": "#C8D4E3"
             },
             "line": {
              "color": "white"
             }
            },
            "type": "table"
           }
          ]
         },
         "layout": {
          "annotationdefaults": {
           "arrowcolor": "#2a3f5f",
           "arrowhead": 0,
           "arrowwidth": 1
          },
          "autotypenumbers": "strict",
          "coloraxis": {
           "colorbar": {
            "outlinewidth": 0,
            "ticks": ""
           }
          },
          "colorscale": {
           "diverging": [
            [
             0,
             "#8e0152"
            ],
            [
             0.1,
             "#c51b7d"
            ],
            [
             0.2,
             "#de77ae"
            ],
            [
             0.3,
             "#f1b6da"
            ],
            [
             0.4,
             "#fde0ef"
            ],
            [
             0.5,
             "#f7f7f7"
            ],
            [
             0.6,
             "#e6f5d0"
            ],
            [
             0.7,
             "#b8e186"
            ],
            [
             0.8,
             "#7fbc41"
            ],
            [
             0.9,
             "#4d9221"
            ],
            [
             1,
             "#276419"
            ]
           ],
           "sequential": [
            [
             0,
             "#0d0887"
            ],
            [
             0.1111111111111111,
             "#46039f"
            ],
            [
             0.2222222222222222,
             "#7201a8"
            ],
            [
             0.3333333333333333,
             "#9c179e"
            ],
            [
             0.4444444444444444,
             "#bd3786"
            ],
            [
             0.5555555555555556,
             "#d8576b"
            ],
            [
             0.6666666666666666,
             "#ed7953"
            ],
            [
             0.7777777777777778,
             "#fb9f3a"
            ],
            [
             0.8888888888888888,
             "#fdca26"
            ],
            [
             1,
             "#f0f921"
            ]
           ],
           "sequentialminus": [
            [
             0,
             "#0d0887"
            ],
            [
             0.1111111111111111,
             "#46039f"
            ],
            [
             0.2222222222222222,
             "#7201a8"
            ],
            [
             0.3333333333333333,
             "#9c179e"
            ],
            [
             0.4444444444444444,
             "#bd3786"
            ],
            [
             0.5555555555555556,
             "#d8576b"
            ],
            [
             0.6666666666666666,
             "#ed7953"
            ],
            [
             0.7777777777777778,
             "#fb9f3a"
            ],
            [
             0.8888888888888888,
             "#fdca26"
            ],
            [
             1,
             "#f0f921"
            ]
           ]
          },
          "colorway": [
           "#636efa",
           "#EF553B",
           "#00cc96",
           "#ab63fa",
           "#FFA15A",
           "#19d3f3",
           "#FF6692",
           "#B6E880",
           "#FF97FF",
           "#FECB52"
          ],
          "font": {
           "color": "#2a3f5f"
          },
          "geo": {
           "bgcolor": "white",
           "lakecolor": "white",
           "landcolor": "#E5ECF6",
           "showlakes": true,
           "showland": true,
           "subunitcolor": "white"
          },
          "hoverlabel": {
           "align": "left"
          },
          "hovermode": "closest",
          "mapbox": {
           "style": "light"
          },
          "paper_bgcolor": "white",
          "plot_bgcolor": "#E5ECF6",
          "polar": {
           "angularaxis": {
            "gridcolor": "white",
            "linecolor": "white",
            "ticks": ""
           },
           "bgcolor": "#E5ECF6",
           "radialaxis": {
            "gridcolor": "white",
            "linecolor": "white",
            "ticks": ""
           }
          },
          "scene": {
           "xaxis": {
            "backgroundcolor": "#E5ECF6",
            "gridcolor": "white",
            "gridwidth": 2,
            "linecolor": "white",
            "showbackground": true,
            "ticks": "",
            "zerolinecolor": "white"
           },
           "yaxis": {
            "backgroundcolor": "#E5ECF6",
            "gridcolor": "white",
            "gridwidth": 2,
            "linecolor": "white",
            "showbackground": true,
            "ticks": "",
            "zerolinecolor": "white"
           },
           "zaxis": {
            "backgroundcolor": "#E5ECF6",
            "gridcolor": "white",
            "gridwidth": 2,
            "linecolor": "white",
            "showbackground": true,
            "ticks": "",
            "zerolinecolor": "white"
           }
          },
          "shapedefaults": {
           "line": {
            "color": "#2a3f5f"
           }
          },
          "ternary": {
           "aaxis": {
            "gridcolor": "white",
            "linecolor": "white",
            "ticks": ""
           },
           "baxis": {
            "gridcolor": "white",
            "linecolor": "white",
            "ticks": ""
           },
           "bgcolor": "#E5ECF6",
           "caxis": {
            "gridcolor": "white",
            "linecolor": "white",
            "ticks": ""
           }
          },
          "title": {
           "x": 0.05
          },
          "xaxis": {
           "automargin": true,
           "gridcolor": "white",
           "linecolor": "white",
           "ticks": "",
           "title": {
            "standoff": 15
           },
           "zerolinecolor": "white",
           "zerolinewidth": 2
          },
          "yaxis": {
           "automargin": true,
           "gridcolor": "white",
           "linecolor": "white",
           "ticks": "",
           "title": {
            "standoff": 15
           },
           "zerolinecolor": "white",
           "zerolinewidth": 2
          }
         }
        },
        "title": {
         "text": "Visualization of 3 first principal components"
        },
        "xaxis": {
         "range": [
          -2,
          2
         ]
        }
       }
      },
      "text/html": [
       "<div>                            <div id=\"fb0b48e9-38af-484d-aa47-7c57c5809a5d\" class=\"plotly-graph-div\" style=\"height:525px; width:100%;\"></div>            <script type=\"text/javascript\">                require([\"plotly\"], function(Plotly) {                    window.PLOTLYENV=window.PLOTLYENV || {};                                    if (document.getElementById(\"fb0b48e9-38af-484d-aa47-7c57c5809a5d\")) {                    Plotly.newPlot(                        \"fb0b48e9-38af-484d-aa47-7c57c5809a5d\",                        [{\"marker\":{\"color\":[0,1,0,2,1,1,1,1,1,1,0,1,0,1,0,1,0,1,0,1,0,0,0,0,1,0,0,0,0,0,1,0,0,0,1,1,0,3,0,1,1,0,1,0,0,1,1,1,3,1,1,0,1,0,0,1,1,0,3,1,1,1,0,2,0,1,0,1,0,0,1,0,0,1,0,0,2,2,0,1,0,2,2,1,1,0,1,0,0,1,0,1,0,0,0,1,0,1,0,0,1,0,1,0,3,1,0,1,0,1,1,0,0,1,0,0,0,1,0,1,0,1,1,0,0,1,1,0,0,2,1,0,1,1,1,0,0,1,0,0,1,1,1,0,0,2,1,0,0,0,1,0,1,0,1,1,1,0,1,0,0,0,1,0,0,0,1,0,1,1,0,1,1,1,0,0,1,0,1,0,0,3,1,0,1,0,0,0,0,0,0,1,1,0,0,0,1,0,0,0,1,1,0,2,1,0,1,0,1,1,1,1],\"size\":4},\"mode\":\"markers\",\"x\":[-0.1326170747781832,0.9104064179791382,-0.7992622118248734,0.2821053655119194,0.38243700593026075,0.6961753739113954,0.43358406960407386,1.2590302872090153,0.9270048502026708,1.070226736531372,-0.491181783585681,1.0857736878551711,-0.7905993253719584,0.1947938824296666,-0.5547677072487567,0.9312032405011418,-0.5964172488616017,0.6922148441502366,-0.7856921776955125,1.245201078080557,-0.750029492260041,-0.7356136928333274,-1.0119262527700637,-0.8643179763289774,1.034078304753667,0.13647964045718547,-0.46145941804297724,-0.6320373670524372,-0.7879946261826429,-0.5199513488458261,1.1458983114787276,-0.43984261406799546,-0.044582267602576456,-1.0404288550660004,0.1776870133133661,1.131560022351513,-0.7570799367699971,-0.3403688131154544,-1.0982242208362045,-0.022150289436328578,0.8349574148423745,-0.689366726142756,0.37744874198173844,-0.1793442553608136,-0.2467253532996934,0.5913951632246336,-0.027998243959162287,0.8944954092907518,-0.4553002575768276,0.6318840188922592,0.47452597800576074,-0.26874281229947417,1.1373483313729378,-0.5679403126448258,-0.9197016420245464,0.889161877112007,0.8586263766338542,-0.10634875833641788,-0.6361812123688951,0.8953165481157663,0.3321134144767657,1.0731072630401708,0.05062057954571697,0.18597323409128566,-0.5137359152902853,0.38352928487932486,-0.6548017670270675,0.8333022951552063,-0.5808687044301597,-0.8346991634971331,1.132407923202744,-0.9661851948787963,-0.674709006919274,0.23057732412821497,-0.7775317067300436,-0.026988379548851128,0.11486503045779563,0.20482778148142505,-0.7288079278596592,1.0610083923388585,-0.3940554914226894,0.16533774475824167,0.2164691448942867,0.6367774963863599,0.5972908438159151,-0.9104651677791924,-0.00044638856846964867,-0.7800213382020726,-1.1222675787651484,1.0057966217566157,-1.051400511005265,0.6167944332919945,-0.14309364368060024,-0.777570568089135,0.021191994347382132,0.5646870037584963,-0.11584853696631725,0.3308059644210891,-0.6101516446733722,-0.7668610183989385,0.9468057739126213,-0.6313119083373221,1.0987164064928676,-0.12270750800984279,-0.39201347126802105,0.8489494161424613,-0.03917165784989493,1.0434809764625872,-0.4557025719047398,0.4371160239205253,0.19044521182267962,-0.9780087204309549,-0.3001107450770103,0.6162828387622932,-0.6005504995416189,-0.23800517859075937,-0.8257041107200643,0.6355333692265339,-0.8992320001634739,0.43312905680169556,-0.6190649196801166,0.799913905243967,1.1021640409516709,-0.47173667857316465,-0.7057371984724491,1.0983416046432097,0.5725355031544783,-0.9561619476128992,-0.6511739415136188,0.36670797873874356,0.21211356066112907,-0.6886162151520241,0.702758029243546,0.42804081610383204,1.0687434972060332,-0.42705066721101964,-0.8992224481384198,1.032672324145004,-0.4937087752629421,-0.8981360109490618,0.8606805867146016,0.3297437089123817,1.0402852868457615,-0.49394371042777746,-0.21324527314091457,0.4050253139812648,0.5810428589017466,-0.9577933730391857,-0.18834070014162854,-0.8467865453045321,0.6432822005593729,-0.8152148191182184,0.7484569139203119,-1.027050413795453,0.9253576529994282,0.5109705993334611,0.912249967295882,-0.7838683435562532,0.7682281007662999,-0.8712551418769116,-0.8774849043080021,-0.3814343179185158,0.025229347837116403,-0.6039109910086493,-0.6635812887763453,-0.498624129060015,1.1419809094084192,-0.42607227415350624,1.079366092747419,0.9679814695112567,-0.40729298960879395,0.5966570037065542,0.3788629017462637,1.1819784976990453,-0.8738044450351813,-0.7057466336824919,0.20539255385886446,-0.8759043782356086,0.6117129955093082,-0.9894413905091308,-0.4677545527672432,-0.25761980115909366,0.743098160616207,-0.9025888090379335,0.6278544567992106,-0.40294706979942063,-0.5576439933031329,-0.008261607014732657,-0.7705600864485789,-0.433500550148911,-0.7555534701917151,1.1693482459855646,0.8328042240260315,-0.40567644778251183,-0.7108825006493155,-0.6913694561909455,0.9730919355714179,-0.8087296453918038,-1.0407132069742449,-0.5152409248415369,0.33829887304153844,0.333900298070818,-0.7541407467530438,0.1465427807105485,0.5205174724755345,-0.9114385277049045,0.40864855759213214,-0.4653644427019131,0.24873636235014557,0.645060309982118,1.0069045389377844,0.21636773034007672],\"y\":[0.4267866955992044,-0.6377862634891731,-0.2823555637650215,-0.5221996717232795,0.6771699621875372,0.38600812000925133,0.752211361738495,0.29715217151784523,0.059794959152500264,0.17490524239952215,-0.7232242726614866,0.7299065973126765,-0.32956825337241,-0.1153145910431175,0.5419741669170974,-0.6366613974594243,-0.19887715273447643,-0.6981173040780813,-0.27124831545309774,0.21718241969551844,0.9439618707089596,-0.8750045789375478,0.11759595573325599,-0.3792863722341259,0.11265902754368655,0.4992952775370847,0.01131373461214245,0.5067875247714639,0.9209550859252157,-0.7000040271581754,0.16452484469488396,0.005843347427800052,-0.27828644406856695,0.1270210815764252,-0.6602780843460466,0.15158703697206463,-0.19719793825078022,-0.4894506922646527,0.043268752217886855,-0.17918392371599803,-0.6222801954267911,-0.809849131388344,0.7722549119682507,-0.9433849711883809,0.273375194834665,-0.22028602953898332,-0.22515764204500274,-0.635138650806511,-0.5189550310502028,-0.7540857315667814,0.2683778353802937,0.2720993271850784,0.15904763448880122,-0.769860643936355,-0.3510615407681436,0.5958700756554344,0.09057718540568985,0.3186076765534756,-0.07972135318190694,-0.6774425188528139,0.1503867857630422,0.058592692300931205,0.5468099188376025,-0.5949845192223849,0.5639949873201923,0.24430940505436508,-0.7791598618716149,0.05981183807803222,1.001307761734197,0.8917923134860971,0.19262775726837209,0.18363210361079055,0.4852560993665096,-0.04146075249715935,-0.25053366386131115,0.4538283451785484,-0.6086116147283682,-0.5665075952606166,-0.7819832204884916,0.14562110780133225,-0.5165306347252305,-0.6269248618377953,-0.5828068008120381,-0.748431154426837,-0.16966186181751652,-0.46244436094336827,-0.7214721453197562,0.9187841431204687,0.00687166592101278,-0.5756885659985049,0.14125592936326167,0.3716834940854978,0.40635935655233174,-0.33046081871922905,0.4803655170517651,0.31260109995316904,0.39882601681760693,0.1815781982762015,0.5056169567377475,0.9842068180595329,0.07809037544883736,-0.7979965676662268,0.08513996138916834,0.8330879971606793,-0.38515863877908596,-0.6534138586321305,0.3100996680974653,0.10584834949455205,0.5218460992075726,-0.4163710196109587,0.5983000758390515,0.1290466559368641,0.06940191317472263,-0.26805694374879574,0.3823340820036276,-0.442779257701551,-0.22313043196774032,-0.22916636132030616,0.1429164427671297,0.20835799837852734,-0.7741192591616476,-0.7401762183330436,0.13773503547060822,0.49405155444212767,-0.8384839198867208,0.11629319835332079,0.3182641460654486,0.18777593287425168,-0.17532597550605306,-0.5316792312921126,0.675004671287499,-0.8455185466738513,-0.7044712153190694,0.7468800494632284,-0.5779782547459097,0.041230957601176316,-0.45426849495184884,0.17871559277515844,0.541344801071833,-0.3409098378227685,0.5884502468472048,0.6946130974005645,0.11942431167692014,0.5356665682084337,-0.31181747343918503,-0.47998337289637494,-0.2869627959318194,0.12962447070178768,0.34619004375091894,-0.22430439064152197,0.32823746401143683,0.93711749712742,-0.6654408628908911,0.17481765960797382,0.6381417854020307,-0.2330774255115853,0.12661947391143813,-0.2146731433716957,0.5065293457038708,-0.33586656653108865,-0.32650966028324196,0.6999877737839127,-0.17331584307133416,-0.1992351561500657,-0.7892479865411133,-0.030837622977724716,0.22530528544351153,0.6433727694997631,0.07905888858083458,0.13264790207011085,-0.4906037719135416,0.8017771165613441,0.19875499155044032,0.15408935605934068,-0.3958071556223356,-0.8220340985175111,0.6304823063851172,-0.3021545053458043,-0.25677798542978136,0.11382413410129966,0.613356233031796,-0.4248918944141237,-0.7070904330369515,-0.4667451565933822,0.33343016646625306,0.6353208074903306,0.46674934385134126,-0.8268177621450811,-0.40307600371902946,0.6231779657830486,1.0469665608912762,0.16613924204608246,-0.6451911822574838,0.7789383465870708,-0.8219857883723162,1.0259362139791046,-0.6092584485864576,0.23107511292827743,0.11922732031386976,0.5602989290990584,0.6455220417994648,0.18109077830244374,0.9106366146984007,-0.6118687526228405,0.8190558109643646,-0.35493849393729776,0.1713916712649838,0.06539049481419448,-0.46021020526124834,-0.7500131231373264,0.09833188995172029,0.6559028328934534],\"z\":[0.4339624033283746,0.18163328227437828,0.6492450105442146,-0.0967069789884189,-0.6912014797454494,-0.013024787543917064,-0.5940841929404149,0.34796689277254256,0.016764711195618894,0.143326715152446,-0.18021099957271294,-0.0283274530944689,-0.9294882690176518,-0.6320558897740809,0.6418012710152827,0.24761877897987603,0.8175214287265192,0.23774066794150642,0.6157742301990862,0.2911521779539183,0.053159003769508245,-0.37493903768303966,-0.036074856877217294,-0.9503278221099741,0.13418201643582162,0.49662054243834713,-0.3900359995894903,0.5538632404918562,-0.03342540787861865,-0.21803191763907553,0.2328960531063203,-0.3623443040624546,1.0318334568146184,-0.014115370817963489,0.5656040671290272,0.19895340054682126,0.8987521896587723,0.234674050123247,-0.05934233184258792,-0.8114120499535359,0.12741423316203296,-0.39454347783758653,-0.6886438166765905,-0.1358313817975527,0.1817078113743548,-0.4721540412813455,-0.7496438610328523,0.1929486494411759,0.15909131648925942,0.005911544008590896,-0.1308452494491953,0.15075025028800712,0.21846344257709235,-0.26884694089445405,0.5183887154985404,-0.43937661708741443,0.1804670648268022,0.28432547677213804,-0.42862934169853817,0.21035220977574928,-0.23679849405609416,0.19123066086667798,1.1435104030659118,-0.17736782750346697,0.6583297332839771,-0.23794309774454264,-0.37099407721544364,-0.006503165023532267,0.1332684797754968,-0.06824365526261832,0.22777672097623805,-0.02669018708614285,0.547977348625926,-0.6331041349556353,0.5878309659986913,1.0665166160093749,-0.223399363388326,-0.14664800855737475,-0.19610797382021172,0.11065252749461861,0.7452488173219952,-0.2185973915464975,-0.18372426731845182,-0.0063189022119139225,-0.2495243090419364,-0.956604971828254,0.39854021182583593,-0.018216770488109504,-0.08002619212666047,0.33103955618139397,-0.0778362760187231,0.16131300078555552,0.2280766094982585,-0.8881534286206307,0.5828090041404281,-0.0697733976345503,0.2633837261247771,-0.24927984286510246,-0.7874338685087209,0.13649034359932413,0.0372836753293461,-0.3204353704839722,0.21885519052751354,0.42590355040850064,0.42207112751339854,0.16420963222178672,-0.7176489217858552,0.12318765625546278,-0.8176792306847563,0.23207226735804398,-0.832075255709629,0.04412852501951365,-0.15623772135079536,-0.4536085462217135,-0.8980670395148154,0.8928838499503077,0.5419905530029288,-0.4268977535534232,0.10073774874272814,-0.1868572299473339,-0.3544933424043902,0.16159727791892087,0.20439317788600533,-0.8118112329964181,-0.3815286348953958,0.21867821381569527,-0.06521687251250777,0.016044521573096843,0.9262762186592345,-0.050878959491687734,-0.8320265106081869,-0.38624367000678084,0.06238430647045708,-0.6397888327547573,0.3830099829445015,-0.34548728525595557,-0.9841564923394778,0.1420863796596231,0.7013451018831209,0.5356309392235845,-0.4563081605123775,-0.7099905447409769,0.15919639682459508,0.7224906105643415,1.1049539356111278,-0.06550771120361094,-0.49417933431474215,0.040843132505771595,0.14822968443151704,0.7909088591480481,0.01196602527124873,-0.04198321533354692,0.31307438762125905,-0.03519302981867219,-0.15790245805967812,-0.5721969280561836,-0.005860931395298057,0.82737081751136,-0.5037848211539142,0.5313946878733955,0.5543765781988033,0.14799062581139258,-0.8032562771273283,0.8521245795567117,-0.39937892606037145,-0.3782506848442401,0.19695526110869052,0.9612034859993211,0.21085876139990611,0.08127695108130109,0.7771135555149981,-0.41392707301351783,-0.24392363227941666,0.2918486152385574,-0.986848942078607,-0.39194937138801034,-0.8046497853660024,0.5540065354716331,-0.47797830827187965,0.03785227508378714,0.7038479645796412,0.3259332395218562,0.07168494489402696,-0.9831643288110485,-0.009313084857350471,0.7437044953746343,-0.882863965945218,-0.021111511112879802,-0.8731670053511403,0.7302662329869982,0.16191497296587107,0.23635601908057183,0.11277253361297819,-0.24772862102452706,-0.2058514458860952,0.0527817835800823,0.27816161689759306,0.13333748607022675,-0.0813385703618633,0.645923065128819,-0.7184086927772165,-0.23487097673239976,-0.01834659194814961,-0.2343324722245633,-0.548972813969071,0.556473700713859,0.5003053259326067,-0.3577209257905697,0.04517897419565388,0.0221892485429542,0.11893006919486565,-0.825074837813234],\"type\":\"scatter3d\"}],                        {\"template\":{\"data\":{\"histogram2dcontour\":[{\"type\":\"histogram2dcontour\",\"colorbar\":{\"outlinewidth\":0,\"ticks\":\"\"},\"colorscale\":[[0.0,\"#0d0887\"],[0.1111111111111111,\"#46039f\"],[0.2222222222222222,\"#7201a8\"],[0.3333333333333333,\"#9c179e\"],[0.4444444444444444,\"#bd3786\"],[0.5555555555555556,\"#d8576b\"],[0.6666666666666666,\"#ed7953\"],[0.7777777777777778,\"#fb9f3a\"],[0.8888888888888888,\"#fdca26\"],[1.0,\"#f0f921\"]]}],\"choropleth\":[{\"type\":\"choropleth\",\"colorbar\":{\"outlinewidth\":0,\"ticks\":\"\"}}],\"histogram2d\":[{\"type\":\"histogram2d\",\"colorbar\":{\"outlinewidth\":0,\"ticks\":\"\"},\"colorscale\":[[0.0,\"#0d0887\"],[0.1111111111111111,\"#46039f\"],[0.2222222222222222,\"#7201a8\"],[0.3333333333333333,\"#9c179e\"],[0.4444444444444444,\"#bd3786\"],[0.5555555555555556,\"#d8576b\"],[0.6666666666666666,\"#ed7953\"],[0.7777777777777778,\"#fb9f3a\"],[0.8888888888888888,\"#fdca26\"],[1.0,\"#f0f921\"]]}],\"heatmap\":[{\"type\":\"heatmap\",\"colorbar\":{\"outlinewidth\":0,\"ticks\":\"\"},\"colorscale\":[[0.0,\"#0d0887\"],[0.1111111111111111,\"#46039f\"],[0.2222222222222222,\"#7201a8\"],[0.3333333333333333,\"#9c179e\"],[0.4444444444444444,\"#bd3786\"],[0.5555555555555556,\"#d8576b\"],[0.6666666666666666,\"#ed7953\"],[0.7777777777777778,\"#fb9f3a\"],[0.8888888888888888,\"#fdca26\"],[1.0,\"#f0f921\"]]}],\"heatmapgl\":[{\"type\":\"heatmapgl\",\"colorbar\":{\"outlinewidth\":0,\"ticks\":\"\"},\"colorscale\":[[0.0,\"#0d0887\"],[0.1111111111111111,\"#46039f\"],[0.2222222222222222,\"#7201a8\"],[0.3333333333333333,\"#9c179e\"],[0.4444444444444444,\"#bd3786\"],[0.5555555555555556,\"#d8576b\"],[0.6666666666666666,\"#ed7953\"],[0.7777777777777778,\"#fb9f3a\"],[0.8888888888888888,\"#fdca26\"],[1.0,\"#f0f921\"]]}],\"contourcarpet\":[{\"type\":\"contourcarpet\",\"colorbar\":{\"outlinewidth\":0,\"ticks\":\"\"}}],\"contour\":[{\"type\":\"contour\",\"colorbar\":{\"outlinewidth\":0,\"ticks\":\"\"},\"colorscale\":[[0.0,\"#0d0887\"],[0.1111111111111111,\"#46039f\"],[0.2222222222222222,\"#7201a8\"],[0.3333333333333333,\"#9c179e\"],[0.4444444444444444,\"#bd3786\"],[0.5555555555555556,\"#d8576b\"],[0.6666666666666666,\"#ed7953\"],[0.7777777777777778,\"#fb9f3a\"],[0.8888888888888888,\"#fdca26\"],[1.0,\"#f0f921\"]]}],\"surface\":[{\"type\":\"surface\",\"colorbar\":{\"outlinewidth\":0,\"ticks\":\"\"},\"colorscale\":[[0.0,\"#0d0887\"],[0.1111111111111111,\"#46039f\"],[0.2222222222222222,\"#7201a8\"],[0.3333333333333333,\"#9c179e\"],[0.4444444444444444,\"#bd3786\"],[0.5555555555555556,\"#d8576b\"],[0.6666666666666666,\"#ed7953\"],[0.7777777777777778,\"#fb9f3a\"],[0.8888888888888888,\"#fdca26\"],[1.0,\"#f0f921\"]]}],\"mesh3d\":[{\"type\":\"mesh3d\",\"colorbar\":{\"outlinewidth\":0,\"ticks\":\"\"}}],\"scatter\":[{\"fillpattern\":{\"fillmode\":\"overlay\",\"size\":10,\"solidity\":0.2},\"type\":\"scatter\"}],\"parcoords\":[{\"type\":\"parcoords\",\"line\":{\"colorbar\":{\"outlinewidth\":0,\"ticks\":\"\"}}}],\"scatterpolargl\":[{\"type\":\"scatterpolargl\",\"marker\":{\"colorbar\":{\"outlinewidth\":0,\"ticks\":\"\"}}}],\"bar\":[{\"error_x\":{\"color\":\"#2a3f5f\"},\"error_y\":{\"color\":\"#2a3f5f\"},\"marker\":{\"line\":{\"color\":\"#E5ECF6\",\"width\":0.5},\"pattern\":{\"fillmode\":\"overlay\",\"size\":10,\"solidity\":0.2}},\"type\":\"bar\"}],\"scattergeo\":[{\"type\":\"scattergeo\",\"marker\":{\"colorbar\":{\"outlinewidth\":0,\"ticks\":\"\"}}}],\"scatterpolar\":[{\"type\":\"scatterpolar\",\"marker\":{\"colorbar\":{\"outlinewidth\":0,\"ticks\":\"\"}}}],\"histogram\":[{\"marker\":{\"pattern\":{\"fillmode\":\"overlay\",\"size\":10,\"solidity\":0.2}},\"type\":\"histogram\"}],\"scattergl\":[{\"type\":\"scattergl\",\"marker\":{\"colorbar\":{\"outlinewidth\":0,\"ticks\":\"\"}}}],\"scatter3d\":[{\"type\":\"scatter3d\",\"line\":{\"colorbar\":{\"outlinewidth\":0,\"ticks\":\"\"}},\"marker\":{\"colorbar\":{\"outlinewidth\":0,\"ticks\":\"\"}}}],\"scattermapbox\":[{\"type\":\"scattermapbox\",\"marker\":{\"colorbar\":{\"outlinewidth\":0,\"ticks\":\"\"}}}],\"scatterternary\":[{\"type\":\"scatterternary\",\"marker\":{\"colorbar\":{\"outlinewidth\":0,\"ticks\":\"\"}}}],\"scattercarpet\":[{\"type\":\"scattercarpet\",\"marker\":{\"colorbar\":{\"outlinewidth\":0,\"ticks\":\"\"}}}],\"carpet\":[{\"aaxis\":{\"endlinecolor\":\"#2a3f5f\",\"gridcolor\":\"white\",\"linecolor\":\"white\",\"minorgridcolor\":\"white\",\"startlinecolor\":\"#2a3f5f\"},\"baxis\":{\"endlinecolor\":\"#2a3f5f\",\"gridcolor\":\"white\",\"linecolor\":\"white\",\"minorgridcolor\":\"white\",\"startlinecolor\":\"#2a3f5f\"},\"type\":\"carpet\"}],\"table\":[{\"cells\":{\"fill\":{\"color\":\"#EBF0F8\"},\"line\":{\"color\":\"white\"}},\"header\":{\"fill\":{\"color\":\"#C8D4E3\"},\"line\":{\"color\":\"white\"}},\"type\":\"table\"}],\"barpolar\":[{\"marker\":{\"line\":{\"color\":\"#E5ECF6\",\"width\":0.5},\"pattern\":{\"fillmode\":\"overlay\",\"size\":10,\"solidity\":0.2}},\"type\":\"barpolar\"}],\"pie\":[{\"automargin\":true,\"type\":\"pie\"}]},\"layout\":{\"autotypenumbers\":\"strict\",\"colorway\":[\"#636efa\",\"#EF553B\",\"#00cc96\",\"#ab63fa\",\"#FFA15A\",\"#19d3f3\",\"#FF6692\",\"#B6E880\",\"#FF97FF\",\"#FECB52\"],\"font\":{\"color\":\"#2a3f5f\"},\"hovermode\":\"closest\",\"hoverlabel\":{\"align\":\"left\"},\"paper_bgcolor\":\"white\",\"plot_bgcolor\":\"#E5ECF6\",\"polar\":{\"bgcolor\":\"#E5ECF6\",\"angularaxis\":{\"gridcolor\":\"white\",\"linecolor\":\"white\",\"ticks\":\"\"},\"radialaxis\":{\"gridcolor\":\"white\",\"linecolor\":\"white\",\"ticks\":\"\"}},\"ternary\":{\"bgcolor\":\"#E5ECF6\",\"aaxis\":{\"gridcolor\":\"white\",\"linecolor\":\"white\",\"ticks\":\"\"},\"baxis\":{\"gridcolor\":\"white\",\"linecolor\":\"white\",\"ticks\":\"\"},\"caxis\":{\"gridcolor\":\"white\",\"linecolor\":\"white\",\"ticks\":\"\"}},\"coloraxis\":{\"colorbar\":{\"outlinewidth\":0,\"ticks\":\"\"}},\"colorscale\":{\"sequential\":[[0.0,\"#0d0887\"],[0.1111111111111111,\"#46039f\"],[0.2222222222222222,\"#7201a8\"],[0.3333333333333333,\"#9c179e\"],[0.4444444444444444,\"#bd3786\"],[0.5555555555555556,\"#d8576b\"],[0.6666666666666666,\"#ed7953\"],[0.7777777777777778,\"#fb9f3a\"],[0.8888888888888888,\"#fdca26\"],[1.0,\"#f0f921\"]],\"sequentialminus\":[[0.0,\"#0d0887\"],[0.1111111111111111,\"#46039f\"],[0.2222222222222222,\"#7201a8\"],[0.3333333333333333,\"#9c179e\"],[0.4444444444444444,\"#bd3786\"],[0.5555555555555556,\"#d8576b\"],[0.6666666666666666,\"#ed7953\"],[0.7777777777777778,\"#fb9f3a\"],[0.8888888888888888,\"#fdca26\"],[1.0,\"#f0f921\"]],\"diverging\":[[0,\"#8e0152\"],[0.1,\"#c51b7d\"],[0.2,\"#de77ae\"],[0.3,\"#f1b6da\"],[0.4,\"#fde0ef\"],[0.5,\"#f7f7f7\"],[0.6,\"#e6f5d0\"],[0.7,\"#b8e186\"],[0.8,\"#7fbc41\"],[0.9,\"#4d9221\"],[1,\"#276419\"]]},\"xaxis\":{\"gridcolor\":\"white\",\"linecolor\":\"white\",\"ticks\":\"\",\"title\":{\"standoff\":15},\"zerolinecolor\":\"white\",\"automargin\":true,\"zerolinewidth\":2},\"yaxis\":{\"gridcolor\":\"white\",\"linecolor\":\"white\",\"ticks\":\"\",\"title\":{\"standoff\":15},\"zerolinecolor\":\"white\",\"automargin\":true,\"zerolinewidth\":2},\"scene\":{\"xaxis\":{\"backgroundcolor\":\"#E5ECF6\",\"gridcolor\":\"white\",\"linecolor\":\"white\",\"showbackground\":true,\"ticks\":\"\",\"zerolinecolor\":\"white\",\"gridwidth\":2},\"yaxis\":{\"backgroundcolor\":\"#E5ECF6\",\"gridcolor\":\"white\",\"linecolor\":\"white\",\"showbackground\":true,\"ticks\":\"\",\"zerolinecolor\":\"white\",\"gridwidth\":2},\"zaxis\":{\"backgroundcolor\":\"#E5ECF6\",\"gridcolor\":\"white\",\"linecolor\":\"white\",\"showbackground\":true,\"ticks\":\"\",\"zerolinecolor\":\"white\",\"gridwidth\":2}},\"shapedefaults\":{\"line\":{\"color\":\"#2a3f5f\"}},\"annotationdefaults\":{\"arrowcolor\":\"#2a3f5f\",\"arrowhead\":0,\"arrowwidth\":1},\"geo\":{\"bgcolor\":\"white\",\"landcolor\":\"#E5ECF6\",\"subunitcolor\":\"white\",\"showland\":true,\"showlakes\":true,\"lakecolor\":\"white\"},\"title\":{\"x\":0.05},\"mapbox\":{\"style\":\"light\"}}},\"title\":{\"text\":\"Visualization of 3 first principal components\"},\"scene\":{\"xaxis\":{\"title\":{\"text\":\"PC1\"}},\"yaxis\":{\"title\":{\"text\":\"PC2\"}},\"zaxis\":{\"title\":{\"text\":\"PC3\"}}},\"xaxis\":{\"range\":[-2,2]}},                        {\"responsive\": true}                    ).then(function(){\n",
       "                            \n",
       "var gd = document.getElementById('fb0b48e9-38af-484d-aa47-7c57c5809a5d');\n",
       "var x = new MutationObserver(function (mutations, observer) {{\n",
       "        var display = window.getComputedStyle(gd).display;\n",
       "        if (!display || display === 'none') {{\n",
       "            console.log([gd, 'removed!']);\n",
       "            Plotly.purge(gd);\n",
       "            observer.disconnect();\n",
       "        }}\n",
       "}});\n",
       "\n",
       "// Listen for the removal of the full notebook cells\n",
       "var notebookContainer = gd.closest('#notebook-container');\n",
       "if (notebookContainer) {{\n",
       "    x.observe(notebookContainer, {childList: true});\n",
       "}}\n",
       "\n",
       "// Listen for the clearing of the current output cell\n",
       "var outputEl = gd.closest('.output');\n",
       "if (outputEl) {{\n",
       "    x.observe(outputEl, {childList: true});\n",
       "}}\n",
       "\n",
       "                        })                };                });            </script>        </div>"
      ]
     },
     "metadata": {},
     "output_type": "display_data"
    },
    {
     "data": {
      "application/vnd.plotly.v1+json": {
       "config": {
        "plotlyServerURL": "https://plot.ly"
       },
       "data": [
        {
         "marker": {
          "color": [
           0,
           1,
           0,
           2,
           1,
           1,
           1,
           1,
           1,
           1,
           0,
           1,
           0,
           1,
           0,
           1,
           0,
           1,
           0,
           1,
           0,
           0,
           0,
           0,
           1,
           0,
           0,
           0,
           0,
           0,
           1,
           0,
           0,
           0,
           1,
           1,
           0,
           3,
           0,
           1,
           1,
           0,
           1,
           0,
           0,
           1,
           1,
           1,
           3,
           1,
           1,
           0,
           1,
           0,
           0,
           1,
           1,
           0,
           3,
           1,
           1,
           1,
           0,
           2,
           0,
           1,
           0,
           1,
           0,
           0,
           1,
           0,
           0,
           1,
           0,
           0,
           2,
           2,
           0,
           1,
           0,
           2,
           2,
           1,
           1,
           0,
           1,
           0,
           0,
           1,
           0,
           1,
           0,
           0,
           0,
           1,
           0,
           1,
           0,
           0,
           1,
           0,
           1,
           0,
           3,
           1,
           0,
           1,
           0,
           1,
           1,
           0,
           0,
           1,
           0,
           0,
           0,
           1,
           0,
           1,
           0,
           1,
           1,
           0,
           0,
           1,
           1,
           0,
           0,
           2,
           1,
           0,
           1,
           1,
           1,
           0,
           0,
           1,
           0,
           0,
           1,
           1,
           1,
           0,
           0,
           2,
           1,
           0,
           0,
           0,
           1,
           0,
           1,
           0,
           1,
           1,
           1,
           0,
           1,
           0,
           0,
           0,
           1,
           0,
           0,
           0,
           1,
           0,
           1,
           1,
           0,
           1,
           1,
           1,
           0,
           0,
           1,
           0,
           1,
           0,
           0,
           3,
           1,
           0,
           1,
           0,
           0,
           0,
           0,
           0,
           0,
           1,
           1,
           0,
           0,
           0,
           1,
           0,
           0,
           0,
           1,
           1,
           0,
           2,
           1,
           0,
           1,
           0,
           1,
           1,
           1,
           1
          ],
          "size": 4
         },
         "mode": "markers",
         "type": "scatter3d",
         "x": [
          -0.1326170747781832,
          0.9104064179791382,
          -0.7992622118248734,
          0.2821053655119194,
          0.38243700593026075,
          0.6961753739113954,
          0.43358406960407386,
          1.2590302872090153,
          0.9270048502026708,
          1.070226736531372,
          -0.491181783585681,
          1.0857736878551711,
          -0.7905993253719584,
          0.1947938824296666,
          -0.5547677072487567,
          0.9312032405011418,
          -0.5964172488616017,
          0.6922148441502366,
          -0.7856921776955125,
          1.245201078080557,
          -0.750029492260041,
          -0.7356136928333274,
          -1.0119262527700637,
          -0.8643179763289774,
          1.034078304753667,
          0.13647964045718547,
          -0.46145941804297724,
          -0.6320373670524372,
          -0.7879946261826429,
          -0.5199513488458261,
          1.1458983114787276,
          -0.43984261406799546,
          -0.044582267602576456,
          -1.0404288550660004,
          0.1776870133133661,
          1.131560022351513,
          -0.7570799367699971,
          -0.3403688131154544,
          -1.0982242208362045,
          -0.022150289436328578,
          0.8349574148423745,
          -0.689366726142756,
          0.37744874198173844,
          -0.1793442553608136,
          -0.2467253532996934,
          0.5913951632246336,
          -0.027998243959162287,
          0.8944954092907518,
          -0.4553002575768276,
          0.6318840188922592,
          0.47452597800576074,
          -0.26874281229947417,
          1.1373483313729378,
          -0.5679403126448258,
          -0.9197016420245464,
          0.889161877112007,
          0.8586263766338542,
          -0.10634875833641788,
          -0.6361812123688951,
          0.8953165481157663,
          0.3321134144767657,
          1.0731072630401708,
          0.05062057954571697,
          0.18597323409128566,
          -0.5137359152902853,
          0.38352928487932486,
          -0.6548017670270675,
          0.8333022951552063,
          -0.5808687044301597,
          -0.8346991634971331,
          1.132407923202744,
          -0.9661851948787963,
          -0.674709006919274,
          0.23057732412821497,
          -0.7775317067300436,
          -0.026988379548851128,
          0.11486503045779563,
          0.20482778148142505,
          -0.7288079278596592,
          1.0610083923388585,
          -0.3940554914226894,
          0.16533774475824167,
          0.2164691448942867,
          0.6367774963863599,
          0.5972908438159151,
          -0.9104651677791924,
          -0.00044638856846964867,
          -0.7800213382020726,
          -1.1222675787651484,
          1.0057966217566157,
          -1.051400511005265,
          0.6167944332919945,
          -0.14309364368060024,
          -0.777570568089135,
          0.021191994347382132,
          0.5646870037584963,
          -0.11584853696631725,
          0.3308059644210891,
          -0.6101516446733722,
          -0.7668610183989385,
          0.9468057739126213,
          -0.6313119083373221,
          1.0987164064928676,
          -0.12270750800984279,
          -0.39201347126802105,
          0.8489494161424613,
          -0.03917165784989493,
          1.0434809764625872,
          -0.4557025719047398,
          0.4371160239205253,
          0.19044521182267962,
          -0.9780087204309549,
          -0.3001107450770103,
          0.6162828387622932,
          -0.6005504995416189,
          -0.23800517859075937,
          -0.8257041107200643,
          0.6355333692265339,
          -0.8992320001634739,
          0.43312905680169556,
          -0.6190649196801166,
          0.799913905243967,
          1.1021640409516709,
          -0.47173667857316465,
          -0.7057371984724491,
          1.0983416046432097,
          0.5725355031544783,
          -0.9561619476128992,
          -0.6511739415136188,
          0.36670797873874356,
          0.21211356066112907,
          -0.6886162151520241,
          0.702758029243546,
          0.42804081610383204,
          1.0687434972060332,
          -0.42705066721101964,
          -0.8992224481384198,
          1.032672324145004,
          -0.4937087752629421,
          -0.8981360109490618,
          0.8606805867146016,
          0.3297437089123817,
          1.0402852868457615,
          -0.49394371042777746,
          -0.21324527314091457,
          0.4050253139812648,
          0.5810428589017466,
          -0.9577933730391857,
          -0.18834070014162854,
          -0.8467865453045321,
          0.6432822005593729,
          -0.8152148191182184,
          0.7484569139203119,
          -1.027050413795453,
          0.9253576529994282,
          0.5109705993334611,
          0.912249967295882,
          -0.7838683435562532,
          0.7682281007662999,
          -0.8712551418769116,
          -0.8774849043080021,
          -0.3814343179185158,
          0.025229347837116403,
          -0.6039109910086493,
          -0.6635812887763453,
          -0.498624129060015,
          1.1419809094084192,
          -0.42607227415350624,
          1.079366092747419,
          0.9679814695112567,
          -0.40729298960879395,
          0.5966570037065542,
          0.3788629017462637,
          1.1819784976990453,
          -0.8738044450351813,
          -0.7057466336824919,
          0.20539255385886446,
          -0.8759043782356086,
          0.6117129955093082,
          -0.9894413905091308,
          -0.4677545527672432,
          -0.25761980115909366,
          0.743098160616207,
          -0.9025888090379335,
          0.6278544567992106,
          -0.40294706979942063,
          -0.5576439933031329,
          -0.008261607014732657,
          -0.7705600864485789,
          -0.433500550148911,
          -0.7555534701917151,
          1.1693482459855646,
          0.8328042240260315,
          -0.40567644778251183,
          -0.7108825006493155,
          -0.6913694561909455,
          0.9730919355714179,
          -0.8087296453918038,
          -1.0407132069742449,
          -0.5152409248415369,
          0.33829887304153844,
          0.333900298070818,
          -0.7541407467530438,
          0.1465427807105485,
          0.5205174724755345,
          -0.9114385277049045,
          0.40864855759213214,
          -0.4653644427019131,
          0.24873636235014557,
          0.645060309982118,
          1.0069045389377844,
          0.21636773034007672
         ],
         "y": [
          0.4267866955992044,
          -0.6377862634891731,
          -0.2823555637650215,
          -0.5221996717232795,
          0.6771699621875372,
          0.38600812000925133,
          0.752211361738495,
          0.29715217151784523,
          0.059794959152500264,
          0.17490524239952215,
          -0.7232242726614866,
          0.7299065973126765,
          -0.32956825337241,
          -0.1153145910431175,
          0.5419741669170974,
          -0.6366613974594243,
          -0.19887715273447643,
          -0.6981173040780813,
          -0.27124831545309774,
          0.21718241969551844,
          0.9439618707089596,
          -0.8750045789375478,
          0.11759595573325599,
          -0.3792863722341259,
          0.11265902754368655,
          0.4992952775370847,
          0.01131373461214245,
          0.5067875247714639,
          0.9209550859252157,
          -0.7000040271581754,
          0.16452484469488396,
          0.005843347427800052,
          -0.27828644406856695,
          0.1270210815764252,
          -0.6602780843460466,
          0.15158703697206463,
          -0.19719793825078022,
          -0.4894506922646527,
          0.043268752217886855,
          -0.17918392371599803,
          -0.6222801954267911,
          -0.809849131388344,
          0.7722549119682507,
          -0.9433849711883809,
          0.273375194834665,
          -0.22028602953898332,
          -0.22515764204500274,
          -0.635138650806511,
          -0.5189550310502028,
          -0.7540857315667814,
          0.2683778353802937,
          0.2720993271850784,
          0.15904763448880122,
          -0.769860643936355,
          -0.3510615407681436,
          0.5958700756554344,
          0.09057718540568985,
          0.3186076765534756,
          -0.07972135318190694,
          -0.6774425188528139,
          0.1503867857630422,
          0.058592692300931205,
          0.5468099188376025,
          -0.5949845192223849,
          0.5639949873201923,
          0.24430940505436508,
          -0.7791598618716149,
          0.05981183807803222,
          1.001307761734197,
          0.8917923134860971,
          0.19262775726837209,
          0.18363210361079055,
          0.4852560993665096,
          -0.04146075249715935,
          -0.25053366386131115,
          0.4538283451785484,
          -0.6086116147283682,
          -0.5665075952606166,
          -0.7819832204884916,
          0.14562110780133225,
          -0.5165306347252305,
          -0.6269248618377953,
          -0.5828068008120381,
          -0.748431154426837,
          -0.16966186181751652,
          -0.46244436094336827,
          -0.7214721453197562,
          0.9187841431204687,
          0.00687166592101278,
          -0.5756885659985049,
          0.14125592936326167,
          0.3716834940854978,
          0.40635935655233174,
          -0.33046081871922905,
          0.4803655170517651,
          0.31260109995316904,
          0.39882601681760693,
          0.1815781982762015,
          0.5056169567377475,
          0.9842068180595329,
          0.07809037544883736,
          -0.7979965676662268,
          0.08513996138916834,
          0.8330879971606793,
          -0.38515863877908596,
          -0.6534138586321305,
          0.3100996680974653,
          0.10584834949455205,
          0.5218460992075726,
          -0.4163710196109587,
          0.5983000758390515,
          0.1290466559368641,
          0.06940191317472263,
          -0.26805694374879574,
          0.3823340820036276,
          -0.442779257701551,
          -0.22313043196774032,
          -0.22916636132030616,
          0.1429164427671297,
          0.20835799837852734,
          -0.7741192591616476,
          -0.7401762183330436,
          0.13773503547060822,
          0.49405155444212767,
          -0.8384839198867208,
          0.11629319835332079,
          0.3182641460654486,
          0.18777593287425168,
          -0.17532597550605306,
          -0.5316792312921126,
          0.675004671287499,
          -0.8455185466738513,
          -0.7044712153190694,
          0.7468800494632284,
          -0.5779782547459097,
          0.041230957601176316,
          -0.45426849495184884,
          0.17871559277515844,
          0.541344801071833,
          -0.3409098378227685,
          0.5884502468472048,
          0.6946130974005645,
          0.11942431167692014,
          0.5356665682084337,
          -0.31181747343918503,
          -0.47998337289637494,
          -0.2869627959318194,
          0.12962447070178768,
          0.34619004375091894,
          -0.22430439064152197,
          0.32823746401143683,
          0.93711749712742,
          -0.6654408628908911,
          0.17481765960797382,
          0.6381417854020307,
          -0.2330774255115853,
          0.12661947391143813,
          -0.2146731433716957,
          0.5065293457038708,
          -0.33586656653108865,
          -0.32650966028324196,
          0.6999877737839127,
          -0.17331584307133416,
          -0.1992351561500657,
          -0.7892479865411133,
          -0.030837622977724716,
          0.22530528544351153,
          0.6433727694997631,
          0.07905888858083458,
          0.13264790207011085,
          -0.4906037719135416,
          0.8017771165613441,
          0.19875499155044032,
          0.15408935605934068,
          -0.3958071556223356,
          -0.8220340985175111,
          0.6304823063851172,
          -0.3021545053458043,
          -0.25677798542978136,
          0.11382413410129966,
          0.613356233031796,
          -0.4248918944141237,
          -0.7070904330369515,
          -0.4667451565933822,
          0.33343016646625306,
          0.6353208074903306,
          0.46674934385134126,
          -0.8268177621450811,
          -0.40307600371902946,
          0.6231779657830486,
          1.0469665608912762,
          0.16613924204608246,
          -0.6451911822574838,
          0.7789383465870708,
          -0.8219857883723162,
          1.0259362139791046,
          -0.6092584485864576,
          0.23107511292827743,
          0.11922732031386976,
          0.5602989290990584,
          0.6455220417994648,
          0.18109077830244374,
          0.9106366146984007,
          -0.6118687526228405,
          0.8190558109643646,
          -0.35493849393729776,
          0.1713916712649838,
          0.06539049481419448,
          -0.46021020526124834,
          -0.7500131231373264,
          0.09833188995172029,
          0.6559028328934534
         ],
         "z": [
          0.8910366928618229,
          -0.3650142595538208,
          -0.1744090256179693,
          -0.03334683725806296,
          -0.18031425487177544,
          0.3510290925956588,
          -0.15567880896930425,
          0.1139469333883298,
          0.15808520445124838,
          0.13459203423664132,
          0.5282489167353789,
          -0.4350380820149466,
          -0.022953304431208233,
          -0.65471775929092,
          0.2822316811539894,
          -0.343052937058422,
          -0.22151849410240954,
          -0.26337673704663106,
          -0.1855534968045266,
          0.07547819170658833,
          -0.28909566787126495,
          0.6052011593726899,
          -0.7649099245436894,
          0.0017895351167486696,
          0.14574489985041664,
          0.8223284724930002,
          1.0427064161160082,
          0.29203142826232953,
          -0.29589877994047054,
          0.5266284489665616,
          0.12568843481421013,
          1.0299909749993577,
          -0.5419246660320586,
          -0.7377791054203052,
          0.16827499999588993,
          0.11871501696404642,
          -0.15896156351470747,
          0.392490376220103,
          -0.7184488305705455,
          -0.5818257088818808,
          -0.32848766268057356,
          0.5738125575099006,
          -0.16047018296638674,
          0.30192971631950966,
          0.9150516007026228,
          -0.8665315235437789,
          -0.5321056734846563,
          -0.33984982965231736,
          0.4307973694538908,
          -0.2590815337008689,
          0.4478518292808747,
          0.934011795692831,
          0.11595946361452014,
          0.5440417050504175,
          -0.1518756005194074,
          -0.4254628715765933,
          0.2231666458514503,
          0.871197341575234,
          -0.1339131625747176,
          -0.33863537674056604,
          0.48976124659705556,
          0.15089294742230472,
          -0.005998268978963684,
          -0.0008079287185127109,
          0.25079229432203826,
          0.4581647606063286,
          0.5548768514815409,
          0.2270757887150587,
          -0.3729775964924858,
          -0.28748577623308225,
          0.136114671045526,
          -0.7942715339278809,
          0.31879429400958403,
          -0.6608452101968092,
          -0.2229536359258142,
          0.004320062622624575,
          0.03192348120319629,
          0.013407470117981915,
          0.6115933739336327,
          0.11423338779689846,
          -0.45005396264305353,
          -0.009569050157984297,
          -0.03582924590849745,
          -0.2632718054349135,
          -0.8408405749025202,
          0.04221409207488733,
          0.2077274611277219,
          -0.29551112623596815,
          -0.7186264952643749,
          -0.3652962022644901,
          -0.759321588944729,
          0.41082730362348724,
          0.8804112565941684,
          -0.019897917479127072,
          0.854546230344747,
          0.4169497955304884,
          0.8727170292482849,
          0.4899865462572452,
          0.4630437252997321,
          -0.3185200001274825,
          0.16619524608415184,
          0.5623742450443305,
          0.14905896877935745,
          -0.5747006570956306,
          0.4505321927186143,
          -0.3154753238473477,
          0.12941752755751917,
          0.1413325638165614,
          0.4176253902599794,
          -0.05409131496026507,
          -0.10957986679788494,
          -0.7513784088443265,
          -0.23955259488011413,
          -0.8820591768118223,
          0.4795981942737194,
          -0.4855678364345511,
          -0.203965433452606,
          -0.8773142796912947,
          -0.7867138240472572,
          0.4507704911484728,
          0.5367530243148542,
          -0.29214241613345165,
          0.13692158676675395,
          0.42797342566624624,
          0.5848282941012096,
          0.15118975058874076,
          0.40689648180032756,
          -0.7801010405441497,
          -0.2212857963631732,
          -0.07009909445123808,
          -0.11980354425349353,
          0.5712638606605046,
          -0.26575614102019995,
          -0.18272959467889024,
          -0.3714496203014445,
          1.0340887702418873,
          0.011261642728874553,
          0.16430131076961993,
          0.26704977269716534,
          -0.16019444368006852,
          -0.4207375555261262,
          -0.14541882046898016,
          0.15988209716646037,
          0.27826991661055606,
          -0.4700152082054632,
          -0.10663784459239681,
          -0.8844202810849503,
          -0.7703789362903621,
          0.8720045572435468,
          -0.14304203854927988,
          0.4065725526562845,
          -0.28839243642074364,
          -0.2658630035356996,
          -0.7584722525055422,
          -0.39299505189095385,
          -0.8530411493191676,
          0.16189383303177113,
          -0.172227603499286,
          -0.38179027455755443,
          -0.18310684506949124,
          -0.16872264384554753,
          -0.52470448158207,
          -0.6144162168692389,
          -0.20044895585590697,
          0.547262286867173,
          1.0681545125749812,
          0.1112814384465802,
          0.2599439237984064,
          0.15850495358814345,
          0.18033240679770296,
          -0.41432122277478517,
          -0.18682917584907613,
          0.4613829858457923,
          0.12403352424388467,
          0.006191890459334721,
          0.5831152270346119,
          -0.10438793396707342,
          -0.1671212524696429,
          -0.888456913663335,
          -0.7511653164622057,
          0.24067634600148854,
          0.37792148669253506,
          -0.29906658704594064,
          0.015771299345089397,
          0.3961194266188342,
          0.21817059224915455,
          0.44685143167400065,
          0.23885653181464403,
          -0.02841468651603565,
          0.23194835059166113,
          -0.2962465798955863,
          0.11428550357590549,
          -0.348195146948357,
          0.34593438924462044,
          0.5914278459838908,
          -0.3281513212924253,
          -0.34544017799598276,
          -0.8403805578521022,
          -0.7743119998295338,
          0.24789793285870473,
          -0.1552558846916927,
          0.4918661353015261,
          -0.3191534572405494,
          -0.004523119370808562,
          -0.18374740330270917,
          -0.13891384216688962,
          0.5803985439609938,
          1.0631954285616283,
          -0.020140071465168843,
          -0.2620704710498978,
          0.16350814061369623,
          -0.12012652592005178
         ]
        }
       ],
       "layout": {
        "scene": {
         "xaxis": {
          "title": {
           "text": "PC1"
          }
         },
         "yaxis": {
          "title": {
           "text": "PC2"
          }
         },
         "zaxis": {
          "title": {
           "text": "PC4"
          }
         }
        },
        "template": {
         "data": {
          "bar": [
           {
            "error_x": {
             "color": "#2a3f5f"
            },
            "error_y": {
             "color": "#2a3f5f"
            },
            "marker": {
             "line": {
              "color": "#E5ECF6",
              "width": 0.5
             },
             "pattern": {
              "fillmode": "overlay",
              "size": 10,
              "solidity": 0.2
             }
            },
            "type": "bar"
           }
          ],
          "barpolar": [
           {
            "marker": {
             "line": {
              "color": "#E5ECF6",
              "width": 0.5
             },
             "pattern": {
              "fillmode": "overlay",
              "size": 10,
              "solidity": 0.2
             }
            },
            "type": "barpolar"
           }
          ],
          "carpet": [
           {
            "aaxis": {
             "endlinecolor": "#2a3f5f",
             "gridcolor": "white",
             "linecolor": "white",
             "minorgridcolor": "white",
             "startlinecolor": "#2a3f5f"
            },
            "baxis": {
             "endlinecolor": "#2a3f5f",
             "gridcolor": "white",
             "linecolor": "white",
             "minorgridcolor": "white",
             "startlinecolor": "#2a3f5f"
            },
            "type": "carpet"
           }
          ],
          "choropleth": [
           {
            "colorbar": {
             "outlinewidth": 0,
             "ticks": ""
            },
            "type": "choropleth"
           }
          ],
          "contour": [
           {
            "colorbar": {
             "outlinewidth": 0,
             "ticks": ""
            },
            "colorscale": [
             [
              0,
              "#0d0887"
             ],
             [
              0.1111111111111111,
              "#46039f"
             ],
             [
              0.2222222222222222,
              "#7201a8"
             ],
             [
              0.3333333333333333,
              "#9c179e"
             ],
             [
              0.4444444444444444,
              "#bd3786"
             ],
             [
              0.5555555555555556,
              "#d8576b"
             ],
             [
              0.6666666666666666,
              "#ed7953"
             ],
             [
              0.7777777777777778,
              "#fb9f3a"
             ],
             [
              0.8888888888888888,
              "#fdca26"
             ],
             [
              1,
              "#f0f921"
             ]
            ],
            "type": "contour"
           }
          ],
          "contourcarpet": [
           {
            "colorbar": {
             "outlinewidth": 0,
             "ticks": ""
            },
            "type": "contourcarpet"
           }
          ],
          "heatmap": [
           {
            "colorbar": {
             "outlinewidth": 0,
             "ticks": ""
            },
            "colorscale": [
             [
              0,
              "#0d0887"
             ],
             [
              0.1111111111111111,
              "#46039f"
             ],
             [
              0.2222222222222222,
              "#7201a8"
             ],
             [
              0.3333333333333333,
              "#9c179e"
             ],
             [
              0.4444444444444444,
              "#bd3786"
             ],
             [
              0.5555555555555556,
              "#d8576b"
             ],
             [
              0.6666666666666666,
              "#ed7953"
             ],
             [
              0.7777777777777778,
              "#fb9f3a"
             ],
             [
              0.8888888888888888,
              "#fdca26"
             ],
             [
              1,
              "#f0f921"
             ]
            ],
            "type": "heatmap"
           }
          ],
          "heatmapgl": [
           {
            "colorbar": {
             "outlinewidth": 0,
             "ticks": ""
            },
            "colorscale": [
             [
              0,
              "#0d0887"
             ],
             [
              0.1111111111111111,
              "#46039f"
             ],
             [
              0.2222222222222222,
              "#7201a8"
             ],
             [
              0.3333333333333333,
              "#9c179e"
             ],
             [
              0.4444444444444444,
              "#bd3786"
             ],
             [
              0.5555555555555556,
              "#d8576b"
             ],
             [
              0.6666666666666666,
              "#ed7953"
             ],
             [
              0.7777777777777778,
              "#fb9f3a"
             ],
             [
              0.8888888888888888,
              "#fdca26"
             ],
             [
              1,
              "#f0f921"
             ]
            ],
            "type": "heatmapgl"
           }
          ],
          "histogram": [
           {
            "marker": {
             "pattern": {
              "fillmode": "overlay",
              "size": 10,
              "solidity": 0.2
             }
            },
            "type": "histogram"
           }
          ],
          "histogram2d": [
           {
            "colorbar": {
             "outlinewidth": 0,
             "ticks": ""
            },
            "colorscale": [
             [
              0,
              "#0d0887"
             ],
             [
              0.1111111111111111,
              "#46039f"
             ],
             [
              0.2222222222222222,
              "#7201a8"
             ],
             [
              0.3333333333333333,
              "#9c179e"
             ],
             [
              0.4444444444444444,
              "#bd3786"
             ],
             [
              0.5555555555555556,
              "#d8576b"
             ],
             [
              0.6666666666666666,
              "#ed7953"
             ],
             [
              0.7777777777777778,
              "#fb9f3a"
             ],
             [
              0.8888888888888888,
              "#fdca26"
             ],
             [
              1,
              "#f0f921"
             ]
            ],
            "type": "histogram2d"
           }
          ],
          "histogram2dcontour": [
           {
            "colorbar": {
             "outlinewidth": 0,
             "ticks": ""
            },
            "colorscale": [
             [
              0,
              "#0d0887"
             ],
             [
              0.1111111111111111,
              "#46039f"
             ],
             [
              0.2222222222222222,
              "#7201a8"
             ],
             [
              0.3333333333333333,
              "#9c179e"
             ],
             [
              0.4444444444444444,
              "#bd3786"
             ],
             [
              0.5555555555555556,
              "#d8576b"
             ],
             [
              0.6666666666666666,
              "#ed7953"
             ],
             [
              0.7777777777777778,
              "#fb9f3a"
             ],
             [
              0.8888888888888888,
              "#fdca26"
             ],
             [
              1,
              "#f0f921"
             ]
            ],
            "type": "histogram2dcontour"
           }
          ],
          "mesh3d": [
           {
            "colorbar": {
             "outlinewidth": 0,
             "ticks": ""
            },
            "type": "mesh3d"
           }
          ],
          "parcoords": [
           {
            "line": {
             "colorbar": {
              "outlinewidth": 0,
              "ticks": ""
             }
            },
            "type": "parcoords"
           }
          ],
          "pie": [
           {
            "automargin": true,
            "type": "pie"
           }
          ],
          "scatter": [
           {
            "fillpattern": {
             "fillmode": "overlay",
             "size": 10,
             "solidity": 0.2
            },
            "type": "scatter"
           }
          ],
          "scatter3d": [
           {
            "line": {
             "colorbar": {
              "outlinewidth": 0,
              "ticks": ""
             }
            },
            "marker": {
             "colorbar": {
              "outlinewidth": 0,
              "ticks": ""
             }
            },
            "type": "scatter3d"
           }
          ],
          "scattercarpet": [
           {
            "marker": {
             "colorbar": {
              "outlinewidth": 0,
              "ticks": ""
             }
            },
            "type": "scattercarpet"
           }
          ],
          "scattergeo": [
           {
            "marker": {
             "colorbar": {
              "outlinewidth": 0,
              "ticks": ""
             }
            },
            "type": "scattergeo"
           }
          ],
          "scattergl": [
           {
            "marker": {
             "colorbar": {
              "outlinewidth": 0,
              "ticks": ""
             }
            },
            "type": "scattergl"
           }
          ],
          "scattermapbox": [
           {
            "marker": {
             "colorbar": {
              "outlinewidth": 0,
              "ticks": ""
             }
            },
            "type": "scattermapbox"
           }
          ],
          "scatterpolar": [
           {
            "marker": {
             "colorbar": {
              "outlinewidth": 0,
              "ticks": ""
             }
            },
            "type": "scatterpolar"
           }
          ],
          "scatterpolargl": [
           {
            "marker": {
             "colorbar": {
              "outlinewidth": 0,
              "ticks": ""
             }
            },
            "type": "scatterpolargl"
           }
          ],
          "scatterternary": [
           {
            "marker": {
             "colorbar": {
              "outlinewidth": 0,
              "ticks": ""
             }
            },
            "type": "scatterternary"
           }
          ],
          "surface": [
           {
            "colorbar": {
             "outlinewidth": 0,
             "ticks": ""
            },
            "colorscale": [
             [
              0,
              "#0d0887"
             ],
             [
              0.1111111111111111,
              "#46039f"
             ],
             [
              0.2222222222222222,
              "#7201a8"
             ],
             [
              0.3333333333333333,
              "#9c179e"
             ],
             [
              0.4444444444444444,
              "#bd3786"
             ],
             [
              0.5555555555555556,
              "#d8576b"
             ],
             [
              0.6666666666666666,
              "#ed7953"
             ],
             [
              0.7777777777777778,
              "#fb9f3a"
             ],
             [
              0.8888888888888888,
              "#fdca26"
             ],
             [
              1,
              "#f0f921"
             ]
            ],
            "type": "surface"
           }
          ],
          "table": [
           {
            "cells": {
             "fill": {
              "color": "#EBF0F8"
             },
             "line": {
              "color": "white"
             }
            },
            "header": {
             "fill": {
              "color": "#C8D4E3"
             },
             "line": {
              "color": "white"
             }
            },
            "type": "table"
           }
          ]
         },
         "layout": {
          "annotationdefaults": {
           "arrowcolor": "#2a3f5f",
           "arrowhead": 0,
           "arrowwidth": 1
          },
          "autotypenumbers": "strict",
          "coloraxis": {
           "colorbar": {
            "outlinewidth": 0,
            "ticks": ""
           }
          },
          "colorscale": {
           "diverging": [
            [
             0,
             "#8e0152"
            ],
            [
             0.1,
             "#c51b7d"
            ],
            [
             0.2,
             "#de77ae"
            ],
            [
             0.3,
             "#f1b6da"
            ],
            [
             0.4,
             "#fde0ef"
            ],
            [
             0.5,
             "#f7f7f7"
            ],
            [
             0.6,
             "#e6f5d0"
            ],
            [
             0.7,
             "#b8e186"
            ],
            [
             0.8,
             "#7fbc41"
            ],
            [
             0.9,
             "#4d9221"
            ],
            [
             1,
             "#276419"
            ]
           ],
           "sequential": [
            [
             0,
             "#0d0887"
            ],
            [
             0.1111111111111111,
             "#46039f"
            ],
            [
             0.2222222222222222,
             "#7201a8"
            ],
            [
             0.3333333333333333,
             "#9c179e"
            ],
            [
             0.4444444444444444,
             "#bd3786"
            ],
            [
             0.5555555555555556,
             "#d8576b"
            ],
            [
             0.6666666666666666,
             "#ed7953"
            ],
            [
             0.7777777777777778,
             "#fb9f3a"
            ],
            [
             0.8888888888888888,
             "#fdca26"
            ],
            [
             1,
             "#f0f921"
            ]
           ],
           "sequentialminus": [
            [
             0,
             "#0d0887"
            ],
            [
             0.1111111111111111,
             "#46039f"
            ],
            [
             0.2222222222222222,
             "#7201a8"
            ],
            [
             0.3333333333333333,
             "#9c179e"
            ],
            [
             0.4444444444444444,
             "#bd3786"
            ],
            [
             0.5555555555555556,
             "#d8576b"
            ],
            [
             0.6666666666666666,
             "#ed7953"
            ],
            [
             0.7777777777777778,
             "#fb9f3a"
            ],
            [
             0.8888888888888888,
             "#fdca26"
            ],
            [
             1,
             "#f0f921"
            ]
           ]
          },
          "colorway": [
           "#636efa",
           "#EF553B",
           "#00cc96",
           "#ab63fa",
           "#FFA15A",
           "#19d3f3",
           "#FF6692",
           "#B6E880",
           "#FF97FF",
           "#FECB52"
          ],
          "font": {
           "color": "#2a3f5f"
          },
          "geo": {
           "bgcolor": "white",
           "lakecolor": "white",
           "landcolor": "#E5ECF6",
           "showlakes": true,
           "showland": true,
           "subunitcolor": "white"
          },
          "hoverlabel": {
           "align": "left"
          },
          "hovermode": "closest",
          "mapbox": {
           "style": "light"
          },
          "paper_bgcolor": "white",
          "plot_bgcolor": "#E5ECF6",
          "polar": {
           "angularaxis": {
            "gridcolor": "white",
            "linecolor": "white",
            "ticks": ""
           },
           "bgcolor": "#E5ECF6",
           "radialaxis": {
            "gridcolor": "white",
            "linecolor": "white",
            "ticks": ""
           }
          },
          "scene": {
           "xaxis": {
            "backgroundcolor": "#E5ECF6",
            "gridcolor": "white",
            "gridwidth": 2,
            "linecolor": "white",
            "showbackground": true,
            "ticks": "",
            "zerolinecolor": "white"
           },
           "yaxis": {
            "backgroundcolor": "#E5ECF6",
            "gridcolor": "white",
            "gridwidth": 2,
            "linecolor": "white",
            "showbackground": true,
            "ticks": "",
            "zerolinecolor": "white"
           },
           "zaxis": {
            "backgroundcolor": "#E5ECF6",
            "gridcolor": "white",
            "gridwidth": 2,
            "linecolor": "white",
            "showbackground": true,
            "ticks": "",
            "zerolinecolor": "white"
           }
          },
          "shapedefaults": {
           "line": {
            "color": "#2a3f5f"
           }
          },
          "ternary": {
           "aaxis": {
            "gridcolor": "white",
            "linecolor": "white",
            "ticks": ""
           },
           "baxis": {
            "gridcolor": "white",
            "linecolor": "white",
            "ticks": ""
           },
           "bgcolor": "#E5ECF6",
           "caxis": {
            "gridcolor": "white",
            "linecolor": "white",
            "ticks": ""
           }
          },
          "title": {
           "x": 0.05
          },
          "xaxis": {
           "automargin": true,
           "gridcolor": "white",
           "linecolor": "white",
           "ticks": "",
           "title": {
            "standoff": 15
           },
           "zerolinecolor": "white",
           "zerolinewidth": 2
          },
          "yaxis": {
           "automargin": true,
           "gridcolor": "white",
           "linecolor": "white",
           "ticks": "",
           "title": {
            "standoff": 15
           },
           "zerolinecolor": "white",
           "zerolinewidth": 2
          }
         }
        },
        "title": {
         "text": "Visualization of 3 first principal components"
        },
        "xaxis": {
         "range": [
          -2,
          2
         ]
        },
        "yaxis": {
         "range": [
          -2,
          2
         ]
        }
       }
      },
      "text/html": [
       "<div>                            <div id=\"7563b373-7b79-44aa-b0db-7e68a08bdc28\" class=\"plotly-graph-div\" style=\"height:525px; width:100%;\"></div>            <script type=\"text/javascript\">                require([\"plotly\"], function(Plotly) {                    window.PLOTLYENV=window.PLOTLYENV || {};                                    if (document.getElementById(\"7563b373-7b79-44aa-b0db-7e68a08bdc28\")) {                    Plotly.newPlot(                        \"7563b373-7b79-44aa-b0db-7e68a08bdc28\",                        [{\"marker\":{\"color\":[0,1,0,2,1,1,1,1,1,1,0,1,0,1,0,1,0,1,0,1,0,0,0,0,1,0,0,0,0,0,1,0,0,0,1,1,0,3,0,1,1,0,1,0,0,1,1,1,3,1,1,0,1,0,0,1,1,0,3,1,1,1,0,2,0,1,0,1,0,0,1,0,0,1,0,0,2,2,0,1,0,2,2,1,1,0,1,0,0,1,0,1,0,0,0,1,0,1,0,0,1,0,1,0,3,1,0,1,0,1,1,0,0,1,0,0,0,1,0,1,0,1,1,0,0,1,1,0,0,2,1,0,1,1,1,0,0,1,0,0,1,1,1,0,0,2,1,0,0,0,1,0,1,0,1,1,1,0,1,0,0,0,1,0,0,0,1,0,1,1,0,1,1,1,0,0,1,0,1,0,0,3,1,0,1,0,0,0,0,0,0,1,1,0,0,0,1,0,0,0,1,1,0,2,1,0,1,0,1,1,1,1],\"size\":4},\"mode\":\"markers\",\"x\":[-0.1326170747781832,0.9104064179791382,-0.7992622118248734,0.2821053655119194,0.38243700593026075,0.6961753739113954,0.43358406960407386,1.2590302872090153,0.9270048502026708,1.070226736531372,-0.491181783585681,1.0857736878551711,-0.7905993253719584,0.1947938824296666,-0.5547677072487567,0.9312032405011418,-0.5964172488616017,0.6922148441502366,-0.7856921776955125,1.245201078080557,-0.750029492260041,-0.7356136928333274,-1.0119262527700637,-0.8643179763289774,1.034078304753667,0.13647964045718547,-0.46145941804297724,-0.6320373670524372,-0.7879946261826429,-0.5199513488458261,1.1458983114787276,-0.43984261406799546,-0.044582267602576456,-1.0404288550660004,0.1776870133133661,1.131560022351513,-0.7570799367699971,-0.3403688131154544,-1.0982242208362045,-0.022150289436328578,0.8349574148423745,-0.689366726142756,0.37744874198173844,-0.1793442553608136,-0.2467253532996934,0.5913951632246336,-0.027998243959162287,0.8944954092907518,-0.4553002575768276,0.6318840188922592,0.47452597800576074,-0.26874281229947417,1.1373483313729378,-0.5679403126448258,-0.9197016420245464,0.889161877112007,0.8586263766338542,-0.10634875833641788,-0.6361812123688951,0.8953165481157663,0.3321134144767657,1.0731072630401708,0.05062057954571697,0.18597323409128566,-0.5137359152902853,0.38352928487932486,-0.6548017670270675,0.8333022951552063,-0.5808687044301597,-0.8346991634971331,1.132407923202744,-0.9661851948787963,-0.674709006919274,0.23057732412821497,-0.7775317067300436,-0.026988379548851128,0.11486503045779563,0.20482778148142505,-0.7288079278596592,1.0610083923388585,-0.3940554914226894,0.16533774475824167,0.2164691448942867,0.6367774963863599,0.5972908438159151,-0.9104651677791924,-0.00044638856846964867,-0.7800213382020726,-1.1222675787651484,1.0057966217566157,-1.051400511005265,0.6167944332919945,-0.14309364368060024,-0.777570568089135,0.021191994347382132,0.5646870037584963,-0.11584853696631725,0.3308059644210891,-0.6101516446733722,-0.7668610183989385,0.9468057739126213,-0.6313119083373221,1.0987164064928676,-0.12270750800984279,-0.39201347126802105,0.8489494161424613,-0.03917165784989493,1.0434809764625872,-0.4557025719047398,0.4371160239205253,0.19044521182267962,-0.9780087204309549,-0.3001107450770103,0.6162828387622932,-0.6005504995416189,-0.23800517859075937,-0.8257041107200643,0.6355333692265339,-0.8992320001634739,0.43312905680169556,-0.6190649196801166,0.799913905243967,1.1021640409516709,-0.47173667857316465,-0.7057371984724491,1.0983416046432097,0.5725355031544783,-0.9561619476128992,-0.6511739415136188,0.36670797873874356,0.21211356066112907,-0.6886162151520241,0.702758029243546,0.42804081610383204,1.0687434972060332,-0.42705066721101964,-0.8992224481384198,1.032672324145004,-0.4937087752629421,-0.8981360109490618,0.8606805867146016,0.3297437089123817,1.0402852868457615,-0.49394371042777746,-0.21324527314091457,0.4050253139812648,0.5810428589017466,-0.9577933730391857,-0.18834070014162854,-0.8467865453045321,0.6432822005593729,-0.8152148191182184,0.7484569139203119,-1.027050413795453,0.9253576529994282,0.5109705993334611,0.912249967295882,-0.7838683435562532,0.7682281007662999,-0.8712551418769116,-0.8774849043080021,-0.3814343179185158,0.025229347837116403,-0.6039109910086493,-0.6635812887763453,-0.498624129060015,1.1419809094084192,-0.42607227415350624,1.079366092747419,0.9679814695112567,-0.40729298960879395,0.5966570037065542,0.3788629017462637,1.1819784976990453,-0.8738044450351813,-0.7057466336824919,0.20539255385886446,-0.8759043782356086,0.6117129955093082,-0.9894413905091308,-0.4677545527672432,-0.25761980115909366,0.743098160616207,-0.9025888090379335,0.6278544567992106,-0.40294706979942063,-0.5576439933031329,-0.008261607014732657,-0.7705600864485789,-0.433500550148911,-0.7555534701917151,1.1693482459855646,0.8328042240260315,-0.40567644778251183,-0.7108825006493155,-0.6913694561909455,0.9730919355714179,-0.8087296453918038,-1.0407132069742449,-0.5152409248415369,0.33829887304153844,0.333900298070818,-0.7541407467530438,0.1465427807105485,0.5205174724755345,-0.9114385277049045,0.40864855759213214,-0.4653644427019131,0.24873636235014557,0.645060309982118,1.0069045389377844,0.21636773034007672],\"y\":[0.4267866955992044,-0.6377862634891731,-0.2823555637650215,-0.5221996717232795,0.6771699621875372,0.38600812000925133,0.752211361738495,0.29715217151784523,0.059794959152500264,0.17490524239952215,-0.7232242726614866,0.7299065973126765,-0.32956825337241,-0.1153145910431175,0.5419741669170974,-0.6366613974594243,-0.19887715273447643,-0.6981173040780813,-0.27124831545309774,0.21718241969551844,0.9439618707089596,-0.8750045789375478,0.11759595573325599,-0.3792863722341259,0.11265902754368655,0.4992952775370847,0.01131373461214245,0.5067875247714639,0.9209550859252157,-0.7000040271581754,0.16452484469488396,0.005843347427800052,-0.27828644406856695,0.1270210815764252,-0.6602780843460466,0.15158703697206463,-0.19719793825078022,-0.4894506922646527,0.043268752217886855,-0.17918392371599803,-0.6222801954267911,-0.809849131388344,0.7722549119682507,-0.9433849711883809,0.273375194834665,-0.22028602953898332,-0.22515764204500274,-0.635138650806511,-0.5189550310502028,-0.7540857315667814,0.2683778353802937,0.2720993271850784,0.15904763448880122,-0.769860643936355,-0.3510615407681436,0.5958700756554344,0.09057718540568985,0.3186076765534756,-0.07972135318190694,-0.6774425188528139,0.1503867857630422,0.058592692300931205,0.5468099188376025,-0.5949845192223849,0.5639949873201923,0.24430940505436508,-0.7791598618716149,0.05981183807803222,1.001307761734197,0.8917923134860971,0.19262775726837209,0.18363210361079055,0.4852560993665096,-0.04146075249715935,-0.25053366386131115,0.4538283451785484,-0.6086116147283682,-0.5665075952606166,-0.7819832204884916,0.14562110780133225,-0.5165306347252305,-0.6269248618377953,-0.5828068008120381,-0.748431154426837,-0.16966186181751652,-0.46244436094336827,-0.7214721453197562,0.9187841431204687,0.00687166592101278,-0.5756885659985049,0.14125592936326167,0.3716834940854978,0.40635935655233174,-0.33046081871922905,0.4803655170517651,0.31260109995316904,0.39882601681760693,0.1815781982762015,0.5056169567377475,0.9842068180595329,0.07809037544883736,-0.7979965676662268,0.08513996138916834,0.8330879971606793,-0.38515863877908596,-0.6534138586321305,0.3100996680974653,0.10584834949455205,0.5218460992075726,-0.4163710196109587,0.5983000758390515,0.1290466559368641,0.06940191317472263,-0.26805694374879574,0.3823340820036276,-0.442779257701551,-0.22313043196774032,-0.22916636132030616,0.1429164427671297,0.20835799837852734,-0.7741192591616476,-0.7401762183330436,0.13773503547060822,0.49405155444212767,-0.8384839198867208,0.11629319835332079,0.3182641460654486,0.18777593287425168,-0.17532597550605306,-0.5316792312921126,0.675004671287499,-0.8455185466738513,-0.7044712153190694,0.7468800494632284,-0.5779782547459097,0.041230957601176316,-0.45426849495184884,0.17871559277515844,0.541344801071833,-0.3409098378227685,0.5884502468472048,0.6946130974005645,0.11942431167692014,0.5356665682084337,-0.31181747343918503,-0.47998337289637494,-0.2869627959318194,0.12962447070178768,0.34619004375091894,-0.22430439064152197,0.32823746401143683,0.93711749712742,-0.6654408628908911,0.17481765960797382,0.6381417854020307,-0.2330774255115853,0.12661947391143813,-0.2146731433716957,0.5065293457038708,-0.33586656653108865,-0.32650966028324196,0.6999877737839127,-0.17331584307133416,-0.1992351561500657,-0.7892479865411133,-0.030837622977724716,0.22530528544351153,0.6433727694997631,0.07905888858083458,0.13264790207011085,-0.4906037719135416,0.8017771165613441,0.19875499155044032,0.15408935605934068,-0.3958071556223356,-0.8220340985175111,0.6304823063851172,-0.3021545053458043,-0.25677798542978136,0.11382413410129966,0.613356233031796,-0.4248918944141237,-0.7070904330369515,-0.4667451565933822,0.33343016646625306,0.6353208074903306,0.46674934385134126,-0.8268177621450811,-0.40307600371902946,0.6231779657830486,1.0469665608912762,0.16613924204608246,-0.6451911822574838,0.7789383465870708,-0.8219857883723162,1.0259362139791046,-0.6092584485864576,0.23107511292827743,0.11922732031386976,0.5602989290990584,0.6455220417994648,0.18109077830244374,0.9106366146984007,-0.6118687526228405,0.8190558109643646,-0.35493849393729776,0.1713916712649838,0.06539049481419448,-0.46021020526124834,-0.7500131231373264,0.09833188995172029,0.6559028328934534],\"z\":[0.8910366928618229,-0.3650142595538208,-0.1744090256179693,-0.03334683725806296,-0.18031425487177544,0.3510290925956588,-0.15567880896930425,0.1139469333883298,0.15808520445124838,0.13459203423664132,0.5282489167353789,-0.4350380820149466,-0.022953304431208233,-0.65471775929092,0.2822316811539894,-0.343052937058422,-0.22151849410240954,-0.26337673704663106,-0.1855534968045266,0.07547819170658833,-0.28909566787126495,0.6052011593726899,-0.7649099245436894,0.0017895351167486696,0.14574489985041664,0.8223284724930002,1.0427064161160082,0.29203142826232953,-0.29589877994047054,0.5266284489665616,0.12568843481421013,1.0299909749993577,-0.5419246660320586,-0.7377791054203052,0.16827499999588993,0.11871501696404642,-0.15896156351470747,0.392490376220103,-0.7184488305705455,-0.5818257088818808,-0.32848766268057356,0.5738125575099006,-0.16047018296638674,0.30192971631950966,0.9150516007026228,-0.8665315235437789,-0.5321056734846563,-0.33984982965231736,0.4307973694538908,-0.2590815337008689,0.4478518292808747,0.934011795692831,0.11595946361452014,0.5440417050504175,-0.1518756005194074,-0.4254628715765933,0.2231666458514503,0.871197341575234,-0.1339131625747176,-0.33863537674056604,0.48976124659705556,0.15089294742230472,-0.005998268978963684,-0.0008079287185127109,0.25079229432203826,0.4581647606063286,0.5548768514815409,0.2270757887150587,-0.3729775964924858,-0.28748577623308225,0.136114671045526,-0.7942715339278809,0.31879429400958403,-0.6608452101968092,-0.2229536359258142,0.004320062622624575,0.03192348120319629,0.013407470117981915,0.6115933739336327,0.11423338779689846,-0.45005396264305353,-0.009569050157984297,-0.03582924590849745,-0.2632718054349135,-0.8408405749025202,0.04221409207488733,0.2077274611277219,-0.29551112623596815,-0.7186264952643749,-0.3652962022644901,-0.759321588944729,0.41082730362348724,0.8804112565941684,-0.019897917479127072,0.854546230344747,0.4169497955304884,0.8727170292482849,0.4899865462572452,0.4630437252997321,-0.3185200001274825,0.16619524608415184,0.5623742450443305,0.14905896877935745,-0.5747006570956306,0.4505321927186143,-0.3154753238473477,0.12941752755751917,0.1413325638165614,0.4176253902599794,-0.05409131496026507,-0.10957986679788494,-0.7513784088443265,-0.23955259488011413,-0.8820591768118223,0.4795981942737194,-0.4855678364345511,-0.203965433452606,-0.8773142796912947,-0.7867138240472572,0.4507704911484728,0.5367530243148542,-0.29214241613345165,0.13692158676675395,0.42797342566624624,0.5848282941012096,0.15118975058874076,0.40689648180032756,-0.7801010405441497,-0.2212857963631732,-0.07009909445123808,-0.11980354425349353,0.5712638606605046,-0.26575614102019995,-0.18272959467889024,-0.3714496203014445,1.0340887702418873,0.011261642728874553,0.16430131076961993,0.26704977269716534,-0.16019444368006852,-0.4207375555261262,-0.14541882046898016,0.15988209716646037,0.27826991661055606,-0.4700152082054632,-0.10663784459239681,-0.8844202810849503,-0.7703789362903621,0.8720045572435468,-0.14304203854927988,0.4065725526562845,-0.28839243642074364,-0.2658630035356996,-0.7584722525055422,-0.39299505189095385,-0.8530411493191676,0.16189383303177113,-0.172227603499286,-0.38179027455755443,-0.18310684506949124,-0.16872264384554753,-0.52470448158207,-0.6144162168692389,-0.20044895585590697,0.547262286867173,1.0681545125749812,0.1112814384465802,0.2599439237984064,0.15850495358814345,0.18033240679770296,-0.41432122277478517,-0.18682917584907613,0.4613829858457923,0.12403352424388467,0.006191890459334721,0.5831152270346119,-0.10438793396707342,-0.1671212524696429,-0.888456913663335,-0.7511653164622057,0.24067634600148854,0.37792148669253506,-0.29906658704594064,0.015771299345089397,0.3961194266188342,0.21817059224915455,0.44685143167400065,0.23885653181464403,-0.02841468651603565,0.23194835059166113,-0.2962465798955863,0.11428550357590549,-0.348195146948357,0.34593438924462044,0.5914278459838908,-0.3281513212924253,-0.34544017799598276,-0.8403805578521022,-0.7743119998295338,0.24789793285870473,-0.1552558846916927,0.4918661353015261,-0.3191534572405494,-0.004523119370808562,-0.18374740330270917,-0.13891384216688962,0.5803985439609938,1.0631954285616283,-0.020140071465168843,-0.2620704710498978,0.16350814061369623,-0.12012652592005178],\"type\":\"scatter3d\"}],                        {\"template\":{\"data\":{\"histogram2dcontour\":[{\"type\":\"histogram2dcontour\",\"colorbar\":{\"outlinewidth\":0,\"ticks\":\"\"},\"colorscale\":[[0.0,\"#0d0887\"],[0.1111111111111111,\"#46039f\"],[0.2222222222222222,\"#7201a8\"],[0.3333333333333333,\"#9c179e\"],[0.4444444444444444,\"#bd3786\"],[0.5555555555555556,\"#d8576b\"],[0.6666666666666666,\"#ed7953\"],[0.7777777777777778,\"#fb9f3a\"],[0.8888888888888888,\"#fdca26\"],[1.0,\"#f0f921\"]]}],\"choropleth\":[{\"type\":\"choropleth\",\"colorbar\":{\"outlinewidth\":0,\"ticks\":\"\"}}],\"histogram2d\":[{\"type\":\"histogram2d\",\"colorbar\":{\"outlinewidth\":0,\"ticks\":\"\"},\"colorscale\":[[0.0,\"#0d0887\"],[0.1111111111111111,\"#46039f\"],[0.2222222222222222,\"#7201a8\"],[0.3333333333333333,\"#9c179e\"],[0.4444444444444444,\"#bd3786\"],[0.5555555555555556,\"#d8576b\"],[0.6666666666666666,\"#ed7953\"],[0.7777777777777778,\"#fb9f3a\"],[0.8888888888888888,\"#fdca26\"],[1.0,\"#f0f921\"]]}],\"heatmap\":[{\"type\":\"heatmap\",\"colorbar\":{\"outlinewidth\":0,\"ticks\":\"\"},\"colorscale\":[[0.0,\"#0d0887\"],[0.1111111111111111,\"#46039f\"],[0.2222222222222222,\"#7201a8\"],[0.3333333333333333,\"#9c179e\"],[0.4444444444444444,\"#bd3786\"],[0.5555555555555556,\"#d8576b\"],[0.6666666666666666,\"#ed7953\"],[0.7777777777777778,\"#fb9f3a\"],[0.8888888888888888,\"#fdca26\"],[1.0,\"#f0f921\"]]}],\"heatmapgl\":[{\"type\":\"heatmapgl\",\"colorbar\":{\"outlinewidth\":0,\"ticks\":\"\"},\"colorscale\":[[0.0,\"#0d0887\"],[0.1111111111111111,\"#46039f\"],[0.2222222222222222,\"#7201a8\"],[0.3333333333333333,\"#9c179e\"],[0.4444444444444444,\"#bd3786\"],[0.5555555555555556,\"#d8576b\"],[0.6666666666666666,\"#ed7953\"],[0.7777777777777778,\"#fb9f3a\"],[0.8888888888888888,\"#fdca26\"],[1.0,\"#f0f921\"]]}],\"contourcarpet\":[{\"type\":\"contourcarpet\",\"colorbar\":{\"outlinewidth\":0,\"ticks\":\"\"}}],\"contour\":[{\"type\":\"contour\",\"colorbar\":{\"outlinewidth\":0,\"ticks\":\"\"},\"colorscale\":[[0.0,\"#0d0887\"],[0.1111111111111111,\"#46039f\"],[0.2222222222222222,\"#7201a8\"],[0.3333333333333333,\"#9c179e\"],[0.4444444444444444,\"#bd3786\"],[0.5555555555555556,\"#d8576b\"],[0.6666666666666666,\"#ed7953\"],[0.7777777777777778,\"#fb9f3a\"],[0.8888888888888888,\"#fdca26\"],[1.0,\"#f0f921\"]]}],\"surface\":[{\"type\":\"surface\",\"colorbar\":{\"outlinewidth\":0,\"ticks\":\"\"},\"colorscale\":[[0.0,\"#0d0887\"],[0.1111111111111111,\"#46039f\"],[0.2222222222222222,\"#7201a8\"],[0.3333333333333333,\"#9c179e\"],[0.4444444444444444,\"#bd3786\"],[0.5555555555555556,\"#d8576b\"],[0.6666666666666666,\"#ed7953\"],[0.7777777777777778,\"#fb9f3a\"],[0.8888888888888888,\"#fdca26\"],[1.0,\"#f0f921\"]]}],\"mesh3d\":[{\"type\":\"mesh3d\",\"colorbar\":{\"outlinewidth\":0,\"ticks\":\"\"}}],\"scatter\":[{\"fillpattern\":{\"fillmode\":\"overlay\",\"size\":10,\"solidity\":0.2},\"type\":\"scatter\"}],\"parcoords\":[{\"type\":\"parcoords\",\"line\":{\"colorbar\":{\"outlinewidth\":0,\"ticks\":\"\"}}}],\"scatterpolargl\":[{\"type\":\"scatterpolargl\",\"marker\":{\"colorbar\":{\"outlinewidth\":0,\"ticks\":\"\"}}}],\"bar\":[{\"error_x\":{\"color\":\"#2a3f5f\"},\"error_y\":{\"color\":\"#2a3f5f\"},\"marker\":{\"line\":{\"color\":\"#E5ECF6\",\"width\":0.5},\"pattern\":{\"fillmode\":\"overlay\",\"size\":10,\"solidity\":0.2}},\"type\":\"bar\"}],\"scattergeo\":[{\"type\":\"scattergeo\",\"marker\":{\"colorbar\":{\"outlinewidth\":0,\"ticks\":\"\"}}}],\"scatterpolar\":[{\"type\":\"scatterpolar\",\"marker\":{\"colorbar\":{\"outlinewidth\":0,\"ticks\":\"\"}}}],\"histogram\":[{\"marker\":{\"pattern\":{\"fillmode\":\"overlay\",\"size\":10,\"solidity\":0.2}},\"type\":\"histogram\"}],\"scattergl\":[{\"type\":\"scattergl\",\"marker\":{\"colorbar\":{\"outlinewidth\":0,\"ticks\":\"\"}}}],\"scatter3d\":[{\"type\":\"scatter3d\",\"line\":{\"colorbar\":{\"outlinewidth\":0,\"ticks\":\"\"}},\"marker\":{\"colorbar\":{\"outlinewidth\":0,\"ticks\":\"\"}}}],\"scattermapbox\":[{\"type\":\"scattermapbox\",\"marker\":{\"colorbar\":{\"outlinewidth\":0,\"ticks\":\"\"}}}],\"scatterternary\":[{\"type\":\"scatterternary\",\"marker\":{\"colorbar\":{\"outlinewidth\":0,\"ticks\":\"\"}}}],\"scattercarpet\":[{\"type\":\"scattercarpet\",\"marker\":{\"colorbar\":{\"outlinewidth\":0,\"ticks\":\"\"}}}],\"carpet\":[{\"aaxis\":{\"endlinecolor\":\"#2a3f5f\",\"gridcolor\":\"white\",\"linecolor\":\"white\",\"minorgridcolor\":\"white\",\"startlinecolor\":\"#2a3f5f\"},\"baxis\":{\"endlinecolor\":\"#2a3f5f\",\"gridcolor\":\"white\",\"linecolor\":\"white\",\"minorgridcolor\":\"white\",\"startlinecolor\":\"#2a3f5f\"},\"type\":\"carpet\"}],\"table\":[{\"cells\":{\"fill\":{\"color\":\"#EBF0F8\"},\"line\":{\"color\":\"white\"}},\"header\":{\"fill\":{\"color\":\"#C8D4E3\"},\"line\":{\"color\":\"white\"}},\"type\":\"table\"}],\"barpolar\":[{\"marker\":{\"line\":{\"color\":\"#E5ECF6\",\"width\":0.5},\"pattern\":{\"fillmode\":\"overlay\",\"size\":10,\"solidity\":0.2}},\"type\":\"barpolar\"}],\"pie\":[{\"automargin\":true,\"type\":\"pie\"}]},\"layout\":{\"autotypenumbers\":\"strict\",\"colorway\":[\"#636efa\",\"#EF553B\",\"#00cc96\",\"#ab63fa\",\"#FFA15A\",\"#19d3f3\",\"#FF6692\",\"#B6E880\",\"#FF97FF\",\"#FECB52\"],\"font\":{\"color\":\"#2a3f5f\"},\"hovermode\":\"closest\",\"hoverlabel\":{\"align\":\"left\"},\"paper_bgcolor\":\"white\",\"plot_bgcolor\":\"#E5ECF6\",\"polar\":{\"bgcolor\":\"#E5ECF6\",\"angularaxis\":{\"gridcolor\":\"white\",\"linecolor\":\"white\",\"ticks\":\"\"},\"radialaxis\":{\"gridcolor\":\"white\",\"linecolor\":\"white\",\"ticks\":\"\"}},\"ternary\":{\"bgcolor\":\"#E5ECF6\",\"aaxis\":{\"gridcolor\":\"white\",\"linecolor\":\"white\",\"ticks\":\"\"},\"baxis\":{\"gridcolor\":\"white\",\"linecolor\":\"white\",\"ticks\":\"\"},\"caxis\":{\"gridcolor\":\"white\",\"linecolor\":\"white\",\"ticks\":\"\"}},\"coloraxis\":{\"colorbar\":{\"outlinewidth\":0,\"ticks\":\"\"}},\"colorscale\":{\"sequential\":[[0.0,\"#0d0887\"],[0.1111111111111111,\"#46039f\"],[0.2222222222222222,\"#7201a8\"],[0.3333333333333333,\"#9c179e\"],[0.4444444444444444,\"#bd3786\"],[0.5555555555555556,\"#d8576b\"],[0.6666666666666666,\"#ed7953\"],[0.7777777777777778,\"#fb9f3a\"],[0.8888888888888888,\"#fdca26\"],[1.0,\"#f0f921\"]],\"sequentialminus\":[[0.0,\"#0d0887\"],[0.1111111111111111,\"#46039f\"],[0.2222222222222222,\"#7201a8\"],[0.3333333333333333,\"#9c179e\"],[0.4444444444444444,\"#bd3786\"],[0.5555555555555556,\"#d8576b\"],[0.6666666666666666,\"#ed7953\"],[0.7777777777777778,\"#fb9f3a\"],[0.8888888888888888,\"#fdca26\"],[1.0,\"#f0f921\"]],\"diverging\":[[0,\"#8e0152\"],[0.1,\"#c51b7d\"],[0.2,\"#de77ae\"],[0.3,\"#f1b6da\"],[0.4,\"#fde0ef\"],[0.5,\"#f7f7f7\"],[0.6,\"#e6f5d0\"],[0.7,\"#b8e186\"],[0.8,\"#7fbc41\"],[0.9,\"#4d9221\"],[1,\"#276419\"]]},\"xaxis\":{\"gridcolor\":\"white\",\"linecolor\":\"white\",\"ticks\":\"\",\"title\":{\"standoff\":15},\"zerolinecolor\":\"white\",\"automargin\":true,\"zerolinewidth\":2},\"yaxis\":{\"gridcolor\":\"white\",\"linecolor\":\"white\",\"ticks\":\"\",\"title\":{\"standoff\":15},\"zerolinecolor\":\"white\",\"automargin\":true,\"zerolinewidth\":2},\"scene\":{\"xaxis\":{\"backgroundcolor\":\"#E5ECF6\",\"gridcolor\":\"white\",\"linecolor\":\"white\",\"showbackground\":true,\"ticks\":\"\",\"zerolinecolor\":\"white\",\"gridwidth\":2},\"yaxis\":{\"backgroundcolor\":\"#E5ECF6\",\"gridcolor\":\"white\",\"linecolor\":\"white\",\"showbackground\":true,\"ticks\":\"\",\"zerolinecolor\":\"white\",\"gridwidth\":2},\"zaxis\":{\"backgroundcolor\":\"#E5ECF6\",\"gridcolor\":\"white\",\"linecolor\":\"white\",\"showbackground\":true,\"ticks\":\"\",\"zerolinecolor\":\"white\",\"gridwidth\":2}},\"shapedefaults\":{\"line\":{\"color\":\"#2a3f5f\"}},\"annotationdefaults\":{\"arrowcolor\":\"#2a3f5f\",\"arrowhead\":0,\"arrowwidth\":1},\"geo\":{\"bgcolor\":\"white\",\"landcolor\":\"#E5ECF6\",\"subunitcolor\":\"white\",\"showland\":true,\"showlakes\":true,\"lakecolor\":\"white\"},\"title\":{\"x\":0.05},\"mapbox\":{\"style\":\"light\"}}},\"yaxis\":{\"range\":[-2,2]},\"title\":{\"text\":\"Visualization of 3 first principal components\"},\"scene\":{\"xaxis\":{\"title\":{\"text\":\"PC1\"}},\"yaxis\":{\"title\":{\"text\":\"PC2\"}},\"zaxis\":{\"title\":{\"text\":\"PC4\"}}},\"xaxis\":{\"range\":[-2,2]}},                        {\"responsive\": true}                    ).then(function(){\n",
       "                            \n",
       "var gd = document.getElementById('7563b373-7b79-44aa-b0db-7e68a08bdc28');\n",
       "var x = new MutationObserver(function (mutations, observer) {{\n",
       "        var display = window.getComputedStyle(gd).display;\n",
       "        if (!display || display === 'none') {{\n",
       "            console.log([gd, 'removed!']);\n",
       "            Plotly.purge(gd);\n",
       "            observer.disconnect();\n",
       "        }}\n",
       "}});\n",
       "\n",
       "// Listen for the removal of the full notebook cells\n",
       "var notebookContainer = gd.closest('#notebook-container');\n",
       "if (notebookContainer) {{\n",
       "    x.observe(notebookContainer, {childList: true});\n",
       "}}\n",
       "\n",
       "// Listen for the clearing of the current output cell\n",
       "var outputEl = gd.closest('.output');\n",
       "if (outputEl) {{\n",
       "    x.observe(outputEl, {childList: true});\n",
       "}}\n",
       "\n",
       "                        })                };                });            </script>        </div>"
      ]
     },
     "metadata": {},
     "output_type": "display_data"
    }
   ],
   "source": [
    "import plotly.graph_objects as go\n",
    "\n",
    "fig1 = go.Figure(data=[go.Scatter3d(\n",
    "    x=df_train['PC1'],\n",
    "    y=df_train['PC2'],\n",
    "    z=df_train['PC3'],\n",
    "    mode='markers',\n",
    "    marker=dict(size=4, color=mv_final)\n",
    ")])\n",
    "\n",
    "fig2 = go.Figure(data=[go.Scatter3d(\n",
    "    x=df_train['PC1'],\n",
    "    y=df_train['PC2'],\n",
    "    z=df_train['PC4'],\n",
    "    mode='markers',\n",
    "    marker=dict(size=4, color=mv_final)\n",
    ")])\n",
    "\n",
    "fig1.update_layout(title_text=\"Visualization of 3 first principal components\", scene=dict(\n",
    "        xaxis=dict(title=df_train.columns[0]),\n",
    "        yaxis=dict(title=df_train.columns[1]),\n",
    "        zaxis=dict(title=df_train.columns[2])\n",
    "    ))\n",
    "fig1.update_xaxes(range=[-2, 2])\n",
    "fig2.update_yaxes(range=[-2, 2])\n",
    "\n",
    "fig2.update_layout(title_text=\"Visualization of 1, 2, 4 principal component\")\n",
    "fig2.update_layout(title_text=\"Visualization of 3 first principal components\", scene=dict(\n",
    "        xaxis=dict(title=df_train.columns[0]),\n",
    "        yaxis=dict(title=df_train.columns[1]),\n",
    "        zaxis=dict(title=df_train.columns[3])\n",
    "    ))\n",
    "fig2.update_xaxes(range=[-2, 2])\n",
    "fig2.update_yaxes(range=[-2, 2])\n",
    "\n",
    "fig1.show()\n",
    "fig2.show()\n"
   ]
  },
  {
   "cell_type": "code",
   "execution_count": 179,
   "metadata": {},
   "outputs": [
    {
     "name": "stdout",
     "output_type": "stream",
     "text": [
      "          id   age  sex   cp  trestbps   chol  fbs  restecg  thalach  exang  \\\n",
      "label                                                                         \n",
      "0      155.0  54.0  1.0  3.0     130.0  235.5  0.0      0.0    160.5    0.0   \n",
      "1      153.0  58.0  1.0  4.0     130.0  249.0  0.0      2.0    143.0    1.0   \n",
      "2       65.0  52.0  1.0  4.0     120.0  212.0  0.0      0.0    148.0    0.0   \n",
      "3      263.0  59.0  1.0  1.0     134.0  240.0  0.0      0.0    162.0    0.0   \n",
      "\n",
      "       oldpeak  slope  \n",
      "label                  \n",
      "0          0.2    1.0  \n",
      "1          1.4    2.0  \n",
      "2          0.4    1.0  \n",
      "3          1.2    2.0  \n"
     ]
    }
   ],
   "source": [
    "df_mv_final_medians = raw_data.copy()\n",
    "df_mv_final_medians['label'] = mv_final\n",
    "print(medians_for_clusters(df_mv_final_medians))"
   ]
  },
  {
   "attachments": {},
   "cell_type": "markdown",
   "metadata": {},
   "source": [
    "Boxplots for continuous plots"
   ]
  },
  {
   "cell_type": "code",
   "execution_count": 252,
   "metadata": {},
   "outputs": [
    {
     "data": {
      "image/png": "[encoded data removed]",
      "text/plain": [
       "<Figure size 864x576 with 5 Axes>"
      ]
     },
     "metadata": {
      "needs_background": "light"
     },
     "output_type": "display_data"
    }
   ],
   "source": [
    "import matplotlib.pyplot as plt\n",
    "\n",
    "# columns = df_mv_final_medians.columns[df_mv_final_medians.columns != \"label\"]\n",
    "columns = ['age', 'trestbps', 'thalach', 'chol', 'oldpeak']\n",
    "\n",
    "# calculate the number of rows needed\n",
    "num_rows = (len(columns) + 2) // 3 \n",
    "\n",
    "fig, axs = plt.subplots(num_rows, 3, figsize=(12, 4 * num_rows))\n",
    "axs = axs.flatten()\n",
    "\n",
    "for i, col in enumerate(columns):\n",
    "    # create the boxplot for the current column against the \"label\" column\n",
    "    axs[i].boxplot([df_mv_final_medians[col][df_mv_final_medians[\"label\"] == label] for label in sorted(df_mv_final_medians[\"label\"].unique())])\n",
    "    \n",
    "    axs[i].set_xlabel(\"Label\")\n",
    "    axs[i].set_ylabel(col)\n",
    "    \n",
    "    axs[i].set_xticklabels(sorted(df_mv_final_medians[\"label\"].unique()))\n",
    "    axs[i].set_title(f\"{col} vs Label\")\n",
    "\n",
    "# remove any unused subplots\n",
    "if len(columns) < len(axs):\n",
    "    for j in range(len(columns), len(axs)):\n",
    "        fig.delaxes(axs[j])\n",
    "\n",
    "plt.tight_layout()\n",
    "plt.show()"
   ]
  },
  {
   "attachments": {},
   "cell_type": "markdown",
   "metadata": {},
   "source": [
    "Scatter plots"
   ]
  },
  {
   "cell_type": "code",
   "execution_count": 251,
   "metadata": {},
   "outputs": [
    {
     "data": {
      "image/png": "[encoded data removed]",
      "text/plain": [
       "<Figure size 864x576 with 5 Axes>"
      ]
     },
     "metadata": {
      "needs_background": "light"
     },
     "output_type": "display_data"
    }
   ],
   "source": [
    "import matplotlib.pyplot as plt\n",
    "\n",
    "columns = ['age', 'trestbps', 'thalach', 'chol', 'oldpeak']\n",
    "# columns = df_mv_final_medians.columns[df_mv_final_medians.columns != \"label\"]\n",
    "\n",
    "# calculate the number of rows needed\n",
    "num_rows = (len(columns) + 2) // 3  \n",
    "\n",
    "# plot the figures\n",
    "fig, axs = plt.subplots(num_rows, 3, figsize=(12, 4 * num_rows))\n",
    "axs = axs.flatten()\n",
    "\n",
    "for i, col in enumerate(columns):\n",
    "    axs[i].scatter(df_mv_final_medians[\"label\"], df_mv_final_medians[col], s=20, alpha=0.1)  # Set the marker size to 20\n",
    "    \n",
    "    axs[i].set_xlabel(\"Label\")\n",
    "    axs[i].set_ylabel(col)\n",
    "    \n",
    "    axs[i].set_xticks([0, 1, 2, 3])\n",
    "    axs[i].set_title(f\"{col} vs Label\")\n",
    "\n",
    "if len(columns) < len(axs):\n",
    "    for j in range(len(columns), len(axs)):\n",
    "        fig.delaxes(axs[j])\n",
    "\n",
    "plt.tight_layout()\n",
    "plt.show()"
   ]
  },
  {
   "attachments": {},
   "cell_type": "markdown",
   "metadata": {},
   "source": [
    "Modes for not continous columns"
   ]
  },
  {
   "cell_type": "code",
   "execution_count": 250,
   "metadata": {},
   "outputs": [
    {
     "name": "stdout",
     "output_type": "stream",
     "text": [
      "0      sex  cp  fbs  restecg  exang  slope\n",
      "label                                     \n",
      "0        1   3    0        0      0      1\n",
      "1        1   4    0        2      1      2\n",
      "2        1   4    0        0      0      1\n",
      "3        1   1    0        0      0      2\n"
     ]
    }
   ],
   "source": [
    "exclude_columns = ['age', 'trestbps', 'thalach', 'chol', 'oldpeak', 'label', 'id']\n",
    "mode_columns = df_mv_final_medians.columns[~df_mv_final_medians.columns.isin(exclude_columns)]\n",
    "column_modes = df_mv_final_medians.groupby('label')[mode_columns].apply(lambda x: x.mode().iloc[0])\n",
    "print(column_modes)\n",
    "\n"
   ]
  },
  {
   "attachments": {},
   "cell_type": "markdown",
   "metadata": {},
   "source": [
    "TEST"
   ]
  },
  {
   "cell_type": "code",
   "execution_count": 167,
   "metadata": {},
   "outputs": [],
   "source": [
    "df_test = pd.read_csv('test.csv')\n",
    "raw_data_test = df_test.copy()\n",
    "df_test = preprocessing(df_test, rem_over=True, process='minmax')"
   ]
  },
  {
   "cell_type": "code",
   "execution_count": 173,
   "metadata": {},
   "outputs": [
    {
     "name": "stdout",
     "output_type": "stream",
     "text": [
      "Number of clusters: 4\n"
     ]
    }
   ],
   "source": [
    "df_mini_test, model = minibatch_alg(df_test, num_clusters=4)\n",
    "y_mini_test = df_mini_test['label']\n",
    "df_gmm_test, model = gmm_alg(df_test, n_components=4)\n",
    "y_gmm_test = df_gmm_test['label']\n",
    "df_dbscan_test, model = dbscan(df_test, 'minmax')\n",
    "y_dbscan_test = df_dbscan_test['label']\n",
    "y_dbscan_test = change_to_positive_labels(y_dbscan_test)\n",
    "df_kmeans_test, model = k_means_alg(df_test, num_clusters=4)\n",
    "y_kmeans_test = df_kmeans_test['label']\n",
    "agg_cluster = AgglomerativeClustering(n_clusters=4, linkage='single')\n",
    "agg_labels_test = agg_cluster.fit_predict(df_test)\n"
   ]
  },
  {
   "cell_type": "code",
   "execution_count": 174,
   "metadata": {},
   "outputs": [],
   "source": [
    "mv_final_test = majority_voting([y_mini_test, y_gmm_test, y_dbscan_test, y_kmeans_test, agg_labels_test])"
   ]
  },
  {
   "cell_type": "code",
   "execution_count": 176,
   "metadata": {},
   "outputs": [
    {
     "name": "stdout",
     "output_type": "stream",
     "text": [
      "          id   age  sex   cp  trestbps   chol  fbs  restecg  thalach  exang  \\\n",
      "label                                                                         \n",
      "0      194.0  49.0  1.0  3.0     130.0  233.0  0.0      0.0    150.0    0.0   \n",
      "1      153.0  57.0  1.0  4.0     130.0  247.0  0.0      2.0    144.0    0.0   \n",
      "3      133.0  52.0  1.0  2.0     128.0  245.0  0.0      2.0    162.0    0.0   \n",
      "\n",
      "       oldpeak  slope  \n",
      "label                  \n",
      "0          0.6    2.0  \n",
      "1          0.8    2.0  \n",
      "3          0.2    1.0  \n"
     ]
    }
   ],
   "source": [
    "df_mv_final_test_medians = raw_data_test.copy()\n",
    "df_mv_final_test_medians['label'] = mv_final_test\n",
    "print(medians_for_clusters(df_mv_final_test_medians))"
   ]
  }
 ],
 "metadata": {
  "kernelspec": {
   "display_name": "Python 3 (ipykernel)",
   "language": "python",
   "name": "python3"
  },
  "language_info": {
   "codemirror_mode": {
    "name": "ipython",
    "version": 3
   },
   "file_extension": ".py",
   "mimetype": "text/x-python",
   "name": "python",
   "nbconvert_exporter": "python",
   "pygments_lexer": "ipython3",
   "version": "3.9.7"
  }
 },
 "nbformat": 4,
 "nbformat_minor": 2
}
