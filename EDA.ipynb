{
 "cells": [
  {
   "attachments": {},
   "cell_type": "markdown",
   "metadata": {},
   "source": [
    "## Heart disease patients clasterization\n",
    "Tymoteusz Urban, Karolina Mączka"
   ]
  },
  {
   "cell_type": "code",
   "execution_count": 3,
   "metadata": {},
   "outputs": [],
   "source": [
    "import pandas as pd\n",
    "import numpy as np\n",
    "import seaborn as sns\n",
    "import matplotlib.pyplot as plt\n",
    "# from statsmodels.stats.outliers_influence import variance_inflation_factor\n",
    "from sklearn.decomposition import PCA\n",
    "from sklearn.preprocessing import StandardScaler, Normalizer, MinMaxScaler\n",
    "from sklearn.cluster import KMeans\n",
    "from sklearn.metrics import silhouette_score, calinski_harabasz_score, davies_bouldin_score\n",
    "from sklearn.model_selection import train_test_split"
   ]
  },
  {
   "cell_type": "code",
   "execution_count": 4,
   "metadata": {},
   "outputs": [],
   "source": [
    "import warnings\n",
    "warnings.filterwarnings(\"ignore\")"
   ]
  },
  {
   "attachments": {},
   "cell_type": "markdown",
   "metadata": {},
   "source": [
    "### Dividing dataset and saving to files"
   ]
  },
  {
   "cell_type": "code",
   "execution_count": 5,
   "metadata": {},
   "outputs": [],
   "source": [
    "df = pd.read_csv('heart_disease_patients.csv')\n",
    "\n",
    "# Split data into train and remaining data\n",
    "X_train, X_remaining = train_test_split(df, test_size=0.3, random_state=42)\n",
    "\n",
    "# Split remaining data into test and validation sets\n",
    "X_test, X_validation = train_test_split(X_remaining, test_size=0.5, random_state=42)\n",
    "\n",
    "train_df = pd.DataFrame(X_train) \n",
    "train_df.to_csv('train.csv', index=False)\n",
    "\n",
    "test_df = pd.DataFrame(X_test)  \n",
    "test_df.to_csv('test.csv', index=False)\n",
    "\n",
    "validation_df = pd.DataFrame(X_validation)\n",
    "validation_df.to_csv('validation.csv', index=False)\n"
   ]
  },
  {
   "attachments": {},
   "cell_type": "markdown",
   "metadata": {},
   "source": [
    "## Data exploration"
   ]
  },
  {
   "cell_type": "code",
   "execution_count": 6,
   "metadata": {},
   "outputs": [
    {
     "name": "stdout",
     "output_type": "stream",
     "text": [
      "   age  sex  cp  trestbps  chol  fbs  restecg  thalach  exang  oldpeak  slope\n",
      "0   65    1   1       138   282    1        2      174      0      1.4      2\n",
      "1   62    1   4       120   267    0        0       99      1      1.8      2\n",
      "2   57    1   3       150   168    0        0      174      0      1.6      1\n",
      "3   57    1   4       140   192    0        0      148      0      0.4      2\n",
      "4   58    0   4       100   248    0        2      122      0      1.0      2\n"
     ]
    }
   ],
   "source": [
    "df = pd.read_csv('train.csv')\n",
    "df.drop('id', axis=1, inplace=True)\n",
    "raw_data = df.copy()\n",
    "print(df.head())"
   ]
  },
  {
   "attachments": {},
   "cell_type": "markdown",
   "metadata": {},
   "source": [
    "1. age - age in years (male risk > 55, female risk > 65)\n",
    "2. sex - sex (1 = male; 0 = female)\n",
    "3. cp - chest pain type (1 = typical angina; 2 = atypical angina; 3 = non-anginal pain; 4 = asymptomatic)\n",
    "4. trestbps - resting blood pressure (in mm Hg on admission to the hospital, 80 norm, 90< overpressure)\n",
    "5. chol - serum cholestoral in mg/dl\n",
    "6. fbs - fasting blood sugar > 120 mg/dl (1 = true; 0 = false, diabetes)\n",
    "7. restecg - resting electrocardiographic results (0 = normal; 1 = having ST-T; 2 = hypertrophy)\n",
    "8. thalach - maximum heart rate achieved\n",
    "9. exang - exercise induced angina (1 = yes; 0 = no)\n",
    "10. oldpeak - ST depression induced by exercise relative to rest\n",
    "11. slope - the slope of the peak exercise ST segment (1 = upsloping; 2 = flat; 3 = downsloping, flat is good)"
   ]
  },
  {
   "cell_type": "code",
   "execution_count": 8,
   "metadata": {},
   "outputs": [
    {
     "name": "stdout",
     "output_type": "stream",
     "text": [
      "<class 'pandas.core.frame.DataFrame'>\n",
      "RangeIndex: 212 entries, 0 to 211\n",
      "Data columns (total 11 columns):\n",
      " #   Column    Non-Null Count  Dtype  \n",
      "---  ------    --------------  -----  \n",
      " 0   age       212 non-null    int64  \n",
      " 1   sex       212 non-null    int64  \n",
      " 2   cp        212 non-null    int64  \n",
      " 3   trestbps  212 non-null    int64  \n",
      " 4   chol      212 non-null    int64  \n",
      " 5   fbs       212 non-null    int64  \n",
      " 6   restecg   212 non-null    int64  \n",
      " 7   thalach   212 non-null    int64  \n",
      " 8   exang     212 non-null    int64  \n",
      " 9   oldpeak   212 non-null    float64\n",
      " 10  slope     212 non-null    int64  \n",
      "dtypes: float64(1), int64(10)\n",
      "memory usage: 18.3 KB\n"
     ]
    }
   ],
   "source": [
    "df.info()"
   ]
  },
  {
   "cell_type": "code",
   "execution_count": 9,
   "metadata": {},
   "outputs": [
    {
     "data": {
      "text/plain": [
       "age         0\n",
       "sex         0\n",
       "cp          0\n",
       "trestbps    0\n",
       "chol        0\n",
       "fbs         0\n",
       "restecg     0\n",
       "thalach     0\n",
       "exang       0\n",
       "oldpeak     0\n",
       "slope       0\n",
       "dtype: int64"
      ]
     },
     "execution_count": 9,
     "metadata": {},
     "output_type": "execute_result"
    }
   ],
   "source": [
    "df.isnull().sum()"
   ]
  },
  {
   "attachments": {},
   "cell_type": "markdown",
   "metadata": {},
   "source": [
    "There are no null values, all variables are clean and properly prepared."
   ]
  },
  {
   "cell_type": "code",
   "execution_count": 6,
   "metadata": {},
   "outputs": [
    {
     "data": {
      "text/plain": [
       "array([[<Axes: title={'center': 'age'}>, <Axes: title={'center': 'sex'}>,\n",
       "        <Axes: title={'center': 'cp'}>],\n",
       "       [<Axes: title={'center': 'trestbps'}>,\n",
       "        <Axes: title={'center': 'chol'}>,\n",
       "        <Axes: title={'center': 'fbs'}>],\n",
       "       [<Axes: title={'center': 'restecg'}>,\n",
       "        <Axes: title={'center': 'thalach'}>,\n",
       "        <Axes: title={'center': 'exang'}>],\n",
       "       [<Axes: title={'center': 'oldpeak'}>,\n",
       "        <Axes: title={'center': 'slope'}>, <Axes: >]], dtype=object)"
      ]
     },
     "execution_count": 6,
     "metadata": {},
     "output_type": "execute_result"
    },
    {
     "data": {
      "image/png": "[encoded data removed]",
      "text/plain": [
       "<Figure size 1000x1000 with 12 Axes>"
      ]
     },
     "metadata": {},
     "output_type": "display_data"
    }
   ],
   "source": [
    "df.hist(figsize=(10,10))"
   ]
  },
  {
   "attachments": {},
   "cell_type": "markdown",
   "metadata": {
    "collapsed": false
   },
   "source": [
    "Restecg looks strange as if there were no values 1. Let's check it:"
   ]
  },
  {
   "cell_type": "code",
   "execution_count": 7,
   "metadata": {
    "collapsed": false
   },
   "outputs": [
    {
     "data": {
      "text/plain": [
       "restecg\n",
       "0    107\n",
       "2    104\n",
       "1      1\n",
       "Name: count, dtype: int64"
      ]
     },
     "execution_count": 7,
     "metadata": {},
     "output_type": "execute_result"
    }
   ],
   "source": [
    "df['restecg'].value_counts()"
   ]
  },
  {
   "attachments": {},
   "cell_type": "markdown",
   "metadata": {
    "collapsed": false
   },
   "source": [
    "There is only one value 1, so we will treat it as an outlier."
   ]
  },
  {
   "cell_type": "code",
   "execution_count": 8,
   "metadata": {},
   "outputs": [
    {
     "data": {
      "text/plain": [
       "<Axes: >"
      ]
     },
     "execution_count": 8,
     "metadata": {},
     "output_type": "execute_result"
    },
    {
     "data": {
      "image/png": "[encoded data removed]",
      "text/plain": [
       "<Figure size 640x480 with 2 Axes>"
      ]
     },
     "metadata": {},
     "output_type": "display_data"
    }
   ],
   "source": [
    "sns.heatmap(df.corr())"
   ]
  },
  {
   "attachments": {},
   "cell_type": "markdown",
   "metadata": {},
   "source": [
    "There is quite high correlation between oldpeak and slope and also between cp and exang, but is it big enough to delete any of the columns? Also, there is negative correlation between thalach and: age, cp, exang, oldpeak, slope."
   ]
  },
  {
   "cell_type": "code",
   "execution_count": 9,
   "metadata": {},
   "outputs": [
    {
     "name": "stdout",
     "output_type": "stream",
     "text": [
      "oldpeak and slope correlation: 0.5458278072906251\n",
      "cp and exang correlation: 0.39916290470356114\n",
      "thalach and age correlation: -0.4149739322362583\n",
      "thalach and slope correlation: -0.40644733868269406\n"
     ]
    }
   ],
   "source": [
    "print(f\"oldpeak and slope correlation: {df[['oldpeak', 'slope']].corr().iloc[0,1]}\")\n",
    "print(f\"cp and exang correlation: {df[['cp', 'exang']].corr().iloc[0,1]}\")\n",
    "print(f\"thalach and age correlation: {df[['thalach', 'age']].corr().iloc[0,1]}\")\n",
    "print(f\"thalach and slope correlation: {df[['thalach', 'slope']].corr().iloc[0,1]}\")"
   ]
  },
  {
   "cell_type": "code",
   "execution_count": 10,
   "metadata": {
    "collapsed": false
   },
   "outputs": [
    {
     "data": {
      "image/png": "[encoded data removed]",
      "text/plain": [
       "<Figure size 640x480 with 1 Axes>"
      ]
     },
     "metadata": {},
     "output_type": "display_data"
    }
   ],
   "source": [
    "plt.scatter(df['slope'], df['oldpeak'])\n",
    "plt.xlabel('Slope')\n",
    "plt.ylabel('Oldpeak')\n",
    "plt.show()"
   ]
  },
  {
   "cell_type": "code",
   "execution_count": 11,
   "metadata": {
    "collapsed": false
   },
   "outputs": [
    {
     "data": {
      "image/png": "[encoded data removed]",
      "text/plain": [
       "<Figure size 640x480 with 1 Axes>"
      ]
     },
     "metadata": {},
     "output_type": "display_data"
    }
   ],
   "source": [
    "plt.scatter(df['thalach'], df['age'])\n",
    "plt.xlabel('Thalach')\n",
    "plt.ylabel('Age')\n",
    "plt.show()"
   ]
  },
  {
   "cell_type": "code",
   "execution_count": 12,
   "metadata": {},
   "outputs": [],
   "source": [
    "# Another approach\n",
    "def calc_vif(X):\n",
    "    vif = pd.DataFrame()\n",
    "    vif[\"variables\"] = X.columns\n",
    "    vif[\"VIF\"] = [variance_inflation_factor(X.values, i) for i in range(X.shape[1])]\n",
    "    return vif"
   ]
  },
  {
   "cell_type": "code",
   "execution_count": 13,
   "metadata": {},
   "outputs": [
    {
     "data": {
      "text/html": [
       "<div>\n",
       "<style scoped>\n",
       "    .dataframe tbody tr th:only-of-type {\n",
       "        vertical-align: middle;\n",
       "    }\n",
       "\n",
       "    .dataframe tbody tr th {\n",
       "        vertical-align: top;\n",
       "    }\n",
       "\n",
       "    .dataframe thead th {\n",
       "        text-align: right;\n",
       "    }\n",
       "</style>\n",
       "<table border=\"1\" class=\"dataframe\">\n",
       "  <thead>\n",
       "    <tr style=\"text-align: right;\">\n",
       "      <th></th>\n",
       "      <th>variables</th>\n",
       "      <th>VIF</th>\n",
       "    </tr>\n",
       "  </thead>\n",
       "  <tbody>\n",
       "    <tr>\n",
       "      <th>0</th>\n",
       "      <td>age</td>\n",
       "      <td>39.346948</td>\n",
       "    </tr>\n",
       "    <tr>\n",
       "      <th>1</th>\n",
       "      <td>sex</td>\n",
       "      <td>3.095046</td>\n",
       "    </tr>\n",
       "    <tr>\n",
       "      <th>2</th>\n",
       "      <td>cp</td>\n",
       "      <td>12.426015</td>\n",
       "    </tr>\n",
       "    <tr>\n",
       "      <th>3</th>\n",
       "      <td>trestbps</td>\n",
       "      <td>58.483209</td>\n",
       "    </tr>\n",
       "    <tr>\n",
       "      <th>4</th>\n",
       "      <td>chol</td>\n",
       "      <td>29.128519</td>\n",
       "    </tr>\n",
       "    <tr>\n",
       "      <th>5</th>\n",
       "      <td>fbs</td>\n",
       "      <td>1.200710</td>\n",
       "    </tr>\n",
       "    <tr>\n",
       "      <th>6</th>\n",
       "      <td>restecg</td>\n",
       "      <td>2.136638</td>\n",
       "    </tr>\n",
       "    <tr>\n",
       "      <th>7</th>\n",
       "      <td>thalach</td>\n",
       "      <td>34.543369</td>\n",
       "    </tr>\n",
       "    <tr>\n",
       "      <th>8</th>\n",
       "      <td>exang</td>\n",
       "      <td>2.081073</td>\n",
       "    </tr>\n",
       "    <tr>\n",
       "      <th>9</th>\n",
       "      <td>oldpeak</td>\n",
       "      <td>2.720192</td>\n",
       "    </tr>\n",
       "    <tr>\n",
       "      <th>10</th>\n",
       "      <td>slope</td>\n",
       "      <td>10.545887</td>\n",
       "    </tr>\n",
       "  </tbody>\n",
       "</table>\n",
       "</div>"
      ],
      "text/plain": [
       "   variables        VIF\n",
       "0        age  39.346948\n",
       "1        sex   3.095046\n",
       "2         cp  12.426015\n",
       "3   trestbps  58.483209\n",
       "4       chol  29.128519\n",
       "5        fbs   1.200710\n",
       "6    restecg   2.136638\n",
       "7    thalach  34.543369\n",
       "8      exang   2.081073\n",
       "9    oldpeak   2.720192\n",
       "10     slope  10.545887"
      ]
     },
     "execution_count": 13,
     "metadata": {},
     "output_type": "execute_result"
    }
   ],
   "source": [
    "calc_vif(df)"
   ]
  },
  {
   "attachments": {},
   "cell_type": "markdown",
   "metadata": {},
   "source": [
    "Which variables should we drop? According to traditional correlation between variables it could be slope, but after calculating VIF it seems that age, trestbps, chol and thalach are highly correlated with the other variables. So from both methods thalach column is a candidate to delete."
   ]
  },
  {
   "attachments": {},
   "cell_type": "markdown",
   "metadata": {},
   "source": [
    "## Preprocessing"
   ]
  },
  {
   "cell_type": "code",
   "execution_count": 7,
   "metadata": {},
   "outputs": [],
   "source": [
    "# Outliers removal - replace lower_bound and upper_bound, only numeric columns\n",
    "def replace_outliers(data, k=1.5):\n",
    "    \"\"\"\n",
    "    Removes outliers from a pandas DataFrame using the interquartile range (IQR) method.\n",
    "\n",
    "    :param data: dataframe\n",
    "    :param k: A multiplier to adjust the outlier threshold. By default, k is set to 1.5.\n",
    "    :return: dataframe\n",
    "    \"\"\"\n",
    "    data = data.copy()\n",
    "    for col in ['age', 'trestbps', 'chol', 'thalach', 'oldpeak']:\n",
    "        q1, q3 = np.percentile(data[col], [25, 75])\n",
    "        iqr = q3 - q1\n",
    "        lower_bound = q1 - k * iqr\n",
    "        upper_bound = q3 + k * iqr\n",
    "        mask = (data[col] < lower_bound)\n",
    "        data.loc[mask, col] = lower_bound\n",
    "        mask = (data[col] > upper_bound)\n",
    "        data.loc[mask, col] = upper_bound\n",
    "\n",
    "    value = data['restecg'].value_counts().idxmax()\n",
    "    data['restecg'] = data['restecg'].replace(1, value)\n",
    "    data['restecg'] = data['restecg'].replace(2, 1) # make restecg a boolean column: 1 means hypertrophy, 0 is normal\n",
    "\n",
    "    return data"
   ]
  },
  {
   "cell_type": "code",
   "execution_count": 8,
   "metadata": {
    "collapsed": false
   },
   "outputs": [],
   "source": [
    "#  Encode chest pain type column\n",
    "def encode_columns(data):\n",
    "    \"\"\"\n",
    "        Encodes categorical column cp (chest pain type)\n",
    "\n",
    "    :param data: Dataframe\n",
    "    :return: Encoded dataframe\n",
    "    \"\"\"\n",
    "    data = data.copy()\n",
    "    data = pd.get_dummies(data, columns=['cp'], prefix='cp', dtype=int)\n",
    "    data = data.rename(columns={\"cp_1\": \"cp_typ_ang\", \"cp_2\": \"cp_atyp_ang\", \"cp_3\": \"cp_non_ang\", \"cp_4\": \"cp_asympt\"})\n",
    "    return data"
   ]
  },
  {
   "cell_type": "code",
   "execution_count": 9,
   "metadata": {},
   "outputs": [],
   "source": [
    "# Instead manual deletion of variables we could use PCA for reducing dimensionality\n",
    "def remove_overshadowing(data):\n",
    "    \"\"\"\n",
    "    Performs Principal Component Analysis (PCA) on a given dataset.\n",
    "\n",
    "    :param data: dataframe\n",
    "    :return:\n",
    "            A reduced version of the input DataFrame, containing the first n principal components\n",
    "            where n is the smallest number of components that explain at least 95% of the variance in the data.\n",
    "            The columns of the new DataFrame are named \"PC1\", \"PC2\", etc.\n",
    "\n",
    "    \"\"\"\n",
    "    # Perform PCA\n",
    "    pca = PCA()\n",
    "    X_pca = pca.fit_transform(data)\n",
    "\n",
    "    # Determine the number of principal components to retain\n",
    "    explained_variances = pca.explained_variance_ratio_\n",
    "    cumulative_variances = np.cumsum(explained_variances)\n",
    "    n_components = np.argmax(cumulative_variances > 0.95) + 1\n",
    "\n",
    "    # Retain the first n principal components\n",
    "    X_reduced = X_pca[:, :n_components]\n",
    "\n",
    "    # Convert back to a pandas DataFrame\n",
    "    df_reduced = pd.DataFrame(X_reduced, columns=[\"PC\"+str(i) for i in range(1, n_components+1)])\n",
    "    \n",
    "    return df_reduced"
   ]
  },
  {
   "attachments": {},
   "cell_type": "markdown",
   "metadata": {},
   "source": [
    "We will also need to scale our data - we can try 3 different ways to do it. We will test it later."
   ]
  },
  {
   "cell_type": "code",
   "execution_count": 10,
   "metadata": {},
   "outputs": [],
   "source": [
    "def standarize(X):\n",
    "    scaler = StandardScaler()\n",
    "    X_scaled = scaler.fit_transform(X)\n",
    "    X = pd.DataFrame(X_scaled, columns=X.columns)\n",
    "    return X\n",
    "\n",
    "\n",
    "def normalize(X):\n",
    "    normalizer = Normalizer()\n",
    "    X_normalized = normalizer.fit_transform(X)\n",
    "    X = pd.DataFrame(X_normalized, columns=X.columns)\n",
    "    return X\n",
    "\n",
    "\n",
    "def minmax(X):\n",
    "    minmaxer = MinMaxScaler()\n",
    "    X_scaled = minmaxer.fit_transform(X)\n",
    "    X = pd.DataFrame(X_scaled, columns=X.columns, index=X.index)\n",
    "    return X"
   ]
  },
  {
   "cell_type": "code",
   "execution_count": 18,
   "metadata": {},
   "outputs": [
    {
     "data": {
      "text/html": [
       "<div>\n",
       "<style scoped>\n",
       "    .dataframe tbody tr th:only-of-type {\n",
       "        vertical-align: middle;\n",
       "    }\n",
       "\n",
       "    .dataframe tbody tr th {\n",
       "        vertical-align: top;\n",
       "    }\n",
       "\n",
       "    .dataframe thead th {\n",
       "        text-align: right;\n",
       "    }\n",
       "</style>\n",
       "<table border=\"1\" class=\"dataframe\">\n",
       "  <thead>\n",
       "    <tr style=\"text-align: right;\">\n",
       "      <th></th>\n",
       "      <th>age</th>\n",
       "      <th>sex</th>\n",
       "      <th>cp</th>\n",
       "      <th>trestbps</th>\n",
       "      <th>chol</th>\n",
       "      <th>fbs</th>\n",
       "      <th>restecg</th>\n",
       "      <th>thalach</th>\n",
       "      <th>exang</th>\n",
       "      <th>oldpeak</th>\n",
       "      <th>slope</th>\n",
       "    </tr>\n",
       "  </thead>\n",
       "  <tbody>\n",
       "    <tr>\n",
       "      <th>0</th>\n",
       "      <td>65</td>\n",
       "      <td>1</td>\n",
       "      <td>1</td>\n",
       "      <td>138</td>\n",
       "      <td>282</td>\n",
       "      <td>1</td>\n",
       "      <td>2</td>\n",
       "      <td>174</td>\n",
       "      <td>0</td>\n",
       "      <td>1.4</td>\n",
       "      <td>2</td>\n",
       "    </tr>\n",
       "    <tr>\n",
       "      <th>1</th>\n",
       "      <td>62</td>\n",
       "      <td>1</td>\n",
       "      <td>4</td>\n",
       "      <td>120</td>\n",
       "      <td>267</td>\n",
       "      <td>0</td>\n",
       "      <td>0</td>\n",
       "      <td>99</td>\n",
       "      <td>1</td>\n",
       "      <td>1.8</td>\n",
       "      <td>2</td>\n",
       "    </tr>\n",
       "    <tr>\n",
       "      <th>2</th>\n",
       "      <td>57</td>\n",
       "      <td>1</td>\n",
       "      <td>3</td>\n",
       "      <td>150</td>\n",
       "      <td>168</td>\n",
       "      <td>0</td>\n",
       "      <td>0</td>\n",
       "      <td>174</td>\n",
       "      <td>0</td>\n",
       "      <td>1.6</td>\n",
       "      <td>1</td>\n",
       "    </tr>\n",
       "    <tr>\n",
       "      <th>3</th>\n",
       "      <td>57</td>\n",
       "      <td>1</td>\n",
       "      <td>4</td>\n",
       "      <td>140</td>\n",
       "      <td>192</td>\n",
       "      <td>0</td>\n",
       "      <td>0</td>\n",
       "      <td>148</td>\n",
       "      <td>0</td>\n",
       "      <td>0.4</td>\n",
       "      <td>2</td>\n",
       "    </tr>\n",
       "    <tr>\n",
       "      <th>4</th>\n",
       "      <td>58</td>\n",
       "      <td>0</td>\n",
       "      <td>4</td>\n",
       "      <td>100</td>\n",
       "      <td>248</td>\n",
       "      <td>0</td>\n",
       "      <td>2</td>\n",
       "      <td>122</td>\n",
       "      <td>0</td>\n",
       "      <td>1.0</td>\n",
       "      <td>2</td>\n",
       "    </tr>\n",
       "    <tr>\n",
       "      <th>...</th>\n",
       "      <td>...</td>\n",
       "      <td>...</td>\n",
       "      <td>...</td>\n",
       "      <td>...</td>\n",
       "      <td>...</td>\n",
       "      <td>...</td>\n",
       "      <td>...</td>\n",
       "      <td>...</td>\n",
       "      <td>...</td>\n",
       "      <td>...</td>\n",
       "      <td>...</td>\n",
       "    </tr>\n",
       "    <tr>\n",
       "      <th>207</th>\n",
       "      <td>54</td>\n",
       "      <td>1</td>\n",
       "      <td>2</td>\n",
       "      <td>192</td>\n",
       "      <td>283</td>\n",
       "      <td>0</td>\n",
       "      <td>2</td>\n",
       "      <td>195</td>\n",
       "      <td>0</td>\n",
       "      <td>0.0</td>\n",
       "      <td>1</td>\n",
       "    </tr>\n",
       "    <tr>\n",
       "      <th>208</th>\n",
       "      <td>67</td>\n",
       "      <td>1</td>\n",
       "      <td>4</td>\n",
       "      <td>125</td>\n",
       "      <td>254</td>\n",
       "      <td>1</td>\n",
       "      <td>0</td>\n",
       "      <td>163</td>\n",
       "      <td>0</td>\n",
       "      <td>0.2</td>\n",
       "      <td>2</td>\n",
       "    </tr>\n",
       "    <tr>\n",
       "      <th>209</th>\n",
       "      <td>59</td>\n",
       "      <td>1</td>\n",
       "      <td>4</td>\n",
       "      <td>140</td>\n",
       "      <td>177</td>\n",
       "      <td>0</td>\n",
       "      <td>0</td>\n",
       "      <td>162</td>\n",
       "      <td>1</td>\n",
       "      <td>0.0</td>\n",
       "      <td>1</td>\n",
       "    </tr>\n",
       "    <tr>\n",
       "      <th>210</th>\n",
       "      <td>61</td>\n",
       "      <td>1</td>\n",
       "      <td>4</td>\n",
       "      <td>140</td>\n",
       "      <td>207</td>\n",
       "      <td>0</td>\n",
       "      <td>2</td>\n",
       "      <td>138</td>\n",
       "      <td>1</td>\n",
       "      <td>1.9</td>\n",
       "      <td>1</td>\n",
       "    </tr>\n",
       "    <tr>\n",
       "      <th>211</th>\n",
       "      <td>57</td>\n",
       "      <td>0</td>\n",
       "      <td>4</td>\n",
       "      <td>128</td>\n",
       "      <td>303</td>\n",
       "      <td>0</td>\n",
       "      <td>2</td>\n",
       "      <td>159</td>\n",
       "      <td>0</td>\n",
       "      <td>0.0</td>\n",
       "      <td>1</td>\n",
       "    </tr>\n",
       "  </tbody>\n",
       "</table>\n",
       "<p>212 rows × 11 columns</p>\n",
       "</div>"
      ],
      "text/plain": [
       "     age  sex  cp  trestbps  chol  fbs  restecg  thalach  exang  oldpeak  \\\n",
       "0     65    1   1       138   282    1        2      174      0      1.4   \n",
       "1     62    1   4       120   267    0        0       99      1      1.8   \n",
       "2     57    1   3       150   168    0        0      174      0      1.6   \n",
       "3     57    1   4       140   192    0        0      148      0      0.4   \n",
       "4     58    0   4       100   248    0        2      122      0      1.0   \n",
       "..   ...  ...  ..       ...   ...  ...      ...      ...    ...      ...   \n",
       "207   54    1   2       192   283    0        2      195      0      0.0   \n",
       "208   67    1   4       125   254    1        0      163      0      0.2   \n",
       "209   59    1   4       140   177    0        0      162      1      0.0   \n",
       "210   61    1   4       140   207    0        2      138      1      1.9   \n",
       "211   57    0   4       128   303    0        2      159      0      0.0   \n",
       "\n",
       "     slope  \n",
       "0        2  \n",
       "1        2  \n",
       "2        1  \n",
       "3        2  \n",
       "4        2  \n",
       "..     ...  \n",
       "207      1  \n",
       "208      2  \n",
       "209      1  \n",
       "210      1  \n",
       "211      1  \n",
       "\n",
       "[212 rows x 11 columns]"
      ]
     },
     "execution_count": 18,
     "metadata": {},
     "output_type": "execute_result"
    }
   ],
   "source": [
    "df"
   ]
  },
  {
   "cell_type": "code",
   "execution_count": 11,
   "metadata": {},
   "outputs": [
    {
     "data": {
      "text/html": [
       "<div>\n",
       "<style scoped>\n",
       "    .dataframe tbody tr th:only-of-type {\n",
       "        vertical-align: middle;\n",
       "    }\n",
       "\n",
       "    .dataframe tbody tr th {\n",
       "        vertical-align: top;\n",
       "    }\n",
       "\n",
       "    .dataframe thead th {\n",
       "        text-align: right;\n",
       "    }\n",
       "</style>\n",
       "<table border=\"1\" class=\"dataframe\">\n",
       "  <thead>\n",
       "    <tr style=\"text-align: right;\">\n",
       "      <th></th>\n",
       "      <th>PC1</th>\n",
       "      <th>PC2</th>\n",
       "      <th>PC3</th>\n",
       "      <th>PC4</th>\n",
       "      <th>PC5</th>\n",
       "      <th>PC6</th>\n",
       "      <th>PC7</th>\n",
       "      <th>PC8</th>\n",
       "      <th>PC9</th>\n",
       "      <th>PC10</th>\n",
       "    </tr>\n",
       "  </thead>\n",
       "  <tbody>\n",
       "    <tr>\n",
       "      <th>0</th>\n",
       "      <td>-0.132617</td>\n",
       "      <td>0.426787</td>\n",
       "      <td>0.433962</td>\n",
       "      <td>0.891037</td>\n",
       "      <td>0.798188</td>\n",
       "      <td>-0.388303</td>\n",
       "      <td>0.527402</td>\n",
       "      <td>0.477042</td>\n",
       "      <td>-0.117244</td>\n",
       "      <td>-0.160859</td>\n",
       "    </tr>\n",
       "    <tr>\n",
       "      <th>1</th>\n",
       "      <td>0.910406</td>\n",
       "      <td>-0.637786</td>\n",
       "      <td>0.181633</td>\n",
       "      <td>-0.365014</td>\n",
       "      <td>0.062484</td>\n",
       "      <td>0.035384</td>\n",
       "      <td>-0.166866</td>\n",
       "      <td>-0.103250</td>\n",
       "      <td>0.145059</td>\n",
       "      <td>-0.310922</td>\n",
       "    </tr>\n",
       "    <tr>\n",
       "      <th>2</th>\n",
       "      <td>-0.799262</td>\n",
       "      <td>-0.282356</td>\n",
       "      <td>0.649245</td>\n",
       "      <td>-0.174409</td>\n",
       "      <td>-0.256103</td>\n",
       "      <td>-0.225534</td>\n",
       "      <td>-0.086299</td>\n",
       "      <td>-0.021977</td>\n",
       "      <td>0.214752</td>\n",
       "      <td>0.316420</td>\n",
       "    </tr>\n",
       "    <tr>\n",
       "      <th>3</th>\n",
       "      <td>0.282105</td>\n",
       "      <td>-0.522200</td>\n",
       "      <td>-0.096707</td>\n",
       "      <td>-0.033347</td>\n",
       "      <td>-0.163912</td>\n",
       "      <td>-0.664081</td>\n",
       "      <td>-0.012473</td>\n",
       "      <td>-0.203405</td>\n",
       "      <td>0.036688</td>\n",
       "      <td>-0.112053</td>\n",
       "    </tr>\n",
       "    <tr>\n",
       "      <th>4</th>\n",
       "      <td>0.382437</td>\n",
       "      <td>0.677170</td>\n",
       "      <td>-0.691201</td>\n",
       "      <td>-0.180314</td>\n",
       "      <td>-0.086393</td>\n",
       "      <td>-0.344277</td>\n",
       "      <td>-0.123727</td>\n",
       "      <td>-0.218404</td>\n",
       "      <td>-0.274267</td>\n",
       "      <td>-0.327804</td>\n",
       "    </tr>\n",
       "    <tr>\n",
       "      <th>...</th>\n",
       "      <td>...</td>\n",
       "      <td>...</td>\n",
       "      <td>...</td>\n",
       "      <td>...</td>\n",
       "      <td>...</td>\n",
       "      <td>...</td>\n",
       "      <td>...</td>\n",
       "      <td>...</td>\n",
       "      <td>...</td>\n",
       "      <td>...</td>\n",
       "    </tr>\n",
       "    <tr>\n",
       "      <th>207</th>\n",
       "      <td>-0.465364</td>\n",
       "      <td>0.065390</td>\n",
       "      <td>-0.357721</td>\n",
       "      <td>1.063195</td>\n",
       "      <td>-0.126054</td>\n",
       "      <td>0.416202</td>\n",
       "      <td>0.122289</td>\n",
       "      <td>-0.048420</td>\n",
       "      <td>0.456757</td>\n",
       "      <td>0.366300</td>\n",
       "    </tr>\n",
       "    <tr>\n",
       "      <th>208</th>\n",
       "      <td>0.248736</td>\n",
       "      <td>-0.460210</td>\n",
       "      <td>0.045179</td>\n",
       "      <td>-0.020140</td>\n",
       "      <td>0.167596</td>\n",
       "      <td>-0.678671</td>\n",
       "      <td>0.897341</td>\n",
       "      <td>-0.256596</td>\n",
       "      <td>-0.059555</td>\n",
       "      <td>-0.280164</td>\n",
       "    </tr>\n",
       "    <tr>\n",
       "      <th>209</th>\n",
       "      <td>0.645060</td>\n",
       "      <td>-0.750013</td>\n",
       "      <td>0.022189</td>\n",
       "      <td>-0.262070</td>\n",
       "      <td>-0.342125</td>\n",
       "      <td>0.113274</td>\n",
       "      <td>0.166023</td>\n",
       "      <td>0.338142</td>\n",
       "      <td>0.042257</td>\n",
       "      <td>0.007272</td>\n",
       "    </tr>\n",
       "    <tr>\n",
       "      <th>210</th>\n",
       "      <td>1.006905</td>\n",
       "      <td>0.098332</td>\n",
       "      <td>0.118930</td>\n",
       "      <td>0.163508</td>\n",
       "      <td>-0.322555</td>\n",
       "      <td>0.266672</td>\n",
       "      <td>0.046522</td>\n",
       "      <td>0.172808</td>\n",
       "      <td>0.122399</td>\n",
       "      <td>0.143866</td>\n",
       "    </tr>\n",
       "    <tr>\n",
       "      <th>211</th>\n",
       "      <td>0.216368</td>\n",
       "      <td>0.655903</td>\n",
       "      <td>-0.825075</td>\n",
       "      <td>-0.120127</td>\n",
       "      <td>-0.369479</td>\n",
       "      <td>-0.256061</td>\n",
       "      <td>0.174697</td>\n",
       "      <td>0.190740</td>\n",
       "      <td>0.047404</td>\n",
       "      <td>-0.017635</td>\n",
       "    </tr>\n",
       "  </tbody>\n",
       "</table>\n",
       "<p>212 rows × 10 columns</p>\n",
       "</div>"
      ],
      "text/plain": [
       "          PC1       PC2       PC3       PC4       PC5       PC6       PC7  \\\n",
       "0   -0.132617  0.426787  0.433962  0.891037  0.798188 -0.388303  0.527402   \n",
       "1    0.910406 -0.637786  0.181633 -0.365014  0.062484  0.035384 -0.166866   \n",
       "2   -0.799262 -0.282356  0.649245 -0.174409 -0.256103 -0.225534 -0.086299   \n",
       "3    0.282105 -0.522200 -0.096707 -0.033347 -0.163912 -0.664081 -0.012473   \n",
       "4    0.382437  0.677170 -0.691201 -0.180314 -0.086393 -0.344277 -0.123727   \n",
       "..        ...       ...       ...       ...       ...       ...       ...   \n",
       "207 -0.465364  0.065390 -0.357721  1.063195 -0.126054  0.416202  0.122289   \n",
       "208  0.248736 -0.460210  0.045179 -0.020140  0.167596 -0.678671  0.897341   \n",
       "209  0.645060 -0.750013  0.022189 -0.262070 -0.342125  0.113274  0.166023   \n",
       "210  1.006905  0.098332  0.118930  0.163508 -0.322555  0.266672  0.046522   \n",
       "211  0.216368  0.655903 -0.825075 -0.120127 -0.369479 -0.256061  0.174697   \n",
       "\n",
       "          PC8       PC9      PC10  \n",
       "0    0.477042 -0.117244 -0.160859  \n",
       "1   -0.103250  0.145059 -0.310922  \n",
       "2   -0.021977  0.214752  0.316420  \n",
       "3   -0.203405  0.036688 -0.112053  \n",
       "4   -0.218404 -0.274267 -0.327804  \n",
       "..        ...       ...       ...  \n",
       "207 -0.048420  0.456757  0.366300  \n",
       "208 -0.256596 -0.059555 -0.280164  \n",
       "209  0.338142  0.042257  0.007272  \n",
       "210  0.172808  0.122399  0.143866  \n",
       "211  0.190740  0.047404 -0.017635  \n",
       "\n",
       "[212 rows x 10 columns]"
      ]
     },
     "execution_count": 11,
     "metadata": {},
     "output_type": "execute_result"
    }
   ],
   "source": [
    "# testing pca\n",
    "from preprocessing import remove_id, preprocessing\n",
    "df_test = preprocessing(df, process='minmax')\n",
    "df_test"
   ]
  },
  {
   "cell_type": "code",
   "execution_count": 12,
   "metadata": {
    "collapsed": false
   },
   "outputs": [
    {
     "data": {
      "text/html": [
       "<div>\n",
       "<style scoped>\n",
       "    .dataframe tbody tr th:only-of-type {\n",
       "        vertical-align: middle;\n",
       "    }\n",
       "\n",
       "    .dataframe tbody tr th {\n",
       "        vertical-align: top;\n",
       "    }\n",
       "\n",
       "    .dataframe thead th {\n",
       "        text-align: right;\n",
       "    }\n",
       "</style>\n",
       "<table border=\"1\" class=\"dataframe\">\n",
       "  <thead>\n",
       "    <tr style=\"text-align: right;\">\n",
       "      <th></th>\n",
       "      <th>age</th>\n",
       "      <th>sex</th>\n",
       "      <th>trestbps</th>\n",
       "      <th>chol</th>\n",
       "      <th>fbs</th>\n",
       "      <th>restecg</th>\n",
       "      <th>thalach</th>\n",
       "      <th>exang</th>\n",
       "      <th>oldpeak</th>\n",
       "      <th>slope</th>\n",
       "      <th>cp_typ_ang</th>\n",
       "      <th>cp_atyp_ang</th>\n",
       "      <th>cp_non_ang</th>\n",
       "      <th>cp_asympt</th>\n",
       "    </tr>\n",
       "  </thead>\n",
       "  <tbody>\n",
       "    <tr>\n",
       "      <th>0</th>\n",
       "      <td>65.0</td>\n",
       "      <td>1</td>\n",
       "      <td>138.00</td>\n",
       "      <td>282.0</td>\n",
       "      <td>1</td>\n",
       "      <td>1</td>\n",
       "      <td>174.0</td>\n",
       "      <td>0</td>\n",
       "      <td>1.4</td>\n",
       "      <td>2</td>\n",
       "      <td>1</td>\n",
       "      <td>0</td>\n",
       "      <td>0</td>\n",
       "      <td>0</td>\n",
       "    </tr>\n",
       "    <tr>\n",
       "      <th>1</th>\n",
       "      <td>62.0</td>\n",
       "      <td>1</td>\n",
       "      <td>120.00</td>\n",
       "      <td>267.0</td>\n",
       "      <td>0</td>\n",
       "      <td>0</td>\n",
       "      <td>99.0</td>\n",
       "      <td>1</td>\n",
       "      <td>1.8</td>\n",
       "      <td>2</td>\n",
       "      <td>0</td>\n",
       "      <td>0</td>\n",
       "      <td>0</td>\n",
       "      <td>1</td>\n",
       "    </tr>\n",
       "    <tr>\n",
       "      <th>2</th>\n",
       "      <td>57.0</td>\n",
       "      <td>1</td>\n",
       "      <td>150.00</td>\n",
       "      <td>168.0</td>\n",
       "      <td>0</td>\n",
       "      <td>0</td>\n",
       "      <td>174.0</td>\n",
       "      <td>0</td>\n",
       "      <td>1.6</td>\n",
       "      <td>1</td>\n",
       "      <td>0</td>\n",
       "      <td>0</td>\n",
       "      <td>1</td>\n",
       "      <td>0</td>\n",
       "    </tr>\n",
       "    <tr>\n",
       "      <th>3</th>\n",
       "      <td>57.0</td>\n",
       "      <td>1</td>\n",
       "      <td>140.00</td>\n",
       "      <td>192.0</td>\n",
       "      <td>0</td>\n",
       "      <td>0</td>\n",
       "      <td>148.0</td>\n",
       "      <td>0</td>\n",
       "      <td>0.4</td>\n",
       "      <td>2</td>\n",
       "      <td>0</td>\n",
       "      <td>0</td>\n",
       "      <td>0</td>\n",
       "      <td>1</td>\n",
       "    </tr>\n",
       "    <tr>\n",
       "      <th>4</th>\n",
       "      <td>58.0</td>\n",
       "      <td>0</td>\n",
       "      <td>100.00</td>\n",
       "      <td>248.0</td>\n",
       "      <td>0</td>\n",
       "      <td>1</td>\n",
       "      <td>122.0</td>\n",
       "      <td>0</td>\n",
       "      <td>1.0</td>\n",
       "      <td>2</td>\n",
       "      <td>0</td>\n",
       "      <td>0</td>\n",
       "      <td>0</td>\n",
       "      <td>1</td>\n",
       "    </tr>\n",
       "    <tr>\n",
       "      <th>...</th>\n",
       "      <td>...</td>\n",
       "      <td>...</td>\n",
       "      <td>...</td>\n",
       "      <td>...</td>\n",
       "      <td>...</td>\n",
       "      <td>...</td>\n",
       "      <td>...</td>\n",
       "      <td>...</td>\n",
       "      <td>...</td>\n",
       "      <td>...</td>\n",
       "      <td>...</td>\n",
       "      <td>...</td>\n",
       "      <td>...</td>\n",
       "      <td>...</td>\n",
       "    </tr>\n",
       "    <tr>\n",
       "      <th>207</th>\n",
       "      <td>54.0</td>\n",
       "      <td>1</td>\n",
       "      <td>171.25</td>\n",
       "      <td>283.0</td>\n",
       "      <td>0</td>\n",
       "      <td>1</td>\n",
       "      <td>195.0</td>\n",
       "      <td>0</td>\n",
       "      <td>0.0</td>\n",
       "      <td>1</td>\n",
       "      <td>0</td>\n",
       "      <td>1</td>\n",
       "      <td>0</td>\n",
       "      <td>0</td>\n",
       "    </tr>\n",
       "    <tr>\n",
       "      <th>208</th>\n",
       "      <td>67.0</td>\n",
       "      <td>1</td>\n",
       "      <td>125.00</td>\n",
       "      <td>254.0</td>\n",
       "      <td>1</td>\n",
       "      <td>0</td>\n",
       "      <td>163.0</td>\n",
       "      <td>0</td>\n",
       "      <td>0.2</td>\n",
       "      <td>2</td>\n",
       "      <td>0</td>\n",
       "      <td>0</td>\n",
       "      <td>0</td>\n",
       "      <td>1</td>\n",
       "    </tr>\n",
       "    <tr>\n",
       "      <th>209</th>\n",
       "      <td>59.0</td>\n",
       "      <td>1</td>\n",
       "      <td>140.00</td>\n",
       "      <td>177.0</td>\n",
       "      <td>0</td>\n",
       "      <td>0</td>\n",
       "      <td>162.0</td>\n",
       "      <td>1</td>\n",
       "      <td>0.0</td>\n",
       "      <td>1</td>\n",
       "      <td>0</td>\n",
       "      <td>0</td>\n",
       "      <td>0</td>\n",
       "      <td>1</td>\n",
       "    </tr>\n",
       "    <tr>\n",
       "      <th>210</th>\n",
       "      <td>61.0</td>\n",
       "      <td>1</td>\n",
       "      <td>140.00</td>\n",
       "      <td>207.0</td>\n",
       "      <td>0</td>\n",
       "      <td>1</td>\n",
       "      <td>138.0</td>\n",
       "      <td>1</td>\n",
       "      <td>1.9</td>\n",
       "      <td>1</td>\n",
       "      <td>0</td>\n",
       "      <td>0</td>\n",
       "      <td>0</td>\n",
       "      <td>1</td>\n",
       "    </tr>\n",
       "    <tr>\n",
       "      <th>211</th>\n",
       "      <td>57.0</td>\n",
       "      <td>0</td>\n",
       "      <td>128.00</td>\n",
       "      <td>303.0</td>\n",
       "      <td>0</td>\n",
       "      <td>1</td>\n",
       "      <td>159.0</td>\n",
       "      <td>0</td>\n",
       "      <td>0.0</td>\n",
       "      <td>1</td>\n",
       "      <td>0</td>\n",
       "      <td>0</td>\n",
       "      <td>0</td>\n",
       "      <td>1</td>\n",
       "    </tr>\n",
       "  </tbody>\n",
       "</table>\n",
       "<p>212 rows × 14 columns</p>\n",
       "</div>"
      ],
      "text/plain": [
       "      age  sex  trestbps   chol  fbs  restecg  thalach  exang  oldpeak  slope  \\\n",
       "0    65.0    1    138.00  282.0    1        1    174.0      0      1.4      2   \n",
       "1    62.0    1    120.00  267.0    0        0     99.0      1      1.8      2   \n",
       "2    57.0    1    150.00  168.0    0        0    174.0      0      1.6      1   \n",
       "3    57.0    1    140.00  192.0    0        0    148.0      0      0.4      2   \n",
       "4    58.0    0    100.00  248.0    0        1    122.0      0      1.0      2   \n",
       "..    ...  ...       ...    ...  ...      ...      ...    ...      ...    ...   \n",
       "207  54.0    1    171.25  283.0    0        1    195.0      0      0.0      1   \n",
       "208  67.0    1    125.00  254.0    1        0    163.0      0      0.2      2   \n",
       "209  59.0    1    140.00  177.0    0        0    162.0      1      0.0      1   \n",
       "210  61.0    1    140.00  207.0    0        1    138.0      1      1.9      1   \n",
       "211  57.0    0    128.00  303.0    0        1    159.0      0      0.0      1   \n",
       "\n",
       "     cp_typ_ang  cp_atyp_ang  cp_non_ang  cp_asympt  \n",
       "0             1            0           0          0  \n",
       "1             0            0           0          1  \n",
       "2             0            0           1          0  \n",
       "3             0            0           0          1  \n",
       "4             0            0           0          1  \n",
       "..          ...          ...         ...        ...  \n",
       "207           0            1           0          0  \n",
       "208           0            0           0          1  \n",
       "209           0            0           0          1  \n",
       "210           0            0           0          1  \n",
       "211           0            0           0          1  \n",
       "\n",
       "[212 rows x 14 columns]"
      ]
     },
     "execution_count": 12,
     "metadata": {},
     "output_type": "execute_result"
    }
   ],
   "source": [
    "# Let's check our functions\n",
    "df_prep = replace_outliers(raw_data)\n",
    "df_prep = encode_columns(df_prep)\n",
    "df_prep"
   ]
  },
  {
   "cell_type": "code",
   "execution_count": 13,
   "metadata": {
    "collapsed": false
   },
   "outputs": [
    {
     "data": {
      "text/html": [
       "<div>\n",
       "<style scoped>\n",
       "    .dataframe tbody tr th:only-of-type {\n",
       "        vertical-align: middle;\n",
       "    }\n",
       "\n",
       "    .dataframe tbody tr th {\n",
       "        vertical-align: top;\n",
       "    }\n",
       "\n",
       "    .dataframe thead th {\n",
       "        text-align: right;\n",
       "    }\n",
       "</style>\n",
       "<table border=\"1\" class=\"dataframe\">\n",
       "  <thead>\n",
       "    <tr style=\"text-align: right;\">\n",
       "      <th></th>\n",
       "      <th>age</th>\n",
       "      <th>sex</th>\n",
       "      <th>trestbps</th>\n",
       "      <th>chol</th>\n",
       "      <th>fbs</th>\n",
       "      <th>restecg</th>\n",
       "      <th>thalach</th>\n",
       "      <th>exang</th>\n",
       "      <th>oldpeak</th>\n",
       "      <th>slope</th>\n",
       "      <th>cp_typ_ang</th>\n",
       "      <th>cp_atyp_ang</th>\n",
       "      <th>cp_non_ang</th>\n",
       "      <th>cp_asympt</th>\n",
       "    </tr>\n",
       "  </thead>\n",
       "  <tbody>\n",
       "    <tr>\n",
       "      <th>0</th>\n",
       "      <td>0.720930</td>\n",
       "      <td>1.0</td>\n",
       "      <td>0.569579</td>\n",
       "      <td>0.617169</td>\n",
       "      <td>1.0</td>\n",
       "      <td>1.0</td>\n",
       "      <td>0.793103</td>\n",
       "      <td>0.0</td>\n",
       "      <td>0.350</td>\n",
       "      <td>0.5</td>\n",
       "      <td>1.0</td>\n",
       "      <td>0.0</td>\n",
       "      <td>0.0</td>\n",
       "      <td>0.0</td>\n",
       "    </tr>\n",
       "    <tr>\n",
       "      <th>1</th>\n",
       "      <td>0.651163</td>\n",
       "      <td>1.0</td>\n",
       "      <td>0.336570</td>\n",
       "      <td>0.547564</td>\n",
       "      <td>0.0</td>\n",
       "      <td>0.0</td>\n",
       "      <td>0.054187</td>\n",
       "      <td>1.0</td>\n",
       "      <td>0.450</td>\n",
       "      <td>0.5</td>\n",
       "      <td>0.0</td>\n",
       "      <td>0.0</td>\n",
       "      <td>0.0</td>\n",
       "      <td>1.0</td>\n",
       "    </tr>\n",
       "    <tr>\n",
       "      <th>2</th>\n",
       "      <td>0.534884</td>\n",
       "      <td>1.0</td>\n",
       "      <td>0.724919</td>\n",
       "      <td>0.088167</td>\n",
       "      <td>0.0</td>\n",
       "      <td>0.0</td>\n",
       "      <td>0.793103</td>\n",
       "      <td>0.0</td>\n",
       "      <td>0.400</td>\n",
       "      <td>0.0</td>\n",
       "      <td>0.0</td>\n",
       "      <td>0.0</td>\n",
       "      <td>1.0</td>\n",
       "      <td>0.0</td>\n",
       "    </tr>\n",
       "    <tr>\n",
       "      <th>3</th>\n",
       "      <td>0.534884</td>\n",
       "      <td>1.0</td>\n",
       "      <td>0.595469</td>\n",
       "      <td>0.199536</td>\n",
       "      <td>0.0</td>\n",
       "      <td>0.0</td>\n",
       "      <td>0.536946</td>\n",
       "      <td>0.0</td>\n",
       "      <td>0.100</td>\n",
       "      <td>0.5</td>\n",
       "      <td>0.0</td>\n",
       "      <td>0.0</td>\n",
       "      <td>0.0</td>\n",
       "      <td>1.0</td>\n",
       "    </tr>\n",
       "    <tr>\n",
       "      <th>4</th>\n",
       "      <td>0.558140</td>\n",
       "      <td>0.0</td>\n",
       "      <td>0.077670</td>\n",
       "      <td>0.459397</td>\n",
       "      <td>0.0</td>\n",
       "      <td>1.0</td>\n",
       "      <td>0.280788</td>\n",
       "      <td>0.0</td>\n",
       "      <td>0.250</td>\n",
       "      <td>0.5</td>\n",
       "      <td>0.0</td>\n",
       "      <td>0.0</td>\n",
       "      <td>0.0</td>\n",
       "      <td>1.0</td>\n",
       "    </tr>\n",
       "    <tr>\n",
       "      <th>...</th>\n",
       "      <td>...</td>\n",
       "      <td>...</td>\n",
       "      <td>...</td>\n",
       "      <td>...</td>\n",
       "      <td>...</td>\n",
       "      <td>...</td>\n",
       "      <td>...</td>\n",
       "      <td>...</td>\n",
       "      <td>...</td>\n",
       "      <td>...</td>\n",
       "      <td>...</td>\n",
       "      <td>...</td>\n",
       "      <td>...</td>\n",
       "      <td>...</td>\n",
       "    </tr>\n",
       "    <tr>\n",
       "      <th>207</th>\n",
       "      <td>0.465116</td>\n",
       "      <td>1.0</td>\n",
       "      <td>1.000000</td>\n",
       "      <td>0.621810</td>\n",
       "      <td>0.0</td>\n",
       "      <td>1.0</td>\n",
       "      <td>1.000000</td>\n",
       "      <td>0.0</td>\n",
       "      <td>0.000</td>\n",
       "      <td>0.0</td>\n",
       "      <td>0.0</td>\n",
       "      <td>1.0</td>\n",
       "      <td>0.0</td>\n",
       "      <td>0.0</td>\n",
       "    </tr>\n",
       "    <tr>\n",
       "      <th>208</th>\n",
       "      <td>0.767442</td>\n",
       "      <td>1.0</td>\n",
       "      <td>0.401294</td>\n",
       "      <td>0.487239</td>\n",
       "      <td>1.0</td>\n",
       "      <td>0.0</td>\n",
       "      <td>0.684729</td>\n",
       "      <td>0.0</td>\n",
       "      <td>0.050</td>\n",
       "      <td>0.5</td>\n",
       "      <td>0.0</td>\n",
       "      <td>0.0</td>\n",
       "      <td>0.0</td>\n",
       "      <td>1.0</td>\n",
       "    </tr>\n",
       "    <tr>\n",
       "      <th>209</th>\n",
       "      <td>0.581395</td>\n",
       "      <td>1.0</td>\n",
       "      <td>0.595469</td>\n",
       "      <td>0.129930</td>\n",
       "      <td>0.0</td>\n",
       "      <td>0.0</td>\n",
       "      <td>0.674877</td>\n",
       "      <td>1.0</td>\n",
       "      <td>0.000</td>\n",
       "      <td>0.0</td>\n",
       "      <td>0.0</td>\n",
       "      <td>0.0</td>\n",
       "      <td>0.0</td>\n",
       "      <td>1.0</td>\n",
       "    </tr>\n",
       "    <tr>\n",
       "      <th>210</th>\n",
       "      <td>0.627907</td>\n",
       "      <td>1.0</td>\n",
       "      <td>0.595469</td>\n",
       "      <td>0.269142</td>\n",
       "      <td>0.0</td>\n",
       "      <td>1.0</td>\n",
       "      <td>0.438424</td>\n",
       "      <td>1.0</td>\n",
       "      <td>0.475</td>\n",
       "      <td>0.0</td>\n",
       "      <td>0.0</td>\n",
       "      <td>0.0</td>\n",
       "      <td>0.0</td>\n",
       "      <td>1.0</td>\n",
       "    </tr>\n",
       "    <tr>\n",
       "      <th>211</th>\n",
       "      <td>0.534884</td>\n",
       "      <td>0.0</td>\n",
       "      <td>0.440129</td>\n",
       "      <td>0.714617</td>\n",
       "      <td>0.0</td>\n",
       "      <td>1.0</td>\n",
       "      <td>0.645320</td>\n",
       "      <td>0.0</td>\n",
       "      <td>0.000</td>\n",
       "      <td>0.0</td>\n",
       "      <td>0.0</td>\n",
       "      <td>0.0</td>\n",
       "      <td>0.0</td>\n",
       "      <td>1.0</td>\n",
       "    </tr>\n",
       "  </tbody>\n",
       "</table>\n",
       "<p>212 rows × 14 columns</p>\n",
       "</div>"
      ],
      "text/plain": [
       "          age  sex  trestbps      chol  fbs  restecg   thalach  exang  \\\n",
       "0    0.720930  1.0  0.569579  0.617169  1.0      1.0  0.793103    0.0   \n",
       "1    0.651163  1.0  0.336570  0.547564  0.0      0.0  0.054187    1.0   \n",
       "2    0.534884  1.0  0.724919  0.088167  0.0      0.0  0.793103    0.0   \n",
       "3    0.534884  1.0  0.595469  0.199536  0.0      0.0  0.536946    0.0   \n",
       "4    0.558140  0.0  0.077670  0.459397  0.0      1.0  0.280788    0.0   \n",
       "..        ...  ...       ...       ...  ...      ...       ...    ...   \n",
       "207  0.465116  1.0  1.000000  0.621810  0.0      1.0  1.000000    0.0   \n",
       "208  0.767442  1.0  0.401294  0.487239  1.0      0.0  0.684729    0.0   \n",
       "209  0.581395  1.0  0.595469  0.129930  0.0      0.0  0.674877    1.0   \n",
       "210  0.627907  1.0  0.595469  0.269142  0.0      1.0  0.438424    1.0   \n",
       "211  0.534884  0.0  0.440129  0.714617  0.0      1.0  0.645320    0.0   \n",
       "\n",
       "     oldpeak  slope  cp_typ_ang  cp_atyp_ang  cp_non_ang  cp_asympt  \n",
       "0      0.350    0.5         1.0          0.0         0.0        0.0  \n",
       "1      0.450    0.5         0.0          0.0         0.0        1.0  \n",
       "2      0.400    0.0         0.0          0.0         1.0        0.0  \n",
       "3      0.100    0.5         0.0          0.0         0.0        1.0  \n",
       "4      0.250    0.5         0.0          0.0         0.0        1.0  \n",
       "..       ...    ...         ...          ...         ...        ...  \n",
       "207    0.000    0.0         0.0          1.0         0.0        0.0  \n",
       "208    0.050    0.5         0.0          0.0         0.0        1.0  \n",
       "209    0.000    0.0         0.0          0.0         0.0        1.0  \n",
       "210    0.475    0.0         0.0          0.0         0.0        1.0  \n",
       "211    0.000    0.0         0.0          0.0         0.0        1.0  \n",
       "\n",
       "[212 rows x 14 columns]"
      ]
     },
     "execution_count": 13,
     "metadata": {},
     "output_type": "execute_result"
    }
   ],
   "source": [
    "minmax(df_prep)"
   ]
  },
  {
   "cell_type": "code",
   "execution_count": 14,
   "metadata": {
    "collapsed": false
   },
   "outputs": [
    {
     "data": {
      "text/plain": [
       "<Axes: >"
      ]
     },
     "execution_count": 14,
     "metadata": {},
     "output_type": "execute_result"
    },
    {
     "data": {
      "image/png": "[encoded data removed]",
      "text/plain": [
       "<Figure size 432x288 with 2 Axes>"
      ]
     },
     "metadata": {
      "needs_background": "light"
     },
     "output_type": "display_data"
    }
   ],
   "source": [
    "sns.heatmap(df_prep.corr())"
   ]
  },
  {
   "attachments": {},
   "cell_type": "markdown",
   "metadata": {},
   "source": [
    "## Number of clusters"
   ]
  },
  {
   "cell_type": "code",
   "execution_count": 15,
   "metadata": {},
   "outputs": [],
   "source": [
    "# We will use functions from other python files, so we don't have to run whole notebook every time\n",
    "from preprocessing import standarize, minmax, normalize, replace_outliers, preprocessing\n",
    "from KMeans import k_means_alg"
   ]
  },
  {
   "attachments": {},
   "cell_type": "markdown",
   "metadata": {},
   "source": [
    "First we prepare methods for finding optimal number of clusters"
   ]
  },
  {
   "cell_type": "code",
   "execution_count": 16,
   "metadata": {},
   "outputs": [],
   "source": [
    "def num_of_clus_elbow(data) -> int:\n",
    "    \"\"\"\n",
    "        Finds optimal number of clusters using elbow method.\n",
    "\n",
    "        :param data: dataframe\n",
    "        :return: number of clusters\n",
    "    \"\"\"\n",
    "    sum_of_squared_distances = []\n",
    "    K = range(1, 10)\n",
    "    for num_clusters in K:\n",
    "        kmeans = KMeans(n_clusters=num_clusters, n_init=10)\n",
    "        kmeans.fit(data)\n",
    "        sum_of_squared_distances.append(kmeans.inertia_)\n",
    "\n",
    "    # finding elbow point\n",
    "    sd = np.diff(sum_of_squared_distances, 2)\n",
    "    elbow_point = np.argmax(sd) + 2\n",
    "\n",
    "    plt.figure(figsize=(8, 5))\n",
    "    plt.plot(range(1, 10), sum_of_squared_distances, marker='o')\n",
    "    plt.xlabel('Number of clusters')\n",
    "    plt.ylabel('WCSS')\n",
    "    plt.show()\n",
    "\n",
    "    return elbow_point"
   ]
  },
  {
   "cell_type": "code",
   "execution_count": 17,
   "metadata": {},
   "outputs": [],
   "source": [
    "def num_of_clus_silhouette(data) -> int:\n",
    "    \"\"\"\n",
    "    Finds optimal number of clusters using silhouette method.\n",
    "\n",
    "    :param data: dataframe\n",
    "    :return: number of clusters\n",
    "    \"\"\"\n",
    "    silhouette_scores = []\n",
    "    for i in range(2, 11):\n",
    "        kmeans = KMeans(n_clusters=i, init='k-means++', max_iter=300, n_init=10, random_state=0)\n",
    "        kmeans.fit(data)\n",
    "        score = silhouette_score(data, kmeans.labels_)\n",
    "        silhouette_scores.append(score)\n",
    "\n",
    "    silhouette_point = np.argmax(silhouette_scores) + 2\n",
    "\n",
    "    plt.figure(figsize=(8, 5))\n",
    "    plt.plot(range(2, 11), silhouette_scores, marker='o')\n",
    "    plt.xlabel('Number of clusters')\n",
    "    plt.ylabel('Silhouette score')\n",
    "    plt.show()\n",
    "\n",
    "    return silhouette_point"
   ]
  },
  {
   "cell_type": "code",
   "execution_count": 29,
   "metadata": {},
   "outputs": [
    {
     "data": {
      "image/png": "[encoded data removed]",
      "text/plain": [
       "<Figure size 800x500 with 1 Axes>"
      ]
     },
     "metadata": {},
     "output_type": "display_data"
    },
    {
     "name": "stdout",
     "output_type": "stream",
     "text": [
      "Elbow method: 2\n"
     ]
    },
    {
     "data": {
      "image/png": "[encoded data removed]",
      "text/plain": [
       "<Figure size 800x500 with 1 Axes>"
      ]
     },
     "metadata": {},
     "output_type": "display_data"
    },
    {
     "name": "stdout",
     "output_type": "stream",
     "text": [
      "Silhouette method: 4\n"
     ]
    }
   ],
   "source": [
    "# Let's check elbow method\n",
    "df_clusters = replace_outliers(raw_data)\n",
    "df_clusters = encode_columns(df_clusters)\n",
    "df_clusters = minmax(df_clusters)\n",
    "print('Elbow method:', num_of_clus_elbow(df_clusters))\n",
    "print('Silhouette method:', num_of_clus_silhouette(df_clusters))"
   ]
  },
  {
   "attachments": {},
   "cell_type": "markdown",
   "metadata": {},
   "source": [
    "We can see that returned values are different. Now we can test it on a baseline model:"
   ]
  },
  {
   "cell_type": "code",
   "execution_count": 30,
   "metadata": {},
   "outputs": [
    {
     "name": "stdout",
     "output_type": "stream",
     "text": [
      "number of clusters: 2\n",
      "silhouette score: 0.2252351224166828\n",
      "calinski harabasz score: 63.206479218442425\n",
      "davies bouldin score: 1.776141266296717\n",
      "number of clusters: 4\n",
      "silhouette score: 0.28933192733131985\n",
      "calinski harabasz score: 50.14316823419269\n",
      "davies bouldin score: 1.3579874845603592\n"
     ]
    }
   ],
   "source": [
    "for i in [2,4]:\n",
    "    dfkmeans, model = k_means_alg(df_clusters, num_clusters=i)\n",
    "    y_kmeans = dfkmeans['label']\n",
    "    print(f\"silhouette score: {silhouette_score(df_clusters, y_kmeans)}\")\n",
    "    print(f\"calinski harabasz score: {calinski_harabasz_score(df_clusters, y_kmeans)}\")\n",
    "    print(f\"davies bouldin score: {davies_bouldin_score(df_clusters, y_kmeans)}\")"
   ]
  },
  {
   "attachments": {},
   "cell_type": "markdown",
   "metadata": {},
   "source": [
    "We can see that results are better for 4 clusters. Now let's check how preprocessing influences clusters and score."
   ]
  },
  {
   "cell_type": "code",
   "execution_count": 18,
   "metadata": {},
   "outputs": [
    {
     "name": "stdout",
     "output_type": "stream",
     "text": [
      "Processing: stand\n",
      "Number of clusters: 4\n",
      "silhouette score: 0.22034126555501474\n",
      "calinski harabasz score: 36.26326074278857\n",
      "davies bouldin score: 1.6473047994165644\n",
      "Processing: minmax\n",
      "Number of clusters: 4\n",
      "silhouette score: 0.28933192733131985\n",
      "calinski harabasz score: 50.14316823419269\n",
      "davies bouldin score: 1.3579874845603588\n",
      "Processing: norm\n",
      "Number of clusters: 4\n",
      "silhouette score: 0.3012481559184208\n",
      "calinski harabasz score: 138.60587153808743\n",
      "davies bouldin score: 0.972272435080523\n"
     ]
    }
   ],
   "source": [
    "processing = ['stand', 'minmax', 'norm']\n",
    "for proc in processing:\n",
    "    print(f'Processing: {proc}')\n",
    "    df_proc = preprocessing(raw_data, rem_over=False, process=proc)\n",
    "    dfkmeans, model = k_means_alg(df_proc, num_clusters=4)\n",
    "    y = dfkmeans['label']\n",
    "    print(f\"silhouette score: {silhouette_score(df_proc, y)}\")\n",
    "    print(f\"calinski harabasz score: {calinski_harabasz_score(df_proc, y)}\")\n",
    "    print(f\"davies bouldin score: {davies_bouldin_score(df_proc, y)}\")"
   ]
  },
  {
   "attachments": {},
   "cell_type": "markdown",
   "metadata": {},
   "source": [
    "Results vary depending on processing used. Normalizer has the best results, but we can see that normalized data is hard to interpret:"
   ]
  },
  {
   "cell_type": "code",
   "execution_count": 32,
   "metadata": {},
   "outputs": [
    {
     "data": {
      "text/html": [
       "<div>\n",
       "<style scoped>\n",
       "    .dataframe tbody tr th:only-of-type {\n",
       "        vertical-align: middle;\n",
       "    }\n",
       "\n",
       "    .dataframe tbody tr th {\n",
       "        vertical-align: top;\n",
       "    }\n",
       "\n",
       "    .dataframe thead th {\n",
       "        text-align: right;\n",
       "    }\n",
       "</style>\n",
       "<table border=\"1\" class=\"dataframe\">\n",
       "  <thead>\n",
       "    <tr style=\"text-align: right;\">\n",
       "      <th></th>\n",
       "      <th>age</th>\n",
       "      <th>sex</th>\n",
       "      <th>cp</th>\n",
       "      <th>trestbps</th>\n",
       "      <th>chol</th>\n",
       "      <th>fbs</th>\n",
       "      <th>restecg</th>\n",
       "      <th>thalach</th>\n",
       "      <th>exang</th>\n",
       "      <th>oldpeak</th>\n",
       "      <th>slope</th>\n",
       "    </tr>\n",
       "  </thead>\n",
       "  <tbody>\n",
       "    <tr>\n",
       "      <th>0</th>\n",
       "      <td>0.178178</td>\n",
       "      <td>0.002741</td>\n",
       "      <td>0.002741</td>\n",
       "      <td>0.378285</td>\n",
       "      <td>0.773018</td>\n",
       "      <td>0.002741</td>\n",
       "      <td>0.005482</td>\n",
       "      <td>0.476968</td>\n",
       "      <td>0.000000</td>\n",
       "      <td>0.003838</td>\n",
       "      <td>0.005482</td>\n",
       "    </tr>\n",
       "    <tr>\n",
       "      <th>1</th>\n",
       "      <td>0.196692</td>\n",
       "      <td>0.003172</td>\n",
       "      <td>0.012690</td>\n",
       "      <td>0.380695</td>\n",
       "      <td>0.847046</td>\n",
       "      <td>0.000000</td>\n",
       "      <td>0.000000</td>\n",
       "      <td>0.314073</td>\n",
       "      <td>0.003172</td>\n",
       "      <td>0.005710</td>\n",
       "      <td>0.006345</td>\n",
       "    </tr>\n",
       "    <tr>\n",
       "      <th>2</th>\n",
       "      <td>0.196362</td>\n",
       "      <td>0.003445</td>\n",
       "      <td>0.010335</td>\n",
       "      <td>0.516742</td>\n",
       "      <td>0.578751</td>\n",
       "      <td>0.000000</td>\n",
       "      <td>0.000000</td>\n",
       "      <td>0.599421</td>\n",
       "      <td>0.000000</td>\n",
       "      <td>0.005512</td>\n",
       "      <td>0.003445</td>\n",
       "    </tr>\n",
       "    <tr>\n",
       "      <th>3</th>\n",
       "      <td>0.199493</td>\n",
       "      <td>0.003500</td>\n",
       "      <td>0.014000</td>\n",
       "      <td>0.489983</td>\n",
       "      <td>0.671977</td>\n",
       "      <td>0.000000</td>\n",
       "      <td>0.000000</td>\n",
       "      <td>0.517983</td>\n",
       "      <td>0.000000</td>\n",
       "      <td>0.001400</td>\n",
       "      <td>0.007000</td>\n",
       "    </tr>\n",
       "    <tr>\n",
       "      <th>4</th>\n",
       "      <td>0.193573</td>\n",
       "      <td>0.000000</td>\n",
       "      <td>0.013350</td>\n",
       "      <td>0.333747</td>\n",
       "      <td>0.827693</td>\n",
       "      <td>0.000000</td>\n",
       "      <td>0.006675</td>\n",
       "      <td>0.407171</td>\n",
       "      <td>0.000000</td>\n",
       "      <td>0.003337</td>\n",
       "      <td>0.006675</td>\n",
       "    </tr>\n",
       "  </tbody>\n",
       "</table>\n",
       "</div>"
      ],
      "text/plain": [
       "        age       sex        cp  trestbps      chol       fbs   restecg   \n",
       "0  0.178178  0.002741  0.002741  0.378285  0.773018  0.002741  0.005482  \\\n",
       "1  0.196692  0.003172  0.012690  0.380695  0.847046  0.000000  0.000000   \n",
       "2  0.196362  0.003445  0.010335  0.516742  0.578751  0.000000  0.000000   \n",
       "3  0.199493  0.003500  0.014000  0.489983  0.671977  0.000000  0.000000   \n",
       "4  0.193573  0.000000  0.013350  0.333747  0.827693  0.000000  0.006675   \n",
       "\n",
       "    thalach     exang   oldpeak     slope  \n",
       "0  0.476968  0.000000  0.003838  0.005482  \n",
       "1  0.314073  0.003172  0.005710  0.006345  \n",
       "2  0.599421  0.000000  0.005512  0.003445  \n",
       "3  0.517983  0.000000  0.001400  0.007000  \n",
       "4  0.407171  0.000000  0.003337  0.006675  "
      ]
     },
     "execution_count": 32,
     "metadata": {},
     "output_type": "execute_result"
    }
   ],
   "source": [
    "normalize(raw_data).head()"
   ]
  },
  {
   "attachments": {},
   "cell_type": "markdown",
   "metadata": {},
   "source": [
    "For example values in sex column are around 0.003 while in chol or thalach values are way bigger. Thus, minmax scaler is the most reasonable scaler."
   ]
  },
  {
   "cell_type": "code",
   "execution_count": 33,
   "metadata": {},
   "outputs": [
    {
     "name": "stdout",
     "output_type": "stream",
     "text": [
      "number of clusters: 2\n",
      "silhouette score: 0.2252351224166828\n",
      "calinski harabasz score: 63.206479218442425\n",
      "davies bouldin score: 1.776141266296717\n",
      "number of clusters: 3\n",
      "silhouette score: 0.2619917170741527\n",
      "calinski harabasz score: 55.036755233776915\n",
      "davies bouldin score: 1.7163185655814541\n",
      "number of clusters: 4\n",
      "silhouette score: 0.28933192733131985\n",
      "calinski harabasz score: 50.14316823419269\n",
      "davies bouldin score: 1.3579874845603592\n",
      "number of clusters: 5\n",
      "silhouette score: 0.2619434072133079\n",
      "calinski harabasz score: 49.159240451761214\n",
      "davies bouldin score: 1.5078377776890293\n",
      "number of clusters: 6\n",
      "silhouette score: 0.24896222620484482\n",
      "calinski harabasz score: 45.689451854895545\n",
      "davies bouldin score: 1.5816799409656925\n"
     ]
    }
   ],
   "source": [
    "df_minmax = preprocessing(raw_data, rem_over=False, process='minmax')\n",
    "for i in [2, 3, 4, 5, 6]:\n",
    "    dfkmeans, _ = k_means_alg(df_minmax, num_clusters=i)\n",
    "    y_kmeans = dfkmeans['label']\n",
    "    print(f\"silhouette score: {silhouette_score(df_minmax, y_kmeans)}\")\n",
    "    print(f\"calinski harabasz score: {calinski_harabasz_score(df_minmax, y_kmeans)}\")\n",
    "    print(f\"davies bouldin score: {davies_bouldin_score(df_minmax, y_kmeans)}\")"
   ]
  },
  {
   "attachments": {},
   "cell_type": "markdown",
   "metadata": {},
   "source": [
    "On average the more clusters the better the results, but we have to draw a line somewhere and pick apropriate number of clusters (4 looks the best). Last question is if we should use PCA for reducing dimensionality."
   ]
  },
  {
   "cell_type": "code",
   "execution_count": 34,
   "metadata": {},
   "outputs": [
    {
     "name": "stdout",
     "output_type": "stream",
     "text": [
      "number of clusters: 4\n",
      "silhouette score: 0.22815791836780464\n",
      "calinski harabasz score: 37.771413609812384\n",
      "davies bouldin score: 1.6161708068507368\n"
     ]
    }
   ],
   "source": [
    "df_pca = preprocessing(raw_data, process='stand')\n",
    "dfkmeans, model = k_means_alg(df_pca, num_clusters=4)\n",
    "y_kmeans = dfkmeans['label']\n",
    "print(f\"silhouette score: {silhouette_score(df_pca, y_kmeans)}\")\n",
    "print(f\"calinski harabasz score: {calinski_harabasz_score(df_pca, y_kmeans)}\")\n",
    "print(f\"davies bouldin score: {davies_bouldin_score(df_pca, y_kmeans)}\")"
   ]
  },
  {
   "attachments": {},
   "cell_type": "markdown",
   "metadata": {},
   "source": [
    "The scores are way worse. Maybe it is easier to visualize clustering as we only have 3 variables, but we lose interpretability which is crucial in medical data analysis. That said in preprocessing we will stick to minmax scaler and outliers removal, and we will be using 4 clusters."
   ]
  },
  {
   "attachments": {},
   "cell_type": "markdown",
   "metadata": {},
   "source": [
    "## Algorithms"
   ]
  },
  {
   "cell_type": "code",
   "execution_count": 3,
   "metadata": {},
   "outputs": [],
   "source": [
    "from metrices import metrices\n",
    "from dbscan import dbscan\n",
    "from Evaluation import medians_for_clusters\n",
    "from preprocessing import preprocessing\n",
    "from KMeans import k_means_alg\n",
    "from other_algorithms import k_medoids_alg, aglomerative_alg, minibatch_alg, gmm_alg"
   ]
  },
  {
   "cell_type": "code",
   "execution_count": 4,
   "outputs": [],
   "source": [
    "df = pd.read_csv('train.csv')\n",
    "df.drop('id', axis=1, inplace=True)\n",
    "raw_data = df.copy()\n",
    "df = preprocessing(raw_data, rem_over=False, process='minmax')\n",
    "columns=['method', 'min dist btw cl', 'avg dist in cl', 'std dev dist in cl', 'silhouette', 'cal-har', 'dav-bou']\n",
    "results = pd.DataFrame(columns=columns)"
   ]
  },
  {
   "attachments": {},
   "cell_type": "markdown",
   "metadata": {
    "collapsed": false
   },
   "source": [
    "### Kmeans"
   ]
  },
  {
   "cell_type": "code",
   "execution_count": 5,
   "metadata": {},
   "outputs": [
    {
     "name": "stdout",
     "output_type": "stream",
     "text": [
      "Number of clusters: 4\n",
      "Minimal distance between clusters: 1.4145219177518047\n",
      "Average distance between points in the same class: 1.3983463783617291\n",
      "Standard deviation of distance between points in the same class: 0.07846418170919425\n",
      "Silhouette score: 0.28933192733131985\n",
      "Calinski-Harabasz index: 50.14316823419269\n",
      "Davies Bouldin index: 1.3579874845603588\n",
      "-----\n",
      "Medians:\n",
      "        age  sex   cp  trestbps   chol  fbs  restecg  thalach  exang  oldpeak  \\\n",
      "label                                                                           \n",
      "0      52.0  1.0  2.0     128.0  235.0  0.0      0.0    164.0    0.0      0.0   \n",
      "1      58.0  1.0  4.0     130.0  246.5  0.0      2.0    143.0    1.0      1.1   \n",
      "2      53.5  1.0  3.0     130.0  237.5  0.0      0.0    157.0    0.0      0.4   \n",
      "3      59.0  1.0  1.0     145.0  234.0  0.0      2.0    162.0    0.0      1.2   \n",
      "\n",
      "       slope  \n",
      "label         \n",
      "0        1.0  \n",
      "1        2.0  \n",
      "2        1.0  \n",
      "3        2.0  \n"
     ]
    }
   ],
   "source": [
    "results_df = ['Kmeans']\n",
    "\n",
    "df_kmeans, model = k_means_alg(df, num_clusters=4)\n",
    "y_kmeans = df_kmeans['label']\n",
    "\n",
    "for metric in metrices:\n",
    "    print(f'{metric}: {metrices[metric](df, y_kmeans)}')\n",
    "    results_df.append(round(metrices[metric](df, y_kmeans), 3))\n",
    "print(\"-----\")\n",
    "print(\"Medians:\")\n",
    "df_kmeans_medians = raw_data.copy()\n",
    "df_kmeans_medians['label'] = y_kmeans\n",
    "print(medians_for_clusters(df_kmeans_medians))\n",
    "\n",
    "a = np.array(results_df)\n",
    "results = pd.concat([results, pd.DataFrame(a[None], columns=columns)], ignore_index=True)"
   ]
  },
  {
   "attachments": {},
   "cell_type": "markdown",
   "metadata": {
    "collapsed": false
   },
   "source": [
    "### KMedoids"
   ]
  },
  {
   "cell_type": "code",
   "execution_count": 264,
   "metadata": {
    "collapsed": false
   }
  },
  {
   "cell_type": "code",
   "execution_count": 6,
   "outputs": [
    {
     "name": "stdout",
     "output_type": "stream",
     "text": [
      "Number of clusters: 4\n",
      "Minimal distance between clusters: 0.5586623460130081\n",
      "Average distance between points in the same class: 1.52240259492257\n",
      "Standard deviation of distance between points in the same class: 0.1046167586375951\n",
      "Silhouette score: 0.14515839681917014\n",
      "Calinski-Harabasz index: 31.57869582172508\n",
      "Davies Bouldin index: 2.387749509330547\n",
      "        age  sex   cp  trestbps   chol  fbs  restecg  thalach  exang  oldpeak   \n",
      "label                                                                           \n",
      "0      61.0  1.0  4.0     140.0  249.0  0.0      2.0    145.0    0.0     1.40  \\\n",
      "1      58.0  1.0  4.0     132.0  251.0  0.0      2.0    140.0    1.0     1.45   \n",
      "2      52.0  1.0  3.0     130.0  233.5  0.0      0.0    162.0    0.0     0.20   \n",
      "3      51.0  1.0  4.0     126.5  231.0  0.0      2.0    168.5    0.0     0.00   \n",
      "\n",
      "       slope  \n",
      "label         \n",
      "0        2.0  \n",
      "1        2.0  \n",
      "2        1.0  \n",
      "3        1.0  \n"
     ]
    }
   ],
   "source": [
    "# results_df = ['KMedoids']\n",
    "\n",
    "# df_medoids, model = k_medoids_alg(df, num_clusters=4)\n",
    "# y_kmedoids = df_medoids['label']\n",
    "\n",
    "# for metric in metrices:\n",
    "#     print(f'{metric}: {metrices[metric](df, y_kmedoids)}')\n",
    "#     results_df.append(round(metrices[metric](df, y_kmedoids), 3))\n",
    "# df_medoids_medians = raw_data.copy()\n",
    "# df_medoids_medians['label'] = y_kmedoids\n",
    "# print(medians_for_clusters(df_medoids_medians))\n",
    "\n",
    "# a = np.array(results_df)\n",
    "# results = pd.concat([results, pd.DataFrame(a[None], columns=columns)], ignore_index=True)"
   ]
  },
  {
   "attachments": {},
   "cell_type": "markdown",
   "metadata": {
    "collapsed": false
   },
   "source": [
    "### Mini Batch"
   ]
  },
  {
   "cell_type": "code",
   "execution_count": 265,
   "metadata": {
    "collapsed": false
   }
  },
  {
   "cell_type": "code",
   "execution_count": 7,
   "outputs": [
    {
     "name": "stdout",
     "output_type": "stream",
     "text": [
      "Minimal distance between clusters: 1.4145219177518047\n",
      "Average distance between points in the same class: 1.3983463783617291\n",
      "Standard deviation of distance between points in the same class: 0.07846418170919425\n",
      "Silhouette score: 0.28933192733131985\n",
      "Calinski-Harabasz index: 50.14316823419271\n",
      "Davies Bouldin index: 1.3579874845603592\n",
      "        age  sex   cp  trestbps   chol  fbs  restecg  thalach  exang  oldpeak   \n",
      "label                                                                           \n",
      "0      53.5  1.0  3.0     130.0  237.5  0.0      0.0    157.0    0.0      0.4  \\\n",
      "1      58.0  1.0  4.0     130.0  246.5  0.0      2.0    143.0    1.0      1.1   \n",
      "2      52.0  1.0  2.0     128.0  235.0  0.0      0.0    164.0    0.0      0.0   \n",
      "3      59.0  1.0  1.0     145.0  234.0  0.0      2.0    162.0    0.0      1.2   \n",
      "\n",
      "       slope  \n",
      "label         \n",
      "0        1.0  \n",
      "1        2.0  \n",
      "2        1.0  \n",
      "3        2.0  \n"
     ]
    }
   ],
   "source": [
    "results_df = ['Mini Batch']\n",
    "\n",
    "df_mini, model = minibatch_alg(df, num_clusters=4)\n",
    "y_mini = df_mini['label']\n",
    "\n",
    "for metric in metrices:\n",
    "    print(f'{metric}: {metrices[metric](df, y_mini)}')\n",
    "    results_df.append(round(metrices[metric](df, y_mini), 3))\n",
    "\n",
    "df_mini_medians = raw_data.copy()\n",
    "df_mini_medians['label'] = y_mini\n",
    "print(medians_for_clusters(df_mini_medians))\n",
    "\n",
    "a = np.array(results_df)\n",
    "results = pd.concat([results, pd.DataFrame(a[None], columns=columns)], ignore_index=True)"
   ]
  },
  {
   "attachments": {},
   "cell_type": "markdown",
   "metadata": {
    "collapsed": false
   },
   "source": [
    "### Aglomerative clustering"
   ]
  },
  {
   "cell_type": "code",
   "execution_count": 266,
   "metadata": {
    "collapsed": false
   }
  },
  {
   "cell_type": "code",
   "execution_count": 8,
   "outputs": [
    {
     "name": "stdout",
     "output_type": "stream",
     "text": [
      "Number of clusters: 4\n",
      "Minimal distance between clusters: 1.4145219177518047\n",
      "Average distance between points in the same class: 1.3983463783617294\n",
      "Standard deviation of distance between points in the same class: 0.07846418170919425\n",
      "Silhouette score: 0.28933192733131985\n",
      "Calinski-Harabasz index: 50.14316823419271\n",
      "Davies Bouldin index: 1.3579874845603592\n",
      "        age  sex   cp  trestbps   chol  fbs  restecg  thalach  exang  oldpeak   \n",
      "label                                                                           \n",
      "0      58.0  1.0  4.0     130.0  246.5  0.0      2.0    143.0    1.0      1.1  \\\n",
      "1      59.0  1.0  1.0     145.0  234.0  0.0      2.0    162.0    0.0      1.2   \n",
      "2      53.5  1.0  3.0     130.0  237.5  0.0      0.0    157.0    0.0      0.4   \n",
      "3      52.0  1.0  2.0     128.0  235.0  0.0      0.0    164.0    0.0      0.0   \n",
      "\n",
      "       slope  \n",
      "label         \n",
      "0        2.0  \n",
      "1        2.0  \n",
      "2        1.0  \n",
      "3        1.0  \n",
      "Number of clusters: 4\n",
      "Minimal distance between clusters: 1.1509258571901217\n",
      "Average distance between points in the same class: 1.3957542715028493\n",
      "Standard deviation of distance between points in the same class: 0.0942405810381976\n",
      "Silhouette score: 0.280548286407441\n",
      "Calinski-Harabasz index: 48.50630847687404\n",
      "Davies Bouldin index: 1.388899303594627\n",
      "        age  sex   cp  trestbps   chol  fbs  restecg  thalach  exang  oldpeak   \n",
      "label                                                                           \n",
      "0      58.0  1.0  4.0     130.0  246.5  0.0      2.0    143.0    1.0      1.1  \\\n",
      "1      50.5  1.0  2.0     128.0  233.5  0.0      0.0    164.0    0.0      0.0   \n",
      "2      54.0  1.0  3.0     130.0  241.0  0.0      0.0    157.0    0.0      0.4   \n",
      "3      59.0  1.0  1.0     142.5  233.5  0.0      2.0    160.5    0.0      1.3   \n",
      "\n",
      "       slope  \n",
      "label         \n",
      "0        2.0  \n",
      "1        1.0  \n",
      "2        1.0  \n",
      "3        2.0  \n",
      "Number of clusters: 4\n",
      "Minimal distance between clusters: 1.4145219177518047\n",
      "Average distance between points in the same class: 1.3983463783617291\n",
      "Standard deviation of distance between points in the same class: 0.07846418170919425\n",
      "Silhouette score: 0.28933192733131985\n",
      "Calinski-Harabasz index: 50.14316823419271\n",
      "Davies Bouldin index: 1.3579874845603586\n",
      "        age  sex   cp  trestbps   chol  fbs  restecg  thalach  exang  oldpeak  \\\n",
      "label                                                                           \n",
      "0      58.0  1.0  4.0     130.0  246.5  0.0      2.0    143.0    1.0      1.1   \n",
      "1      53.5  1.0  3.0     130.0  237.5  0.0      0.0    157.0    0.0      0.4   \n",
      "2      59.0  1.0  1.0     145.0  234.0  0.0      2.0    162.0    0.0      1.2   \n",
      "3      52.0  1.0  2.0     128.0  235.0  0.0      0.0    164.0    0.0      0.0   \n",
      "\n",
      "       slope  \n",
      "label         \n",
      "0        2.0  \n",
      "1        1.0  \n",
      "2        2.0  \n",
      "3        1.0  \n",
      "Number of clusters: 4\n",
      "Minimal distance between clusters: 1.4145219177518047\n",
      "Average distance between points in the same class: 1.3983463783617294\n",
      "Standard deviation of distance between points in the same class: 0.07846418170919425\n",
      "Silhouette score: 0.28933192733131985\n",
      "Calinski-Harabasz index: 50.143168234192714\n",
      "Davies Bouldin index: 1.3579874845603592\n",
      "        age  sex   cp  trestbps   chol  fbs  restecg  thalach  exang  oldpeak   \n",
      "label                                                                           \n",
      "0      52.0  1.0  2.0     128.0  235.0  0.0      0.0    164.0    0.0      0.0  \\\n",
      "1      59.0  1.0  1.0     145.0  234.0  0.0      2.0    162.0    0.0      1.2   \n",
      "2      58.0  1.0  4.0     130.0  246.5  0.0      2.0    143.0    1.0      1.1   \n",
      "3      53.5  1.0  3.0     130.0  237.5  0.0      0.0    157.0    0.0      0.4   \n",
      "\n",
      "       slope  \n",
      "label         \n",
      "0        1.0  \n",
      "1        2.0  \n",
      "2        2.0  \n",
      "3        1.0  \n"
     ]
    }
   ],
   "source": [
    "linkages = ['complete', 'ward', 'average', 'single']\n",
    "for linkage in linkages:\n",
    "    method = f'Agl Clust: {linkage}'\n",
    "    results_df = [method]\n",
    "    df_aglinks, model = aglomerative_alg(df, num_clusters=4, linkage=linkage)\n",
    "    y_aglinks = df_aglinks['label']\n",
    "\n",
    "    for metric in metrices:\n",
    "        print(f'{metric}: {metrices[metric](df, y_aglinks)}')\n",
    "        results_df.append(round(metrices[metric](df, y_aglinks), 3))\n",
    "\n",
    "    df_aglinks_medians = raw_data.copy()\n",
    "    df_aglinks_medians['label'] = y_aglinks\n",
    "    print(medians_for_clusters(df_aglinks_medians))\n",
    "\n",
    "a = np.array(results_df)\n",
    "results = pd.concat([results, pd.DataFrame(a[None], columns=columns)], ignore_index=True)"
   ],
   "metadata": {
    "collapsed": false
   },
   "source": [
    "### DBSCAN"
   ]
  },
  {
   "cell_type": "code",
   "execution_count": 267,
   "metadata": {
    "collapsed": false
   }
  },
  {
   "cell_type": "code",
   "execution_count": 10,
   "outputs": [
    {
     "name": "stdout",
     "output_type": "stream",
     "text": [
      "Minimal distance between clusters: 0.5023288445684305\n",
      "Average distance between points in the same class: 0.541278533832273\n",
      "Standard deviation of distance between points in the same class: 0.34209161901336566\n",
      "Silhouette score: 0.023534480044998186\n",
      "Calinski-Harabasz index: 6.974848916524463\n",
      "Davies Bouldin index: 1.3605032129296093\n",
      "        age  sex   cp  trestbps   chol  fbs  restecg  thalach  exang  oldpeak  \\\n",
      "label                                                                           \n",
      "-1     59.0  1.0  3.0     134.5  233.0  0.0      0.0    152.0    0.0     1.00   \n",
      " 0     59.0  1.0  4.0     120.0  265.0  0.0      0.0    124.0    1.0     2.90   \n",
      " 1     53.0  0.0  4.0     102.0  264.0  0.0      2.0    122.0    0.0     0.60   \n",
      " 2     56.0  1.0  4.0     126.0  262.5  0.0      2.0    125.5    1.0     2.10   \n",
      " 3     50.5  1.0  3.0     139.0  233.5  0.0      2.0    169.0    0.0     0.80   \n",
      " 4     44.0  1.0  2.0     120.0  261.0  0.0      0.0    158.0    0.0     0.00   \n",
      " 5     54.0  1.0  2.0     130.0  232.0  0.0      2.0    170.0    0.0     0.00   \n",
      " 6     53.0  0.0  3.0     128.0  256.0  0.0      2.0    157.0    0.0     0.00   \n",
      " 7     64.0  0.0  3.0     152.0  275.0  0.0      0.0    148.0    0.0     0.20   \n",
      " 8     60.5  0.0  4.0     145.0  242.5  0.0      0.0    139.5    1.0     0.10   \n",
      " 9     57.0  1.0  4.0     132.0  253.0  0.0      0.0    162.0    1.0     0.00   \n",
      " 10    45.5  1.0  3.0     124.5  224.5  0.0      0.0    169.0    0.0     0.00   \n",
      " 11    45.5  1.0  4.0     117.5  254.5  0.0      2.0    174.0    0.0     0.00   \n",
      " 12    49.5  1.0  4.0     122.5  219.0  0.0      0.0    164.0    0.0     0.25   \n",
      " 13    62.0  1.0  3.0     134.0  241.5  0.0      2.0    148.5    0.0     0.60   \n",
      " 14    41.0  0.0  2.0     105.0  204.0  0.0      0.0    172.0    0.0     0.00   \n",
      " 15    56.0  0.0  2.0     135.0  250.0  0.0      2.0    161.0    0.0     1.30   \n",
      " 16    55.0  0.0  4.0     129.0  278.5  0.0      2.0    159.5    0.0     0.00   \n",
      " 17    43.5  0.0  3.0     120.0  217.0  0.0      0.0    155.0    0.0     0.25   \n",
      " 18    56.5  1.0  4.0     137.5  248.5  0.0      2.0    139.5    0.0     1.70   \n",
      "\n",
      "       slope  \n",
      "label         \n",
      "-1       2.0  \n",
      " 0       2.0  \n",
      " 1       2.0  \n",
      " 2       2.0  \n",
      " 3       1.0  \n",
      " 4       1.0  \n",
      " 5       1.0  \n",
      " 6       1.0  \n",
      " 7       1.0  \n",
      " 8       2.0  \n",
      " 9       1.0  \n",
      " 10      1.0  \n",
      " 11      1.0  \n",
      " 12      1.0  \n",
      " 13      2.0  \n",
      " 14      1.0  \n",
      " 15      2.0  \n",
      " 16      1.0  \n",
      " 17      2.0  \n",
      " 18      2.0  \n"
     ]
    }
   ],
   "source": [
    "results_df = ['DBSCAN']\n",
    "\n",
    "df_dbscan, model = dbscan(df, 'minmax')\n",
    "y_dbscan = df_dbscan['label']\n",
    "\n",
    "for metric in metrices:\n",
    "    print(f'{metric}: {metrices[metric](df, y_dbscan)}')\n",
    "    results_df.append(round(metrices[metric](df, y_dbscan), 3))\n",
    "\n",
    "df_dbscan_medians = raw_data.copy()\n",
    "df_dbscan_medians['label'] = y_dbscan\n",
    "print(medians_for_clusters(df_dbscan_medians))\n",
    "\n",
    "a = np.array(results_df)\n",
    "# results = pd.concat([results, pd.DataFrame(a[None], columns=columns)], ignore_index=True)"
   ]
  },
  {
   "cell_type": "code",
   "execution_count": 268,
   "metadata": {},
   "outputs": [
    {
     "data": {
      "text/html": [
       "<div>\n",
       "<style scoped>\n",
       "    .dataframe tbody tr th:only-of-type {\n",
       "        vertical-align: middle;\n",
       "    }\n",
       "\n",
       "    .dataframe tbody tr th {\n",
       "        vertical-align: top;\n",
       "    }\n",
       "\n",
       "    .dataframe thead th {\n",
       "        text-align: right;\n",
       "    }\n",
       "</style>\n",
       "<table border=\"1\" class=\"dataframe\">\n",
       "  <thead>\n",
       "    <tr style=\"text-align: right;\">\n",
       "      <th></th>\n",
       "      <th>age</th>\n",
       "      <th>sex</th>\n",
       "      <th>trestbps</th>\n",
       "      <th>chol</th>\n",
       "      <th>fbs</th>\n",
       "      <th>restecg</th>\n",
       "      <th>thalach</th>\n",
       "      <th>exang</th>\n",
       "      <th>oldpeak</th>\n",
       "      <th>slope</th>\n",
       "      <th>cp_typ_ang</th>\n",
       "      <th>cp_atyp_ang</th>\n",
       "      <th>cp_non_ang</th>\n",
       "      <th>cp_asympt</th>\n",
       "    </tr>\n",
       "  </thead>\n",
       "  <tbody>\n",
       "    <tr>\n",
       "      <th>0</th>\n",
       "      <td>0.720930</td>\n",
       "      <td>1.0</td>\n",
       "      <td>0.569579</td>\n",
       "      <td>0.617169</td>\n",
       "      <td>1.0</td>\n",
       "      <td>1.0</td>\n",
       "      <td>0.793103</td>\n",
       "      <td>0.0</td>\n",
       "      <td>0.350</td>\n",
       "      <td>0.5</td>\n",
       "      <td>1.0</td>\n",
       "      <td>0.0</td>\n",
       "      <td>0.0</td>\n",
       "      <td>0.0</td>\n",
       "    </tr>\n",
       "    <tr>\n",
       "      <th>1</th>\n",
       "      <td>0.651163</td>\n",
       "      <td>1.0</td>\n",
       "      <td>0.336570</td>\n",
       "      <td>0.547564</td>\n",
       "      <td>0.0</td>\n",
       "      <td>0.0</td>\n",
       "      <td>0.054187</td>\n",
       "      <td>1.0</td>\n",
       "      <td>0.450</td>\n",
       "      <td>0.5</td>\n",
       "      <td>0.0</td>\n",
       "      <td>0.0</td>\n",
       "      <td>0.0</td>\n",
       "      <td>1.0</td>\n",
       "    </tr>\n",
       "    <tr>\n",
       "      <th>2</th>\n",
       "      <td>0.534884</td>\n",
       "      <td>1.0</td>\n",
       "      <td>0.724919</td>\n",
       "      <td>0.088167</td>\n",
       "      <td>0.0</td>\n",
       "      <td>0.0</td>\n",
       "      <td>0.793103</td>\n",
       "      <td>0.0</td>\n",
       "      <td>0.400</td>\n",
       "      <td>0.0</td>\n",
       "      <td>0.0</td>\n",
       "      <td>0.0</td>\n",
       "      <td>1.0</td>\n",
       "      <td>0.0</td>\n",
       "    </tr>\n",
       "    <tr>\n",
       "      <th>3</th>\n",
       "      <td>0.534884</td>\n",
       "      <td>1.0</td>\n",
       "      <td>0.595469</td>\n",
       "      <td>0.199536</td>\n",
       "      <td>0.0</td>\n",
       "      <td>0.0</td>\n",
       "      <td>0.536946</td>\n",
       "      <td>0.0</td>\n",
       "      <td>0.100</td>\n",
       "      <td>0.5</td>\n",
       "      <td>0.0</td>\n",
       "      <td>0.0</td>\n",
       "      <td>0.0</td>\n",
       "      <td>1.0</td>\n",
       "    </tr>\n",
       "    <tr>\n",
       "      <th>4</th>\n",
       "      <td>0.558140</td>\n",
       "      <td>0.0</td>\n",
       "      <td>0.077670</td>\n",
       "      <td>0.459397</td>\n",
       "      <td>0.0</td>\n",
       "      <td>1.0</td>\n",
       "      <td>0.280788</td>\n",
       "      <td>0.0</td>\n",
       "      <td>0.250</td>\n",
       "      <td>0.5</td>\n",
       "      <td>0.0</td>\n",
       "      <td>0.0</td>\n",
       "      <td>0.0</td>\n",
       "      <td>1.0</td>\n",
       "    </tr>\n",
       "    <tr>\n",
       "      <th>...</th>\n",
       "      <td>...</td>\n",
       "      <td>...</td>\n",
       "      <td>...</td>\n",
       "      <td>...</td>\n",
       "      <td>...</td>\n",
       "      <td>...</td>\n",
       "      <td>...</td>\n",
       "      <td>...</td>\n",
       "      <td>...</td>\n",
       "      <td>...</td>\n",
       "      <td>...</td>\n",
       "      <td>...</td>\n",
       "      <td>...</td>\n",
       "      <td>...</td>\n",
       "    </tr>\n",
       "    <tr>\n",
       "      <th>207</th>\n",
       "      <td>0.465116</td>\n",
       "      <td>1.0</td>\n",
       "      <td>1.000000</td>\n",
       "      <td>0.621810</td>\n",
       "      <td>0.0</td>\n",
       "      <td>1.0</td>\n",
       "      <td>1.000000</td>\n",
       "      <td>0.0</td>\n",
       "      <td>0.000</td>\n",
       "      <td>0.0</td>\n",
       "      <td>0.0</td>\n",
       "      <td>1.0</td>\n",
       "      <td>0.0</td>\n",
       "      <td>0.0</td>\n",
       "    </tr>\n",
       "    <tr>\n",
       "      <th>208</th>\n",
       "      <td>0.767442</td>\n",
       "      <td>1.0</td>\n",
       "      <td>0.401294</td>\n",
       "      <td>0.487239</td>\n",
       "      <td>1.0</td>\n",
       "      <td>0.0</td>\n",
       "      <td>0.684729</td>\n",
       "      <td>0.0</td>\n",
       "      <td>0.050</td>\n",
       "      <td>0.5</td>\n",
       "      <td>0.0</td>\n",
       "      <td>0.0</td>\n",
       "      <td>0.0</td>\n",
       "      <td>1.0</td>\n",
       "    </tr>\n",
       "    <tr>\n",
       "      <th>209</th>\n",
       "      <td>0.581395</td>\n",
       "      <td>1.0</td>\n",
       "      <td>0.595469</td>\n",
       "      <td>0.129930</td>\n",
       "      <td>0.0</td>\n",
       "      <td>0.0</td>\n",
       "      <td>0.674877</td>\n",
       "      <td>1.0</td>\n",
       "      <td>0.000</td>\n",
       "      <td>0.0</td>\n",
       "      <td>0.0</td>\n",
       "      <td>0.0</td>\n",
       "      <td>0.0</td>\n",
       "      <td>1.0</td>\n",
       "    </tr>\n",
       "    <tr>\n",
       "      <th>210</th>\n",
       "      <td>0.627907</td>\n",
       "      <td>1.0</td>\n",
       "      <td>0.595469</td>\n",
       "      <td>0.269142</td>\n",
       "      <td>0.0</td>\n",
       "      <td>1.0</td>\n",
       "      <td>0.438424</td>\n",
       "      <td>1.0</td>\n",
       "      <td>0.475</td>\n",
       "      <td>0.0</td>\n",
       "      <td>0.0</td>\n",
       "      <td>0.0</td>\n",
       "      <td>0.0</td>\n",
       "      <td>1.0</td>\n",
       "    </tr>\n",
       "    <tr>\n",
       "      <th>211</th>\n",
       "      <td>0.534884</td>\n",
       "      <td>0.0</td>\n",
       "      <td>0.440129</td>\n",
       "      <td>0.714617</td>\n",
       "      <td>0.0</td>\n",
       "      <td>1.0</td>\n",
       "      <td>0.645320</td>\n",
       "      <td>0.0</td>\n",
       "      <td>0.000</td>\n",
       "      <td>0.0</td>\n",
       "      <td>0.0</td>\n",
       "      <td>0.0</td>\n",
       "      <td>0.0</td>\n",
       "      <td>1.0</td>\n",
       "    </tr>\n",
       "  </tbody>\n",
       "</table>\n",
       "<p>212 rows × 14 columns</p>\n",
       "</div>"
      ],
      "text/plain": [
       "          age  sex  trestbps      chol  fbs  restecg   thalach  exang  \\\n",
       "0    0.720930  1.0  0.569579  0.617169  1.0      1.0  0.793103    0.0   \n",
       "1    0.651163  1.0  0.336570  0.547564  0.0      0.0  0.054187    1.0   \n",
       "2    0.534884  1.0  0.724919  0.088167  0.0      0.0  0.793103    0.0   \n",
       "3    0.534884  1.0  0.595469  0.199536  0.0      0.0  0.536946    0.0   \n",
       "4    0.558140  0.0  0.077670  0.459397  0.0      1.0  0.280788    0.0   \n",
       "..        ...  ...       ...       ...  ...      ...       ...    ...   \n",
       "207  0.465116  1.0  1.000000  0.621810  0.0      1.0  1.000000    0.0   \n",
       "208  0.767442  1.0  0.401294  0.487239  1.0      0.0  0.684729    0.0   \n",
       "209  0.581395  1.0  0.595469  0.129930  0.0      0.0  0.674877    1.0   \n",
       "210  0.627907  1.0  0.595469  0.269142  0.0      1.0  0.438424    1.0   \n",
       "211  0.534884  0.0  0.440129  0.714617  0.0      1.0  0.645320    0.0   \n",
       "\n",
       "     oldpeak  slope  cp_typ_ang  cp_atyp_ang  cp_non_ang  cp_asympt  \n",
       "0      0.350    0.5         1.0          0.0         0.0        0.0  \n",
       "1      0.450    0.5         0.0          0.0         0.0        1.0  \n",
       "2      0.400    0.0         0.0          0.0         1.0        0.0  \n",
       "3      0.100    0.5         0.0          0.0         0.0        1.0  \n",
       "4      0.250    0.5         0.0          0.0         0.0        1.0  \n",
       "..       ...    ...         ...          ...         ...        ...  \n",
       "207    0.000    0.0         0.0          1.0         0.0        0.0  \n",
       "208    0.050    0.5         0.0          0.0         0.0        1.0  \n",
       "209    0.000    0.0         0.0          0.0         0.0        1.0  \n",
       "210    0.475    0.0         0.0          0.0         0.0        1.0  \n",
       "211    0.000    0.0         0.0          0.0         0.0        1.0  \n",
       "\n",
       "[212 rows x 14 columns]"
      ]
     },
     "execution_count": 268,
     "metadata": {},
     "output_type": "execute_result"
    }
   ],
   "source": [
    "df"
   ]
  },
  {
   "attachments": {},
   "cell_type": "markdown",
   "metadata": {
    "collapsed": false
   },
   "source": [
    "### GMM"
   ]
  },
  {
   "cell_type": "code",
   "execution_count": 269,
   "metadata": {
    "collapsed": false
   }
  },
  {
   "cell_type": "code",
   "execution_count": 11,
   "outputs": [
    {
     "name": "stdout",
     "output_type": "stream",
     "text": [
      "Minimal distance between clusters: 1.0278393875244871\n",
      "Average distance between points in the same class: 1.4009909735560893\n",
      "Standard deviation of distance between points in the same class: 0.12012748111101124\n",
      "Silhouette score: 0.23954715824655798\n",
      "Calinski-Harabasz index: 49.28175280413726\n",
      "Davies Bouldin index: 1.7463744922608242\n",
      "        age  sex   cp  trestbps   chol  fbs  restecg  thalach  exang  oldpeak   \n",
      "label                                                                           \n",
      "0      53.5  1.0  3.0     130.0  237.5  0.0      0.0    157.0    0.0     0.40  \\\n",
      "1      59.0  1.0  4.0     130.0  240.0  0.0      2.0    154.0    0.0     1.00   \n",
      "2      57.5  1.0  4.0     132.0  247.5  0.0      2.0    140.0    1.0     1.55   \n",
      "3      52.0  1.0  2.0     128.0  235.0  0.0      0.0    164.0    0.0     0.00   \n",
      "\n",
      "       slope  \n",
      "label         \n",
      "0        1.0  \n",
      "1        2.0  \n",
      "2        2.0  \n",
      "3        1.0  \n"
     ]
    }
   ],
   "source": [
    "results_df = ['GMM']\n",
    "\n",
    "df_gmm, model = gmm_alg(df, n_components=4)\n",
    "y_gmm = df_gmm['label']\n",
    "\n",
    "for metric in metrices:\n",
    "    print(f'{metric}: {metrices[metric](df, y_gmm)}')\n",
    "    results_df.append(round(metrices[metric](df, y_gmm), 3))\n",
    "\n",
    "df_gmm_medians = raw_data.copy()\n",
    "df_gmm_medians['label'] = y_gmm\n",
    "print(medians_for_clusters(df_gmm_medians))\n",
    "\n",
    "a = np.array(results_df)\n",
    "results = pd.concat([results, pd.DataFrame(a[None], columns=columns)], ignore_index=True)"
   ]
  },
  {
   "cell_type": "code",
   "execution_count": 270,
   "metadata": {},
   "outputs": [
    {
     "name": "stdout",
     "output_type": "stream",
     "text": [
      "Minimal distance between clusters: 1.039150425450418\n",
      "Average distance between points in the same class: 1.387038953858048\n",
      "Standard deviation of distance between points in the same class: 0.08881290366723898\n",
      "Silhouette score: 0.27866864332529495\n",
      "Calinski-Harabasz index: 48.11995116234483\n",
      "Davies Bouldin index: 1.3674831790809647\n"
     ]
    }
   ],
   "source": [
    "from sklearn.cluster import SpectralClustering\n",
    "\n",
    "sc = SpectralClustering(n_clusters=4)\n",
    "y_sc = sc.fit_predict(df_hier)\n",
    "for metric in metrices:\n",
    "    print(f'{metric}: {metrices[metric](df, y_sc)}')"
   ]
  },
  {
   "cell_type": "code",
   "execution_count": 271,
   "metadata": {
    "collapsed": false
   }
  },
  {
   "cell_type": "code",
   "execution_count": 65,
   "outputs": [
    {
     "data": {
      "text/html": [
       "<div>\n",
       "<style scoped>\n",
       "    .dataframe tbody tr th:only-of-type {\n",
       "        vertical-align: middle;\n",
       "    }\n",
       "\n",
       "    .dataframe tbody tr th {\n",
       "        vertical-align: top;\n",
       "    }\n",
       "\n",
       "    .dataframe thead th {\n",
       "        text-align: right;\n",
       "    }\n",
       "</style>\n",
       "<table border=\"1\" class=\"dataframe\">\n",
       "  <thead>\n",
       "    <tr style=\"text-align: right;\">\n",
       "      <th></th>\n",
       "      <th>method</th>\n",
       "      <th>min dist btw cl</th>\n",
       "      <th>avg dist in cl</th>\n",
       "      <th>std dev dist in cl</th>\n",
       "      <th>silhouette</th>\n",
       "      <th>cal-har</th>\n",
       "      <th>dav-bou</th>\n",
       "    </tr>\n",
       "  </thead>\n",
       "  <tbody>\n",
       "    <tr>\n",
       "      <th>0</th>\n",
       "      <td>Kmeans</td>\n",
       "      <td>1.415</td>\n",
       "      <td>1.398</td>\n",
       "      <td>0.078</td>\n",
       "      <td>0.289</td>\n",
       "      <td>50.143</td>\n",
       "      <td>1.358</td>\n",
       "    </tr>\n",
       "    <tr>\n",
       "      <th>1</th>\n",
       "      <td>Mini Batch</td>\n",
       "      <td>1.024</td>\n",
       "      <td>1.383</td>\n",
       "      <td>0.157</td>\n",
       "      <td>0.214</td>\n",
       "      <td>46.549</td>\n",
       "      <td>1.71</td>\n",
       "    </tr>\n",
       "    <tr>\n",
       "      <th>2</th>\n",
       "      <td>Agl Clust</td>\n",
       "      <td>1.415</td>\n",
       "      <td>1.398</td>\n",
       "      <td>0.078</td>\n",
       "      <td>0.289</td>\n",
       "      <td>50.143</td>\n",
       "      <td>1.358</td>\n",
       "    </tr>\n",
       "    <tr>\n",
       "      <th>3</th>\n",
       "      <td>GMM</td>\n",
       "      <td>1.028</td>\n",
       "      <td>1.439</td>\n",
       "      <td>0.07</td>\n",
       "      <td>0.221</td>\n",
       "      <td>45.526</td>\n",
       "      <td>1.841</td>\n",
       "    </tr>\n",
       "  </tbody>\n",
       "</table>\n",
       "</div>"
      ],
      "text/plain": [
       "       method min dist btw cl avg dist in cl std dev dist in cl silhouette  \\\n",
       "0      Kmeans           1.415          1.398              0.078      0.289   \n",
       "1  Mini Batch           1.024          1.383              0.157      0.214   \n",
       "2   Agl Clust           1.415          1.398              0.078      0.289   \n",
       "3         GMM           1.028          1.439               0.07      0.221   \n",
       "\n",
       "  cal-har dav-bou  \n",
       "0  50.143   1.358  \n",
       "1  46.549    1.71  \n",
       "2  50.143   1.358  \n",
       "3  45.526   1.841  "
      ]
     },
     "execution_count": 65,
     "metadata": {},
     "output_type": "execute_result"
    }
   ],
   "source": [
    "results"
   ]
  },
  {
   "attachments": {},
   "cell_type": "markdown",
   "metadata": {},
   "source": [
    "Hierarchical clustering with kmeans"
   ]
  },
  {
   "attachments": {},
   "cell_type": "markdown",
   "metadata": {},
   "source": [
    "Standard hierarchical clustering"
   ]
  },
  {
   "cell_type": "code",
   "execution_count": 272,
   "metadata": {},
   "outputs": [
    {
     "name": "stdout",
     "output_type": "stream",
     "text": [
      "╒══════════════════╤═══════════════════╤══════════════════╤══════════════════════╤══════════════╤═══════════╤═══════════╕\n",
      "│ Linkage Method   │   min dist btw cl │   avg dist in cl │   std dev dist in cl │   silhouette │   cal-har │   dav-bou │\n",
      "╞══════════════════╪═══════════════════╪══════════════════╪══════════════════════╪══════════════╪═══════════╪═══════════╡\n",
      "│ single           │           1.38479 │          1.32463 │            0.0786854 │     0.311868 │   54.8556 │   1.29606 │\n",
      "├──────────────────┼───────────────────┼──────────────────┼──────────────────────┼──────────────┼───────────┼───────────┤\n",
      "│ complete         │           1.38479 │          1.32463 │            0.0786854 │     0.311868 │   54.8556 │   1.29606 │\n",
      "├──────────────────┼───────────────────┼──────────────────┼──────────────────────┼──────────────┼───────────┼───────────┤\n",
      "│ average          │           1.38479 │          1.32463 │            0.0786854 │     0.311868 │   54.8556 │   1.29606 │\n",
      "├──────────────────┼───────────────────┼──────────────────┼──────────────────────┼──────────────┼───────────┼───────────┤\n",
      "│ ward             │           1.06515 │          1.32165 │            0.0956674 │     0.302839 │   52.9987 │   1.32639 │\n",
      "╘══════════════════╧═══════════════════╧══════════════════╧══════════════════════╧══════════════╧═══════════╧═══════════╛\n"
     ]
    }
   ],
   "source": [
    "from scipy.cluster.hierarchy import fcluster\n",
    "from tabulate import tabulate\n",
    "\n",
    "data = df.to_numpy()\n",
    "\n",
    "k = 4\n",
    "linkage_methods = ['single', 'complete', 'average', 'ward']\n",
    "columns=['min dist btw cl', 'avg dist in cl', 'std dev dist in cl', 'silhouette', 'cal-har', 'dav-bou']\n",
    "\n",
    "results = []\n",
    "for method in linkage_methods:\n",
    "    Z = linkage(data, method=method)\n",
    "    labels = fcluster(Z, k, criterion='maxclust')\n",
    "\n",
    "    row = [method]\n",
    "    for metric in metrices:\n",
    "        value = metrices[metric](df_hier, labels)\n",
    "        row.append(value)\n",
    "    results.append(row)\n",
    "\n",
    "headers = ['Linkage Method'] + list(columns)\n",
    "print(tabulate(results, headers=headers, tablefmt='fancy_grid'))"
   ]
  },
  {
   "attachments": {},
   "cell_type": "markdown",
   "metadata": {},
   "source": [
    "Dendogram"
   ]
  },
  {
   "cell_type": "code",
   "execution_count": 273,
   "metadata": {},
   "outputs": [
    {
     "data": {
      "image/png": "[encoded data removed]",
      "text/plain": [
       "<Figure size 720x432 with 1 Axes>"
      ]
     },
     "metadata": {
      "needs_background": "light"
     },
     "output_type": "display_data"
    }
   ],
   "source": [
    "import numpy as np\n",
    "from scipy.cluster.hierarchy import dendrogram, linkage\n",
    "import matplotlib.pyplot as plt\n",
    "\n",
    "data = df.to_numpy()\n",
    "\n",
    "Z = linkage(data, method='complete')\n",
    "\n",
    "plt.figure(figsize=(10, 6))\n",
    "dendrogram(Z)\n",
    "plt.xlabel('Data Points')\n",
    "plt.ylabel('Distance')\n",
    "plt.title('Hierarchical Clustering Dendrogram')\n",
    "plt.show()"
   ]
  },
  {
   "attachments": {},
   "cell_type": "markdown",
   "metadata": {},
   "source": [
    "Hybrid with Kmeans"
   ]
  },
  {
   "cell_type": "code",
   "execution_count": 274,
   "metadata": {},
   "outputs": [],
   "source": [
    "from sklearn.cluster import AgglomerativeClustering, KMeans\n",
    "from sklearn.metrics import pairwise_distances_argmin_min\n",
    "\n",
    "k=4\n",
    "agg_cluster = AgglomerativeClustering(n_clusters=k, linkage='single')\n",
    "agg_labels = agg_cluster.fit_predict(df)\n",
    "\n",
    "# Compute the center of each cluster\n",
    "cluster_centers = []\n",
    "for cluster in range(k):\n",
    "    cluster_data = df[agg_labels == cluster]\n",
    "    cluster_center = cluster_data.mean(axis=0)\n",
    "    cluster_centers.append(cluster_center)\n",
    "\n",
    "# Convert the cluster centers to a numpy array\n",
    "cluster_centers = np.array(cluster_centers)\n",
    "\n",
    "# Perform k-means clustering using the cluster centers as initial centers\n",
    "kmeans = KMeans(n_clusters=k, init=cluster_centers, n_init=1)\n",
    "kmeans_labels = kmeans.fit_predict(df)\n",
    "kmeans_cluster_centers = kmeans.cluster_centers_"
   ]
  },
  {
   "attachments": {},
   "cell_type": "markdown",
   "metadata": {},
   "source": [
    "It did not help, nothing has changed"
   ]
  },
  {
   "cell_type": "code",
   "execution_count": 275,
   "metadata": {},
   "outputs": [
    {
     "name": "stdout",
     "output_type": "stream",
     "text": [
      "Minimal distance between clusters: 1.4145219177518047\n",
      "Average distance between points in the same class: 1.3983463783617294\n",
      "Standard deviation of distance between points in the same class: 0.07846418170919425\n",
      "Silhouette score: 0.28933192733131985\n",
      "Calinski-Harabasz index: 50.143168234192714\n",
      "Davies Bouldin index: 1.3579874845603586\n"
     ]
    }
   ],
   "source": [
    "for metric in metrices:\n",
    "    print(f'{metric}: {metrices[metric](df, kmeans_labels)}')"
   ]
  },
  {
   "cell_type": "code",
   "execution_count": 276,
   "metadata": {},
   "outputs": [],
   "source": [
    "k=4\n",
    "agg_cluster = AgglomerativeClustering(n_clusters=k, linkage='single')\n",
    "agg_labels = agg_cluster.fit_predict(df)"
   ]
  },
  {
   "attachments": {},
   "cell_type": "markdown",
   "metadata": {},
   "source": [
    "changing labels in dbscan to positive labels"
   ]
  },
  {
   "cell_type": "code",
   "execution_count": 277,
   "metadata": {},
   "outputs": [],
   "source": [
    "unique_labels = np.unique(y_dbscan)\n",
    "if -1 in unique_labels:\n",
    "    # Remove the outliers from the clustering results\n",
    "    y_dbscan[y_dbscan == -1] = np.max(unique_labels) + 1"
   ]
  },
  {
   "attachments": {},
   "cell_type": "markdown",
   "metadata": {},
   "source": [
    "Majority Voting"
   ]
  },
  {
   "cell_type": "code",
   "execution_count": 278,
   "metadata": {},
   "outputs": [],
   "source": [
    "def majority_voting(*labels):\n",
    "    stacked_labels = np.vstack(labels)\n",
    "    majority_vote = np.apply_along_axis(lambda x: np.bincount(x).argmax(), axis=0, arr=stacked_labels)\n",
    "    return majority_vote"
   ]
  },
  {
   "attachments": {},
   "cell_type": "markdown",
   "metadata": {},
   "source": [
    "For all subgroups"
   ]
  },
  {
   "cell_type": "code",
   "execution_count": 279,
   "metadata": {},
   "outputs": [],
   "source": [
    "methods_list = [y_mini, y_gmm, y_dbscan, y_kmeans, agg_labels, y_sc]\n",
    "methods_list_names = ['y_mini', 'y_gmm', 'y_dbscan', 'y_kmeans', 'agg_labels', 'y_sc']"
   ]
  },
  {
   "cell_type": "code",
   "execution_count": 280,
   "metadata": {},
   "outputs": [],
   "source": [
    "from itertools import combinations\n",
    "\n",
    "def get_subgroups(lst):\n",
    "    subgroups = []\n",
    "    n = len(lst)\n",
    "    for group_size in range(1, n + 1):\n",
    "        for subgroup in combinations(lst, group_size):\n",
    "            subgroups.append(list(subgroup))\n",
    "    return subgroups"
   ]
  },
  {
   "cell_type": "code",
   "execution_count": 281,
   "metadata": {},
   "outputs": [],
   "source": [
    "subgroups = get_subgroups(methods_list)\n",
    "subgroups_names = get_subgroups(methods_list_names)"
   ]
  },
  {
   "cell_type": "code",
   "execution_count": 282,
   "metadata": {},
   "outputs": [],
   "source": [
    "table = np.zeros((len(subgroups), 6))\n",
    "\n",
    "for i in range(len(subgroups)):\n",
    "    y_maj_vote = majority_voting(subgroups[i])\n",
    "    for index, key in enumerate(metrices):\n",
    "        metric = metrices[key]\n",
    "        val = round(metrices[key](df, y_maj_vote), 4)\n",
    "        table[i, index] = val\n",
    "        # print(f'{key}: {metrices[key](df, y_maj_vote)}')\n"
   ]
  },
  {
   "attachments": {},
   "cell_type": "markdown",
   "metadata": {},
   "source": [
    "Printing dataframe already filtered so we only get good results"
   ]
  },
  {
   "cell_type": "code",
   "execution_count": 283,
   "metadata": {},
   "outputs": [
    {
     "data": {
      "text/html": [
       "<div>\n",
       "<style scoped>\n",
       "    .dataframe tbody tr th:only-of-type {\n",
       "        vertical-align: middle;\n",
       "    }\n",
       "\n",
       "    .dataframe tbody tr th {\n",
       "        vertical-align: top;\n",
       "    }\n",
       "\n",
       "    .dataframe thead th {\n",
       "        text-align: right;\n",
       "    }\n",
       "</style>\n",
       "<table border=\"1\" class=\"dataframe\">\n",
       "  <thead>\n",
       "    <tr style=\"text-align: right;\">\n",
       "      <th></th>\n",
       "      <th>subgroups</th>\n",
       "      <th>min dist btw cl</th>\n",
       "      <th>avg dist in cl</th>\n",
       "      <th>std dev dist in cl</th>\n",
       "      <th>silhouette</th>\n",
       "      <th>cal-har</th>\n",
       "      <th>dav-bou</th>\n",
       "    </tr>\n",
       "  </thead>\n",
       "  <tbody>\n",
       "    <tr>\n",
       "      <th>0</th>\n",
       "      <td>[y_mini]</td>\n",
       "      <td>1.0236</td>\n",
       "      <td>1.3826</td>\n",
       "      <td>0.1568</td>\n",
       "      <td>0.2135</td>\n",
       "      <td>46.5487</td>\n",
       "      <td>1.7105</td>\n",
       "    </tr>\n",
       "    <tr>\n",
       "      <th>3</th>\n",
       "      <td>[y_kmeans]</td>\n",
       "      <td>1.4145</td>\n",
       "      <td>1.3983</td>\n",
       "      <td>0.0785</td>\n",
       "      <td>0.2893</td>\n",
       "      <td>50.1432</td>\n",
       "      <td>1.3580</td>\n",
       "    </tr>\n",
       "    <tr>\n",
       "      <th>4</th>\n",
       "      <td>[agg_labels]</td>\n",
       "      <td>1.4145</td>\n",
       "      <td>1.3983</td>\n",
       "      <td>0.0785</td>\n",
       "      <td>0.2893</td>\n",
       "      <td>50.1432</td>\n",
       "      <td>1.3580</td>\n",
       "    </tr>\n",
       "    <tr>\n",
       "      <th>5</th>\n",
       "      <td>[y_sc]</td>\n",
       "      <td>1.0392</td>\n",
       "      <td>1.3870</td>\n",
       "      <td>0.0888</td>\n",
       "      <td>0.2787</td>\n",
       "      <td>48.1200</td>\n",
       "      <td>1.3675</td>\n",
       "    </tr>\n",
       "    <tr>\n",
       "      <th>19</th>\n",
       "      <td>[y_kmeans, y_sc]</td>\n",
       "      <td>1.0392</td>\n",
       "      <td>1.3765</td>\n",
       "      <td>0.3812</td>\n",
       "      <td>0.1698</td>\n",
       "      <td>30.4633</td>\n",
       "      <td>1.5680</td>\n",
       "    </tr>\n",
       "    <tr>\n",
       "      <th>35</th>\n",
       "      <td>[y_gmm, y_kmeans, y_sc]</td>\n",
       "      <td>1.0278</td>\n",
       "      <td>1.3549</td>\n",
       "      <td>0.3973</td>\n",
       "      <td>0.1242</td>\n",
       "      <td>22.2538</td>\n",
       "      <td>1.6167</td>\n",
       "    </tr>\n",
       "    <tr>\n",
       "      <th>40</th>\n",
       "      <td>[y_kmeans, agg_labels, y_sc]</td>\n",
       "      <td>1.0392</td>\n",
       "      <td>1.3765</td>\n",
       "      <td>0.3812</td>\n",
       "      <td>0.1698</td>\n",
       "      <td>30.4633</td>\n",
       "      <td>1.5680</td>\n",
       "    </tr>\n",
       "    <tr>\n",
       "      <th>45</th>\n",
       "      <td>[y_mini, y_gmm, y_kmeans, y_sc]</td>\n",
       "      <td>1.0236</td>\n",
       "      <td>1.2500</td>\n",
       "      <td>0.3781</td>\n",
       "      <td>0.0793</td>\n",
       "      <td>15.5240</td>\n",
       "      <td>1.5218</td>\n",
       "    </tr>\n",
       "  </tbody>\n",
       "</table>\n",
       "</div>"
      ],
      "text/plain": [
       "                          subgroups  min dist btw cl  avg dist in cl  \\\n",
       "0                          [y_mini]           1.0236          1.3826   \n",
       "3                        [y_kmeans]           1.4145          1.3983   \n",
       "4                      [agg_labels]           1.4145          1.3983   \n",
       "5                            [y_sc]           1.0392          1.3870   \n",
       "19                 [y_kmeans, y_sc]           1.0392          1.3765   \n",
       "35          [y_gmm, y_kmeans, y_sc]           1.0278          1.3549   \n",
       "40     [y_kmeans, agg_labels, y_sc]           1.0392          1.3765   \n",
       "45  [y_mini, y_gmm, y_kmeans, y_sc]           1.0236          1.2500   \n",
       "\n",
       "    std dev dist in cl  silhouette  cal-har  dav-bou  \n",
       "0               0.1568      0.2135  46.5487   1.7105  \n",
       "3               0.0785      0.2893  50.1432   1.3580  \n",
       "4               0.0785      0.2893  50.1432   1.3580  \n",
       "5               0.0888      0.2787  48.1200   1.3675  \n",
       "19              0.3812      0.1698  30.4633   1.5680  \n",
       "35              0.3973      0.1242  22.2538   1.6167  \n",
       "40              0.3812      0.1698  30.4633   1.5680  \n",
       "45              0.3781      0.0793  15.5240   1.5218  "
      ]
     },
     "execution_count": 283,
     "metadata": {},
     "output_type": "execute_result"
    }
   ],
   "source": [
    "column_names=['min dist btw cl', 'avg dist in cl', 'std dev dist in cl', 'silhouette', 'cal-har', 'dav-bou']\n",
    "\n",
    "table_df = pd.DataFrame(table, columns=column_names)\n",
    "table_df[\"subgroups\"] = subgroups_names\n",
    "column_names = table_df.columns.tolist()\n",
    "last_column = column_names[-1]\n",
    "column_names.remove(last_column)\n",
    "new_column_order = [last_column] + column_names\n",
    "table_df = table_df[new_column_order]\n",
    "table_df = table_df[(table_df['min dist btw cl'] > 1) & (table_df['avg dist in cl'] < 1.4)]\n",
    "table_df\n"
   ]
  },
  {
   "cell_type": "code",
   "execution_count": 287,
   "metadata": {},
   "outputs": [],
   "source": [
    "mv_final = majority_voting(y_gmm, y_kmeans, y_mini, y_sc)"
   ]
  },
  {
   "cell_type": "code",
   "execution_count": 288,
   "metadata": {},
   "outputs": [
    {
     "name": "stdout",
     "output_type": "stream",
     "text": [
      "        age  sex   cp  trestbps   chol  fbs  restecg  thalach  exang  oldpeak  \\\n",
      "label                                                                           \n",
      "0      54.0  1.0  3.0     130.0  240.0  0.0      0.0    157.0    0.0     0.40   \n",
      "1      59.0  1.0  1.0     148.0  244.0  0.0      2.0    159.0    0.0     1.20   \n",
      "2      58.0  1.0  4.0     132.0  251.0  0.0      2.0    131.5    1.0     1.65   \n",
      "3      39.0  1.0  1.0     130.0  215.0  0.0      0.0    180.0    1.0     2.60   \n",
      "\n",
      "       slope  \n",
      "label         \n",
      "0        1.0  \n",
      "1        2.0  \n",
      "2        2.0  \n",
      "3        1.5  \n"
     ]
    }
   ],
   "source": [
    "df_mv_final_medians = raw_data.copy()\n",
    "df_mv_final_medians['label'] = mv_final\n",
    "print(medians_for_clusters(df_mv_final_medians))"
   ]
  }
 ],
 "metadata": {
  "kernelspec": {
   "display_name": "Python 3 (ipykernel)",
   "language": "python",
   "name": "python3"
  },
  "language_info": {
   "codemirror_mode": {
    "name": "ipython",
    "version": 3
   },
   "file_extension": ".py",
   "mimetype": "text/x-python",
   "name": "python",
   "nbconvert_exporter": "python",
   "pygments_lexer": "ipython3",
   "version": "3.9.7"
  }
 },
 "nbformat": 4,
 "nbformat_minor": 2
}
